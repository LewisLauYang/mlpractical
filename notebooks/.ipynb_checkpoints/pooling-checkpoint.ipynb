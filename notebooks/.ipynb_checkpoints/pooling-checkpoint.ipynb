{
 "cells": [
  {
   "cell_type": "markdown",
   "metadata": {},
   "source": [
    "# Coursework 2 - PyTorch based experiment framework\n",
    "\n",
    "## Intro\n",
    "Welcome to the coursework 2 PyTorch experiment framework. Pytorch is a  modern, intuitive, highly Pythonic and very fast framework for building differentiable graphs. Neural networks, as it happens, are a type of acyclic differentiable graph, so PyTorch is a great framework to use, if you want to build  complicated deep networks fairly easily.\n",
    "\n",
    "## MLP package vs Pytorch\n",
    "**Student**: So, why do I have to learn to use PyTorch now? I've spent all this time working on the MLP framework. Was that a waste of time?\n",
    "\n",
    "**TA**: Well, Pytorch is everything the MLP package is, but faster, cleaner and far more resourceful. Since it is one of the main deep learning frameworks being used by industry and research alike, it has been fine-tuned quite a bit, to conform to the expectation of researchers and engineers alike. What this means, is that PyTorch is now a very robust and highly flexible package, that you can use for any project you want to work on in the future, if it involves trainining differentiable graphs. \n",
    "\n",
    "In addition, MLP is written in NumPy and your time working on it has taught some low level details of NNs; PyTorch was written to look as much as possible to NumPy, so it will feel very familiar to you. The skills you have acquired are highly transferable (that is, they generalize well, so not much overfitting there...). \n",
    "\n",
    "PyTorch will almost always have all the latest and greatest implemented in it as soon as they are released as papers, and if not, give it a week or two and someone will reproduce it. If you can't wait, you can reproduce it yourself and open source it. A great way to show your skills and get github likes. \n",
    "\n",
    "In addition PyTorch has Autograd! Automatic differentiation (previously mentioned in [lectures](http://www.inf.ed.ac.uk/teaching/courses/mlp/2018-19/mlp05-learn.pdf)). \"What is this?\" you may ask. Remember having to write all those backprop functions? Forget about it. Automatic differentiation allows you to backprop through any PyTorch operation you have used in your graph, by simply calling backward(). This [blog-post](https://jdhao.github.io/2017/11/12/pytorch-computation-graph/) explains how Pytorch's autograd works at an intuitive level.\n",
    "\n",
    "**Student**: Why did we even have to use the MLP package? We did we even bother if such awesome frameworks are available?\n",
    "\n",
    "**TA**: The purpose of the MLP package was not to allow you to build fast deep learning systems. Instead, it was to help teach you the low level mechanics and sensitivities of building a deep learning system. It allowed you to delve deep into how one can go about building a deep learning framework from scratch. The intuitions you have gained from going through your assignments and courseworks allow you to see deeper in what makes or breaks a deep learning system, at a level few people actually have. You are no longer restricted to the higher level modules provided by Pytorch/TensorFlow. \n",
    "\n",
    "If, for example, a new project required you to build something that does not exist in PyTorch/TensorFlow, or otherwise modify existing modules in a way that requires understanding and intuitions on backpropagation and layer/optimizer/component implementation, you would be able to do it much more easily than others who did not. You are now equipped to understand differentiable graphs, the chain rule, numerical errors, debugging at the lowest level and deep learning system architecture. \n",
    "\n",
    "In addition, by trying to implement your modules in an efficient way, you have also become aware of how to optimize a system for efficiency, and gave you intuitions on how one could further improve such a system (parallelization of implementations). \n",
    "\n",
    "Finally, the slowness of CPU training has allowed you to understand just how important modern GPU acceleration is, for deep learning research and applications. By coming across a large breadth of problems and understanding their origins, you will now be able to both anticipate and solve future problems in a more comprehensive way than someone who did not go through the trouble of implementing the basics from scratch. \n",
    "\n",
    "**Student**: If we are switching to Pytorch, then why bother implementing convolutions in the MLP package for the coursework?\n",
    "\n",
    "**TA**: All your instructors, myself included, have found it greatly beneficial to implement convolutional networks from scratch. Once you implement convolutional layers, you will have a much deeper insight and understanding into how and why they work... as well as how they break. This way, you know what to do and what to avoid in the future. You might even be able to come with the next great network type yourself. \n",
    "\n",
    "\n",
    "## Getting Started\n",
    "\n",
    "**Student**: So, how is the learning curve of Pytorch? How do I start?\n",
    "\n",
    "**TA**: You can start by using this notebook on your experiments, it should teach you quite a lot on how to properly use PyTorch for basic conv net training. You should be aware of the [official pytorch github](https://github.com/pytorch/pytorch), the [pytorch official documentation page](https://pytorch.org/docs/stable/nn.html) and the [pytorch tutorials page](https://pytorch.org/tutorials/). \n",
    "\n",
    "Over the past year, nearly all students using PyTorch and Tensorflow on MLP and on projects found it easier and faster to get up to speed with PyTorch. In fact, I was a TensorFlow user myself, and learning TensorFlow was much more challenging than PyTorch. Mainly because TensorFlow has its own way of 'thinking' about how you build a graph and execute operations - whereas PyTorch is dynamic and works like NumPy, hence is more intuitive. If you were able to work well with the MLP package, you'll be up and running in no time. \n",
    "\n",
    "**Student**: OK, so how fast is pytorch compared to MLP?\n",
    "\n",
    "**TA**: On the CPU side of things, you'll find pytorch at least 5x faster than the MLP framework (about equal for fully connected networks, but much faster for more complicated things like convolutions - unless you write extremely efficient convolutional layer code), and if you choose to use GPUs, either using MS Azure, Google Cloud or our very own MLP Cluster (available for next semester), you can expect, depending on implementation and hardware an approximate 25-70x speed ups, compared to the CPU performance of pytorch. Yes, that means an experiment that would run overnight, now would only require about 15 minutes.\n",
    "\n",
    "**Student**: Ahh, where should I go to ask more questions?\n",
    "\n",
    "**TA**: As always, start with a Google/DuckDuckGo search, then have a look at the PyTorch Github and PyTorch docs, and if you can't find the answer come to Piazza and the lab sessions. We will be there to support you.\n",
    "\n",
    "\n",
    "#### Note: The code in this jupyter notebook is to introduce you to pytorch and allow you to play around with it in an interactive manner. However, to run your experiments, you should use the Pytorch experiment framework located in ```mlp/pytorch_experiment_scripts```. Instructions on how to use it can be found in ```notes/pytorch-experiment-framework.md``` along with the comments and documentation included in the code itself."
   ]
  },
  {
   "cell_type": "code",
   "execution_count": 1,
   "metadata": {},
   "outputs": [],
   "source": [
    "from torch import nn\n",
    "from copy import deepcopy\n",
    "import torch\n",
    "import torch.nn as nn\n",
    "import torch.optim as optim\n",
    "import torch.nn.functional as F\n",
    "import torch.backends.cudnn as cudnn\n",
    "import torchvision\n",
    "import tqdm\n",
    "import os\n",
    "import mlp.data_providers as data_providers\n",
    "import numpy as np"
   ]
  },
  {
   "cell_type": "code",
   "execution_count": 2,
   "metadata": {},
   "outputs": [],
   "source": [
    "import matplotlib.pyplot as plt\n",
    "%matplotlib inline\n",
    "plt.style.use('ggplot')\n",
    "\n",
    "def plot_stats_in_graph(total_losses):\n",
    "    \n",
    "    # Plot the change in the validation and training set error over training.\n",
    "    fig_1 = plt.figure(figsize=(8, 4))\n",
    "    ax_1 = fig_1.add_subplot(111)\n",
    "    for k in total_losses.keys():\n",
    "        if \"loss\" in k:\n",
    "            ax_1.plot(np.arange(len(total_losses[k])), total_losses[k], label=k)\n",
    "    ax_1.legend(loc=0)\n",
    "    ax_1.set_xlabel('Epoch number')\n",
    "    \n",
    "    \n",
    "    fig_2 = plt.figure(figsize=(8, 4))\n",
    "    ax_2 = fig_2.add_subplot(111)\n",
    "    for k in total_losses.keys():\n",
    "        if \"acc\" in k:\n",
    "            ax_2.plot(np.arange(len(total_losses[k])), total_losses[k], label=k)\n",
    "    ax_2.legend(loc=0)\n",
    "    ax_2.set_xlabel('Epoch number')\n",
    "\n",
    "    plt.show()"
   ]
  },
  {
   "cell_type": "code",
   "execution_count": 3,
   "metadata": {},
   "outputs": [],
   "source": [
    "class ConvolutionalNetwork(nn.Module):\n",
    "    def __init__(self, input_shape, dim_reduction_type, num_output_classes, num_filters, num_layers, use_bias=False,stride=1):\n",
    "        \"\"\"\n",
    "        Initializes a convolutional network module object.\n",
    "        :param input_shape: The shape of the inputs going in to the network.\n",
    "        :param dim_reduction_type: The type of dimensionality reduction to apply after each convolutional stage, should be one of ['max_pooling', 'avg_pooling', 'strided_convolution', 'dilated_convolution']\n",
    "        :param num_output_classes: The number of outputs the network should have (for classification those would be the number of classes)\n",
    "        :param num_filters: Number of filters used in every conv layer, except dim reduction stages, where those are automatically infered.\n",
    "        :param num_layers: Number of conv layers (excluding dim reduction stages)\n",
    "        :param use_bias: Whether our convolutions will use a bias.\n",
    "        \"\"\"\n",
    "        super(ConvolutionalNetwork, self).__init__()\n",
    "        # set up class attributes useful in building the network and inference\n",
    "        self.input_shape = input_shape\n",
    "        self.num_filters = num_filters\n",
    "        self.num_output_classes = num_output_classes\n",
    "        self.use_bias = use_bias\n",
    "        self.num_layers = num_layers\n",
    "        self.dim_reduction_type = dim_reduction_type\n",
    "        # initialize a module dict, which is effectively a dictionary that can collect layers and integrate them into pytorch\n",
    "        self.layer_dict = nn.ModuleDict()\n",
    "        self.stride = stride\n",
    "        # build the network\n",
    "        self.build_module()\n",
    "\n",
    "    def build_module(self):\n",
    "        \"\"\"\n",
    "        Builds network whilst automatically inferring shapes of layers.\n",
    "        \"\"\"\n",
    "        print(\"Building basic block of ConvolutionalNetwork using input shape\", self.input_shape)\n",
    "        x = torch.zeros((self.input_shape))  # create dummy inputs to be used to infer shapes of layers\n",
    "\n",
    "        out = x\n",
    "        # torch.nn.Conv2d(in_channels, out_channels, kernel_size, stride=1, padding=0, dilation=1, groups=1, bias=True)\n",
    "        for i in range(self.num_layers):  # for number of layers times\n",
    "            self.layer_dict['conv_{}'.format(i)] = nn.Conv2d(in_channels=out.shape[1],\n",
    "                                                             # add a conv layer in the module dict\n",
    "                                                             kernel_size=3,\n",
    "                                                             out_channels=self.num_filters, padding=1,stride=self.stride,\n",
    "                                                             bias=self.use_bias)\n",
    "\n",
    "            out = self.layer_dict['conv_{}'.format(i)](out)  # use layer on inputs to get an output\n",
    "            out = F.relu(out)  # apply relu\n",
    "            print(out.shape)\n",
    "            if self.dim_reduction_type == 'strided_convolution':  # if dim reduction is strided conv, then add a strided conv\n",
    "                self.layer_dict['dim_reduction_strided_conv_{}'.format(i)] = nn.Conv2d(in_channels=out.shape[1],\n",
    "                                                                                       kernel_size=3,\n",
    "                                                                                       out_channels=out.shape[1],\n",
    "                                                                                       padding=1,\n",
    "                                                                                       bias=self.use_bias, stride=2,\n",
    "                                                                                       dilation=1)\n",
    "\n",
    "                out = self.layer_dict['dim_reduction_strided_conv_{}'.format(i)](\n",
    "                    out)  # use strided conv to get an output\n",
    "                out = F.relu(out)  # apply relu to the output\n",
    "            elif self.dim_reduction_type == 'dilated_convolution':  # if dim reduction is dilated conv, then add a dilated conv, using an arbitrary dilation rate of i + 2 (so it gets smaller as we go, you can choose other dilation rates should you wish to do it.)\n",
    "                self.layer_dict['dim_reduction_dilated_conv_{}'.format(i)] = nn.Conv2d(in_channels=out.shape[1],\n",
    "                                                                                       kernel_size=3,\n",
    "                                                                                       out_channels=out.shape[1],\n",
    "                                                                                       padding=1,\n",
    "                                                                                       bias=self.use_bias, stride=1,\n",
    "                                                                                       dilation=i + 2)\n",
    "                out = self.layer_dict['dim_reduction_dilated_conv_{}'.format(i)](\n",
    "                    out)  # run dilated conv on input to get output\n",
    "                out = F.relu(out)  # apply relu on output\n",
    "\n",
    "            elif self.dim_reduction_type == 'max_pooling':\n",
    "                self.layer_dict['dim_reduction_max_pool_{}'.format(i)] = nn.MaxPool2d(2, padding=1)\n",
    "                out = self.layer_dict['dim_reduction_max_pool_{}'.format(i)](out)\n",
    "\n",
    "            elif self.dim_reduction_type == 'avg_pooling':\n",
    "                self.layer_dict['dim_reduction_avg_pool_{}'.format(i)] = nn.AvgPool2d(2, padding=1)\n",
    "                out = self.layer_dict['dim_reduction_avg_pool_{}'.format(i)](out)\n",
    "\n",
    "            print(out.shape)\n",
    "        if out.shape[-1] != 2:\n",
    "            out = F.adaptive_avg_pool2d(out, 2)  # apply adaptive pooling to make sure output of conv layers is always (2, 2) spacially (helps with comparisons).\n",
    "        print('shape before final linear layer', out.shape)\n",
    "        out = out.view(out.shape[0], -1)\n",
    "        self.logit_linear_layer = nn.Linear(in_features=out.shape[1],  # add a linear layer\n",
    "                                            out_features=self.num_output_classes,\n",
    "                                            bias=self.use_bias)\n",
    "        out = self.logit_linear_layer(out)  # apply linear layer on flattened inputs\n",
    "        print(\"Block is built, output volume is\", out.shape)\n",
    "        return out\n",
    "\n",
    "    def forward(self, x):\n",
    "        \"\"\"\n",
    "        Forward propages the network given an input batch\n",
    "        :param x: Inputs x (b, c, h, w)\n",
    "        :return: preds (b, num_classes)\n",
    "        \"\"\"\n",
    "        out = x\n",
    "        for i in range(self.num_layers):  # for number of layers\n",
    "\n",
    "            out = self.layer_dict['conv_{}'.format(i)](out)  # pass through conv layer indexed at i\n",
    "            out = F.relu(out)  # pass conv outputs through ReLU\n",
    "            if self.dim_reduction_type == 'strided_convolution':  # if strided convolution dim reduction then\n",
    "                out = self.layer_dict['dim_reduction_strided_conv_{}'.format(i)](\n",
    "                    out)  # pass previous outputs through a strided convolution indexed i\n",
    "                out = F.relu(out)  # pass strided conv outputs through ReLU\n",
    "\n",
    "            elif self.dim_reduction_type == 'dilated_convolution':\n",
    "                out = self.layer_dict['dim_reduction_dilated_conv_{}'.format(i)](out)\n",
    "                out = F.relu(out)\n",
    "\n",
    "            elif self.dim_reduction_type == 'max_pooling':\n",
    "                out = self.layer_dict['dim_reduction_max_pool_{}'.format(i)](out)\n",
    "\n",
    "            elif self.dim_reduction_type == 'avg_pooling':\n",
    "                out = self.layer_dict['dim_reduction_avg_pool_{}'.format(i)](out)\n",
    "\n",
    "        if out.shape[-1] != 2:\n",
    "            out = F.adaptive_avg_pool2d(out, 2)\n",
    "        out = out.view(out.shape[0], -1)  # flatten outputs from (b, c, h, w) to (b, c*h*w)\n",
    "        out = self.logit_linear_layer(out)  # pass through a linear layer to get logits/preds\n",
    "        return out\n",
    "\n",
    "    def reset_parameters(self):\n",
    "        \"\"\"\n",
    "        Re-initialize the network parameters.\n",
    "        \"\"\"\n",
    "        for item in self.layer_dict.children():\n",
    "            try:\n",
    "                item.reset_parameters()\n",
    "            except:\n",
    "                pass\n",
    "\n",
    "        self.logit_linear_layer.reset_parameters()"
   ]
  },
  {
   "cell_type": "code",
   "execution_count": 4,
   "metadata": {},
   "outputs": [],
   "source": [
    "import time\n",
    "from mlp.pytorch_experiment_scripts.storage_utils import save_statistics\n",
    "class ExperimentBuilder(nn.Module):\n",
    "    def __init__(self, network_model, experiment_name, num_epochs, train_data, val_data,\n",
    "                 test_data, weight_decay_coefficient, use_gpu, continue_from_epoch=-1):\n",
    "        \"\"\"\n",
    "        Initializes an ExperimentBuilder object. Such an object takes care of running training and evaluation of a deep net\n",
    "        on a given dataset. It also takes care of saving per epoch models and automatically inferring the best val model\n",
    "        to be used for evaluating the test set metrics.\n",
    "        :param network_model: A pytorch nn.Module which implements a network architecture.\n",
    "        :param experiment_name: The name of the experiment. This is used mainly for keeping track of the experiment and creating and directory structure that will be used to save logs, model parameters and other.\n",
    "        :param num_epochs: Total number of epochs to run the experiment\n",
    "        :param train_data: An object of the DataProvider type. Contains the training set.\n",
    "        :param val_data: An object of the DataProvider type. Contains the val set.\n",
    "        :param test_data: An object of the DataProvider type. Contains the test set.\n",
    "        :param weight_decay_coefficient: A float indicating the weight decay to use with the adam optimizer.\n",
    "        :param use_gpu: A boolean indicating whether to use a GPU or not.\n",
    "        :param continue_from_epoch: An int indicating whether we'll start from scrach (-1) or whether we'll reload a previously saved model of epoch 'continue_from_epoch' and continue training from there.\n",
    "        \"\"\"\n",
    "        super(ExperimentBuilder, self).__init__()\n",
    "        if torch.cuda.is_available() and use_gpu: # checks whether a cuda gpu is available and whether the gpu flag is True\n",
    "            self.device = torch.device('cuda') # sets device to be cuda\n",
    "            os.environ[\"CUDA_VISIBLE_DEVICES\"] = \"0\" # sets the main GPU to be the one at index 0\n",
    "            print(\"use GPU\")\n",
    "        else:\n",
    "            print(\"use CPU\")\n",
    "            self.device = torch.device('cpu') # sets the device to be CPU\n",
    "\n",
    "        self.experiment_name = experiment_name\n",
    "        self.model = network_model\n",
    "        self.model.to(self.device) # sends the model from the cpu to the gpu\n",
    "        self.model.reset_parameters() # re-initialize network parameters\n",
    "        self.train_data = train_data\n",
    "        self.val_data = val_data\n",
    "        self.test_data = test_data\n",
    "        self.optimizer = optim.Adam(self.parameters(), amsgrad=False,\n",
    "                                    weight_decay=weight_decay_coefficient)\n",
    "        # Generate the directory names\n",
    "        self.experiment_folder = os.path.abspath(experiment_name)\n",
    "        self.experiment_logs = os.path.abspath(os.path.join(self.experiment_folder, \"result_outputs\"))\n",
    "        self.experiment_saved_models = os.path.abspath(os.path.join(self.experiment_folder, \"saved_models\"))\n",
    "\n",
    "        # Set best models to be at 0 since we are just starting\n",
    "        self.best_val_model_idx = 0\n",
    "        self.best_val_model_acc = 0.\n",
    "        self.totalTime = 0\n",
    "        if not os.path.exists(self.experiment_folder): # If experiment directory does not exist\n",
    "            os.mkdir(self.experiment_folder) # create the experiment directory\n",
    "            os.mkdir(self.experiment_logs) # create the experiment log directory\n",
    "            os.mkdir(self.experiment_saved_models) # create the experiment saved models directory\n",
    "\n",
    "        self.num_epochs = num_epochs\n",
    "        self.criterion = nn.CrossEntropyLoss().to(self.device) # send the loss computation to the GPU\n",
    "\n",
    "        if continue_from_epoch != -1: # if continue from epoch is not -1 then\n",
    "            self.best_val_model_idx, self.best_val_model_acc = self.load_model(\n",
    "                model_save_dir=self.experiment_saved_models, model_save_name=\"train_model\",\n",
    "                model_idx=continue_from_epoch) # reload existing model from epoch and return best val model index\n",
    "                                             # and the best val acc of that model\n",
    "            self.starting_epoch = continue_from_epoch\n",
    "        else:\n",
    "            self.starting_epoch = 0\n",
    "\n",
    "    def run_train_iter(self, x, y):\n",
    "        \"\"\"\n",
    "        Receives the inputs and targets for the model and runs a training iteration. Returns loss and accuracy metrics.\n",
    "        :param x: The inputs to the model. A numpy array of shape batch_size, channels, height, width\n",
    "        :param y: The targets for the model. A numpy array of shape batch_size, num_classes\n",
    "        :return: the loss and accuracy for this batch\n",
    "        \"\"\"\n",
    "        self.train() # sets model to training mode (in case batch normalization or other methods have different procedures for training and evaluation)\n",
    "        y = np.argmax(y, axis=1) # convert one hot encoded labels to single integer labels\n",
    "        x, y = torch.Tensor(x).float().to(device=self.device), torch.Tensor(y).long().to(device=self.device) # send data to device as torch tensors\n",
    "        out = self.model.forward(x) # forward the data in the model\n",
    "        loss = F.cross_entropy(input=out, target=y) # compute loss\n",
    "\n",
    "        self.optimizer.zero_grad() # set all weight grads from previous training iters to 0\n",
    "        loss.backward() # backpropagate to compute gradients for current iter loss\n",
    "\n",
    "        self.optimizer.step() # update network parameters\n",
    "        _, predicted = torch.max(out.data, 1) # get argmax of predictions\n",
    "        accuracy = np.mean(list(predicted.eq(y.data).cpu())) # compute accuracy\n",
    "        return loss.data, accuracy\n",
    "\n",
    "    def run_evaluation_iter(self, x, y):\n",
    "        \"\"\"\n",
    "        Receives the inputs and targets for the model and runs an evaluation iterations. Returns loss and accuracy metrics.\n",
    "        :param x: The inputs to the model. A numpy array of shape batch_size, channels, height, width\n",
    "        :param y: The targets for the model. A numpy array of shape batch_size, num_classes\n",
    "        :return: the loss and accuracy for this batch\n",
    "        \"\"\"\n",
    "        self.eval() # sets the system to validation mode\n",
    "        y = np.argmax(y, axis=1) # convert one hot encoded labels to single integer labels\n",
    "        x, y = torch.Tensor(x).float().to(device=self.device), torch.Tensor(y).long().to(device=self.device) # convert data to pytorch tensors and send to the computation device\n",
    "        out = self.model.forward(x) # forward the data in the model\n",
    "        loss = F.cross_entropy(out, y) # compute loss\n",
    "        _, predicted = torch.max(out.data, 1) # get argmax of predictions\n",
    "        accuracy = np.mean(list(predicted.eq(y.data).cpu())) # compute accuracy\n",
    "        return loss.data, accuracy\n",
    "\n",
    "    def save_model(self, model_save_dir, model_save_name, model_idx, best_validation_model_idx,\n",
    "                   best_validation_model_acc):\n",
    "        \"\"\"\n",
    "        Save the network parameter state and current best val epoch idx and best val accuracy.\n",
    "        :param model_save_name: Name to use to save model without the epoch index\n",
    "        :param model_idx: The index to save the model with.\n",
    "        :param best_validation_model_idx: The index of the best validation model to be stored for future use.\n",
    "        :param best_validation_model_acc: The best validation accuracy to be stored for use at test time.\n",
    "        :param model_save_dir: The directory to store the state at.\n",
    "        :param state: The dictionary containing the system state.\n",
    "\n",
    "        \"\"\"\n",
    "        state = dict()\n",
    "        state['network'] = self.state_dict() # save network parameter and other variables.\n",
    "        state['best_val_model_idx'] = best_validation_model_idx # save current best val idx\n",
    "        state['best_val_model_acc'] = best_validation_model_acc # save current best val acc\n",
    "        torch.save(state, f=os.path.join(model_save_dir, \"{}_{}\".format(model_save_name, str(model_idx)))) # save state at prespecified filepath\n",
    "\n",
    "    def load_model(self, model_save_dir, model_save_name, model_idx):\n",
    "        \"\"\"\n",
    "        Load the network parameter state and the best val model idx and best val acc to be compared with the future val accuracies, in order to choose the best val model\n",
    "        :param model_save_dir: The directory to store the state at.\n",
    "        :param model_save_name: Name to use to save model without the epoch index\n",
    "        :param model_idx: The index to save the model with.\n",
    "        :return: best val idx and best val model acc, also it loads the network state into the system state without returning it\n",
    "        \"\"\"\n",
    "        state = torch.load(f=os.path.join(model_save_dir, \"{}_{}\".format(model_save_name, str(model_idx))))\n",
    "        self.load_state_dict(state_dict=state['network'])\n",
    "        return state['best_val_model_idx'], state['best_val_model_acc']\n",
    "\n",
    "    def run_experiment(self):\n",
    "        \"\"\"\n",
    "        Runs experiment train and evaluation iterations, saving the model and best val model and val model accuracy after each epoch\n",
    "        :return: The summary current_epoch_losses from starting epoch to total_epochs.\n",
    "        \"\"\"\n",
    "        total_losses = {\"train_acc\": [], \"train_loss\": [], \"val_acc\": [], \"val_loss\": []} # initialize a dict to keep the per-epoch metrics\n",
    "        for i, epoch_idx in enumerate(range(self.starting_epoch, self.num_epochs)):\n",
    "            epoch_start_time = time.time()\n",
    "            current_epoch_losses = {\"train_acc\": [], \"train_loss\": [], \"val_acc\": [], \"val_loss\": []}\n",
    "\n",
    "            with tqdm.tqdm(total=self.train_data.num_batches) as pbar_train: # create a progress bar for training\n",
    "                for idx, (x, y) in enumerate(self.train_data): # get data batches\n",
    "                    loss, accuracy = self.run_train_iter(x=x, y=y) # take a training iter step\n",
    "                    current_epoch_losses[\"train_loss\"].append(loss) # add current iter loss to the train loss list\n",
    "                    current_epoch_losses[\"train_acc\"].append(accuracy) # add current iter acc to the train acc list\n",
    "                    pbar_train.update(1)\n",
    "                    pbar_train.set_description(\"loss: {:.4f}, accuracy: {:.4f}\".format(loss, accuracy))\n",
    "\n",
    "            with tqdm.tqdm(total=self.val_data.num_batches) as pbar_val: # create a progress bar for validation\n",
    "                for x, y in self.val_data: # get data batches\n",
    "                    loss, accuracy = self.run_evaluation_iter(x=x, y=y) # run a validation iter\n",
    "                    current_epoch_losses[\"val_loss\"].append(loss) # add current iter loss to val loss list.\n",
    "                    current_epoch_losses[\"val_acc\"].append(accuracy) # add current iter acc to val acc lst.\n",
    "                    pbar_val.update(1) # add 1 step to the progress bar\n",
    "                    pbar_val.set_description(\"loss: {:.4f}, accuracy: {:.4f}\".format(loss, accuracy))\n",
    "\n",
    "            if np.mean(current_epoch_losses['val_acc']) > self.best_val_model_acc: # if current epoch's mean val acc is greater than the saved best val acc then\n",
    "                self.best_val_model_acc = np.mean(current_epoch_losses['val_acc']) # set the best val model acc to be current epoch's val accuracy\n",
    "                self.best_val_model_idx = epoch_idx # set the experiment-wise best val idx to be the current epoch's idx\n",
    "\n",
    "            for key, value in current_epoch_losses.items():\n",
    "                total_losses[key].append(np.mean(value)) # get mean of all metrics of current epoch metrics dict, to get them ready for storage and output on the terminal.\n",
    "\n",
    "            save_statistics(experiment_log_dir=self.experiment_logs, filename='summary.csv',\n",
    "                            stats_dict=total_losses, current_epoch=i) # save statistics to stats file.\n",
    "\n",
    "            # load_statistics(experiment_log_dir=self.experiment_logs, filename='summary.csv') # How to load a csv file if you need to\n",
    "\n",
    "            out_string = \"_\".join([\"{}_{:.4f}\".format(key, np.mean(value)) for key, value in current_epoch_losses.items()])\n",
    "            # create a string to use to report our epoch metrics\n",
    "            epoch_elapsed_time = time.time() - epoch_start_time # calculate time taken for epoch\n",
    "            self.totalTime += epoch_elapsed_time\n",
    "            epoch_elapsed_time = \"{:.4f}\".format(epoch_elapsed_time)\n",
    "            print(\"Epoch {}:\".format(epoch_idx), out_string, \"epoch time\", epoch_elapsed_time, \"seconds\")\n",
    "            seconds = self.totalTime\n",
    "            m, s = divmod(seconds, 60)\n",
    "            print('total time{} : {}'.format(m,s))\n",
    "            self.save_model(model_save_dir=self.experiment_saved_models, # save model and best val idx and best val acc, using the model dir, model name and model idx\n",
    "                            model_save_name=\"train_model\", model_idx=epoch_idx,\n",
    "                            best_validation_model_idx=self.best_val_model_idx,\n",
    "                            best_validation_model_acc=self.best_val_model_acc)\n",
    "\n",
    "        print(\"Generating test set evaluation metrics\")\n",
    "        self.load_model(model_save_dir=self.experiment_saved_models, model_idx=self.best_val_model_idx, # load best validation model\n",
    "                        model_save_name=\"train_model\")\n",
    "        current_epoch_losses = {\"test_acc\": [], \"test_loss\": []} # initialize a statistics dict\n",
    "        with tqdm.tqdm(total=self.test_data.num_batches) as pbar_test: # ini a progress bar\n",
    "            for x, y in self.test_data: # sample batch\n",
    "                loss, accuracy = self.run_evaluation_iter(x=x, y=y) # compute loss and accuracy by running an evaluation step\n",
    "                current_epoch_losses[\"test_loss\"].append(loss) # save test loss\n",
    "                current_epoch_losses[\"test_acc\"].append(accuracy) # save test accuracy\n",
    "                pbar_test.update(1) # update progress bar status\n",
    "                pbar_test.set_description(\"loss: {:.4f}, accuracy: {:.4f}\".format(loss, accuracy))  # update progress bar string output\n",
    "\n",
    "        test_losses = {key: [np.mean(value)] for key, value in current_epoch_losses.items()} # save test set metrics in dict format\n",
    "        save_statistics(experiment_log_dir=self.experiment_logs, filename='test_summary.csv', # save test set metrics on disk in .csv format\n",
    "                        stats_dict=test_losses, current_epoch=0)\n",
    "\n",
    "        return total_losses, test_losses\n"
   ]
  },
  {
   "cell_type": "code",
   "execution_count": 5,
   "metadata": {
    "scrolled": true
   },
   "outputs": [
    {
     "name": "stdout",
     "output_type": "stream",
     "text": [
      "KeysView(<numpy.lib.npyio.NpzFile object at 0x7f6590199240>)\n",
      "KeysView(<numpy.lib.npyio.NpzFile object at 0x7f653db57d30>)\n",
      "KeysView(<numpy.lib.npyio.NpzFile object at 0x7f653db57d68>)\n",
      "Building basic block of ConvolutionalNetwork using input shape (100, 1, 28, 28)\n",
      "torch.Size([100, 64, 28, 28])\n",
      "torch.Size([100, 64, 15, 15])\n",
      "shape before final linear layer torch.Size([100, 64, 2, 2])\n",
      "Block is built, output volume is torch.Size([100, 47])\n",
      "use GPU\n"
     ]
    },
    {
     "name": "stderr",
     "output_type": "stream",
     "text": [
      "\r",
      "  0%|          | 0/1000 [00:00<?, ?it/s]"
     ]
    },
    {
     "name": "stdout",
     "output_type": "stream",
     "text": [
      "ConvolutionalNetwork(\n",
      "  (layer_dict): ModuleDict(\n",
      "    (conv_0): Conv2d(1, 64, kernel_size=(3, 3), stride=(1, 1), padding=(1, 1))\n",
      "    (dim_reduction_max_pool_0): MaxPool2d(kernel_size=2, stride=2, padding=1, dilation=1, ceil_mode=False)\n",
      "  )\n",
      "  (logit_linear_layer): Linear(in_features=256, out_features=47, bias=True)\n",
      ")\n"
     ]
    },
    {
     "name": "stderr",
     "output_type": "stream",
     "text": [
      "loss: 2.4931, accuracy: 0.3600: 100%|██████████| 1000/1000 [00:12<00:00, 83.13it/s]\n",
      "loss: 2.4486, accuracy: 0.3900: 100%|██████████| 158/158 [00:01<00:00, 130.42it/s]\n"
     ]
    },
    {
     "name": "stdout",
     "output_type": "stream",
     "text": [
      "Epoch 0: train_acc_0.2255_train_loss_2.9600_val_acc_0.3499_val_loss_2.4988 epoch time 13.3773 seconds\n",
      "total time0.0 : 13.377266645431519\n"
     ]
    },
    {
     "name": "stderr",
     "output_type": "stream",
     "text": [
      "loss: 1.9172, accuracy: 0.5200: 100%|██████████| 1000/1000 [00:11<00:00, 85.68it/s]\n",
      "loss: 2.0831, accuracy: 0.4500: 100%|██████████| 158/158 [00:01<00:00, 131.19it/s]\n",
      "loss: 2.1499, accuracy: 0.4200:   2%|▏         | 17/1000 [00:00<00:10, 91.37it/s]"
     ]
    },
    {
     "name": "stdout",
     "output_type": "stream",
     "text": [
      "Epoch 1: train_acc_0.4256_train_loss_2.2059_val_acc_0.5134_val_loss_1.9163 epoch time 13.0133 seconds\n",
      "total time0.0 : 26.390576601028442\n"
     ]
    },
    {
     "name": "stderr",
     "output_type": "stream",
     "text": [
      "loss: 1.3703, accuracy: 0.6400: 100%|██████████| 1000/1000 [00:11<00:00, 85.84it/s]\n",
      "loss: 1.6599, accuracy: 0.5500: 100%|██████████| 158/158 [00:01<00:00, 131.73it/s]\n",
      "loss: 1.5624, accuracy: 0.5700:   2%|▏         | 18/1000 [00:00<00:10, 94.60it/s]"
     ]
    },
    {
     "name": "stdout",
     "output_type": "stream",
     "text": [
      "Epoch 2: train_acc_0.5591_train_loss_1.7101_val_acc_0.6001_val_loss_1.5141 epoch time 12.9819 seconds\n",
      "total time0.0 : 39.372520446777344\n"
     ]
    },
    {
     "name": "stderr",
     "output_type": "stream",
     "text": [
      "loss: 1.4753, accuracy: 0.5500: 100%|██████████| 1000/1000 [00:11<00:00, 85.95it/s]\n",
      "loss: 1.2221, accuracy: 0.7300: 100%|██████████| 158/158 [00:01<00:00, 132.18it/s]\n",
      "loss: 1.2596, accuracy: 0.6300:   2%|▏         | 17/1000 [00:00<00:10, 90.35it/s]"
     ]
    },
    {
     "name": "stdout",
     "output_type": "stream",
     "text": [
      "Epoch 3: train_acc_0.6278_train_loss_1.3960_val_acc_0.6492_val_loss_1.2807 epoch time 12.9693 seconds\n",
      "total time0.0 : 52.34177756309509\n"
     ]
    },
    {
     "name": "stderr",
     "output_type": "stream",
     "text": [
      "loss: 1.1679, accuracy: 0.6800: 100%|██████████| 1000/1000 [00:11<00:00, 85.98it/s]\n",
      "loss: 1.4307, accuracy: 0.6200: 100%|██████████| 158/158 [00:01<00:00, 132.48it/s]\n",
      "loss: 1.1722, accuracy: 0.6700:   2%|▏         | 18/1000 [00:00<00:10, 95.44it/s]"
     ]
    },
    {
     "name": "stdout",
     "output_type": "stream",
     "text": [
      "Epoch 4: train_acc_0.6608_train_loss_1.2216_val_acc_0.6775_val_loss_1.1490 epoch time 12.9605 seconds\n",
      "total time1.0 : 5.302255868911743\n"
     ]
    },
    {
     "name": "stderr",
     "output_type": "stream",
     "text": [
      "loss: 1.1597, accuracy: 0.6900: 100%|██████████| 1000/1000 [00:11<00:00, 86.09it/s]\n",
      "loss: 1.0673, accuracy: 0.6700: 100%|██████████| 158/158 [00:01<00:00, 131.40it/s]\n",
      "loss: 1.0249, accuracy: 0.7100:   2%|▏         | 17/1000 [00:00<00:10, 93.55it/s]"
     ]
    },
    {
     "name": "stdout",
     "output_type": "stream",
     "text": [
      "Epoch 5: train_acc_0.6809_train_loss_1.1220_val_acc_0.6927_val_loss_1.0730 epoch time 12.9582 seconds\n",
      "total time1.0 : 18.260449647903442\n"
     ]
    },
    {
     "name": "stderr",
     "output_type": "stream",
     "text": [
      "loss: 1.0938, accuracy: 0.7500: 100%|██████████| 1000/1000 [00:11<00:00, 85.71it/s]\n",
      "loss: 0.8555, accuracy: 0.7300: 100%|██████████| 158/158 [00:01<00:00, 131.50it/s]\n",
      "loss: 1.4229, accuracy: 0.5600:   2%|▏         | 17/1000 [00:00<00:10, 91.53it/s]"
     ]
    },
    {
     "name": "stdout",
     "output_type": "stream",
     "text": [
      "Epoch 6: train_acc_0.6928_train_loss_1.0586_val_acc_0.7013_val_loss_1.0220 epoch time 13.0086 seconds\n",
      "total time1.0 : 31.269070863723755\n"
     ]
    },
    {
     "name": "stderr",
     "output_type": "stream",
     "text": [
      "loss: 1.2577, accuracy: 0.6100: 100%|██████████| 1000/1000 [00:11<00:00, 86.95it/s]\n",
      "loss: 1.2897, accuracy: 0.6200: 100%|██████████| 158/158 [00:01<00:00, 138.24it/s]\n",
      "loss: 1.1275, accuracy: 0.6800:   2%|▏         | 18/1000 [00:00<00:10, 94.45it/s]"
     ]
    },
    {
     "name": "stdout",
     "output_type": "stream",
     "text": [
      "Epoch 7: train_acc_0.7000_train_loss_1.0174_val_acc_0.7065_val_loss_0.9904 epoch time 12.7792 seconds\n",
      "total time1.0 : 44.04822087287903\n"
     ]
    },
    {
     "name": "stderr",
     "output_type": "stream",
     "text": [
      "loss: 0.7694, accuracy: 0.7600: 100%|██████████| 1000/1000 [00:11<00:00, 88.39it/s]\n",
      "loss: 0.8941, accuracy: 0.7200: 100%|██████████| 158/158 [00:01<00:00, 131.34it/s]\n",
      "loss: 1.0705, accuracy: 0.6900:   2%|▏         | 18/1000 [00:00<00:10, 97.79it/s]"
     ]
    },
    {
     "name": "stdout",
     "output_type": "stream",
     "text": [
      "Epoch 8: train_acc_0.7071_train_loss_0.9869_val_acc_0.7120_val_loss_0.9674 epoch time 12.6584 seconds\n",
      "total time1.0 : 56.70664119720459\n"
     ]
    },
    {
     "name": "stderr",
     "output_type": "stream",
     "text": [
      "loss: 0.8471, accuracy: 0.7300: 100%|██████████| 1000/1000 [00:11<00:00, 85.92it/s]\n",
      "loss: 0.9688, accuracy: 0.7700: 100%|██████████| 158/158 [00:01<00:00, 129.09it/s]\n",
      "loss: 0.9256, accuracy: 0.7100:   2%|▏         | 18/1000 [00:00<00:10, 94.22it/s]"
     ]
    },
    {
     "name": "stdout",
     "output_type": "stream",
     "text": [
      "Epoch 9: train_acc_0.7110_train_loss_0.9642_val_acc_0.7132_val_loss_0.9484 epoch time 13.0007 seconds\n",
      "total time2.0 : 9.707325458526611\n"
     ]
    },
    {
     "name": "stderr",
     "output_type": "stream",
     "text": [
      "loss: 0.7593, accuracy: 0.7500: 100%|██████████| 1000/1000 [00:11<00:00, 85.25it/s]\n",
      "loss: 0.8967, accuracy: 0.7800: 100%|██████████| 158/158 [00:01<00:00, 132.75it/s]\n",
      "loss: 0.9487, accuracy: 0.7000:   2%|▏         | 19/1000 [00:00<00:10, 97.07it/s]"
     ]
    },
    {
     "name": "stdout",
     "output_type": "stream",
     "text": [
      "Epoch 10: train_acc_0.7160_train_loss_0.9457_val_acc_0.7239_val_loss_0.9224 epoch time 13.0564 seconds\n",
      "total time2.0 : 22.763688564300537\n"
     ]
    },
    {
     "name": "stderr",
     "output_type": "stream",
     "text": [
      "loss: 0.8347, accuracy: 0.7800: 100%|██████████| 1000/1000 [00:11<00:00, 86.11it/s]\n",
      "loss: 0.8999, accuracy: 0.7600: 100%|██████████| 158/158 [00:01<00:00, 130.04it/s]\n",
      "loss: 0.8627, accuracy: 0.7200:   2%|▏         | 17/1000 [00:00<00:10, 91.87it/s]"
     ]
    },
    {
     "name": "stdout",
     "output_type": "stream",
     "text": [
      "Epoch 11: train_acc_0.7184_train_loss_0.9315_val_acc_0.7229_val_loss_0.9157 epoch time 12.9673 seconds\n",
      "total time2.0 : 35.730952501297\n"
     ]
    },
    {
     "name": "stderr",
     "output_type": "stream",
     "text": [
      "loss: 0.8448, accuracy: 0.7300: 100%|██████████| 1000/1000 [00:11<00:00, 85.88it/s]\n",
      "loss: 0.7314, accuracy: 0.7500: 100%|██████████| 158/158 [00:01<00:00, 130.33it/s]\n",
      "loss: 0.9403, accuracy: 0.7200:   2%|▏         | 18/1000 [00:00<00:10, 93.49it/s]"
     ]
    },
    {
     "name": "stdout",
     "output_type": "stream",
     "text": [
      "Epoch 12: train_acc_0.7225_train_loss_0.9186_val_acc_0.7266_val_loss_0.9090 epoch time 12.9967 seconds\n",
      "total time2.0 : 48.727630853652954\n"
     ]
    },
    {
     "name": "stderr",
     "output_type": "stream",
     "text": [
      "loss: 0.8383, accuracy: 0.7400: 100%|██████████| 1000/1000 [00:11<00:00, 86.20it/s]\n",
      "loss: 0.7618, accuracy: 0.7900: 100%|██████████| 158/158 [00:01<00:00, 137.64it/s]\n",
      "loss: 0.7249, accuracy: 0.7600:   2%|▏         | 18/1000 [00:00<00:10, 94.35it/s]"
     ]
    },
    {
     "name": "stdout",
     "output_type": "stream",
     "text": [
      "Epoch 13: train_acc_0.7253_train_loss_0.9084_val_acc_0.7346_val_loss_0.8924 epoch time 12.9267 seconds\n",
      "total time3.0 : 1.6543009281158447\n"
     ]
    },
    {
     "name": "stderr",
     "output_type": "stream",
     "text": [
      "loss: 0.8164, accuracy: 0.7800: 100%|██████████| 1000/1000 [00:11<00:00, 87.90it/s]\n",
      "loss: 1.0444, accuracy: 0.7300: 100%|██████████| 158/158 [00:01<00:00, 133.11it/s]\n",
      "loss: 0.8662, accuracy: 0.7000:   2%|▏         | 18/1000 [00:00<00:10, 92.72it/s]"
     ]
    },
    {
     "name": "stdout",
     "output_type": "stream",
     "text": [
      "Epoch 14: train_acc_0.7272_train_loss_0.8998_val_acc_0.7324_val_loss_0.8839 epoch time 12.6979 seconds\n",
      "total time3.0 : 14.35217547416687\n"
     ]
    },
    {
     "name": "stderr",
     "output_type": "stream",
     "text": [
      "loss: 0.7554, accuracy: 0.7900: 100%|██████████| 1000/1000 [00:11<00:00, 85.69it/s]\n",
      "loss: 0.7882, accuracy: 0.7600: 100%|██████████| 158/158 [00:01<00:00, 131.51it/s]\n",
      "loss: 0.9466, accuracy: 0.6900:   2%|▏         | 18/1000 [00:00<00:10, 95.87it/s]"
     ]
    },
    {
     "name": "stdout",
     "output_type": "stream",
     "text": [
      "Epoch 15: train_acc_0.7294_train_loss_0.8923_val_acc_0.7307_val_loss_0.8836 epoch time 13.0072 seconds\n",
      "total time3.0 : 27.359339475631714\n"
     ]
    },
    {
     "name": "stderr",
     "output_type": "stream",
     "text": [
      "loss: 1.0324, accuracy: 0.7200: 100%|██████████| 1000/1000 [00:11<00:00, 85.23it/s]\n",
      "loss: 0.9483, accuracy: 0.7300: 100%|██████████| 158/158 [00:01<00:00, 130.81it/s]\n",
      "loss: 0.9979, accuracy: 0.7800:   2%|▏         | 17/1000 [00:00<00:10, 93.24it/s]"
     ]
    },
    {
     "name": "stdout",
     "output_type": "stream",
     "text": [
      "Epoch 16: train_acc_0.7307_train_loss_0.8847_val_acc_0.7351_val_loss_0.8767 epoch time 13.0784 seconds\n",
      "total time3.0 : 40.43770670890808\n"
     ]
    },
    {
     "name": "stderr",
     "output_type": "stream",
     "text": [
      "loss: 0.7492, accuracy: 0.7100: 100%|██████████| 1000/1000 [00:11<00:00, 86.07it/s]\n",
      "loss: 1.1592, accuracy: 0.6100: 100%|██████████| 158/158 [00:01<00:00, 130.53it/s]\n",
      "loss: 0.7684, accuracy: 0.7200:   2%|▏         | 17/1000 [00:00<00:10, 93.91it/s]"
     ]
    },
    {
     "name": "stdout",
     "output_type": "stream",
     "text": [
      "Epoch 17: train_acc_0.7325_train_loss_0.8773_val_acc_0.7328_val_loss_0.8713 epoch time 12.9666 seconds\n",
      "total time3.0 : 53.40435290336609\n"
     ]
    },
    {
     "name": "stderr",
     "output_type": "stream",
     "text": [
      "loss: 0.8368, accuracy: 0.7400: 100%|██████████| 1000/1000 [00:11<00:00, 85.80it/s]\n",
      "loss: 0.8139, accuracy: 0.7000: 100%|██████████| 158/158 [00:01<00:00, 131.27it/s]\n",
      "loss: 0.9087, accuracy: 0.7100:   2%|▏         | 18/1000 [00:00<00:10, 91.53it/s]"
     ]
    },
    {
     "name": "stdout",
     "output_type": "stream",
     "text": [
      "Epoch 18: train_acc_0.7349_train_loss_0.8703_val_acc_0.7378_val_loss_0.8571 epoch time 12.9972 seconds\n",
      "total time4.0 : 6.401514530181885\n"
     ]
    },
    {
     "name": "stderr",
     "output_type": "stream",
     "text": [
      "loss: 0.8000, accuracy: 0.7300: 100%|██████████| 1000/1000 [00:11<00:00, 85.87it/s]\n",
      "loss: 0.7564, accuracy: 0.7500: 100%|██████████| 158/158 [00:01<00:00, 137.66it/s]\n",
      "loss: 0.6805, accuracy: 0.7400:   2%|▏         | 18/1000 [00:00<00:10, 95.03it/s]"
     ]
    },
    {
     "name": "stdout",
     "output_type": "stream",
     "text": [
      "Epoch 19: train_acc_0.7361_train_loss_0.8655_val_acc_0.7358_val_loss_0.8586 epoch time 12.9615 seconds\n",
      "total time4.0 : 19.36299443244934\n"
     ]
    },
    {
     "name": "stderr",
     "output_type": "stream",
     "text": [
      "loss: 0.9712, accuracy: 0.7200: 100%|██████████| 1000/1000 [00:11<00:00, 86.00it/s]\n",
      "loss: 0.7845, accuracy: 0.7000: 100%|██████████| 158/158 [00:01<00:00, 136.69it/s]\n",
      "loss: 0.8395, accuracy: 0.7000:   2%|▏         | 17/1000 [00:00<00:10, 92.30it/s]"
     ]
    },
    {
     "name": "stdout",
     "output_type": "stream",
     "text": [
      "Epoch 20: train_acc_0.7365_train_loss_0.8605_val_acc_0.7441_val_loss_0.8522 epoch time 12.9617 seconds\n",
      "total time4.0 : 32.32466506958008\n"
     ]
    },
    {
     "name": "stderr",
     "output_type": "stream",
     "text": [
      "loss: 0.6228, accuracy: 0.8500: 100%|██████████| 1000/1000 [00:11<00:00, 85.67it/s]\n",
      "loss: 0.7687, accuracy: 0.7700: 100%|██████████| 158/158 [00:01<00:00, 129.74it/s]\n",
      "loss: 0.5690, accuracy: 0.8300:   2%|▏         | 18/1000 [00:00<00:10, 93.75it/s]"
     ]
    },
    {
     "name": "stdout",
     "output_type": "stream",
     "text": [
      "Epoch 21: train_acc_0.7387_train_loss_0.8545_val_acc_0.7426_val_loss_0.8449 epoch time 13.0278 seconds\n",
      "total time4.0 : 45.352511405944824\n"
     ]
    },
    {
     "name": "stderr",
     "output_type": "stream",
     "text": [
      "loss: 0.9528, accuracy: 0.6500: 100%|██████████| 1000/1000 [00:11<00:00, 86.20it/s]\n",
      "loss: 0.7752, accuracy: 0.7800: 100%|██████████| 158/158 [00:01<00:00, 130.74it/s]\n",
      "loss: 0.6713, accuracy: 0.7700:   2%|▏         | 18/1000 [00:00<00:10, 93.41it/s]"
     ]
    },
    {
     "name": "stdout",
     "output_type": "stream",
     "text": [
      "Epoch 22: train_acc_0.7409_train_loss_0.8485_val_acc_0.7427_val_loss_0.8410 epoch time 12.9459 seconds\n",
      "total time4.0 : 58.29843020439148\n"
     ]
    },
    {
     "name": "stderr",
     "output_type": "stream",
     "text": [
      "loss: 0.8854, accuracy: 0.7500: 100%|██████████| 1000/1000 [00:11<00:00, 85.62it/s]\n",
      "loss: 0.8834, accuracy: 0.7500: 100%|██████████| 158/158 [00:01<00:00, 130.62it/s]\n",
      "loss: 0.7482, accuracy: 0.7900:   2%|▏         | 18/1000 [00:00<00:10, 96.44it/s]"
     ]
    },
    {
     "name": "stdout",
     "output_type": "stream",
     "text": [
      "Epoch 23: train_acc_0.7421_train_loss_0.8451_val_acc_0.7448_val_loss_0.8344 epoch time 13.0284 seconds\n",
      "total time5.0 : 11.326847553253174\n"
     ]
    },
    {
     "name": "stderr",
     "output_type": "stream",
     "text": [
      "loss: 1.2359, accuracy: 0.7000: 100%|██████████| 1000/1000 [00:11<00:00, 85.92it/s]\n",
      "loss: 0.6352, accuracy: 0.7500: 100%|██████████| 158/158 [00:01<00:00, 130.79it/s]\n",
      "loss: 0.9520, accuracy: 0.6800:   2%|▏         | 17/1000 [00:00<00:10, 92.53it/s]"
     ]
    },
    {
     "name": "stdout",
     "output_type": "stream",
     "text": [
      "Epoch 24: train_acc_0.7442_train_loss_0.8394_val_acc_0.7446_val_loss_0.8320 epoch time 12.9879 seconds\n",
      "total time5.0 : 24.314775943756104\n"
     ]
    },
    {
     "name": "stderr",
     "output_type": "stream",
     "text": [
      "loss: 0.7932, accuracy: 0.7500: 100%|██████████| 1000/1000 [00:11<00:00, 85.50it/s]\n",
      "loss: 0.9178, accuracy: 0.6800: 100%|██████████| 158/158 [00:01<00:00, 129.82it/s]\n",
      "loss: 1.0408, accuracy: 0.7200:   2%|▏         | 17/1000 [00:00<00:10, 93.46it/s]"
     ]
    },
    {
     "name": "stdout",
     "output_type": "stream",
     "text": [
      "Epoch 25: train_acc_0.7446_train_loss_0.8351_val_acc_0.7452_val_loss_0.8346 epoch time 13.0543 seconds\n",
      "total time5.0 : 37.36908745765686\n"
     ]
    },
    {
     "name": "stderr",
     "output_type": "stream",
     "text": [
      "loss: 0.9415, accuracy: 0.7400: 100%|██████████| 1000/1000 [00:11<00:00, 87.74it/s]\n",
      "loss: 0.8219, accuracy: 0.7600: 100%|██████████| 158/158 [00:01<00:00, 132.21it/s]\n",
      "loss: 0.8398, accuracy: 0.6900:   2%|▏         | 18/1000 [00:00<00:10, 94.11it/s]"
     ]
    },
    {
     "name": "stdout",
     "output_type": "stream",
     "text": [
      "Epoch 26: train_acc_0.7453_train_loss_0.8321_val_acc_0.7472_val_loss_0.8221 epoch time 12.9926 seconds\n",
      "total time5.0 : 50.36171007156372\n"
     ]
    },
    {
     "name": "stderr",
     "output_type": "stream",
     "text": [
      "loss: 0.8242, accuracy: 0.7000: 100%|██████████| 1000/1000 [00:11<00:00, 85.91it/s]\n",
      "loss: 0.8258, accuracy: 0.7100: 100%|██████████| 158/158 [00:01<00:00, 130.07it/s]\n",
      "loss: 0.8175, accuracy: 0.7600:   2%|▏         | 18/1000 [00:00<00:10, 93.23it/s]"
     ]
    },
    {
     "name": "stdout",
     "output_type": "stream",
     "text": [
      "Epoch 27: train_acc_0.7464_train_loss_0.8271_val_acc_0.7433_val_loss_0.8264 epoch time 12.9959 seconds\n",
      "total time6.0 : 3.357640027999878\n"
     ]
    },
    {
     "name": "stderr",
     "output_type": "stream",
     "text": [
      "loss: 0.8465, accuracy: 0.7400: 100%|██████████| 1000/1000 [00:11<00:00, 86.13it/s]\n",
      "loss: 0.8149, accuracy: 0.7700: 100%|██████████| 158/158 [00:01<00:00, 132.10it/s]\n",
      "loss: 0.7869, accuracy: 0.7400:   2%|▏         | 18/1000 [00:00<00:10, 95.13it/s]"
     ]
    },
    {
     "name": "stdout",
     "output_type": "stream",
     "text": [
      "Epoch 28: train_acc_0.7479_train_loss_0.8232_val_acc_0.7484_val_loss_0.8187 epoch time 12.9461 seconds\n",
      "total time6.0 : 16.303728342056274\n"
     ]
    },
    {
     "name": "stderr",
     "output_type": "stream",
     "text": [
      "loss: 0.9850, accuracy: 0.7200: 100%|██████████| 1000/1000 [00:11<00:00, 87.21it/s]\n",
      "loss: 0.6916, accuracy: 0.7500: 100%|██████████| 158/158 [00:01<00:00, 131.19it/s]\n",
      "loss: 0.6669, accuracy: 0.7700:   2%|▏         | 18/1000 [00:00<00:10, 92.36it/s]"
     ]
    },
    {
     "name": "stdout",
     "output_type": "stream",
     "text": [
      "Epoch 29: train_acc_0.7487_train_loss_0.8185_val_acc_0.7498_val_loss_0.8162 epoch time 13.0609 seconds\n",
      "total time6.0 : 29.364582300186157\n"
     ]
    },
    {
     "name": "stderr",
     "output_type": "stream",
     "text": [
      "loss: 0.5773, accuracy: 0.8100: 100%|██████████| 1000/1000 [00:11<00:00, 85.57it/s]\n",
      "loss: 0.7030, accuracy: 0.8200: 100%|██████████| 158/158 [00:01<00:00, 132.26it/s]\n",
      "loss: 0.9008, accuracy: 0.7700:   2%|▏         | 17/1000 [00:00<00:10, 90.97it/s]"
     ]
    },
    {
     "name": "stdout",
     "output_type": "stream",
     "text": [
      "Epoch 30: train_acc_0.7502_train_loss_0.8142_val_acc_0.7503_val_loss_0.8219 epoch time 13.0237 seconds\n",
      "total time6.0 : 42.38829803466797\n"
     ]
    },
    {
     "name": "stderr",
     "output_type": "stream",
     "text": [
      "loss: 0.7619, accuracy: 0.7400: 100%|██████████| 1000/1000 [00:11<00:00, 92.62it/s]\n",
      "loss: 0.6262, accuracy: 0.8300: 100%|██████████| 158/158 [00:01<00:00, 140.82it/s]\n",
      "loss: 0.6206, accuracy: 0.8000:   2%|▏         | 18/1000 [00:00<00:10, 96.59it/s]"
     ]
    },
    {
     "name": "stdout",
     "output_type": "stream",
     "text": [
      "Epoch 31: train_acc_0.7515_train_loss_0.8105_val_acc_0.7551_val_loss_0.8064 epoch time 12.7289 seconds\n",
      "total time6.0 : 55.117162227630615\n"
     ]
    },
    {
     "name": "stderr",
     "output_type": "stream",
     "text": [
      "loss: 0.9289, accuracy: 0.7200: 100%|██████████| 1000/1000 [00:11<00:00, 88.01it/s]\n",
      "loss: 0.8363, accuracy: 0.8100: 100%|██████████| 158/158 [00:01<00:00, 131.30it/s]\n",
      "loss: 0.6334, accuracy: 0.7600:   2%|▏         | 18/1000 [00:00<00:10, 93.12it/s]"
     ]
    },
    {
     "name": "stdout",
     "output_type": "stream",
     "text": [
      "Epoch 32: train_acc_0.7522_train_loss_0.8063_val_acc_0.7544_val_loss_0.8002 epoch time 12.7038 seconds\n",
      "total time7.0 : 7.820920705795288\n"
     ]
    },
    {
     "name": "stderr",
     "output_type": "stream",
     "text": [
      "loss: 0.8289, accuracy: 0.6900: 100%|██████████| 1000/1000 [00:11<00:00, 88.66it/s]\n",
      "loss: 0.7525, accuracy: 0.7500: 100%|██████████| 158/158 [00:01<00:00, 131.16it/s]\n",
      "loss: 0.8101, accuracy: 0.7800:   2%|▏         | 17/1000 [00:00<00:10, 92.34it/s]"
     ]
    },
    {
     "name": "stdout",
     "output_type": "stream",
     "text": [
      "Epoch 33: train_acc_0.7545_train_loss_0.8028_val_acc_0.7560_val_loss_0.7943 epoch time 12.8975 seconds\n",
      "total time7.0 : 20.718446016311646\n"
     ]
    },
    {
     "name": "stderr",
     "output_type": "stream",
     "text": [
      "loss: 0.9109, accuracy: 0.7000: 100%|██████████| 1000/1000 [00:11<00:00, 85.85it/s]\n",
      "loss: 0.8427, accuracy: 0.7400: 100%|██████████| 158/158 [00:01<00:00, 131.74it/s]\n",
      "loss: 0.7636, accuracy: 0.7600:   2%|▏         | 17/1000 [00:00<00:10, 91.63it/s]"
     ]
    },
    {
     "name": "stdout",
     "output_type": "stream",
     "text": [
      "Epoch 34: train_acc_0.7541_train_loss_0.7988_val_acc_0.7572_val_loss_0.7969 epoch time 12.9892 seconds\n",
      "total time7.0 : 33.70767164230347\n"
     ]
    },
    {
     "name": "stderr",
     "output_type": "stream",
     "text": [
      "loss: 1.1559, accuracy: 0.6800: 100%|██████████| 1000/1000 [00:11<00:00, 85.61it/s]\n",
      "loss: 0.8794, accuracy: 0.7700: 100%|██████████| 158/158 [00:01<00:00, 129.78it/s]\n",
      "loss: 0.4955, accuracy: 0.8200:   2%|▏         | 17/1000 [00:00<00:10, 89.70it/s]"
     ]
    },
    {
     "name": "stdout",
     "output_type": "stream",
     "text": [
      "Epoch 35: train_acc_0.7564_train_loss_0.7955_val_acc_0.7587_val_loss_0.7885 epoch time 13.0381 seconds\n",
      "total time7.0 : 46.745789527893066\n"
     ]
    },
    {
     "name": "stderr",
     "output_type": "stream",
     "text": [
      "loss: 0.9069, accuracy: 0.7300: 100%|██████████| 1000/1000 [00:11<00:00, 85.85it/s]\n",
      "loss: 0.7459, accuracy: 0.7500: 100%|██████████| 158/158 [00:01<00:00, 132.22it/s]\n",
      "loss: 0.7453, accuracy: 0.8200:   2%|▏         | 18/1000 [00:00<00:10, 97.97it/s]"
     ]
    },
    {
     "name": "stdout",
     "output_type": "stream",
     "text": [
      "Epoch 36: train_acc_0.7560_train_loss_0.7924_val_acc_0.7579_val_loss_0.7906 epoch time 12.9826 seconds\n",
      "total time7.0 : 59.72834014892578\n"
     ]
    },
    {
     "name": "stderr",
     "output_type": "stream",
     "text": [
      "loss: 0.8661, accuracy: 0.6500: 100%|██████████| 1000/1000 [00:11<00:00, 85.57it/s]\n",
      "loss: 0.5876, accuracy: 0.8400: 100%|██████████| 158/158 [00:01<00:00, 129.55it/s]\n",
      "loss: 0.6675, accuracy: 0.8200:   2%|▏         | 18/1000 [00:00<00:10, 94.73it/s]"
     ]
    },
    {
     "name": "stdout",
     "output_type": "stream",
     "text": [
      "Epoch 37: train_acc_0.7588_train_loss_0.7891_val_acc_0.7607_val_loss_0.7884 epoch time 13.0460 seconds\n",
      "total time8.0 : 12.774334192276001\n"
     ]
    },
    {
     "name": "stderr",
     "output_type": "stream",
     "text": [
      "loss: 0.6770, accuracy: 0.8000: 100%|██████████| 1000/1000 [00:11<00:00, 87.61it/s]\n",
      "loss: 0.7500, accuracy: 0.7700: 100%|██████████| 158/158 [00:01<00:00, 131.72it/s]\n",
      "loss: 0.6888, accuracy: 0.7700:   2%|▏         | 17/1000 [00:00<00:10, 93.68it/s]"
     ]
    },
    {
     "name": "stdout",
     "output_type": "stream",
     "text": [
      "Epoch 38: train_acc_0.7598_train_loss_0.7847_val_acc_0.7633_val_loss_0.7779 epoch time 12.7521 seconds\n",
      "total time8.0 : 25.526415586471558\n"
     ]
    },
    {
     "name": "stderr",
     "output_type": "stream",
     "text": [
      "loss: 0.7124, accuracy: 0.7500: 100%|██████████| 1000/1000 [00:11<00:00, 85.64it/s]\n",
      "loss: 0.9596, accuracy: 0.7000: 100%|██████████| 158/158 [00:01<00:00, 129.53it/s]\n",
      "loss: 0.7182, accuracy: 0.7400:   2%|▏         | 17/1000 [00:00<00:10, 90.31it/s]"
     ]
    },
    {
     "name": "stdout",
     "output_type": "stream",
     "text": [
      "Epoch 39: train_acc_0.7603_train_loss_0.7815_val_acc_0.7561_val_loss_0.7821 epoch time 13.0362 seconds\n",
      "total time8.0 : 38.56258845329285\n"
     ]
    },
    {
     "name": "stderr",
     "output_type": "stream",
     "text": [
      "loss: 0.6490, accuracy: 0.7900: 100%|██████████| 1000/1000 [00:11<00:00, 86.09it/s]\n",
      "loss: 0.7414, accuracy: 0.8000: 100%|██████████| 158/158 [00:01<00:00, 130.28it/s]\n",
      "loss: 0.6379, accuracy: 0.7900:   2%|▏         | 18/1000 [00:00<00:10, 93.64it/s]"
     ]
    },
    {
     "name": "stdout",
     "output_type": "stream",
     "text": [
      "Epoch 40: train_acc_0.7612_train_loss_0.7779_val_acc_0.7588_val_loss_0.7763 epoch time 12.9696 seconds\n",
      "total time8.0 : 51.53217601776123\n"
     ]
    },
    {
     "name": "stderr",
     "output_type": "stream",
     "text": [
      "loss: 0.7095, accuracy: 0.7800: 100%|██████████| 1000/1000 [00:11<00:00, 86.16it/s]\n",
      "loss: 0.6959, accuracy: 0.8100: 100%|██████████| 158/158 [00:01<00:00, 132.23it/s]\n",
      "loss: 0.6553, accuracy: 0.7800:   2%|▏         | 17/1000 [00:00<00:10, 92.22it/s]"
     ]
    },
    {
     "name": "stdout",
     "output_type": "stream",
     "text": [
      "Epoch 41: train_acc_0.7625_train_loss_0.7735_val_acc_0.7639_val_loss_0.7733 epoch time 12.9405 seconds\n",
      "total time9.0 : 4.472697496414185\n"
     ]
    },
    {
     "name": "stderr",
     "output_type": "stream",
     "text": [
      "loss: 0.4385, accuracy: 0.8900: 100%|██████████| 1000/1000 [00:11<00:00, 85.52it/s]\n",
      "loss: 0.8049, accuracy: 0.7500: 100%|██████████| 158/158 [00:01<00:00, 131.70it/s]\n",
      "loss: 0.8188, accuracy: 0.6800:   2%|▏         | 18/1000 [00:00<00:10, 95.77it/s]"
     ]
    },
    {
     "name": "stdout",
     "output_type": "stream",
     "text": [
      "Epoch 42: train_acc_0.7631_train_loss_0.7717_val_acc_0.7644_val_loss_0.7685 epoch time 13.0299 seconds\n",
      "total time9.0 : 17.502639055252075\n"
     ]
    },
    {
     "name": "stderr",
     "output_type": "stream",
     "text": [
      "loss: 0.6022, accuracy: 0.8200: 100%|██████████| 1000/1000 [00:11<00:00, 86.23it/s]\n",
      "loss: 0.7976, accuracy: 0.7000: 100%|██████████| 158/158 [00:01<00:00, 129.98it/s]\n",
      "loss: 0.8440, accuracy: 0.7200:   2%|▏         | 17/1000 [00:00<00:10, 91.64it/s]"
     ]
    },
    {
     "name": "stdout",
     "output_type": "stream",
     "text": [
      "Epoch 43: train_acc_0.7627_train_loss_0.7683_val_acc_0.7623_val_loss_0.7690 epoch time 12.9504 seconds\n",
      "total time9.0 : 30.45299243927002\n"
     ]
    },
    {
     "name": "stderr",
     "output_type": "stream",
     "text": [
      "loss: 0.6120, accuracy: 0.8100: 100%|██████████| 1000/1000 [00:11<00:00, 86.57it/s]\n",
      "loss: 0.6561, accuracy: 0.8200: 100%|██████████| 158/158 [00:01<00:00, 130.75it/s]\n",
      "loss: 0.6799, accuracy: 0.8000:   2%|▏         | 18/1000 [00:00<00:10, 92.04it/s]"
     ]
    },
    {
     "name": "stdout",
     "output_type": "stream",
     "text": [
      "Epoch 44: train_acc_0.7649_train_loss_0.7648_val_acc_0.7645_val_loss_0.7653 epoch time 12.8990 seconds\n",
      "total time9.0 : 43.35199165344238\n"
     ]
    },
    {
     "name": "stderr",
     "output_type": "stream",
     "text": [
      "loss: 0.8109, accuracy: 0.7300: 100%|██████████| 1000/1000 [00:11<00:00, 88.19it/s]\n",
      "loss: 0.7363, accuracy: 0.8000: 100%|██████████| 158/158 [00:01<00:00, 130.37it/s]\n",
      "loss: 0.5416, accuracy: 0.8100:   2%|▏         | 17/1000 [00:00<00:10, 91.86it/s]"
     ]
    },
    {
     "name": "stdout",
     "output_type": "stream",
     "text": [
      "Epoch 45: train_acc_0.7652_train_loss_0.7606_val_acc_0.7697_val_loss_0.7536 epoch time 12.9544 seconds\n",
      "total time9.0 : 56.306410789489746\n"
     ]
    },
    {
     "name": "stderr",
     "output_type": "stream",
     "text": [
      "loss: 0.9030, accuracy: 0.7400: 100%|██████████| 1000/1000 [00:11<00:00, 85.85it/s]\n",
      "loss: 0.6753, accuracy: 0.7700: 100%|██████████| 158/158 [00:01<00:00, 130.30it/s]\n",
      "loss: 0.7562, accuracy: 0.7500:   2%|▏         | 17/1000 [00:00<00:10, 91.37it/s]"
     ]
    },
    {
     "name": "stdout",
     "output_type": "stream",
     "text": [
      "Epoch 46: train_acc_0.7666_train_loss_0.7593_val_acc_0.7678_val_loss_0.7557 epoch time 12.9988 seconds\n",
      "total time10.0 : 9.30525517463684\n"
     ]
    },
    {
     "name": "stderr",
     "output_type": "stream",
     "text": [
      "loss: 0.8384, accuracy: 0.7500: 100%|██████████| 1000/1000 [00:11<00:00, 87.62it/s]\n",
      "loss: 0.8212, accuracy: 0.7300: 100%|██████████| 158/158 [00:01<00:00, 132.39it/s]\n",
      "loss: 0.5331, accuracy: 0.8900:   2%|▏         | 17/1000 [00:00<00:10, 92.34it/s]"
     ]
    },
    {
     "name": "stdout",
     "output_type": "stream",
     "text": [
      "Epoch 47: train_acc_0.7672_train_loss_0.7563_val_acc_0.7673_val_loss_0.7522 epoch time 13.0035 seconds\n",
      "total time10.0 : 22.308722734451294\n"
     ]
    },
    {
     "name": "stderr",
     "output_type": "stream",
     "text": [
      "loss: 0.5716, accuracy: 0.8400: 100%|██████████| 1000/1000 [00:11<00:00, 85.75it/s]\n",
      "loss: 0.7543, accuracy: 0.7900: 100%|██████████| 158/158 [00:01<00:00, 132.67it/s]\n",
      "loss: 0.9764, accuracy: 0.7200:   2%|▏         | 18/1000 [00:00<00:09, 98.66it/s]"
     ]
    },
    {
     "name": "stdout",
     "output_type": "stream",
     "text": [
      "Epoch 48: train_acc_0.7686_train_loss_0.7528_val_acc_0.7683_val_loss_0.7512 epoch time 12.9868 seconds\n",
      "total time10.0 : 35.295475006103516\n"
     ]
    },
    {
     "name": "stderr",
     "output_type": "stream",
     "text": [
      "loss: 0.8637, accuracy: 0.7100: 100%|██████████| 1000/1000 [00:11<00:00, 85.66it/s]\n",
      "loss: 0.9675, accuracy: 0.7300: 100%|██████████| 158/158 [00:01<00:00, 129.05it/s]\n",
      "loss: 0.7190, accuracy: 0.7600:   2%|▏         | 17/1000 [00:00<00:10, 93.21it/s]"
     ]
    },
    {
     "name": "stdout",
     "output_type": "stream",
     "text": [
      "Epoch 49: train_acc_0.7694_train_loss_0.7500_val_acc_0.7689_val_loss_0.7513 epoch time 13.0374 seconds\n",
      "total time10.0 : 48.332902669906616\n"
     ]
    },
    {
     "name": "stderr",
     "output_type": "stream",
     "text": [
      "loss: 0.8932, accuracy: 0.7600: 100%|██████████| 1000/1000 [00:11<00:00, 85.88it/s]\n",
      "loss: 0.5978, accuracy: 0.7800: 100%|██████████| 158/158 [00:01<00:00, 131.47it/s]\n",
      "loss: 0.8731, accuracy: 0.7700:   2%|▏         | 18/1000 [00:00<00:10, 93.34it/s]"
     ]
    },
    {
     "name": "stdout",
     "output_type": "stream",
     "text": [
      "Epoch 50: train_acc_0.7689_train_loss_0.7470_val_acc_0.7720_val_loss_0.7445 epoch time 12.9839 seconds\n",
      "total time11.0 : 1.3167893886566162\n"
     ]
    },
    {
     "name": "stderr",
     "output_type": "stream",
     "text": [
      "loss: 0.5693, accuracy: 0.8300: 100%|██████████| 1000/1000 [00:11<00:00, 86.00it/s]\n",
      "loss: 0.7658, accuracy: 0.7600: 100%|██████████| 158/158 [00:01<00:00, 134.03it/s]\n",
      "loss: 0.6868, accuracy: 0.8100:   2%|▏         | 18/1000 [00:00<00:10, 92.82it/s]"
     ]
    },
    {
     "name": "stdout",
     "output_type": "stream",
     "text": [
      "Epoch 51: train_acc_0.7705_train_loss_0.7441_val_acc_0.7689_val_loss_0.7467 epoch time 12.9485 seconds\n",
      "total time11.0 : 14.265289068222046\n"
     ]
    },
    {
     "name": "stderr",
     "output_type": "stream",
     "text": [
      "loss: 0.6569, accuracy: 0.7800: 100%|██████████| 1000/1000 [00:11<00:00, 86.07it/s]\n",
      "loss: 0.6895, accuracy: 0.7700: 100%|██████████| 158/158 [00:01<00:00, 130.22it/s]\n",
      "loss: 0.8767, accuracy: 0.7700:   2%|▏         | 18/1000 [00:00<00:10, 91.67it/s]"
     ]
    },
    {
     "name": "stdout",
     "output_type": "stream",
     "text": [
      "Epoch 52: train_acc_0.7708_train_loss_0.7417_val_acc_0.7703_val_loss_0.7454 epoch time 12.9720 seconds\n",
      "total time11.0 : 27.237322092056274\n"
     ]
    },
    {
     "name": "stderr",
     "output_type": "stream",
     "text": [
      "loss: 0.5840, accuracy: 0.8100: 100%|██████████| 1000/1000 [00:11<00:00, 85.62it/s]\n",
      "loss: 0.7982, accuracy: 0.7400: 100%|██████████| 158/158 [00:01<00:00, 131.36it/s]\n",
      "loss: 0.6636, accuracy: 0.7500:   2%|▏         | 18/1000 [00:00<00:10, 94.80it/s]"
     ]
    },
    {
     "name": "stdout",
     "output_type": "stream",
     "text": [
      "Epoch 53: train_acc_0.7716_train_loss_0.7386_val_acc_0.7696_val_loss_0.7435 epoch time 13.0208 seconds\n",
      "total time11.0 : 40.25817012786865\n"
     ]
    },
    {
     "name": "stderr",
     "output_type": "stream",
     "text": [
      "loss: 0.8015, accuracy: 0.7200: 100%|██████████| 1000/1000 [00:11<00:00, 88.60it/s]\n",
      "loss: 0.5903, accuracy: 0.8000: 100%|██████████| 158/158 [00:01<00:00, 132.57it/s]\n",
      "loss: 0.9394, accuracy: 0.7100:   2%|▏         | 17/1000 [00:00<00:10, 94.25it/s]"
     ]
    },
    {
     "name": "stdout",
     "output_type": "stream",
     "text": [
      "Epoch 54: train_acc_0.7721_train_loss_0.7363_val_acc_0.7730_val_loss_0.7314 epoch time 12.9521 seconds\n",
      "total time11.0 : 53.2102632522583\n"
     ]
    },
    {
     "name": "stderr",
     "output_type": "stream",
     "text": [
      "loss: 0.7910, accuracy: 0.7600: 100%|██████████| 1000/1000 [00:11<00:00, 87.60it/s]\n",
      "loss: 0.8770, accuracy: 0.7400: 100%|██████████| 158/158 [00:01<00:00, 142.86it/s]\n",
      "loss: 0.8148, accuracy: 0.7700:   2%|▏         | 18/1000 [00:00<00:10, 94.48it/s]"
     ]
    },
    {
     "name": "stdout",
     "output_type": "stream",
     "text": [
      "Epoch 55: train_acc_0.7741_train_loss_0.7331_val_acc_0.7741_val_loss_0.7302 epoch time 12.6571 seconds\n",
      "total time12.0 : 5.86736798286438\n"
     ]
    },
    {
     "name": "stderr",
     "output_type": "stream",
     "text": [
      "loss: 0.7307, accuracy: 0.8200: 100%|██████████| 1000/1000 [00:11<00:00, 87.78it/s]\n",
      "loss: 0.6450, accuracy: 0.7900: 100%|██████████| 158/158 [00:01<00:00, 129.98it/s]\n",
      "loss: 0.8977, accuracy: 0.7300:   2%|▏         | 18/1000 [00:00<00:10, 97.92it/s]"
     ]
    },
    {
     "name": "stdout",
     "output_type": "stream",
     "text": [
      "Epoch 56: train_acc_0.7741_train_loss_0.7309_val_acc_0.7779_val_loss_0.7286 epoch time 12.7474 seconds\n",
      "total time12.0 : 18.61477780342102\n"
     ]
    },
    {
     "name": "stderr",
     "output_type": "stream",
     "text": [
      "loss: 0.8512, accuracy: 0.7300: 100%|██████████| 1000/1000 [00:11<00:00, 85.96it/s]\n",
      "loss: 0.6647, accuracy: 0.7800: 100%|██████████| 158/158 [00:01<00:00, 133.02it/s]\n",
      "loss: 0.7896, accuracy: 0.7700:   2%|▏         | 18/1000 [00:00<00:10, 92.30it/s]"
     ]
    },
    {
     "name": "stdout",
     "output_type": "stream",
     "text": [
      "Epoch 57: train_acc_0.7745_train_loss_0.7279_val_acc_0.7721_val_loss_0.7298 epoch time 12.9607 seconds\n",
      "total time12.0 : 31.5754337310791\n"
     ]
    },
    {
     "name": "stderr",
     "output_type": "stream",
     "text": [
      "loss: 0.6813, accuracy: 0.7900: 100%|██████████| 1000/1000 [00:11<00:00, 86.09it/s]\n",
      "loss: 0.7972, accuracy: 0.7500: 100%|██████████| 158/158 [00:01<00:00, 131.89it/s]\n",
      "loss: 0.7881, accuracy: 0.7100:   2%|▏         | 18/1000 [00:00<00:10, 94.73it/s]"
     ]
    },
    {
     "name": "stdout",
     "output_type": "stream",
     "text": [
      "Epoch 58: train_acc_0.7756_train_loss_0.7258_val_acc_0.7718_val_loss_0.7276 epoch time 12.9472 seconds\n",
      "total time12.0 : 44.52268028259277\n"
     ]
    },
    {
     "name": "stderr",
     "output_type": "stream",
     "text": [
      "loss: 0.7869, accuracy: 0.7600: 100%|██████████| 1000/1000 [00:11<00:00, 86.00it/s]\n",
      "loss: 0.6697, accuracy: 0.7800: 100%|██████████| 158/158 [00:01<00:00, 132.46it/s]\n",
      "loss: 0.6654, accuracy: 0.7900:   2%|▏         | 17/1000 [00:00<00:10, 93.52it/s]"
     ]
    },
    {
     "name": "stdout",
     "output_type": "stream",
     "text": [
      "Epoch 59: train_acc_0.7762_train_loss_0.7230_val_acc_0.7777_val_loss_0.7221 epoch time 12.9605 seconds\n",
      "total time12.0 : 57.48313856124878\n"
     ]
    },
    {
     "name": "stderr",
     "output_type": "stream",
     "text": [
      "loss: 0.9757, accuracy: 0.7900: 100%|██████████| 1000/1000 [00:11<00:00, 85.72it/s]\n",
      "loss: 0.6290, accuracy: 0.7500: 100%|██████████| 158/158 [00:01<00:00, 131.00it/s]\n",
      "loss: 0.6816, accuracy: 0.7800:   2%|▏         | 17/1000 [00:00<00:10, 93.50it/s]"
     ]
    },
    {
     "name": "stdout",
     "output_type": "stream",
     "text": [
      "Epoch 60: train_acc_0.7772_train_loss_0.7210_val_acc_0.7740_val_loss_0.7251 epoch time 13.0110 seconds\n",
      "total time13.0 : 10.494154691696167\n"
     ]
    },
    {
     "name": "stderr",
     "output_type": "stream",
     "text": [
      "loss: 0.5993, accuracy: 0.8200: 100%|██████████| 1000/1000 [00:11<00:00, 87.47it/s]\n",
      "loss: 0.7314, accuracy: 0.7900: 100%|██████████| 158/158 [00:01<00:00, 140.92it/s]\n",
      "loss: 0.8254, accuracy: 0.7600:   2%|▏         | 18/1000 [00:00<00:10, 91.10it/s]"
     ]
    },
    {
     "name": "stdout",
     "output_type": "stream",
     "text": [
      "Epoch 61: train_acc_0.7782_train_loss_0.7187_val_acc_0.7801_val_loss_0.7180 epoch time 12.6924 seconds\n",
      "total time13.0 : 23.18655252456665\n"
     ]
    },
    {
     "name": "stderr",
     "output_type": "stream",
     "text": [
      "loss: 0.9070, accuracy: 0.7100: 100%|██████████| 1000/1000 [00:11<00:00, 87.75it/s]\n",
      "loss: 0.5248, accuracy: 0.8500: 100%|██████████| 158/158 [00:01<00:00, 131.77it/s]\n",
      "loss: 0.7435, accuracy: 0.7700:   2%|▏         | 17/1000 [00:00<00:10, 91.82it/s]"
     ]
    },
    {
     "name": "stdout",
     "output_type": "stream",
     "text": [
      "Epoch 62: train_acc_0.7782_train_loss_0.7160_val_acc_0.7777_val_loss_0.7163 epoch time 13.0144 seconds\n",
      "total time13.0 : 36.20098400115967\n"
     ]
    },
    {
     "name": "stderr",
     "output_type": "stream",
     "text": [
      "loss: 1.1765, accuracy: 0.6900: 100%|██████████| 1000/1000 [00:11<00:00, 86.77it/s]\n",
      "loss: 0.7835, accuracy: 0.8300: 100%|██████████| 158/158 [00:01<00:00, 132.23it/s]\n",
      "loss: 0.5886, accuracy: 0.8300:   2%|▏         | 18/1000 [00:00<00:10, 91.34it/s]"
     ]
    },
    {
     "name": "stdout",
     "output_type": "stream",
     "text": [
      "Epoch 63: train_acc_0.7794_train_loss_0.7130_val_acc_0.7761_val_loss_0.7141 epoch time 12.9446 seconds\n",
      "total time13.0 : 49.14561653137207\n"
     ]
    },
    {
     "name": "stderr",
     "output_type": "stream",
     "text": [
      "loss: 0.7181, accuracy: 0.7800: 100%|██████████| 1000/1000 [00:11<00:00, 86.26it/s]\n",
      "loss: 0.6359, accuracy: 0.8300: 100%|██████████| 158/158 [00:01<00:00, 132.17it/s]\n",
      "loss: 0.8465, accuracy: 0.7100:   2%|▏         | 17/1000 [00:00<00:10, 91.23it/s]"
     ]
    },
    {
     "name": "stdout",
     "output_type": "stream",
     "text": [
      "Epoch 64: train_acc_0.7799_train_loss_0.7112_val_acc_0.7778_val_loss_0.7127 epoch time 12.9287 seconds\n",
      "total time14.0 : 2.0743234157562256\n"
     ]
    },
    {
     "name": "stderr",
     "output_type": "stream",
     "text": [
      "loss: 0.7937, accuracy: 0.7200: 100%|██████████| 1000/1000 [00:11<00:00, 86.25it/s]\n",
      "loss: 0.6878, accuracy: 0.7600: 100%|██████████| 158/158 [00:01<00:00, 140.21it/s]\n",
      "loss: 0.7986, accuracy: 0.7700:   2%|▏         | 17/1000 [00:00<00:10, 92.25it/s]"
     ]
    },
    {
     "name": "stdout",
     "output_type": "stream",
     "text": [
      "Epoch 65: train_acc_0.7813_train_loss_0.7088_val_acc_0.7794_val_loss_0.7107 epoch time 12.9227 seconds\n",
      "total time14.0 : 14.997039079666138\n"
     ]
    },
    {
     "name": "stderr",
     "output_type": "stream",
     "text": [
      "loss: 0.8884, accuracy: 0.7800: 100%|██████████| 1000/1000 [00:11<00:00, 85.86it/s]\n",
      "loss: 0.6036, accuracy: 0.8300: 100%|██████████| 158/158 [00:01<00:00, 129.85it/s]\n",
      "loss: 0.7105, accuracy: 0.7500:   2%|▏         | 17/1000 [00:00<00:10, 94.08it/s]"
     ]
    },
    {
     "name": "stdout",
     "output_type": "stream",
     "text": [
      "Epoch 66: train_acc_0.7816_train_loss_0.7067_val_acc_0.7806_val_loss_0.7055 epoch time 13.0008 seconds\n",
      "total time14.0 : 27.99783730506897\n"
     ]
    },
    {
     "name": "stderr",
     "output_type": "stream",
     "text": [
      "loss: 0.7179, accuracy: 0.7800: 100%|██████████| 1000/1000 [00:11<00:00, 90.01it/s]\n",
      "loss: 0.7292, accuracy: 0.7900: 100%|██████████| 158/158 [00:01<00:00, 131.42it/s]\n",
      "loss: 0.6011, accuracy: 0.7700:   2%|▏         | 17/1000 [00:00<00:10, 92.65it/s]"
     ]
    },
    {
     "name": "stdout",
     "output_type": "stream",
     "text": [
      "Epoch 67: train_acc_0.7820_train_loss_0.7049_val_acc_0.7803_val_loss_0.7069 epoch time 12.9354 seconds\n",
      "total time14.0 : 40.93326163291931\n"
     ]
    },
    {
     "name": "stderr",
     "output_type": "stream",
     "text": [
      "loss: 0.8061, accuracy: 0.7400: 100%|██████████| 1000/1000 [00:11<00:00, 87.11it/s]\n",
      "loss: 0.6890, accuracy: 0.8200: 100%|██████████| 158/158 [00:01<00:00, 131.61it/s]\n",
      "loss: 0.8588, accuracy: 0.7500:   2%|▏         | 18/1000 [00:00<00:10, 94.26it/s]"
     ]
    },
    {
     "name": "stdout",
     "output_type": "stream",
     "text": [
      "Epoch 68: train_acc_0.7822_train_loss_0.7029_val_acc_0.7811_val_loss_0.7073 epoch time 12.9939 seconds\n",
      "total time14.0 : 53.92712616920471\n"
     ]
    },
    {
     "name": "stderr",
     "output_type": "stream",
     "text": [
      "loss: 0.7227, accuracy: 0.7900: 100%|██████████| 1000/1000 [00:11<00:00, 85.64it/s]\n",
      "loss: 0.6157, accuracy: 0.7900: 100%|██████████| 158/158 [00:01<00:00, 130.98it/s]\n",
      "loss: 0.7038, accuracy: 0.8100:   2%|▏         | 17/1000 [00:00<00:10, 93.02it/s]"
     ]
    },
    {
     "name": "stdout",
     "output_type": "stream",
     "text": [
      "Epoch 69: train_acc_0.7830_train_loss_0.7001_val_acc_0.7803_val_loss_0.7017 epoch time 13.0255 seconds\n",
      "total time15.0 : 6.952645540237427\n"
     ]
    },
    {
     "name": "stderr",
     "output_type": "stream",
     "text": [
      "loss: 0.9263, accuracy: 0.7400: 100%|██████████| 1000/1000 [00:11<00:00, 85.75it/s]\n",
      "loss: 0.5961, accuracy: 0.8000: 100%|██████████| 158/158 [00:01<00:00, 131.34it/s]\n",
      "loss: 0.6160, accuracy: 0.8200:   2%|▏         | 18/1000 [00:00<00:10, 96.42it/s]"
     ]
    },
    {
     "name": "stdout",
     "output_type": "stream",
     "text": [
      "Epoch 70: train_acc_0.7833_train_loss_0.6978_val_acc_0.7846_val_loss_0.6954 epoch time 13.0058 seconds\n",
      "total time15.0 : 19.958494424819946\n"
     ]
    },
    {
     "name": "stderr",
     "output_type": "stream",
     "text": [
      "loss: 0.5956, accuracy: 0.8300: 100%|██████████| 1000/1000 [00:11<00:00, 87.10it/s]\n",
      "loss: 0.8880, accuracy: 0.7600: 100%|██████████| 158/158 [00:01<00:00, 131.47it/s]\n",
      "loss: 0.7708, accuracy: 0.7900:   2%|▏         | 17/1000 [00:00<00:10, 92.86it/s]"
     ]
    },
    {
     "name": "stdout",
     "output_type": "stream",
     "text": [
      "Epoch 71: train_acc_0.7843_train_loss_0.6961_val_acc_0.7851_val_loss_0.6947 epoch time 13.0168 seconds\n",
      "total time15.0 : 32.9752893447876\n"
     ]
    },
    {
     "name": "stderr",
     "output_type": "stream",
     "text": [
      "loss: 0.7599, accuracy: 0.7300: 100%|██████████| 1000/1000 [00:11<00:00, 85.89it/s]\n",
      "loss: 0.7736, accuracy: 0.7800: 100%|██████████| 158/158 [00:01<00:00, 129.62it/s]\n",
      "loss: 0.8842, accuracy: 0.7400:   2%|▏         | 18/1000 [00:00<00:10, 91.26it/s]"
     ]
    },
    {
     "name": "stdout",
     "output_type": "stream",
     "text": [
      "Epoch 72: train_acc_0.7851_train_loss_0.6931_val_acc_0.7851_val_loss_0.6942 epoch time 13.0037 seconds\n",
      "total time15.0 : 45.978976011276245\n"
     ]
    },
    {
     "name": "stderr",
     "output_type": "stream",
     "text": [
      "loss: 0.7984, accuracy: 0.6900: 100%|██████████| 1000/1000 [00:11<00:00, 85.80it/s]\n",
      "loss: 0.7769, accuracy: 0.8000: 100%|██████████| 158/158 [00:01<00:00, 134.40it/s]\n",
      "loss: 0.8582, accuracy: 0.7700:   2%|▏         | 18/1000 [00:00<00:10, 96.11it/s]"
     ]
    },
    {
     "name": "stdout",
     "output_type": "stream",
     "text": [
      "Epoch 73: train_acc_0.7855_train_loss_0.6916_val_acc_0.7806_val_loss_0.6942 epoch time 12.9691 seconds\n",
      "total time15.0 : 58.948081970214844\n"
     ]
    },
    {
     "name": "stderr",
     "output_type": "stream",
     "text": [
      "loss: 0.6522, accuracy: 0.8200: 100%|██████████| 1000/1000 [00:11<00:00, 85.54it/s]\n",
      "loss: 0.6897, accuracy: 0.8200: 100%|██████████| 158/158 [00:01<00:00, 131.19it/s]\n",
      "loss: 0.8905, accuracy: 0.7800:   2%|▏         | 17/1000 [00:00<00:10, 94.47it/s]"
     ]
    },
    {
     "name": "stdout",
     "output_type": "stream",
     "text": [
      "Epoch 74: train_acc_0.7857_train_loss_0.6896_val_acc_0.7853_val_loss_0.6862 epoch time 13.0367 seconds\n",
      "total time16.0 : 11.984791994094849\n"
     ]
    },
    {
     "name": "stderr",
     "output_type": "stream",
     "text": [
      "loss: 0.7442, accuracy: 0.8000: 100%|██████████| 1000/1000 [00:11<00:00, 85.63it/s]\n",
      "loss: 0.8029, accuracy: 0.7500: 100%|██████████| 158/158 [00:01<00:00, 132.40it/s]\n",
      "loss: 0.8281, accuracy: 0.7700:   2%|▏         | 18/1000 [00:00<00:10, 94.46it/s]"
     ]
    },
    {
     "name": "stdout",
     "output_type": "stream",
     "text": [
      "Epoch 75: train_acc_0.7867_train_loss_0.6869_val_acc_0.7856_val_loss_0.6939 epoch time 13.0121 seconds\n",
      "total time16.0 : 24.99686574935913\n"
     ]
    },
    {
     "name": "stderr",
     "output_type": "stream",
     "text": [
      "loss: 0.9051, accuracy: 0.7100: 100%|██████████| 1000/1000 [00:11<00:00, 85.45it/s]\n",
      "loss: 0.5824, accuracy: 0.8300: 100%|██████████| 158/158 [00:01<00:00, 130.97it/s]\n",
      "loss: 0.8048, accuracy: 0.7400:   2%|▏         | 17/1000 [00:00<00:10, 92.44it/s]"
     ]
    },
    {
     "name": "stdout",
     "output_type": "stream",
     "text": [
      "Epoch 76: train_acc_0.7879_train_loss_0.6850_val_acc_0.7885_val_loss_0.6879 epoch time 13.0479 seconds\n",
      "total time16.0 : 38.04479622840881\n"
     ]
    },
    {
     "name": "stderr",
     "output_type": "stream",
     "text": [
      "loss: 0.8108, accuracy: 0.7800: 100%|██████████| 1000/1000 [00:11<00:00, 86.26it/s]\n",
      "loss: 0.5804, accuracy: 0.7600: 100%|██████████| 158/158 [00:01<00:00, 133.63it/s]\n",
      "loss: 0.5384, accuracy: 0.8700:   2%|▏         | 17/1000 [00:00<00:10, 91.36it/s]"
     ]
    },
    {
     "name": "stdout",
     "output_type": "stream",
     "text": [
      "Epoch 77: train_acc_0.7882_train_loss_0.6836_val_acc_0.7859_val_loss_0.6855 epoch time 12.9107 seconds\n",
      "total time16.0 : 50.95553469657898\n"
     ]
    },
    {
     "name": "stderr",
     "output_type": "stream",
     "text": [
      "loss: 0.7032, accuracy: 0.8300: 100%|██████████| 1000/1000 [00:11<00:00, 85.79it/s]\n",
      "loss: 0.7299, accuracy: 0.7800: 100%|██████████| 158/158 [00:01<00:00, 133.31it/s]\n",
      "loss: 0.8879, accuracy: 0.8400:   2%|▏         | 18/1000 [00:00<00:10, 93.60it/s]"
     ]
    },
    {
     "name": "stdout",
     "output_type": "stream",
     "text": [
      "Epoch 78: train_acc_0.7887_train_loss_0.6819_val_acc_0.7866_val_loss_0.6853 epoch time 12.9817 seconds\n",
      "total time17.0 : 3.9372003078460693\n"
     ]
    },
    {
     "name": "stderr",
     "output_type": "stream",
     "text": [
      "loss: 0.6403, accuracy: 0.7900: 100%|██████████| 1000/1000 [00:11<00:00, 87.53it/s]\n",
      "loss: 0.6392, accuracy: 0.7300: 100%|██████████| 158/158 [00:01<00:00, 140.20it/s]\n",
      "loss: 0.6063, accuracy: 0.8100:   2%|▏         | 18/1000 [00:00<00:10, 97.97it/s]"
     ]
    },
    {
     "name": "stdout",
     "output_type": "stream",
     "text": [
      "Epoch 79: train_acc_0.7881_train_loss_0.6802_val_acc_0.7875_val_loss_0.6815 epoch time 12.6869 seconds\n",
      "total time17.0 : 16.624080419540405\n"
     ]
    },
    {
     "name": "stderr",
     "output_type": "stream",
     "text": [
      "loss: 0.6929, accuracy: 0.7800: 100%|██████████| 1000/1000 [00:11<00:00, 87.68it/s]\n",
      "loss: 0.7746, accuracy: 0.7500: 100%|██████████| 158/158 [00:01<00:00, 128.86it/s]\n",
      "loss: 0.6840, accuracy: 0.8000:   2%|▏         | 17/1000 [00:00<00:10, 91.63it/s]"
     ]
    },
    {
     "name": "stdout",
     "output_type": "stream",
     "text": [
      "Epoch 80: train_acc_0.7906_train_loss_0.6774_val_acc_0.7867_val_loss_0.6782 epoch time 12.7726 seconds\n",
      "total time17.0 : 29.396647214889526\n"
     ]
    },
    {
     "name": "stderr",
     "output_type": "stream",
     "text": [
      "loss: 0.6255, accuracy: 0.7600: 100%|██████████| 1000/1000 [00:11<00:00, 86.19it/s]\n",
      "loss: 0.6805, accuracy: 0.7900: 100%|██████████| 158/158 [00:01<00:00, 131.24it/s]\n",
      "loss: 0.7138, accuracy: 0.7600:   2%|▏         | 17/1000 [00:00<00:10, 90.56it/s]"
     ]
    },
    {
     "name": "stdout",
     "output_type": "stream",
     "text": [
      "Epoch 81: train_acc_0.7902_train_loss_0.6760_val_acc_0.7879_val_loss_0.6757 epoch time 12.9451 seconds\n",
      "total time17.0 : 42.3417911529541\n"
     ]
    },
    {
     "name": "stderr",
     "output_type": "stream",
     "text": [
      "loss: 0.8605, accuracy: 0.7200: 100%|██████████| 1000/1000 [00:11<00:00, 85.40it/s]\n",
      "loss: 0.6234, accuracy: 0.8000: 100%|██████████| 158/158 [00:01<00:00, 131.91it/s]\n",
      "loss: 0.6439, accuracy: 0.8300:   2%|▏         | 17/1000 [00:00<00:10, 89.50it/s]"
     ]
    },
    {
     "name": "stdout",
     "output_type": "stream",
     "text": [
      "Epoch 82: train_acc_0.7904_train_loss_0.6745_val_acc_0.7889_val_loss_0.6725 epoch time 13.0486 seconds\n",
      "total time17.0 : 55.3903865814209\n"
     ]
    },
    {
     "name": "stderr",
     "output_type": "stream",
     "text": [
      "loss: 1.0536, accuracy: 0.7400: 100%|██████████| 1000/1000 [00:11<00:00, 85.56it/s]\n",
      "loss: 0.5909, accuracy: 0.8300: 100%|██████████| 158/158 [00:01<00:00, 131.62it/s]\n",
      "loss: 0.6666, accuracy: 0.7900:   2%|▏         | 18/1000 [00:00<00:10, 94.89it/s]"
     ]
    },
    {
     "name": "stdout",
     "output_type": "stream",
     "text": [
      "Epoch 83: train_acc_0.7915_train_loss_0.6725_val_acc_0.7898_val_loss_0.6783 epoch time 13.0304 seconds\n",
      "total time18.0 : 8.420751333236694\n"
     ]
    },
    {
     "name": "stderr",
     "output_type": "stream",
     "text": [
      "loss: 0.7669, accuracy: 0.7600: 100%|██████████| 1000/1000 [00:11<00:00, 86.26it/s]\n",
      "loss: 0.7333, accuracy: 0.7800: 100%|██████████| 158/158 [00:01<00:00, 131.69it/s]\n",
      "loss: 0.5095, accuracy: 0.8400:   2%|▏         | 18/1000 [00:00<00:10, 94.48it/s]"
     ]
    },
    {
     "name": "stdout",
     "output_type": "stream",
     "text": [
      "Epoch 84: train_acc_0.7923_train_loss_0.6710_val_acc_0.7885_val_loss_0.6748 epoch time 12.9322 seconds\n",
      "total time18.0 : 21.35291337966919\n"
     ]
    },
    {
     "name": "stderr",
     "output_type": "stream",
     "text": [
      "loss: 0.6985, accuracy: 0.7800: 100%|██████████| 1000/1000 [00:11<00:00, 87.89it/s]\n",
      "loss: 0.5438, accuracy: 0.8400: 100%|██████████| 158/158 [00:01<00:00, 130.18it/s]\n",
      "loss: 0.7529, accuracy: 0.7500:   2%|▏         | 18/1000 [00:00<00:10, 95.40it/s]"
     ]
    },
    {
     "name": "stdout",
     "output_type": "stream",
     "text": [
      "Epoch 85: train_acc_0.7915_train_loss_0.6697_val_acc_0.7882_val_loss_0.6719 epoch time 12.7319 seconds\n",
      "total time18.0 : 34.08476901054382\n"
     ]
    },
    {
     "name": "stderr",
     "output_type": "stream",
     "text": [
      "loss: 0.6876, accuracy: 0.8200: 100%|██████████| 1000/1000 [00:11<00:00, 86.39it/s]\n",
      "loss: 0.6795, accuracy: 0.7900: 100%|██████████| 158/158 [00:01<00:00, 132.45it/s]\n",
      "loss: 0.4254, accuracy: 0.9000:   2%|▏         | 18/1000 [00:00<00:10, 96.02it/s]"
     ]
    },
    {
     "name": "stdout",
     "output_type": "stream",
     "text": [
      "Epoch 86: train_acc_0.7926_train_loss_0.6676_val_acc_0.7892_val_loss_0.6760 epoch time 12.9054 seconds\n",
      "total time18.0 : 46.990139961242676\n"
     ]
    },
    {
     "name": "stderr",
     "output_type": "stream",
     "text": [
      "loss: 0.6954, accuracy: 0.7700: 100%|██████████| 1000/1000 [00:11<00:00, 88.10it/s]\n",
      "loss: 0.5020, accuracy: 0.8600: 100%|██████████| 158/158 [00:01<00:00, 138.77it/s]\n",
      "loss: 0.7668, accuracy: 0.7400:   2%|▏         | 18/1000 [00:00<00:10, 93.02it/s]"
     ]
    },
    {
     "name": "stdout",
     "output_type": "stream",
     "text": [
      "Epoch 87: train_acc_0.7928_train_loss_0.6662_val_acc_0.7908_val_loss_0.6725 epoch time 12.6638 seconds\n",
      "total time18.0 : 59.65394067764282\n"
     ]
    },
    {
     "name": "stderr",
     "output_type": "stream",
     "text": [
      "loss: 0.6191, accuracy: 0.8100: 100%|██████████| 1000/1000 [00:11<00:00, 87.17it/s]\n",
      "loss: 0.5728, accuracy: 0.8000: 100%|██████████| 158/158 [00:01<00:00, 135.41it/s]\n",
      "loss: 0.6277, accuracy: 0.7300:   2%|▏         | 18/1000 [00:00<00:10, 92.62it/s]"
     ]
    },
    {
     "name": "stdout",
     "output_type": "stream",
     "text": [
      "Epoch 88: train_acc_0.7935_train_loss_0.6644_val_acc_0.7909_val_loss_0.6670 epoch time 12.7707 seconds\n",
      "total time19.0 : 12.424674272537231\n"
     ]
    },
    {
     "name": "stderr",
     "output_type": "stream",
     "text": [
      "loss: 0.8497, accuracy: 0.8100: 100%|██████████| 1000/1000 [00:11<00:00, 87.38it/s]\n",
      "loss: 0.6697, accuracy: 0.8400: 100%|██████████| 158/158 [00:01<00:00, 131.54it/s]\n",
      "loss: 0.6782, accuracy: 0.7900:   2%|▏         | 17/1000 [00:00<00:10, 94.24it/s]"
     ]
    },
    {
     "name": "stdout",
     "output_type": "stream",
     "text": [
      "Epoch 89: train_acc_0.7951_train_loss_0.6630_val_acc_0.7899_val_loss_0.6646 epoch time 12.7810 seconds\n",
      "total time19.0 : 25.20571208000183\n"
     ]
    },
    {
     "name": "stderr",
     "output_type": "stream",
     "text": [
      "loss: 0.5250, accuracy: 0.8500: 100%|██████████| 1000/1000 [00:11<00:00, 86.43it/s]\n",
      "loss: 0.4582, accuracy: 0.8400: 100%|██████████| 158/158 [00:01<00:00, 131.02it/s]\n",
      "loss: 0.5911, accuracy: 0.8000:   2%|▏         | 18/1000 [00:00<00:10, 92.19it/s]"
     ]
    },
    {
     "name": "stdout",
     "output_type": "stream",
     "text": [
      "Epoch 90: train_acc_0.7948_train_loss_0.6618_val_acc_0.7945_val_loss_0.6602 epoch time 12.9156 seconds\n",
      "total time19.0 : 38.1212682723999\n"
     ]
    },
    {
     "name": "stderr",
     "output_type": "stream",
     "text": [
      "loss: 0.7561, accuracy: 0.8200: 100%|██████████| 1000/1000 [00:11<00:00, 86.08it/s]\n",
      "loss: 0.6830, accuracy: 0.8300: 100%|██████████| 158/158 [00:01<00:00, 132.27it/s]\n",
      "loss: 0.9412, accuracy: 0.7500:   2%|▏         | 17/1000 [00:00<00:10, 94.39it/s]"
     ]
    },
    {
     "name": "stdout",
     "output_type": "stream",
     "text": [
      "Epoch 91: train_acc_0.7953_train_loss_0.6602_val_acc_0.7933_val_loss_0.6593 epoch time 12.9517 seconds\n",
      "total time19.0 : 51.07292699813843\n"
     ]
    },
    {
     "name": "stderr",
     "output_type": "stream",
     "text": [
      "loss: 0.7727, accuracy: 0.7500: 100%|██████████| 1000/1000 [00:11<00:00, 86.12it/s]\n",
      "loss: 0.6674, accuracy: 0.7400: 100%|██████████| 158/158 [00:01<00:00, 132.80it/s]\n",
      "loss: 0.5326, accuracy: 0.7600:   2%|▏         | 17/1000 [00:00<00:10, 91.09it/s]"
     ]
    },
    {
     "name": "stdout",
     "output_type": "stream",
     "text": [
      "Epoch 92: train_acc_0.7953_train_loss_0.6589_val_acc_0.7913_val_loss_0.6629 epoch time 12.9395 seconds\n",
      "total time20.0 : 4.012461185455322\n"
     ]
    },
    {
     "name": "stderr",
     "output_type": "stream",
     "text": [
      "loss: 0.6774, accuracy: 0.7900: 100%|██████████| 1000/1000 [00:11<00:00, 86.13it/s]\n",
      "loss: 0.7059, accuracy: 0.7900: 100%|██████████| 158/158 [00:01<00:00, 130.51it/s]\n",
      "loss: 0.4550, accuracy: 0.8300:   2%|▏         | 18/1000 [00:00<00:10, 97.68it/s]"
     ]
    },
    {
     "name": "stdout",
     "output_type": "stream",
     "text": [
      "Epoch 93: train_acc_0.7958_train_loss_0.6578_val_acc_0.7944_val_loss_0.6596 epoch time 12.9604 seconds\n",
      "total time20.0 : 16.97282648086548\n"
     ]
    },
    {
     "name": "stderr",
     "output_type": "stream",
     "text": [
      "loss: 0.6121, accuracy: 0.8200: 100%|██████████| 1000/1000 [00:11<00:00, 85.64it/s]\n",
      "loss: 0.9606, accuracy: 0.6900: 100%|██████████| 158/158 [00:01<00:00, 131.90it/s]\n",
      "loss: 0.7557, accuracy: 0.8000:   2%|▏         | 17/1000 [00:00<00:10, 90.95it/s]"
     ]
    },
    {
     "name": "stdout",
     "output_type": "stream",
     "text": [
      "Epoch 94: train_acc_0.7951_train_loss_0.6566_val_acc_0.7917_val_loss_0.6599 epoch time 13.0129 seconds\n",
      "total time20.0 : 29.985764026641846\n"
     ]
    },
    {
     "name": "stderr",
     "output_type": "stream",
     "text": [
      "loss: 0.5683, accuracy: 0.8800: 100%|██████████| 1000/1000 [00:11<00:00, 85.79it/s]\n",
      "loss: 0.9319, accuracy: 0.7500: 100%|██████████| 158/158 [00:01<00:00, 131.22it/s]\n",
      "loss: 0.6024, accuracy: 0.8000:   2%|▏         | 17/1000 [00:00<00:10, 90.30it/s]"
     ]
    },
    {
     "name": "stdout",
     "output_type": "stream",
     "text": [
      "Epoch 95: train_acc_0.7974_train_loss_0.6546_val_acc_0.7947_val_loss_0.6528 epoch time 12.9999 seconds\n",
      "total time20.0 : 42.985679149627686\n"
     ]
    },
    {
     "name": "stderr",
     "output_type": "stream",
     "text": [
      "loss: 0.6568, accuracy: 0.7500: 100%|██████████| 1000/1000 [00:11<00:00, 85.55it/s]\n",
      "loss: 0.5644, accuracy: 0.8200: 100%|██████████| 158/158 [00:01<00:00, 129.83it/s]\n",
      "loss: 0.4825, accuracy: 0.8300:   2%|▏         | 17/1000 [00:00<00:10, 92.74it/s]"
     ]
    },
    {
     "name": "stdout",
     "output_type": "stream",
     "text": [
      "Epoch 96: train_acc_0.7973_train_loss_0.6530_val_acc_0.7961_val_loss_0.6573 epoch time 13.0468 seconds\n",
      "total time20.0 : 56.03251886367798\n"
     ]
    },
    {
     "name": "stderr",
     "output_type": "stream",
     "text": [
      "loss: 0.7600, accuracy: 0.7500: 100%|██████████| 1000/1000 [00:11<00:00, 85.71it/s]\n",
      "loss: 0.7113, accuracy: 0.7500: 100%|██████████| 158/158 [00:01<00:00, 129.92it/s]\n",
      "loss: 0.7815, accuracy: 0.7500:   2%|▏         | 18/1000 [00:00<00:10, 93.78it/s]"
     ]
    },
    {
     "name": "stdout",
     "output_type": "stream",
     "text": [
      "Epoch 97: train_acc_0.7969_train_loss_0.6527_val_acc_0.7961_val_loss_0.6562 epoch time 13.0212 seconds\n",
      "total time21.0 : 9.053687810897827\n"
     ]
    },
    {
     "name": "stderr",
     "output_type": "stream",
     "text": [
      "loss: 0.5435, accuracy: 0.8500: 100%|██████████| 1000/1000 [00:11<00:00, 85.62it/s]\n",
      "loss: 0.8857, accuracy: 0.7600: 100%|██████████| 158/158 [00:01<00:00, 132.24it/s]\n",
      "loss: 0.5981, accuracy: 0.8300:   2%|▏         | 18/1000 [00:00<00:10, 92.96it/s]"
     ]
    },
    {
     "name": "stdout",
     "output_type": "stream",
     "text": [
      "Epoch 98: train_acc_0.7965_train_loss_0.6517_val_acc_0.7905_val_loss_0.6583 epoch time 13.0144 seconds\n",
      "total time21.0 : 22.068099975585938\n"
     ]
    },
    {
     "name": "stderr",
     "output_type": "stream",
     "text": [
      "loss: 0.5678, accuracy: 0.7900: 100%|██████████| 1000/1000 [00:11<00:00, 85.56it/s]\n",
      "loss: 0.5812, accuracy: 0.8200: 100%|██████████| 158/158 [00:01<00:00, 129.24it/s]\n",
      "loss: 0.5567, accuracy: 0.8300:  18%|█▊        | 28/158 [00:00<00:00, 153.19it/s]"
     ]
    },
    {
     "name": "stdout",
     "output_type": "stream",
     "text": [
      "Epoch 99: train_acc_0.7979_train_loss_0.6497_val_acc_0.7954_val_loss_0.6561 epoch time 13.0510 seconds\n",
      "total time21.0 : 35.11910557746887\n",
      "Generating test set evaluation metrics\n"
     ]
    },
    {
     "name": "stderr",
     "output_type": "stream",
     "text": [
      "loss: 0.6973, accuracy: 0.7800: 100%|██████████| 158/158 [00:01<00:00, 129.95it/s]\n"
     ]
    },
    {
     "name": "stdout",
     "output_type": "stream",
     "text": [
      "finish\n"
     ]
    },
    {
     "data": {
      "image/png": "[encoded data removed]",
      "text/plain": [
       "<Figure size 576x288 with 1 Axes>"
      ]
     },
     "metadata": {
      "needs_background": "light"
     },
     "output_type": "display_data"
    },
    {
     "data": {
      "image/png": "[encoded data removed]",
      "text/plain": [
       "<Figure size 576x288 with 1 Axes>"
      ]
     },
     "metadata": {
      "needs_background": "light"
     },
     "output_type": "display_data"
    },
    {
     "name": "stdout",
     "output_type": "stream",
     "text": [
      "Building basic block of ConvolutionalNetwork using input shape (100, 1, 28, 28)\n",
      "torch.Size([100, 64, 28, 28])\n",
      "torch.Size([100, 64, 15, 15])\n"
     ]
    },
    {
     "name": "stderr",
     "output_type": "stream",
     "text": [
      "loss: 3.8532, accuracy: 0.0000:   1%|          | 7/1000 [00:00<00:23, 42.88it/s]"
     ]
    },
    {
     "name": "stdout",
     "output_type": "stream",
     "text": [
      "torch.Size([100, 64, 15, 15])\n",
      "torch.Size([100, 64, 8, 8])\n",
      "shape before final linear layer torch.Size([100, 64, 2, 2])\n",
      "Block is built, output volume is torch.Size([100, 47])\n",
      "use GPU\n",
      "ConvolutionalNetwork(\n",
      "  (layer_dict): ModuleDict(\n",
      "    (conv_0): Conv2d(1, 64, kernel_size=(3, 3), stride=(1, 1), padding=(1, 1))\n",
      "    (dim_reduction_max_pool_0): MaxPool2d(kernel_size=2, stride=2, padding=1, dilation=1, ceil_mode=False)\n",
      "    (conv_1): Conv2d(64, 64, kernel_size=(3, 3), stride=(1, 1), padding=(1, 1))\n",
      "    (dim_reduction_max_pool_1): MaxPool2d(kernel_size=2, stride=2, padding=1, dilation=1, ceil_mode=False)\n",
      "  )\n",
      "  (logit_linear_layer): Linear(in_features=256, out_features=47, bias=True)\n",
      ")\n"
     ]
    },
    {
     "name": "stderr",
     "output_type": "stream",
     "text": [
      "loss: 1.0323, accuracy: 0.7100: 100%|██████████| 1000/1000 [00:17<00:00, 55.73it/s]\n",
      "loss: 1.0784, accuracy: 0.6400: 100%|██████████| 158/158 [00:01<00:00, 107.21it/s]\n",
      "loss: 0.7027, accuracy: 0.7900:   1%|          | 11/1000 [00:00<00:16, 58.75it/s]"
     ]
    },
    {
     "name": "stdout",
     "output_type": "stream",
     "text": [
      "Epoch 0: train_acc_0.5600_train_loss_1.5590_val_acc_0.7165_val_loss_0.9249 epoch time 19.5659 seconds\n",
      "total time0.0 : 19.56591010093689\n"
     ]
    },
    {
     "name": "stderr",
     "output_type": "stream",
     "text": [
      "loss: 1.0088, accuracy: 0.7100: 100%|██████████| 1000/1000 [00:17<00:00, 56.77it/s]\n",
      "loss: 0.6453, accuracy: 0.8400: 100%|██████████| 158/158 [00:01<00:00, 105.06it/s]\n",
      "loss: 0.7434, accuracy: 0.7900:   1%|          | 11/1000 [00:00<00:16, 60.08it/s]"
     ]
    },
    {
     "name": "stdout",
     "output_type": "stream",
     "text": [
      "Epoch 1: train_acc_0.7409_train_loss_0.8409_val_acc_0.7634_val_loss_0.7556 epoch time 19.2550 seconds\n",
      "total time0.0 : 38.820932388305664\n"
     ]
    },
    {
     "name": "stderr",
     "output_type": "stream",
     "text": [
      "loss: 0.5162, accuracy: 0.8600: 100%|██████████| 1000/1000 [00:17<00:00, 57.76it/s]\n",
      "loss: 0.7294, accuracy: 0.7500: 100%|██████████| 158/158 [00:01<00:00, 108.43it/s]\n",
      "loss: 0.5748, accuracy: 0.8000:   1%|          | 11/1000 [00:00<00:16, 59.57it/s]"
     ]
    },
    {
     "name": "stdout",
     "output_type": "stream",
     "text": [
      "Epoch 2: train_acc_0.7764_train_loss_0.7176_val_acc_0.7915_val_loss_0.6616 epoch time 18.9128 seconds\n",
      "total time0.0 : 57.73368287086487\n"
     ]
    },
    {
     "name": "stderr",
     "output_type": "stream",
     "text": [
      "loss: 0.7262, accuracy: 0.8000: 100%|██████████| 1000/1000 [00:17<00:00, 57.39it/s]\n",
      "loss: 0.4857, accuracy: 0.8600: 100%|██████████| 158/158 [00:01<00:00, 107.00it/s]\n",
      "loss: 0.4769, accuracy: 0.8500:   1%|          | 11/1000 [00:00<00:16, 61.40it/s]"
     ]
    },
    {
     "name": "stdout",
     "output_type": "stream",
     "text": [
      "Epoch 3: train_acc_0.7977_train_loss_0.6437_val_acc_0.8078_val_loss_0.6067 epoch time 19.0365 seconds\n",
      "total time1.0 : 16.770138025283813\n"
     ]
    },
    {
     "name": "stderr",
     "output_type": "stream",
     "text": [
      "loss: 0.7266, accuracy: 0.7700: 100%|██████████| 1000/1000 [00:17<00:00, 55.76it/s]\n",
      "loss: 0.4158, accuracy: 0.8700: 100%|██████████| 158/158 [00:01<00:00, 104.89it/s]\n",
      "loss: 0.3961, accuracy: 0.8800:   1%|          | 11/1000 [00:00<00:16, 60.43it/s]"
     ]
    },
    {
     "name": "stdout",
     "output_type": "stream",
     "text": [
      "Epoch 4: train_acc_0.8128_train_loss_0.5933_val_acc_0.8131_val_loss_0.5844 epoch time 19.5766 seconds\n",
      "total time1.0 : 36.346723794937134\n"
     ]
    },
    {
     "name": "stderr",
     "output_type": "stream",
     "text": [
      "loss: 0.5136, accuracy: 0.8500: 100%|██████████| 1000/1000 [00:17<00:00, 57.41it/s]\n",
      "loss: 0.4849, accuracy: 0.8500: 100%|██████████| 158/158 [00:01<00:00, 116.07it/s]\n",
      "loss: 0.6344, accuracy: 0.7900:   1%|          | 11/1000 [00:00<00:16, 60.44it/s]"
     ]
    },
    {
     "name": "stdout",
     "output_type": "stream",
     "text": [
      "Epoch 5: train_acc_0.8228_train_loss_0.5545_val_acc_0.8272_val_loss_0.5271 epoch time 18.9152 seconds\n",
      "total time1.0 : 55.26187753677368\n"
     ]
    },
    {
     "name": "stderr",
     "output_type": "stream",
     "text": [
      "loss: 0.5198, accuracy: 0.8000: 100%|██████████| 1000/1000 [00:17<00:00, 57.21it/s]\n",
      "loss: 0.4439, accuracy: 0.8500: 100%|██████████| 158/158 [00:01<00:00, 106.76it/s]\n",
      "loss: 0.5363, accuracy: 0.8500:   1%|          | 11/1000 [00:00<00:16, 60.89it/s]"
     ]
    },
    {
     "name": "stdout",
     "output_type": "stream",
     "text": [
      "Epoch 6: train_acc_0.8315_train_loss_0.5213_val_acc_0.8349_val_loss_0.5103 epoch time 19.4409 seconds\n",
      "total time2.0 : 14.70282244682312\n"
     ]
    },
    {
     "name": "stderr",
     "output_type": "stream",
     "text": [
      "loss: 0.5291, accuracy: 0.8100: 100%|██████████| 1000/1000 [00:17<00:00, 57.13it/s]\n",
      "loss: 0.4871, accuracy: 0.7800: 100%|██████████| 158/158 [00:01<00:00, 109.29it/s]\n",
      "loss: 0.5339, accuracy: 0.7800:   1%|          | 11/1000 [00:00<00:16, 58.51it/s]"
     ]
    },
    {
     "name": "stdout",
     "output_type": "stream",
     "text": [
      "Epoch 7: train_acc_0.8395_train_loss_0.4958_val_acc_0.8354_val_loss_0.5043 epoch time 19.0872 seconds\n",
      "total time2.0 : 33.79000902175903\n"
     ]
    },
    {
     "name": "stderr",
     "output_type": "stream",
     "text": [
      "loss: 0.8561, accuracy: 0.8300: 100%|██████████| 1000/1000 [00:17<00:00, 55.85it/s]\n",
      "loss: 0.6163, accuracy: 0.7800: 100%|██████████| 158/158 [00:01<00:00, 104.99it/s]\n",
      "loss: 0.6441, accuracy: 0.8000:   1%|          | 11/1000 [00:00<00:15, 62.02it/s]"
     ]
    },
    {
     "name": "stdout",
     "output_type": "stream",
     "text": [
      "Epoch 8: train_acc_0.8443_train_loss_0.4735_val_acc_0.8502_val_loss_0.4527 epoch time 19.5474 seconds\n",
      "total time2.0 : 53.33740162849426\n"
     ]
    },
    {
     "name": "stderr",
     "output_type": "stream",
     "text": [
      "loss: 0.6902, accuracy: 0.8000: 100%|██████████| 1000/1000 [00:17<00:00, 58.63it/s]\n",
      "loss: 0.4419, accuracy: 0.8100: 100%|██████████| 158/158 [00:01<00:00, 107.03it/s]\n",
      "loss: 0.3612, accuracy: 0.8600:   1%|          | 11/1000 [00:00<00:16, 58.23it/s]"
     ]
    },
    {
     "name": "stdout",
     "output_type": "stream",
     "text": [
      "Epoch 9: train_acc_0.8481_train_loss_0.4562_val_acc_0.8538_val_loss_0.4497 epoch time 19.1182 seconds\n",
      "total time3.0 : 12.455603837966919\n"
     ]
    },
    {
     "name": "stderr",
     "output_type": "stream",
     "text": [
      "loss: 0.4004, accuracy: 0.8700: 100%|██████████| 1000/1000 [00:17<00:00, 55.70it/s]\n",
      "loss: 0.3971, accuracy: 0.8900: 100%|██████████| 158/158 [00:01<00:00, 106.66it/s]\n",
      "loss: 0.3422, accuracy: 0.9100:   1%|          | 11/1000 [00:00<00:15, 62.14it/s]"
     ]
    },
    {
     "name": "stdout",
     "output_type": "stream",
     "text": [
      "Epoch 10: train_acc_0.8538_train_loss_0.4415_val_acc_0.8537_val_loss_0.4420 epoch time 19.5692 seconds\n",
      "total time3.0 : 32.0247757434845\n"
     ]
    },
    {
     "name": "stderr",
     "output_type": "stream",
     "text": [
      "loss: 0.4917, accuracy: 0.8300: 100%|██████████| 1000/1000 [00:17<00:00, 56.90it/s]\n",
      "loss: 0.4512, accuracy: 0.8300: 100%|██████████| 158/158 [00:01<00:00, 108.14it/s]\n",
      "loss: 0.3510, accuracy: 0.8600:   1%|          | 11/1000 [00:00<00:16, 58.59it/s]"
     ]
    },
    {
     "name": "stdout",
     "output_type": "stream",
     "text": [
      "Epoch 11: train_acc_0.8567_train_loss_0.4282_val_acc_0.8541_val_loss_0.4323 epoch time 19.1732 seconds\n",
      "total time3.0 : 51.19801044464111\n"
     ]
    },
    {
     "name": "stderr",
     "output_type": "stream",
     "text": [
      "loss: 0.3117, accuracy: 0.8900: 100%|██████████| 1000/1000 [00:17<00:00, 55.83it/s]\n",
      "loss: 0.4236, accuracy: 0.8900: 100%|██████████| 158/158 [00:01<00:00, 106.23it/s]\n",
      "loss: 0.2692, accuracy: 0.9000:   1%|          | 11/1000 [00:00<00:16, 61.57it/s]"
     ]
    },
    {
     "name": "stdout",
     "output_type": "stream",
     "text": [
      "Epoch 12: train_acc_0.8594_train_loss_0.4172_val_acc_0.8582_val_loss_0.4198 epoch time 19.5380 seconds\n",
      "total time4.0 : 10.736046552658081\n"
     ]
    },
    {
     "name": "stderr",
     "output_type": "stream",
     "text": [
      "loss: 0.3848, accuracy: 0.8400: 100%|██████████| 1000/1000 [00:17<00:00, 56.65it/s]\n",
      "loss: 0.4583, accuracy: 0.8300: 100%|██████████| 158/158 [00:01<00:00, 107.40it/s]\n",
      "loss: 0.4497, accuracy: 0.8700:   1%|          | 11/1000 [00:00<00:16, 58.22it/s]"
     ]
    },
    {
     "name": "stdout",
     "output_type": "stream",
     "text": [
      "Epoch 13: train_acc_0.8639_train_loss_0.4070_val_acc_0.8593_val_loss_0.4081 epoch time 19.2610 seconds\n",
      "total time4.0 : 29.997050523757935\n"
     ]
    },
    {
     "name": "stderr",
     "output_type": "stream",
     "text": [
      "loss: 0.5165, accuracy: 0.8800: 100%|██████████| 1000/1000 [00:17<00:00, 55.91it/s]\n",
      "loss: 0.2417, accuracy: 0.9100: 100%|██████████| 158/158 [00:01<00:00, 108.41it/s]\n",
      "loss: 0.3178, accuracy: 0.9000:   1%|          | 11/1000 [00:00<00:15, 63.06it/s]"
     ]
    },
    {
     "name": "stdout",
     "output_type": "stream",
     "text": [
      "Epoch 14: train_acc_0.8643_train_loss_0.3986_val_acc_0.8645_val_loss_0.4049 epoch time 19.5129 seconds\n",
      "total time4.0 : 49.50996780395508\n"
     ]
    },
    {
     "name": "stderr",
     "output_type": "stream",
     "text": [
      "loss: 0.3480, accuracy: 0.8900: 100%|██████████| 1000/1000 [00:17<00:00, 57.05it/s]\n",
      "loss: 0.3450, accuracy: 0.9000: 100%|██████████| 158/158 [00:01<00:00, 106.72it/s]\n",
      "loss: 0.4023, accuracy: 0.8900:   1%|          | 11/1000 [00:00<00:16, 59.04it/s]"
     ]
    },
    {
     "name": "stdout",
     "output_type": "stream",
     "text": [
      "Epoch 15: train_acc_0.8669_train_loss_0.3917_val_acc_0.8666_val_loss_0.3959 epoch time 19.1452 seconds\n",
      "total time5.0 : 8.655131816864014\n"
     ]
    },
    {
     "name": "stderr",
     "output_type": "stream",
     "text": [
      "loss: 0.4354, accuracy: 0.8500: 100%|██████████| 1000/1000 [00:17<00:00, 55.82it/s]\n",
      "loss: 0.5261, accuracy: 0.8500: 100%|██████████| 158/158 [00:01<00:00, 106.52it/s]\n",
      "loss: 0.4428, accuracy: 0.8500:   1%|          | 11/1000 [00:00<00:16, 60.96it/s]"
     ]
    },
    {
     "name": "stdout",
     "output_type": "stream",
     "text": [
      "Epoch 16: train_acc_0.8685_train_loss_0.3857_val_acc_0.8628_val_loss_0.3953 epoch time 19.5356 seconds\n",
      "total time5.0 : 28.19070267677307\n"
     ]
    },
    {
     "name": "stderr",
     "output_type": "stream",
     "text": [
      "loss: 0.2838, accuracy: 0.8700: 100%|██████████| 1000/1000 [00:17<00:00, 57.20it/s]\n",
      "loss: 0.3219, accuracy: 0.8800: 100%|██████████| 158/158 [00:01<00:00, 108.63it/s]\n",
      "loss: 0.4634, accuracy: 0.8500:   1%|          | 11/1000 [00:00<00:16, 58.90it/s]"
     ]
    },
    {
     "name": "stdout",
     "output_type": "stream",
     "text": [
      "Epoch 17: train_acc_0.8700_train_loss_0.3794_val_acc_0.8541_val_loss_0.4038 epoch time 19.0750 seconds\n",
      "total time5.0 : 47.2657208442688\n"
     ]
    },
    {
     "name": "stderr",
     "output_type": "stream",
     "text": [
      "loss: 0.2648, accuracy: 0.8900: 100%|██████████| 1000/1000 [00:17<00:00, 57.65it/s]\n",
      "loss: 0.3669, accuracy: 0.8900: 100%|██████████| 158/158 [00:01<00:00, 108.98it/s]\n",
      "loss: 0.4900, accuracy: 0.8400:   1%|          | 11/1000 [00:00<00:16, 61.19it/s]"
     ]
    },
    {
     "name": "stdout",
     "output_type": "stream",
     "text": [
      "Epoch 18: train_acc_0.8712_train_loss_0.3752_val_acc_0.8659_val_loss_0.3882 epoch time 18.9719 seconds\n",
      "total time6.0 : 6.237664699554443\n"
     ]
    },
    {
     "name": "stderr",
     "output_type": "stream",
     "text": [
      "loss: 0.2565, accuracy: 0.9000: 100%|██████████| 1000/1000 [00:17<00:00, 57.38it/s]\n",
      "loss: 0.4306, accuracy: 0.8700: 100%|██████████| 158/158 [00:01<00:00, 108.22it/s]\n",
      "loss: 0.4333, accuracy: 0.8600:   1%|          | 11/1000 [00:00<00:17, 57.75it/s]"
     ]
    },
    {
     "name": "stdout",
     "output_type": "stream",
     "text": [
      "Epoch 19: train_acc_0.8730_train_loss_0.3692_val_acc_0.8713_val_loss_0.3765 epoch time 19.0321 seconds\n",
      "total time6.0 : 25.269749402999878\n"
     ]
    },
    {
     "name": "stderr",
     "output_type": "stream",
     "text": [
      "loss: 0.4535, accuracy: 0.8500: 100%|██████████| 1000/1000 [00:17<00:00, 55.84it/s]\n",
      "loss: 0.2596, accuracy: 0.9200: 100%|██████████| 158/158 [00:01<00:00, 106.05it/s]\n",
      "loss: 0.2602, accuracy: 0.9200:   1%|          | 11/1000 [00:00<00:16, 60.74it/s]"
     ]
    },
    {
     "name": "stdout",
     "output_type": "stream",
     "text": [
      "Epoch 20: train_acc_0.8737_train_loss_0.3658_val_acc_0.8693_val_loss_0.3831 epoch time 19.5326 seconds\n",
      "total time6.0 : 44.80233430862427\n"
     ]
    },
    {
     "name": "stderr",
     "output_type": "stream",
     "text": [
      "loss: 0.2599, accuracy: 0.8800: 100%|██████████| 1000/1000 [00:17<00:00, 57.59it/s]\n",
      "loss: 0.4304, accuracy: 0.8800: 100%|██████████| 158/158 [00:01<00:00, 108.83it/s]\n",
      "loss: 0.2087, accuracy: 0.9400:   1%|          | 11/1000 [00:00<00:17, 58.15it/s]"
     ]
    },
    {
     "name": "stdout",
     "output_type": "stream",
     "text": [
      "Epoch 21: train_acc_0.8753_train_loss_0.3611_val_acc_0.8665_val_loss_0.3824 epoch time 18.9517 seconds\n",
      "total time7.0 : 3.7539920806884766\n"
     ]
    },
    {
     "name": "stderr",
     "output_type": "stream",
     "text": [
      "loss: 0.3269, accuracy: 0.9000: 100%|██████████| 1000/1000 [00:17<00:00, 55.77it/s]\n",
      "loss: 0.3753, accuracy: 0.8700: 100%|██████████| 158/158 [00:01<00:00, 106.09it/s]\n",
      "loss: 0.4334, accuracy: 0.8500:   1%|          | 11/1000 [00:00<00:16, 60.07it/s]"
     ]
    },
    {
     "name": "stdout",
     "output_type": "stream",
     "text": [
      "Epoch 22: train_acc_0.8772_train_loss_0.3581_val_acc_0.8709_val_loss_0.3733 epoch time 19.5576 seconds\n",
      "total time7.0 : 23.311625003814697\n"
     ]
    },
    {
     "name": "stderr",
     "output_type": "stream",
     "text": [
      "loss: 0.3742, accuracy: 0.8300: 100%|██████████| 1000/1000 [00:17<00:00, 57.21it/s]\n",
      "loss: 0.3329, accuracy: 0.8500: 100%|██████████| 158/158 [00:01<00:00, 105.92it/s]\n",
      "loss: 0.3211, accuracy: 0.9000:   1%|          | 11/1000 [00:00<00:16, 59.41it/s]"
     ]
    },
    {
     "name": "stdout",
     "output_type": "stream",
     "text": [
      "Epoch 23: train_acc_0.8767_train_loss_0.3545_val_acc_0.8696_val_loss_0.3752 epoch time 19.1069 seconds\n",
      "total time7.0 : 42.41856932640076\n"
     ]
    },
    {
     "name": "stderr",
     "output_type": "stream",
     "text": [
      "loss: 0.3777, accuracy: 0.8500: 100%|██████████| 1000/1000 [00:17<00:00, 55.89it/s]\n",
      "loss: 0.4846, accuracy: 0.8500: 100%|██████████| 158/158 [00:01<00:00, 107.36it/s]\n",
      "loss: 0.3027, accuracy: 0.8800:   1%|          | 11/1000 [00:00<00:16, 61.18it/s]"
     ]
    },
    {
     "name": "stdout",
     "output_type": "stream",
     "text": [
      "Epoch 24: train_acc_0.8785_train_loss_0.3517_val_acc_0.8668_val_loss_0.3786 epoch time 19.4997 seconds\n",
      "total time8.0 : 1.9183032512664795\n"
     ]
    },
    {
     "name": "stderr",
     "output_type": "stream",
     "text": [
      "loss: 0.3674, accuracy: 0.8700: 100%|██████████| 1000/1000 [00:17<00:00, 57.53it/s]\n",
      "loss: 0.3804, accuracy: 0.9200: 100%|██████████| 158/158 [00:01<00:00, 106.93it/s]\n",
      "loss: 0.3876, accuracy: 0.8400:   1%|          | 11/1000 [00:00<00:16, 59.54it/s]"
     ]
    },
    {
     "name": "stdout",
     "output_type": "stream",
     "text": [
      "Epoch 25: train_acc_0.8788_train_loss_0.3488_val_acc_0.8703_val_loss_0.3667 epoch time 19.1100 seconds\n",
      "total time8.0 : 21.02827000617981\n"
     ]
    },
    {
     "name": "stderr",
     "output_type": "stream",
     "text": [
      "loss: 0.3089, accuracy: 0.8700: 100%|██████████| 1000/1000 [00:17<00:00, 55.79it/s]\n",
      "loss: 0.3029, accuracy: 0.8700: 100%|██████████| 158/158 [00:01<00:00, 107.92it/s]\n",
      "loss: 0.2845, accuracy: 0.8800:   1%|          | 11/1000 [00:00<00:15, 62.45it/s]"
     ]
    },
    {
     "name": "stdout",
     "output_type": "stream",
     "text": [
      "Epoch 26: train_acc_0.8797_train_loss_0.3458_val_acc_0.8724_val_loss_0.3718 epoch time 19.5591 seconds\n",
      "total time8.0 : 40.58732008934021\n"
     ]
    },
    {
     "name": "stderr",
     "output_type": "stream",
     "text": [
      "loss: 0.4173, accuracy: 0.9400: 100%|██████████| 1000/1000 [00:17<00:00, 57.36it/s]\n",
      "loss: 0.2518, accuracy: 0.9200: 100%|██████████| 158/158 [00:01<00:00, 109.10it/s]\n",
      "loss: 0.2879, accuracy: 0.8800:   1%|          | 11/1000 [00:00<00:17, 57.97it/s]"
     ]
    },
    {
     "name": "stdout",
     "output_type": "stream",
     "text": [
      "Epoch 27: train_acc_0.8817_train_loss_0.3433_val_acc_0.8716_val_loss_0.3738 epoch time 19.0206 seconds\n",
      "total time8.0 : 59.607930183410645\n"
     ]
    },
    {
     "name": "stderr",
     "output_type": "stream",
     "text": [
      "loss: 0.3895, accuracy: 0.8500: 100%|██████████| 1000/1000 [00:17<00:00, 55.75it/s]\n",
      "loss: 0.3474, accuracy: 0.8600: 100%|██████████| 158/158 [00:01<00:00, 105.50it/s]\n",
      "loss: 0.3340, accuracy: 0.8700:   1%|          | 11/1000 [00:00<00:16, 60.39it/s]"
     ]
    },
    {
     "name": "stdout",
     "output_type": "stream",
     "text": [
      "Epoch 28: train_acc_0.8818_train_loss_0.3410_val_acc_0.8683_val_loss_0.3727 epoch time 19.5700 seconds\n",
      "total time9.0 : 19.177916049957275\n"
     ]
    },
    {
     "name": "stderr",
     "output_type": "stream",
     "text": [
      "loss: 0.3228, accuracy: 0.9000: 100%|██████████| 1000/1000 [00:17<00:00, 58.64it/s]\n",
      "loss: 0.2028, accuracy: 0.9500: 100%|██████████| 158/158 [00:01<00:00, 109.03it/s]\n",
      "loss: 0.3525, accuracy: 0.8400:   1%|          | 11/1000 [00:00<00:16, 59.62it/s]"
     ]
    },
    {
     "name": "stdout",
     "output_type": "stream",
     "text": [
      "Epoch 29: train_acc_0.8810_train_loss_0.3382_val_acc_0.8737_val_loss_0.3620 epoch time 19.0064 seconds\n",
      "total time9.0 : 38.18427610397339\n"
     ]
    },
    {
     "name": "stderr",
     "output_type": "stream",
     "text": [
      "loss: 0.4663, accuracy: 0.8700: 100%|██████████| 1000/1000 [00:17<00:00, 55.94it/s]\n",
      "loss: 0.2651, accuracy: 0.8900: 100%|██████████| 158/158 [00:01<00:00, 104.60it/s]\n",
      "loss: 0.2715, accuracy: 0.8900:   1%|          | 11/1000 [00:00<00:16, 60.38it/s]"
     ]
    },
    {
     "name": "stdout",
     "output_type": "stream",
     "text": [
      "Epoch 30: train_acc_0.8824_train_loss_0.3365_val_acc_0.8720_val_loss_0.3623 epoch time 19.5235 seconds\n",
      "total time9.0 : 57.70777487754822\n"
     ]
    },
    {
     "name": "stderr",
     "output_type": "stream",
     "text": [
      "loss: 0.2480, accuracy: 0.9200: 100%|██████████| 1000/1000 [00:17<00:00, 58.18it/s]\n",
      "loss: 0.3733, accuracy: 0.8400: 100%|██████████| 158/158 [00:01<00:00, 108.80it/s]\n",
      "loss: 0.2789, accuracy: 0.8700:   1%|          | 11/1000 [00:00<00:17, 58.17it/s]"
     ]
    },
    {
     "name": "stdout",
     "output_type": "stream",
     "text": [
      "Epoch 31: train_acc_0.8832_train_loss_0.3345_val_acc_0.8732_val_loss_0.3658 epoch time 18.9710 seconds\n",
      "total time10.0 : 16.67873764038086\n"
     ]
    },
    {
     "name": "stderr",
     "output_type": "stream",
     "text": [
      "loss: 0.3150, accuracy: 0.9400: 100%|██████████| 1000/1000 [00:17<00:00, 55.89it/s]\n",
      "loss: 0.3813, accuracy: 0.8300: 100%|██████████| 158/158 [00:01<00:00, 108.08it/s]\n",
      "loss: 0.2794, accuracy: 0.9100:   1%|          | 11/1000 [00:00<00:16, 61.54it/s]"
     ]
    },
    {
     "name": "stdout",
     "output_type": "stream",
     "text": [
      "Epoch 32: train_acc_0.8845_train_loss_0.3325_val_acc_0.8740_val_loss_0.3617 epoch time 19.4902 seconds\n",
      "total time10.0 : 36.16890025138855\n"
     ]
    },
    {
     "name": "stderr",
     "output_type": "stream",
     "text": [
      "loss: 0.2672, accuracy: 0.9300: 100%|██████████| 1000/1000 [00:17<00:00, 56.57it/s]\n",
      "loss: 0.4727, accuracy: 0.8700: 100%|██████████| 158/158 [00:01<00:00, 107.75it/s]\n",
      "loss: 0.3640, accuracy: 0.9000:   1%|          | 10/1000 [00:00<00:18, 54.72it/s]"
     ]
    },
    {
     "name": "stdout",
     "output_type": "stream",
     "text": [
      "Epoch 33: train_acc_0.8840_train_loss_0.3306_val_acc_0.8699_val_loss_0.3654 epoch time 19.2844 seconds\n",
      "total time10.0 : 55.45329546928406\n"
     ]
    },
    {
     "name": "stderr",
     "output_type": "stream",
     "text": [
      "loss: 0.3240, accuracy: 0.9300: 100%|██████████| 1000/1000 [00:17<00:00, 57.16it/s]\n",
      "loss: 0.3363, accuracy: 0.8700: 100%|██████████| 158/158 [00:01<00:00, 113.22it/s]\n",
      "loss: 0.2930, accuracy: 0.8600:   1%|          | 12/1000 [00:00<00:15, 61.85it/s]"
     ]
    },
    {
     "name": "stdout",
     "output_type": "stream",
     "text": [
      "Epoch 34: train_acc_0.8851_train_loss_0.3290_val_acc_0.8691_val_loss_0.3732 epoch time 19.0260 seconds\n",
      "total time11.0 : 14.479265451431274\n"
     ]
    },
    {
     "name": "stderr",
     "output_type": "stream",
     "text": [
      "loss: 0.2878, accuracy: 0.9200: 100%|██████████| 1000/1000 [00:17<00:00, 56.94it/s]\n",
      "loss: 0.6935, accuracy: 0.8600: 100%|██████████| 158/158 [00:01<00:00, 109.03it/s]\n",
      "loss: 0.3217, accuracy: 0.9000:   1%|          | 11/1000 [00:00<00:16, 59.54it/s]"
     ]
    },
    {
     "name": "stdout",
     "output_type": "stream",
     "text": [
      "Epoch 35: train_acc_0.8851_train_loss_0.3277_val_acc_0.8781_val_loss_0.3569 epoch time 19.1512 seconds\n",
      "total time11.0 : 33.63044619560242\n"
     ]
    },
    {
     "name": "stderr",
     "output_type": "stream",
     "text": [
      "loss: 0.2143, accuracy: 0.9100: 100%|██████████| 1000/1000 [00:17<00:00, 55.81it/s]\n",
      "loss: 0.3867, accuracy: 0.8700: 100%|██████████| 158/158 [00:01<00:00, 104.62it/s]\n",
      "loss: 0.2438, accuracy: 0.9300:   1%|          | 11/1000 [00:00<00:16, 61.26it/s]"
     ]
    },
    {
     "name": "stdout",
     "output_type": "stream",
     "text": [
      "Epoch 36: train_acc_0.8860_train_loss_0.3257_val_acc_0.8704_val_loss_0.3639 epoch time 19.5700 seconds\n",
      "total time11.0 : 53.200416564941406\n"
     ]
    },
    {
     "name": "stderr",
     "output_type": "stream",
     "text": [
      "loss: 0.3665, accuracy: 0.8600: 100%|██████████| 1000/1000 [00:17<00:00, 57.42it/s]\n",
      "loss: 0.3392, accuracy: 0.9200: 100%|██████████| 158/158 [00:01<00:00, 108.83it/s]\n",
      "loss: 0.2807, accuracy: 0.9000:   1%|          | 10/1000 [00:00<00:17, 56.73it/s]"
     ]
    },
    {
     "name": "stdout",
     "output_type": "stream",
     "text": [
      "Epoch 37: train_acc_0.8866_train_loss_0.3239_val_acc_0.8756_val_loss_0.3618 epoch time 18.9973 seconds\n",
      "total time12.0 : 12.197761535644531\n"
     ]
    },
    {
     "name": "stderr",
     "output_type": "stream",
     "text": [
      "loss: 0.2258, accuracy: 0.9400: 100%|██████████| 1000/1000 [00:17<00:00, 55.71it/s]\n",
      "loss: 0.3387, accuracy: 0.9000: 100%|██████████| 158/158 [00:01<00:00, 105.34it/s]\n",
      "loss: 0.2077, accuracy: 0.9000:   1%|          | 11/1000 [00:00<00:16, 60.91it/s]"
     ]
    },
    {
     "name": "stdout",
     "output_type": "stream",
     "text": [
      "Epoch 38: train_acc_0.8867_train_loss_0.3230_val_acc_0.8758_val_loss_0.3620 epoch time 19.5856 seconds\n",
      "total time12.0 : 31.78340721130371\n"
     ]
    },
    {
     "name": "stderr",
     "output_type": "stream",
     "text": [
      "loss: 0.3905, accuracy: 0.8700: 100%|██████████| 1000/1000 [00:17<00:00, 57.07it/s]\n",
      "loss: 0.3797, accuracy: 0.8300: 100%|██████████| 158/158 [00:01<00:00, 108.56it/s]\n",
      "loss: 0.2227, accuracy: 0.9200:   1%|          | 11/1000 [00:00<00:16, 59.32it/s]"
     ]
    },
    {
     "name": "stdout",
     "output_type": "stream",
     "text": [
      "Epoch 39: train_acc_0.8883_train_loss_0.3211_val_acc_0.8680_val_loss_0.3677 epoch time 19.1110 seconds\n",
      "total time12.0 : 50.89436459541321\n"
     ]
    },
    {
     "name": "stderr",
     "output_type": "stream",
     "text": [
      "loss: 0.2456, accuracy: 0.8800: 100%|██████████| 1000/1000 [00:17<00:00, 55.76it/s]\n",
      "loss: 0.3017, accuracy: 0.9000: 100%|██████████| 158/158 [00:01<00:00, 105.54it/s]\n",
      "loss: 0.2414, accuracy: 0.9200:   1%|          | 11/1000 [00:00<00:16, 61.36it/s]"
     ]
    },
    {
     "name": "stdout",
     "output_type": "stream",
     "text": [
      "Epoch 40: train_acc_0.8875_train_loss_0.3199_val_acc_0.8774_val_loss_0.3612 epoch time 19.5678 seconds\n",
      "total time13.0 : 10.462131023406982\n"
     ]
    },
    {
     "name": "stderr",
     "output_type": "stream",
     "text": [
      "loss: 0.2952, accuracy: 0.8700: 100%|██████████| 1000/1000 [00:17<00:00, 56.96it/s]\n",
      "loss: 0.3170, accuracy: 0.8600: 100%|██████████| 158/158 [00:01<00:00, 107.08it/s]\n",
      "loss: 0.2437, accuracy: 0.9300:   1%|          | 11/1000 [00:00<00:16, 60.03it/s]"
     ]
    },
    {
     "name": "stdout",
     "output_type": "stream",
     "text": [
      "Epoch 41: train_acc_0.8886_train_loss_0.3182_val_acc_0.8731_val_loss_0.3613 epoch time 19.1705 seconds\n",
      "total time13.0 : 29.632641553878784\n"
     ]
    },
    {
     "name": "stderr",
     "output_type": "stream",
     "text": [
      "loss: 0.2517, accuracy: 0.9100: 100%|██████████| 1000/1000 [00:17<00:00, 55.84it/s]\n",
      "loss: 0.2824, accuracy: 0.8600: 100%|██████████| 158/158 [00:01<00:00, 105.46it/s]\n",
      "loss: 0.2575, accuracy: 0.8700:   1%|          | 11/1000 [00:00<00:16, 61.47it/s]"
     ]
    },
    {
     "name": "stdout",
     "output_type": "stream",
     "text": [
      "Epoch 42: train_acc_0.8888_train_loss_0.3169_val_acc_0.8709_val_loss_0.3706 epoch time 19.5429 seconds\n",
      "total time13.0 : 49.1755747795105\n"
     ]
    },
    {
     "name": "stderr",
     "output_type": "stream",
     "text": [
      "loss: 0.3577, accuracy: 0.8900: 100%|██████████| 1000/1000 [00:17<00:00, 56.41it/s]\n",
      "loss: 0.5558, accuracy: 0.8100: 100%|██████████| 158/158 [00:01<00:00, 107.49it/s]\n",
      "loss: 0.3903, accuracy: 0.8800:   1%|          | 11/1000 [00:00<00:16, 58.76it/s]"
     ]
    },
    {
     "name": "stdout",
     "output_type": "stream",
     "text": [
      "Epoch 43: train_acc_0.8887_train_loss_0.3158_val_acc_0.8769_val_loss_0.3596 epoch time 19.3402 seconds\n",
      "total time14.0 : 8.515813827514648\n"
     ]
    },
    {
     "name": "stderr",
     "output_type": "stream",
     "text": [
      "loss: 0.4230, accuracy: 0.8700: 100%|██████████| 1000/1000 [00:17<00:00, 55.71it/s]\n",
      "loss: 0.3683, accuracy: 0.8800: 100%|██████████| 158/158 [00:01<00:00, 104.56it/s]\n",
      "loss: 0.2505, accuracy: 0.9400:   1%|          | 11/1000 [00:00<00:16, 61.42it/s]"
     ]
    },
    {
     "name": "stdout",
     "output_type": "stream",
     "text": [
      "Epoch 44: train_acc_0.8896_train_loss_0.3147_val_acc_0.8740_val_loss_0.3640 epoch time 19.5994 seconds\n",
      "total time14.0 : 28.1152560710907\n"
     ]
    },
    {
     "name": "stderr",
     "output_type": "stream",
     "text": [
      "loss: 0.2661, accuracy: 0.9300: 100%|██████████| 1000/1000 [00:17<00:00, 57.20it/s]\n",
      "loss: 0.4158, accuracy: 0.8200: 100%|██████████| 158/158 [00:01<00:00, 109.12it/s]\n",
      "loss: 0.2350, accuracy: 0.9200:   1%|          | 11/1000 [00:00<00:16, 59.48it/s]"
     ]
    },
    {
     "name": "stdout",
     "output_type": "stream",
     "text": [
      "Epoch 45: train_acc_0.8906_train_loss_0.3134_val_acc_0.8742_val_loss_0.3618 epoch time 19.0688 seconds\n",
      "total time14.0 : 47.18408751487732\n"
     ]
    },
    {
     "name": "stderr",
     "output_type": "stream",
     "text": [
      "loss: 0.3818, accuracy: 0.8600: 100%|██████████| 1000/1000 [00:17<00:00, 55.93it/s]\n",
      "loss: 0.4902, accuracy: 0.8500: 100%|██████████| 158/158 [00:01<00:00, 105.05it/s]\n",
      "loss: 0.3879, accuracy: 0.9000:   1%|          | 11/1000 [00:00<00:16, 61.40it/s]"
     ]
    },
    {
     "name": "stdout",
     "output_type": "stream",
     "text": [
      "Epoch 46: train_acc_0.8901_train_loss_0.3124_val_acc_0.8759_val_loss_0.3587 epoch time 19.5192 seconds\n",
      "total time15.0 : 6.703284740447998\n"
     ]
    },
    {
     "name": "stderr",
     "output_type": "stream",
     "text": [
      "loss: 0.2162, accuracy: 0.9100: 100%|██████████| 1000/1000 [00:17<00:00, 57.27it/s]\n",
      "loss: 0.3768, accuracy: 0.8500: 100%|██████████| 158/158 [00:01<00:00, 106.22it/s]\n",
      "loss: 0.4985, accuracy: 0.8300:   1%|          | 11/1000 [00:00<00:16, 59.30it/s]"
     ]
    },
    {
     "name": "stdout",
     "output_type": "stream",
     "text": [
      "Epoch 47: train_acc_0.8908_train_loss_0.3104_val_acc_0.8777_val_loss_0.3555 epoch time 19.1593 seconds\n",
      "total time15.0 : 25.862581491470337\n"
     ]
    },
    {
     "name": "stderr",
     "output_type": "stream",
     "text": [
      "loss: 0.3694, accuracy: 0.8100: 100%|██████████| 1000/1000 [00:17<00:00, 55.85it/s]\n",
      "loss: 0.3755, accuracy: 0.8700: 100%|██████████| 158/158 [00:01<00:00, 109.06it/s]\n",
      "loss: 0.2898, accuracy: 0.8800:   1%|          | 11/1000 [00:00<00:16, 61.56it/s]"
     ]
    },
    {
     "name": "stdout",
     "output_type": "stream",
     "text": [
      "Epoch 48: train_acc_0.8902_train_loss_0.3097_val_acc_0.8721_val_loss_0.3646 epoch time 19.4883 seconds\n",
      "total time15.0 : 45.35089659690857\n"
     ]
    },
    {
     "name": "stderr",
     "output_type": "stream",
     "text": [
      "loss: 0.2829, accuracy: 0.9200: 100%|██████████| 1000/1000 [00:17<00:00, 56.93it/s]\n",
      "loss: 0.3371, accuracy: 0.8700: 100%|██████████| 158/158 [00:01<00:00, 108.55it/s]\n",
      "loss: 0.2534, accuracy: 0.8900:   1%|          | 11/1000 [00:00<00:16, 60.34it/s]"
     ]
    },
    {
     "name": "stdout",
     "output_type": "stream",
     "text": [
      "Epoch 49: train_acc_0.8913_train_loss_0.3086_val_acc_0.8772_val_loss_0.3600 epoch time 19.1617 seconds\n",
      "total time16.0 : 4.512568473815918\n"
     ]
    },
    {
     "name": "stderr",
     "output_type": "stream",
     "text": [
      "loss: 0.1941, accuracy: 0.9400: 100%|██████████| 1000/1000 [00:17<00:00, 57.03it/s]\n",
      "loss: 0.3070, accuracy: 0.8700: 100%|██████████| 158/158 [00:01<00:00, 119.93it/s]\n",
      "loss: 0.3784, accuracy: 0.9100:   1%|          | 11/1000 [00:00<00:15, 62.96it/s]"
     ]
    },
    {
     "name": "stdout",
     "output_type": "stream",
     "text": [
      "Epoch 50: train_acc_0.8914_train_loss_0.3080_val_acc_0.8778_val_loss_0.3548 epoch time 19.0577 seconds\n",
      "total time16.0 : 23.570260524749756\n"
     ]
    },
    {
     "name": "stderr",
     "output_type": "stream",
     "text": [
      "loss: 0.3628, accuracy: 0.8800: 100%|██████████| 1000/1000 [00:17<00:00, 57.54it/s]\n",
      "loss: 0.2580, accuracy: 0.8700: 100%|██████████| 158/158 [00:01<00:00, 107.80it/s]\n",
      "loss: 0.2911, accuracy: 0.8400:   1%|          | 11/1000 [00:00<00:17, 57.97it/s]"
     ]
    },
    {
     "name": "stdout",
     "output_type": "stream",
     "text": [
      "Epoch 51: train_acc_0.8918_train_loss_0.3077_val_acc_0.8777_val_loss_0.3566 epoch time 18.9840 seconds\n",
      "total time16.0 : 42.554288387298584\n"
     ]
    },
    {
     "name": "stderr",
     "output_type": "stream",
     "text": [
      "loss: 0.2959, accuracy: 0.8700: 100%|██████████| 1000/1000 [00:17<00:00, 55.94it/s]\n",
      "loss: 0.3341, accuracy: 0.8500: 100%|██████████| 158/158 [00:01<00:00, 104.46it/s]\n",
      "loss: 0.3424, accuracy: 0.8900:   1%|          | 11/1000 [00:00<00:15, 61.90it/s]"
     ]
    },
    {
     "name": "stdout",
     "output_type": "stream",
     "text": [
      "Epoch 52: train_acc_0.8920_train_loss_0.3061_val_acc_0.8778_val_loss_0.3544 epoch time 19.5261 seconds\n",
      "total time17.0 : 2.0803744792938232\n"
     ]
    },
    {
     "name": "stderr",
     "output_type": "stream",
     "text": [
      "loss: 0.1778, accuracy: 0.9500: 100%|██████████| 1000/1000 [00:17<00:00, 57.87it/s]\n",
      "loss: 0.4215, accuracy: 0.8400: 100%|██████████| 158/158 [00:01<00:00, 106.43it/s]\n",
      "loss: 0.3141, accuracy: 0.9200:   1%|          | 11/1000 [00:00<00:16, 60.43it/s]"
     ]
    },
    {
     "name": "stdout",
     "output_type": "stream",
     "text": [
      "Epoch 53: train_acc_0.8917_train_loss_0.3046_val_acc_0.8765_val_loss_0.3553 epoch time 18.9030 seconds\n",
      "total time17.0 : 20.98340630531311\n"
     ]
    },
    {
     "name": "stderr",
     "output_type": "stream",
     "text": [
      "loss: 0.2938, accuracy: 0.8900: 100%|██████████| 1000/1000 [00:17<00:00, 55.92it/s]\n",
      "loss: 0.3447, accuracy: 0.9100: 100%|██████████| 158/158 [00:01<00:00, 106.45it/s]\n",
      "loss: 0.3044, accuracy: 0.9000:   1%|          | 11/1000 [00:00<00:15, 62.00it/s]"
     ]
    },
    {
     "name": "stdout",
     "output_type": "stream",
     "text": [
      "Epoch 54: train_acc_0.8921_train_loss_0.3043_val_acc_0.8759_val_loss_0.3596 epoch time 19.5081 seconds\n",
      "total time17.0 : 40.491472005844116\n"
     ]
    },
    {
     "name": "stderr",
     "output_type": "stream",
     "text": [
      "loss: 0.2799, accuracy: 0.8900: 100%|██████████| 1000/1000 [00:17<00:00, 57.00it/s]\n",
      "loss: 0.5513, accuracy: 0.8500: 100%|██████████| 158/158 [00:01<00:00, 106.58it/s]\n",
      "loss: 0.2183, accuracy: 0.9300:   1%|          | 11/1000 [00:00<00:17, 57.33it/s]"
     ]
    },
    {
     "name": "stdout",
     "output_type": "stream",
     "text": [
      "Epoch 55: train_acc_0.8933_train_loss_0.3031_val_acc_0.8728_val_loss_0.3571 epoch time 19.1646 seconds\n",
      "total time17.0 : 59.65609359741211\n"
     ]
    },
    {
     "name": "stderr",
     "output_type": "stream",
     "text": [
      "loss: 0.2754, accuracy: 0.8900: 100%|██████████| 1000/1000 [00:17<00:00, 55.87it/s]\n",
      "loss: 0.4834, accuracy: 0.8300: 100%|██████████| 158/158 [00:01<00:00, 104.40it/s]\n",
      "loss: 0.3467, accuracy: 0.8700:   1%|          | 11/1000 [00:00<00:15, 63.42it/s]"
     ]
    },
    {
     "name": "stdout",
     "output_type": "stream",
     "text": [
      "Epoch 56: train_acc_0.8937_train_loss_0.3025_val_acc_0.8747_val_loss_0.3563 epoch time 19.5511 seconds\n",
      "total time18.0 : 19.207164525985718\n"
     ]
    },
    {
     "name": "stderr",
     "output_type": "stream",
     "text": [
      "loss: 0.3237, accuracy: 0.8900: 100%|██████████| 1000/1000 [00:17<00:00, 56.83it/s]\n",
      "loss: 0.3226, accuracy: 0.8800: 100%|██████████| 158/158 [00:01<00:00, 108.62it/s]\n",
      "loss: 0.2264, accuracy: 0.9400:   1%|          | 11/1000 [00:00<00:16, 58.53it/s]"
     ]
    },
    {
     "name": "stdout",
     "output_type": "stream",
     "text": [
      "Epoch 57: train_acc_0.8939_train_loss_0.3013_val_acc_0.8775_val_loss_0.3637 epoch time 19.1896 seconds\n",
      "total time18.0 : 38.39680218696594\n"
     ]
    },
    {
     "name": "stderr",
     "output_type": "stream",
     "text": [
      "loss: 0.3309, accuracy: 0.8800: 100%|██████████| 1000/1000 [00:17<00:00, 55.82it/s]\n",
      "loss: 0.2745, accuracy: 0.9200: 100%|██████████| 158/158 [00:01<00:00, 105.86it/s]\n",
      "loss: 0.5347, accuracy: 0.8200:   1%|          | 11/1000 [00:00<00:16, 59.60it/s]"
     ]
    },
    {
     "name": "stdout",
     "output_type": "stream",
     "text": [
      "Epoch 58: train_acc_0.8939_train_loss_0.3008_val_acc_0.8754_val_loss_0.3601 epoch time 19.5416 seconds\n",
      "total time18.0 : 57.93837642669678\n"
     ]
    },
    {
     "name": "stderr",
     "output_type": "stream",
     "text": [
      "loss: 0.2718, accuracy: 0.8800: 100%|██████████| 1000/1000 [00:17<00:00, 56.88it/s]\n",
      "loss: 0.3359, accuracy: 0.8700: 100%|██████████| 158/158 [00:01<00:00, 109.50it/s]\n",
      "loss: 0.2616, accuracy: 0.8900:   1%|          | 11/1000 [00:00<00:17, 57.98it/s]"
     ]
    },
    {
     "name": "stdout",
     "output_type": "stream",
     "text": [
      "Epoch 59: train_acc_0.8943_train_loss_0.2994_val_acc_0.8775_val_loss_0.3571 epoch time 19.1856 seconds\n",
      "total time19.0 : 17.12395453453064\n"
     ]
    },
    {
     "name": "stderr",
     "output_type": "stream",
     "text": [
      "loss: 0.2369, accuracy: 0.9200: 100%|██████████| 1000/1000 [00:17<00:00, 55.70it/s]\n",
      "loss: 0.3502, accuracy: 0.8500: 100%|██████████| 158/158 [00:01<00:00, 105.34it/s]\n",
      "loss: 0.2119, accuracy: 0.9000:   1%|          | 11/1000 [00:00<00:16, 60.55it/s]"
     ]
    },
    {
     "name": "stdout",
     "output_type": "stream",
     "text": [
      "Epoch 60: train_acc_0.8935_train_loss_0.2997_val_acc_0.8740_val_loss_0.3630 epoch time 19.5920 seconds\n",
      "total time19.0 : 36.71591806411743\n"
     ]
    },
    {
     "name": "stderr",
     "output_type": "stream",
     "text": [
      "loss: 0.2800, accuracy: 0.8600: 100%|██████████| 1000/1000 [00:17<00:00, 56.99it/s]\n",
      "loss: 0.2727, accuracy: 0.8700: 100%|██████████| 158/158 [00:01<00:00, 107.21it/s]\n",
      "loss: 0.3083, accuracy: 0.8800:   1%|          | 11/1000 [00:00<00:16, 59.52it/s]"
     ]
    },
    {
     "name": "stdout",
     "output_type": "stream",
     "text": [
      "Epoch 61: train_acc_0.8946_train_loss_0.2988_val_acc_0.8777_val_loss_0.3558 epoch time 19.1551 seconds\n",
      "total time19.0 : 55.871004819869995\n"
     ]
    },
    {
     "name": "stderr",
     "output_type": "stream",
     "text": [
      "loss: 0.3738, accuracy: 0.8600: 100%|██████████| 1000/1000 [00:17<00:00, 55.70it/s]\n",
      "loss: 0.3101, accuracy: 0.9000: 100%|██████████| 158/158 [00:01<00:00, 106.25it/s]\n",
      "loss: 0.2375, accuracy: 0.9100:   1%|          | 11/1000 [00:00<00:15, 61.82it/s]"
     ]
    },
    {
     "name": "stdout",
     "output_type": "stream",
     "text": [
      "Epoch 62: train_acc_0.8933_train_loss_0.2984_val_acc_0.8746_val_loss_0.3687 epoch time 19.5773 seconds\n",
      "total time20.0 : 15.448346376419067\n"
     ]
    },
    {
     "name": "stderr",
     "output_type": "stream",
     "text": [
      "loss: 0.3197, accuracy: 0.9100: 100%|██████████| 1000/1000 [00:17<00:00, 57.40it/s]\n",
      "loss: 0.4780, accuracy: 0.8400: 100%|██████████| 158/158 [00:01<00:00, 104.67it/s]\n",
      "loss: 0.3550, accuracy: 0.9100:   1%|          | 11/1000 [00:00<00:16, 58.76it/s]"
     ]
    },
    {
     "name": "stdout",
     "output_type": "stream",
     "text": [
      "Epoch 63: train_acc_0.8949_train_loss_0.2977_val_acc_0.8767_val_loss_0.3567 epoch time 19.0739 seconds\n",
      "total time20.0 : 34.52225375175476\n"
     ]
    },
    {
     "name": "stderr",
     "output_type": "stream",
     "text": [
      "loss: 0.3067, accuracy: 0.8600: 100%|██████████| 1000/1000 [00:17<00:00, 55.85it/s]\n",
      "loss: 0.3701, accuracy: 0.8700: 100%|██████████| 158/158 [00:01<00:00, 108.10it/s]\n",
      "loss: 0.2324, accuracy: 0.9200:   1%|          | 11/1000 [00:00<00:16, 61.40it/s]"
     ]
    },
    {
     "name": "stdout",
     "output_type": "stream",
     "text": [
      "Epoch 64: train_acc_0.8953_train_loss_0.2951_val_acc_0.8704_val_loss_0.3699 epoch time 19.5018 seconds\n",
      "total time20.0 : 54.02405023574829\n"
     ]
    },
    {
     "name": "stderr",
     "output_type": "stream",
     "text": [
      "loss: 0.2247, accuracy: 0.9300: 100%|██████████| 1000/1000 [00:17<00:00, 56.84it/s]\n",
      "loss: 0.3088, accuracy: 0.9000: 100%|██████████| 158/158 [00:01<00:00, 106.74it/s]\n",
      "loss: 0.1739, accuracy: 0.9500:   1%|          | 11/1000 [00:00<00:16, 59.26it/s]"
     ]
    },
    {
     "name": "stdout",
     "output_type": "stream",
     "text": [
      "Epoch 65: train_acc_0.8945_train_loss_0.2958_val_acc_0.8788_val_loss_0.3531 epoch time 19.2108 seconds\n",
      "total time21.0 : 13.234894275665283\n"
     ]
    },
    {
     "name": "stderr",
     "output_type": "stream",
     "text": [
      "loss: 0.2310, accuracy: 0.9100: 100%|██████████| 1000/1000 [00:17<00:00, 56.86it/s]\n",
      "loss: 0.3267, accuracy: 0.8700: 100%|██████████| 158/158 [00:01<00:00, 113.75it/s]\n",
      "loss: 0.2959, accuracy: 0.8900:   1%|          | 11/1000 [00:00<00:15, 62.82it/s]"
     ]
    },
    {
     "name": "stdout",
     "output_type": "stream",
     "text": [
      "Epoch 66: train_acc_0.8958_train_loss_0.2947_val_acc_0.8785_val_loss_0.3502 epoch time 19.1114 seconds\n",
      "total time21.0 : 32.34633708000183\n"
     ]
    },
    {
     "name": "stderr",
     "output_type": "stream",
     "text": [
      "loss: 0.3093, accuracy: 0.8900: 100%|██████████| 1000/1000 [00:17<00:00, 57.97it/s]\n",
      "loss: 0.4156, accuracy: 0.8400: 100%|██████████| 158/158 [00:01<00:00, 108.03it/s]\n",
      "loss: 0.2619, accuracy: 0.9200:   1%|          | 11/1000 [00:00<00:16, 59.12it/s]"
     ]
    },
    {
     "name": "stdout",
     "output_type": "stream",
     "text": [
      "Epoch 67: train_acc_0.8950_train_loss_0.2937_val_acc_0.8785_val_loss_0.3570 epoch time 19.0794 seconds\n",
      "total time21.0 : 51.42571544647217\n"
     ]
    },
    {
     "name": "stderr",
     "output_type": "stream",
     "text": [
      "loss: 0.2972, accuracy: 0.9200: 100%|██████████| 1000/1000 [00:17<00:00, 55.67it/s]\n",
      "loss: 0.6039, accuracy: 0.7700: 100%|██████████| 158/158 [00:01<00:00, 110.28it/s]\n",
      "loss: 0.3010, accuracy: 0.8600:   1%|          | 11/1000 [00:00<00:16, 60.65it/s]"
     ]
    },
    {
     "name": "stdout",
     "output_type": "stream",
     "text": [
      "Epoch 68: train_acc_0.8956_train_loss_0.2929_val_acc_0.8784_val_loss_0.3542 epoch time 19.6002 seconds\n",
      "total time22.0 : 11.025942087173462\n"
     ]
    },
    {
     "name": "stderr",
     "output_type": "stream",
     "text": [
      "loss: 0.5150, accuracy: 0.8500: 100%|██████████| 1000/1000 [00:17<00:00, 57.74it/s]\n",
      "loss: 0.3305, accuracy: 0.8500: 100%|██████████| 158/158 [00:01<00:00, 107.05it/s]\n",
      "loss: 0.2880, accuracy: 0.9100:   1%|          | 11/1000 [00:00<00:17, 57.08it/s]"
     ]
    },
    {
     "name": "stdout",
     "output_type": "stream",
     "text": [
      "Epoch 69: train_acc_0.8959_train_loss_0.2920_val_acc_0.8772_val_loss_0.3570 epoch time 18.9360 seconds\n",
      "total time22.0 : 29.96196961402893\n"
     ]
    },
    {
     "name": "stderr",
     "output_type": "stream",
     "text": [
      "loss: 0.2408, accuracy: 0.9100: 100%|██████████| 1000/1000 [00:17<00:00, 55.73it/s]\n",
      "loss: 0.3827, accuracy: 0.9000: 100%|██████████| 158/158 [00:01<00:00, 106.77it/s]\n",
      "loss: 0.2971, accuracy: 0.9200:   1%|          | 11/1000 [00:00<00:16, 60.75it/s]"
     ]
    },
    {
     "name": "stdout",
     "output_type": "stream",
     "text": [
      "Epoch 70: train_acc_0.8962_train_loss_0.2920_val_acc_0.8795_val_loss_0.3533 epoch time 19.5625 seconds\n",
      "total time22.0 : 49.524500608444214\n"
     ]
    },
    {
     "name": "stderr",
     "output_type": "stream",
     "text": [
      "loss: 0.3644, accuracy: 0.8900: 100%|██████████| 1000/1000 [00:17<00:00, 56.81it/s]\n",
      "loss: 0.1934, accuracy: 0.9200: 100%|██████████| 158/158 [00:01<00:00, 105.92it/s]\n",
      "loss: 0.4135, accuracy: 0.8600:   1%|          | 11/1000 [00:00<00:16, 59.06it/s]"
     ]
    },
    {
     "name": "stdout",
     "output_type": "stream",
     "text": [
      "Epoch 71: train_acc_0.8965_train_loss_0.2908_val_acc_0.8768_val_loss_0.3563 epoch time 19.2316 seconds\n",
      "total time23.0 : 8.756124019622803\n"
     ]
    },
    {
     "name": "stderr",
     "output_type": "stream",
     "text": [
      "loss: 0.3067, accuracy: 0.8900: 100%|██████████| 1000/1000 [00:17<00:00, 55.78it/s]\n",
      "loss: 0.3751, accuracy: 0.8600: 100%|██████████| 158/158 [00:01<00:00, 105.01it/s]\n",
      "loss: 0.1974, accuracy: 0.9500:   1%|          | 11/1000 [00:00<00:15, 61.91it/s]"
     ]
    },
    {
     "name": "stdout",
     "output_type": "stream",
     "text": [
      "Epoch 72: train_acc_0.8952_train_loss_0.2913_val_acc_0.8782_val_loss_0.3534 epoch time 19.5702 seconds\n",
      "total time23.0 : 28.32633686065674\n"
     ]
    },
    {
     "name": "stderr",
     "output_type": "stream",
     "text": [
      "loss: 0.2445, accuracy: 0.9300: 100%|██████████| 1000/1000 [00:17<00:00, 57.11it/s]\n",
      "loss: 0.3786, accuracy: 0.8300: 100%|██████████| 158/158 [00:01<00:00, 110.80it/s]\n",
      "loss: 0.4404, accuracy: 0.8900:   1%|          | 11/1000 [00:00<00:16, 59.17it/s]"
     ]
    },
    {
     "name": "stdout",
     "output_type": "stream",
     "text": [
      "Epoch 73: train_acc_0.8966_train_loss_0.2894_val_acc_0.8787_val_loss_0.3579 epoch time 19.0750 seconds\n",
      "total time23.0 : 47.40134119987488\n"
     ]
    },
    {
     "name": "stderr",
     "output_type": "stream",
     "text": [
      "loss: 0.2965, accuracy: 0.9100: 100%|██████████| 1000/1000 [00:17<00:00, 55.71it/s]\n",
      "loss: 0.2807, accuracy: 0.8900: 100%|██████████| 158/158 [00:01<00:00, 103.68it/s]\n",
      "loss: 0.2217, accuracy: 0.9000:   1%|          | 11/1000 [00:00<00:16, 61.13it/s]"
     ]
    },
    {
     "name": "stdout",
     "output_type": "stream",
     "text": [
      "Epoch 74: train_acc_0.8967_train_loss_0.2893_val_acc_0.8737_val_loss_0.3644 epoch time 19.6129 seconds\n",
      "total time24.0 : 7.014275312423706\n"
     ]
    },
    {
     "name": "stderr",
     "output_type": "stream",
     "text": [
      "loss: 0.2122, accuracy: 0.9100: 100%|██████████| 1000/1000 [00:17<00:00, 57.06it/s]\n",
      "loss: 0.3825, accuracy: 0.8900: 100%|██████████| 158/158 [00:01<00:00, 108.66it/s]\n",
      "loss: 0.3302, accuracy: 0.9200:   1%|          | 11/1000 [00:00<00:16, 58.94it/s]"
     ]
    },
    {
     "name": "stdout",
     "output_type": "stream",
     "text": [
      "Epoch 75: train_acc_0.8973_train_loss_0.2882_val_acc_0.8797_val_loss_0.3586 epoch time 19.1314 seconds\n",
      "total time24.0 : 26.145633220672607\n"
     ]
    },
    {
     "name": "stderr",
     "output_type": "stream",
     "text": [
      "loss: 0.2233, accuracy: 0.9100: 100%|██████████| 1000/1000 [00:17<00:00, 55.80it/s]\n",
      "loss: 0.4332, accuracy: 0.8400: 100%|██████████| 158/158 [00:01<00:00, 106.96it/s]\n",
      "loss: 0.2789, accuracy: 0.9200:   1%|          | 11/1000 [00:00<00:15, 61.83it/s]"
     ]
    },
    {
     "name": "stdout",
     "output_type": "stream",
     "text": [
      "Epoch 76: train_acc_0.8965_train_loss_0.2883_val_acc_0.8776_val_loss_0.3596 epoch time 19.5350 seconds\n",
      "total time24.0 : 45.68064761161804\n"
     ]
    },
    {
     "name": "stderr",
     "output_type": "stream",
     "text": [
      "loss: 0.3214, accuracy: 0.8400: 100%|██████████| 1000/1000 [00:17<00:00, 56.68it/s]\n",
      "loss: 0.3622, accuracy: 0.8800: 100%|██████████| 158/158 [00:01<00:00, 106.42it/s]\n",
      "loss: 0.3531, accuracy: 0.8900:   1%|          | 10/1000 [00:00<00:17, 56.03it/s]"
     ]
    },
    {
     "name": "stdout",
     "output_type": "stream",
     "text": [
      "Epoch 77: train_acc_0.8983_train_loss_0.2870_val_acc_0.8771_val_loss_0.3609 epoch time 19.2668 seconds\n",
      "total time25.0 : 4.947424411773682\n"
     ]
    },
    {
     "name": "stderr",
     "output_type": "stream",
     "text": [
      "loss: 0.1887, accuracy: 0.9400: 100%|██████████| 1000/1000 [00:17<00:00, 55.81it/s]\n",
      "loss: 0.2053, accuracy: 0.9400: 100%|██████████| 158/158 [00:01<00:00, 105.68it/s]\n",
      "loss: 0.3460, accuracy: 0.8800:   1%|          | 11/1000 [00:00<00:16, 61.52it/s]"
     ]
    },
    {
     "name": "stdout",
     "output_type": "stream",
     "text": [
      "Epoch 78: train_acc_0.8972_train_loss_0.2866_val_acc_0.8782_val_loss_0.3539 epoch time 19.5468 seconds\n",
      "total time25.0 : 24.4941885471344\n"
     ]
    },
    {
     "name": "stderr",
     "output_type": "stream",
     "text": [
      "loss: 0.1170, accuracy: 0.9800: 100%|██████████| 1000/1000 [00:17<00:00, 57.30it/s]\n",
      "loss: 0.3532, accuracy: 0.8500: 100%|██████████| 158/158 [00:01<00:00, 106.49it/s]\n",
      "loss: 0.2383, accuracy: 0.9000:   1%|          | 11/1000 [00:00<00:16, 58.69it/s]"
     ]
    },
    {
     "name": "stdout",
     "output_type": "stream",
     "text": [
      "Epoch 79: train_acc_0.8976_train_loss_0.2856_val_acc_0.8780_val_loss_0.3560 epoch time 19.0743 seconds\n",
      "total time25.0 : 43.56850814819336\n"
     ]
    },
    {
     "name": "stderr",
     "output_type": "stream",
     "text": [
      "loss: 0.4131, accuracy: 0.9100: 100%|██████████| 1000/1000 [00:17<00:00, 55.73it/s]\n",
      "loss: 0.5145, accuracy: 0.8600: 100%|██████████| 158/158 [00:01<00:00, 104.74it/s]\n",
      "loss: 0.1749, accuracy: 0.9500:   1%|          | 11/1000 [00:00<00:16, 61.54it/s]"
     ]
    },
    {
     "name": "stdout",
     "output_type": "stream",
     "text": [
      "Epoch 80: train_acc_0.8982_train_loss_0.2848_val_acc_0.8754_val_loss_0.3585 epoch time 19.5895 seconds\n",
      "total time26.0 : 3.1580121517181396\n"
     ]
    },
    {
     "name": "stderr",
     "output_type": "stream",
     "text": [
      "loss: 0.3500, accuracy: 0.8900: 100%|██████████| 1000/1000 [00:17<00:00, 57.11it/s]\n",
      "loss: 0.5344, accuracy: 0.7700: 100%|██████████| 158/158 [00:01<00:00, 106.45it/s]\n",
      "loss: 0.2374, accuracy: 0.9100:   1%|          | 11/1000 [00:00<00:17, 58.11it/s]"
     ]
    },
    {
     "name": "stdout",
     "output_type": "stream",
     "text": [
      "Epoch 81: train_acc_0.8974_train_loss_0.2854_val_acc_0.8772_val_loss_0.3534 epoch time 19.1327 seconds\n",
      "total time26.0 : 22.290730714797974\n"
     ]
    },
    {
     "name": "stderr",
     "output_type": "stream",
     "text": [
      "loss: 0.3298, accuracy: 0.8900: 100%|██████████| 1000/1000 [00:17<00:00, 56.55it/s]\n",
      "loss: 0.3887, accuracy: 0.8800: 100%|██████████| 158/158 [00:01<00:00, 112.66it/s]\n",
      "loss: 0.1440, accuracy: 0.9500:   1%|          | 12/1000 [00:00<00:15, 61.93it/s]"
     ]
    },
    {
     "name": "stdout",
     "output_type": "stream",
     "text": [
      "Epoch 82: train_acc_0.8986_train_loss_0.2841_val_acc_0.8790_val_loss_0.3540 epoch time 19.2198 seconds\n",
      "total time26.0 : 41.51051092147827\n"
     ]
    },
    {
     "name": "stderr",
     "output_type": "stream",
     "text": [
      "loss: 0.4710, accuracy: 0.8600: 100%|██████████| 1000/1000 [00:17<00:00, 57.08it/s]\n",
      "loss: 0.6373, accuracy: 0.8000: 100%|██████████| 158/158 [00:01<00:00, 106.93it/s]\n",
      "loss: 0.4189, accuracy: 0.8400:   1%|          | 11/1000 [00:00<00:16, 58.88it/s]"
     ]
    },
    {
     "name": "stdout",
     "output_type": "stream",
     "text": [
      "Epoch 83: train_acc_0.8974_train_loss_0.2847_val_acc_0.8803_val_loss_0.3512 epoch time 19.1340 seconds\n",
      "total time27.0 : 0.6445364952087402\n"
     ]
    },
    {
     "name": "stderr",
     "output_type": "stream",
     "text": [
      "loss: 0.4171, accuracy: 0.8700: 100%|██████████| 1000/1000 [00:17<00:00, 55.73it/s]\n",
      "loss: 0.3220, accuracy: 0.9000: 100%|██████████| 158/158 [00:01<00:00, 106.32it/s]\n",
      "loss: 0.2512, accuracy: 0.9100:   1%|          | 11/1000 [00:00<00:15, 61.93it/s]"
     ]
    },
    {
     "name": "stdout",
     "output_type": "stream",
     "text": [
      "Epoch 84: train_acc_0.8992_train_loss_0.2833_val_acc_0.8787_val_loss_0.3537 epoch time 19.5638 seconds\n",
      "total time27.0 : 20.208330631256104\n"
     ]
    },
    {
     "name": "stderr",
     "output_type": "stream",
     "text": [
      "loss: 0.2807, accuracy: 0.8800: 100%|██████████| 1000/1000 [00:17<00:00, 57.45it/s]\n",
      "loss: 0.4529, accuracy: 0.8400: 100%|██████████| 158/158 [00:01<00:00, 108.47it/s]\n",
      "loss: 0.3279, accuracy: 0.8900:   1%|          | 11/1000 [00:00<00:16, 60.44it/s]"
     ]
    },
    {
     "name": "stdout",
     "output_type": "stream",
     "text": [
      "Epoch 85: train_acc_0.8986_train_loss_0.2833_val_acc_0.8764_val_loss_0.3568 epoch time 19.0129 seconds\n",
      "total time27.0 : 39.22123098373413\n"
     ]
    },
    {
     "name": "stderr",
     "output_type": "stream",
     "text": [
      "loss: 0.3269, accuracy: 0.8800: 100%|██████████| 1000/1000 [00:17<00:00, 55.73it/s]\n",
      "loss: 0.4270, accuracy: 0.8800: 100%|██████████| 158/158 [00:01<00:00, 104.98it/s]\n",
      "loss: 0.1966, accuracy: 0.9100:   1%|          | 11/1000 [00:00<00:16, 59.80it/s]"
     ]
    },
    {
     "name": "stdout",
     "output_type": "stream",
     "text": [
      "Epoch 86: train_acc_0.8980_train_loss_0.2828_val_acc_0.8771_val_loss_0.3578 epoch time 19.5883 seconds\n",
      "total time27.0 : 58.809490442276\n"
     ]
    },
    {
     "name": "stderr",
     "output_type": "stream",
     "text": [
      "loss: 0.2061, accuracy: 0.9200: 100%|██████████| 1000/1000 [00:17<00:00, 56.58it/s]\n",
      "loss: 0.2535, accuracy: 0.9100: 100%|██████████| 158/158 [00:01<00:00, 108.38it/s]\n",
      "loss: 0.2283, accuracy: 0.9300:   1%|          | 11/1000 [00:00<00:16, 59.99it/s]"
     ]
    },
    {
     "name": "stdout",
     "output_type": "stream",
     "text": [
      "Epoch 87: train_acc_0.8988_train_loss_0.2818_val_acc_0.8792_val_loss_0.3554 epoch time 19.2868 seconds\n",
      "total time28.0 : 18.09631109237671\n"
     ]
    },
    {
     "name": "stderr",
     "output_type": "stream",
     "text": [
      "loss: 0.2636, accuracy: 0.9000: 100%|██████████| 1000/1000 [00:17<00:00, 55.85it/s]\n",
      "loss: 0.2334, accuracy: 0.9300: 100%|██████████| 158/158 [00:01<00:00, 106.08it/s]\n",
      "loss: 0.3812, accuracy: 0.8700:   1%|          | 11/1000 [00:00<00:16, 60.01it/s]"
     ]
    },
    {
     "name": "stdout",
     "output_type": "stream",
     "text": [
      "Epoch 88: train_acc_0.8995_train_loss_0.2812_val_acc_0.8794_val_loss_0.3602 epoch time 19.5281 seconds\n",
      "total time28.0 : 37.62442874908447\n"
     ]
    },
    {
     "name": "stderr",
     "output_type": "stream",
     "text": [
      "loss: 0.3300, accuracy: 0.8400: 100%|██████████| 1000/1000 [00:17<00:00, 58.36it/s]\n",
      "loss: 0.3117, accuracy: 0.8600: 100%|██████████| 158/158 [00:01<00:00, 106.45it/s]\n",
      "loss: 0.3006, accuracy: 0.8900:   1%|          | 11/1000 [00:00<00:16, 59.06it/s]"
     ]
    },
    {
     "name": "stdout",
     "output_type": "stream",
     "text": [
      "Epoch 89: train_acc_0.8995_train_loss_0.2809_val_acc_0.8782_val_loss_0.3560 epoch time 19.0032 seconds\n",
      "total time28.0 : 56.62765169143677\n"
     ]
    },
    {
     "name": "stderr",
     "output_type": "stream",
     "text": [
      "loss: 0.2110, accuracy: 0.9300: 100%|██████████| 1000/1000 [00:17<00:00, 55.95it/s]\n",
      "loss: 0.3200, accuracy: 0.8800: 100%|██████████| 158/158 [00:01<00:00, 106.45it/s]\n",
      "loss: 0.2381, accuracy: 0.8900:   1%|          | 11/1000 [00:00<00:16, 61.67it/s]"
     ]
    },
    {
     "name": "stdout",
     "output_type": "stream",
     "text": [
      "Epoch 90: train_acc_0.9000_train_loss_0.2800_val_acc_0.8785_val_loss_0.3571 epoch time 19.4955 seconds\n",
      "total time29.0 : 16.123140811920166\n"
     ]
    },
    {
     "name": "stderr",
     "output_type": "stream",
     "text": [
      "loss: 0.1931, accuracy: 0.9300: 100%|██████████| 1000/1000 [00:17<00:00, 57.34it/s]\n",
      "loss: 0.3279, accuracy: 0.8800: 100%|██████████| 158/158 [00:01<00:00, 106.53it/s]\n",
      "loss: 0.3703, accuracy: 0.8700:   1%|          | 11/1000 [00:00<00:16, 59.16it/s]"
     ]
    },
    {
     "name": "stdout",
     "output_type": "stream",
     "text": [
      "Epoch 91: train_acc_0.8995_train_loss_0.2796_val_acc_0.8755_val_loss_0.3593 epoch time 19.0579 seconds\n",
      "total time29.0 : 35.18104386329651\n"
     ]
    },
    {
     "name": "stderr",
     "output_type": "stream",
     "text": [
      "loss: 0.3159, accuracy: 0.9100: 100%|██████████| 1000/1000 [00:17<00:00, 55.80it/s]\n",
      "loss: 0.3461, accuracy: 0.8700: 100%|██████████| 158/158 [00:01<00:00, 108.71it/s]\n",
      "loss: 0.2517, accuracy: 0.9000:   1%|          | 11/1000 [00:00<00:16, 61.48it/s]"
     ]
    },
    {
     "name": "stdout",
     "output_type": "stream",
     "text": [
      "Epoch 92: train_acc_0.8998_train_loss_0.2788_val_acc_0.8794_val_loss_0.3552 epoch time 19.5447 seconds\n",
      "total time29.0 : 54.72571635246277\n"
     ]
    },
    {
     "name": "stderr",
     "output_type": "stream",
     "text": [
      "loss: 0.2748, accuracy: 0.8700: 100%|██████████| 1000/1000 [00:17<00:00, 58.55it/s]\n",
      "loss: 0.2871, accuracy: 0.8900: 100%|██████████| 158/158 [00:01<00:00, 106.43it/s]\n",
      "loss: 0.3353, accuracy: 0.8700:   1%|          | 11/1000 [00:00<00:16, 58.91it/s]"
     ]
    },
    {
     "name": "stdout",
     "output_type": "stream",
     "text": [
      "Epoch 93: train_acc_0.8998_train_loss_0.2790_val_acc_0.8749_val_loss_0.3625 epoch time 19.0125 seconds\n",
      "total time30.0 : 13.738186120986938\n"
     ]
    },
    {
     "name": "stderr",
     "output_type": "stream",
     "text": [
      "loss: 0.3656, accuracy: 0.9000: 100%|██████████| 1000/1000 [00:17<00:00, 55.79it/s]\n",
      "loss: 0.2637, accuracy: 0.9000: 100%|██████████| 158/158 [00:01<00:00, 104.86it/s]\n",
      "loss: 0.2063, accuracy: 0.9200:   1%|          | 11/1000 [00:00<00:16, 60.72it/s]"
     ]
    },
    {
     "name": "stdout",
     "output_type": "stream",
     "text": [
      "Epoch 94: train_acc_0.8995_train_loss_0.2780_val_acc_0.8801_val_loss_0.3578 epoch time 19.5668 seconds\n",
      "total time30.0 : 33.304961919784546\n"
     ]
    },
    {
     "name": "stderr",
     "output_type": "stream",
     "text": [
      "loss: 0.3097, accuracy: 0.8700: 100%|██████████| 1000/1000 [00:17<00:00, 57.02it/s]\n",
      "loss: 0.2936, accuracy: 0.8900: 100%|██████████| 158/158 [00:01<00:00, 106.36it/s]\n",
      "loss: 0.1853, accuracy: 0.9400:   1%|          | 11/1000 [00:00<00:16, 59.17it/s]"
     ]
    },
    {
     "name": "stdout",
     "output_type": "stream",
     "text": [
      "Epoch 95: train_acc_0.8996_train_loss_0.2781_val_acc_0.8737_val_loss_0.3615 epoch time 19.1583 seconds\n",
      "total time30.0 : 52.463299036026\n"
     ]
    },
    {
     "name": "stderr",
     "output_type": "stream",
     "text": [
      "loss: 0.2050, accuracy: 0.9200: 100%|██████████| 1000/1000 [00:17<00:00, 55.94it/s]\n",
      "loss: 0.2774, accuracy: 0.8900: 100%|██████████| 158/158 [00:01<00:00, 106.13it/s]\n",
      "loss: 0.2499, accuracy: 0.8900:   1%|          | 11/1000 [00:00<00:16, 60.55it/s]"
     ]
    },
    {
     "name": "stdout",
     "output_type": "stream",
     "text": [
      "Epoch 96: train_acc_0.9005_train_loss_0.2771_val_acc_0.8794_val_loss_0.3579 epoch time 19.5002 seconds\n",
      "total time31.0 : 11.963523864746094\n"
     ]
    },
    {
     "name": "stderr",
     "output_type": "stream",
     "text": [
      "loss: 0.2991, accuracy: 0.9100: 100%|██████████| 1000/1000 [00:17<00:00, 57.28it/s]\n",
      "loss: 0.4194, accuracy: 0.8800: 100%|██████████| 158/158 [00:01<00:00, 105.94it/s]\n",
      "loss: 0.2779, accuracy: 0.8700:   1%|          | 11/1000 [00:00<00:17, 57.94it/s]"
     ]
    },
    {
     "name": "stdout",
     "output_type": "stream",
     "text": [
      "Epoch 97: train_acc_0.9013_train_loss_0.2766_val_acc_0.8780_val_loss_0.3572 epoch time 19.0837 seconds\n",
      "total time31.0 : 31.047231674194336\n"
     ]
    },
    {
     "name": "stderr",
     "output_type": "stream",
     "text": [
      "loss: 0.2371, accuracy: 0.9000: 100%|██████████| 1000/1000 [00:17<00:00, 56.34it/s]\n",
      "loss: 0.2761, accuracy: 0.9300: 100%|██████████| 158/158 [00:01<00:00, 114.84it/s]\n",
      "loss: 0.4174, accuracy: 0.8900:   1%|          | 11/1000 [00:00<00:16, 61.43it/s]"
     ]
    },
    {
     "name": "stdout",
     "output_type": "stream",
     "text": [
      "Epoch 98: train_acc_0.9011_train_loss_0.2761_val_acc_0.8777_val_loss_0.3603 epoch time 19.2590 seconds\n",
      "total time31.0 : 50.30623388290405\n"
     ]
    },
    {
     "name": "stderr",
     "output_type": "stream",
     "text": [
      "loss: 0.2165, accuracy: 0.9100: 100%|██████████| 1000/1000 [00:17<00:00, 57.53it/s]\n",
      "loss: 0.5309, accuracy: 0.8500: 100%|██████████| 158/158 [00:01<00:00, 106.69it/s]\n",
      "loss: 0.4080, accuracy: 0.8900:  14%|█▍        | 22/158 [00:00<00:01, 124.80it/s]"
     ]
    },
    {
     "name": "stdout",
     "output_type": "stream",
     "text": [
      "Epoch 99: train_acc_0.9014_train_loss_0.2755_val_acc_0.8789_val_loss_0.3534 epoch time 18.8765 seconds\n",
      "total time32.0 : 9.182694435119629\n",
      "Generating test set evaluation metrics\n"
     ]
    },
    {
     "name": "stderr",
     "output_type": "stream",
     "text": [
      "loss: 0.3751, accuracy: 0.8400: 100%|██████████| 158/158 [00:01<00:00, 103.42it/s]\n"
     ]
    },
    {
     "name": "stdout",
     "output_type": "stream",
     "text": [
      "finish\n"
     ]
    },
    {
     "data": {
      "image/png": "[encoded data removed]",
      "text/plain": [
       "<Figure size 576x288 with 1 Axes>"
      ]
     },
     "metadata": {
      "needs_background": "light"
     },
     "output_type": "display_data"
    },
    {
     "data": {
      "image/png": "[encoded data removed]",
      "text/plain": [
       "<Figure size 576x288 with 1 Axes>"
      ]
     },
     "metadata": {
      "needs_background": "light"
     },
     "output_type": "display_data"
    },
    {
     "name": "stdout",
     "output_type": "stream",
     "text": [
      "Building basic block of ConvolutionalNetwork using input shape (100, 1, 28, 28)\n",
      "torch.Size([100, 64, 28, 28])\n",
      "torch.Size([100, 64, 15, 15])\n",
      "torch.Size([100, 64, 15, 15])\n",
      "torch.Size([100, 64, 8, 8])\n"
     ]
    },
    {
     "name": "stderr",
     "output_type": "stream",
     "text": [
      "loss: 3.8366, accuracy: 0.0100:   1%|          | 8/1000 [00:00<00:21, 47.00it/s]"
     ]
    },
    {
     "name": "stdout",
     "output_type": "stream",
     "text": [
      "torch.Size([100, 64, 8, 8])\n",
      "torch.Size([100, 64, 5, 5])\n",
      "shape before final linear layer torch.Size([100, 64, 2, 2])\n",
      "Block is built, output volume is torch.Size([100, 47])\n",
      "use GPU\n",
      "ConvolutionalNetwork(\n",
      "  (layer_dict): ModuleDict(\n",
      "    (conv_0): Conv2d(1, 64, kernel_size=(3, 3), stride=(1, 1), padding=(1, 1))\n",
      "    (dim_reduction_max_pool_0): MaxPool2d(kernel_size=2, stride=2, padding=1, dilation=1, ceil_mode=False)\n",
      "    (conv_1): Conv2d(64, 64, kernel_size=(3, 3), stride=(1, 1), padding=(1, 1))\n",
      "    (dim_reduction_max_pool_1): MaxPool2d(kernel_size=2, stride=2, padding=1, dilation=1, ceil_mode=False)\n",
      "    (conv_2): Conv2d(64, 64, kernel_size=(3, 3), stride=(1, 1), padding=(1, 1))\n",
      "    (dim_reduction_max_pool_2): MaxPool2d(kernel_size=2, stride=2, padding=1, dilation=1, ceil_mode=False)\n",
      "  )\n",
      "  (logit_linear_layer): Linear(in_features=256, out_features=47, bias=True)\n",
      ")\n"
     ]
    },
    {
     "name": "stderr",
     "output_type": "stream",
     "text": [
      "loss: 0.4470, accuracy: 0.8300: 100%|██████████| 1000/1000 [00:19<00:00, 50.24it/s]\n",
      "loss: 0.4215, accuracy: 0.8900: 100%|██████████| 158/158 [00:01<00:00, 100.54it/s]\n",
      "loss: 0.6310, accuracy: 0.7600:   1%|          | 10/1000 [00:00<00:18, 54.49it/s]"
     ]
    },
    {
     "name": "stdout",
     "output_type": "stream",
     "text": [
      "Epoch 0: train_acc_0.6533_train_loss_1.1868_val_acc_0.8006_val_loss_0.6241 epoch time 21.6124 seconds\n",
      "total time0.0 : 21.612369775772095\n"
     ]
    },
    {
     "name": "stderr",
     "output_type": "stream",
     "text": [
      "loss: 0.5957, accuracy: 0.7900: 100%|██████████| 1000/1000 [00:19<00:00, 50.10it/s]\n",
      "loss: 0.4351, accuracy: 0.8200: 100%|██████████| 158/158 [00:01<00:00, 100.33it/s]\n",
      "loss: 0.4250, accuracy: 0.8400:   1%|          | 10/1000 [00:00<00:18, 53.53it/s]"
     ]
    },
    {
     "name": "stdout",
     "output_type": "stream",
     "text": [
      "Epoch 1: train_acc_0.8172_train_loss_0.5546_val_acc_0.8414_val_loss_0.4705 epoch time 21.6692 seconds\n",
      "total time0.0 : 43.281607151031494\n"
     ]
    },
    {
     "name": "stderr",
     "output_type": "stream",
     "text": [
      "loss: 0.4660, accuracy: 0.8500: 100%|██████████| 1000/1000 [00:19<00:00, 50.10it/s]\n",
      "loss: 0.5670, accuracy: 0.7700: 100%|██████████| 158/158 [00:01<00:00, 99.62it/s] \n",
      "loss: 0.3317, accuracy: 0.8800:   1%|          | 10/1000 [00:00<00:18, 53.07it/s]"
     ]
    },
    {
     "name": "stdout",
     "output_type": "stream",
     "text": [
      "Epoch 2: train_acc_0.8399_train_loss_0.4711_val_acc_0.8375_val_loss_0.4620 epoch time 21.6818 seconds\n",
      "total time1.0 : 4.963417053222656\n"
     ]
    },
    {
     "name": "stderr",
     "output_type": "stream",
     "text": [
      "loss: 0.4618, accuracy: 0.8500: 100%|██████████| 1000/1000 [00:19<00:00, 50.13it/s]\n",
      "loss: 0.4539, accuracy: 0.8300: 100%|██████████| 158/158 [00:01<00:00, 100.49it/s]\n",
      "loss: 0.3573, accuracy: 0.8500:   1%|          | 9/1000 [00:00<00:18, 52.57it/s]"
     ]
    },
    {
     "name": "stdout",
     "output_type": "stream",
     "text": [
      "Epoch 3: train_acc_0.8542_train_loss_0.4266_val_acc_0.8586_val_loss_0.4105 epoch time 21.6572 seconds\n",
      "total time1.0 : 26.620582580566406\n"
     ]
    },
    {
     "name": "stderr",
     "output_type": "stream",
     "text": [
      "loss: 0.1965, accuracy: 0.9400: 100%|██████████| 1000/1000 [00:19<00:00, 50.07it/s]\n",
      "loss: 0.4604, accuracy: 0.8300: 100%|██████████| 158/158 [00:01<00:00, 100.95it/s]\n",
      "loss: 0.3113, accuracy: 0.9100:   1%|          | 9/1000 [00:00<00:18, 52.43it/s]"
     ]
    },
    {
     "name": "stdout",
     "output_type": "stream",
     "text": [
      "Epoch 4: train_acc_0.8619_train_loss_0.4007_val_acc_0.8541_val_loss_0.3996 epoch time 21.6744 seconds\n",
      "total time1.0 : 48.2950325012207\n"
     ]
    },
    {
     "name": "stderr",
     "output_type": "stream",
     "text": [
      "loss: 0.5565, accuracy: 0.8500: 100%|██████████| 1000/1000 [00:19<00:00, 50.01it/s]\n",
      "loss: 0.4232, accuracy: 0.8900: 100%|██████████| 158/158 [00:01<00:00, 99.56it/s] \n",
      "loss: 0.4181, accuracy: 0.8400:   1%|          | 9/1000 [00:00<00:19, 50.85it/s]"
     ]
    },
    {
     "name": "stdout",
     "output_type": "stream",
     "text": [
      "Epoch 5: train_acc_0.8674_train_loss_0.3796_val_acc_0.8709_val_loss_0.3648 epoch time 21.7178 seconds\n",
      "total time2.0 : 10.012836933135986\n"
     ]
    },
    {
     "name": "stderr",
     "output_type": "stream",
     "text": [
      "loss: 0.4042, accuracy: 0.8800: 100%|██████████| 1000/1000 [00:20<00:00, 49.98it/s]\n",
      "loss: 0.3313, accuracy: 0.8900: 100%|██████████| 158/158 [00:01<00:00, 100.26it/s]\n",
      "loss: 0.2975, accuracy: 0.9200:   1%|          | 10/1000 [00:00<00:18, 53.55it/s]"
     ]
    },
    {
     "name": "stdout",
     "output_type": "stream",
     "text": [
      "Epoch 6: train_acc_0.8721_train_loss_0.3653_val_acc_0.8665_val_loss_0.3799 epoch time 21.7221 seconds\n",
      "total time2.0 : 31.73494553565979\n"
     ]
    },
    {
     "name": "stderr",
     "output_type": "stream",
     "text": [
      "loss: 0.2974, accuracy: 0.9300: 100%|██████████| 1000/1000 [00:19<00:00, 50.10it/s]\n",
      "loss: 0.4006, accuracy: 0.8800: 100%|██████████| 158/158 [00:01<00:00, 100.98it/s]\n",
      "loss: 0.3063, accuracy: 0.8900:   1%|          | 10/1000 [00:00<00:18, 53.61it/s]"
     ]
    },
    {
     "name": "stdout",
     "output_type": "stream",
     "text": [
      "Epoch 7: train_acc_0.8749_train_loss_0.3530_val_acc_0.8725_val_loss_0.3613 epoch time 21.6895 seconds\n",
      "total time2.0 : 53.424474477767944\n"
     ]
    },
    {
     "name": "stderr",
     "output_type": "stream",
     "text": [
      "loss: 0.3494, accuracy: 0.8900: 100%|██████████| 1000/1000 [00:19<00:00, 50.44it/s]\n",
      "loss: 0.4095, accuracy: 0.8700: 100%|██████████| 158/158 [00:01<00:00, 100.09it/s]\n",
      "loss: 0.2150, accuracy: 0.9100:   1%|          | 10/1000 [00:00<00:17, 55.10it/s]"
     ]
    },
    {
     "name": "stdout",
     "output_type": "stream",
     "text": [
      "Epoch 8: train_acc_0.8775_train_loss_0.3443_val_acc_0.8823_val_loss_0.3389 epoch time 21.6957 seconds\n",
      "total time3.0 : 15.120177507400513\n"
     ]
    },
    {
     "name": "stderr",
     "output_type": "stream",
     "text": [
      "loss: 0.4115, accuracy: 0.9300: 100%|██████████| 1000/1000 [00:19<00:00, 50.07it/s]\n",
      "loss: 0.2249, accuracy: 0.9200: 100%|██████████| 158/158 [00:01<00:00, 100.07it/s]\n",
      "loss: 0.2807, accuracy: 0.9100:   1%|          | 10/1000 [00:00<00:18, 54.18it/s]"
     ]
    },
    {
     "name": "stdout",
     "output_type": "stream",
     "text": [
      "Epoch 9: train_acc_0.8812_train_loss_0.3332_val_acc_0.8809_val_loss_0.3390 epoch time 21.6856 seconds\n",
      "total time3.0 : 36.80575513839722\n"
     ]
    },
    {
     "name": "stderr",
     "output_type": "stream",
     "text": [
      "loss: 0.3078, accuracy: 0.8800: 100%|██████████| 1000/1000 [00:19<00:00, 50.15it/s]\n",
      "loss: 0.2085, accuracy: 0.9400: 100%|██████████| 158/158 [00:01<00:00, 101.06it/s]\n",
      "loss: 0.2438, accuracy: 0.8800:   1%|          | 10/1000 [00:00<00:18, 53.11it/s]"
     ]
    },
    {
     "name": "stdout",
     "output_type": "stream",
     "text": [
      "Epoch 10: train_acc_0.8836_train_loss_0.3247_val_acc_0.8835_val_loss_0.3350 epoch time 21.6367 seconds\n",
      "total time3.0 : 58.44249987602234\n"
     ]
    },
    {
     "name": "stderr",
     "output_type": "stream",
     "text": [
      "loss: 0.3673, accuracy: 0.8600: 100%|██████████| 1000/1000 [00:20<00:00, 49.97it/s]\n",
      "loss: 0.3671, accuracy: 0.8700: 100%|██████████| 158/158 [00:01<00:00, 99.22it/s] \n",
      "loss: 0.2711, accuracy: 0.9300:   1%|          | 10/1000 [00:00<00:18, 53.36it/s]"
     ]
    },
    {
     "name": "stdout",
     "output_type": "stream",
     "text": [
      "Epoch 11: train_acc_0.8859_train_loss_0.3167_val_acc_0.8773_val_loss_0.3439 epoch time 21.7414 seconds\n",
      "total time4.0 : 20.183857679367065\n"
     ]
    },
    {
     "name": "stderr",
     "output_type": "stream",
     "text": [
      "loss: 0.2632, accuracy: 0.9100: 100%|██████████| 1000/1000 [00:19<00:00, 50.16it/s]\n",
      "loss: 0.3240, accuracy: 0.8700: 100%|██████████| 158/158 [00:01<00:00, 99.95it/s] \n",
      "loss: 0.4641, accuracy: 0.8600:   1%|          | 10/1000 [00:00<00:18, 53.08it/s]"
     ]
    },
    {
     "name": "stdout",
     "output_type": "stream",
     "text": [
      "Epoch 12: train_acc_0.8883_train_loss_0.3095_val_acc_0.8849_val_loss_0.3284 epoch time 21.6540 seconds\n",
      "total time4.0 : 41.83787560462952\n"
     ]
    },
    {
     "name": "stderr",
     "output_type": "stream",
     "text": [
      "loss: 0.1527, accuracy: 0.9700: 100%|██████████| 1000/1000 [00:19<00:00, 50.71it/s]\n",
      "loss: 0.2062, accuracy: 0.9000: 100%|██████████| 158/158 [00:01<00:00, 100.57it/s]\n",
      "loss: 0.4203, accuracy: 0.8700:   1%|          | 10/1000 [00:00<00:18, 52.55it/s]"
     ]
    },
    {
     "name": "stdout",
     "output_type": "stream",
     "text": [
      "Epoch 13: train_acc_0.8901_train_loss_0.3039_val_acc_0.8792_val_loss_0.3440 epoch time 21.4264 seconds\n",
      "total time5.0 : 3.264249324798584\n"
     ]
    },
    {
     "name": "stderr",
     "output_type": "stream",
     "text": [
      "loss: 0.4152, accuracy: 0.8300: 100%|██████████| 1000/1000 [00:19<00:00, 50.29it/s]\n",
      "loss: 0.2503, accuracy: 0.9000: 100%|██████████| 158/158 [00:01<00:00, 103.70it/s]\n",
      "loss: 0.4852, accuracy: 0.8400:   1%|          | 10/1000 [00:00<00:18, 52.43it/s]"
     ]
    },
    {
     "name": "stdout",
     "output_type": "stream",
     "text": [
      "Epoch 14: train_acc_0.8911_train_loss_0.2975_val_acc_0.8833_val_loss_0.3354 epoch time 21.5446 seconds\n",
      "total time5.0 : 24.80881690979004\n"
     ]
    },
    {
     "name": "stderr",
     "output_type": "stream",
     "text": [
      "loss: 0.3051, accuracy: 0.8600: 100%|██████████| 1000/1000 [00:20<00:00, 49.82it/s]\n",
      "loss: 0.4930, accuracy: 0.8400: 100%|██████████| 158/158 [00:01<00:00, 100.00it/s]\n",
      "loss: 0.2788, accuracy: 0.9300:   1%|          | 10/1000 [00:00<00:18, 53.27it/s]"
     ]
    },
    {
     "name": "stdout",
     "output_type": "stream",
     "text": [
      "Epoch 15: train_acc_0.8931_train_loss_0.2931_val_acc_0.8847_val_loss_0.3284 epoch time 21.7890 seconds\n",
      "total time5.0 : 46.597809076309204\n"
     ]
    },
    {
     "name": "stderr",
     "output_type": "stream",
     "text": [
      "loss: 0.2816, accuracy: 0.8700: 100%|██████████| 1000/1000 [00:20<00:00, 49.82it/s]\n",
      "loss: 0.3498, accuracy: 0.8900: 100%|██████████| 158/158 [00:01<00:00, 100.17it/s]\n",
      "loss: 0.2246, accuracy: 0.9100:   1%|          | 9/1000 [00:00<00:18, 52.66it/s]"
     ]
    },
    {
     "name": "stdout",
     "output_type": "stream",
     "text": [
      "Epoch 16: train_acc_0.8944_train_loss_0.2879_val_acc_0.8834_val_loss_0.3323 epoch time 21.7834 seconds\n",
      "total time6.0 : 8.381231784820557\n"
     ]
    },
    {
     "name": "stderr",
     "output_type": "stream",
     "text": [
      "loss: 0.2689, accuracy: 0.8800: 100%|██████████| 1000/1000 [00:19<00:00, 50.83it/s]\n",
      "loss: 0.4833, accuracy: 0.8500: 100%|██████████| 158/158 [00:01<00:00, 98.39it/s]\n",
      "loss: 0.3115, accuracy: 0.9400:   1%|          | 10/1000 [00:00<00:18, 52.28it/s]"
     ]
    },
    {
     "name": "stdout",
     "output_type": "stream",
     "text": [
      "Epoch 17: train_acc_0.8963_train_loss_0.2814_val_acc_0.8829_val_loss_0.3399 epoch time 21.7418 seconds\n",
      "total time6.0 : 30.12299919128418\n"
     ]
    },
    {
     "name": "stderr",
     "output_type": "stream",
     "text": [
      "loss: 0.3341, accuracy: 0.8800: 100%|██████████| 1000/1000 [00:20<00:00, 49.97it/s]\n",
      "loss: 0.3668, accuracy: 0.8700: 100%|██████████| 158/158 [00:01<00:00, 101.32it/s]\n",
      "loss: 0.1946, accuracy: 0.9400:   1%|          | 10/1000 [00:00<00:18, 52.31it/s]"
     ]
    },
    {
     "name": "stdout",
     "output_type": "stream",
     "text": [
      "Epoch 18: train_acc_0.8972_train_loss_0.2784_val_acc_0.8865_val_loss_0.3288 epoch time 21.7101 seconds\n",
      "total time6.0 : 51.83307957649231\n"
     ]
    },
    {
     "name": "stderr",
     "output_type": "stream",
     "text": [
      "loss: 0.2717, accuracy: 0.9000: 100%|██████████| 1000/1000 [00:20<00:00, 49.95it/s]\n",
      "loss: 0.2813, accuracy: 0.8800: 100%|██████████| 158/158 [00:01<00:00, 99.70it/s] \n",
      "loss: 0.1324, accuracy: 0.9600:   1%|          | 9/1000 [00:00<00:19, 51.60it/s]"
     ]
    },
    {
     "name": "stdout",
     "output_type": "stream",
     "text": [
      "Epoch 19: train_acc_0.9000_train_loss_0.2728_val_acc_0.8863_val_loss_0.3306 epoch time 21.7416 seconds\n",
      "total time7.0 : 13.574649810791016\n"
     ]
    },
    {
     "name": "stderr",
     "output_type": "stream",
     "text": [
      "loss: 0.3881, accuracy: 0.9200: 100%|██████████| 1000/1000 [00:19<00:00, 50.01it/s]\n",
      "loss: 0.3364, accuracy: 0.9200: 100%|██████████| 158/158 [00:01<00:00, 98.66it/s] \n",
      "loss: 0.1637, accuracy: 0.9300:   1%|          | 10/1000 [00:00<00:18, 53.48it/s]"
     ]
    },
    {
     "name": "stdout",
     "output_type": "stream",
     "text": [
      "Epoch 20: train_acc_0.8996_train_loss_0.2692_val_acc_0.8795_val_loss_0.3349 epoch time 21.7354 seconds\n",
      "total time7.0 : 35.31004452705383\n"
     ]
    },
    {
     "name": "stderr",
     "output_type": "stream",
     "text": [
      "loss: 0.5130, accuracy: 0.8400: 100%|██████████| 1000/1000 [00:20<00:00, 49.95it/s]\n",
      "loss: 0.7239, accuracy: 0.8500: 100%|██████████| 158/158 [00:01<00:00, 96.49it/s]\n",
      "loss: 0.2442, accuracy: 0.9000:   1%|          | 9/1000 [00:00<00:18, 52.37it/s]"
     ]
    },
    {
     "name": "stdout",
     "output_type": "stream",
     "text": [
      "Epoch 21: train_acc_0.9014_train_loss_0.2649_val_acc_0.8815_val_loss_0.3454 epoch time 21.7918 seconds\n",
      "total time7.0 : 57.10185122489929\n"
     ]
    },
    {
     "name": "stderr",
     "output_type": "stream",
     "text": [
      "loss: 0.2139, accuracy: 0.9300: 100%|██████████| 1000/1000 [00:19<00:00, 51.09it/s]\n",
      "loss: 0.2858, accuracy: 0.8600: 100%|██████████| 158/158 [00:01<00:00, 99.90it/s] \n",
      "loss: 0.1317, accuracy: 0.9700:   1%|          | 9/1000 [00:00<00:19, 51.45it/s]"
     ]
    },
    {
     "name": "stdout",
     "output_type": "stream",
     "text": [
      "Epoch 22: train_acc_0.9028_train_loss_0.2612_val_acc_0.8862_val_loss_0.3315 epoch time 21.7489 seconds\n",
      "total time8.0 : 18.850760221481323\n"
     ]
    },
    {
     "name": "stderr",
     "output_type": "stream",
     "text": [
      "loss: 0.1488, accuracy: 0.9400: 100%|██████████| 1000/1000 [00:20<00:00, 49.79it/s]\n",
      "loss: 0.3210, accuracy: 0.8900: 100%|██████████| 158/158 [00:01<00:00, 100.64it/s]\n",
      "loss: 0.2890, accuracy: 0.8700:   1%|          | 10/1000 [00:00<00:18, 53.17it/s]"
     ]
    },
    {
     "name": "stdout",
     "output_type": "stream",
     "text": [
      "Epoch 23: train_acc_0.9039_train_loss_0.2561_val_acc_0.8851_val_loss_0.3392 epoch time 21.7922 seconds\n",
      "total time8.0 : 40.64297032356262\n"
     ]
    },
    {
     "name": "stderr",
     "output_type": "stream",
     "text": [
      "loss: 0.3022, accuracy: 0.8700: 100%|██████████| 1000/1000 [00:20<00:00, 49.93it/s]\n",
      "loss: 0.3335, accuracy: 0.9100: 100%|██████████| 158/158 [00:01<00:00, 100.42it/s]\n",
      "loss: 0.2123, accuracy: 0.9200:   1%|          | 10/1000 [00:00<00:18, 52.92it/s]"
     ]
    },
    {
     "name": "stdout",
     "output_type": "stream",
     "text": [
      "Epoch 24: train_acc_0.9051_train_loss_0.2544_val_acc_0.8792_val_loss_0.3422 epoch time 21.7381 seconds\n",
      "total time9.0 : 2.381096839904785\n"
     ]
    },
    {
     "name": "stderr",
     "output_type": "stream",
     "text": [
      "loss: 0.2856, accuracy: 0.8400: 100%|██████████| 1000/1000 [00:19<00:00, 50.41it/s]\n",
      "loss: 0.3495, accuracy: 0.9100: 100%|██████████| 158/158 [00:01<00:00, 99.80it/s] \n",
      "loss: 0.3657, accuracy: 0.8700:   1%|          | 9/1000 [00:00<00:19, 52.08it/s]"
     ]
    },
    {
     "name": "stdout",
     "output_type": "stream",
     "text": [
      "Epoch 25: train_acc_0.9062_train_loss_0.2510_val_acc_0.8818_val_loss_0.3370 epoch time 21.7771 seconds\n",
      "total time9.0 : 24.158165454864502\n"
     ]
    },
    {
     "name": "stderr",
     "output_type": "stream",
     "text": [
      "loss: 0.2153, accuracy: 0.9000: 100%|██████████| 1000/1000 [00:19<00:00, 50.46it/s]\n",
      "loss: 0.2747, accuracy: 0.8900: 100%|██████████| 158/158 [00:01<00:00, 101.05it/s]\n",
      "loss: 0.2848, accuracy: 0.8700:   1%|          | 10/1000 [00:00<00:18, 52.64it/s]"
     ]
    },
    {
     "name": "stdout",
     "output_type": "stream",
     "text": [
      "Epoch 26: train_acc_0.9066_train_loss_0.2475_val_acc_0.8778_val_loss_0.3487 epoch time 21.7373 seconds\n",
      "total time9.0 : 45.89543557167053\n"
     ]
    },
    {
     "name": "stderr",
     "output_type": "stream",
     "text": [
      "loss: 0.1772, accuracy: 0.9200: 100%|██████████| 1000/1000 [00:19<00:00, 50.79it/s]\n",
      "loss: 0.2139, accuracy: 0.9400: 100%|██████████| 158/158 [00:01<00:00, 101.39it/s]\n",
      "loss: 0.2559, accuracy: 0.8800:   1%|          | 10/1000 [00:00<00:18, 53.54it/s]"
     ]
    },
    {
     "name": "stdout",
     "output_type": "stream",
     "text": [
      "Epoch 27: train_acc_0.9074_train_loss_0.2439_val_acc_0.8832_val_loss_0.3423 epoch time 21.3788 seconds\n",
      "total time10.0 : 7.274285078048706\n"
     ]
    },
    {
     "name": "stderr",
     "output_type": "stream",
     "text": [
      "loss: 0.1998, accuracy: 0.9100: 100%|██████████| 1000/1000 [00:19<00:00, 50.27it/s]\n",
      "loss: 0.4666, accuracy: 0.8200: 100%|██████████| 158/158 [00:01<00:00, 105.55it/s]\n",
      "loss: 0.2213, accuracy: 0.9400:   1%|          | 10/1000 [00:00<00:17, 55.32it/s]"
     ]
    },
    {
     "name": "stdout",
     "output_type": "stream",
     "text": [
      "Epoch 28: train_acc_0.9086_train_loss_0.2410_val_acc_0.8813_val_loss_0.3411 epoch time 21.5221 seconds\n",
      "total time10.0 : 28.796411275863647\n"
     ]
    },
    {
     "name": "stderr",
     "output_type": "stream",
     "text": [
      "loss: 0.2094, accuracy: 0.9100: 100%|██████████| 1000/1000 [00:19<00:00, 51.73it/s]\n",
      "loss: 0.2996, accuracy: 0.8600: 100%|██████████| 158/158 [00:01<00:00, 99.24it/s] \n",
      "loss: 0.2799, accuracy: 0.9200:   1%|          | 9/1000 [00:00<00:19, 51.94it/s]"
     ]
    },
    {
     "name": "stdout",
     "output_type": "stream",
     "text": [
      "Epoch 29: train_acc_0.9083_train_loss_0.2397_val_acc_0.8809_val_loss_0.3494 epoch time 21.6466 seconds\n",
      "total time10.0 : 50.44305396080017\n"
     ]
    },
    {
     "name": "stderr",
     "output_type": "stream",
     "text": [
      "loss: 0.2215, accuracy: 0.9300: 100%|██████████| 1000/1000 [00:19<00:00, 50.06it/s]\n",
      "loss: 0.3290, accuracy: 0.8600: 100%|██████████| 158/158 [00:01<00:00, 100.91it/s]\n",
      "loss: 0.1746, accuracy: 0.9500:   1%|          | 10/1000 [00:00<00:18, 53.04it/s]"
     ]
    },
    {
     "name": "stdout",
     "output_type": "stream",
     "text": [
      "Epoch 30: train_acc_0.9110_train_loss_0.2341_val_acc_0.8834_val_loss_0.3411 epoch time 21.6794 seconds\n",
      "total time11.0 : 12.122443914413452\n"
     ]
    },
    {
     "name": "stderr",
     "output_type": "stream",
     "text": [
      "loss: 0.2643, accuracy: 0.9000: 100%|██████████| 1000/1000 [00:19<00:00, 50.59it/s]\n",
      "loss: 0.2888, accuracy: 0.9000: 100%|██████████| 158/158 [00:01<00:00, 101.27it/s]\n",
      "loss: 0.2151, accuracy: 0.9200:   1%|          | 10/1000 [00:00<00:18, 52.33it/s]"
     ]
    },
    {
     "name": "stdout",
     "output_type": "stream",
     "text": [
      "Epoch 31: train_acc_0.9112_train_loss_0.2333_val_acc_0.8740_val_loss_0.3616 epoch time 21.6911 seconds\n",
      "total time11.0 : 33.81350541114807\n"
     ]
    },
    {
     "name": "stderr",
     "output_type": "stream",
     "text": [
      "loss: 0.2094, accuracy: 0.9100: 100%|██████████| 1000/1000 [00:20<00:00, 49.99it/s]\n",
      "loss: 0.3900, accuracy: 0.8900: 100%|██████████| 158/158 [00:01<00:00, 99.96it/s] \n",
      "loss: 0.1312, accuracy: 0.9500:   1%|          | 10/1000 [00:00<00:18, 53.85it/s]"
     ]
    },
    {
     "name": "stdout",
     "output_type": "stream",
     "text": [
      "Epoch 32: train_acc_0.9122_train_loss_0.2290_val_acc_0.8825_val_loss_0.3409 epoch time 21.7240 seconds\n",
      "total time11.0 : 55.537476778030396\n"
     ]
    },
    {
     "name": "stderr",
     "output_type": "stream",
     "text": [
      "loss: 0.3838, accuracy: 0.8300: 100%|██████████| 1000/1000 [00:19<00:00, 50.04it/s]\n",
      "loss: 0.4335, accuracy: 0.8600: 100%|██████████| 158/158 [00:01<00:00, 100.00it/s]\n",
      "loss: 0.1857, accuracy: 0.9100:   1%|          | 9/1000 [00:00<00:18, 52.42it/s]"
     ]
    },
    {
     "name": "stdout",
     "output_type": "stream",
     "text": [
      "Epoch 33: train_acc_0.9133_train_loss_0.2270_val_acc_0.8797_val_loss_0.3523 epoch time 21.7009 seconds\n",
      "total time12.0 : 17.23836588859558\n"
     ]
    },
    {
     "name": "stderr",
     "output_type": "stream",
     "text": [
      "loss: 0.2142, accuracy: 0.8900: 100%|██████████| 1000/1000 [00:19<00:00, 50.11it/s]\n",
      "loss: 0.3073, accuracy: 0.8900: 100%|██████████| 158/158 [00:01<00:00, 100.64it/s]\n",
      "loss: 0.1571, accuracy: 0.9500:   1%|          | 10/1000 [00:00<00:18, 53.52it/s]"
     ]
    },
    {
     "name": "stdout",
     "output_type": "stream",
     "text": [
      "Epoch 34: train_acc_0.9136_train_loss_0.2255_val_acc_0.8801_val_loss_0.3565 epoch time 21.6631 seconds\n",
      "total time12.0 : 38.901443004608154\n"
     ]
    },
    {
     "name": "stderr",
     "output_type": "stream",
     "text": [
      "loss: 0.1983, accuracy: 0.9500: 100%|██████████| 1000/1000 [00:19<00:00, 50.92it/s]\n",
      "loss: 0.2094, accuracy: 0.9000: 100%|██████████| 158/158 [00:01<00:00, 99.92it/s] \n",
      "loss: 0.2207, accuracy: 0.9200:   1%|          | 10/1000 [00:00<00:18, 52.81it/s]"
     ]
    },
    {
     "name": "stdout",
     "output_type": "stream",
     "text": [
      "Epoch 35: train_acc_0.9146_train_loss_0.2222_val_acc_0.8815_val_loss_0.3559 epoch time 21.6740 seconds\n",
      "total time13.0 : 0.5754146575927734\n"
     ]
    },
    {
     "name": "stderr",
     "output_type": "stream",
     "text": [
      "loss: 0.2873, accuracy: 0.9100: 100%|██████████| 1000/1000 [00:20<00:00, 49.99it/s]\n",
      "loss: 0.4237, accuracy: 0.8600: 100%|██████████| 158/158 [00:01<00:00, 99.65it/s] \n",
      "loss: 0.2073, accuracy: 0.9200:   1%|          | 10/1000 [00:00<00:18, 52.61it/s]"
     ]
    },
    {
     "name": "stdout",
     "output_type": "stream",
     "text": [
      "Epoch 36: train_acc_0.9153_train_loss_0.2193_val_acc_0.8820_val_loss_0.3576 epoch time 21.7266 seconds\n",
      "total time13.0 : 22.302011966705322\n"
     ]
    },
    {
     "name": "stderr",
     "output_type": "stream",
     "text": [
      "loss: 0.3432, accuracy: 0.8900: 100%|██████████| 1000/1000 [00:19<00:00, 50.82it/s]\n",
      "loss: 0.4597, accuracy: 0.8900: 100%|██████████| 158/158 [00:01<00:00, 100.37it/s]\n",
      "loss: 0.1734, accuracy: 0.9100:   1%|          | 9/1000 [00:00<00:19, 51.39it/s]"
     ]
    },
    {
     "name": "stdout",
     "output_type": "stream",
     "text": [
      "Epoch 37: train_acc_0.9164_train_loss_0.2176_val_acc_0.8774_val_loss_0.3688 epoch time 21.6761 seconds\n",
      "total time13.0 : 43.97812366485596\n"
     ]
    },
    {
     "name": "stderr",
     "output_type": "stream",
     "text": [
      "loss: 0.2299, accuracy: 0.8900: 100%|██████████| 1000/1000 [00:19<00:00, 50.62it/s]\n",
      "loss: 0.4092, accuracy: 0.8700: 100%|██████████| 158/158 [00:01<00:00, 99.70it/s] \n",
      "loss: 0.1328, accuracy: 0.9700:   1%|          | 9/1000 [00:00<00:18, 52.98it/s]"
     ]
    },
    {
     "name": "stdout",
     "output_type": "stream",
     "text": [
      "Epoch 38: train_acc_0.9170_train_loss_0.2151_val_acc_0.8825_val_loss_0.3550 epoch time 21.7318 seconds\n",
      "total time14.0 : 5.709883451461792\n"
     ]
    },
    {
     "name": "stderr",
     "output_type": "stream",
     "text": [
      "loss: 0.2102, accuracy: 0.9000: 100%|██████████| 1000/1000 [00:20<00:00, 49.63it/s]\n",
      "loss: 0.4462, accuracy: 0.8600: 100%|██████████| 158/158 [00:01<00:00, 101.27it/s]\n",
      "loss: 0.2487, accuracy: 0.9100:   1%|          | 9/1000 [00:00<00:18, 52.76it/s]"
     ]
    },
    {
     "name": "stdout",
     "output_type": "stream",
     "text": [
      "Epoch 39: train_acc_0.9179_train_loss_0.2126_val_acc_0.8773_val_loss_0.3660 epoch time 21.8457 seconds\n",
      "total time14.0 : 27.555586099624634\n"
     ]
    },
    {
     "name": "stderr",
     "output_type": "stream",
     "text": [
      "loss: 0.3265, accuracy: 0.8800: 100%|██████████| 1000/1000 [00:20<00:00, 49.57it/s]\n",
      "loss: 0.4987, accuracy: 0.8300: 100%|██████████| 158/158 [00:01<00:00, 99.34it/s]\n",
      "loss: 0.2437, accuracy: 0.9200:   1%|          | 10/1000 [00:00<00:18, 52.98it/s]"
     ]
    },
    {
     "name": "stdout",
     "output_type": "stream",
     "text": [
      "Epoch 40: train_acc_0.9176_train_loss_0.2113_val_acc_0.8822_val_loss_0.3659 epoch time 21.9023 seconds\n",
      "total time14.0 : 49.45789885520935\n"
     ]
    },
    {
     "name": "stderr",
     "output_type": "stream",
     "text": [
      "loss: 0.1747, accuracy: 0.9400: 100%|██████████| 1000/1000 [00:19<00:00, 52.34it/s]\n",
      "loss: 0.3237, accuracy: 0.8800: 100%|██████████| 158/158 [00:01<00:00, 103.79it/s]\n",
      "loss: 0.1571, accuracy: 0.9500:   1%|          | 10/1000 [00:00<00:18, 53.82it/s]"
     ]
    },
    {
     "name": "stdout",
     "output_type": "stream",
     "text": [
      "Epoch 41: train_acc_0.9190_train_loss_0.2087_val_acc_0.8765_val_loss_0.3736 epoch time 21.5785 seconds\n",
      "total time15.0 : 11.036429405212402\n"
     ]
    },
    {
     "name": "stderr",
     "output_type": "stream",
     "text": [
      "loss: 0.1782, accuracy: 0.9500: 100%|██████████| 1000/1000 [00:19<00:00, 51.98it/s]\n",
      "loss: 0.4779, accuracy: 0.8900: 100%|██████████| 158/158 [00:01<00:00, 103.18it/s]\n",
      "loss: 0.1220, accuracy: 0.9500:   1%|          | 10/1000 [00:00<00:18, 53.39it/s]"
     ]
    },
    {
     "name": "stdout",
     "output_type": "stream",
     "text": [
      "Epoch 42: train_acc_0.9204_train_loss_0.2055_val_acc_0.8780_val_loss_0.3676 epoch time 21.5767 seconds\n",
      "total time15.0 : 32.61311650276184\n"
     ]
    },
    {
     "name": "stderr",
     "output_type": "stream",
     "text": [
      "loss: 0.1933, accuracy: 0.9200: 100%|██████████| 1000/1000 [00:19<00:00, 50.16it/s]\n",
      "loss: 0.2836, accuracy: 0.9100: 100%|██████████| 158/158 [00:01<00:00, 100.07it/s]\n",
      "loss: 0.1486, accuracy: 0.9500:   1%|          | 10/1000 [00:00<00:18, 54.74it/s]"
     ]
    },
    {
     "name": "stdout",
     "output_type": "stream",
     "text": [
      "Epoch 43: train_acc_0.9204_train_loss_0.2042_val_acc_0.8773_val_loss_0.3738 epoch time 21.6473 seconds\n",
      "total time15.0 : 54.26041054725647\n"
     ]
    },
    {
     "name": "stderr",
     "output_type": "stream",
     "text": [
      "loss: 0.1707, accuracy: 0.9200: 100%|██████████| 1000/1000 [00:20<00:00, 49.96it/s]\n",
      "loss: 0.5841, accuracy: 0.8400: 100%|██████████| 158/158 [00:01<00:00, 100.47it/s]\n",
      "loss: 0.1944, accuracy: 0.9100:   1%|          | 10/1000 [00:00<00:18, 53.06it/s]"
     ]
    },
    {
     "name": "stdout",
     "output_type": "stream",
     "text": [
      "Epoch 44: train_acc_0.9215_train_loss_0.2016_val_acc_0.8793_val_loss_0.3823 epoch time 21.7234 seconds\n",
      "total time16.0 : 15.983821868896484\n"
     ]
    },
    {
     "name": "stderr",
     "output_type": "stream",
     "text": [
      "loss: 0.1900, accuracy: 0.9000: 100%|██████████| 1000/1000 [00:19<00:00, 50.02it/s]\n",
      "loss: 0.3754, accuracy: 0.8900: 100%|██████████| 158/158 [00:01<00:00, 98.80it/s] \n",
      "loss: 0.1609, accuracy: 0.9100:   1%|          | 10/1000 [00:00<00:18, 53.50it/s]"
     ]
    },
    {
     "name": "stdout",
     "output_type": "stream",
     "text": [
      "Epoch 45: train_acc_0.9222_train_loss_0.1990_val_acc_0.8777_val_loss_0.3832 epoch time 21.7345 seconds\n",
      "total time16.0 : 37.71833848953247\n"
     ]
    },
    {
     "name": "stderr",
     "output_type": "stream",
     "text": [
      "loss: 0.1558, accuracy: 0.9200: 100%|██████████| 1000/1000 [00:20<00:00, 49.98it/s]\n",
      "loss: 0.5516, accuracy: 0.8200: 100%|██████████| 158/158 [00:01<00:00, 97.61it/s] \n",
      "loss: 0.1828, accuracy: 0.9100:   1%|          | 9/1000 [00:00<00:18, 52.86it/s]"
     ]
    },
    {
     "name": "stdout",
     "output_type": "stream",
     "text": [
      "Epoch 46: train_acc_0.9226_train_loss_0.1978_val_acc_0.8788_val_loss_0.3760 epoch time 21.7644 seconds\n",
      "total time16.0 : 59.48277306556702\n"
     ]
    },
    {
     "name": "stderr",
     "output_type": "stream",
     "text": [
      "loss: 0.2459, accuracy: 0.9000: 100%|██████████| 1000/1000 [00:20<00:00, 49.92it/s]\n",
      "loss: 0.5703, accuracy: 0.8900: 100%|██████████| 158/158 [00:01<00:00, 100.77it/s]\n",
      "loss: 0.1519, accuracy: 0.9400:   1%|          | 9/1000 [00:00<00:19, 51.25it/s]"
     ]
    },
    {
     "name": "stdout",
     "output_type": "stream",
     "text": [
      "Epoch 47: train_acc_0.9233_train_loss_0.1955_val_acc_0.8791_val_loss_0.3810 epoch time 21.7360 seconds\n",
      "total time17.0 : 21.218735694885254\n"
     ]
    },
    {
     "name": "stderr",
     "output_type": "stream",
     "text": [
      "loss: 0.1416, accuracy: 0.9500: 100%|██████████| 1000/1000 [00:19<00:00, 50.22it/s]\n",
      "loss: 0.3554, accuracy: 0.8600: 100%|██████████| 158/158 [00:01<00:00, 101.35it/s]\n",
      "loss: 0.2509, accuracy: 0.8600:   1%|          | 10/1000 [00:00<00:18, 52.93it/s]"
     ]
    },
    {
     "name": "stdout",
     "output_type": "stream",
     "text": [
      "Epoch 48: train_acc_0.9242_train_loss_0.1922_val_acc_0.8773_val_loss_0.3818 epoch time 21.7317 seconds\n",
      "total time17.0 : 42.95048117637634\n"
     ]
    },
    {
     "name": "stderr",
     "output_type": "stream",
     "text": [
      "loss: 0.2117, accuracy: 0.8900: 100%|██████████| 1000/1000 [00:19<00:00, 50.73it/s]\n",
      "loss: 0.4948, accuracy: 0.8800: 100%|██████████| 158/158 [00:01<00:00, 100.47it/s]\n",
      "loss: 0.1608, accuracy: 0.9500:   1%|          | 9/1000 [00:00<00:19, 50.96it/s]"
     ]
    },
    {
     "name": "stdout",
     "output_type": "stream",
     "text": [
      "Epoch 49: train_acc_0.9245_train_loss_0.1921_val_acc_0.8751_val_loss_0.4018 epoch time 21.7415 seconds\n",
      "total time18.0 : 4.691945552825928\n"
     ]
    },
    {
     "name": "stderr",
     "output_type": "stream",
     "text": [
      "loss: 0.2210, accuracy: 0.9300: 100%|██████████| 1000/1000 [00:19<00:00, 50.07it/s]\n",
      "loss: 0.5819, accuracy: 0.8800: 100%|██████████| 158/158 [00:01<00:00, 99.69it/s] \n",
      "loss: 0.1203, accuracy: 0.9500:   1%|          | 10/1000 [00:00<00:18, 52.61it/s]"
     ]
    },
    {
     "name": "stdout",
     "output_type": "stream",
     "text": [
      "Epoch 50: train_acc_0.9247_train_loss_0.1904_val_acc_0.8741_val_loss_0.3908 epoch time 21.6970 seconds\n",
      "total time18.0 : 26.388975858688354\n"
     ]
    },
    {
     "name": "stderr",
     "output_type": "stream",
     "text": [
      "loss: 0.3426, accuracy: 0.8900: 100%|██████████| 1000/1000 [00:20<00:00, 49.93it/s]\n",
      "loss: 0.3315, accuracy: 0.8600: 100%|██████████| 158/158 [00:01<00:00, 103.65it/s]\n",
      "loss: 0.1719, accuracy: 0.9000:   1%|          | 10/1000 [00:00<00:18, 53.75it/s]"
     ]
    },
    {
     "name": "stdout",
     "output_type": "stream",
     "text": [
      "Epoch 51: train_acc_0.9258_train_loss_0.1879_val_acc_0.8759_val_loss_0.4018 epoch time 21.6891 seconds\n",
      "total time18.0 : 48.07808756828308\n"
     ]
    },
    {
     "name": "stderr",
     "output_type": "stream",
     "text": [
      "loss: 0.1947, accuracy: 0.9000: 100%|██████████| 1000/1000 [00:20<00:00, 49.95it/s]\n",
      "loss: 0.4045, accuracy: 0.8600: 100%|██████████| 158/158 [00:01<00:00, 98.22it/s] \n",
      "loss: 0.1141, accuracy: 0.9700:   1%|          | 9/1000 [00:00<00:18, 52.42it/s]"
     ]
    },
    {
     "name": "stdout",
     "output_type": "stream",
     "text": [
      "Epoch 52: train_acc_0.9267_train_loss_0.1847_val_acc_0.8728_val_loss_0.4051 epoch time 21.7643 seconds\n",
      "total time19.0 : 9.84243106842041\n"
     ]
    },
    {
     "name": "stderr",
     "output_type": "stream",
     "text": [
      "loss: 0.1611, accuracy: 0.9200: 100%|██████████| 1000/1000 [00:20<00:00, 49.94it/s]\n",
      "loss: 0.3579, accuracy: 0.8800: 100%|██████████| 158/158 [00:01<00:00, 98.21it/s] \n",
      "loss: 0.1545, accuracy: 0.9200:   1%|          | 10/1000 [00:00<00:18, 52.69it/s]"
     ]
    },
    {
     "name": "stdout",
     "output_type": "stream",
     "text": [
      "Epoch 53: train_acc_0.9266_train_loss_0.1851_val_acc_0.8730_val_loss_0.4023 epoch time 21.7693 seconds\n",
      "total time19.0 : 31.611737966537476\n"
     ]
    },
    {
     "name": "stderr",
     "output_type": "stream",
     "text": [
      "loss: 0.1613, accuracy: 0.9300: 100%|██████████| 1000/1000 [00:19<00:00, 50.68it/s]\n",
      "loss: 0.5462, accuracy: 0.8800: 100%|██████████| 158/158 [00:01<00:00, 99.15it/s] \n",
      "loss: 0.2017, accuracy: 0.9200:   1%|          | 9/1000 [00:00<00:19, 51.88it/s]"
     ]
    },
    {
     "name": "stdout",
     "output_type": "stream",
     "text": [
      "Epoch 54: train_acc_0.9275_train_loss_0.1826_val_acc_0.8751_val_loss_0.4039 epoch time 21.7591 seconds\n",
      "total time19.0 : 53.37085270881653\n"
     ]
    },
    {
     "name": "stderr",
     "output_type": "stream",
     "text": [
      "loss: 0.1901, accuracy: 0.9000: 100%|██████████| 1000/1000 [00:19<00:00, 50.02it/s]\n",
      "loss: 0.2502, accuracy: 0.8900: 100%|██████████| 158/158 [00:01<00:00, 98.75it/s] \n",
      "loss: 0.1842, accuracy: 0.9200:   1%|          | 10/1000 [00:00<00:18, 52.87it/s]"
     ]
    },
    {
     "name": "stdout",
     "output_type": "stream",
     "text": [
      "Epoch 55: train_acc_0.9274_train_loss_0.1802_val_acc_0.8749_val_loss_0.4062 epoch time 21.7312 seconds\n",
      "total time20.0 : 15.10202670097351\n"
     ]
    },
    {
     "name": "stderr",
     "output_type": "stream",
     "text": [
      "loss: 0.1884, accuracy: 0.9200: 100%|██████████| 1000/1000 [00:19<00:00, 50.81it/s]\n",
      "loss: 0.5433, accuracy: 0.8500: 100%|██████████| 158/158 [00:01<00:00, 102.28it/s]\n",
      "loss: 0.1614, accuracy: 0.9500:   1%|          | 10/1000 [00:00<00:18, 53.63it/s]"
     ]
    },
    {
     "name": "stdout",
     "output_type": "stream",
     "text": [
      "Epoch 56: train_acc_0.9290_train_loss_0.1791_val_acc_0.8755_val_loss_0.4097 epoch time 21.3596 seconds\n",
      "total time20.0 : 36.46164917945862\n"
     ]
    },
    {
     "name": "stderr",
     "output_type": "stream",
     "text": [
      "loss: 0.1622, accuracy: 0.9200: 100%|██████████| 1000/1000 [00:19<00:00, 50.13it/s]\n",
      "loss: 0.3680, accuracy: 0.8500: 100%|██████████| 158/158 [00:01<00:00, 98.97it/s] \n",
      "loss: 0.2032, accuracy: 0.9300:   1%|          | 9/1000 [00:00<00:18, 53.35it/s]"
     ]
    },
    {
     "name": "stdout",
     "output_type": "stream",
     "text": [
      "Epoch 57: train_acc_0.9289_train_loss_0.1772_val_acc_0.8735_val_loss_0.4163 epoch time 21.6851 seconds\n",
      "total time20.0 : 58.14673447608948\n"
     ]
    },
    {
     "name": "stderr",
     "output_type": "stream",
     "text": [
      "loss: 0.1169, accuracy: 0.9700: 100%|██████████| 1000/1000 [00:20<00:00, 49.94it/s]\n",
      "loss: 0.2605, accuracy: 0.9100: 100%|██████████| 158/158 [00:01<00:00, 100.67it/s]\n",
      "loss: 0.3569, accuracy: 0.8500:   1%|          | 10/1000 [00:00<00:18, 54.11it/s]"
     ]
    },
    {
     "name": "stdout",
     "output_type": "stream",
     "text": [
      "Epoch 58: train_acc_0.9297_train_loss_0.1764_val_acc_0.8777_val_loss_0.4073 epoch time 21.7288 seconds\n",
      "total time21.0 : 19.875532865524292\n"
     ]
    },
    {
     "name": "stderr",
     "output_type": "stream",
     "text": [
      "loss: 0.1926, accuracy: 0.9200: 100%|██████████| 1000/1000 [00:19<00:00, 50.08it/s]\n",
      "loss: 0.3578, accuracy: 0.8600: 100%|██████████| 158/158 [00:01<00:00, 100.22it/s]\n",
      "loss: 0.1882, accuracy: 0.9700:   1%|          | 10/1000 [00:00<00:18, 52.80it/s]"
     ]
    },
    {
     "name": "stdout",
     "output_type": "stream",
     "text": [
      "Epoch 59: train_acc_0.9313_train_loss_0.1736_val_acc_0.8736_val_loss_0.4175 epoch time 21.6831 seconds\n",
      "total time21.0 : 41.55863356590271\n"
     ]
    },
    {
     "name": "stderr",
     "output_type": "stream",
     "text": [
      "loss: 0.2115, accuracy: 0.9000: 100%|██████████| 1000/1000 [00:20<00:00, 49.87it/s]\n",
      "loss: 0.4032, accuracy: 0.8800: 100%|██████████| 158/158 [00:01<00:00, 100.11it/s]\n",
      "loss: 0.1698, accuracy: 0.9400:   1%|          | 9/1000 [00:00<00:18, 52.24it/s]"
     ]
    },
    {
     "name": "stdout",
     "output_type": "stream",
     "text": [
      "Epoch 60: train_acc_0.9308_train_loss_0.1728_val_acc_0.8659_val_loss_0.4531 epoch time 21.7676 seconds\n",
      "total time22.0 : 3.3261873722076416\n"
     ]
    },
    {
     "name": "stderr",
     "output_type": "stream",
     "text": [
      "loss: 0.1954, accuracy: 0.9200: 100%|██████████| 1000/1000 [00:20<00:00, 49.99it/s]\n",
      "loss: 0.3369, accuracy: 0.8900: 100%|██████████| 158/158 [00:01<00:00, 100.73it/s]\n",
      "loss: 0.1030, accuracy: 0.9500:   1%|          | 10/1000 [00:00<00:18, 54.16it/s]"
     ]
    },
    {
     "name": "stdout",
     "output_type": "stream",
     "text": [
      "Epoch 61: train_acc_0.9313_train_loss_0.1713_val_acc_0.8698_val_loss_0.4258 epoch time 21.7120 seconds\n",
      "total time22.0 : 25.03820776939392\n"
     ]
    },
    {
     "name": "stderr",
     "output_type": "stream",
     "text": [
      "loss: 0.1640, accuracy: 0.9100: 100%|██████████| 1000/1000 [00:19<00:00, 50.02it/s]\n",
      "loss: 0.1784, accuracy: 0.9200: 100%|██████████| 158/158 [00:01<00:00, 98.69it/s] \n",
      "loss: 0.1471, accuracy: 0.9400:   1%|          | 10/1000 [00:00<00:18, 52.65it/s]"
     ]
    },
    {
     "name": "stdout",
     "output_type": "stream",
     "text": [
      "Epoch 62: train_acc_0.9314_train_loss_0.1707_val_acc_0.8706_val_loss_0.4304 epoch time 21.7340 seconds\n",
      "total time22.0 : 46.77217149734497\n"
     ]
    },
    {
     "name": "stderr",
     "output_type": "stream",
     "text": [
      "loss: 0.0971, accuracy: 0.9600: 100%|██████████| 1000/1000 [00:19<00:00, 50.96it/s]\n",
      "loss: 0.3616, accuracy: 0.8900: 100%|██████████| 158/158 [00:01<00:00, 100.14it/s]\n",
      "loss: 0.1778, accuracy: 0.9200:   1%|          | 10/1000 [00:00<00:18, 53.84it/s]"
     ]
    },
    {
     "name": "stdout",
     "output_type": "stream",
     "text": [
      "Epoch 63: train_acc_0.9332_train_loss_0.1683_val_acc_0.8716_val_loss_0.4456 epoch time 21.7252 seconds\n",
      "total time23.0 : 8.497332572937012\n"
     ]
    },
    {
     "name": "stderr",
     "output_type": "stream",
     "text": [
      "loss: 0.1308, accuracy: 0.9400: 100%|██████████| 1000/1000 [00:20<00:00, 49.99it/s]\n",
      "loss: 0.3042, accuracy: 0.8900: 100%|██████████| 158/158 [00:01<00:00, 100.41it/s]\n",
      "loss: 0.1811, accuracy: 0.9300:   1%|          | 10/1000 [00:00<00:18, 52.80it/s]"
     ]
    },
    {
     "name": "stdout",
     "output_type": "stream",
     "text": [
      "Epoch 64: train_acc_0.9326_train_loss_0.1678_val_acc_0.8725_val_loss_0.4404 epoch time 21.7111 seconds\n",
      "total time23.0 : 30.20845341682434\n"
     ]
    },
    {
     "name": "stderr",
     "output_type": "stream",
     "text": [
      "loss: 0.1215, accuracy: 0.9600: 100%|██████████| 1000/1000 [00:20<00:00, 49.91it/s]\n",
      "loss: 0.1869, accuracy: 0.9400: 100%|██████████| 158/158 [00:01<00:00, 98.94it/s] \n",
      "loss: 0.1589, accuracy: 0.9400:   1%|          | 10/1000 [00:00<00:18, 52.24it/s]"
     ]
    },
    {
     "name": "stdout",
     "output_type": "stream",
     "text": [
      "Epoch 65: train_acc_0.9346_train_loss_0.1649_val_acc_0.8716_val_loss_0.4390 epoch time 21.7690 seconds\n",
      "total time23.0 : 51.97740626335144\n"
     ]
    },
    {
     "name": "stderr",
     "output_type": "stream",
     "text": [
      "loss: 0.1859, accuracy: 0.8900: 100%|██████████| 1000/1000 [00:20<00:00, 49.96it/s]\n",
      "loss: 0.3454, accuracy: 0.8500: 100%|██████████| 158/158 [00:01<00:00, 100.57it/s]\n",
      "loss: 0.1324, accuracy: 0.9300:   1%|          | 9/1000 [00:00<00:18, 52.49it/s]"
     ]
    },
    {
     "name": "stdout",
     "output_type": "stream",
     "text": [
      "Epoch 66: train_acc_0.9338_train_loss_0.1636_val_acc_0.8747_val_loss_0.4430 epoch time 21.7284 seconds\n",
      "total time24.0 : 13.705832242965698\n"
     ]
    },
    {
     "name": "stderr",
     "output_type": "stream",
     "text": [
      "loss: 0.1018, accuracy: 0.9600: 100%|██████████| 1000/1000 [00:19<00:00, 50.12it/s]\n",
      "loss: 0.4905, accuracy: 0.8900: 100%|██████████| 158/158 [00:01<00:00, 99.20it/s] \n",
      "loss: 0.1276, accuracy: 0.9300:   1%|          | 10/1000 [00:00<00:18, 53.35it/s]"
     ]
    },
    {
     "name": "stdout",
     "output_type": "stream",
     "text": [
      "Epoch 67: train_acc_0.9350_train_loss_0.1624_val_acc_0.8713_val_loss_0.4438 epoch time 21.6907 seconds\n",
      "total time24.0 : 35.396535873413086\n"
     ]
    },
    {
     "name": "stderr",
     "output_type": "stream",
     "text": [
      "loss: 0.0817, accuracy: 0.9700: 100%|██████████| 1000/1000 [00:19<00:00, 50.04it/s]\n",
      "loss: 0.2458, accuracy: 0.9100: 100%|██████████| 158/158 [00:01<00:00, 98.27it/s] \n",
      "loss: 0.1055, accuracy: 0.9400:   1%|          | 9/1000 [00:00<00:19, 50.77it/s]"
     ]
    },
    {
     "name": "stdout",
     "output_type": "stream",
     "text": [
      "Epoch 68: train_acc_0.9357_train_loss_0.1602_val_acc_0.8720_val_loss_0.4431 epoch time 21.7270 seconds\n",
      "total time24.0 : 57.123584508895874\n"
     ]
    },
    {
     "name": "stderr",
     "output_type": "stream",
     "text": [
      "loss: 0.1307, accuracy: 0.9400: 100%|██████████| 1000/1000 [00:20<00:00, 49.95it/s]\n",
      "loss: 0.4496, accuracy: 0.8600: 100%|██████████| 158/158 [00:01<00:00, 98.84it/s] \n",
      "loss: 0.1293, accuracy: 0.9500:   1%|          | 10/1000 [00:00<00:18, 53.11it/s]"
     ]
    },
    {
     "name": "stdout",
     "output_type": "stream",
     "text": [
      "Epoch 69: train_acc_0.9353_train_loss_0.1593_val_acc_0.8668_val_loss_0.4703 epoch time 21.7567 seconds\n",
      "total time25.0 : 18.880243062973022\n"
     ]
    },
    {
     "name": "stderr",
     "output_type": "stream",
     "text": [
      "loss: 0.1393, accuracy: 0.9400: 100%|██████████| 1000/1000 [00:19<00:00, 50.83it/s]\n",
      "loss: 0.2731, accuracy: 0.9200: 100%|██████████| 158/158 [00:01<00:00, 99.49it/s] \n",
      "loss: 0.1752, accuracy: 0.9200:   1%|          | 10/1000 [00:00<00:18, 52.86it/s]"
     ]
    },
    {
     "name": "stdout",
     "output_type": "stream",
     "text": [
      "Epoch 70: train_acc_0.9363_train_loss_0.1589_val_acc_0.8680_val_loss_0.4617 epoch time 21.4015 seconds\n",
      "total time25.0 : 40.28172445297241\n"
     ]
    },
    {
     "name": "stderr",
     "output_type": "stream",
     "text": [
      "loss: 0.1673, accuracy: 0.9400: 100%|██████████| 1000/1000 [00:19<00:00, 50.21it/s]\n",
      "loss: 0.3773, accuracy: 0.8900: 100%|██████████| 158/158 [00:01<00:00, 99.35it/s] \n",
      "loss: 0.2358, accuracy: 0.8700:   1%|          | 10/1000 [00:00<00:18, 53.23it/s]"
     ]
    },
    {
     "name": "stdout",
     "output_type": "stream",
     "text": [
      "Epoch 71: train_acc_0.9368_train_loss_0.1563_val_acc_0.8711_val_loss_0.4631 epoch time 21.6474 seconds\n",
      "total time26.0 : 1.9290988445281982\n"
     ]
    },
    {
     "name": "stderr",
     "output_type": "stream",
     "text": [
      "loss: 0.1888, accuracy: 0.9200: 100%|██████████| 1000/1000 [00:19<00:00, 51.03it/s]\n",
      "loss: 0.4506, accuracy: 0.9200: 100%|██████████| 158/158 [00:01<00:00, 99.47it/s] \n",
      "loss: 0.1330, accuracy: 0.9400:   1%|          | 10/1000 [00:00<00:18, 54.33it/s]"
     ]
    },
    {
     "name": "stdout",
     "output_type": "stream",
     "text": [
      "Epoch 72: train_acc_0.9372_train_loss_0.1561_val_acc_0.8697_val_loss_0.4794 epoch time 21.7617 seconds\n",
      "total time26.0 : 23.69077968597412\n"
     ]
    },
    {
     "name": "stderr",
     "output_type": "stream",
     "text": [
      "loss: 0.1783, accuracy: 0.9200: 100%|██████████| 1000/1000 [00:20<00:00, 49.93it/s]\n",
      "loss: 0.3611, accuracy: 0.8800: 100%|██████████| 158/158 [00:01<00:00, 100.73it/s]\n",
      "loss: 0.1079, accuracy: 0.9500:   1%|          | 9/1000 [00:00<00:18, 52.33it/s]"
     ]
    },
    {
     "name": "stdout",
     "output_type": "stream",
     "text": [
      "Epoch 73: train_acc_0.9385_train_loss_0.1538_val_acc_0.8690_val_loss_0.4811 epoch time 21.7384 seconds\n",
      "total time26.0 : 45.42919993400574\n"
     ]
    },
    {
     "name": "stderr",
     "output_type": "stream",
     "text": [
      "loss: 0.1799, accuracy: 0.9300: 100%|██████████| 1000/1000 [00:19<00:00, 50.06it/s]\n",
      "loss: 0.2601, accuracy: 0.9200: 100%|██████████| 158/158 [00:01<00:00, 99.12it/s] \n",
      "loss: 0.0922, accuracy: 0.9600:   1%|          | 10/1000 [00:00<00:18, 52.83it/s]"
     ]
    },
    {
     "name": "stdout",
     "output_type": "stream",
     "text": [
      "Epoch 74: train_acc_0.9380_train_loss_0.1537_val_acc_0.8689_val_loss_0.4786 epoch time 21.7063 seconds\n",
      "total time27.0 : 7.1355202198028564\n"
     ]
    },
    {
     "name": "stderr",
     "output_type": "stream",
     "text": [
      "loss: 0.1444, accuracy: 0.9600: 100%|██████████| 1000/1000 [00:19<00:00, 50.84it/s]\n",
      "loss: 0.4378, accuracy: 0.8700: 100%|██████████| 158/158 [00:01<00:00, 100.36it/s]\n",
      "loss: 0.1563, accuracy: 0.9300:   1%|          | 9/1000 [00:00<00:19, 51.48it/s]"
     ]
    },
    {
     "name": "stdout",
     "output_type": "stream",
     "text": [
      "Epoch 75: train_acc_0.9393_train_loss_0.1511_val_acc_0.8718_val_loss_0.4822 epoch time 21.7380 seconds\n",
      "total time27.0 : 28.873564958572388\n"
     ]
    },
    {
     "name": "stderr",
     "output_type": "stream",
     "text": [
      "loss: 0.1016, accuracy: 0.9500: 100%|██████████| 1000/1000 [00:20<00:00, 49.87it/s]\n",
      "loss: 0.4350, accuracy: 0.8300: 100%|██████████| 158/158 [00:01<00:00, 99.63it/s] \n",
      "loss: 0.1310, accuracy: 0.9500:   1%|          | 10/1000 [00:00<00:18, 52.77it/s]"
     ]
    },
    {
     "name": "stdout",
     "output_type": "stream",
     "text": [
      "Epoch 76: train_acc_0.9394_train_loss_0.1500_val_acc_0.8713_val_loss_0.4765 epoch time 21.7761 seconds\n",
      "total time27.0 : 50.64970541000366\n"
     ]
    },
    {
     "name": "stderr",
     "output_type": "stream",
     "text": [
      "loss: 0.1275, accuracy: 0.9500: 100%|██████████| 1000/1000 [00:19<00:00, 50.04it/s]\n",
      "loss: 0.5665, accuracy: 0.8200: 100%|██████████| 158/158 [00:01<00:00, 99.51it/s] \n",
      "loss: 0.1433, accuracy: 0.9300:   1%|          | 9/1000 [00:00<00:18, 52.25it/s]"
     ]
    },
    {
     "name": "stdout",
     "output_type": "stream",
     "text": [
      "Epoch 77: train_acc_0.9395_train_loss_0.1484_val_acc_0.8709_val_loss_0.4786 epoch time 21.7090 seconds\n",
      "total time28.0 : 12.358714580535889\n"
     ]
    },
    {
     "name": "stderr",
     "output_type": "stream",
     "text": [
      "loss: 0.1123, accuracy: 0.9400: 100%|██████████| 1000/1000 [00:20<00:00, 49.90it/s]\n",
      "loss: 0.5644, accuracy: 0.8600: 100%|██████████| 158/158 [00:01<00:00, 99.16it/s] \n",
      "loss: 0.1183, accuracy: 0.9800:   1%|          | 10/1000 [00:00<00:18, 53.49it/s]"
     ]
    },
    {
     "name": "stdout",
     "output_type": "stream",
     "text": [
      "Epoch 78: train_acc_0.9406_train_loss_0.1477_val_acc_0.8690_val_loss_0.4879 epoch time 21.7730 seconds\n",
      "total time28.0 : 34.13172936439514\n"
     ]
    },
    {
     "name": "stderr",
     "output_type": "stream",
     "text": [
      "loss: 0.1590, accuracy: 0.9000: 100%|██████████| 1000/1000 [00:20<00:00, 49.98it/s]\n",
      "loss: 1.1314, accuracy: 0.8300: 100%|██████████| 158/158 [00:01<00:00, 99.10it/s] \n",
      "loss: 0.1678, accuracy: 0.9100:   1%|          | 10/1000 [00:00<00:18, 52.52it/s]"
     ]
    },
    {
     "name": "stdout",
     "output_type": "stream",
     "text": [
      "Epoch 79: train_acc_0.9410_train_loss_0.1472_val_acc_0.8700_val_loss_0.4967 epoch time 21.7388 seconds\n",
      "total time28.0 : 55.87052273750305\n"
     ]
    },
    {
     "name": "stderr",
     "output_type": "stream",
     "text": [
      "loss: 0.2019, accuracy: 0.9200: 100%|██████████| 1000/1000 [00:20<00:00, 49.99it/s]\n",
      "loss: 0.2531, accuracy: 0.9300: 100%|██████████| 158/158 [00:01<00:00, 99.98it/s] \n",
      "loss: 0.0958, accuracy: 0.9700:   1%|          | 10/1000 [00:00<00:18, 52.92it/s]"
     ]
    },
    {
     "name": "stdout",
     "output_type": "stream",
     "text": [
      "Epoch 80: train_acc_0.9418_train_loss_0.1445_val_acc_0.8696_val_loss_0.4930 epoch time 21.7268 seconds\n",
      "total time29.0 : 17.59731388092041\n"
     ]
    },
    {
     "name": "stderr",
     "output_type": "stream",
     "text": [
      "loss: 0.1336, accuracy: 0.9600: 100%|██████████| 1000/1000 [00:20<00:00, 49.94it/s]\n",
      "loss: 0.4085, accuracy: 0.8700: 100%|██████████| 158/158 [00:01<00:00, 99.39it/s] \n",
      "loss: 0.0981, accuracy: 0.9500:   1%|          | 9/1000 [00:00<00:18, 52.36it/s]"
     ]
    },
    {
     "name": "stdout",
     "output_type": "stream",
     "text": [
      "Epoch 81: train_acc_0.9408_train_loss_0.1453_val_acc_0.8692_val_loss_0.4944 epoch time 21.7514 seconds\n",
      "total time29.0 : 39.34869456291199\n"
     ]
    },
    {
     "name": "stderr",
     "output_type": "stream",
     "text": [
      "loss: 0.2120, accuracy: 0.9000: 100%|██████████| 1000/1000 [00:19<00:00, 50.43it/s]\n",
      "loss: 0.3596, accuracy: 0.8600: 100%|██████████| 158/158 [00:01<00:00, 99.63it/s] \n",
      "loss: 0.0964, accuracy: 0.9500:   1%|          | 9/1000 [00:00<00:18, 52.99it/s]"
     ]
    },
    {
     "name": "stdout",
     "output_type": "stream",
     "text": [
      "Epoch 82: train_acc_0.9420_train_loss_0.1437_val_acc_0.8706_val_loss_0.4900 epoch time 21.7504 seconds\n",
      "total time30.0 : 1.0990889072418213\n"
     ]
    },
    {
     "name": "stderr",
     "output_type": "stream",
     "text": [
      "loss: 0.1101, accuracy: 0.9400: 100%|██████████| 1000/1000 [00:19<00:00, 50.75it/s]\n",
      "loss: 0.2467, accuracy: 0.9300: 100%|██████████| 158/158 [00:01<00:00, 99.14it/s] \n",
      "loss: 0.1557, accuracy: 0.9300:   1%|          | 9/1000 [00:00<00:18, 52.26it/s]"
     ]
    },
    {
     "name": "stdout",
     "output_type": "stream",
     "text": [
      "Epoch 83: train_acc_0.9422_train_loss_0.1429_val_acc_0.8694_val_loss_0.5140 epoch time 21.7028 seconds\n",
      "total time30.0 : 22.80186104774475\n"
     ]
    },
    {
     "name": "stderr",
     "output_type": "stream",
     "text": [
      "loss: 0.1932, accuracy: 0.9000: 100%|██████████| 1000/1000 [00:19<00:00, 50.45it/s]\n",
      "loss: 0.3072, accuracy: 0.8900: 100%|██████████| 158/158 [00:01<00:00, 103.97it/s]\n",
      "loss: 0.1199, accuracy: 0.9700:   1%|          | 10/1000 [00:00<00:18, 53.92it/s]"
     ]
    },
    {
     "name": "stdout",
     "output_type": "stream",
     "text": [
      "Epoch 84: train_acc_0.9438_train_loss_0.1402_val_acc_0.8683_val_loss_0.5172 epoch time 21.4752 seconds\n",
      "total time30.0 : 44.277101039886475\n"
     ]
    },
    {
     "name": "stderr",
     "output_type": "stream",
     "text": [
      "loss: 0.1771, accuracy: 0.9300: 100%|██████████| 1000/1000 [00:19<00:00, 50.31it/s]\n",
      "loss: 1.3813, accuracy: 0.8200: 100%|██████████| 158/158 [00:01<00:00, 100.46it/s]\n",
      "loss: 0.1061, accuracy: 0.9600:   1%|          | 9/1000 [00:00<00:18, 52.62it/s]"
     ]
    },
    {
     "name": "stdout",
     "output_type": "stream",
     "text": [
      "Epoch 85: train_acc_0.9427_train_loss_0.1401_val_acc_0.8691_val_loss_0.5161 epoch time 21.5846 seconds\n",
      "total time31.0 : 5.861711263656616\n"
     ]
    },
    {
     "name": "stderr",
     "output_type": "stream",
     "text": [
      "loss: 0.1417, accuracy: 0.9600: 100%|██████████| 1000/1000 [00:19<00:00, 50.06it/s]\n",
      "loss: 0.3691, accuracy: 0.8800: 100%|██████████| 158/158 [00:01<00:00, 100.86it/s]\n",
      "loss: 0.0889, accuracy: 0.9700:   1%|          | 10/1000 [00:00<00:18, 53.04it/s]"
     ]
    },
    {
     "name": "stdout",
     "output_type": "stream",
     "text": [
      "Epoch 86: train_acc_0.9444_train_loss_0.1384_val_acc_0.8660_val_loss_0.5248 epoch time 21.6792 seconds\n",
      "total time31.0 : 27.540879249572754\n"
     ]
    },
    {
     "name": "stderr",
     "output_type": "stream",
     "text": [
      "loss: 0.1117, accuracy: 0.9600: 100%|██████████| 1000/1000 [00:20<00:00, 49.85it/s]\n",
      "loss: 0.4438, accuracy: 0.8600: 100%|██████████| 158/158 [00:01<00:00, 101.26it/s]\n",
      "loss: 0.1577, accuracy: 0.9500:   1%|          | 9/1000 [00:00<00:19, 51.40it/s]"
     ]
    },
    {
     "name": "stdout",
     "output_type": "stream",
     "text": [
      "Epoch 87: train_acc_0.9439_train_loss_0.1384_val_acc_0.8677_val_loss_0.5155 epoch time 21.7586 seconds\n",
      "total time31.0 : 49.29951882362366\n"
     ]
    },
    {
     "name": "stderr",
     "output_type": "stream",
     "text": [
      "loss: 0.1194, accuracy: 0.9700: 100%|██████████| 1000/1000 [00:20<00:00, 49.91it/s]\n",
      "loss: 0.4016, accuracy: 0.8800: 100%|██████████| 158/158 [00:01<00:00, 99.48it/s] \n",
      "loss: 0.1256, accuracy: 0.9500:   1%|          | 10/1000 [00:00<00:19, 51.79it/s]"
     ]
    },
    {
     "name": "stdout",
     "output_type": "stream",
     "text": [
      "Epoch 88: train_acc_0.9451_train_loss_0.1369_val_acc_0.8669_val_loss_0.5154 epoch time 21.7597 seconds\n",
      "total time32.0 : 11.05917739868164\n"
     ]
    },
    {
     "name": "stderr",
     "output_type": "stream",
     "text": [
      "loss: 0.1480, accuracy: 0.9400: 100%|██████████| 1000/1000 [00:20<00:00, 49.96it/s]\n",
      "loss: 0.6117, accuracy: 0.8700: 100%|██████████| 158/158 [00:01<00:00, 101.06it/s]\n",
      "loss: 0.1130, accuracy: 0.9500:   1%|          | 10/1000 [00:00<00:18, 54.95it/s]"
     ]
    },
    {
     "name": "stdout",
     "output_type": "stream",
     "text": [
      "Epoch 89: train_acc_0.9451_train_loss_0.1354_val_acc_0.8669_val_loss_0.5349 epoch time 21.7155 seconds\n",
      "total time32.0 : 32.77471160888672\n"
     ]
    },
    {
     "name": "stderr",
     "output_type": "stream",
     "text": [
      "loss: 0.1845, accuracy: 0.9200: 100%|██████████| 1000/1000 [00:20<00:00, 49.96it/s]\n",
      "loss: 0.3451, accuracy: 0.9100: 100%|██████████| 158/158 [00:01<00:00, 99.42it/s] \n",
      "loss: 0.1195, accuracy: 0.9400:   1%|          | 10/1000 [00:00<00:18, 53.15it/s]"
     ]
    },
    {
     "name": "stdout",
     "output_type": "stream",
     "text": [
      "Epoch 90: train_acc_0.9461_train_loss_0.1338_val_acc_0.8652_val_loss_0.5393 epoch time 21.7454 seconds\n",
      "total time32.0 : 54.5201256275177\n"
     ]
    },
    {
     "name": "stderr",
     "output_type": "stream",
     "text": [
      "loss: 0.0885, accuracy: 0.9700: 100%|██████████| 1000/1000 [00:20<00:00, 49.86it/s]\n",
      "loss: 1.1255, accuracy: 0.8600: 100%|██████████| 158/158 [00:01<00:00, 99.48it/s] \n",
      "loss: 0.1469, accuracy: 0.9200:   1%|          | 10/1000 [00:00<00:18, 52.31it/s]"
     ]
    },
    {
     "name": "stdout",
     "output_type": "stream",
     "text": [
      "Epoch 91: train_acc_0.9461_train_loss_0.1328_val_acc_0.8652_val_loss_0.5434 epoch time 21.7783 seconds\n",
      "total time33.0 : 16.29837989807129\n"
     ]
    },
    {
     "name": "stderr",
     "output_type": "stream",
     "text": [
      "loss: 0.1625, accuracy: 0.9200: 100%|██████████| 1000/1000 [00:20<00:00, 49.95it/s]\n",
      "loss: 0.9117, accuracy: 0.8900: 100%|██████████| 158/158 [00:01<00:00, 99.30it/s] \n",
      "loss: 0.0983, accuracy: 0.9700:   1%|          | 10/1000 [00:00<00:18, 52.21it/s]"
     ]
    },
    {
     "name": "stdout",
     "output_type": "stream",
     "text": [
      "Epoch 92: train_acc_0.9460_train_loss_0.1327_val_acc_0.8682_val_loss_0.5467 epoch time 21.7502 seconds\n",
      "total time33.0 : 38.048622369766235\n"
     ]
    },
    {
     "name": "stderr",
     "output_type": "stream",
     "text": [
      "loss: 0.0813, accuracy: 0.9700: 100%|██████████| 1000/1000 [00:20<00:00, 49.97it/s]\n",
      "loss: 0.3597, accuracy: 0.8800: 100%|██████████| 158/158 [00:01<00:00, 98.91it/s] \n",
      "loss: 0.1176, accuracy: 0.9500:   1%|          | 10/1000 [00:00<00:18, 52.23it/s]"
     ]
    },
    {
     "name": "stdout",
     "output_type": "stream",
     "text": [
      "Epoch 93: train_acc_0.9464_train_loss_0.1325_val_acc_0.8672_val_loss_0.5491 epoch time 21.7498 seconds\n",
      "total time33.0 : 59.79847192764282\n"
     ]
    },
    {
     "name": "stderr",
     "output_type": "stream",
     "text": [
      "loss: 0.1212, accuracy: 0.9400: 100%|██████████| 1000/1000 [00:20<00:00, 49.91it/s]\n",
      "loss: 0.2977, accuracy: 0.9100: 100%|██████████| 158/158 [00:01<00:00, 101.38it/s]\n",
      "loss: 0.2318, accuracy: 0.9500:   1%|          | 10/1000 [00:00<00:18, 53.66it/s]"
     ]
    },
    {
     "name": "stdout",
     "output_type": "stream",
     "text": [
      "Epoch 94: train_acc_0.9469_train_loss_0.1308_val_acc_0.8668_val_loss_0.5442 epoch time 21.7335 seconds\n",
      "total time34.0 : 21.531981706619263\n"
     ]
    },
    {
     "name": "stderr",
     "output_type": "stream",
     "text": [
      "loss: 0.1334, accuracy: 0.9400: 100%|██████████| 1000/1000 [00:19<00:00, 50.04it/s]\n",
      "loss: 0.2994, accuracy: 0.9200: 100%|██████████| 158/158 [00:01<00:00, 98.20it/s] \n",
      "loss: 0.1000, accuracy: 0.9600:   1%|          | 10/1000 [00:00<00:18, 52.36it/s]"
     ]
    },
    {
     "name": "stdout",
     "output_type": "stream",
     "text": [
      "Epoch 95: train_acc_0.9483_train_loss_0.1281_val_acc_0.8690_val_loss_0.5436 epoch time 21.7334 seconds\n",
      "total time34.0 : 43.26535654067993\n"
     ]
    },
    {
     "name": "stderr",
     "output_type": "stream",
     "text": [
      "loss: 0.0675, accuracy: 0.9700: 100%|██████████| 1000/1000 [00:20<00:00, 49.93it/s]\n",
      "loss: 0.3955, accuracy: 0.8600: 100%|██████████| 158/158 [00:01<00:00, 100.30it/s]\n",
      "loss: 0.0773, accuracy: 0.9800:   1%|          | 10/1000 [00:00<00:19, 51.81it/s]"
     ]
    },
    {
     "name": "stdout",
     "output_type": "stream",
     "text": [
      "Epoch 96: train_acc_0.9485_train_loss_0.1277_val_acc_0.8656_val_loss_0.5523 epoch time 21.7442 seconds\n",
      "total time35.0 : 5.0095295906066895\n"
     ]
    },
    {
     "name": "stderr",
     "output_type": "stream",
     "text": [
      "loss: 0.0810, accuracy: 0.9700: 100%|██████████| 1000/1000 [00:19<00:00, 50.70it/s]\n",
      "loss: 0.3684, accuracy: 0.9000: 100%|██████████| 158/158 [00:01<00:00, 98.54it/s]\n",
      "loss: 0.1296, accuracy: 0.9400:   1%|          | 10/1000 [00:00<00:19, 51.69it/s]"
     ]
    },
    {
     "name": "stdout",
     "output_type": "stream",
     "text": [
      "Epoch 97: train_acc_0.9481_train_loss_0.1281_val_acc_0.8666_val_loss_0.5554 epoch time 21.7394 seconds\n",
      "total time35.0 : 26.748894691467285\n"
     ]
    },
    {
     "name": "stderr",
     "output_type": "stream",
     "text": [
      "loss: 0.2421, accuracy: 0.9200: 100%|██████████| 1000/1000 [00:19<00:00, 50.01it/s]\n",
      "loss: 0.4214, accuracy: 0.8900: 100%|██████████| 158/158 [00:01<00:00, 103.41it/s]\n",
      "loss: 0.1108, accuracy: 0.9400:   1%|          | 10/1000 [00:00<00:18, 54.22it/s]"
     ]
    },
    {
     "name": "stdout",
     "output_type": "stream",
     "text": [
      "Epoch 98: train_acc_0.9491_train_loss_0.1252_val_acc_0.8677_val_loss_0.5479 epoch time 21.6567 seconds\n",
      "total time35.0 : 48.405592918395996\n"
     ]
    },
    {
     "name": "stderr",
     "output_type": "stream",
     "text": [
      "loss: 0.0946, accuracy: 0.9800: 100%|██████████| 1000/1000 [00:19<00:00, 50.31it/s]\n",
      "loss: 0.6105, accuracy: 0.8200: 100%|██████████| 158/158 [00:01<00:00, 100.84it/s]\n",
      "loss: 0.4211, accuracy: 0.8300:  13%|█▎        | 20/158 [00:00<00:01, 109.31it/s]"
     ]
    },
    {
     "name": "stdout",
     "output_type": "stream",
     "text": [
      "Epoch 99: train_acc_0.9491_train_loss_0.1248_val_acc_0.8643_val_loss_0.5608 epoch time 21.6056 seconds\n",
      "total time36.0 : 10.01122522354126\n",
      "Generating test set evaluation metrics\n"
     ]
    },
    {
     "name": "stderr",
     "output_type": "stream",
     "text": [
      "loss: 0.3275, accuracy: 0.8600: 100%|██████████| 158/158 [00:01<00:00, 96.87it/s]\n"
     ]
    },
    {
     "name": "stdout",
     "output_type": "stream",
     "text": [
      "finish\n"
     ]
    },
    {
     "data": {
      "image/png": "[encoded data removed]",
      "text/plain": [
       "<Figure size 576x288 with 1 Axes>"
      ]
     },
     "metadata": {
      "needs_background": "light"
     },
     "output_type": "display_data"
    },
    {
     "data": {
      "image/png": "[encoded data removed]",
      "text/plain": [
       "<Figure size 576x288 with 1 Axes>"
      ]
     },
     "metadata": {
      "needs_background": "light"
     },
     "output_type": "display_data"
    },
    {
     "name": "stdout",
     "output_type": "stream",
     "text": [
      "Building basic block of ConvolutionalNetwork using input shape (100, 1, 28, 28)\n",
      "torch.Size([100, 64, 28, 28])\n",
      "torch.Size([100, 64, 15, 15])\n",
      "torch.Size([100, 64, 15, 15])\n",
      "torch.Size([100, 64, 8, 8])\n"
     ]
    },
    {
     "name": "stderr",
     "output_type": "stream",
     "text": [
      "loss: 3.8475, accuracy: 0.0200:   1%|          | 7/1000 [00:00<00:22, 44.82it/s]"
     ]
    },
    {
     "name": "stdout",
     "output_type": "stream",
     "text": [
      "torch.Size([100, 64, 8, 8])\n",
      "torch.Size([100, 64, 5, 5])\n",
      "torch.Size([100, 64, 5, 5])\n",
      "torch.Size([100, 64, 3, 3])\n",
      "shape before final linear layer torch.Size([100, 64, 2, 2])\n",
      "Block is built, output volume is torch.Size([100, 47])\n",
      "use GPU\n",
      "ConvolutionalNetwork(\n",
      "  (layer_dict): ModuleDict(\n",
      "    (conv_0): Conv2d(1, 64, kernel_size=(3, 3), stride=(1, 1), padding=(1, 1))\n",
      "    (dim_reduction_max_pool_0): MaxPool2d(kernel_size=2, stride=2, padding=1, dilation=1, ceil_mode=False)\n",
      "    (conv_1): Conv2d(64, 64, kernel_size=(3, 3), stride=(1, 1), padding=(1, 1))\n",
      "    (dim_reduction_max_pool_1): MaxPool2d(kernel_size=2, stride=2, padding=1, dilation=1, ceil_mode=False)\n",
      "    (conv_2): Conv2d(64, 64, kernel_size=(3, 3), stride=(1, 1), padding=(1, 1))\n",
      "    (dim_reduction_max_pool_2): MaxPool2d(kernel_size=2, stride=2, padding=1, dilation=1, ceil_mode=False)\n",
      "    (conv_3): Conv2d(64, 64, kernel_size=(3, 3), stride=(1, 1), padding=(1, 1))\n",
      "    (dim_reduction_max_pool_3): MaxPool2d(kernel_size=2, stride=2, padding=1, dilation=1, ceil_mode=False)\n",
      "  )\n",
      "  (logit_linear_layer): Linear(in_features=256, out_features=47, bias=True)\n",
      ")\n"
     ]
    },
    {
     "name": "stderr",
     "output_type": "stream",
     "text": [
      "loss: 0.4780, accuracy: 0.8600: 100%|██████████| 1000/1000 [00:21<00:00, 46.87it/s]\n",
      "loss: 0.6034, accuracy: 0.8700: 100%|██████████| 158/158 [00:01<00:00, 95.60it/s]\n",
      "loss: 0.4434, accuracy: 0.8200:   1%|          | 9/1000 [00:00<00:20, 47.70it/s]"
     ]
    },
    {
     "name": "stdout",
     "output_type": "stream",
     "text": [
      "Epoch 0: train_acc_0.6910_train_loss_1.0218_val_acc_0.8283_val_loss_0.5000 epoch time 23.7178 seconds\n",
      "total time0.0 : 23.717756271362305\n"
     ]
    },
    {
     "name": "stderr",
     "output_type": "stream",
     "text": [
      "loss: 0.4701, accuracy: 0.8700: 100%|██████████| 1000/1000 [00:21<00:00, 45.92it/s]\n",
      "loss: 0.2841, accuracy: 0.9000: 100%|██████████| 158/158 [00:01<00:00, 97.56it/s] \n",
      "loss: 0.5203, accuracy: 0.8300:   1%|          | 8/1000 [00:00<00:20, 47.76it/s]"
     ]
    },
    {
     "name": "stdout",
     "output_type": "stream",
     "text": [
      "Epoch 1: train_acc_0.8368_train_loss_0.4721_val_acc_0.8641_val_loss_0.3974 epoch time 23.6876 seconds\n",
      "total time0.0 : 47.40534281730652\n"
     ]
    },
    {
     "name": "stderr",
     "output_type": "stream",
     "text": [
      "loss: 0.5046, accuracy: 0.8400: 100%|██████████| 1000/1000 [00:21<00:00, 46.19it/s]\n",
      "loss: 0.3282, accuracy: 0.8400: 100%|██████████| 158/158 [00:01<00:00, 96.55it/s] \n",
      "loss: 0.3996, accuracy: 0.8600:   1%|          | 9/1000 [00:00<00:19, 49.81it/s]"
     ]
    },
    {
     "name": "stdout",
     "output_type": "stream",
     "text": [
      "Epoch 2: train_acc_0.8579_train_loss_0.4023_val_acc_0.8675_val_loss_0.3747 epoch time 23.7022 seconds\n",
      "total time1.0 : 11.107568264007568\n"
     ]
    },
    {
     "name": "stderr",
     "output_type": "stream",
     "text": [
      "loss: 0.3475, accuracy: 0.8800: 100%|██████████| 1000/1000 [00:21<00:00, 45.84it/s]\n",
      "loss: 0.2338, accuracy: 0.9400: 100%|██████████| 158/158 [00:01<00:00, 95.17it/s]\n",
      "loss: 0.4199, accuracy: 0.9000:   1%|          | 9/1000 [00:00<00:20, 48.68it/s]"
     ]
    },
    {
     "name": "stdout",
     "output_type": "stream",
     "text": [
      "Epoch 3: train_acc_0.8706_train_loss_0.3649_val_acc_0.8722_val_loss_0.3566 epoch time 23.6162 seconds\n",
      "total time1.0 : 34.72378754615784\n"
     ]
    },
    {
     "name": "stderr",
     "output_type": "stream",
     "text": [
      "loss: 0.4779, accuracy: 0.8400: 100%|██████████| 1000/1000 [00:21<00:00, 45.98it/s]\n",
      "loss: 0.3524, accuracy: 0.8700: 100%|██████████| 158/158 [00:01<00:00, 96.19it/s]\n",
      "loss: 0.2851, accuracy: 0.8600:   1%|          | 8/1000 [00:00<00:21, 47.00it/s]"
     ]
    },
    {
     "name": "stdout",
     "output_type": "stream",
     "text": [
      "Epoch 4: train_acc_0.8760_train_loss_0.3410_val_acc_0.8711_val_loss_0.3526 epoch time 23.7166 seconds\n",
      "total time1.0 : 58.44035744667053\n"
     ]
    },
    {
     "name": "stderr",
     "output_type": "stream",
     "text": [
      "loss: 0.2831, accuracy: 0.8700: 100%|██████████| 1000/1000 [00:21<00:00, 46.43it/s]\n",
      "loss: 0.3333, accuracy: 0.8800: 100%|██████████| 158/158 [00:01<00:00, 95.14it/s]\n",
      "loss: 0.3548, accuracy: 0.8500:   1%|          | 9/1000 [00:00<00:20, 48.71it/s]"
     ]
    },
    {
     "name": "stdout",
     "output_type": "stream",
     "text": [
      "Epoch 5: train_acc_0.8830_train_loss_0.3218_val_acc_0.8773_val_loss_0.3350 epoch time 23.7138 seconds\n",
      "total time2.0 : 22.154160737991333\n"
     ]
    },
    {
     "name": "stderr",
     "output_type": "stream",
     "text": [
      "loss: 0.2251, accuracy: 0.9200: 100%|██████████| 1000/1000 [00:21<00:00, 46.07it/s]\n",
      "loss: 0.3791, accuracy: 0.8600: 100%|██████████| 158/158 [00:01<00:00, 95.48it/s]\n",
      "loss: 0.3259, accuracy: 0.9000:   1%|          | 9/1000 [00:00<00:20, 49.41it/s]"
     ]
    },
    {
     "name": "stdout",
     "output_type": "stream",
     "text": [
      "Epoch 6: train_acc_0.8867_train_loss_0.3057_val_acc_0.8769_val_loss_0.3411 epoch time 23.7158 seconds\n",
      "total time2.0 : 45.86991333961487\n"
     ]
    },
    {
     "name": "stderr",
     "output_type": "stream",
     "text": [
      "loss: 0.4543, accuracy: 0.9000: 100%|██████████| 1000/1000 [00:21<00:00, 45.90it/s]\n",
      "loss: 0.4528, accuracy: 0.9100: 100%|██████████| 158/158 [00:01<00:00, 96.70it/s]\n",
      "loss: 0.2171, accuracy: 0.9100:   1%|          | 8/1000 [00:00<00:21, 47.21it/s]"
     ]
    },
    {
     "name": "stdout",
     "output_type": "stream",
     "text": [
      "Epoch 7: train_acc_0.8907_train_loss_0.2923_val_acc_0.8820_val_loss_0.3289 epoch time 23.7045 seconds\n",
      "total time3.0 : 9.57439923286438\n"
     ]
    },
    {
     "name": "stderr",
     "output_type": "stream",
     "text": [
      "loss: 0.1900, accuracy: 0.9500: 100%|██████████| 1000/1000 [00:21<00:00, 46.46it/s]\n",
      "loss: 0.4072, accuracy: 0.8300: 100%|██████████| 158/158 [00:01<00:00, 96.37it/s]\n",
      "loss: 0.3046, accuracy: 0.8900:   1%|          | 9/1000 [00:00<00:20, 47.82it/s]"
     ]
    },
    {
     "name": "stdout",
     "output_type": "stream",
     "text": [
      "Epoch 8: train_acc_0.8948_train_loss_0.2793_val_acc_0.8825_val_loss_0.3295 epoch time 23.7028 seconds\n",
      "total time3.0 : 33.277238607406616\n"
     ]
    },
    {
     "name": "stderr",
     "output_type": "stream",
     "text": [
      "loss: 0.1856, accuracy: 0.9500: 100%|██████████| 1000/1000 [00:21<00:00, 45.93it/s]\n",
      "loss: 0.1746, accuracy: 0.9000: 100%|██████████| 158/158 [00:01<00:00, 96.77it/s] \n",
      "loss: 0.2581, accuracy: 0.9100:   1%|          | 9/1000 [00:00<00:20, 47.59it/s]"
     ]
    },
    {
     "name": "stdout",
     "output_type": "stream",
     "text": [
      "Epoch 9: train_acc_0.8981_train_loss_0.2687_val_acc_0.8837_val_loss_0.3210 epoch time 23.6685 seconds\n",
      "total time3.0 : 56.945775270462036\n"
     ]
    },
    {
     "name": "stderr",
     "output_type": "stream",
     "text": [
      "loss: 0.1872, accuracy: 0.9400: 100%|██████████| 1000/1000 [00:21<00:00, 45.71it/s]\n",
      "loss: 0.3280, accuracy: 0.8800: 100%|██████████| 158/158 [00:01<00:00, 98.89it/s] \n",
      "loss: 0.2003, accuracy: 0.9300:   1%|          | 9/1000 [00:00<00:20, 47.66it/s]"
     ]
    },
    {
     "name": "stdout",
     "output_type": "stream",
     "text": [
      "Epoch 10: train_acc_0.9000_train_loss_0.2582_val_acc_0.8786_val_loss_0.3353 epoch time 23.6140 seconds\n",
      "total time4.0 : 20.559730768203735\n"
     ]
    },
    {
     "name": "stderr",
     "output_type": "stream",
     "text": [
      "loss: 0.2152, accuracy: 0.9200: 100%|██████████| 1000/1000 [00:21<00:00, 46.09it/s]\n",
      "loss: 0.3867, accuracy: 0.9000: 100%|██████████| 158/158 [00:01<00:00, 96.00it/s]\n",
      "loss: 0.2801, accuracy: 0.9000:   1%|          | 9/1000 [00:00<00:20, 48.73it/s]"
     ]
    },
    {
     "name": "stdout",
     "output_type": "stream",
     "text": [
      "Epoch 11: train_acc_0.9032_train_loss_0.2490_val_acc_0.8815_val_loss_0.3421 epoch time 23.7029 seconds\n",
      "total time4.0 : 44.26267147064209\n"
     ]
    },
    {
     "name": "stderr",
     "output_type": "stream",
     "text": [
      "loss: 0.2241, accuracy: 0.9100: 100%|██████████| 1000/1000 [00:21<00:00, 46.35it/s]\n",
      "loss: 0.4398, accuracy: 0.8500: 100%|██████████| 158/158 [00:01<00:00, 96.91it/s] \n",
      "loss: 0.1575, accuracy: 0.9500:   1%|          | 9/1000 [00:00<00:20, 47.75it/s]"
     ]
    },
    {
     "name": "stdout",
     "output_type": "stream",
     "text": [
      "Epoch 12: train_acc_0.9065_train_loss_0.2403_val_acc_0.8847_val_loss_0.3287 epoch time 23.3368 seconds\n",
      "total time5.0 : 7.599493741989136\n"
     ]
    },
    {
     "name": "stderr",
     "output_type": "stream",
     "text": [
      "loss: 0.1497, accuracy: 0.9600: 100%|██████████| 1000/1000 [00:21<00:00, 46.14it/s]\n",
      "loss: 0.3191, accuracy: 0.9000: 100%|██████████| 158/158 [00:01<00:00, 97.09it/s]\n",
      "loss: 0.1377, accuracy: 0.9600:   1%|          | 9/1000 [00:00<00:20, 47.66it/s]"
     ]
    },
    {
     "name": "stdout",
     "output_type": "stream",
     "text": [
      "Epoch 13: train_acc_0.9091_train_loss_0.2314_val_acc_0.8802_val_loss_0.3365 epoch time 23.6834 seconds\n",
      "total time5.0 : 31.282859563827515\n"
     ]
    },
    {
     "name": "stderr",
     "output_type": "stream",
     "text": [
      "loss: 0.1613, accuracy: 0.9100: 100%|██████████| 1000/1000 [00:21<00:00, 46.32it/s]\n",
      "loss: 0.4242, accuracy: 0.8900: 100%|██████████| 158/158 [00:01<00:00, 96.11it/s]\n",
      "loss: 0.3170, accuracy: 0.9300:   1%|          | 9/1000 [00:00<00:20, 49.22it/s]"
     ]
    },
    {
     "name": "stdout",
     "output_type": "stream",
     "text": [
      "Epoch 14: train_acc_0.9119_train_loss_0.2231_val_acc_0.8825_val_loss_0.3514 epoch time 23.6828 seconds\n",
      "total time5.0 : 54.96564269065857\n"
     ]
    },
    {
     "name": "stderr",
     "output_type": "stream",
     "text": [
      "loss: 0.1791, accuracy: 0.9300: 100%|██████████| 1000/1000 [00:21<00:00, 46.17it/s]\n",
      "loss: 0.2212, accuracy: 0.8800: 100%|██████████| 158/158 [00:01<00:00, 95.66it/s] \n",
      "loss: 0.2204, accuracy: 0.8900:   1%|          | 9/1000 [00:00<00:20, 47.19it/s]"
     ]
    },
    {
     "name": "stdout",
     "output_type": "stream",
     "text": [
      "Epoch 15: train_acc_0.9146_train_loss_0.2157_val_acc_0.8832_val_loss_0.3349 epoch time 23.6936 seconds\n",
      "total time6.0 : 18.659281015396118\n"
     ]
    },
    {
     "name": "stderr",
     "output_type": "stream",
     "text": [
      "loss: 0.1475, accuracy: 0.9600: 100%|██████████| 1000/1000 [00:21<00:00, 46.10it/s]\n",
      "loss: 0.5118, accuracy: 0.8900: 100%|██████████| 158/158 [00:01<00:00, 97.31it/s]\n",
      "loss: 0.1052, accuracy: 0.9600:   1%|          | 9/1000 [00:00<00:20, 48.52it/s]"
     ]
    },
    {
     "name": "stdout",
     "output_type": "stream",
     "text": [
      "Epoch 16: train_acc_0.9165_train_loss_0.2078_val_acc_0.8841_val_loss_0.3497 epoch time 23.6559 seconds\n",
      "total time6.0 : 42.31514072418213\n"
     ]
    },
    {
     "name": "stderr",
     "output_type": "stream",
     "text": [
      "loss: 0.2576, accuracy: 0.9100: 100%|██████████| 1000/1000 [00:21<00:00, 46.18it/s]\n",
      "loss: 0.2342, accuracy: 0.9000: 100%|██████████| 158/158 [00:01<00:00, 95.79it/s]\n",
      "loss: 0.1439, accuracy: 0.9300:   1%|          | 9/1000 [00:00<00:19, 49.93it/s]"
     ]
    },
    {
     "name": "stdout",
     "output_type": "stream",
     "text": [
      "Epoch 17: train_acc_0.9190_train_loss_0.2009_val_acc_0.8839_val_loss_0.3469 epoch time 23.7202 seconds\n",
      "total time7.0 : 6.0353851318359375\n"
     ]
    },
    {
     "name": "stderr",
     "output_type": "stream",
     "text": [
      "loss: 0.2878, accuracy: 0.8800: 100%|██████████| 1000/1000 [00:21<00:00, 45.82it/s]\n",
      "loss: 0.7197, accuracy: 0.8600: 100%|██████████| 158/158 [00:01<00:00, 95.83it/s]\n",
      "loss: 0.2142, accuracy: 0.9300:   1%|          | 9/1000 [00:00<00:20, 48.92it/s]"
     ]
    },
    {
     "name": "stdout",
     "output_type": "stream",
     "text": [
      "Epoch 18: train_acc_0.9220_train_loss_0.1934_val_acc_0.8818_val_loss_0.3582 epoch time 23.6120 seconds\n",
      "total time7.0 : 29.647414445877075\n"
     ]
    },
    {
     "name": "stderr",
     "output_type": "stream",
     "text": [
      "loss: 0.2291, accuracy: 0.8900: 100%|██████████| 1000/1000 [00:21<00:00, 46.55it/s]\n",
      "loss: 0.2526, accuracy: 0.9300: 100%|██████████| 158/158 [00:01<00:00, 98.16it/s]\n",
      "loss: 0.2188, accuracy: 0.8700:   1%|          | 8/1000 [00:00<00:20, 47.29it/s]"
     ]
    },
    {
     "name": "stdout",
     "output_type": "stream",
     "text": [
      "Epoch 19: train_acc_0.9228_train_loss_0.1887_val_acc_0.8820_val_loss_0.3693 epoch time 23.6356 seconds\n",
      "total time7.0 : 53.28301787376404\n"
     ]
    },
    {
     "name": "stderr",
     "output_type": "stream",
     "text": [
      "loss: 0.2749, accuracy: 0.9000: 100%|██████████| 1000/1000 [00:21<00:00, 46.03it/s]\n",
      "loss: 0.2537, accuracy: 0.9300: 100%|██████████| 158/158 [00:01<00:00, 97.03it/s] \n",
      "loss: 0.1447, accuracy: 0.9300:   1%|          | 9/1000 [00:00<00:20, 48.92it/s]"
     ]
    },
    {
     "name": "stdout",
     "output_type": "stream",
     "text": [
      "Epoch 20: train_acc_0.9258_train_loss_0.1829_val_acc_0.8742_val_loss_0.3842 epoch time 23.6798 seconds\n",
      "total time8.0 : 16.96278667449951\n"
     ]
    },
    {
     "name": "stderr",
     "output_type": "stream",
     "text": [
      "loss: 0.2156, accuracy: 0.9000: 100%|██████████| 1000/1000 [00:21<00:00, 46.53it/s]\n",
      "loss: 0.5459, accuracy: 0.8900: 100%|██████████| 158/158 [00:01<00:00, 96.35it/s]\n",
      "loss: 0.1500, accuracy: 0.9100:   1%|          | 9/1000 [00:00<00:21, 47.16it/s]"
     ]
    },
    {
     "name": "stdout",
     "output_type": "stream",
     "text": [
      "Epoch 21: train_acc_0.9278_train_loss_0.1766_val_acc_0.8808_val_loss_0.3896 epoch time 23.6358 seconds\n",
      "total time8.0 : 40.59854984283447\n"
     ]
    },
    {
     "name": "stderr",
     "output_type": "stream",
     "text": [
      "loss: 0.1933, accuracy: 0.9200: 100%|██████████| 1000/1000 [00:21<00:00, 46.08it/s]\n",
      "loss: 0.8483, accuracy: 0.8500: 100%|██████████| 158/158 [00:01<00:00, 95.74it/s]\n",
      "loss: 0.1259, accuracy: 0.9400:   1%|          | 9/1000 [00:00<00:20, 48.22it/s]"
     ]
    },
    {
     "name": "stdout",
     "output_type": "stream",
     "text": [
      "Epoch 22: train_acc_0.9294_train_loss_0.1714_val_acc_0.8800_val_loss_0.3853 epoch time 23.6916 seconds\n",
      "total time9.0 : 4.290118217468262\n"
     ]
    },
    {
     "name": "stderr",
     "output_type": "stream",
     "text": [
      "loss: 0.2132, accuracy: 0.9400: 100%|██████████| 1000/1000 [00:21<00:00, 46.20it/s]\n",
      "loss: 0.4179, accuracy: 0.8900: 100%|██████████| 158/158 [00:01<00:00, 96.53it/s]\n",
      "loss: 0.1285, accuracy: 0.9300:   1%|          | 9/1000 [00:00<00:20, 48.52it/s]"
     ]
    },
    {
     "name": "stdout",
     "output_type": "stream",
     "text": [
      "Epoch 23: train_acc_0.9317_train_loss_0.1660_val_acc_0.8753_val_loss_0.4097 epoch time 23.6703 seconds\n",
      "total time9.0 : 27.960435390472412\n"
     ]
    },
    {
     "name": "stderr",
     "output_type": "stream",
     "text": [
      "loss: 0.2095, accuracy: 0.9100: 100%|██████████| 1000/1000 [00:21<00:00, 46.35it/s]\n",
      "loss: 0.2225, accuracy: 0.9200: 100%|██████████| 158/158 [00:01<00:00, 99.86it/s] \n",
      "loss: 0.1849, accuracy: 0.9300:   1%|          | 9/1000 [00:00<00:20, 47.82it/s]"
     ]
    },
    {
     "name": "stdout",
     "output_type": "stream",
     "text": [
      "Epoch 24: train_acc_0.9332_train_loss_0.1610_val_acc_0.8781_val_loss_0.4196 epoch time 23.5850 seconds\n",
      "total time9.0 : 51.54546403884888\n"
     ]
    },
    {
     "name": "stderr",
     "output_type": "stream",
     "text": [
      "loss: 0.1443, accuracy: 0.9600: 100%|██████████| 1000/1000 [00:21<00:00, 47.06it/s]\n",
      "loss: 0.4567, accuracy: 0.8300: 100%|██████████| 158/158 [00:01<00:00, 95.18it/s]\n",
      "loss: 0.0697, accuracy: 0.9800:   1%|          | 9/1000 [00:00<00:20, 49.49it/s]"
     ]
    },
    {
     "name": "stdout",
     "output_type": "stream",
     "text": [
      "Epoch 25: train_acc_0.9359_train_loss_0.1564_val_acc_0.8809_val_loss_0.4228 epoch time 23.0497 seconds\n",
      "total time10.0 : 14.595213890075684\n"
     ]
    },
    {
     "name": "stderr",
     "output_type": "stream",
     "text": [
      "loss: 0.1111, accuracy: 0.9700: 100%|██████████| 1000/1000 [00:21<00:00, 46.17it/s]\n",
      "loss: 0.7027, accuracy: 0.8600: 100%|██████████| 158/158 [00:01<00:00, 96.70it/s]\n",
      "loss: 0.1785, accuracy: 0.9100:   1%|          | 9/1000 [00:00<00:20, 48.32it/s]"
     ]
    },
    {
     "name": "stdout",
     "output_type": "stream",
     "text": [
      "Epoch 26: train_acc_0.9366_train_loss_0.1511_val_acc_0.8791_val_loss_0.4381 epoch time 23.6678 seconds\n",
      "total time10.0 : 38.26296949386597\n"
     ]
    },
    {
     "name": "stderr",
     "output_type": "stream",
     "text": [
      "loss: 0.1624, accuracy: 0.9400: 100%|██████████| 1000/1000 [00:21<00:00, 46.56it/s]\n",
      "loss: 0.7163, accuracy: 0.8900: 100%|██████████| 158/158 [00:01<00:00, 95.71it/s]\n",
      "loss: 0.2005, accuracy: 0.9200:   1%|          | 9/1000 [00:00<00:20, 48.07it/s]"
     ]
    },
    {
     "name": "stdout",
     "output_type": "stream",
     "text": [
      "Epoch 27: train_acc_0.9389_train_loss_0.1462_val_acc_0.8767_val_loss_0.4771 epoch time 23.6852 seconds\n",
      "total time11.0 : 1.948152780532837\n"
     ]
    },
    {
     "name": "stderr",
     "output_type": "stream",
     "text": [
      "loss: 0.1065, accuracy: 0.9700: 100%|██████████| 1000/1000 [00:21<00:00, 46.62it/s]\n",
      "loss: 0.3331, accuracy: 0.8900: 100%|██████████| 158/158 [00:01<00:00, 95.34it/s]\n",
      "loss: 0.1209, accuracy: 0.9700:   1%|          | 9/1000 [00:00<00:20, 48.16it/s]"
     ]
    },
    {
     "name": "stdout",
     "output_type": "stream",
     "text": [
      "Epoch 28: train_acc_0.9399_train_loss_0.1432_val_acc_0.8787_val_loss_0.4429 epoch time 23.6812 seconds\n",
      "total time11.0 : 25.62939429283142\n"
     ]
    },
    {
     "name": "stderr",
     "output_type": "stream",
     "text": [
      "loss: 0.1586, accuracy: 0.9200: 100%|██████████| 1000/1000 [00:21<00:00, 45.66it/s]\n",
      "loss: 0.5240, accuracy: 0.8600: 100%|██████████| 158/158 [00:01<00:00, 95.96it/s]\n",
      "loss: 0.1852, accuracy: 0.8600:   1%|          | 9/1000 [00:00<00:20, 48.96it/s]"
     ]
    },
    {
     "name": "stdout",
     "output_type": "stream",
     "text": [
      "Epoch 29: train_acc_0.9422_train_loss_0.1377_val_acc_0.8756_val_loss_0.4797 epoch time 23.6944 seconds\n",
      "total time11.0 : 49.32378315925598\n"
     ]
    },
    {
     "name": "stderr",
     "output_type": "stream",
     "text": [
      "loss: 0.1194, accuracy: 0.9500: 100%|██████████| 1000/1000 [00:21<00:00, 46.26it/s]\n",
      "loss: 0.9060, accuracy: 0.8500: 100%|██████████| 158/158 [00:01<00:00, 96.54it/s]\n",
      "loss: 0.1332, accuracy: 0.9500:   1%|          | 9/1000 [00:00<00:19, 49.78it/s]"
     ]
    },
    {
     "name": "stdout",
     "output_type": "stream",
     "text": [
      "Epoch 30: train_acc_0.9450_train_loss_0.1325_val_acc_0.8790_val_loss_0.4578 epoch time 23.6675 seconds\n",
      "total time12.0 : 12.991320848464966\n"
     ]
    },
    {
     "name": "stderr",
     "output_type": "stream",
     "text": [
      "loss: 0.1823, accuracy: 0.9200: 100%|██████████| 1000/1000 [00:21<00:00, 45.99it/s]\n",
      "loss: 0.6977, accuracy: 0.8300: 100%|██████████| 158/158 [00:01<00:00, 98.83it/s]\n",
      "loss: 0.0695, accuracy: 0.9800:   1%|          | 9/1000 [00:00<00:21, 46.98it/s]"
     ]
    },
    {
     "name": "stdout",
     "output_type": "stream",
     "text": [
      "Epoch 31: train_acc_0.9436_train_loss_0.1337_val_acc_0.8758_val_loss_0.4737 epoch time 23.7023 seconds\n",
      "total time12.0 : 36.69357514381409\n"
     ]
    },
    {
     "name": "stderr",
     "output_type": "stream",
     "text": [
      "loss: 0.1083, accuracy: 0.9600: 100%|██████████| 1000/1000 [00:21<00:00, 46.24it/s]\n",
      "loss: 0.4809, accuracy: 0.8700: 100%|██████████| 158/158 [00:01<00:00, 95.84it/s]\n",
      "loss: 0.1544, accuracy: 0.9100:   1%|          | 9/1000 [00:00<00:19, 49.90it/s]"
     ]
    },
    {
     "name": "stdout",
     "output_type": "stream",
     "text": [
      "Epoch 32: train_acc_0.9463_train_loss_0.1284_val_acc_0.8723_val_loss_0.4956 epoch time 23.7117 seconds\n",
      "total time13.0 : 0.4052765369415283\n"
     ]
    },
    {
     "name": "stderr",
     "output_type": "stream",
     "text": [
      "loss: 0.2065, accuracy: 0.8900: 100%|██████████| 1000/1000 [00:21<00:00, 45.72it/s]\n",
      "loss: 0.6675, accuracy: 0.8300: 100%|██████████| 158/158 [00:01<00:00, 97.55it/s]\n",
      "loss: 0.0674, accuracy: 0.9700:   1%|          | 8/1000 [00:00<00:21, 46.59it/s]"
     ]
    },
    {
     "name": "stdout",
     "output_type": "stream",
     "text": [
      "Epoch 33: train_acc_0.9466_train_loss_0.1260_val_acc_0.8722_val_loss_0.5051 epoch time 23.6539 seconds\n",
      "total time13.0 : 24.05921506881714\n"
     ]
    },
    {
     "name": "stderr",
     "output_type": "stream",
     "text": [
      "loss: 0.1045, accuracy: 0.9400: 100%|██████████| 1000/1000 [00:21<00:00, 46.73it/s]\n",
      "loss: 0.6310, accuracy: 0.8900: 100%|██████████| 158/158 [00:01<00:00, 96.29it/s]\n",
      "loss: 0.1943, accuracy: 0.9200:   1%|          | 9/1000 [00:00<00:20, 48.76it/s]"
     ]
    },
    {
     "name": "stdout",
     "output_type": "stream",
     "text": [
      "Epoch 34: train_acc_0.9481_train_loss_0.1231_val_acc_0.8732_val_loss_0.5221 epoch time 23.6645 seconds\n",
      "total time13.0 : 47.72371864318848\n"
     ]
    },
    {
     "name": "stderr",
     "output_type": "stream",
     "text": [
      "loss: 0.0869, accuracy: 0.9500: 100%|██████████| 1000/1000 [00:21<00:00, 46.69it/s]\n",
      "loss: 0.2785, accuracy: 0.9000: 100%|██████████| 158/158 [00:01<00:00, 97.02it/s]\n",
      "loss: 0.1117, accuracy: 0.9600:   1%|          | 9/1000 [00:00<00:20, 47.77it/s]"
     ]
    },
    {
     "name": "stdout",
     "output_type": "stream",
     "text": [
      "Epoch 35: train_acc_0.9504_train_loss_0.1182_val_acc_0.8713_val_loss_0.5317 epoch time 23.6434 seconds\n",
      "total time14.0 : 11.367105722427368\n"
     ]
    },
    {
     "name": "stderr",
     "output_type": "stream",
     "text": [
      "loss: 0.1511, accuracy: 0.9400: 100%|██████████| 1000/1000 [00:21<00:00, 46.40it/s]\n",
      "loss: 0.3409, accuracy: 0.8700: 100%|██████████| 158/158 [00:01<00:00, 95.68it/s] \n",
      "loss: 0.1026, accuracy: 0.9600:   1%|          | 9/1000 [00:00<00:20, 47.39it/s]"
     ]
    },
    {
     "name": "stdout",
     "output_type": "stream",
     "text": [
      "Epoch 36: train_acc_0.9508_train_loss_0.1160_val_acc_0.8742_val_loss_0.5597 epoch time 23.7078 seconds\n",
      "total time14.0 : 35.07494926452637\n"
     ]
    },
    {
     "name": "stderr",
     "output_type": "stream",
     "text": [
      "loss: 0.1066, accuracy: 0.9600: 100%|██████████| 1000/1000 [00:21<00:00, 47.61it/s]\n",
      "loss: 0.6092, accuracy: 0.9100: 100%|██████████| 158/158 [00:01<00:00, 102.29it/s]\n",
      "loss: 0.0862, accuracy: 0.9600:   1%|          | 9/1000 [00:00<00:20, 48.90it/s]"
     ]
    },
    {
     "name": "stdout",
     "output_type": "stream",
     "text": [
      "Epoch 37: train_acc_0.9520_train_loss_0.1148_val_acc_0.8720_val_loss_0.5366 epoch time 23.5231 seconds\n",
      "total time14.0 : 58.59804105758667\n"
     ]
    },
    {
     "name": "stderr",
     "output_type": "stream",
     "text": [
      "loss: 0.1225, accuracy: 0.9400: 100%|██████████| 1000/1000 [00:21<00:00, 46.95it/s]\n",
      "loss: 0.8876, accuracy: 0.8700: 100%|██████████| 158/158 [00:01<00:00, 95.15it/s]\n",
      "loss: 0.0597, accuracy: 0.9900:   1%|          | 9/1000 [00:00<00:19, 49.59it/s]"
     ]
    },
    {
     "name": "stdout",
     "output_type": "stream",
     "text": [
      "Epoch 38: train_acc_0.9535_train_loss_0.1109_val_acc_0.8705_val_loss_0.5981 epoch time 23.0976 seconds\n",
      "total time15.0 : 21.695686101913452\n"
     ]
    },
    {
     "name": "stderr",
     "output_type": "stream",
     "text": [
      "loss: 0.1466, accuracy: 0.9400: 100%|██████████| 1000/1000 [00:21<00:00, 45.81it/s]\n",
      "loss: 0.3296, accuracy: 0.9300: 100%|██████████| 158/158 [00:01<00:00, 97.72it/s] \n",
      "loss: 0.0935, accuracy: 0.9400:   1%|          | 9/1000 [00:00<00:20, 47.46it/s]"
     ]
    },
    {
     "name": "stdout",
     "output_type": "stream",
     "text": [
      "Epoch 39: train_acc_0.9538_train_loss_0.1105_val_acc_0.8727_val_loss_0.5722 epoch time 23.5841 seconds\n",
      "total time15.0 : 45.27983283996582\n"
     ]
    },
    {
     "name": "stderr",
     "output_type": "stream",
     "text": [
      "loss: 0.1589, accuracy: 0.9300: 100%|██████████| 1000/1000 [00:21<00:00, 46.25it/s]\n",
      "loss: 0.7744, accuracy: 0.8000: 100%|██████████| 158/158 [00:01<00:00, 96.15it/s]\n",
      "loss: 0.0933, accuracy: 0.9500:   1%|          | 9/1000 [00:00<00:20, 48.78it/s]"
     ]
    },
    {
     "name": "stdout",
     "output_type": "stream",
     "text": [
      "Epoch 40: train_acc_0.9548_train_loss_0.1085_val_acc_0.8713_val_loss_0.5798 epoch time 23.6536 seconds\n",
      "total time16.0 : 8.933430671691895\n"
     ]
    },
    {
     "name": "stderr",
     "output_type": "stream",
     "text": [
      "loss: 0.1004, accuracy: 0.9700: 100%|██████████| 1000/1000 [00:21<00:00, 46.53it/s]\n",
      "loss: 0.4665, accuracy: 0.8800: 100%|██████████| 158/158 [00:01<00:00, 96.92it/s]\n",
      "loss: 0.0841, accuracy: 0.9700:   1%|          | 9/1000 [00:00<00:21, 47.15it/s]"
     ]
    },
    {
     "name": "stdout",
     "output_type": "stream",
     "text": [
      "Epoch 41: train_acc_0.9562_train_loss_0.1043_val_acc_0.8736_val_loss_0.5935 epoch time 23.6389 seconds\n",
      "total time16.0 : 32.572317123413086\n"
     ]
    },
    {
     "name": "stderr",
     "output_type": "stream",
     "text": [
      "loss: 0.1242, accuracy: 0.9200: 100%|██████████| 1000/1000 [00:21<00:00, 46.62it/s]\n",
      "loss: 0.4256, accuracy: 0.8900: 100%|██████████| 158/158 [00:01<00:00, 96.29it/s]\n",
      "loss: 0.1173, accuracy: 0.9400:   1%|          | 9/1000 [00:00<00:20, 49.03it/s]"
     ]
    },
    {
     "name": "stdout",
     "output_type": "stream",
     "text": [
      "Epoch 42: train_acc_0.9573_train_loss_0.1022_val_acc_0.8653_val_loss_0.6013 epoch time 23.6443 seconds\n",
      "total time16.0 : 56.2166645526886\n"
     ]
    },
    {
     "name": "stderr",
     "output_type": "stream",
     "text": [
      "loss: 0.2011, accuracy: 0.9300: 100%|██████████| 1000/1000 [00:21<00:00, 46.28it/s]\n",
      "loss: 0.4747, accuracy: 0.8700: 100%|██████████| 158/158 [00:01<00:00, 97.44it/s]\n",
      "loss: 0.0315, accuracy: 1.0000:   1%|          | 9/1000 [00:00<00:20, 48.50it/s]"
     ]
    },
    {
     "name": "stdout",
     "output_type": "stream",
     "text": [
      "Epoch 43: train_acc_0.9572_train_loss_0.1021_val_acc_0.8722_val_loss_0.6078 epoch time 23.6418 seconds\n",
      "total time17.0 : 19.858498334884644\n"
     ]
    },
    {
     "name": "stderr",
     "output_type": "stream",
     "text": [
      "loss: 0.1428, accuracy: 0.9500: 100%|██████████| 1000/1000 [00:21<00:00, 45.89it/s]\n",
      "loss: 0.9558, accuracy: 0.8000: 100%|██████████| 158/158 [00:01<00:00, 95.93it/s]\n",
      "loss: 0.0920, accuracy: 0.9700:   1%|          | 9/1000 [00:00<00:19, 49.62it/s]"
     ]
    },
    {
     "name": "stdout",
     "output_type": "stream",
     "text": [
      "Epoch 44: train_acc_0.9596_train_loss_0.0958_val_acc_0.8692_val_loss_0.6107 epoch time 23.6846 seconds\n",
      "total time17.0 : 43.543123722076416\n"
     ]
    },
    {
     "name": "stderr",
     "output_type": "stream",
     "text": [
      "loss: 0.0738, accuracy: 0.9600: 100%|██████████| 1000/1000 [00:21<00:00, 46.26it/s]\n",
      "loss: 1.0322, accuracy: 0.8800: 100%|██████████| 158/158 [00:01<00:00, 98.08it/s]\n",
      "loss: 0.1336, accuracy: 0.9500:   1%|          | 9/1000 [00:00<00:20, 47.82it/s]"
     ]
    },
    {
     "name": "stdout",
     "output_type": "stream",
     "text": [
      "Epoch 45: train_acc_0.9588_train_loss_0.0989_val_acc_0.8681_val_loss_0.6320 epoch time 23.6463 seconds\n",
      "total time18.0 : 7.189450263977051\n"
     ]
    },
    {
     "name": "stderr",
     "output_type": "stream",
     "text": [
      "loss: 0.1564, accuracy: 0.9400: 100%|██████████| 1000/1000 [00:21<00:00, 46.31it/s]\n",
      "loss: 0.6632, accuracy: 0.8500: 100%|██████████| 158/158 [00:01<00:00, 95.76it/s]\n",
      "loss: 0.1570, accuracy: 0.9300:   1%|          | 9/1000 [00:00<00:19, 51.02it/s]"
     ]
    },
    {
     "name": "stdout",
     "output_type": "stream",
     "text": [
      "Epoch 46: train_acc_0.9602_train_loss_0.0966_val_acc_0.8761_val_loss_0.6222 epoch time 23.6417 seconds\n",
      "total time18.0 : 30.831170082092285\n"
     ]
    },
    {
     "name": "stderr",
     "output_type": "stream",
     "text": [
      "loss: 0.1106, accuracy: 0.9100: 100%|██████████| 1000/1000 [00:21<00:00, 45.91it/s]\n",
      "loss: 0.7727, accuracy: 0.8900: 100%|██████████| 158/158 [00:01<00:00, 98.03it/s]\n",
      "loss: 0.0694, accuracy: 0.9700:   1%|          | 9/1000 [00:00<00:20, 47.36it/s]"
     ]
    },
    {
     "name": "stdout",
     "output_type": "stream",
     "text": [
      "Epoch 47: train_acc_0.9617_train_loss_0.0921_val_acc_0.8735_val_loss_0.6707 epoch time 23.5332 seconds\n",
      "total time18.0 : 54.36441206932068\n"
     ]
    },
    {
     "name": "stderr",
     "output_type": "stream",
     "text": [
      "loss: 0.1087, accuracy: 0.9400: 100%|██████████| 1000/1000 [00:21<00:00, 46.12it/s]\n",
      "loss: 1.0613, accuracy: 0.8600: 100%|██████████| 158/158 [00:01<00:00, 96.76it/s]\n",
      "loss: 0.0975, accuracy: 0.9400:   1%|          | 9/1000 [00:00<00:19, 49.65it/s]"
     ]
    },
    {
     "name": "stdout",
     "output_type": "stream",
     "text": [
      "Epoch 48: train_acc_0.9623_train_loss_0.0920_val_acc_0.8675_val_loss_0.6861 epoch time 23.6687 seconds\n",
      "total time19.0 : 18.033136129379272\n"
     ]
    },
    {
     "name": "stderr",
     "output_type": "stream",
     "text": [
      "loss: 0.0957, accuracy: 0.9300: 100%|██████████| 1000/1000 [00:21<00:00, 45.86it/s]\n",
      "loss: 0.3295, accuracy: 0.9000: 100%|██████████| 158/158 [00:01<00:00, 97.93it/s]\n",
      "loss: 0.0795, accuracy: 0.9600:   1%|          | 9/1000 [00:00<00:20, 47.35it/s]"
     ]
    },
    {
     "name": "stdout",
     "output_type": "stream",
     "text": [
      "Epoch 49: train_acc_0.9616_train_loss_0.0919_val_acc_0.8687_val_loss_0.6744 epoch time 23.5525 seconds\n",
      "total time19.0 : 41.58566665649414\n"
     ]
    },
    {
     "name": "stderr",
     "output_type": "stream",
     "text": [
      "loss: 0.1197, accuracy: 0.9500: 100%|██████████| 1000/1000 [00:21<00:00, 48.44it/s]\n",
      "loss: 0.6756, accuracy: 0.8600: 100%|██████████| 158/158 [00:01<00:00, 101.06it/s]\n",
      "loss: 0.0663, accuracy: 0.9800:   1%|          | 9/1000 [00:00<00:19, 49.56it/s]"
     ]
    },
    {
     "name": "stdout",
     "output_type": "stream",
     "text": [
      "Epoch 50: train_acc_0.9625_train_loss_0.0899_val_acc_0.8715_val_loss_0.6580 epoch time 23.5026 seconds\n",
      "total time20.0 : 5.088288068771362\n"
     ]
    },
    {
     "name": "stderr",
     "output_type": "stream",
     "text": [
      "loss: 0.0439, accuracy: 0.9900: 100%|██████████| 1000/1000 [00:21<00:00, 47.44it/s]\n",
      "loss: 0.8581, accuracy: 0.8400: 100%|██████████| 158/158 [00:01<00:00, 96.63it/s]\n",
      "loss: 0.0802, accuracy: 0.9800:   1%|          | 9/1000 [00:00<00:21, 46.80it/s]"
     ]
    },
    {
     "name": "stdout",
     "output_type": "stream",
     "text": [
      "Epoch 51: train_acc_0.9641_train_loss_0.0868_val_acc_0.8676_val_loss_0.6683 epoch time 23.1610 seconds\n",
      "total time20.0 : 28.24927854537964\n"
     ]
    },
    {
     "name": "stderr",
     "output_type": "stream",
     "text": [
      "loss: 0.0722, accuracy: 0.9800: 100%|██████████| 1000/1000 [00:21<00:00, 46.14it/s]\n",
      "loss: 0.5017, accuracy: 0.8900: 100%|██████████| 158/158 [00:01<00:00, 94.91it/s]\n",
      "loss: 0.0824, accuracy: 0.9800:   1%|          | 9/1000 [00:00<00:20, 48.31it/s]"
     ]
    },
    {
     "name": "stdout",
     "output_type": "stream",
     "text": [
      "Epoch 52: train_acc_0.9655_train_loss_0.0837_val_acc_0.8711_val_loss_0.6901 epoch time 23.6721 seconds\n",
      "total time20.0 : 51.92137694358826\n"
     ]
    },
    {
     "name": "stderr",
     "output_type": "stream",
     "text": [
      "loss: 0.1010, accuracy: 0.9600: 100%|██████████| 1000/1000 [00:21<00:00, 46.25it/s]\n",
      "loss: 0.9615, accuracy: 0.8200: 100%|██████████| 158/158 [00:01<00:00, 97.40it/s]\n",
      "loss: 0.0480, accuracy: 0.9800:   1%|          | 9/1000 [00:00<00:20, 48.56it/s]"
     ]
    },
    {
     "name": "stdout",
     "output_type": "stream",
     "text": [
      "Epoch 53: train_acc_0.9646_train_loss_0.0864_val_acc_0.8708_val_loss_0.7158 epoch time 23.6073 seconds\n",
      "total time21.0 : 15.528700351715088\n"
     ]
    },
    {
     "name": "stderr",
     "output_type": "stream",
     "text": [
      "loss: 0.0906, accuracy: 0.9500: 100%|██████████| 1000/1000 [00:21<00:00, 46.12it/s]\n",
      "loss: 1.2257, accuracy: 0.8100: 100%|██████████| 158/158 [00:01<00:00, 95.66it/s]\n",
      "loss: 0.0327, accuracy: 0.9900:   1%|          | 9/1000 [00:00<00:20, 49.32it/s]"
     ]
    },
    {
     "name": "stdout",
     "output_type": "stream",
     "text": [
      "Epoch 54: train_acc_0.9653_train_loss_0.0828_val_acc_0.8686_val_loss_0.7378 epoch time 23.6648 seconds\n",
      "total time21.0 : 39.19351029396057\n"
     ]
    },
    {
     "name": "stderr",
     "output_type": "stream",
     "text": [
      "loss: 0.0961, accuracy: 0.9400: 100%|██████████| 1000/1000 [00:21<00:00, 46.68it/s]\n",
      "loss: 1.2159, accuracy: 0.8200: 100%|██████████| 158/158 [00:01<00:00, 97.94it/s] \n",
      "loss: 0.0465, accuracy: 0.9900:   1%|          | 9/1000 [00:00<00:20, 47.53it/s]"
     ]
    },
    {
     "name": "stdout",
     "output_type": "stream",
     "text": [
      "Epoch 55: train_acc_0.9656_train_loss_0.0845_val_acc_0.8689_val_loss_0.7327 epoch time 23.6262 seconds\n",
      "total time22.0 : 2.8197500705718994\n"
     ]
    },
    {
     "name": "stderr",
     "output_type": "stream",
     "text": [
      "loss: 0.0557, accuracy: 0.9800: 100%|██████████| 1000/1000 [00:21<00:00, 45.91it/s]\n",
      "loss: 0.3479, accuracy: 0.9000: 100%|██████████| 158/158 [00:01<00:00, 95.80it/s]\n",
      "loss: 0.0604, accuracy: 0.9800:   1%|          | 9/1000 [00:00<00:19, 50.50it/s]"
     ]
    },
    {
     "name": "stdout",
     "output_type": "stream",
     "text": [
      "Epoch 56: train_acc_0.9667_train_loss_0.0805_val_acc_0.8698_val_loss_0.7324 epoch time 23.7009 seconds\n",
      "total time22.0 : 26.52066707611084\n"
     ]
    },
    {
     "name": "stderr",
     "output_type": "stream",
     "text": [
      "loss: 0.0338, accuracy: 0.9900: 100%|██████████| 1000/1000 [00:21<00:00, 45.90it/s]\n",
      "loss: 0.4948, accuracy: 0.8900: 100%|██████████| 158/158 [00:01<00:00, 98.42it/s] \n",
      "loss: 0.1271, accuracy: 0.9400:   1%|          | 9/1000 [00:00<00:20, 47.98it/s]"
     ]
    },
    {
     "name": "stdout",
     "output_type": "stream",
     "text": [
      "Epoch 57: train_acc_0.9677_train_loss_0.0788_val_acc_0.8696_val_loss_0.7453 epoch time 23.5285 seconds\n",
      "total time22.0 : 50.04920506477356\n"
     ]
    },
    {
     "name": "stderr",
     "output_type": "stream",
     "text": [
      "loss: 0.0455, accuracy: 0.9900: 100%|██████████| 1000/1000 [00:21<00:00, 46.24it/s]\n",
      "loss: 0.9663, accuracy: 0.8000: 100%|██████████| 158/158 [00:01<00:00, 96.89it/s] \n",
      "loss: 0.0308, accuracy: 0.9900:   1%|          | 9/1000 [00:00<00:20, 48.54it/s]"
     ]
    },
    {
     "name": "stdout",
     "output_type": "stream",
     "text": [
      "Epoch 58: train_acc_0.9659_train_loss_0.0830_val_acc_0.8684_val_loss_0.7700 epoch time 23.6352 seconds\n",
      "total time23.0 : 13.68441891670227\n"
     ]
    },
    {
     "name": "stderr",
     "output_type": "stream",
     "text": [
      "loss: 0.1205, accuracy: 0.9500: 100%|██████████| 1000/1000 [00:21<00:00, 46.27it/s]\n",
      "loss: 1.1376, accuracy: 0.8600: 100%|██████████| 158/158 [00:01<00:00, 97.69it/s]\n",
      "loss: 0.0826, accuracy: 0.9600:   1%|          | 9/1000 [00:00<00:21, 47.04it/s]"
     ]
    },
    {
     "name": "stdout",
     "output_type": "stream",
     "text": [
      "Epoch 59: train_acc_0.9676_train_loss_0.0790_val_acc_0.8684_val_loss_0.7919 epoch time 23.6451 seconds\n",
      "total time23.0 : 37.32952094078064\n"
     ]
    },
    {
     "name": "stderr",
     "output_type": "stream",
     "text": [
      "loss: 0.0810, accuracy: 0.9700: 100%|██████████| 1000/1000 [00:21<00:00, 47.51it/s]\n",
      "loss: 0.9700, accuracy: 0.8500: 100%|██████████| 158/158 [00:01<00:00, 96.17it/s]\n",
      "loss: 0.1206, accuracy: 0.9600:   1%|          | 9/1000 [00:00<00:20, 49.13it/s]"
     ]
    },
    {
     "name": "stdout",
     "output_type": "stream",
     "text": [
      "Epoch 60: train_acc_0.9692_train_loss_0.0741_val_acc_0.8677_val_loss_0.7967 epoch time 23.6696 seconds\n",
      "total time24.0 : 0.9991326332092285\n"
     ]
    },
    {
     "name": "stderr",
     "output_type": "stream",
     "text": [
      "loss: 0.0570, accuracy: 0.9800: 100%|██████████| 1000/1000 [00:21<00:00, 46.14it/s]\n",
      "loss: 0.5020, accuracy: 0.8700: 100%|██████████| 158/158 [00:01<00:00, 96.82it/s]\n",
      "loss: 0.0511, accuracy: 0.9800:   1%|          | 9/1000 [00:00<00:20, 48.32it/s]"
     ]
    },
    {
     "name": "stdout",
     "output_type": "stream",
     "text": [
      "Epoch 61: train_acc_0.9688_train_loss_0.0771_val_acc_0.8699_val_loss_0.7889 epoch time 23.6328 seconds\n",
      "total time24.0 : 24.631894826889038\n"
     ]
    },
    {
     "name": "stderr",
     "output_type": "stream",
     "text": [
      "loss: 0.1446, accuracy: 0.9600: 100%|██████████| 1000/1000 [00:21<00:00, 46.13it/s]\n",
      "loss: 0.7318, accuracy: 0.9000: 100%|██████████| 158/158 [00:01<00:00, 97.61it/s] \n",
      "loss: 0.0623, accuracy: 0.9800:   1%|          | 9/1000 [00:00<00:20, 49.34it/s]"
     ]
    },
    {
     "name": "stdout",
     "output_type": "stream",
     "text": [
      "Epoch 62: train_acc_0.9692_train_loss_0.0761_val_acc_0.8680_val_loss_0.7792 epoch time 23.6079 seconds\n",
      "total time24.0 : 48.239773750305176\n"
     ]
    },
    {
     "name": "stderr",
     "output_type": "stream",
     "text": [
      "loss: 0.1547, accuracy: 0.9400: 100%|██████████| 1000/1000 [00:21<00:00, 48.04it/s]\n",
      "loss: 0.2346, accuracy: 0.9300: 100%|██████████| 158/158 [00:01<00:00, 103.61it/s]\n",
      "loss: 0.0832, accuracy: 0.9500:   1%|          | 9/1000 [00:00<00:20, 49.14it/s]"
     ]
    },
    {
     "name": "stdout",
     "output_type": "stream",
     "text": [
      "Epoch 63: train_acc_0.9691_train_loss_0.0746_val_acc_0.8705_val_loss_0.7847 epoch time 23.3981 seconds\n",
      "total time25.0 : 11.63791823387146\n"
     ]
    },
    {
     "name": "stderr",
     "output_type": "stream",
     "text": [
      "loss: 0.0752, accuracy: 0.9800: 100%|██████████| 1000/1000 [00:21<00:00, 46.48it/s]\n",
      "loss: 1.3209, accuracy: 0.8200: 100%|██████████| 158/158 [00:01<00:00, 101.39it/s]\n",
      "loss: 0.0979, accuracy: 0.9700:   1%|          | 9/1000 [00:00<00:19, 49.75it/s]"
     ]
    },
    {
     "name": "stdout",
     "output_type": "stream",
     "text": [
      "Epoch 64: train_acc_0.9711_train_loss_0.0716_val_acc_0.8671_val_loss_0.7972 epoch time 23.2096 seconds\n",
      "total time25.0 : 34.84756517410278\n"
     ]
    },
    {
     "name": "stderr",
     "output_type": "stream",
     "text": [
      "loss: 0.1164, accuracy: 0.9500: 100%|██████████| 1000/1000 [00:21<00:00, 46.22it/s]\n",
      "loss: 0.8449, accuracy: 0.8800: 100%|██████████| 158/158 [00:01<00:00, 98.54it/s] \n",
      "loss: 0.0734, accuracy: 0.9800:   1%|          | 9/1000 [00:00<00:20, 47.73it/s]"
     ]
    },
    {
     "name": "stdout",
     "output_type": "stream",
     "text": [
      "Epoch 65: train_acc_0.9707_train_loss_0.0726_val_acc_0.8736_val_loss_0.8191 epoch time 23.5044 seconds\n",
      "total time25.0 : 58.3519549369812\n"
     ]
    },
    {
     "name": "stderr",
     "output_type": "stream",
     "text": [
      "loss: 0.0359, accuracy: 0.9800: 100%|██████████| 1000/1000 [00:21<00:00, 46.64it/s]\n",
      "loss: 0.6586, accuracy: 0.8500: 100%|██████████| 158/158 [00:01<00:00, 96.36it/s]\n",
      "loss: 0.0766, accuracy: 0.9700:   1%|          | 9/1000 [00:00<00:20, 48.41it/s]"
     ]
    },
    {
     "name": "stdout",
     "output_type": "stream",
     "text": [
      "Epoch 66: train_acc_0.9710_train_loss_0.0721_val_acc_0.8702_val_loss_0.8180 epoch time 23.6058 seconds\n",
      "total time26.0 : 21.957738161087036\n"
     ]
    },
    {
     "name": "stderr",
     "output_type": "stream",
     "text": [
      "loss: 0.1385, accuracy: 0.9400: 100%|██████████| 1000/1000 [00:21<00:00, 46.20it/s]\n",
      "loss: 1.0148, accuracy: 0.8400: 100%|██████████| 158/158 [00:01<00:00, 98.53it/s] \n",
      "loss: 0.0536, accuracy: 0.9800:   1%|          | 9/1000 [00:00<00:20, 47.64it/s]"
     ]
    },
    {
     "name": "stdout",
     "output_type": "stream",
     "text": [
      "Epoch 67: train_acc_0.9728_train_loss_0.0673_val_acc_0.8629_val_loss_0.8897 epoch time 23.5129 seconds\n",
      "total time26.0 : 45.47059917449951\n"
     ]
    },
    {
     "name": "stderr",
     "output_type": "stream",
     "text": [
      "loss: 0.1549, accuracy: 0.9600: 100%|██████████| 1000/1000 [00:21<00:00, 46.02it/s]\n",
      "loss: 1.4339, accuracy: 0.8200: 100%|██████████| 158/158 [00:01<00:00, 95.71it/s]\n",
      "loss: 0.0560, accuracy: 0.9700:   1%|          | 9/1000 [00:00<00:19, 49.76it/s]"
     ]
    },
    {
     "name": "stdout",
     "output_type": "stream",
     "text": [
      "Epoch 68: train_acc_0.9711_train_loss_0.0723_val_acc_0.8678_val_loss_0.8333 epoch time 23.6436 seconds\n",
      "total time27.0 : 9.11421823501587\n"
     ]
    },
    {
     "name": "stderr",
     "output_type": "stream",
     "text": [
      "loss: 0.0793, accuracy: 0.9600: 100%|██████████| 1000/1000 [00:21<00:00, 46.28it/s]\n",
      "loss: 0.9469, accuracy: 0.8500: 100%|██████████| 158/158 [00:01<00:00, 98.13it/s] \n",
      "loss: 0.0171, accuracy: 1.0000:   1%|          | 9/1000 [00:00<00:20, 47.47it/s]"
     ]
    },
    {
     "name": "stdout",
     "output_type": "stream",
     "text": [
      "Epoch 69: train_acc_0.9729_train_loss_0.0683_val_acc_0.8672_val_loss_0.8452 epoch time 23.5564 seconds\n",
      "total time27.0 : 32.67065143585205\n"
     ]
    },
    {
     "name": "stderr",
     "output_type": "stream",
     "text": [
      "loss: 0.0858, accuracy: 0.9800: 100%|██████████| 1000/1000 [00:21<00:00, 46.30it/s]\n",
      "loss: 1.0834, accuracy: 0.8500: 100%|██████████| 158/158 [00:01<00:00, 96.49it/s]\n",
      "loss: 0.0404, accuracy: 0.9800:   1%|          | 9/1000 [00:00<00:19, 49.78it/s]"
     ]
    },
    {
     "name": "stdout",
     "output_type": "stream",
     "text": [
      "Epoch 70: train_acc_0.9722_train_loss_0.0689_val_acc_0.8685_val_loss_0.8740 epoch time 23.5970 seconds\n",
      "total time27.0 : 56.26768684387207\n"
     ]
    },
    {
     "name": "stderr",
     "output_type": "stream",
     "text": [
      "loss: 0.0416, accuracy: 0.9800: 100%|██████████| 1000/1000 [00:21<00:00, 46.00it/s]\n",
      "loss: 1.6955, accuracy: 0.7600: 100%|██████████| 158/158 [00:01<00:00, 97.80it/s]\n",
      "loss: 0.0898, accuracy: 0.9500:   1%|          | 9/1000 [00:00<00:21, 46.84it/s]"
     ]
    },
    {
     "name": "stdout",
     "output_type": "stream",
     "text": [
      "Epoch 71: train_acc_0.9731_train_loss_0.0674_val_acc_0.8666_val_loss_0.8388 epoch time 23.4943 seconds\n",
      "total time28.0 : 19.762017726898193\n"
     ]
    },
    {
     "name": "stderr",
     "output_type": "stream",
     "text": [
      "loss: 0.0858, accuracy: 0.9600: 100%|██████████| 1000/1000 [00:21<00:00, 46.21it/s]\n",
      "loss: 0.9045, accuracy: 0.8600: 100%|██████████| 158/158 [00:01<00:00, 96.52it/s] \n",
      "loss: 0.0824, accuracy: 0.9800:   1%|          | 9/1000 [00:00<00:20, 49.43it/s]"
     ]
    },
    {
     "name": "stdout",
     "output_type": "stream",
     "text": [
      "Epoch 72: train_acc_0.9721_train_loss_0.0679_val_acc_0.8715_val_loss_0.8359 epoch time 23.5747 seconds\n",
      "total time28.0 : 43.336700677871704\n"
     ]
    },
    {
     "name": "stderr",
     "output_type": "stream",
     "text": [
      "loss: 0.0585, accuracy: 0.9800: 100%|██████████| 1000/1000 [00:21<00:00, 46.29it/s]\n",
      "loss: 0.8159, accuracy: 0.8600: 100%|██████████| 158/158 [00:01<00:00, 97.59it/s] \n",
      "loss: 0.1451, accuracy: 0.9500:   1%|          | 9/1000 [00:00<00:20, 47.71it/s]"
     ]
    },
    {
     "name": "stdout",
     "output_type": "stream",
     "text": [
      "Epoch 73: train_acc_0.9747_train_loss_0.0626_val_acc_0.8627_val_loss_0.8948 epoch time 23.5700 seconds\n",
      "total time29.0 : 6.906665086746216\n"
     ]
    },
    {
     "name": "stderr",
     "output_type": "stream",
     "text": [
      "loss: 0.0505, accuracy: 0.9800: 100%|██████████| 1000/1000 [00:21<00:00, 46.15it/s]\n",
      "loss: 1.2364, accuracy: 0.8200: 100%|██████████| 158/158 [00:01<00:00, 95.94it/s]\n",
      "loss: 0.0405, accuracy: 0.9800:   1%|          | 9/1000 [00:00<00:20, 49.24it/s]"
     ]
    },
    {
     "name": "stdout",
     "output_type": "stream",
     "text": [
      "Epoch 74: train_acc_0.9744_train_loss_0.0634_val_acc_0.8668_val_loss_0.8707 epoch time 23.6247 seconds\n",
      "total time29.0 : 30.53140878677368\n"
     ]
    },
    {
     "name": "stderr",
     "output_type": "stream",
     "text": [
      "loss: 0.0551, accuracy: 0.9800: 100%|██████████| 1000/1000 [00:21<00:00, 46.53it/s]\n",
      "loss: 1.2240, accuracy: 0.8500: 100%|██████████| 158/158 [00:01<00:00, 98.18it/s] \n",
      "loss: 0.0925, accuracy: 0.9400:   1%|          | 9/1000 [00:00<00:20, 47.65it/s]"
     ]
    },
    {
     "name": "stdout",
     "output_type": "stream",
     "text": [
      "Epoch 75: train_acc_0.9742_train_loss_0.0648_val_acc_0.8665_val_loss_0.8345 epoch time 23.6013 seconds\n",
      "total time29.0 : 54.13266944885254\n"
     ]
    },
    {
     "name": "stderr",
     "output_type": "stream",
     "text": [
      "loss: 0.0837, accuracy: 0.9600: 100%|██████████| 1000/1000 [00:21<00:00, 47.43it/s]\n",
      "loss: 1.3698, accuracy: 0.8000: 100%|██████████| 158/158 [00:01<00:00, 101.82it/s]\n",
      "loss: 0.0698, accuracy: 0.9900:   1%|          | 9/1000 [00:00<00:19, 50.03it/s]"
     ]
    },
    {
     "name": "stdout",
     "output_type": "stream",
     "text": [
      "Epoch 76: train_acc_0.9739_train_loss_0.0650_val_acc_0.8694_val_loss_0.8753 epoch time 23.4248 seconds\n",
      "total time30.0 : 17.557466506958008\n"
     ]
    },
    {
     "name": "stderr",
     "output_type": "stream",
     "text": [
      "loss: 0.0465, accuracy: 0.9800: 100%|██████████| 1000/1000 [00:21<00:00, 46.13it/s]\n",
      "loss: 0.9942, accuracy: 0.8800: 100%|██████████| 158/158 [00:01<00:00, 105.19it/s]\n",
      "loss: 0.0640, accuracy: 0.9700:   1%|          | 9/1000 [00:00<00:20, 47.89it/s]"
     ]
    },
    {
     "name": "stdout",
     "output_type": "stream",
     "text": [
      "Epoch 77: train_acc_0.9766_train_loss_0.0598_val_acc_0.8680_val_loss_0.9437 epoch time 23.3140 seconds\n",
      "total time30.0 : 40.87143111228943\n"
     ]
    },
    {
     "name": "stderr",
     "output_type": "stream",
     "text": [
      "loss: 0.0656, accuracy: 0.9600: 100%|██████████| 1000/1000 [00:21<00:00, 46.33it/s]\n",
      "loss: 0.3931, accuracy: 0.8800: 100%|██████████| 158/158 [00:01<00:00, 96.75it/s]\n",
      "loss: 0.0819, accuracy: 0.9600:   1%|          | 9/1000 [00:00<00:19, 49.62it/s]"
     ]
    },
    {
     "name": "stdout",
     "output_type": "stream",
     "text": [
      "Epoch 78: train_acc_0.9723_train_loss_0.0694_val_acc_0.8694_val_loss_0.8887 epoch time 23.3601 seconds\n",
      "total time31.0 : 4.231512069702148\n"
     ]
    },
    {
     "name": "stderr",
     "output_type": "stream",
     "text": [
      "loss: 0.0461, accuracy: 0.9800: 100%|██████████| 1000/1000 [00:21<00:00, 45.95it/s]\n",
      "loss: 1.1671, accuracy: 0.8200: 100%|██████████| 158/158 [00:01<00:00, 97.22it/s]\n",
      "loss: 0.0728, accuracy: 0.9700:   1%|          | 9/1000 [00:00<00:20, 47.48it/s]"
     ]
    },
    {
     "name": "stdout",
     "output_type": "stream",
     "text": [
      "Epoch 79: train_acc_0.9768_train_loss_0.0583_val_acc_0.8678_val_loss_0.9325 epoch time 23.5275 seconds\n",
      "total time31.0 : 27.758994340896606\n"
     ]
    },
    {
     "name": "stderr",
     "output_type": "stream",
     "text": [
      "loss: 0.1045, accuracy: 0.9500: 100%|██████████| 1000/1000 [00:21<00:00, 46.22it/s]\n",
      "loss: 0.8305, accuracy: 0.8600: 100%|██████████| 158/158 [00:01<00:00, 95.89it/s]\n",
      "loss: 0.0491, accuracy: 0.9700:   1%|          | 9/1000 [00:00<00:19, 50.80it/s]"
     ]
    },
    {
     "name": "stdout",
     "output_type": "stream",
     "text": [
      "Epoch 80: train_acc_0.9763_train_loss_0.0595_val_acc_0.8649_val_loss_0.8575 epoch time 23.6161 seconds\n",
      "total time31.0 : 51.375075817108154\n"
     ]
    },
    {
     "name": "stderr",
     "output_type": "stream",
     "text": [
      "loss: 0.0965, accuracy: 0.9500: 100%|██████████| 1000/1000 [00:21<00:00, 46.06it/s]\n",
      "loss: 0.4806, accuracy: 0.9000: 100%|██████████| 158/158 [00:01<00:00, 97.82it/s]\n",
      "loss: 0.0408, accuracy: 0.9800:   1%|          | 9/1000 [00:00<00:20, 47.76it/s]"
     ]
    },
    {
     "name": "stdout",
     "output_type": "stream",
     "text": [
      "Epoch 81: train_acc_0.9766_train_loss_0.0588_val_acc_0.8641_val_loss_0.9531 epoch time 23.4627 seconds\n",
      "total time32.0 : 14.837746620178223\n"
     ]
    },
    {
     "name": "stderr",
     "output_type": "stream",
     "text": [
      "loss: 0.0374, accuracy: 0.9800: 100%|██████████| 1000/1000 [00:21<00:00, 46.06it/s]\n",
      "loss: 0.5150, accuracy: 0.9000: 100%|██████████| 158/158 [00:01<00:00, 96.07it/s]\n",
      "loss: 0.0780, accuracy: 0.9700:   1%|          | 9/1000 [00:00<00:19, 49.89it/s]"
     ]
    },
    {
     "name": "stdout",
     "output_type": "stream",
     "text": [
      "Epoch 82: train_acc_0.9748_train_loss_0.0636_val_acc_0.8647_val_loss_0.9060 epoch time 23.5753 seconds\n",
      "total time32.0 : 38.41303110122681\n"
     ]
    },
    {
     "name": "stderr",
     "output_type": "stream",
     "text": [
      "loss: 0.1542, accuracy: 0.9600: 100%|██████████| 1000/1000 [00:21<00:00, 46.34it/s]\n",
      "loss: 0.9932, accuracy: 0.8200: 100%|██████████| 158/158 [00:01<00:00, 97.88it/s] \n",
      "loss: 0.0366, accuracy: 0.9800:   1%|          | 9/1000 [00:00<00:20, 47.25it/s]"
     ]
    },
    {
     "name": "stdout",
     "output_type": "stream",
     "text": [
      "Epoch 83: train_acc_0.9760_train_loss_0.0603_val_acc_0.8667_val_loss_0.9214 epoch time 23.5873 seconds\n",
      "total time33.0 : 2.0003137588500977\n"
     ]
    },
    {
     "name": "stderr",
     "output_type": "stream",
     "text": [
      "loss: 0.0246, accuracy: 1.0000: 100%|██████████| 1000/1000 [00:21<00:00, 46.15it/s]\n",
      "loss: 1.2113, accuracy: 0.7900: 100%|██████████| 158/158 [00:01<00:00, 95.96it/s]\n",
      "loss: 0.0381, accuracy: 0.9800:   1%|          | 9/1000 [00:00<00:19, 50.08it/s]"
     ]
    },
    {
     "name": "stdout",
     "output_type": "stream",
     "text": [
      "Epoch 84: train_acc_0.9775_train_loss_0.0566_val_acc_0.8669_val_loss_0.9501 epoch time 23.6207 seconds\n",
      "total time33.0 : 25.620989084243774\n"
     ]
    },
    {
     "name": "stderr",
     "output_type": "stream",
     "text": [
      "loss: 0.0473, accuracy: 0.9800: 100%|██████████| 1000/1000 [00:21<00:00, 45.97it/s]\n",
      "loss: 0.8377, accuracy: 0.8700: 100%|██████████| 158/158 [00:01<00:00, 97.39it/s]\n",
      "loss: 0.0372, accuracy: 0.9800:   1%|          | 9/1000 [00:00<00:20, 47.42it/s]"
     ]
    },
    {
     "name": "stdout",
     "output_type": "stream",
     "text": [
      "Epoch 85: train_acc_0.9765_train_loss_0.0595_val_acc_0.8647_val_loss_0.9583 epoch time 23.5133 seconds\n",
      "total time33.0 : 49.134272813797\n"
     ]
    },
    {
     "name": "stderr",
     "output_type": "stream",
     "text": [
      "loss: 0.0708, accuracy: 0.9700: 100%|██████████| 1000/1000 [00:21<00:00, 46.22it/s]\n",
      "loss: 0.5388, accuracy: 0.9100: 100%|██████████| 158/158 [00:01<00:00, 95.44it/s]\n",
      "loss: 0.0449, accuracy: 0.9800:   1%|          | 9/1000 [00:00<00:20, 48.22it/s]"
     ]
    },
    {
     "name": "stdout",
     "output_type": "stream",
     "text": [
      "Epoch 86: train_acc_0.9775_train_loss_0.0560_val_acc_0.8643_val_loss_0.9313 epoch time 23.6195 seconds\n",
      "total time34.0 : 12.753785610198975\n"
     ]
    },
    {
     "name": "stderr",
     "output_type": "stream",
     "text": [
      "loss: 0.0419, accuracy: 0.9800: 100%|██████████| 1000/1000 [00:21<00:00, 46.58it/s]\n",
      "loss: 1.6942, accuracy: 0.8200: 100%|██████████| 158/158 [00:01<00:00, 100.19it/s]\n",
      "loss: 0.0505, accuracy: 0.9700:   1%|          | 9/1000 [00:00<00:20, 47.56it/s]"
     ]
    },
    {
     "name": "stdout",
     "output_type": "stream",
     "text": [
      "Epoch 87: train_acc_0.9780_train_loss_0.0572_val_acc_0.8661_val_loss_0.9580 epoch time 23.6260 seconds\n",
      "total time34.0 : 36.379793643951416\n"
     ]
    },
    {
     "name": "stderr",
     "output_type": "stream",
     "text": [
      "loss: 0.0264, accuracy: 1.0000: 100%|██████████| 1000/1000 [00:21<00:00, 46.29it/s]\n",
      "loss: 0.7870, accuracy: 0.9000: 100%|██████████| 158/158 [00:01<00:00, 95.94it/s]\n",
      "loss: 0.0216, accuracy: 0.9900:   1%|          | 9/1000 [00:00<00:20, 49.16it/s]"
     ]
    },
    {
     "name": "stdout",
     "output_type": "stream",
     "text": [
      "Epoch 88: train_acc_0.9763_train_loss_0.0603_val_acc_0.8684_val_loss_0.9474 epoch time 23.6309 seconds\n",
      "total time35.0 : 0.010715007781982422\n"
     ]
    },
    {
     "name": "stderr",
     "output_type": "stream",
     "text": [
      "loss: 0.0554, accuracy: 0.9700: 100%|██████████| 1000/1000 [00:21<00:00, 48.16it/s]\n",
      "loss: 1.7637, accuracy: 0.8100: 100%|██████████| 158/158 [00:01<00:00, 102.74it/s]\n",
      "loss: 0.0434, accuracy: 0.9800:   1%|          | 9/1000 [00:00<00:20, 47.94it/s]"
     ]
    },
    {
     "name": "stdout",
     "output_type": "stream",
     "text": [
      "Epoch 89: train_acc_0.9795_train_loss_0.0523_val_acc_0.8663_val_loss_0.9584 epoch time 23.4285 seconds\n",
      "total time35.0 : 23.4392147064209\n"
     ]
    },
    {
     "name": "stderr",
     "output_type": "stream",
     "text": [
      "loss: 0.0542, accuracy: 0.9800: 100%|██████████| 1000/1000 [00:21<00:00, 46.22it/s]\n",
      "loss: 0.9420, accuracy: 0.8800: 100%|██████████| 158/158 [00:01<00:00, 96.71it/s] \n",
      "loss: 0.1013, accuracy: 0.9600:   1%|          | 9/1000 [00:00<00:20, 49.35it/s]"
     ]
    },
    {
     "name": "stdout",
     "output_type": "stream",
     "text": [
      "Epoch 90: train_acc_0.9789_train_loss_0.0545_val_acc_0.8690_val_loss_0.9988 epoch time 23.6033 seconds\n",
      "total time35.0 : 47.04248785972595\n"
     ]
    },
    {
     "name": "stderr",
     "output_type": "stream",
     "text": [
      "loss: 0.0438, accuracy: 0.9800: 100%|██████████| 1000/1000 [00:21<00:00, 46.85it/s]\n",
      "loss: 1.1867, accuracy: 0.8800: 100%|██████████| 158/158 [00:01<00:00, 98.17it/s]\n",
      "loss: 0.0758, accuracy: 0.9800:   1%|          | 9/1000 [00:00<00:20, 47.34it/s]"
     ]
    },
    {
     "name": "stdout",
     "output_type": "stream",
     "text": [
      "Epoch 91: train_acc_0.9779_train_loss_0.0574_val_acc_0.8665_val_loss_0.9842 epoch time 23.0909 seconds\n",
      "total time36.0 : 10.133345127105713\n"
     ]
    },
    {
     "name": "stderr",
     "output_type": "stream",
     "text": [
      "loss: 0.0056, accuracy: 1.0000: 100%|██████████| 1000/1000 [00:21<00:00, 46.32it/s]\n",
      "loss: 0.2331, accuracy: 0.9500: 100%|██████████| 158/158 [00:01<00:00, 96.42it/s]\n",
      "loss: 0.0287, accuracy: 0.9800:   1%|          | 9/1000 [00:00<00:19, 49.91it/s]"
     ]
    },
    {
     "name": "stdout",
     "output_type": "stream",
     "text": [
      "Epoch 92: train_acc_0.9782_train_loss_0.0550_val_acc_0.8653_val_loss_1.0267 epoch time 23.4367 seconds\n",
      "total time36.0 : 33.57004976272583\n"
     ]
    },
    {
     "name": "stderr",
     "output_type": "stream",
     "text": [
      "loss: 0.0331, accuracy: 0.9900: 100%|██████████| 1000/1000 [00:21<00:00, 46.52it/s]\n",
      "loss: 0.7421, accuracy: 0.8800: 100%|██████████| 158/158 [00:01<00:00, 98.38it/s] \n",
      "loss: 0.0361, accuracy: 0.9800:   1%|          | 9/1000 [00:00<00:20, 48.44it/s]"
     ]
    },
    {
     "name": "stdout",
     "output_type": "stream",
     "text": [
      "Epoch 93: train_acc_0.9793_train_loss_0.0531_val_acc_0.8672_val_loss_0.9950 epoch time 23.5134 seconds\n",
      "total time36.0 : 57.083407163619995\n"
     ]
    },
    {
     "name": "stderr",
     "output_type": "stream",
     "text": [
      "loss: 0.0538, accuracy: 0.9800: 100%|██████████| 1000/1000 [00:21<00:00, 46.34it/s]\n",
      "loss: 1.3806, accuracy: 0.8400: 100%|██████████| 158/158 [00:01<00:00, 96.64it/s] \n",
      "loss: 0.1293, accuracy: 0.9700:   1%|          | 9/1000 [00:00<00:20, 49.55it/s]"
     ]
    },
    {
     "name": "stdout",
     "output_type": "stream",
     "text": [
      "Epoch 94: train_acc_0.9796_train_loss_0.0523_val_acc_0.8680_val_loss_1.0412 epoch time 23.5039 seconds\n",
      "total time37.0 : 20.587276697158813\n"
     ]
    },
    {
     "name": "stderr",
     "output_type": "stream",
     "text": [
      "loss: 0.0581, accuracy: 0.9800: 100%|██████████| 1000/1000 [00:21<00:00, 46.35it/s]\n",
      "loss: 0.7135, accuracy: 0.9100: 100%|██████████| 158/158 [00:01<00:00, 97.87it/s]\n",
      "loss: 0.0652, accuracy: 0.9600:   1%|          | 9/1000 [00:00<00:20, 47.99it/s]"
     ]
    },
    {
     "name": "stdout",
     "output_type": "stream",
     "text": [
      "Epoch 95: train_acc_0.9813_train_loss_0.0487_val_acc_0.8693_val_loss_0.9799 epoch time 23.5531 seconds\n",
      "total time37.0 : 44.14037752151489\n"
     ]
    },
    {
     "name": "stderr",
     "output_type": "stream",
     "text": [
      "loss: 0.0175, accuracy: 1.0000: 100%|██████████| 1000/1000 [00:21<00:00, 46.53it/s]\n",
      "loss: 1.0211, accuracy: 0.8300: 100%|██████████| 158/158 [00:01<00:00, 99.40it/s] \n",
      "loss: 0.0178, accuracy: 1.0000:   1%|          | 9/1000 [00:00<00:19, 50.80it/s]"
     ]
    },
    {
     "name": "stdout",
     "output_type": "stream",
     "text": [
      "Epoch 96: train_acc_0.9779_train_loss_0.0567_val_acc_0.8650_val_loss_1.0100 epoch time 23.5185 seconds\n",
      "total time38.0 : 7.658881902694702\n"
     ]
    },
    {
     "name": "stderr",
     "output_type": "stream",
     "text": [
      "loss: 0.0697, accuracy: 0.9700: 100%|██████████| 1000/1000 [00:21<00:00, 46.02it/s]\n",
      "loss: 0.3583, accuracy: 0.9200: 100%|██████████| 158/158 [00:01<00:00, 98.11it/s]\n",
      "loss: 0.0655, accuracy: 0.9800:   1%|          | 9/1000 [00:00<00:20, 47.46it/s]"
     ]
    },
    {
     "name": "stdout",
     "output_type": "stream",
     "text": [
      "Epoch 97: train_acc_0.9809_train_loss_0.0504_val_acc_0.8649_val_loss_1.0349 epoch time 23.4766 seconds\n",
      "total time38.0 : 31.13544011116028\n"
     ]
    },
    {
     "name": "stderr",
     "output_type": "stream",
     "text": [
      "loss: 0.0542, accuracy: 0.9800: 100%|██████████| 1000/1000 [00:21<00:00, 46.21it/s]\n",
      "loss: 1.0227, accuracy: 0.8400: 100%|██████████| 158/158 [00:01<00:00, 96.29it/s]\n",
      "loss: 0.0517, accuracy: 0.9800:   1%|          | 9/1000 [00:00<00:20, 48.80it/s]"
     ]
    },
    {
     "name": "stdout",
     "output_type": "stream",
     "text": [
      "Epoch 98: train_acc_0.9798_train_loss_0.0520_val_acc_0.8641_val_loss_1.0374 epoch time 23.5885 seconds\n",
      "total time38.0 : 54.72390627861023\n"
     ]
    },
    {
     "name": "stderr",
     "output_type": "stream",
     "text": [
      "loss: 0.0352, accuracy: 0.9800: 100%|██████████| 1000/1000 [00:21<00:00, 46.36it/s]\n",
      "loss: 1.5222, accuracy: 0.7900: 100%|██████████| 158/158 [00:01<00:00, 97.03it/s]\n",
      "loss: 0.1928, accuracy: 0.9000:  12%|█▏        | 19/158 [00:00<00:01, 103.26it/s]"
     ]
    },
    {
     "name": "stdout",
     "output_type": "stream",
     "text": [
      "Epoch 99: train_acc_0.9811_train_loss_0.0497_val_acc_0.8621_val_loss_1.0718 epoch time 23.6377 seconds\n",
      "total time39.0 : 18.361652374267578\n",
      "Generating test set evaluation metrics\n"
     ]
    },
    {
     "name": "stderr",
     "output_type": "stream",
     "text": [
      "loss: 0.7423, accuracy: 0.8200: 100%|██████████| 158/158 [00:01<00:00, 92.88it/s]\n"
     ]
    },
    {
     "name": "stdout",
     "output_type": "stream",
     "text": [
      "finish\n"
     ]
    },
    {
     "data": {
      "image/png": "[encoded data removed]",
      "text/plain": [
       "<Figure size 576x288 with 1 Axes>"
      ]
     },
     "metadata": {
      "needs_background": "light"
     },
     "output_type": "display_data"
    },
    {
     "data": {
      "image/png": "[encoded data removed]",
      "text/plain": [
       "<Figure size 576x288 with 1 Axes>"
      ]
     },
     "metadata": {
      "needs_background": "light"
     },
     "output_type": "display_data"
    }
   ],
   "source": [
    "batch_size = 100\n",
    "image_num_channels = 1\n",
    "image_height = 28\n",
    "image_width = 28\n",
    "dim_reduction_idx = [2,2,2,2]\n",
    "dim_reduction_type = ['strided_convolution', 'dilated_convolution', 'max_pooling', 'avg_pooling']\n",
    "num_filters = 64\n",
    "num_layers = [1,2,3,4]\n",
    "experiment_name = []\n",
    "for layer in num_layers:\n",
    "    experiment_name.append(\"maxpooling_convolution_layer_{}\".format(layer))\n",
    "num_epochs = 100\n",
    "weight_decay_coefficient = 1e-05\n",
    "seed = 9112018\n",
    "use_gpu = True\n",
    "\n",
    "rng = np.random.RandomState(seed=seed)\n",
    "train_data = data_providers.EMNISTDataProvider('train', batch_size=batch_size, rng=rng)\n",
    "val_data = data_providers.EMNISTDataProvider('valid', batch_size=batch_size, rng=rng)\n",
    "test_data = data_providers.EMNISTDataProvider('test', batch_size=batch_size, rng=rng)\n",
    "\n",
    "for reduction_idx,experiment,layer in zip(dim_reduction_idx,experiment_name,num_layers):\n",
    "    \n",
    "    custom_conv_net = ConvolutionalNetwork(\n",
    "        input_shape=(batch_size, image_num_channels, image_height, image_width),\n",
    "        dim_reduction_type=dim_reduction_type[reduction_idx],\n",
    "        num_output_classes=47, num_filters=num_filters, num_layers=layer, use_bias=True)\n",
    "\n",
    "    conv_experiment = ExperimentBuilder(network_model=custom_conv_net,\n",
    "                                    experiment_name=experiment,\n",
    "                                    num_epochs=num_epochs,\n",
    "                                    weight_decay_coefficient=weight_decay_coefficient,\n",
    "                                    use_gpu=use_gpu,\n",
    "                                    train_data=train_data, val_data=val_data, test_data=test_data)\n",
    "    print(custom_conv_net)\n",
    "    total_losses = conv_experiment.run_experiment()\n",
    "    print('finish')\n",
    "    plot_stats_in_graph(total_losses[0])"
   ]
  },
  {
   "cell_type": "code",
   "execution_count": 6,
   "metadata": {
    "scrolled": false
   },
   "outputs": [
    {
     "data": {
      "image/png": "[encoded data removed]",
      "text/plain": [
       "<Figure size 576x288 with 1 Axes>"
      ]
     },
     "metadata": {
      "needs_background": "light"
     },
     "output_type": "display_data"
    },
    {
     "data": {
      "image/png": "[encoded data removed]",
      "text/plain": [
       "<Figure size 576x288 with 1 Axes>"
      ]
     },
     "metadata": {
      "needs_background": "light"
     },
     "output_type": "display_data"
    }
   ],
   "source": [
    "plot_stats_in_graph(total_losses[0])"
   ]
  },
  {
   "cell_type": "code",
   "execution_count": 7,
   "metadata": {},
   "outputs": [
    {
     "name": "stdout",
     "output_type": "stream",
     "text": [
      "KeysView(<numpy.lib.npyio.NpzFile object at 0x7f653d9e6e80>)\n",
      "KeysView(<numpy.lib.npyio.NpzFile object at 0x7f653d90a2e8>)\n",
      "KeysView(<numpy.lib.npyio.NpzFile object at 0x7f653d9e6e80>)\n"
     ]
    },
    {
     "name": "stderr",
     "output_type": "stream",
     "text": [
      "loss: 3.8637, accuracy: 0.0300:   1%|          | 12/1000 [00:00<00:10, 93.32it/s]"
     ]
    },
    {
     "name": "stdout",
     "output_type": "stream",
     "text": [
      "Building basic block of ConvolutionalNetwork using input shape (100, 1, 28, 28)\n",
      "torch.Size([100, 64, 28, 28])\n",
      "torch.Size([100, 64, 15, 15])\n",
      "shape before final linear layer torch.Size([100, 64, 2, 2])\n",
      "Block is built, output volume is torch.Size([100, 47])\n",
      "use GPU\n",
      "ConvolutionalNetwork(\n",
      "  (layer_dict): ModuleDict(\n",
      "    (conv_0): Conv2d(1, 64, kernel_size=(3, 3), stride=(1, 1), padding=(1, 1))\n",
      "    (dim_reduction_avg_pool_0): AvgPool2d(kernel_size=2, stride=2, padding=1)\n",
      "  )\n",
      "  (logit_linear_layer): Linear(in_features=256, out_features=47, bias=True)\n",
      ")\n"
     ]
    },
    {
     "name": "stderr",
     "output_type": "stream",
     "text": [
      "loss: 2.5991, accuracy: 0.3400: 100%|██████████| 1000/1000 [00:11<00:00, 82.97it/s]\n",
      "loss: 2.5805, accuracy: 0.2900: 100%|██████████| 158/158 [00:01<00:00, 131.61it/s]\n",
      "loss: 2.5265, accuracy: 0.2800:   2%|▏         | 16/1000 [00:00<00:11, 85.21it/s]"
     ]
    },
    {
     "name": "stdout",
     "output_type": "stream",
     "text": [
      "Epoch 0: train_acc_0.2068_train_loss_3.0206_val_acc_0.3120_val_loss_2.6337 epoch time 13.5512 seconds\n",
      "total time0.0 : 13.551249027252197\n"
     ]
    },
    {
     "name": "stderr",
     "output_type": "stream",
     "text": [
      "loss: 2.1463, accuracy: 0.4600: 100%|██████████| 1000/1000 [00:11<00:00, 84.25it/s]\n",
      "loss: 2.2874, accuracy: 0.4000: 100%|██████████| 158/158 [00:01<00:00, 132.61it/s]\n",
      "loss: 2.3166, accuracy: 0.4200:   2%|▏         | 17/1000 [00:00<00:10, 91.80it/s]"
     ]
    },
    {
     "name": "stdout",
     "output_type": "stream",
     "text": [
      "Epoch 1: train_acc_0.3759_train_loss_2.3949_val_acc_0.4575_val_loss_2.1455 epoch time 13.4887 seconds\n",
      "total time0.0 : 27.039982795715332\n"
     ]
    },
    {
     "name": "stderr",
     "output_type": "stream",
     "text": [
      "loss: 1.6284, accuracy: 0.5900: 100%|██████████| 1000/1000 [00:12<00:00, 82.95it/s]\n",
      "loss: 1.9044, accuracy: 0.5400: 100%|██████████| 158/158 [00:01<00:00, 133.95it/s]\n",
      "loss: 2.0053, accuracy: 0.5000:   2%|▏         | 17/1000 [00:00<00:10, 93.91it/s]"
     ]
    },
    {
     "name": "stdout",
     "output_type": "stream",
     "text": [
      "Epoch 2: train_acc_0.5018_train_loss_1.9556_val_acc_0.5448_val_loss_1.7693 epoch time 13.3728 seconds\n",
      "total time0.0 : 40.41274356842041\n"
     ]
    },
    {
     "name": "stderr",
     "output_type": "stream",
     "text": [
      "loss: 1.6806, accuracy: 0.5300: 100%|██████████| 1000/1000 [00:12<00:00, 83.24it/s]\n",
      "loss: 1.4279, accuracy: 0.6100: 100%|██████████| 158/158 [00:01<00:00, 133.98it/s]\n",
      "loss: 1.2806, accuracy: 0.6900:   2%|▏         | 18/1000 [00:00<00:10, 94.51it/s]"
     ]
    },
    {
     "name": "stdout",
     "output_type": "stream",
     "text": [
      "Epoch 3: train_acc_0.5760_train_loss_1.6415_val_acc_0.6012_val_loss_1.5111 epoch time 13.3323 seconds\n",
      "total time0.0 : 53.745049238204956\n"
     ]
    },
    {
     "name": "stderr",
     "output_type": "stream",
     "text": [
      "loss: 1.3916, accuracy: 0.6500: 100%|██████████| 1000/1000 [00:11<00:00, 83.97it/s]\n",
      "loss: 1.6141, accuracy: 0.5900: 100%|██████████| 158/158 [00:01<00:00, 140.31it/s]\n",
      "loss: 1.4963, accuracy: 0.6300:   2%|▏         | 17/1000 [00:00<00:10, 91.69it/s]"
     ]
    },
    {
     "name": "stdout",
     "output_type": "stream",
     "text": [
      "Epoch 4: train_acc_0.6210_train_loss_1.4300_val_acc_0.6444_val_loss_1.3336 epoch time 13.1738 seconds\n",
      "total time1.0 : 6.9188010692596436\n"
     ]
    },
    {
     "name": "stderr",
     "output_type": "stream",
     "text": [
      "loss: 1.2391, accuracy: 0.6700: 100%|██████████| 1000/1000 [00:11<00:00, 84.13it/s]\n",
      "loss: 1.1722, accuracy: 0.6500: 100%|██████████| 158/158 [00:01<00:00, 132.22it/s]\n",
      "loss: 1.1843, accuracy: 0.6900:   2%|▏         | 17/1000 [00:00<00:10, 91.96it/s]"
     ]
    },
    {
     "name": "stdout",
     "output_type": "stream",
     "text": [
      "Epoch 5: train_acc_0.6508_train_loss_1.2865_val_acc_0.6658_val_loss_1.2164 epoch time 13.2199 seconds\n",
      "total time1.0 : 20.138656616210938\n"
     ]
    },
    {
     "name": "stderr",
     "output_type": "stream",
     "text": [
      "loss: 1.1853, accuracy: 0.7100: 100%|██████████| 1000/1000 [00:11<00:00, 83.47it/s]\n",
      "loss: 0.9565, accuracy: 0.7500: 100%|██████████| 158/158 [00:01<00:00, 132.75it/s]\n",
      "loss: 1.5931, accuracy: 0.4800:   2%|▏         | 17/1000 [00:00<00:10, 92.25it/s]"
     ]
    },
    {
     "name": "stdout",
     "output_type": "stream",
     "text": [
      "Epoch 6: train_acc_0.6703_train_loss_1.1866_val_acc_0.6836_val_loss_1.1338 epoch time 13.3109 seconds\n",
      "total time1.0 : 33.44954252243042\n"
     ]
    },
    {
     "name": "stderr",
     "output_type": "stream",
     "text": [
      "loss: 1.3270, accuracy: 0.6200: 100%|██████████| 1000/1000 [00:11<00:00, 87.29it/s]\n",
      "loss: 1.4013, accuracy: 0.6000: 100%|██████████| 158/158 [00:01<00:00, 145.16it/s]\n",
      "loss: 1.1507, accuracy: 0.6600:   2%|▏         | 18/1000 [00:00<00:10, 96.03it/s]"
     ]
    },
    {
     "name": "stdout",
     "output_type": "stream",
     "text": [
      "Epoch 7: train_acc_0.6829_train_loss_1.1186_val_acc_0.6936_val_loss_1.0763 epoch time 12.6830 seconds\n",
      "total time1.0 : 46.132572650909424\n"
     ]
    },
    {
     "name": "stderr",
     "output_type": "stream",
     "text": [
      "loss: 0.8390, accuracy: 0.7800: 100%|██████████| 1000/1000 [00:11<00:00, 85.32it/s]\n",
      "loss: 0.9674, accuracy: 0.7300: 100%|██████████| 158/158 [00:01<00:00, 134.11it/s]\n",
      "loss: 1.5155, accuracy: 0.5400:   2%|▏         | 17/1000 [00:00<00:10, 95.36it/s]"
     ]
    },
    {
     "name": "stdout",
     "output_type": "stream",
     "text": [
      "Epoch 8: train_acc_0.6925_train_loss_1.0685_val_acc_0.7015_val_loss_1.0347 epoch time 13.0390 seconds\n",
      "total time1.0 : 59.17159700393677\n"
     ]
    },
    {
     "name": "stderr",
     "output_type": "stream",
     "text": [
      "loss: 0.9340, accuracy: 0.7300: 100%|██████████| 1000/1000 [00:11<00:00, 86.77it/s]\n",
      "loss: 0.9385, accuracy: 0.7900: 100%|██████████| 158/158 [00:01<00:00, 135.26it/s]\n",
      "loss: 0.8686, accuracy: 0.7100:   2%|▏         | 17/1000 [00:00<00:10, 94.10it/s]"
     ]
    },
    {
     "name": "stdout",
     "output_type": "stream",
     "text": [
      "Epoch 9: train_acc_0.7006_train_loss_1.0317_val_acc_0.7042_val_loss_1.0057 epoch time 13.0489 seconds\n",
      "total time2.0 : 12.220513582229614\n"
     ]
    },
    {
     "name": "stderr",
     "output_type": "stream",
     "text": [
      "loss: 0.7921, accuracy: 0.7500: 100%|██████████| 1000/1000 [00:11<00:00, 85.14it/s]\n",
      "loss: 0.9664, accuracy: 0.7300: 100%|██████████| 158/158 [00:01<00:00, 135.04it/s]\n",
      "loss: 1.2082, accuracy: 0.6400:   2%|▏         | 18/1000 [00:00<00:10, 95.66it/s]"
     ]
    },
    {
     "name": "stdout",
     "output_type": "stream",
     "text": [
      "Epoch 10: train_acc_0.7050_train_loss_1.0032_val_acc_0.7154_val_loss_0.9719 epoch time 13.0552 seconds\n",
      "total time2.0 : 25.275667905807495\n"
     ]
    },
    {
     "name": "stderr",
     "output_type": "stream",
     "text": [
      "loss: 0.8958, accuracy: 0.7500: 100%|██████████| 1000/1000 [00:11<00:00, 85.55it/s]\n",
      "loss: 0.9176, accuracy: 0.7500: 100%|██████████| 158/158 [00:01<00:00, 134.00it/s]\n",
      "loss: 0.8986, accuracy: 0.6900:   2%|▏         | 17/1000 [00:00<00:10, 92.28it/s]"
     ]
    },
    {
     "name": "stdout",
     "output_type": "stream",
     "text": [
      "Epoch 11: train_acc_0.7102_train_loss_0.9812_val_acc_0.7141_val_loss_0.9598 epoch time 13.0084 seconds\n",
      "total time2.0 : 38.2841157913208\n"
     ]
    },
    {
     "name": "stderr",
     "output_type": "stream",
     "text": [
      "loss: 0.8978, accuracy: 0.7300: 100%|██████████| 1000/1000 [00:11<00:00, 85.20it/s]\n",
      "loss: 0.7880, accuracy: 0.7500: 100%|██████████| 158/158 [00:01<00:00, 136.33it/s]\n",
      "loss: 0.9994, accuracy: 0.7700:   2%|▏         | 17/1000 [00:00<00:10, 92.68it/s]"
     ]
    },
    {
     "name": "stdout",
     "output_type": "stream",
     "text": [
      "Epoch 12: train_acc_0.7143_train_loss_0.9626_val_acc_0.7182_val_loss_0.9430 epoch time 13.0361 seconds\n",
      "total time2.0 : 51.32021880149841\n"
     ]
    },
    {
     "name": "stderr",
     "output_type": "stream",
     "text": [
      "loss: 0.8483, accuracy: 0.7600: 100%|██████████| 1000/1000 [00:11<00:00, 85.42it/s]\n",
      "loss: 0.7877, accuracy: 0.7500: 100%|██████████| 158/158 [00:01<00:00, 137.65it/s]\n",
      "loss: 0.7628, accuracy: 0.7800:   2%|▏         | 18/1000 [00:00<00:10, 97.05it/s]"
     ]
    },
    {
     "name": "stdout",
     "output_type": "stream",
     "text": [
      "Epoch 13: train_acc_0.7168_train_loss_0.9476_val_acc_0.7262_val_loss_0.9249 epoch time 13.0002 seconds\n",
      "total time3.0 : 4.320398330688477\n"
     ]
    },
    {
     "name": "stderr",
     "output_type": "stream",
     "text": [
      "loss: 0.8825, accuracy: 0.7400: 100%|██████████| 1000/1000 [00:11<00:00, 86.35it/s]\n",
      "loss: 1.1012, accuracy: 0.6900: 100%|██████████| 158/158 [00:01<00:00, 136.68it/s]\n",
      "loss: 0.8975, accuracy: 0.6800:   2%|▏         | 18/1000 [00:00<00:10, 97.62it/s]"
     ]
    },
    {
     "name": "stdout",
     "output_type": "stream",
     "text": [
      "Epoch 14: train_acc_0.7204_train_loss_0.9355_val_acc_0.7247_val_loss_0.9142 epoch time 12.8759 seconds\n",
      "total time3.0 : 17.1962730884552\n"
     ]
    },
    {
     "name": "stderr",
     "output_type": "stream",
     "text": [
      "loss: 0.7869, accuracy: 0.7200: 100%|██████████| 1000/1000 [00:11<00:00, 85.91it/s]\n",
      "loss: 0.8105, accuracy: 0.7500: 100%|██████████| 158/158 [00:01<00:00, 135.67it/s]\n",
      "loss: 0.9810, accuracy: 0.6500:   2%|▏         | 18/1000 [00:00<00:10, 96.31it/s]"
     ]
    },
    {
     "name": "stdout",
     "output_type": "stream",
     "text": [
      "Epoch 15: train_acc_0.7221_train_loss_0.9250_val_acc_0.7245_val_loss_0.9064 epoch time 12.9448 seconds\n",
      "total time3.0 : 30.141114473342896\n"
     ]
    },
    {
     "name": "stderr",
     "output_type": "stream",
     "text": [
      "loss: 1.0600, accuracy: 0.7000: 100%|██████████| 1000/1000 [00:11<00:00, 85.86it/s]\n",
      "loss: 0.9973, accuracy: 0.6800: 100%|██████████| 158/158 [00:01<00:00, 136.02it/s]\n",
      "loss: 1.0571, accuracy: 0.7200:   2%|▏         | 17/1000 [00:00<00:10, 96.61it/s]"
     ]
    },
    {
     "name": "stdout",
     "output_type": "stream",
     "text": [
      "Epoch 16: train_acc_0.7251_train_loss_0.9153_val_acc_0.7300_val_loss_0.8999 epoch time 12.9488 seconds\n",
      "total time3.0 : 43.08990693092346\n"
     ]
    },
    {
     "name": "stderr",
     "output_type": "stream",
     "text": [
      "loss: 0.7901, accuracy: 0.7000: 100%|██████████| 1000/1000 [00:11<00:00, 85.50it/s]\n",
      "loss: 1.1363, accuracy: 0.6300: 100%|██████████| 158/158 [00:01<00:00, 136.00it/s]\n",
      "loss: 0.6794, accuracy: 0.8100:   2%|▏         | 18/1000 [00:00<00:10, 98.19it/s]"
     ]
    },
    {
     "name": "stdout",
     "output_type": "stream",
     "text": [
      "Epoch 17: train_acc_0.7264_train_loss_0.9063_val_acc_0.7292_val_loss_0.8932 epoch time 12.9965 seconds\n",
      "total time3.0 : 56.086453437805176\n"
     ]
    },
    {
     "name": "stderr",
     "output_type": "stream",
     "text": [
      "loss: 0.8580, accuracy: 0.7700: 100%|██████████| 1000/1000 [00:11<00:00, 85.42it/s]\n",
      "loss: 0.8324, accuracy: 0.7100: 100%|██████████| 158/158 [00:01<00:00, 134.67it/s]\n",
      "loss: 0.9683, accuracy: 0.7100:   2%|▏         | 18/1000 [00:00<00:10, 93.93it/s]"
     ]
    },
    {
     "name": "stdout",
     "output_type": "stream",
     "text": [
      "Epoch 18: train_acc_0.7295_train_loss_0.8982_val_acc_0.7311_val_loss_0.8802 epoch time 13.0181 seconds\n",
      "total time4.0 : 9.104549407958984\n"
     ]
    },
    {
     "name": "stderr",
     "output_type": "stream",
     "text": [
      "loss: 0.8166, accuracy: 0.7700: 100%|██████████| 1000/1000 [00:11<00:00, 85.88it/s]\n",
      "loss: 0.7907, accuracy: 0.7800: 100%|██████████| 158/158 [00:01<00:00, 136.51it/s]\n",
      "loss: 0.7193, accuracy: 0.7600:   2%|▏         | 18/1000 [00:00<00:10, 96.46it/s]"
     ]
    },
    {
     "name": "stdout",
     "output_type": "stream",
     "text": [
      "Epoch 19: train_acc_0.7304_train_loss_0.8925_val_acc_0.7294_val_loss_0.8802 epoch time 12.9408 seconds\n",
      "total time4.0 : 22.045334100723267\n"
     ]
    },
    {
     "name": "stderr",
     "output_type": "stream",
     "text": [
      "loss: 1.0101, accuracy: 0.7600: 100%|██████████| 1000/1000 [00:11<00:00, 85.82it/s]\n",
      "loss: 0.8190, accuracy: 0.6800: 100%|██████████| 158/158 [00:01<00:00, 135.76it/s]\n",
      "loss: 0.8327, accuracy: 0.7300:   2%|▏         | 17/1000 [00:00<00:10, 94.18it/s]"
     ]
    },
    {
     "name": "stdout",
     "output_type": "stream",
     "text": [
      "Epoch 20: train_acc_0.7318_train_loss_0.8866_val_acc_0.7346_val_loss_0.8711 epoch time 12.9549 seconds\n",
      "total time4.0 : 35.00019407272339\n"
     ]
    },
    {
     "name": "stderr",
     "output_type": "stream",
     "text": [
      "loss: 0.6895, accuracy: 0.8500: 100%|██████████| 1000/1000 [00:11<00:00, 86.82it/s]\n",
      "loss: 0.7712, accuracy: 0.7800: 100%|██████████| 158/158 [00:01<00:00, 134.44it/s]\n",
      "loss: 0.5798, accuracy: 0.7800:   2%|▏         | 18/1000 [00:00<00:10, 92.24it/s]"
     ]
    },
    {
     "name": "stdout",
     "output_type": "stream",
     "text": [
      "Epoch 21: train_acc_0.7321_train_loss_0.8808_val_acc_0.7338_val_loss_0.8669 epoch time 12.8333 seconds\n",
      "total time4.0 : 47.83351969718933\n"
     ]
    },
    {
     "name": "stderr",
     "output_type": "stream",
     "text": [
      "loss: 0.9566, accuracy: 0.6900: 100%|██████████| 1000/1000 [00:11<00:00, 85.59it/s]\n",
      "loss: 0.8420, accuracy: 0.7500: 100%|██████████| 158/158 [00:01<00:00, 135.11it/s]\n",
      "loss: 0.7069, accuracy: 0.7900:   2%|▏         | 18/1000 [00:00<00:10, 97.93it/s]"
     ]
    },
    {
     "name": "stdout",
     "output_type": "stream",
     "text": [
      "Epoch 22: train_acc_0.7357_train_loss_0.8743_val_acc_0.7383_val_loss_0.8626 epoch time 12.9937 seconds\n",
      "total time5.0 : 0.8272004127502441\n"
     ]
    },
    {
     "name": "stderr",
     "output_type": "stream",
     "text": [
      "loss: 0.8946, accuracy: 0.7500: 100%|██████████| 1000/1000 [00:11<00:00, 85.10it/s]\n",
      "loss: 0.8907, accuracy: 0.7500: 100%|██████████| 158/158 [00:01<00:00, 154.30it/s]\n",
      "loss: 0.7868, accuracy: 0.7800:   2%|▏         | 18/1000 [00:00<00:09, 99.79it/s]"
     ]
    },
    {
     "name": "stdout",
     "output_type": "stream",
     "text": [
      "Epoch 23: train_acc_0.7367_train_loss_0.8713_val_acc_0.7359_val_loss_0.8568 epoch time 12.9436 seconds\n",
      "total time5.0 : 13.770830154418945\n"
     ]
    },
    {
     "name": "stderr",
     "output_type": "stream",
     "text": [
      "loss: 1.2261, accuracy: 0.7000: 100%|██████████| 1000/1000 [00:11<00:00, 85.63it/s]\n",
      "loss: 0.6942, accuracy: 0.7000: 100%|██████████| 158/158 [00:01<00:00, 139.14it/s]\n",
      "loss: 0.8334, accuracy: 0.7600:   2%|▏         | 19/1000 [00:00<00:09, 103.41it/s]"
     ]
    },
    {
     "name": "stdout",
     "output_type": "stream",
     "text": [
      "Epoch 24: train_acc_0.7369_train_loss_0.8658_val_acc_0.7386_val_loss_0.8565 epoch time 12.9773 seconds\n",
      "total time5.0 : 26.7481746673584\n"
     ]
    },
    {
     "name": "stderr",
     "output_type": "stream",
     "text": [
      "loss: 0.7901, accuracy: 0.7500: 100%|██████████| 1000/1000 [00:11<00:00, 85.97it/s]\n",
      "loss: 0.9019, accuracy: 0.7000: 100%|██████████| 158/158 [00:01<00:00, 134.62it/s]\n",
      "loss: 0.6707, accuracy: 0.7800:   2%|▏         | 18/1000 [00:00<00:10, 92.69it/s]"
     ]
    },
    {
     "name": "stdout",
     "output_type": "stream",
     "text": [
      "Epoch 25: train_acc_0.7383_train_loss_0.8617_val_acc_0.7392_val_loss_0.8545 epoch time 12.9429 seconds\n",
      "total time5.0 : 39.69110655784607\n"
     ]
    },
    {
     "name": "stderr",
     "output_type": "stream",
     "text": [
      "loss: 0.9303, accuracy: 0.7200: 100%|██████████| 1000/1000 [00:11<00:00, 85.37it/s]\n",
      "loss: 0.8605, accuracy: 0.7600: 100%|██████████| 158/158 [00:01<00:00, 134.35it/s]\n",
      "loss: 0.8785, accuracy: 0.6600:   2%|▏         | 18/1000 [00:00<00:10, 97.56it/s]"
     ]
    },
    {
     "name": "stdout",
     "output_type": "stream",
     "text": [
      "Epoch 26: train_acc_0.7404_train_loss_0.8591_val_acc_0.7389_val_loss_0.8458 epoch time 13.0307 seconds\n",
      "total time5.0 : 52.72176384925842\n"
     ]
    },
    {
     "name": "stderr",
     "output_type": "stream",
     "text": [
      "loss: 0.8220, accuracy: 0.7300: 100%|██████████| 1000/1000 [00:11<00:00, 85.61it/s]\n",
      "loss: 0.8023, accuracy: 0.7400: 100%|██████████| 158/158 [00:01<00:00, 134.93it/s]\n",
      "loss: 0.9115, accuracy: 0.7300:   2%|▏         | 17/1000 [00:00<00:10, 94.33it/s]"
     ]
    },
    {
     "name": "stdout",
     "output_type": "stream",
     "text": [
      "Epoch 27: train_acc_0.7396_train_loss_0.8548_val_acc_0.7404_val_loss_0.8499 epoch time 12.9931 seconds\n",
      "total time6.0 : 5.714865446090698\n"
     ]
    },
    {
     "name": "stderr",
     "output_type": "stream",
     "text": [
      "loss: 0.9005, accuracy: 0.7500: 100%|██████████| 1000/1000 [00:11<00:00, 87.04it/s]\n",
      "loss: 0.7804, accuracy: 0.7700: 100%|██████████| 158/158 [00:01<00:00, 138.90it/s]\n",
      "loss: 0.8778, accuracy: 0.7200:   2%|▏         | 18/1000 [00:00<00:09, 100.70it/s]"
     ]
    },
    {
     "name": "stdout",
     "output_type": "stream",
     "text": [
      "Epoch 28: train_acc_0.7398_train_loss_0.8517_val_acc_0.7392_val_loss_0.8450 epoch time 12.7882 seconds\n",
      "total time6.0 : 18.503069400787354\n"
     ]
    },
    {
     "name": "stderr",
     "output_type": "stream",
     "text": [
      "loss: 1.0257, accuracy: 0.7100: 100%|██████████| 1000/1000 [00:11<00:00, 85.59it/s]\n",
      "loss: 0.7225, accuracy: 0.7500: 100%|██████████| 158/158 [00:01<00:00, 137.89it/s]\n",
      "loss: 0.6842, accuracy: 0.7600:   2%|▏         | 18/1000 [00:00<00:09, 98.48it/s]"
     ]
    },
    {
     "name": "stdout",
     "output_type": "stream",
     "text": [
      "Epoch 29: train_acc_0.7422_train_loss_0.8481_val_acc_0.7422_val_loss_0.8395 epoch time 12.9781 seconds\n",
      "total time6.0 : 31.481158018112183\n"
     ]
    },
    {
     "name": "stderr",
     "output_type": "stream",
     "text": [
      "loss: 0.6282, accuracy: 0.8200: 100%|██████████| 1000/1000 [00:11<00:00, 85.63it/s]\n",
      "loss: 0.7172, accuracy: 0.8100: 100%|██████████| 158/158 [00:01<00:00, 136.72it/s]\n",
      "loss: 0.8834, accuracy: 0.7400:   2%|▏         | 18/1000 [00:00<00:10, 94.98it/s]"
     ]
    },
    {
     "name": "stdout",
     "output_type": "stream",
     "text": [
      "Epoch 30: train_acc_0.7432_train_loss_0.8446_val_acc_0.7430_val_loss_0.8444 epoch time 12.9713 seconds\n",
      "total time6.0 : 44.45248603820801\n"
     ]
    },
    {
     "name": "stderr",
     "output_type": "stream",
     "text": [
      "loss: 0.8019, accuracy: 0.7700: 100%|██████████| 1000/1000 [00:11<00:00, 89.37it/s]\n",
      "loss: 0.6625, accuracy: 0.8300: 100%|██████████| 158/158 [00:01<00:00, 143.53it/s]\n",
      "loss: 0.6750, accuracy: 0.8000:   2%|▏         | 18/1000 [00:00<00:10, 94.34it/s]"
     ]
    },
    {
     "name": "stdout",
     "output_type": "stream",
     "text": [
      "Epoch 31: train_acc_0.7436_train_loss_0.8418_val_acc_0.7463_val_loss_0.8337 epoch time 12.4293 seconds\n",
      "total time6.0 : 56.88174104690552\n"
     ]
    },
    {
     "name": "stderr",
     "output_type": "stream",
     "text": [
      "loss: 0.9983, accuracy: 0.6600: 100%|██████████| 1000/1000 [00:11<00:00, 86.38it/s]\n",
      "loss: 0.8698, accuracy: 0.7900: 100%|██████████| 158/158 [00:01<00:00, 134.84it/s]\n",
      "loss: 0.6700, accuracy: 0.7400:   2%|▏         | 18/1000 [00:00<00:10, 96.90it/s]"
     ]
    },
    {
     "name": "stdout",
     "output_type": "stream",
     "text": [
      "Epoch 32: train_acc_0.7449_train_loss_0.8387_val_acc_0.7434_val_loss_0.8270 epoch time 12.8903 seconds\n",
      "total time7.0 : 9.772014379501343\n"
     ]
    },
    {
     "name": "stderr",
     "output_type": "stream",
     "text": [
      "loss: 0.8839, accuracy: 0.7000: 100%|██████████| 1000/1000 [00:11<00:00, 86.68it/s]\n",
      "loss: 0.8004, accuracy: 0.7500: 100%|██████████| 158/158 [00:01<00:00, 136.81it/s]\n",
      "loss: 0.8333, accuracy: 0.7600:   2%|▏         | 18/1000 [00:00<00:10, 96.85it/s]"
     ]
    },
    {
     "name": "stdout",
     "output_type": "stream",
     "text": [
      "Epoch 33: train_acc_0.7457_train_loss_0.8363_val_acc_0.7442_val_loss_0.8266 epoch time 12.8298 seconds\n",
      "total time7.0 : 22.60186243057251\n"
     ]
    },
    {
     "name": "stderr",
     "output_type": "stream",
     "text": [
      "loss: 0.9336, accuracy: 0.7000: 100%|██████████| 1000/1000 [00:11<00:00, 86.30it/s]\n",
      "loss: 0.8846, accuracy: 0.7300: 100%|██████████| 158/158 [00:01<00:00, 135.04it/s]\n",
      "loss: 0.7820, accuracy: 0.7300:   2%|▏         | 18/1000 [00:00<00:09, 98.83it/s]"
     ]
    },
    {
     "name": "stdout",
     "output_type": "stream",
     "text": [
      "Epoch 34: train_acc_0.7468_train_loss_0.8331_val_acc_0.7475_val_loss_0.8296 epoch time 12.8966 seconds\n",
      "total time7.0 : 35.49842810630798\n"
     ]
    },
    {
     "name": "stderr",
     "output_type": "stream",
     "text": [
      "loss: 1.1893, accuracy: 0.6500: 100%|██████████| 1000/1000 [00:11<00:00, 86.03it/s]\n",
      "loss: 0.8439, accuracy: 0.7800: 100%|██████████| 158/158 [00:01<00:00, 136.21it/s]\n",
      "loss: 0.5192, accuracy: 0.8400:   2%|▏         | 17/1000 [00:00<00:10, 92.17it/s]"
     ]
    },
    {
     "name": "stdout",
     "output_type": "stream",
     "text": [
      "Epoch 35: train_acc_0.7478_train_loss_0.8312_val_acc_0.7476_val_loss_0.8212 epoch time 12.9252 seconds\n",
      "total time7.0 : 48.423614501953125\n"
     ]
    },
    {
     "name": "stderr",
     "output_type": "stream",
     "text": [
      "loss: 0.9179, accuracy: 0.7200: 100%|██████████| 1000/1000 [00:11<00:00, 86.36it/s]\n",
      "loss: 0.8027, accuracy: 0.8100: 100%|██████████| 158/158 [00:01<00:00, 135.65it/s]\n",
      "loss: 0.7520, accuracy: 0.7600:   2%|▏         | 17/1000 [00:00<00:10, 94.47it/s]"
     ]
    },
    {
     "name": "stdout",
     "output_type": "stream",
     "text": [
      "Epoch 36: train_acc_0.7463_train_loss_0.8294_val_acc_0.7482_val_loss_0.8220 epoch time 13.1254 seconds\n",
      "total time8.0 : 1.5490155220031738\n"
     ]
    },
    {
     "name": "stderr",
     "output_type": "stream",
     "text": [
      "loss: 0.8939, accuracy: 0.6500: 100%|██████████| 1000/1000 [00:11<00:00, 84.33it/s]\n",
      "loss: 0.6275, accuracy: 0.8200: 100%|██████████| 158/158 [00:01<00:00, 132.48it/s]\n",
      "loss: 0.9679, accuracy: 0.6700:   2%|▏         | 17/1000 [00:00<00:10, 91.25it/s]"
     ]
    },
    {
     "name": "stdout",
     "output_type": "stream",
     "text": [
      "Epoch 37: train_acc_0.7479_train_loss_0.8271_val_acc_0.7508_val_loss_0.8190 epoch time 13.1923 seconds\n",
      "total time8.0 : 14.741359233856201\n"
     ]
    },
    {
     "name": "stderr",
     "output_type": "stream",
     "text": [
      "loss: 0.6877, accuracy: 0.7600: 100%|██████████| 1000/1000 [00:11<00:00, 84.24it/s]\n",
      "loss: 0.7529, accuracy: 0.7900: 100%|██████████| 158/158 [00:01<00:00, 134.58it/s]\n",
      "loss: 0.7230, accuracy: 0.7600:   2%|▏         | 17/1000 [00:00<00:10, 92.56it/s]"
     ]
    },
    {
     "name": "stdout",
     "output_type": "stream",
     "text": [
      "Epoch 38: train_acc_0.7488_train_loss_0.8241_val_acc_0.7520_val_loss_0.8130 epoch time 13.1843 seconds\n",
      "total time8.0 : 27.925634384155273\n"
     ]
    },
    {
     "name": "stderr",
     "output_type": "stream",
     "text": [
      "loss: 0.7638, accuracy: 0.7400: 100%|██████████| 1000/1000 [00:11<00:00, 84.37it/s]\n",
      "loss: 1.0109, accuracy: 0.6900: 100%|██████████| 158/158 [00:01<00:00, 131.79it/s]\n",
      "loss: 0.7607, accuracy: 0.7300:   2%|▏         | 17/1000 [00:00<00:10, 91.10it/s]"
     ]
    },
    {
     "name": "stdout",
     "output_type": "stream",
     "text": [
      "Epoch 39: train_acc_0.7503_train_loss_0.8220_val_acc_0.7461_val_loss_0.8162 epoch time 13.1900 seconds\n",
      "total time8.0 : 41.115673780441284\n"
     ]
    },
    {
     "name": "stderr",
     "output_type": "stream",
     "text": [
      "loss: 0.6585, accuracy: 0.8100: 100%|██████████| 1000/1000 [00:11<00:00, 84.07it/s]\n",
      "loss: 0.7846, accuracy: 0.7700: 100%|██████████| 158/158 [00:01<00:00, 133.06it/s]\n",
      "loss: 0.8519, accuracy: 0.7400:   2%|▏         | 17/1000 [00:00<00:10, 92.85it/s]"
     ]
    },
    {
     "name": "stdout",
     "output_type": "stream",
     "text": [
      "Epoch 40: train_acc_0.7510_train_loss_0.8194_val_acc_0.7477_val_loss_0.8134 epoch time 13.2221 seconds\n",
      "total time8.0 : 54.337820291519165\n"
     ]
    },
    {
     "name": "stderr",
     "output_type": "stream",
     "text": [
      "loss: 0.7455, accuracy: 0.7500: 100%|██████████| 1000/1000 [00:11<00:00, 84.30it/s]\n",
      "loss: 0.6942, accuracy: 0.7900: 100%|██████████| 158/158 [00:01<00:00, 132.37it/s]\n",
      "loss: 0.7104, accuracy: 0.7300:   2%|▏         | 17/1000 [00:00<00:10, 96.54it/s]"
     ]
    },
    {
     "name": "stdout",
     "output_type": "stream",
     "text": [
      "Epoch 41: train_acc_0.7513_train_loss_0.8167_val_acc_0.7509_val_loss_0.8132 epoch time 13.1972 seconds\n",
      "total time9.0 : 7.535043716430664\n"
     ]
    },
    {
     "name": "stderr",
     "output_type": "stream",
     "text": [
      "loss: 0.5096, accuracy: 0.8500: 100%|██████████| 1000/1000 [00:11<00:00, 84.55it/s]\n",
      "loss: 0.8933, accuracy: 0.7300: 100%|██████████| 158/158 [00:01<00:00, 132.39it/s]\n",
      "loss: 0.8912, accuracy: 0.7000:   2%|▏         | 17/1000 [00:00<00:11, 89.27it/s]"
     ]
    },
    {
     "name": "stdout",
     "output_type": "stream",
     "text": [
      "Epoch 42: train_acc_0.7520_train_loss_0.8163_val_acc_0.7508_val_loss_0.8068 epoch time 13.1616 seconds\n",
      "total time9.0 : 20.69668745994568\n"
     ]
    },
    {
     "name": "stderr",
     "output_type": "stream",
     "text": [
      "loss: 0.7049, accuracy: 0.7900: 100%|██████████| 1000/1000 [00:11<00:00, 84.54it/s]\n",
      "loss: 0.9361, accuracy: 0.6800: 100%|██████████| 158/158 [00:01<00:00, 133.16it/s]\n",
      "loss: 0.7789, accuracy: 0.7200:   2%|▏         | 18/1000 [00:00<00:10, 93.44it/s]"
     ]
    },
    {
     "name": "stdout",
     "output_type": "stream",
     "text": [
      "Epoch 43: train_acc_0.7518_train_loss_0.8145_val_acc_0.7522_val_loss_0.8072 epoch time 13.1583 seconds\n",
      "total time9.0 : 33.85499048233032\n"
     ]
    },
    {
     "name": "stderr",
     "output_type": "stream",
     "text": [
      "loss: 0.6666, accuracy: 0.7800: 100%|██████████| 1000/1000 [00:11<00:00, 84.47it/s]\n",
      "loss: 0.7365, accuracy: 0.8100: 100%|██████████| 158/158 [00:01<00:00, 134.06it/s]\n",
      "loss: 0.8082, accuracy: 0.7600:   2%|▏         | 17/1000 [00:00<00:10, 91.15it/s]"
     ]
    },
    {
     "name": "stdout",
     "output_type": "stream",
     "text": [
      "Epoch 44: train_acc_0.7522_train_loss_0.8118_val_acc_0.7496_val_loss_0.8082 epoch time 13.1555 seconds\n",
      "total time9.0 : 47.01051425933838\n"
     ]
    },
    {
     "name": "stderr",
     "output_type": "stream",
     "text": [
      "loss: 0.8806, accuracy: 0.7000: 100%|██████████| 1000/1000 [00:11<00:00, 84.59it/s]\n",
      "loss: 0.8231, accuracy: 0.8000: 100%|██████████| 158/158 [00:01<00:00, 132.64it/s]\n",
      "loss: 0.8851, accuracy: 0.7100:   2%|▏         | 18/1000 [00:00<00:10, 98.06it/s]"
     ]
    },
    {
     "name": "stdout",
     "output_type": "stream",
     "text": [
      "Epoch 45: train_acc_0.7531_train_loss_0.8090_val_acc_0.7541_val_loss_0.7997 epoch time 13.1520 seconds\n",
      "total time10.0 : 0.16254091262817383\n"
     ]
    },
    {
     "name": "stderr",
     "output_type": "stream",
     "text": [
      "loss: 1.0021, accuracy: 0.7300: 100%|██████████| 1000/1000 [00:11<00:00, 84.62it/s]\n",
      "loss: 0.7132, accuracy: 0.7700: 100%|██████████| 158/158 [00:01<00:00, 135.20it/s]\n",
      "loss: 0.7775, accuracy: 0.8000:   2%|▏         | 17/1000 [00:00<00:10, 94.86it/s]"
     ]
    },
    {
     "name": "stdout",
     "output_type": "stream",
     "text": [
      "Epoch 46: train_acc_0.7533_train_loss_0.8087_val_acc_0.7528_val_loss_0.8015 epoch time 13.1252 seconds\n",
      "total time10.0 : 13.287699460983276\n"
     ]
    },
    {
     "name": "stderr",
     "output_type": "stream",
     "text": [
      "loss: 0.8931, accuracy: 0.7300: 100%|██████████| 1000/1000 [00:11<00:00, 84.71it/s]\n",
      "loss: 0.8941, accuracy: 0.7600: 100%|██████████| 158/158 [00:01<00:00, 134.18it/s]\n",
      "loss: 0.5358, accuracy: 0.8500:   2%|▏         | 17/1000 [00:00<00:10, 92.11it/s]"
     ]
    },
    {
     "name": "stdout",
     "output_type": "stream",
     "text": [
      "Epoch 47: train_acc_0.7548_train_loss_0.8072_val_acc_0.7573_val_loss_0.8004 epoch time 13.1219 seconds\n",
      "total time10.0 : 26.409647941589355\n"
     ]
    },
    {
     "name": "stderr",
     "output_type": "stream",
     "text": [
      "loss: 0.5972, accuracy: 0.8100: 100%|██████████| 1000/1000 [00:11<00:00, 84.76it/s]\n",
      "loss: 0.7605, accuracy: 0.7700: 100%|██████████| 158/158 [00:01<00:00, 135.15it/s]\n",
      "loss: 1.0623, accuracy: 0.7100:   2%|▏         | 18/1000 [00:00<00:10, 95.54it/s]"
     ]
    },
    {
     "name": "stdout",
     "output_type": "stream",
     "text": [
      "Epoch 48: train_acc_0.7542_train_loss_0.8047_val_acc_0.7524_val_loss_0.7969 epoch time 13.1073 seconds\n",
      "total time10.0 : 39.51693630218506\n"
     ]
    },
    {
     "name": "stderr",
     "output_type": "stream",
     "text": [
      "loss: 0.9566, accuracy: 0.6700: 100%|██████████| 1000/1000 [00:11<00:00, 85.34it/s]\n",
      "loss: 1.0977, accuracy: 0.6700: 100%|██████████| 158/158 [00:01<00:00, 134.33it/s]\n",
      "loss: 0.7807, accuracy: 0.7500:   2%|▏         | 17/1000 [00:00<00:10, 95.84it/s]"
     ]
    },
    {
     "name": "stdout",
     "output_type": "stream",
     "text": [
      "Epoch 49: train_acc_0.7551_train_loss_0.8032_val_acc_0.7554_val_loss_0.7986 epoch time 13.0323 seconds\n",
      "total time10.0 : 52.54925489425659\n"
     ]
    },
    {
     "name": "stderr",
     "output_type": "stream",
     "text": [
      "loss: 0.9291, accuracy: 0.6800: 100%|██████████| 1000/1000 [00:11<00:00, 84.57it/s]\n",
      "loss: 0.6812, accuracy: 0.7800: 100%|██████████| 158/158 [00:01<00:00, 134.11it/s]\n",
      "loss: 0.5328, accuracy: 0.8400:   2%|▏         | 17/1000 [00:00<00:10, 91.14it/s]"
     ]
    },
    {
     "name": "stdout",
     "output_type": "stream",
     "text": [
      "Epoch 50: train_acc_0.7545_train_loss_0.8014_val_acc_0.7589_val_loss_0.7923 epoch time 13.1437 seconds\n",
      "total time11.0 : 5.693003177642822\n"
     ]
    },
    {
     "name": "stderr",
     "output_type": "stream",
     "text": [
      "loss: 0.6038, accuracy: 0.8200: 100%|██████████| 1000/1000 [00:11<00:00, 86.58it/s]\n",
      "loss: 0.7738, accuracy: 0.7100: 100%|██████████| 158/158 [00:01<00:00, 139.51it/s]\n",
      "loss: 0.7462, accuracy: 0.7600:   2%|▏         | 18/1000 [00:00<00:10, 96.42it/s]"
     ]
    },
    {
     "name": "stdout",
     "output_type": "stream",
     "text": [
      "Epoch 51: train_acc_0.7556_train_loss_0.7995_val_acc_0.7559_val_loss_0.7959 epoch time 12.8183 seconds\n",
      "total time11.0 : 18.511338233947754\n"
     ]
    },
    {
     "name": "stderr",
     "output_type": "stream",
     "text": [
      "loss: 0.6786, accuracy: 0.7900: 100%|██████████| 1000/1000 [00:11<00:00, 85.61it/s]\n",
      "loss: 0.7004, accuracy: 0.7700: 100%|██████████| 158/158 [00:01<00:00, 133.54it/s]\n",
      "loss: 0.7476, accuracy: 0.8100:   2%|▏         | 17/1000 [00:00<00:10, 94.08it/s]"
     ]
    },
    {
     "name": "stdout",
     "output_type": "stream",
     "text": [
      "Epoch 52: train_acc_0.7557_train_loss_0.7984_val_acc_0.7546_val_loss_0.7948 epoch time 13.0029 seconds\n",
      "total time11.0 : 31.51426410675049\n"
     ]
    },
    {
     "name": "stderr",
     "output_type": "stream",
     "text": [
      "loss: 0.6219, accuracy: 0.7900: 100%|██████████| 1000/1000 [00:11<00:00, 84.95it/s]\n",
      "loss: 0.7915, accuracy: 0.6900: 100%|██████████| 158/158 [00:01<00:00, 135.46it/s]\n",
      "loss: 0.5159, accuracy: 0.8600:   2%|▏         | 17/1000 [00:00<00:10, 90.97it/s]"
     ]
    },
    {
     "name": "stdout",
     "output_type": "stream",
     "text": [
      "Epoch 53: train_acc_0.7567_train_loss_0.7964_val_acc_0.7555_val_loss_0.7933 epoch time 13.0769 seconds\n",
      "total time11.0 : 44.591184854507446\n"
     ]
    },
    {
     "name": "stderr",
     "output_type": "stream",
     "text": [
      "loss: 0.8338, accuracy: 0.6900: 100%|██████████| 1000/1000 [00:11<00:00, 84.87it/s]\n",
      "loss: 0.6579, accuracy: 0.7800: 100%|██████████| 158/158 [00:01<00:00, 140.93it/s]\n",
      "loss: 0.7881, accuracy: 0.7400:   2%|▏         | 18/1000 [00:00<00:09, 102.24it/s]"
     ]
    },
    {
     "name": "stdout",
     "output_type": "stream",
     "text": [
      "Epoch 54: train_acc_0.7567_train_loss_0.7952_val_acc_0.7577_val_loss_0.7838 epoch time 13.0416 seconds\n",
      "total time11.0 : 57.63277769088745\n"
     ]
    },
    {
     "name": "stderr",
     "output_type": "stream",
     "text": [
      "loss: 0.8787, accuracy: 0.7300: 100%|██████████| 1000/1000 [00:11<00:00, 89.18it/s]\n",
      "loss: 0.9574, accuracy: 0.7400: 100%|██████████| 158/158 [00:01<00:00, 134.56it/s]\n",
      "loss: 0.8825, accuracy: 0.7300:   2%|▏         | 18/1000 [00:00<00:10, 93.13it/s]"
     ]
    },
    {
     "name": "stdout",
     "output_type": "stream",
     "text": [
      "Epoch 55: train_acc_0.7590_train_loss_0.7935_val_acc_0.7597_val_loss_0.7858 epoch time 12.5262 seconds\n",
      "total time12.0 : 10.158989906311035\n"
     ]
    },
    {
     "name": "stderr",
     "output_type": "stream",
     "text": [
      "loss: 0.8594, accuracy: 0.7500: 100%|██████████| 1000/1000 [00:11<00:00, 85.36it/s]\n",
      "loss: 0.7132, accuracy: 0.8000: 100%|██████████| 158/158 [00:01<00:00, 134.92it/s]\n",
      "loss: 0.6350, accuracy: 0.8100:   2%|▏         | 17/1000 [00:00<00:10, 92.17it/s]"
     ]
    },
    {
     "name": "stdout",
     "output_type": "stream",
     "text": [
      "Epoch 56: train_acc_0.7588_train_loss_0.7920_val_acc_0.7618_val_loss_0.7832 epoch time 13.0260 seconds\n",
      "total time12.0 : 23.18498659133911\n"
     ]
    },
    {
     "name": "stderr",
     "output_type": "stream",
     "text": [
      "loss: 0.9413, accuracy: 0.6900: 100%|██████████| 1000/1000 [00:11<00:00, 85.12it/s]\n",
      "loss: 0.7016, accuracy: 0.7500: 100%|██████████| 158/158 [00:01<00:00, 136.01it/s]\n",
      "loss: 0.8522, accuracy: 0.7500:   2%|▏         | 18/1000 [00:00<00:10, 96.14it/s]"
     ]
    },
    {
     "name": "stdout",
     "output_type": "stream",
     "text": [
      "Epoch 57: train_acc_0.7580_train_loss_0.7903_val_acc_0.7558_val_loss_0.7850 epoch time 13.0490 seconds\n",
      "total time12.0 : 36.23399043083191\n"
     ]
    },
    {
     "name": "stderr",
     "output_type": "stream",
     "text": [
      "loss: 0.7684, accuracy: 0.7400: 100%|██████████| 1000/1000 [00:11<00:00, 85.42it/s]\n",
      "loss: 0.8995, accuracy: 0.7500: 100%|██████████| 158/158 [00:01<00:00, 135.31it/s]\n",
      "loss: 0.9051, accuracy: 0.6800:   2%|▏         | 17/1000 [00:00<00:10, 93.00it/s]"
     ]
    },
    {
     "name": "stdout",
     "output_type": "stream",
     "text": [
      "Epoch 58: train_acc_0.7584_train_loss_0.7894_val_acc_0.7560_val_loss_0.7838 epoch time 13.0137 seconds\n",
      "total time12.0 : 49.24769926071167\n"
     ]
    },
    {
     "name": "stderr",
     "output_type": "stream",
     "text": [
      "loss: 0.8055, accuracy: 0.7800: 100%|██████████| 1000/1000 [00:11<00:00, 85.19it/s]\n",
      "loss: 0.7138, accuracy: 0.7800: 100%|██████████| 158/158 [00:01<00:00, 135.28it/s]\n",
      "loss: 0.8684, accuracy: 0.6800:   2%|▏         | 18/1000 [00:00<00:09, 99.81it/s]"
     ]
    },
    {
     "name": "stdout",
     "output_type": "stream",
     "text": [
      "Epoch 59: train_acc_0.7587_train_loss_0.7873_val_acc_0.7609_val_loss_0.7791 epoch time 13.0467 seconds\n",
      "total time13.0 : 2.2944047451019287\n"
     ]
    },
    {
     "name": "stderr",
     "output_type": "stream",
     "text": [
      "loss: 1.0490, accuracy: 0.7700: 100%|██████████| 1000/1000 [00:11<00:00, 85.94it/s]\n",
      "loss: 0.6574, accuracy: 0.7200: 100%|██████████| 158/158 [00:01<00:00, 137.81it/s]\n",
      "loss: 0.7279, accuracy: 0.7800:   2%|▏         | 17/1000 [00:00<00:10, 92.43it/s]"
     ]
    },
    {
     "name": "stdout",
     "output_type": "stream",
     "text": [
      "Epoch 60: train_acc_0.7595_train_loss_0.7863_val_acc_0.7563_val_loss_0.7860 epoch time 12.9315 seconds\n",
      "total time13.0 : 15.225903272628784\n"
     ]
    },
    {
     "name": "stderr",
     "output_type": "stream",
     "text": [
      "loss: 0.7021, accuracy: 0.8000: 100%|██████████| 1000/1000 [00:11<00:00, 85.30it/s]\n",
      "loss: 0.8612, accuracy: 0.7400: 100%|██████████| 158/158 [00:01<00:00, 135.04it/s]\n",
      "loss: 0.7108, accuracy: 0.7700:   2%|▏         | 17/1000 [00:00<00:10, 95.20it/s]"
     ]
    },
    {
     "name": "stdout",
     "output_type": "stream",
     "text": [
      "Epoch 61: train_acc_0.7602_train_loss_0.7853_val_acc_0.7582_val_loss_0.7819 epoch time 13.0322 seconds\n",
      "total time13.0 : 28.258066654205322\n"
     ]
    },
    {
     "name": "stderr",
     "output_type": "stream",
     "text": [
      "loss: 0.9707, accuracy: 0.6900: 100%|██████████| 1000/1000 [00:11<00:00, 85.40it/s]\n",
      "loss: 0.5507, accuracy: 0.8100: 100%|██████████| 158/158 [00:01<00:00, 134.40it/s]\n",
      "loss: 0.8681, accuracy: 0.7300:   2%|▏         | 17/1000 [00:00<00:10, 96.27it/s]"
     ]
    },
    {
     "name": "stdout",
     "output_type": "stream",
     "text": [
      "Epoch 62: train_acc_0.7609_train_loss_0.7836_val_acc_0.7605_val_loss_0.7764 epoch time 13.0247 seconds\n",
      "total time13.0 : 41.282742977142334\n"
     ]
    },
    {
     "name": "stderr",
     "output_type": "stream",
     "text": [
      "loss: 1.2292, accuracy: 0.6600: 100%|██████████| 1000/1000 [00:11<00:00, 85.21it/s]\n",
      "loss: 0.8448, accuracy: 0.8100: 100%|██████████| 158/158 [00:01<00:00, 132.20it/s]\n",
      "loss: 0.8162, accuracy: 0.7500:   2%|▏         | 17/1000 [00:00<00:10, 93.23it/s]"
     ]
    },
    {
     "name": "stdout",
     "output_type": "stream",
     "text": [
      "Epoch 63: train_acc_0.7620_train_loss_0.7813_val_acc_0.7584_val_loss_0.7767 epoch time 13.0696 seconds\n",
      "total time13.0 : 54.35237145423889\n"
     ]
    },
    {
     "name": "stderr",
     "output_type": "stream",
     "text": [
      "loss: 0.8124, accuracy: 0.7700: 100%|██████████| 1000/1000 [00:11<00:00, 85.07it/s]\n",
      "loss: 0.6522, accuracy: 0.8200: 100%|██████████| 158/158 [00:01<00:00, 135.52it/s]\n",
      "loss: 0.7354, accuracy: 0.7400:   2%|▏         | 18/1000 [00:00<00:10, 95.75it/s]"
     ]
    },
    {
     "name": "stdout",
     "output_type": "stream",
     "text": [
      "Epoch 64: train_acc_0.7622_train_loss_0.7806_val_acc_0.7583_val_loss_0.7792 epoch time 13.0580 seconds\n",
      "total time14.0 : 7.410411834716797\n"
     ]
    },
    {
     "name": "stderr",
     "output_type": "stream",
     "text": [
      "loss: 0.8783, accuracy: 0.6900: 100%|██████████| 1000/1000 [00:11<00:00, 85.10it/s]\n",
      "loss: 0.7797, accuracy: 0.7300: 100%|██████████| 158/158 [00:01<00:00, 136.18it/s]\n",
      "loss: 0.8871, accuracy: 0.7900:   2%|▏         | 17/1000 [00:00<00:10, 90.66it/s]"
     ]
    },
    {
     "name": "stdout",
     "output_type": "stream",
     "text": [
      "Epoch 65: train_acc_0.7622_train_loss_0.7791_val_acc_0.7606_val_loss_0.7766 epoch time 13.0498 seconds\n",
      "total time14.0 : 20.46017599105835\n"
     ]
    },
    {
     "name": "stderr",
     "output_type": "stream",
     "text": [
      "loss: 0.9487, accuracy: 0.7700: 100%|██████████| 1000/1000 [00:11<00:00, 86.98it/s]\n",
      "loss: 0.7247, accuracy: 0.7900: 100%|██████████| 158/158 [00:01<00:00, 134.74it/s]\n",
      "loss: 0.7367, accuracy: 0.7300:   2%|▏         | 18/1000 [00:00<00:10, 96.78it/s]"
     ]
    },
    {
     "name": "stdout",
     "output_type": "stream",
     "text": [
      "Epoch 66: train_acc_0.7617_train_loss_0.7782_val_acc_0.7642_val_loss_0.7701 epoch time 13.0503 seconds\n",
      "total time14.0 : 33.5104284286499\n"
     ]
    },
    {
     "name": "stderr",
     "output_type": "stream",
     "text": [
      "loss: 0.8174, accuracy: 0.7800: 100%|██████████| 1000/1000 [00:11<00:00, 85.27it/s]\n",
      "loss: 0.7612, accuracy: 0.7800: 100%|██████████| 158/158 [00:01<00:00, 135.24it/s]\n",
      "loss: 0.6921, accuracy: 0.8000:   2%|▏         | 18/1000 [00:00<00:10, 95.71it/s]"
     ]
    },
    {
     "name": "stdout",
     "output_type": "stream",
     "text": [
      "Epoch 67: train_acc_0.7622_train_loss_0.7771_val_acc_0.7610_val_loss_0.7715 epoch time 13.0337 seconds\n",
      "total time14.0 : 46.54410481452942\n"
     ]
    },
    {
     "name": "stderr",
     "output_type": "stream",
     "text": [
      "loss: 0.9107, accuracy: 0.7000: 100%|██████████| 1000/1000 [00:11<00:00, 85.00it/s]\n",
      "loss: 0.7124, accuracy: 0.7400: 100%|██████████| 158/158 [00:01<00:00, 134.75it/s]\n",
      "loss: 0.9305, accuracy: 0.7700:   2%|▏         | 18/1000 [00:00<00:10, 94.01it/s]"
     ]
    },
    {
     "name": "stdout",
     "output_type": "stream",
     "text": [
      "Epoch 68: train_acc_0.7619_train_loss_0.7758_val_acc_0.7609_val_loss_0.7732 epoch time 13.0764 seconds\n",
      "total time14.0 : 59.6204617023468\n"
     ]
    },
    {
     "name": "stderr",
     "output_type": "stream",
     "text": [
      "loss: 0.8027, accuracy: 0.7300: 100%|██████████| 1000/1000 [00:11<00:00, 85.28it/s]\n",
      "loss: 0.7172, accuracy: 0.7800: 100%|██████████| 158/158 [00:01<00:00, 138.14it/s]\n",
      "loss: 0.6365, accuracy: 0.8200:   2%|▏         | 18/1000 [00:00<00:10, 97.04it/s]"
     ]
    },
    {
     "name": "stdout",
     "output_type": "stream",
     "text": [
      "Epoch 69: train_acc_0.7634_train_loss_0.7744_val_acc_0.7636_val_loss_0.7693 epoch time 13.0754 seconds\n",
      "total time15.0 : 12.69583797454834\n"
     ]
    },
    {
     "name": "stderr",
     "output_type": "stream",
     "text": [
      "loss: 1.0166, accuracy: 0.7100: 100%|██████████| 1000/1000 [00:11<00:00, 87.60it/s]\n",
      "loss: 0.6527, accuracy: 0.8100: 100%|██████████| 158/158 [00:01<00:00, 134.74it/s]\n",
      "loss: 0.6342, accuracy: 0.7700:   2%|▏         | 18/1000 [00:00<00:10, 93.52it/s]"
     ]
    },
    {
     "name": "stdout",
     "output_type": "stream",
     "text": [
      "Epoch 70: train_acc_0.7637_train_loss_0.7728_val_acc_0.7670_val_loss_0.7620 epoch time 12.9938 seconds\n",
      "total time15.0 : 25.68967604637146\n"
     ]
    },
    {
     "name": "stderr",
     "output_type": "stream",
     "text": [
      "loss: 0.7245, accuracy: 0.7900: 100%|██████████| 1000/1000 [00:11<00:00, 85.09it/s]\n",
      "loss: 0.9264, accuracy: 0.7700: 100%|██████████| 158/158 [00:01<00:00, 133.37it/s]\n",
      "loss: 0.8786, accuracy: 0.7900:   2%|▏         | 17/1000 [00:00<00:10, 93.28it/s]"
     ]
    },
    {
     "name": "stdout",
     "output_type": "stream",
     "text": [
      "Epoch 71: train_acc_0.7647_train_loss_0.7713_val_acc_0.7661_val_loss_0.7631 epoch time 13.0754 seconds\n",
      "total time15.0 : 38.76508927345276\n"
     ]
    },
    {
     "name": "stderr",
     "output_type": "stream",
     "text": [
      "loss: 0.8316, accuracy: 0.7000: 100%|██████████| 1000/1000 [00:11<00:00, 85.19it/s]\n",
      "loss: 0.7865, accuracy: 0.7600: 100%|██████████| 158/158 [00:01<00:00, 136.19it/s]\n",
      "loss: 0.9366, accuracy: 0.7300:   2%|▏         | 18/1000 [00:00<00:10, 95.01it/s]"
     ]
    },
    {
     "name": "stdout",
     "output_type": "stream",
     "text": [
      "Epoch 72: train_acc_0.7653_train_loss_0.7691_val_acc_0.7659_val_loss_0.7660 epoch time 13.0402 seconds\n",
      "total time15.0 : 51.805288314819336\n"
     ]
    },
    {
     "name": "stderr",
     "output_type": "stream",
     "text": [
      "loss: 0.8721, accuracy: 0.7300: 100%|██████████| 1000/1000 [00:11<00:00, 85.28it/s]\n",
      "loss: 0.8281, accuracy: 0.7600: 100%|██████████| 158/158 [00:01<00:00, 133.67it/s]\n",
      "loss: 0.9803, accuracy: 0.7300:   2%|▏         | 18/1000 [00:00<00:10, 98.13it/s]"
     ]
    },
    {
     "name": "stdout",
     "output_type": "stream",
     "text": [
      "Epoch 73: train_acc_0.7652_train_loss_0.7687_val_acc_0.7625_val_loss_0.7619 epoch time 13.0485 seconds\n",
      "total time16.0 : 4.8537678718566895\n"
     ]
    },
    {
     "name": "stderr",
     "output_type": "stream",
     "text": [
      "loss: 0.7284, accuracy: 0.7700: 100%|██████████| 1000/1000 [00:11<00:00, 85.38it/s]\n",
      "loss: 0.7749, accuracy: 0.8000: 100%|██████████| 158/158 [00:01<00:00, 134.98it/s]\n",
      "loss: 0.6781, accuracy: 0.7800:   2%|▏         | 18/1000 [00:00<00:10, 91.31it/s]"
     ]
    },
    {
     "name": "stdout",
     "output_type": "stream",
     "text": [
      "Epoch 74: train_acc_0.7664_train_loss_0.7675_val_acc_0.7642_val_loss_0.7604 epoch time 13.0238 seconds\n",
      "total time16.0 : 17.87758231163025\n"
     ]
    },
    {
     "name": "stderr",
     "output_type": "stream",
     "text": [
      "loss: 0.8407, accuracy: 0.8100: 100%|██████████| 1000/1000 [00:11<00:00, 87.21it/s]\n",
      "loss: 0.9795, accuracy: 0.7000: 100%|██████████| 158/158 [00:01<00:00, 139.53it/s]\n",
      "loss: 0.8954, accuracy: 0.7600:   2%|▏         | 18/1000 [00:00<00:10, 95.40it/s]"
     ]
    },
    {
     "name": "stdout",
     "output_type": "stream",
     "text": [
      "Epoch 75: train_acc_0.7658_train_loss_0.7652_val_acc_0.7654_val_loss_0.7635 epoch time 12.7551 seconds\n",
      "total time16.0 : 30.632659196853638\n"
     ]
    },
    {
     "name": "stderr",
     "output_type": "stream",
     "text": [
      "loss: 0.9642, accuracy: 0.7000: 100%|██████████| 1000/1000 [00:11<00:00, 85.01it/s]\n",
      "loss: 0.6338, accuracy: 0.8300: 100%|██████████| 158/158 [00:01<00:00, 134.64it/s]\n",
      "loss: 0.6742, accuracy: 0.7600:   2%|▏         | 18/1000 [00:00<00:10, 94.79it/s]"
     ]
    },
    {
     "name": "stdout",
     "output_type": "stream",
     "text": [
      "Epoch 76: train_acc_0.7675_train_loss_0.7643_val_acc_0.7672_val_loss_0.7610 epoch time 13.0736 seconds\n",
      "total time16.0 : 43.706217527389526\n"
     ]
    },
    {
     "name": "stderr",
     "output_type": "stream",
     "text": [
      "loss: 0.8823, accuracy: 0.7600: 100%|██████████| 1000/1000 [00:11<00:00, 85.19it/s]\n",
      "loss: 0.6625, accuracy: 0.7500: 100%|██████████| 158/158 [00:01<00:00, 135.95it/s]\n",
      "loss: 0.6253, accuracy: 0.8400:   2%|▏         | 17/1000 [00:00<00:10, 93.49it/s]"
     ]
    },
    {
     "name": "stdout",
     "output_type": "stream",
     "text": [
      "Epoch 77: train_acc_0.7662_train_loss_0.7633_val_acc_0.7656_val_loss_0.7575 epoch time 13.0398 seconds\n",
      "total time16.0 : 56.74605917930603\n"
     ]
    },
    {
     "name": "stderr",
     "output_type": "stream",
     "text": [
      "loss: 0.8012, accuracy: 0.7600: 100%|██████████| 1000/1000 [00:11<00:00, 85.79it/s]\n",
      "loss: 0.8106, accuracy: 0.7600: 100%|██████████| 158/158 [00:01<00:00, 145.71it/s]\n",
      "loss: 0.6625, accuracy: 0.8000:   2%|▏         | 19/1000 [00:00<00:09, 102.31it/s]"
     ]
    },
    {
     "name": "stdout",
     "output_type": "stream",
     "text": [
      "Epoch 78: train_acc_0.7670_train_loss_0.7621_val_acc_0.7668_val_loss_0.7606 epoch time 12.8771 seconds\n",
      "total time17.0 : 9.62320613861084\n"
     ]
    },
    {
     "name": "stderr",
     "output_type": "stream",
     "text": [
      "loss: 0.7259, accuracy: 0.7700: 100%|██████████| 1000/1000 [00:11<00:00, 90.23it/s]\n",
      "loss: 0.7333, accuracy: 0.7500: 100%|██████████| 158/158 [00:01<00:00, 137.51it/s]\n",
      "loss: 0.8016, accuracy: 0.7700:   2%|▏         | 17/1000 [00:00<00:10, 92.30it/s]"
     ]
    },
    {
     "name": "stdout",
     "output_type": "stream",
     "text": [
      "Epoch 79: train_acc_0.7674_train_loss_0.7612_val_acc_0.7681_val_loss_0.7529 epoch time 12.3838 seconds\n",
      "total time17.0 : 22.007018566131592\n"
     ]
    },
    {
     "name": "stderr",
     "output_type": "stream",
     "text": [
      "loss: 0.7490, accuracy: 0.7600: 100%|██████████| 1000/1000 [00:11<00:00, 85.12it/s]\n",
      "loss: 0.8676, accuracy: 0.7000: 100%|██████████| 158/158 [00:01<00:00, 134.61it/s]\n",
      "loss: 0.8817, accuracy: 0.7300:   2%|▏         | 18/1000 [00:00<00:10, 97.27it/s]"
     ]
    },
    {
     "name": "stdout",
     "output_type": "stream",
     "text": [
      "Epoch 80: train_acc_0.7690_train_loss_0.7587_val_acc_0.7678_val_loss_0.7514 epoch time 13.0614 seconds\n",
      "total time17.0 : 35.06838631629944\n"
     ]
    },
    {
     "name": "stderr",
     "output_type": "stream",
     "text": [
      "loss: 0.7306, accuracy: 0.7700: 100%|██████████| 1000/1000 [00:11<00:00, 84.95it/s]\n",
      "loss: 0.7053, accuracy: 0.7700: 100%|██████████| 158/158 [00:01<00:00, 135.60it/s]\n",
      "loss: 0.8082, accuracy: 0.7600:   2%|▏         | 18/1000 [00:00<00:10, 97.41it/s]"
     ]
    },
    {
     "name": "stdout",
     "output_type": "stream",
     "text": [
      "Epoch 81: train_acc_0.7691_train_loss_0.7578_val_acc_0.7662_val_loss_0.7530 epoch time 13.0731 seconds\n",
      "total time17.0 : 48.14146447181702\n"
     ]
    },
    {
     "name": "stderr",
     "output_type": "stream",
     "text": [
      "loss: 0.9575, accuracy: 0.6800: 100%|██████████| 1000/1000 [00:11<00:00, 85.23it/s]\n",
      "loss: 0.7243, accuracy: 0.7300: 100%|██████████| 158/158 [00:01<00:00, 134.23it/s]\n",
      "loss: 0.8279, accuracy: 0.7300:   2%|▏         | 18/1000 [00:00<00:10, 95.15it/s]"
     ]
    },
    {
     "name": "stdout",
     "output_type": "stream",
     "text": [
      "Epoch 82: train_acc_0.7690_train_loss_0.7567_val_acc_0.7698_val_loss_0.7474 epoch time 13.0485 seconds\n",
      "total time18.0 : 1.1899616718292236\n"
     ]
    },
    {
     "name": "stderr",
     "output_type": "stream",
     "text": [
      "loss: 1.0861, accuracy: 0.7400: 100%|██████████| 1000/1000 [00:11<00:00, 85.50it/s]\n",
      "loss: 0.6907, accuracy: 0.8000: 100%|██████████| 158/158 [00:01<00:00, 130.79it/s]\n",
      "loss: 0.6975, accuracy: 0.7500:   2%|▏         | 18/1000 [00:00<00:09, 101.73it/s]"
     ]
    },
    {
     "name": "stdout",
     "output_type": "stream",
     "text": [
      "Epoch 83: train_acc_0.7690_train_loss_0.7550_val_acc_0.7705_val_loss_0.7527 epoch time 13.0423 seconds\n",
      "total time18.0 : 14.232266664505005\n"
     ]
    },
    {
     "name": "stderr",
     "output_type": "stream",
     "text": [
      "loss: 0.8379, accuracy: 0.7200: 100%|██████████| 1000/1000 [00:11<00:00, 85.33it/s]\n",
      "loss: 0.8313, accuracy: 0.7600: 100%|██████████| 158/158 [00:01<00:00, 134.97it/s]\n",
      "loss: 0.5936, accuracy: 0.7500:   2%|▏         | 18/1000 [00:00<00:10, 94.41it/s]"
     ]
    },
    {
     "name": "stdout",
     "output_type": "stream",
     "text": [
      "Epoch 84: train_acc_0.7694_train_loss_0.7541_val_acc_0.7680_val_loss_0.7491 epoch time 13.0290 seconds\n",
      "total time18.0 : 27.261270761489868\n"
     ]
    },
    {
     "name": "stderr",
     "output_type": "stream",
     "text": [
      "loss: 0.8098, accuracy: 0.7400: 100%|██████████| 1000/1000 [00:11<00:00, 85.46it/s]\n",
      "loss: 0.6043, accuracy: 0.7900: 100%|██████████| 158/158 [00:01<00:00, 135.36it/s]\n",
      "loss: 0.8386, accuracy: 0.7600:   2%|▏         | 18/1000 [00:00<00:10, 97.90it/s]"
     ]
    },
    {
     "name": "stdout",
     "output_type": "stream",
     "text": [
      "Epoch 85: train_acc_0.7693_train_loss_0.7526_val_acc_0.7676_val_loss_0.7470 epoch time 13.0092 seconds\n",
      "total time18.0 : 40.270479917526245\n"
     ]
    },
    {
     "name": "stderr",
     "output_type": "stream",
     "text": [
      "loss: 0.7484, accuracy: 0.7800: 100%|██████████| 1000/1000 [00:11<00:00, 85.42it/s]\n",
      "loss: 0.7608, accuracy: 0.7500: 100%|██████████| 158/158 [00:01<00:00, 134.09it/s]\n",
      "loss: 0.5646, accuracy: 0.8000:   2%|▏         | 17/1000 [00:00<00:10, 92.66it/s]"
     ]
    },
    {
     "name": "stdout",
     "output_type": "stream",
     "text": [
      "Epoch 86: train_acc_0.7706_train_loss_0.7511_val_acc_0.7696_val_loss_0.7482 epoch time 13.0245 seconds\n",
      "total time18.0 : 53.294997215270996\n"
     ]
    },
    {
     "name": "stderr",
     "output_type": "stream",
     "text": [
      "loss: 0.7971, accuracy: 0.7700: 100%|██████████| 1000/1000 [00:11<00:00, 85.06it/s]\n",
      "loss: 0.5263, accuracy: 0.8400: 100%|██████████| 158/158 [00:01<00:00, 134.17it/s]\n",
      "loss: 0.6201, accuracy: 0.8000:   2%|▏         | 17/1000 [00:00<00:10, 93.25it/s]"
     ]
    },
    {
     "name": "stdout",
     "output_type": "stream",
     "text": [
      "Epoch 87: train_acc_0.7707_train_loss_0.7493_val_acc_0.7698_val_loss_0.7476 epoch time 13.0744 seconds\n",
      "total time19.0 : 6.369388580322266\n"
     ]
    },
    {
     "name": "stderr",
     "output_type": "stream",
     "text": [
      "loss: 0.7035, accuracy: 0.7600: 100%|██████████| 1000/1000 [00:11<00:00, 86.25it/s]\n",
      "loss: 0.6129, accuracy: 0.8200: 100%|██████████| 158/158 [00:01<00:00, 135.02it/s]\n",
      "loss: 0.8758, accuracy: 0.7700:   2%|▏         | 17/1000 [00:00<00:10, 94.86it/s]"
     ]
    },
    {
     "name": "stdout",
     "output_type": "stream",
     "text": [
      "Epoch 88: train_acc_0.7713_train_loss_0.7479_val_acc_0.7716_val_loss_0.7409 epoch time 12.9018 seconds\n",
      "total time19.0 : 19.27120327949524\n"
     ]
    },
    {
     "name": "stderr",
     "output_type": "stream",
     "text": [
      "loss: 0.9552, accuracy: 0.8200: 100%|██████████| 1000/1000 [00:11<00:00, 85.05it/s]\n",
      "loss: 0.7364, accuracy: 0.8400: 100%|██████████| 158/158 [00:01<00:00, 135.18it/s]\n",
      "loss: 0.7602, accuracy: 0.7600:   2%|▏         | 17/1000 [00:00<00:10, 92.91it/s]"
     ]
    },
    {
     "name": "stdout",
     "output_type": "stream",
     "text": [
      "Epoch 89: train_acc_0.7719_train_loss_0.7469_val_acc_0.7709_val_loss_0.7407 epoch time 13.0657 seconds\n",
      "total time19.0 : 32.33693718910217\n"
     ]
    },
    {
     "name": "stderr",
     "output_type": "stream",
     "text": [
      "loss: 0.6190, accuracy: 0.8000: 100%|██████████| 1000/1000 [00:11<00:00, 85.06it/s]\n",
      "loss: 0.5127, accuracy: 0.8500: 100%|██████████| 158/158 [00:01<00:00, 136.13it/s]\n",
      "loss: 0.6315, accuracy: 0.7900:   2%|▏         | 18/1000 [00:00<00:10, 96.26it/s]"
     ]
    },
    {
     "name": "stdout",
     "output_type": "stream",
     "text": [
      "Epoch 90: train_acc_0.7724_train_loss_0.7457_val_acc_0.7727_val_loss_0.7387 epoch time 13.0565 seconds\n",
      "total time19.0 : 45.39345455169678\n"
     ]
    },
    {
     "name": "stderr",
     "output_type": "stream",
     "text": [
      "loss: 0.8783, accuracy: 0.8000: 100%|██████████| 1000/1000 [00:11<00:00, 86.67it/s]\n",
      "loss: 0.7308, accuracy: 0.8100: 100%|██████████| 158/158 [00:01<00:00, 134.85it/s]\n",
      "loss: 1.0019, accuracy: 0.7500:   2%|▏         | 17/1000 [00:00<00:10, 91.37it/s]"
     ]
    },
    {
     "name": "stdout",
     "output_type": "stream",
     "text": [
      "Epoch 91: train_acc_0.7726_train_loss_0.7438_val_acc_0.7720_val_loss_0.7362 epoch time 13.0760 seconds\n",
      "total time19.0 : 58.469425678253174\n"
     ]
    },
    {
     "name": "stderr",
     "output_type": "stream",
     "text": [
      "loss: 0.8783, accuracy: 0.7200: 100%|██████████| 1000/1000 [00:11<00:00, 85.25it/s]\n",
      "loss: 0.7130, accuracy: 0.7600: 100%|██████████| 158/158 [00:01<00:00, 134.37it/s]\n",
      "loss: 0.8775, accuracy: 0.7100:   2%|▏         | 18/1000 [00:00<00:09, 98.38it/s]"
     ]
    },
    {
     "name": "stdout",
     "output_type": "stream",
     "text": [
      "Epoch 92: train_acc_0.7722_train_loss_0.7428_val_acc_0.7700_val_loss_0.7386 epoch time 13.0441 seconds\n",
      "total time20.0 : 11.513547897338867\n"
     ]
    },
    {
     "name": "stderr",
     "output_type": "stream",
     "text": [
      "loss: 0.6804, accuracy: 0.7800: 100%|██████████| 1000/1000 [00:11<00:00, 85.20it/s]\n",
      "loss: 0.7758, accuracy: 0.7600: 100%|██████████| 158/158 [00:01<00:00, 134.97it/s]\n",
      "loss: 0.5713, accuracy: 0.8000:   2%|▏         | 18/1000 [00:00<00:10, 96.31it/s]"
     ]
    },
    {
     "name": "stdout",
     "output_type": "stream",
     "text": [
      "Epoch 93: train_acc_0.7737_train_loss_0.7418_val_acc_0.7739_val_loss_0.7364 epoch time 13.0479 seconds\n",
      "total time20.0 : 24.561402559280396\n"
     ]
    },
    {
     "name": "stderr",
     "output_type": "stream",
     "text": [
      "loss: 0.7163, accuracy: 0.7900: 100%|██████████| 1000/1000 [00:11<00:00, 85.22it/s]\n",
      "loss: 0.9702, accuracy: 0.6800: 100%|██████████| 158/158 [00:01<00:00, 135.41it/s]\n",
      "loss: 0.7943, accuracy: 0.7900:   2%|▏         | 17/1000 [00:00<00:10, 94.09it/s]"
     ]
    },
    {
     "name": "stdout",
     "output_type": "stream",
     "text": [
      "Epoch 94: train_acc_0.7735_train_loss_0.7407_val_acc_0.7743_val_loss_0.7380 epoch time 13.0404 seconds\n",
      "total time20.0 : 37.60184454917908\n"
     ]
    },
    {
     "name": "stderr",
     "output_type": "stream",
     "text": [
      "loss: 0.6575, accuracy: 0.8400: 100%|██████████| 1000/1000 [00:11<00:00, 84.96it/s]\n",
      "loss: 0.9933, accuracy: 0.7400: 100%|██████████| 158/158 [00:01<00:00, 136.34it/s]\n",
      "loss: 0.8908, accuracy: 0.7400:   2%|▏         | 18/1000 [00:00<00:10, 95.65it/s]"
     ]
    },
    {
     "name": "stdout",
     "output_type": "stream",
     "text": [
      "Epoch 95: train_acc_0.7747_train_loss_0.7387_val_acc_0.7725_val_loss_0.7313 epoch time 13.0682 seconds\n",
      "total time20.0 : 50.670034885406494\n"
     ]
    },
    {
     "name": "stderr",
     "output_type": "stream",
     "text": [
      "loss: 0.7620, accuracy: 0.7400: 100%|██████████| 1000/1000 [00:11<00:00, 85.13it/s]\n",
      "loss: 0.6202, accuracy: 0.7800: 100%|██████████| 158/158 [00:01<00:00, 140.03it/s]\n",
      "loss: 0.9008, accuracy: 0.7000:   2%|▏         | 18/1000 [00:00<00:10, 91.93it/s]"
     ]
    },
    {
     "name": "stdout",
     "output_type": "stream",
     "text": [
      "Epoch 96: train_acc_0.7745_train_loss_0.7376_val_acc_0.7744_val_loss_0.7334 epoch time 13.0454 seconds\n",
      "total time21.0 : 3.715463876724243\n"
     ]
    },
    {
     "name": "stderr",
     "output_type": "stream",
     "text": [
      "loss: 0.8590, accuracy: 0.7300: 100%|██████████| 1000/1000 [00:11<00:00, 86.10it/s]\n",
      "loss: 0.7845, accuracy: 0.7300: 100%|██████████| 158/158 [00:01<00:00, 135.64it/s]\n",
      "loss: 0.9419, accuracy: 0.7100:   2%|▏         | 18/1000 [00:00<00:10, 95.57it/s]"
     ]
    },
    {
     "name": "stdout",
     "output_type": "stream",
     "text": [
      "Epoch 97: train_acc_0.7752_train_loss_0.7373_val_acc_0.7742_val_loss_0.7363 epoch time 12.9191 seconds\n",
      "total time21.0 : 16.6345534324646\n"
     ]
    },
    {
     "name": "stderr",
     "output_type": "stream",
     "text": [
      "loss: 0.6447, accuracy: 0.8100: 100%|██████████| 1000/1000 [00:11<00:00, 89.73it/s]\n",
      "loss: 0.9872, accuracy: 0.7600: 100%|██████████| 158/158 [00:01<00:00, 140.22it/s]\n",
      "loss: 0.6122, accuracy: 0.7500:   2%|▏         | 17/1000 [00:00<00:10, 93.32it/s]"
     ]
    },
    {
     "name": "stdout",
     "output_type": "stream",
     "text": [
      "Epoch 98: train_acc_0.7756_train_loss_0.7356_val_acc_0.7717_val_loss_0.7350 epoch time 12.7670 seconds\n",
      "total time21.0 : 29.401545524597168\n"
     ]
    },
    {
     "name": "stderr",
     "output_type": "stream",
     "text": [
      "loss: 0.6884, accuracy: 0.8000: 100%|██████████| 1000/1000 [00:11<00:00, 85.13it/s]\n",
      "loss: 0.6405, accuracy: 0.7900: 100%|██████████| 158/158 [00:01<00:00, 134.71it/s]\n",
      "loss: 0.6458, accuracy: 0.7700:  18%|█▊        | 28/158 [00:00<00:00, 157.89it/s]"
     ]
    },
    {
     "name": "stdout",
     "output_type": "stream",
     "text": [
      "Epoch 99: train_acc_0.7749_train_loss_0.7336_val_acc_0.7719_val_loss_0.7292 epoch time 13.0597 seconds\n",
      "total time21.0 : 42.461204528808594\n",
      "Generating test set evaluation metrics\n"
     ]
    },
    {
     "name": "stderr",
     "output_type": "stream",
     "text": [
      "loss: 0.8320, accuracy: 0.7400: 100%|██████████| 158/158 [00:01<00:00, 134.39it/s]\n"
     ]
    },
    {
     "name": "stdout",
     "output_type": "stream",
     "text": [
      "finish\n"
     ]
    },
    {
     "data": {
      "image/png": "[encoded data removed]",
      "text/plain": [
       "<Figure size 576x288 with 1 Axes>"
      ]
     },
     "metadata": {
      "needs_background": "light"
     },
     "output_type": "display_data"
    },
    {
     "data": {
      "image/png": "[encoded data removed]",
      "text/plain": [
       "<Figure size 576x288 with 1 Axes>"
      ]
     },
     "metadata": {
      "needs_background": "light"
     },
     "output_type": "display_data"
    },
    {
     "name": "stderr",
     "output_type": "stream",
     "text": [
      "\r",
      "  0%|          | 0/1000 [00:00<?, ?it/s]"
     ]
    },
    {
     "name": "stdout",
     "output_type": "stream",
     "text": [
      "Building basic block of ConvolutionalNetwork using input shape (100, 1, 28, 28)\n",
      "torch.Size([100, 64, 28, 28])\n",
      "torch.Size([100, 64, 15, 15])\n",
      "torch.Size([100, 64, 15, 15])\n",
      "torch.Size([100, 64, 8, 8])\n",
      "shape before final linear layer torch.Size([100, 64, 2, 2])\n",
      "Block is built, output volume is torch.Size([100, 47])\n",
      "use GPU\n",
      "ConvolutionalNetwork(\n",
      "  (layer_dict): ModuleDict(\n",
      "    (conv_0): Conv2d(1, 64, kernel_size=(3, 3), stride=(1, 1), padding=(1, 1))\n",
      "    (dim_reduction_avg_pool_0): AvgPool2d(kernel_size=2, stride=2, padding=1)\n",
      "    (conv_1): Conv2d(64, 64, kernel_size=(3, 3), stride=(1, 1), padding=(1, 1))\n",
      "    (dim_reduction_avg_pool_1): AvgPool2d(kernel_size=2, stride=2, padding=1)\n",
      "  )\n",
      "  (logit_linear_layer): Linear(in_features=256, out_features=47, bias=True)\n",
      ")\n"
     ]
    },
    {
     "name": "stderr",
     "output_type": "stream",
     "text": [
      "loss: 1.1953, accuracy: 0.7100: 100%|██████████| 1000/1000 [00:18<00:00, 55.11it/s]\n",
      "loss: 1.2339, accuracy: 0.6100: 100%|██████████| 158/158 [00:01<00:00, 110.03it/s]\n",
      "loss: 0.9046, accuracy: 0.7200:   1%|          | 11/1000 [00:00<00:16, 59.64it/s]"
     ]
    },
    {
     "name": "stdout",
     "output_type": "stream",
     "text": [
      "Epoch 0: train_acc_0.4791_train_loss_1.8897_val_acc_0.6720_val_loss_1.1108 epoch time 19.7664 seconds\n",
      "total time0.0 : 19.766438961029053\n"
     ]
    },
    {
     "name": "stderr",
     "output_type": "stream",
     "text": [
      "loss: 1.0732, accuracy: 0.7100: 100%|██████████| 1000/1000 [00:17<00:00, 55.70it/s]\n",
      "loss: 0.8388, accuracy: 0.7400: 100%|██████████| 158/158 [00:01<00:00, 110.82it/s]\n",
      "loss: 0.8970, accuracy: 0.7000:   1%|          | 11/1000 [00:00<00:16, 59.70it/s]"
     ]
    },
    {
     "name": "stdout",
     "output_type": "stream",
     "text": [
      "Epoch 1: train_acc_0.6957_train_loss_1.0165_val_acc_0.7209_val_loss_0.9162 epoch time 19.5124 seconds\n",
      "total time0.0 : 39.278818130493164\n"
     ]
    },
    {
     "name": "stderr",
     "output_type": "stream",
     "text": [
      "loss: 0.6392, accuracy: 0.8200: 100%|██████████| 1000/1000 [00:17<00:00, 56.57it/s]\n",
      "loss: 0.9154, accuracy: 0.6900: 100%|██████████| 158/158 [00:01<00:00, 109.87it/s]\n",
      "loss: 0.9836, accuracy: 0.6900:   1%|          | 10/1000 [00:00<00:17, 56.90it/s]"
     ]
    },
    {
     "name": "stdout",
     "output_type": "stream",
     "text": [
      "Epoch 2: train_acc_0.7306_train_loss_0.8840_val_acc_0.7482_val_loss_0.8191 epoch time 19.4955 seconds\n",
      "total time0.0 : 58.77433800697327\n"
     ]
    },
    {
     "name": "stderr",
     "output_type": "stream",
     "text": [
      "loss: 0.8160, accuracy: 0.7700: 100%|██████████| 1000/1000 [00:18<00:00, 54.98it/s]\n",
      "loss: 0.6104, accuracy: 0.8100: 100%|██████████| 158/158 [00:01<00:00, 104.58it/s]\n",
      "loss: 0.7033, accuracy: 0.7800:   1%|          | 11/1000 [00:00<00:17, 57.28it/s]"
     ]
    },
    {
     "name": "stdout",
     "output_type": "stream",
     "text": [
      "Epoch 3: train_acc_0.7533_train_loss_0.8040_val_acc_0.7655_val_loss_0.7662 epoch time 19.8375 seconds\n",
      "total time1.0 : 18.611789226531982\n"
     ]
    },
    {
     "name": "stderr",
     "output_type": "stream",
     "text": [
      "loss: 0.9053, accuracy: 0.7400: 100%|██████████| 1000/1000 [00:18<00:00, 55.42it/s]\n",
      "loss: 0.6506, accuracy: 0.7700: 100%|██████████| 158/158 [00:01<00:00, 105.94it/s]\n",
      "loss: 0.5501, accuracy: 0.7900:   1%|          | 11/1000 [00:00<00:17, 57.89it/s]"
     ]
    },
    {
     "name": "stdout",
     "output_type": "stream",
     "text": [
      "Epoch 4: train_acc_0.7673_train_loss_0.7503_val_acc_0.7675_val_loss_0.7444 epoch time 19.6712 seconds\n",
      "total time1.0 : 38.283021450042725\n"
     ]
    },
    {
     "name": "stderr",
     "output_type": "stream",
     "text": [
      "loss: 0.6511, accuracy: 0.7700: 100%|██████████| 1000/1000 [00:18<00:00, 55.12it/s]\n",
      "loss: 0.5561, accuracy: 0.8100: 100%|██████████| 158/158 [00:01<00:00, 105.88it/s]\n",
      "loss: 0.7294, accuracy: 0.7500:   1%|          | 11/1000 [00:00<00:16, 58.95it/s]"
     ]
    },
    {
     "name": "stdout",
     "output_type": "stream",
     "text": [
      "Epoch 5: train_acc_0.7807_train_loss_0.7071_val_acc_0.7925_val_loss_0.6634 epoch time 19.7731 seconds\n",
      "total time1.0 : 58.056151151657104\n"
     ]
    },
    {
     "name": "stderr",
     "output_type": "stream",
     "text": [
      "loss: 0.7757, accuracy: 0.7000: 100%|██████████| 1000/1000 [00:18<00:00, 55.51it/s]\n",
      "loss: 0.5970, accuracy: 0.8000: 100%|██████████| 158/158 [00:01<00:00, 106.32it/s]\n",
      "loss: 0.6467, accuracy: 0.8100:   1%|          | 11/1000 [00:00<00:17, 56.87it/s]"
     ]
    },
    {
     "name": "stdout",
     "output_type": "stream",
     "text": [
      "Epoch 6: train_acc_0.7897_train_loss_0.6686_val_acc_0.7923_val_loss_0.6539 epoch time 19.6358 seconds\n",
      "total time2.0 : 17.691925525665283\n"
     ]
    },
    {
     "name": "stderr",
     "output_type": "stream",
     "text": [
      "loss: 0.6106, accuracy: 0.8100: 100%|██████████| 1000/1000 [00:18<00:00, 55.12it/s]\n",
      "loss: 0.5096, accuracy: 0.8100: 100%|██████████| 158/158 [00:01<00:00, 105.79it/s]\n",
      "loss: 0.6216, accuracy: 0.7800:   1%|          | 11/1000 [00:00<00:17, 58.01it/s]"
     ]
    },
    {
     "name": "stdout",
     "output_type": "stream",
     "text": [
      "Epoch 7: train_acc_0.7986_train_loss_0.6361_val_acc_0.7968_val_loss_0.6365 epoch time 19.7735 seconds\n",
      "total time2.0 : 37.4654266834259\n"
     ]
    },
    {
     "name": "stderr",
     "output_type": "stream",
     "text": [
      "loss: 0.9351, accuracy: 0.7700: 100%|██████████| 1000/1000 [00:18<00:00, 55.37it/s]\n",
      "loss: 0.7318, accuracy: 0.7300: 100%|██████████| 158/158 [00:01<00:00, 105.48it/s]\n",
      "loss: 0.7393, accuracy: 0.8100:   1%|          | 11/1000 [00:00<00:17, 56.94it/s]"
     ]
    },
    {
     "name": "stdout",
     "output_type": "stream",
     "text": [
      "Epoch 8: train_acc_0.8064_train_loss_0.6097_val_acc_0.8148_val_loss_0.5790 epoch time 19.6980 seconds\n",
      "total time2.0 : 57.16346549987793\n"
     ]
    },
    {
     "name": "stderr",
     "output_type": "stream",
     "text": [
      "loss: 0.8125, accuracy: 0.7700: 100%|██████████| 1000/1000 [00:18<00:00, 55.04it/s]\n",
      "loss: 0.5974, accuracy: 0.7600: 100%|██████████| 158/158 [00:01<00:00, 108.15it/s]\n",
      "loss: 0.5032, accuracy: 0.8300:   1%|          | 11/1000 [00:00<00:17, 57.85it/s]"
     ]
    },
    {
     "name": "stdout",
     "output_type": "stream",
     "text": [
      "Epoch 9: train_acc_0.8120_train_loss_0.5853_val_acc_0.8136_val_loss_0.5977 epoch time 19.7988 seconds\n",
      "total time3.0 : 16.962257385253906\n"
     ]
    },
    {
     "name": "stderr",
     "output_type": "stream",
     "text": [
      "loss: 0.4720, accuracy: 0.8400: 100%|██████████| 1000/1000 [00:17<00:00, 55.60it/s]\n",
      "loss: 0.5343, accuracy: 0.8400: 100%|██████████| 158/158 [00:01<00:00, 105.20it/s]\n",
      "loss: 0.4370, accuracy: 0.8500:   1%|          | 11/1000 [00:00<00:17, 57.11it/s]"
     ]
    },
    {
     "name": "stdout",
     "output_type": "stream",
     "text": [
      "Epoch 10: train_acc_0.8184_train_loss_0.5655_val_acc_0.8247_val_loss_0.5468 epoch time 19.6256 seconds\n",
      "total time3.0 : 36.58785104751587\n"
     ]
    },
    {
     "name": "stderr",
     "output_type": "stream",
     "text": [
      "loss: 0.5895, accuracy: 0.7900: 100%|██████████| 1000/1000 [00:18<00:00, 55.21it/s]\n",
      "loss: 0.5008, accuracy: 0.8400: 100%|██████████| 158/158 [00:01<00:00, 104.57it/s]\n",
      "loss: 0.4363, accuracy: 0.8700:   1%|          | 11/1000 [00:00<00:17, 58.10it/s]"
     ]
    },
    {
     "name": "stdout",
     "output_type": "stream",
     "text": [
      "Epoch 11: train_acc_0.8235_train_loss_0.5491_val_acc_0.8251_val_loss_0.5366 epoch time 19.7611 seconds\n",
      "total time3.0 : 56.34893465042114\n"
     ]
    },
    {
     "name": "stderr",
     "output_type": "stream",
     "text": [
      "loss: 0.3885, accuracy: 0.8900: 100%|██████████| 1000/1000 [00:18<00:00, 55.40it/s]\n",
      "loss: 0.5578, accuracy: 0.8600: 100%|██████████| 158/158 [00:01<00:00, 109.18it/s]\n",
      "loss: 0.3373, accuracy: 0.9100:   1%|          | 11/1000 [00:00<00:17, 57.50it/s]"
     ]
    },
    {
     "name": "stdout",
     "output_type": "stream",
     "text": [
      "Epoch 12: train_acc_0.8250_train_loss_0.5361_val_acc_0.8284_val_loss_0.5288 epoch time 19.6989 seconds\n",
      "total time4.0 : 16.04786992073059\n"
     ]
    },
    {
     "name": "stderr",
     "output_type": "stream",
     "text": [
      "loss: 0.5412, accuracy: 0.7700: 100%|██████████| 1000/1000 [00:18<00:00, 55.10it/s]\n",
      "loss: 0.5366, accuracy: 0.7900: 100%|██████████| 158/158 [00:01<00:00, 104.91it/s]\n",
      "loss: 0.5242, accuracy: 0.8500:   1%|          | 11/1000 [00:00<00:16, 59.27it/s]"
     ]
    },
    {
     "name": "stdout",
     "output_type": "stream",
     "text": [
      "Epoch 13: train_acc_0.8309_train_loss_0.5218_val_acc_0.8259_val_loss_0.5310 epoch time 19.7936 seconds\n",
      "total time4.0 : 35.84142875671387\n"
     ]
    },
    {
     "name": "stderr",
     "output_type": "stream",
     "text": [
      "loss: 0.5914, accuracy: 0.8400: 100%|██████████| 1000/1000 [00:17<00:00, 55.97it/s]\n",
      "loss: 0.3460, accuracy: 0.8900: 100%|██████████| 158/158 [00:01<00:00, 106.32it/s]\n",
      "loss: 0.3605, accuracy: 0.8800:   1%|          | 11/1000 [00:00<00:17, 57.73it/s]"
     ]
    },
    {
     "name": "stdout",
     "output_type": "stream",
     "text": [
      "Epoch 14: train_acc_0.8331_train_loss_0.5119_val_acc_0.8399_val_loss_0.4948 epoch time 19.4890 seconds\n",
      "total time4.0 : 55.330395460128784\n"
     ]
    },
    {
     "name": "stderr",
     "output_type": "stream",
     "text": [
      "loss: 0.4575, accuracy: 0.8700: 100%|██████████| 1000/1000 [00:18<00:00, 55.17it/s]\n",
      "loss: 0.4024, accuracy: 0.8800: 100%|██████████| 158/158 [00:01<00:00, 109.15it/s]\n",
      "loss: 0.5110, accuracy: 0.8700:   1%|          | 11/1000 [00:00<00:17, 57.82it/s]"
     ]
    },
    {
     "name": "stdout",
     "output_type": "stream",
     "text": [
      "Epoch 15: train_acc_0.8360_train_loss_0.5017_val_acc_0.8394_val_loss_0.4953 epoch time 19.7518 seconds\n",
      "total time5.0 : 15.082157850265503\n"
     ]
    },
    {
     "name": "stderr",
     "output_type": "stream",
     "text": [
      "loss: 0.6331, accuracy: 0.8200: 100%|██████████| 1000/1000 [00:17<00:00, 55.64it/s]\n",
      "loss: 0.6136, accuracy: 0.8400: 100%|██████████| 158/158 [00:01<00:00, 105.54it/s]\n",
      "loss: 0.6513, accuracy: 0.8100:   1%|          | 11/1000 [00:00<00:17, 56.76it/s]"
     ]
    },
    {
     "name": "stdout",
     "output_type": "stream",
     "text": [
      "Epoch 16: train_acc_0.8370_train_loss_0.4951_val_acc_0.8409_val_loss_0.4853 epoch time 19.6045 seconds\n",
      "total time5.0 : 34.686628103256226\n"
     ]
    },
    {
     "name": "stderr",
     "output_type": "stream",
     "text": [
      "loss: 0.4301, accuracy: 0.8300: 100%|██████████| 1000/1000 [00:17<00:00, 56.23it/s]\n",
      "loss: 0.4312, accuracy: 0.8100: 100%|██████████| 158/158 [00:01<00:00, 112.15it/s]\n",
      "loss: 0.5893, accuracy: 0.7800:   1%|          | 11/1000 [00:00<00:16, 58.29it/s]"
     ]
    },
    {
     "name": "stdout",
     "output_type": "stream",
     "text": [
      "Epoch 17: train_acc_0.8406_train_loss_0.4860_val_acc_0.8320_val_loss_0.4914 epoch time 19.3330 seconds\n",
      "total time5.0 : 54.01964831352234\n"
     ]
    },
    {
     "name": "stderr",
     "output_type": "stream",
     "text": [
      "loss: 0.4129, accuracy: 0.8900: 100%|██████████| 1000/1000 [00:18<00:00, 55.46it/s]\n",
      "loss: 0.5707, accuracy: 0.8200: 100%|██████████| 158/158 [00:01<00:00, 104.35it/s]\n",
      "loss: 0.6080, accuracy: 0.7900:   1%|          | 11/1000 [00:00<00:17, 58.04it/s]"
     ]
    },
    {
     "name": "stdout",
     "output_type": "stream",
     "text": [
      "Epoch 18: train_acc_0.8427_train_loss_0.4783_val_acc_0.8409_val_loss_0.4917 epoch time 19.6815 seconds\n",
      "total time6.0 : 13.701162338256836\n"
     ]
    },
    {
     "name": "stderr",
     "output_type": "stream",
     "text": [
      "loss: 0.3298, accuracy: 0.8800: 100%|██████████| 1000/1000 [00:18<00:00, 55.19it/s]\n",
      "loss: 0.4083, accuracy: 0.8800: 100%|██████████| 158/158 [00:01<00:00, 105.43it/s]\n",
      "loss: 0.5170, accuracy: 0.8500:   1%|          | 11/1000 [00:00<00:17, 57.96it/s]"
     ]
    },
    {
     "name": "stdout",
     "output_type": "stream",
     "text": [
      "Epoch 19: train_acc_0.8440_train_loss_0.4716_val_acc_0.8496_val_loss_0.4563 epoch time 19.7527 seconds\n",
      "total time6.0 : 33.45384240150452\n"
     ]
    },
    {
     "name": "stderr",
     "output_type": "stream",
     "text": [
      "loss: 0.4935, accuracy: 0.8000: 100%|██████████| 1000/1000 [00:18<00:00, 55.47it/s]\n",
      "loss: 0.3258, accuracy: 0.8800: 100%|██████████| 158/158 [00:01<00:00, 105.85it/s]\n",
      "loss: 0.3251, accuracy: 0.9000:   1%|          | 11/1000 [00:00<00:17, 56.77it/s]"
     ]
    },
    {
     "name": "stdout",
     "output_type": "stream",
     "text": [
      "Epoch 20: train_acc_0.8458_train_loss_0.4663_val_acc_0.8462_val_loss_0.4630 epoch time 19.6563 seconds\n",
      "total time6.0 : 53.11016845703125\n"
     ]
    },
    {
     "name": "stderr",
     "output_type": "stream",
     "text": [
      "loss: 0.3703, accuracy: 0.8500: 100%|██████████| 1000/1000 [00:18<00:00, 55.08it/s]\n",
      "loss: 0.5633, accuracy: 0.7900: 100%|██████████| 158/158 [00:01<00:00, 106.36it/s]\n",
      "loss: 0.3186, accuracy: 0.9000:   1%|          | 11/1000 [00:00<00:17, 56.94it/s]"
     ]
    },
    {
     "name": "stdout",
     "output_type": "stream",
     "text": [
      "Epoch 21: train_acc_0.8486_train_loss_0.4600_val_acc_0.8472_val_loss_0.4590 epoch time 19.7816 seconds\n",
      "total time7.0 : 12.891756772994995\n"
     ]
    },
    {
     "name": "stderr",
     "output_type": "stream",
     "text": [
      "loss: 0.3988, accuracy: 0.8600: 100%|██████████| 1000/1000 [00:18<00:00, 55.55it/s]\n",
      "loss: 0.4527, accuracy: 0.8400: 100%|██████████| 158/158 [00:01<00:00, 106.25it/s]\n",
      "loss: 0.5238, accuracy: 0.8500:   1%|          | 11/1000 [00:00<00:17, 57.03it/s]"
     ]
    },
    {
     "name": "stdout",
     "output_type": "stream",
     "text": [
      "Epoch 22: train_acc_0.8497_train_loss_0.4545_val_acc_0.8454_val_loss_0.4569 epoch time 19.6282 seconds\n",
      "total time7.0 : 32.5199658870697\n"
     ]
    },
    {
     "name": "stderr",
     "output_type": "stream",
     "text": [
      "loss: 0.4556, accuracy: 0.8200: 100%|██████████| 1000/1000 [00:18<00:00, 55.09it/s]\n",
      "loss: 0.4544, accuracy: 0.8300: 100%|██████████| 158/158 [00:01<00:00, 107.04it/s]\n",
      "loss: 0.3645, accuracy: 0.8800:   1%|          | 11/1000 [00:00<00:16, 58.37it/s]"
     ]
    },
    {
     "name": "stdout",
     "output_type": "stream",
     "text": [
      "Epoch 23: train_acc_0.8511_train_loss_0.4500_val_acc_0.8463_val_loss_0.4453 epoch time 19.7652 seconds\n",
      "total time7.0 : 52.2851881980896\n"
     ]
    },
    {
     "name": "stderr",
     "output_type": "stream",
     "text": [
      "loss: 0.3944, accuracy: 0.8600: 100%|██████████| 1000/1000 [00:18<00:00, 55.42it/s]\n",
      "loss: 0.5861, accuracy: 0.8200: 100%|██████████| 158/158 [00:01<00:00, 103.70it/s]\n",
      "loss: 0.3392, accuracy: 0.8900:   1%|          | 11/1000 [00:00<00:17, 57.44it/s]"
     ]
    },
    {
     "name": "stdout",
     "output_type": "stream",
     "text": [
      "Epoch 24: train_acc_0.8520_train_loss_0.4444_val_acc_0.8489_val_loss_0.4419 epoch time 19.7070 seconds\n",
      "total time8.0 : 11.992235898971558\n"
     ]
    },
    {
     "name": "stderr",
     "output_type": "stream",
     "text": [
      "loss: 0.5525, accuracy: 0.8300: 100%|██████████| 1000/1000 [00:18<00:00, 55.18it/s]\n",
      "loss: 0.4005, accuracy: 0.8800: 100%|██████████| 158/158 [00:01<00:00, 110.02it/s]\n",
      "loss: 0.4741, accuracy: 0.8200:   1%|          | 11/1000 [00:00<00:17, 57.88it/s]"
     ]
    },
    {
     "name": "stdout",
     "output_type": "stream",
     "text": [
      "Epoch 25: train_acc_0.8525_train_loss_0.4405_val_acc_0.8560_val_loss_0.4279 epoch time 19.7457 seconds\n",
      "total time8.0 : 31.73792266845703\n"
     ]
    },
    {
     "name": "stderr",
     "output_type": "stream",
     "text": [
      "loss: 0.3987, accuracy: 0.8400: 100%|██████████| 1000/1000 [00:18<00:00, 55.43it/s]\n",
      "loss: 0.3076, accuracy: 0.8800: 100%|██████████| 158/158 [00:01<00:00, 109.26it/s]\n",
      "loss: 0.3867, accuracy: 0.8800:   1%|          | 11/1000 [00:00<00:17, 56.85it/s]"
     ]
    },
    {
     "name": "stdout",
     "output_type": "stream",
     "text": [
      "Epoch 26: train_acc_0.8549_train_loss_0.4350_val_acc_0.8551_val_loss_0.4287 epoch time 19.6743 seconds\n",
      "total time8.0 : 51.412243366241455\n"
     ]
    },
    {
     "name": "stderr",
     "output_type": "stream",
     "text": [
      "loss: 0.4820, accuracy: 0.9200: 100%|██████████| 1000/1000 [00:18<00:00, 55.05it/s]\n",
      "loss: 0.2889, accuracy: 0.8900: 100%|██████████| 158/158 [00:01<00:00, 108.97it/s]\n",
      "loss: 0.3485, accuracy: 0.9000:   1%|          | 11/1000 [00:00<00:16, 58.46it/s]"
     ]
    },
    {
     "name": "stdout",
     "output_type": "stream",
     "text": [
      "Epoch 27: train_acc_0.8570_train_loss_0.4300_val_acc_0.8522_val_loss_0.4323 epoch time 19.8004 seconds\n",
      "total time9.0 : 11.212613344192505\n"
     ]
    },
    {
     "name": "stderr",
     "output_type": "stream",
     "text": [
      "loss: 0.4421, accuracy: 0.8700: 100%|██████████| 1000/1000 [00:18<00:00, 55.50it/s]\n",
      "loss: 0.4564, accuracy: 0.8200: 100%|██████████| 158/158 [00:01<00:00, 108.93it/s]\n",
      "loss: 0.5125, accuracy: 0.8400:   1%|          | 11/1000 [00:00<00:16, 58.30it/s]"
     ]
    },
    {
     "name": "stdout",
     "output_type": "stream",
     "text": [
      "Epoch 28: train_acc_0.8574_train_loss_0.4268_val_acc_0.8518_val_loss_0.4354 epoch time 19.6492 seconds\n",
      "total time9.0 : 30.86176586151123\n"
     ]
    },
    {
     "name": "stderr",
     "output_type": "stream",
     "text": [
      "loss: 0.4440, accuracy: 0.8800: 100%|██████████| 1000/1000 [00:18<00:00, 55.14it/s]\n",
      "loss: 0.2616, accuracy: 0.9400: 100%|██████████| 158/158 [00:01<00:00, 109.43it/s]\n",
      "loss: 0.4216, accuracy: 0.8000:   1%|          | 11/1000 [00:00<00:16, 59.52it/s]"
     ]
    },
    {
     "name": "stdout",
     "output_type": "stream",
     "text": [
      "Epoch 29: train_acc_0.8582_train_loss_0.4226_val_acc_0.8576_val_loss_0.4196 epoch time 19.7570 seconds\n",
      "total time9.0 : 50.61872434616089\n"
     ]
    },
    {
     "name": "stderr",
     "output_type": "stream",
     "text": [
      "loss: 0.5597, accuracy: 0.8200: 100%|██████████| 1000/1000 [00:17<00:00, 55.97it/s]\n",
      "loss: 0.3206, accuracy: 0.8700: 100%|██████████| 158/158 [00:01<00:00, 104.71it/s]\n",
      "loss: 0.3877, accuracy: 0.8300:   1%|          | 11/1000 [00:00<00:17, 57.21it/s]"
     ]
    },
    {
     "name": "stdout",
     "output_type": "stream",
     "text": [
      "Epoch 30: train_acc_0.8589_train_loss_0.4191_val_acc_0.8596_val_loss_0.4162 epoch time 19.5122 seconds\n",
      "total time10.0 : 10.130961418151855\n"
     ]
    },
    {
     "name": "stderr",
     "output_type": "stream",
     "text": [
      "loss: 0.3540, accuracy: 0.8900: 100%|██████████| 1000/1000 [00:18<00:00, 55.09it/s]\n",
      "loss: 0.3914, accuracy: 0.8500: 100%|██████████| 158/158 [00:01<00:00, 105.39it/s]\n",
      "loss: 0.3442, accuracy: 0.8700:   1%|          | 11/1000 [00:00<00:17, 57.51it/s]"
     ]
    },
    {
     "name": "stdout",
     "output_type": "stream",
     "text": [
      "Epoch 31: train_acc_0.8608_train_loss_0.4152_val_acc_0.8614_val_loss_0.4162 epoch time 19.7872 seconds\n",
      "total time10.0 : 29.918177843093872\n"
     ]
    },
    {
     "name": "stderr",
     "output_type": "stream",
     "text": [
      "loss: 0.3893, accuracy: 0.9000: 100%|██████████| 1000/1000 [00:18<00:00, 55.48it/s]\n",
      "loss: 0.3957, accuracy: 0.8600: 100%|██████████| 158/158 [00:01<00:00, 106.54it/s]\n",
      "loss: 0.4014, accuracy: 0.8700:   1%|          | 11/1000 [00:00<00:17, 57.58it/s]"
     ]
    },
    {
     "name": "stdout",
     "output_type": "stream",
     "text": [
      "Epoch 32: train_acc_0.8612_train_loss_0.4129_val_acc_0.8586_val_loss_0.4149 epoch time 19.6460 seconds\n",
      "total time10.0 : 49.56416130065918\n"
     ]
    },
    {
     "name": "stderr",
     "output_type": "stream",
     "text": [
      "loss: 0.2869, accuracy: 0.9000: 100%|██████████| 1000/1000 [00:17<00:00, 55.98it/s]\n",
      "loss: 0.5825, accuracy: 0.8500: 100%|██████████| 158/158 [00:01<00:00, 105.64it/s]\n",
      "loss: 0.3521, accuracy: 0.8500:   1%|          | 11/1000 [00:00<00:16, 58.48it/s]"
     ]
    },
    {
     "name": "stdout",
     "output_type": "stream",
     "text": [
      "Epoch 33: train_acc_0.8623_train_loss_0.4084_val_acc_0.8589_val_loss_0.4070 epoch time 19.3707 seconds\n",
      "total time11.0 : 8.93485140800476\n"
     ]
    },
    {
     "name": "stderr",
     "output_type": "stream",
     "text": [
      "loss: 0.3633, accuracy: 0.9300: 100%|██████████| 1000/1000 [00:18<00:00, 55.45it/s]\n",
      "loss: 0.4444, accuracy: 0.8700: 100%|██████████| 158/158 [00:01<00:00, 108.10it/s]\n",
      "loss: 0.4215, accuracy: 0.8500:   1%|          | 11/1000 [00:00<00:16, 58.37it/s]"
     ]
    },
    {
     "name": "stdout",
     "output_type": "stream",
     "text": [
      "Epoch 34: train_acc_0.8636_train_loss_0.4057_val_acc_0.8561_val_loss_0.4202 epoch time 19.6877 seconds\n",
      "total time11.0 : 28.62257194519043\n"
     ]
    },
    {
     "name": "stderr",
     "output_type": "stream",
     "text": [
      "loss: 0.3638, accuracy: 0.8900: 100%|██████████| 1000/1000 [00:18<00:00, 55.10it/s]\n",
      "loss: 0.7439, accuracy: 0.8200: 100%|██████████| 158/158 [00:01<00:00, 105.62it/s]\n",
      "loss: 0.4188, accuracy: 0.8800:   1%|          | 11/1000 [00:00<00:17, 57.01it/s]"
     ]
    },
    {
     "name": "stdout",
     "output_type": "stream",
     "text": [
      "Epoch 35: train_acc_0.8633_train_loss_0.4036_val_acc_0.8653_val_loss_0.4013 epoch time 19.7809 seconds\n",
      "total time11.0 : 48.40345239639282\n"
     ]
    },
    {
     "name": "stderr",
     "output_type": "stream",
     "text": [
      "loss: 0.2378, accuracy: 0.8800: 100%|██████████| 1000/1000 [00:18<00:00, 55.47it/s]\n",
      "loss: 0.4571, accuracy: 0.8200: 100%|██████████| 158/158 [00:01<00:00, 106.40it/s]\n",
      "loss: 0.3162, accuracy: 0.9100:   1%|          | 11/1000 [00:00<00:16, 59.31it/s]"
     ]
    },
    {
     "name": "stdout",
     "output_type": "stream",
     "text": [
      "Epoch 36: train_acc_0.8651_train_loss_0.4000_val_acc_0.8615_val_loss_0.4047 epoch time 19.6508 seconds\n",
      "total time12.0 : 8.054211854934692\n"
     ]
    },
    {
     "name": "stderr",
     "output_type": "stream",
     "text": [
      "loss: 0.4067, accuracy: 0.8500: 100%|██████████| 1000/1000 [00:18<00:00, 55.10it/s]\n",
      "loss: 0.3289, accuracy: 0.9100: 100%|██████████| 158/158 [00:01<00:00, 106.98it/s]\n",
      "loss: 0.2833, accuracy: 0.8800:   1%|          | 11/1000 [00:00<00:17, 57.52it/s]"
     ]
    },
    {
     "name": "stdout",
     "output_type": "stream",
     "text": [
      "Epoch 37: train_acc_0.8645_train_loss_0.3966_val_acc_0.8643_val_loss_0.3964 epoch time 19.7641 seconds\n",
      "total time12.0 : 27.818297863006592\n"
     ]
    },
    {
     "name": "stderr",
     "output_type": "stream",
     "text": [
      "loss: 0.3476, accuracy: 0.8900: 100%|██████████| 1000/1000 [00:18<00:00, 55.45it/s]\n",
      "loss: 0.3940, accuracy: 0.8800: 100%|██████████| 158/158 [00:01<00:00, 106.47it/s]\n",
      "loss: 0.2652, accuracy: 0.9000:   1%|          | 11/1000 [00:00<00:17, 57.97it/s]"
     ]
    },
    {
     "name": "stdout",
     "output_type": "stream",
     "text": [
      "Epoch 38: train_acc_0.8657_train_loss_0.3943_val_acc_0.8654_val_loss_0.3975 epoch time 19.6563 seconds\n",
      "total time12.0 : 47.47461271286011\n"
     ]
    },
    {
     "name": "stderr",
     "output_type": "stream",
     "text": [
      "loss: 0.4917, accuracy: 0.8600: 100%|██████████| 1000/1000 [00:18<00:00, 55.17it/s]\n",
      "loss: 0.4013, accuracy: 0.8200: 100%|██████████| 158/158 [00:01<00:00, 105.73it/s]\n",
      "loss: 0.3028, accuracy: 0.9200:   1%|          | 11/1000 [00:00<00:17, 57.98it/s]"
     ]
    },
    {
     "name": "stdout",
     "output_type": "stream",
     "text": [
      "Epoch 39: train_acc_0.8666_train_loss_0.3924_val_acc_0.8592_val_loss_0.4012 epoch time 19.7571 seconds\n",
      "total time13.0 : 7.231667995452881\n"
     ]
    },
    {
     "name": "stderr",
     "output_type": "stream",
     "text": [
      "loss: 0.2410, accuracy: 0.9200: 100%|██████████| 1000/1000 [00:18<00:00, 55.42it/s]\n",
      "loss: 0.3538, accuracy: 0.8900: 100%|██████████| 158/158 [00:01<00:00, 106.80it/s]\n",
      "loss: 0.3259, accuracy: 0.8700:   1%|          | 11/1000 [00:00<00:17, 57.45it/s]"
     ]
    },
    {
     "name": "stdout",
     "output_type": "stream",
     "text": [
      "Epoch 40: train_acc_0.8676_train_loss_0.3883_val_acc_0.8663_val_loss_0.3939 epoch time 19.6585 seconds\n",
      "total time13.0 : 26.890204906463623\n"
     ]
    },
    {
     "name": "stderr",
     "output_type": "stream",
     "text": [
      "loss: 0.3819, accuracy: 0.8600: 100%|██████████| 1000/1000 [00:18<00:00, 55.24it/s]\n",
      "loss: 0.3026, accuracy: 0.8800: 100%|██████████| 158/158 [00:01<00:00, 104.16it/s]\n",
      "loss: 0.2750, accuracy: 0.9100:   1%|          | 11/1000 [00:00<00:17, 57.91it/s]"
     ]
    },
    {
     "name": "stdout",
     "output_type": "stream",
     "text": [
      "Epoch 41: train_acc_0.8684_train_loss_0.3866_val_acc_0.8655_val_loss_0.3965 epoch time 19.7566 seconds\n",
      "total time13.0 : 46.646780252456665\n"
     ]
    },
    {
     "name": "stderr",
     "output_type": "stream",
     "text": [
      "loss: 0.3174, accuracy: 0.8900: 100%|██████████| 1000/1000 [00:18<00:00, 55.52it/s]\n",
      "loss: 0.3304, accuracy: 0.8500: 100%|██████████| 158/158 [00:01<00:00, 110.42it/s]\n",
      "loss: 0.3832, accuracy: 0.8600:   1%|          | 11/1000 [00:00<00:16, 58.51it/s]"
     ]
    },
    {
     "name": "stdout",
     "output_type": "stream",
     "text": [
      "Epoch 42: train_acc_0.8691_train_loss_0.3846_val_acc_0.8632_val_loss_0.3929 epoch time 19.6398 seconds\n",
      "total time14.0 : 6.2865309715271\n"
     ]
    },
    {
     "name": "stderr",
     "output_type": "stream",
     "text": [
      "loss: 0.4305, accuracy: 0.8700: 100%|██████████| 1000/1000 [00:18<00:00, 55.11it/s]\n",
      "loss: 0.5541, accuracy: 0.8100: 100%|██████████| 158/158 [00:01<00:00, 105.40it/s]\n",
      "loss: 0.4652, accuracy: 0.8600:   1%|          | 11/1000 [00:00<00:16, 58.67it/s]"
     ]
    },
    {
     "name": "stdout",
     "output_type": "stream",
     "text": [
      "Epoch 43: train_acc_0.8701_train_loss_0.3824_val_acc_0.8641_val_loss_0.3936 epoch time 19.7822 seconds\n",
      "total time14.0 : 26.06874990463257\n"
     ]
    },
    {
     "name": "stderr",
     "output_type": "stream",
     "text": [
      "loss: 0.5764, accuracy: 0.8500: 100%|██████████| 1000/1000 [00:18<00:00, 55.43it/s]\n",
      "loss: 0.4863, accuracy: 0.8700: 100%|██████████| 158/158 [00:01<00:00, 106.43it/s]\n",
      "loss: 0.3091, accuracy: 0.8800:   1%|          | 10/1000 [00:00<00:17, 57.55it/s]"
     ]
    },
    {
     "name": "stdout",
     "output_type": "stream",
     "text": [
      "Epoch 44: train_acc_0.8694_train_loss_0.3806_val_acc_0.8675_val_loss_0.3873 epoch time 19.6612 seconds\n",
      "total time14.0 : 45.72996520996094\n"
     ]
    },
    {
     "name": "stderr",
     "output_type": "stream",
     "text": [
      "loss: 0.2831, accuracy: 0.9400: 100%|██████████| 1000/1000 [00:18<00:00, 55.52it/s]\n",
      "loss: 0.4242, accuracy: 0.8500: 100%|██████████| 158/158 [00:01<00:00, 105.98it/s]\n",
      "loss: 0.3344, accuracy: 0.8800:   1%|          | 11/1000 [00:00<00:16, 58.22it/s]"
     ]
    },
    {
     "name": "stdout",
     "output_type": "stream",
     "text": [
      "Epoch 45: train_acc_0.8711_train_loss_0.3778_val_acc_0.8692_val_loss_0.3832 epoch time 19.6405 seconds\n",
      "total time15.0 : 5.370426893234253\n"
     ]
    },
    {
     "name": "stderr",
     "output_type": "stream",
     "text": [
      "loss: 0.4361, accuracy: 0.8700: 100%|██████████| 1000/1000 [00:18<00:00, 55.35it/s]\n",
      "loss: 0.5181, accuracy: 0.8800: 100%|██████████| 158/158 [00:01<00:00, 108.54it/s]\n",
      "loss: 0.5305, accuracy: 0.8500:   1%|          | 11/1000 [00:00<00:17, 57.52it/s]"
     ]
    },
    {
     "name": "stdout",
     "output_type": "stream",
     "text": [
      "Epoch 46: train_acc_0.8705_train_loss_0.3766_val_acc_0.8673_val_loss_0.3862 epoch time 19.6598 seconds\n",
      "total time15.0 : 25.030254125595093\n"
     ]
    },
    {
     "name": "stderr",
     "output_type": "stream",
     "text": [
      "loss: 0.2885, accuracy: 0.8900: 100%|██████████| 1000/1000 [00:18<00:00, 55.24it/s]\n",
      "loss: 0.4542, accuracy: 0.8300: 100%|██████████| 158/158 [00:01<00:00, 105.21it/s]\n",
      "loss: 0.5106, accuracy: 0.8500:   1%|          | 11/1000 [00:00<00:17, 58.12it/s]"
     ]
    },
    {
     "name": "stdout",
     "output_type": "stream",
     "text": [
      "Epoch 47: train_acc_0.8720_train_loss_0.3737_val_acc_0.8694_val_loss_0.3789 epoch time 19.7413 seconds\n",
      "total time15.0 : 44.771547079086304\n"
     ]
    },
    {
     "name": "stderr",
     "output_type": "stream",
     "text": [
      "loss: 0.4189, accuracy: 0.8300: 100%|██████████| 1000/1000 [00:18<00:00, 55.42it/s]\n",
      "loss: 0.3914, accuracy: 0.8700: 100%|██████████| 158/158 [00:01<00:00, 105.51it/s]\n",
      "loss: 0.3022, accuracy: 0.8900:   1%|          | 11/1000 [00:00<00:16, 61.04it/s]"
     ]
    },
    {
     "name": "stdout",
     "output_type": "stream",
     "text": [
      "Epoch 48: train_acc_0.8726_train_loss_0.3732_val_acc_0.8697_val_loss_0.3838 epoch time 19.6776 seconds\n",
      "total time16.0 : 4.44919490814209\n"
     ]
    },
    {
     "name": "stderr",
     "output_type": "stream",
     "text": [
      "loss: 0.3860, accuracy: 0.8700: 100%|██████████| 1000/1000 [00:17<00:00, 55.88it/s]\n",
      "loss: 0.3033, accuracy: 0.8800: 100%|██████████| 158/158 [00:01<00:00, 105.21it/s]\n",
      "loss: 0.2781, accuracy: 0.8700:   1%|          | 11/1000 [00:00<00:17, 57.79it/s]"
     ]
    },
    {
     "name": "stdout",
     "output_type": "stream",
     "text": [
      "Epoch 49: train_acc_0.8719_train_loss_0.3719_val_acc_0.8701_val_loss_0.3750 epoch time 19.3673 seconds\n",
      "total time16.0 : 23.81651496887207\n"
     ]
    },
    {
     "name": "stderr",
     "output_type": "stream",
     "text": [
      "loss: 0.2108, accuracy: 0.9600: 100%|██████████| 1000/1000 [00:18<00:00, 55.48it/s]\n",
      "loss: 0.2891, accuracy: 0.9000: 100%|██████████| 158/158 [00:01<00:00, 105.68it/s]\n",
      "loss: 0.4788, accuracy: 0.9000:   1%|          | 11/1000 [00:00<00:17, 57.48it/s]"
     ]
    },
    {
     "name": "stdout",
     "output_type": "stream",
     "text": [
      "Epoch 50: train_acc_0.8730_train_loss_0.3692_val_acc_0.8713_val_loss_0.3770 epoch time 19.6596 seconds\n",
      "total time16.0 : 43.47608828544617\n"
     ]
    },
    {
     "name": "stderr",
     "output_type": "stream",
     "text": [
      "loss: 0.3901, accuracy: 0.8400: 100%|██████████| 1000/1000 [00:18<00:00, 55.17it/s]\n",
      "loss: 0.3681, accuracy: 0.8300: 100%|██████████| 158/158 [00:01<00:00, 105.89it/s]\n",
      "loss: 0.3975, accuracy: 0.8600:   1%|          | 11/1000 [00:00<00:16, 59.14it/s]"
     ]
    },
    {
     "name": "stdout",
     "output_type": "stream",
     "text": [
      "Epoch 51: train_acc_0.8731_train_loss_0.3677_val_acc_0.8694_val_loss_0.3777 epoch time 19.7574 seconds\n",
      "total time17.0 : 3.2334604263305664\n"
     ]
    },
    {
     "name": "stderr",
     "output_type": "stream",
     "text": [
      "loss: 0.4181, accuracy: 0.8400: 100%|██████████| 1000/1000 [00:18<00:00, 55.43it/s]\n",
      "loss: 0.3922, accuracy: 0.8700: 100%|██████████| 158/158 [00:01<00:00, 106.78it/s]\n",
      "loss: 0.4770, accuracy: 0.8500:   1%|          | 11/1000 [00:00<00:17, 56.99it/s]"
     ]
    },
    {
     "name": "stdout",
     "output_type": "stream",
     "text": [
      "Epoch 52: train_acc_0.8731_train_loss_0.3667_val_acc_0.8706_val_loss_0.3760 epoch time 19.6559 seconds\n",
      "total time17.0 : 22.889395475387573\n"
     ]
    },
    {
     "name": "stderr",
     "output_type": "stream",
     "text": [
      "loss: 0.2403, accuracy: 0.9000: 100%|██████████| 1000/1000 [00:18<00:00, 55.26it/s]\n",
      "loss: 0.4761, accuracy: 0.8300: 100%|██████████| 158/158 [00:01<00:00, 104.79it/s]\n",
      "loss: 0.4310, accuracy: 0.9200:   1%|          | 11/1000 [00:00<00:16, 58.76it/s]"
     ]
    },
    {
     "name": "stdout",
     "output_type": "stream",
     "text": [
      "Epoch 53: train_acc_0.8738_train_loss_0.3650_val_acc_0.8746_val_loss_0.3675 epoch time 19.7437 seconds\n",
      "total time17.0 : 42.63304877281189\n"
     ]
    },
    {
     "name": "stderr",
     "output_type": "stream",
     "text": [
      "loss: 0.3767, accuracy: 0.8600: 100%|██████████| 1000/1000 [00:18<00:00, 55.40it/s]\n",
      "loss: 0.3312, accuracy: 0.9200: 100%|██████████| 158/158 [00:01<00:00, 104.29it/s]\n",
      "loss: 0.3967, accuracy: 0.8100:   1%|          | 10/1000 [00:00<00:17, 57.54it/s]"
     ]
    },
    {
     "name": "stdout",
     "output_type": "stream",
     "text": [
      "Epoch 54: train_acc_0.8747_train_loss_0.3626_val_acc_0.8701_val_loss_0.3745 epoch time 19.7060 seconds\n",
      "total time18.0 : 2.339062213897705\n"
     ]
    },
    {
     "name": "stderr",
     "output_type": "stream",
     "text": [
      "loss: 0.3285, accuracy: 0.8900: 100%|██████████| 1000/1000 [00:18<00:00, 55.07it/s]\n",
      "loss: 0.4805, accuracy: 0.8500: 100%|██████████| 158/158 [00:01<00:00, 105.48it/s]\n",
      "loss: 0.2566, accuracy: 0.9100:   1%|          | 11/1000 [00:00<00:16, 59.31it/s]"
     ]
    },
    {
     "name": "stdout",
     "output_type": "stream",
     "text": [
      "Epoch 55: train_acc_0.8739_train_loss_0.3620_val_acc_0.8708_val_loss_0.3701 epoch time 19.7932 seconds\n",
      "total time18.0 : 22.132309675216675\n"
     ]
    },
    {
     "name": "stderr",
     "output_type": "stream",
     "text": [
      "loss: 0.3442, accuracy: 0.8600: 100%|██████████| 1000/1000 [00:18<00:00, 55.45it/s]\n",
      "loss: 0.4881, accuracy: 0.7900: 100%|██████████| 158/158 [00:01<00:00, 104.82it/s]\n",
      "loss: 0.3190, accuracy: 0.8800:   1%|          | 11/1000 [00:00<00:17, 56.88it/s]"
     ]
    },
    {
     "name": "stdout",
     "output_type": "stream",
     "text": [
      "Epoch 56: train_acc_0.8750_train_loss_0.3605_val_acc_0.8733_val_loss_0.3693 epoch time 19.6784 seconds\n",
      "total time18.0 : 41.8106894493103\n"
     ]
    },
    {
     "name": "stderr",
     "output_type": "stream",
     "text": [
      "loss: 0.3895, accuracy: 0.8800: 100%|██████████| 1000/1000 [00:18<00:00, 55.03it/s]\n",
      "loss: 0.2901, accuracy: 0.9000: 100%|██████████| 158/158 [00:01<00:00, 104.58it/s]\n",
      "loss: 0.4053, accuracy: 0.8700:   1%|          | 11/1000 [00:00<00:16, 59.02it/s]"
     ]
    },
    {
     "name": "stdout",
     "output_type": "stream",
     "text": [
      "Epoch 57: train_acc_0.8760_train_loss_0.3592_val_acc_0.8741_val_loss_0.3728 epoch time 19.8190 seconds\n",
      "total time19.0 : 1.6297240257263184\n"
     ]
    },
    {
     "name": "stderr",
     "output_type": "stream",
     "text": [
      "loss: 0.4181, accuracy: 0.9000: 100%|██████████| 1000/1000 [00:18<00:00, 55.38it/s]\n",
      "loss: 0.3115, accuracy: 0.8700: 100%|██████████| 158/158 [00:01<00:00, 105.02it/s]\n",
      "loss: 0.5594, accuracy: 0.8100:   1%|          | 11/1000 [00:00<00:17, 57.49it/s]"
     ]
    },
    {
     "name": "stdout",
     "output_type": "stream",
     "text": [
      "Epoch 58: train_acc_0.8765_train_loss_0.3571_val_acc_0.8696_val_loss_0.3670 epoch time 19.6967 seconds\n",
      "total time19.0 : 21.326462507247925\n"
     ]
    },
    {
     "name": "stderr",
     "output_type": "stream",
     "text": [
      "loss: 0.2792, accuracy: 0.8600: 100%|██████████| 1000/1000 [00:18<00:00, 55.27it/s]\n",
      "loss: 0.2717, accuracy: 0.8800: 100%|██████████| 158/158 [00:01<00:00, 107.00it/s]\n",
      "loss: 0.3312, accuracy: 0.8700:   1%|          | 11/1000 [00:00<00:17, 57.53it/s]"
     ]
    },
    {
     "name": "stdout",
     "output_type": "stream",
     "text": [
      "Epoch 59: train_acc_0.8763_train_loss_0.3562_val_acc_0.8746_val_loss_0.3636 epoch time 19.7040 seconds\n",
      "total time19.0 : 41.03051161766052\n"
     ]
    },
    {
     "name": "stderr",
     "output_type": "stream",
     "text": [
      "loss: 0.3533, accuracy: 0.8700: 100%|██████████| 1000/1000 [00:18<00:00, 55.40it/s]\n",
      "loss: 0.3798, accuracy: 0.8300: 100%|██████████| 158/158 [00:01<00:00, 105.39it/s]\n",
      "loss: 0.2474, accuracy: 0.9200:   1%|          | 11/1000 [00:00<00:17, 57.34it/s]"
     ]
    },
    {
     "name": "stdout",
     "output_type": "stream",
     "text": [
      "Epoch 60: train_acc_0.8768_train_loss_0.3557_val_acc_0.8742_val_loss_0.3653 epoch time 19.6851 seconds\n",
      "total time20.0 : 0.715569019317627\n"
     ]
    },
    {
     "name": "stderr",
     "output_type": "stream",
     "text": [
      "loss: 0.3538, accuracy: 0.8100: 100%|██████████| 1000/1000 [00:18<00:00, 55.55it/s]\n",
      "loss: 0.3228, accuracy: 0.8800: 100%|██████████| 158/158 [00:01<00:00, 107.49it/s]\n",
      "loss: 0.3242, accuracy: 0.8900:   1%|          | 11/1000 [00:00<00:17, 57.84it/s]"
     ]
    },
    {
     "name": "stdout",
     "output_type": "stream",
     "text": [
      "Epoch 61: train_acc_0.8774_train_loss_0.3544_val_acc_0.8756_val_loss_0.3626 epoch time 19.6360 seconds\n",
      "total time20.0 : 20.351613759994507\n"
     ]
    },
    {
     "name": "stderr",
     "output_type": "stream",
     "text": [
      "loss: 0.3439, accuracy: 0.8800: 100%|██████████| 1000/1000 [00:18<00:00, 55.43it/s]\n",
      "loss: 0.3247, accuracy: 0.8400: 100%|██████████| 158/158 [00:01<00:00, 105.62it/s]\n",
      "loss: 0.3015, accuracy: 0.9000:   1%|          | 11/1000 [00:00<00:17, 56.60it/s]"
     ]
    },
    {
     "name": "stdout",
     "output_type": "stream",
     "text": [
      "Epoch 62: train_acc_0.8771_train_loss_0.3539_val_acc_0.8718_val_loss_0.3717 epoch time 19.6735 seconds\n",
      "total time20.0 : 40.025140047073364\n"
     ]
    },
    {
     "name": "stderr",
     "output_type": "stream",
     "text": [
      "loss: 0.3861, accuracy: 0.8700: 100%|██████████| 1000/1000 [00:18<00:00, 55.12it/s]\n",
      "loss: 0.4045, accuracy: 0.8300: 100%|██████████| 158/158 [00:01<00:00, 107.41it/s]\n",
      "loss: 0.4731, accuracy: 0.8600:   1%|          | 11/1000 [00:00<00:16, 58.40it/s]"
     ]
    },
    {
     "name": "stdout",
     "output_type": "stream",
     "text": [
      "Epoch 63: train_acc_0.8774_train_loss_0.3525_val_acc_0.8725_val_loss_0.3690 epoch time 19.7849 seconds\n",
      "total time20.0 : 59.81005334854126\n"
     ]
    },
    {
     "name": "stderr",
     "output_type": "stream",
     "text": [
      "loss: 0.4043, accuracy: 0.8100: 100%|██████████| 1000/1000 [00:17<00:00, 57.95it/s]\n",
      "loss: 0.3839, accuracy: 0.8700: 100%|██████████| 158/158 [00:01<00:00, 114.42it/s]\n",
      "loss: 0.3167, accuracy: 0.9300:   1%|          | 11/1000 [00:00<00:16, 58.33it/s]"
     ]
    },
    {
     "name": "stdout",
     "output_type": "stream",
     "text": [
      "Epoch 64: train_acc_0.8789_train_loss_0.3504_val_acc_0.8694_val_loss_0.3751 epoch time 19.4136 seconds\n",
      "total time21.0 : 19.22365379333496\n"
     ]
    },
    {
     "name": "stderr",
     "output_type": "stream",
     "text": [
      "loss: 0.2706, accuracy: 0.9400: 100%|██████████| 1000/1000 [00:17<00:00, 55.91it/s]\n",
      "loss: 0.3009, accuracy: 0.8900: 100%|██████████| 158/158 [00:01<00:00, 106.21it/s]\n",
      "loss: 0.2845, accuracy: 0.8900:   1%|          | 11/1000 [00:00<00:17, 57.59it/s]"
     ]
    },
    {
     "name": "stdout",
     "output_type": "stream",
     "text": [
      "Epoch 65: train_acc_0.8773_train_loss_0.3507_val_acc_0.8797_val_loss_0.3533 epoch time 19.5104 seconds\n",
      "total time21.0 : 38.7340362071991\n"
     ]
    },
    {
     "name": "stderr",
     "output_type": "stream",
     "text": [
      "loss: 0.2777, accuracy: 0.8600: 100%|██████████| 1000/1000 [00:18<00:00, 55.49it/s]\n",
      "loss: 0.4327, accuracy: 0.8600: 100%|██████████| 158/158 [00:01<00:00, 105.05it/s]\n",
      "loss: 0.2999, accuracy: 0.8700:   1%|          | 11/1000 [00:00<00:17, 57.76it/s]"
     ]
    },
    {
     "name": "stdout",
     "output_type": "stream",
     "text": [
      "Epoch 66: train_acc_0.8794_train_loss_0.3492_val_acc_0.8772_val_loss_0.3578 epoch time 19.6642 seconds\n",
      "total time21.0 : 58.39827036857605\n"
     ]
    },
    {
     "name": "stderr",
     "output_type": "stream",
     "text": [
      "loss: 0.3194, accuracy: 0.9200: 100%|██████████| 1000/1000 [00:18<00:00, 55.10it/s]\n",
      "loss: 0.5339, accuracy: 0.7700: 100%|██████████| 158/158 [00:01<00:00, 105.56it/s]\n",
      "loss: 0.3009, accuracy: 0.9000:   1%|          | 11/1000 [00:00<00:16, 58.98it/s]"
     ]
    },
    {
     "name": "stdout",
     "output_type": "stream",
     "text": [
      "Epoch 67: train_acc_0.8784_train_loss_0.3480_val_acc_0.8727_val_loss_0.3702 epoch time 19.7859 seconds\n",
      "total time22.0 : 18.184207677841187\n"
     ]
    },
    {
     "name": "stderr",
     "output_type": "stream",
     "text": [
      "loss: 0.3678, accuracy: 0.8900: 100%|██████████| 1000/1000 [00:18<00:00, 55.42it/s]\n",
      "loss: 0.5877, accuracy: 0.7800: 100%|██████████| 158/158 [00:01<00:00, 105.06it/s]\n",
      "loss: 0.3922, accuracy: 0.8800:   1%|          | 10/1000 [00:00<00:17, 55.35it/s]"
     ]
    },
    {
     "name": "stdout",
     "output_type": "stream",
     "text": [
      "Epoch 68: train_acc_0.8789_train_loss_0.3479_val_acc_0.8765_val_loss_0.3571 epoch time 19.6839 seconds\n",
      "total time22.0 : 37.86812663078308\n"
     ]
    },
    {
     "name": "stderr",
     "output_type": "stream",
     "text": [
      "loss: 0.5340, accuracy: 0.8200: 100%|██████████| 1000/1000 [00:18<00:00, 55.06it/s]\n",
      "loss: 0.3269, accuracy: 0.8600: 100%|██████████| 158/158 [00:01<00:00, 104.73it/s]\n",
      "loss: 0.3638, accuracy: 0.8700:   1%|          | 11/1000 [00:00<00:17, 57.81it/s]"
     ]
    },
    {
     "name": "stdout",
     "output_type": "stream",
     "text": [
      "Epoch 69: train_acc_0.8798_train_loss_0.3466_val_acc_0.8782_val_loss_0.3548 epoch time 19.8051 seconds\n",
      "total time22.0 : 57.67320680618286\n"
     ]
    },
    {
     "name": "stderr",
     "output_type": "stream",
     "text": [
      "loss: 0.3337, accuracy: 0.8800: 100%|██████████| 1000/1000 [00:18<00:00, 55.41it/s]\n",
      "loss: 0.4262, accuracy: 0.8800: 100%|██████████| 158/158 [00:01<00:00, 104.80it/s]\n",
      "loss: 0.3558, accuracy: 0.9100:   1%|          | 11/1000 [00:00<00:16, 58.98it/s]"
     ]
    },
    {
     "name": "stdout",
     "output_type": "stream",
     "text": [
      "Epoch 70: train_acc_0.8802_train_loss_0.3457_val_acc_0.8770_val_loss_0.3561 epoch time 19.6953 seconds\n",
      "total time23.0 : 17.36849331855774\n"
     ]
    },
    {
     "name": "stderr",
     "output_type": "stream",
     "text": [
      "loss: 0.4417, accuracy: 0.8900: 100%|██████████| 1000/1000 [00:18<00:00, 55.18it/s]\n",
      "loss: 0.2209, accuracy: 0.9300: 100%|██████████| 158/158 [00:01<00:00, 105.43it/s]\n",
      "loss: 0.4297, accuracy: 0.8200:   1%|          | 11/1000 [00:00<00:16, 58.33it/s]"
     ]
    },
    {
     "name": "stdout",
     "output_type": "stream",
     "text": [
      "Epoch 71: train_acc_0.8795_train_loss_0.3450_val_acc_0.8745_val_loss_0.3602 epoch time 19.7590 seconds\n",
      "total time23.0 : 37.12744402885437\n"
     ]
    },
    {
     "name": "stderr",
     "output_type": "stream",
     "text": [
      "loss: 0.3774, accuracy: 0.8400: 100%|██████████| 1000/1000 [00:18<00:00, 55.45it/s]\n",
      "loss: 0.4118, accuracy: 0.8400: 100%|██████████| 158/158 [00:01<00:00, 108.46it/s]\n",
      "loss: 0.3458, accuracy: 0.8800:   1%|          | 10/1000 [00:00<00:17, 57.22it/s]"
     ]
    },
    {
     "name": "stdout",
     "output_type": "stream",
     "text": [
      "Epoch 72: train_acc_0.8796_train_loss_0.3447_val_acc_0.8763_val_loss_0.3566 epoch time 19.6647 seconds\n",
      "total time23.0 : 56.792105197906494\n"
     ]
    },
    {
     "name": "stderr",
     "output_type": "stream",
     "text": [
      "loss: 0.2212, accuracy: 0.9200: 100%|██████████| 1000/1000 [00:18<00:00, 55.08it/s]\n",
      "loss: 0.3084, accuracy: 0.8700: 100%|██████████| 158/158 [00:01<00:00, 105.49it/s]\n",
      "loss: 0.4942, accuracy: 0.8700:   1%|          | 11/1000 [00:00<00:16, 59.35it/s]"
     ]
    },
    {
     "name": "stdout",
     "output_type": "stream",
     "text": [
      "Epoch 73: train_acc_0.8812_train_loss_0.3428_val_acc_0.8762_val_loss_0.3583 epoch time 19.7921 seconds\n",
      "total time24.0 : 16.584228515625\n"
     ]
    },
    {
     "name": "stderr",
     "output_type": "stream",
     "text": [
      "loss: 0.3277, accuracy: 0.9100: 100%|██████████| 1000/1000 [00:18<00:00, 55.48it/s]\n",
      "loss: 0.2907, accuracy: 0.8800: 100%|██████████| 158/158 [00:01<00:00, 105.96it/s]\n",
      "loss: 0.2576, accuracy: 0.8900:   1%|          | 11/1000 [00:00<00:17, 57.96it/s]"
     ]
    },
    {
     "name": "stdout",
     "output_type": "stream",
     "text": [
      "Epoch 74: train_acc_0.8802_train_loss_0.3423_val_acc_0.8705_val_loss_0.3645 epoch time 19.6542 seconds\n",
      "total time24.0 : 36.238401889801025\n"
     ]
    },
    {
     "name": "stderr",
     "output_type": "stream",
     "text": [
      "loss: 0.2248, accuracy: 0.9100: 100%|██████████| 1000/1000 [00:18<00:00, 55.07it/s]\n",
      "loss: 0.4092, accuracy: 0.8900: 100%|██████████| 158/158 [00:01<00:00, 107.33it/s]\n",
      "loss: 0.3341, accuracy: 0.9200:   1%|          | 11/1000 [00:00<00:17, 57.20it/s]"
     ]
    },
    {
     "name": "stdout",
     "output_type": "stream",
     "text": [
      "Epoch 75: train_acc_0.8808_train_loss_0.3414_val_acc_0.8794_val_loss_0.3562 epoch time 19.7672 seconds\n",
      "total time24.0 : 56.00563144683838\n"
     ]
    },
    {
     "name": "stderr",
     "output_type": "stream",
     "text": [
      "loss: 0.2411, accuracy: 0.9100: 100%|██████████| 1000/1000 [00:17<00:00, 56.06it/s]\n",
      "loss: 0.3826, accuracy: 0.8900: 100%|██████████| 158/158 [00:01<00:00, 103.98it/s]\n",
      "loss: 0.2991, accuracy: 0.8900:   1%|          | 10/1000 [00:00<00:17, 57.29it/s]"
     ]
    },
    {
     "name": "stdout",
     "output_type": "stream",
     "text": [
      "Epoch 76: train_acc_0.8818_train_loss_0.3406_val_acc_0.8751_val_loss_0.3575 epoch time 19.4950 seconds\n",
      "total time25.0 : 15.500632286071777\n"
     ]
    },
    {
     "name": "stderr",
     "output_type": "stream",
     "text": [
      "loss: 0.3688, accuracy: 0.8300: 100%|██████████| 1000/1000 [00:18<00:00, 55.33it/s]\n",
      "loss: 0.3132, accuracy: 0.8900: 100%|██████████| 158/158 [00:01<00:00, 105.79it/s]\n",
      "loss: 0.3931, accuracy: 0.8700:   1%|          | 11/1000 [00:00<00:17, 57.26it/s]"
     ]
    },
    {
     "name": "stdout",
     "output_type": "stream",
     "text": [
      "Epoch 77: train_acc_0.8813_train_loss_0.3407_val_acc_0.8811_val_loss_0.3515 epoch time 19.7033 seconds\n",
      "total time25.0 : 35.20388412475586\n"
     ]
    },
    {
     "name": "stderr",
     "output_type": "stream",
     "text": [
      "loss: 0.2380, accuracy: 0.9100: 100%|██████████| 1000/1000 [00:17<00:00, 55.56it/s]\n",
      "loss: 0.2130, accuracy: 0.9100: 100%|██████████| 158/158 [00:01<00:00, 105.62it/s]\n",
      "loss: 0.3777, accuracy: 0.8500:   1%|          | 11/1000 [00:00<00:16, 58.90it/s]"
     ]
    },
    {
     "name": "stdout",
     "output_type": "stream",
     "text": [
      "Epoch 78: train_acc_0.8810_train_loss_0.3394_val_acc_0.8766_val_loss_0.3506 epoch time 19.6293 seconds\n",
      "total time25.0 : 54.833186626434326\n"
     ]
    },
    {
     "name": "stderr",
     "output_type": "stream",
     "text": [
      "loss: 0.1909, accuracy: 0.9300: 100%|██████████| 1000/1000 [00:18<00:00, 55.08it/s]\n",
      "loss: 0.3272, accuracy: 0.8400: 100%|██████████| 158/158 [00:01<00:00, 104.55it/s]\n",
      "loss: 0.2492, accuracy: 0.9100:   1%|          | 11/1000 [00:00<00:16, 58.90it/s]"
     ]
    },
    {
     "name": "stdout",
     "output_type": "stream",
     "text": [
      "Epoch 79: train_acc_0.8811_train_loss_0.3384_val_acc_0.8765_val_loss_0.3548 epoch time 19.8044 seconds\n",
      "total time26.0 : 14.637556552886963\n"
     ]
    },
    {
     "name": "stderr",
     "output_type": "stream",
     "text": [
      "loss: 0.5183, accuracy: 0.8800: 100%|██████████| 1000/1000 [00:17<00:00, 56.59it/s]\n",
      "loss: 0.5560, accuracy: 0.8300: 100%|██████████| 158/158 [00:01<00:00, 113.06it/s]\n",
      "loss: 0.2738, accuracy: 0.8800:   1%|          | 11/1000 [00:00<00:17, 57.80it/s]"
     ]
    },
    {
     "name": "stdout",
     "output_type": "stream",
     "text": [
      "Epoch 80: train_acc_0.8824_train_loss_0.3383_val_acc_0.8725_val_loss_0.3643 epoch time 19.2036 seconds\n",
      "total time26.0 : 33.84116768836975\n"
     ]
    },
    {
     "name": "stderr",
     "output_type": "stream",
     "text": [
      "loss: 0.3472, accuracy: 0.8500: 100%|██████████| 1000/1000 [00:18<00:00, 55.24it/s]\n",
      "loss: 0.5602, accuracy: 0.8100: 100%|██████████| 158/158 [00:01<00:00, 104.88it/s]\n",
      "loss: 0.3402, accuracy: 0.8700:   1%|          | 11/1000 [00:00<00:17, 56.36it/s]"
     ]
    },
    {
     "name": "stdout",
     "output_type": "stream",
     "text": [
      "Epoch 81: train_acc_0.8811_train_loss_0.3384_val_acc_0.8673_val_loss_0.3746 epoch time 19.7462 seconds\n",
      "total time26.0 : 53.587416887283325\n"
     ]
    },
    {
     "name": "stderr",
     "output_type": "stream",
     "text": [
      "loss: 0.3672, accuracy: 0.8900: 100%|██████████| 1000/1000 [00:18<00:00, 55.37it/s]\n",
      "loss: 0.3694, accuracy: 0.8700: 100%|██████████| 158/158 [00:01<00:00, 104.38it/s]\n",
      "loss: 0.2675, accuracy: 0.9400:   1%|          | 11/1000 [00:00<00:17, 57.37it/s]"
     ]
    },
    {
     "name": "stdout",
     "output_type": "stream",
     "text": [
      "Epoch 82: train_acc_0.8828_train_loss_0.3372_val_acc_0.8778_val_loss_0.3500 epoch time 19.7126 seconds\n",
      "total time27.0 : 13.30003809928894\n"
     ]
    },
    {
     "name": "stderr",
     "output_type": "stream",
     "text": [
      "loss: 0.5151, accuracy: 0.8500: 100%|██████████| 1000/1000 [00:18<00:00, 55.34it/s]\n",
      "loss: 0.5309, accuracy: 0.8100: 100%|██████████| 158/158 [00:01<00:00, 106.00it/s]\n",
      "loss: 0.4415, accuracy: 0.8500:   1%|          | 11/1000 [00:00<00:16, 58.42it/s]"
     ]
    },
    {
     "name": "stdout",
     "output_type": "stream",
     "text": [
      "Epoch 83: train_acc_0.8815_train_loss_0.3375_val_acc_0.8804_val_loss_0.3470 epoch time 19.6954 seconds\n",
      "total time27.0 : 32.99542236328125\n"
     ]
    },
    {
     "name": "stderr",
     "output_type": "stream",
     "text": [
      "loss: 0.4629, accuracy: 0.8700: 100%|██████████| 1000/1000 [00:18<00:00, 55.40it/s]\n",
      "loss: 0.3131, accuracy: 0.8900: 100%|██████████| 158/158 [00:01<00:00, 104.84it/s]\n",
      "loss: 0.3104, accuracy: 0.8900:   1%|          | 11/1000 [00:00<00:17, 57.08it/s]"
     ]
    },
    {
     "name": "stdout",
     "output_type": "stream",
     "text": [
      "Epoch 84: train_acc_0.8826_train_loss_0.3359_val_acc_0.8775_val_loss_0.3523 epoch time 19.6961 seconds\n",
      "total time27.0 : 52.691556453704834\n"
     ]
    },
    {
     "name": "stderr",
     "output_type": "stream",
     "text": [
      "loss: 0.3131, accuracy: 0.8700: 100%|██████████| 1000/1000 [00:18<00:00, 55.11it/s]\n",
      "loss: 0.4356, accuracy: 0.8500: 100%|██████████| 158/158 [00:01<00:00, 105.07it/s]\n",
      "loss: 0.3686, accuracy: 0.8800:   1%|          | 11/1000 [00:00<00:17, 56.83it/s]"
     ]
    },
    {
     "name": "stdout",
     "output_type": "stream",
     "text": [
      "Epoch 85: train_acc_0.8831_train_loss_0.3356_val_acc_0.8759_val_loss_0.3506 epoch time 19.7885 seconds\n",
      "total time28.0 : 12.480067491531372\n"
     ]
    },
    {
     "name": "stderr",
     "output_type": "stream",
     "text": [
      "loss: 0.3348, accuracy: 0.8700: 100%|██████████| 1000/1000 [00:18<00:00, 55.49it/s]\n",
      "loss: 0.3228, accuracy: 0.8900: 100%|██████████| 158/158 [00:01<00:00, 105.60it/s]\n",
      "loss: 0.2300, accuracy: 0.9000:   1%|          | 11/1000 [00:00<00:16, 58.49it/s]"
     ]
    },
    {
     "name": "stdout",
     "output_type": "stream",
     "text": [
      "Epoch 86: train_acc_0.8829_train_loss_0.3339_val_acc_0.8751_val_loss_0.3553 epoch time 19.6547 seconds\n",
      "total time28.0 : 32.13478946685791\n"
     ]
    },
    {
     "name": "stderr",
     "output_type": "stream",
     "text": [
      "loss: 0.3462, accuracy: 0.8900: 100%|██████████| 1000/1000 [00:18<00:00, 55.13it/s]\n",
      "loss: 0.2911, accuracy: 0.9000: 100%|██████████| 158/158 [00:01<00:00, 106.49it/s]\n",
      "loss: 0.3262, accuracy: 0.8900:   1%|          | 11/1000 [00:00<00:16, 58.93it/s]"
     ]
    },
    {
     "name": "stdout",
     "output_type": "stream",
     "text": [
      "Epoch 87: train_acc_0.8838_train_loss_0.3341_val_acc_0.8806_val_loss_0.3477 epoch time 19.7580 seconds\n",
      "total time28.0 : 51.89273977279663\n"
     ]
    },
    {
     "name": "stderr",
     "output_type": "stream",
     "text": [
      "loss: 0.2630, accuracy: 0.9100: 100%|██████████| 1000/1000 [00:18<00:00, 55.53it/s]\n",
      "loss: 0.2658, accuracy: 0.9200: 100%|██████████| 158/158 [00:01<00:00, 105.14it/s]\n",
      "loss: 0.4016, accuracy: 0.8700:   1%|          | 10/1000 [00:00<00:17, 56.60it/s]"
     ]
    },
    {
     "name": "stdout",
     "output_type": "stream",
     "text": [
      "Epoch 88: train_acc_0.8837_train_loss_0.3327_val_acc_0.8732_val_loss_0.3601 epoch time 19.6465 seconds\n",
      "total time29.0 : 11.539222717285156\n"
     ]
    },
    {
     "name": "stderr",
     "output_type": "stream",
     "text": [
      "loss: 0.3910, accuracy: 0.8400: 100%|██████████| 1000/1000 [00:18<00:00, 55.23it/s]\n",
      "loss: 0.3033, accuracy: 0.8700: 100%|██████████| 158/158 [00:01<00:00, 106.14it/s]\n",
      "loss: 0.3805, accuracy: 0.8700:   1%|          | 11/1000 [00:00<00:16, 59.99it/s]"
     ]
    },
    {
     "name": "stdout",
     "output_type": "stream",
     "text": [
      "Epoch 89: train_acc_0.8838_train_loss_0.3332_val_acc_0.8802_val_loss_0.3448 epoch time 19.7338 seconds\n",
      "total time29.0 : 31.273025035858154\n"
     ]
    },
    {
     "name": "stderr",
     "output_type": "stream",
     "text": [
      "loss: 0.2706, accuracy: 0.9100: 100%|██████████| 1000/1000 [00:18<00:00, 55.47it/s]\n",
      "loss: 0.3150, accuracy: 0.8700: 100%|██████████| 158/158 [00:01<00:00, 104.77it/s]\n",
      "loss: 0.2836, accuracy: 0.8600:   1%|          | 10/1000 [00:00<00:17, 56.66it/s]"
     ]
    },
    {
     "name": "stdout",
     "output_type": "stream",
     "text": [
      "Epoch 90: train_acc_0.8837_train_loss_0.3327_val_acc_0.8762_val_loss_0.3508 epoch time 19.6728 seconds\n",
      "total time29.0 : 50.945857763290405\n"
     ]
    },
    {
     "name": "stderr",
     "output_type": "stream",
     "text": [
      "loss: 0.2028, accuracy: 0.9500: 100%|██████████| 1000/1000 [00:18<00:00, 55.08it/s]\n",
      "loss: 0.3006, accuracy: 0.9200: 100%|██████████| 158/158 [00:01<00:00, 105.67it/s]\n",
      "loss: 0.4921, accuracy: 0.8800:   1%|          | 11/1000 [00:00<00:16, 58.28it/s]"
     ]
    },
    {
     "name": "stdout",
     "output_type": "stream",
     "text": [
      "Epoch 91: train_acc_0.8831_train_loss_0.3323_val_acc_0.8767_val_loss_0.3523 epoch time 19.7864 seconds\n",
      "total time30.0 : 10.732285499572754\n"
     ]
    },
    {
     "name": "stderr",
     "output_type": "stream",
     "text": [
      "loss: 0.3561, accuracy: 0.9200: 100%|██████████| 1000/1000 [00:17<00:00, 56.01it/s]\n",
      "loss: 0.2754, accuracy: 0.8800: 100%|██████████| 158/158 [00:01<00:00, 104.45it/s]\n",
      "loss: 0.2757, accuracy: 0.8600:   1%|          | 11/1000 [00:00<00:17, 57.69it/s]"
     ]
    },
    {
     "name": "stdout",
     "output_type": "stream",
     "text": [
      "Epoch 92: train_acc_0.8835_train_loss_0.3309_val_acc_0.8800_val_loss_0.3453 epoch time 19.5049 seconds\n",
      "total time30.0 : 30.237192392349243\n"
     ]
    },
    {
     "name": "stderr",
     "output_type": "stream",
     "text": [
      "loss: 0.3025, accuracy: 0.8800: 100%|██████████| 1000/1000 [00:18<00:00, 55.14it/s]\n",
      "loss: 0.3514, accuracy: 0.9000: 100%|██████████| 158/158 [00:01<00:00, 105.93it/s]\n",
      "loss: 0.4162, accuracy: 0.8400:   1%|          | 11/1000 [00:00<00:17, 57.99it/s]"
     ]
    },
    {
     "name": "stdout",
     "output_type": "stream",
     "text": [
      "Epoch 93: train_acc_0.8837_train_loss_0.3307_val_acc_0.8788_val_loss_0.3515 epoch time 19.7635 seconds\n",
      "total time30.0 : 50.000701904296875\n"
     ]
    },
    {
     "name": "stderr",
     "output_type": "stream",
     "text": [
      "loss: 0.4200, accuracy: 0.8500: 100%|██████████| 1000/1000 [00:18<00:00, 55.49it/s]\n",
      "loss: 0.2967, accuracy: 0.8900: 100%|██████████| 158/158 [00:01<00:00, 108.98it/s]\n",
      "loss: 0.4746, accuracy: 0.8200:   1%|          | 10/1000 [00:00<00:17, 56.66it/s]"
     ]
    },
    {
     "name": "stdout",
     "output_type": "stream",
     "text": [
      "Epoch 94: train_acc_0.8839_train_loss_0.3306_val_acc_0.8782_val_loss_0.3508 epoch time 19.6501 seconds\n",
      "total time31.0 : 9.650772333145142\n"
     ]
    },
    {
     "name": "stderr",
     "output_type": "stream",
     "text": [
      "loss: 0.3828, accuracy: 0.8500: 100%|██████████| 1000/1000 [00:18<00:00, 54.83it/s]\n",
      "loss: 0.3457, accuracy: 0.8900: 100%|██████████| 158/158 [00:01<00:00, 115.46it/s]\n",
      "loss: 0.2241, accuracy: 0.9000:   1%|          | 11/1000 [00:00<00:16, 58.62it/s]"
     ]
    },
    {
     "name": "stdout",
     "output_type": "stream",
     "text": [
      "Epoch 95: train_acc_0.8839_train_loss_0.3304_val_acc_0.8742_val_loss_0.3523 epoch time 19.7411 seconds\n",
      "total time31.0 : 29.391834497451782\n"
     ]
    },
    {
     "name": "stderr",
     "output_type": "stream",
     "text": [
      "loss: 0.2867, accuracy: 0.9100: 100%|██████████| 1000/1000 [00:17<00:00, 57.06it/s]\n",
      "loss: 0.2954, accuracy: 0.9200: 100%|██████████| 158/158 [00:01<00:00, 104.72it/s]\n",
      "loss: 0.2533, accuracy: 0.9000:   1%|          | 11/1000 [00:00<00:17, 58.00it/s]"
     ]
    },
    {
     "name": "stdout",
     "output_type": "stream",
     "text": [
      "Epoch 96: train_acc_0.8843_train_loss_0.3292_val_acc_0.8784_val_loss_0.3476 epoch time 19.1730 seconds\n",
      "total time31.0 : 48.56480574607849\n"
     ]
    },
    {
     "name": "stderr",
     "output_type": "stream",
     "text": [
      "loss: 0.3430, accuracy: 0.8700: 100%|██████████| 1000/1000 [00:18<00:00, 55.15it/s]\n",
      "loss: 0.3259, accuracy: 0.8600: 100%|██████████| 158/158 [00:01<00:00, 106.56it/s]\n",
      "loss: 0.3642, accuracy: 0.8500:   1%|          | 11/1000 [00:00<00:16, 59.01it/s]"
     ]
    },
    {
     "name": "stdout",
     "output_type": "stream",
     "text": [
      "Epoch 97: train_acc_0.8849_train_loss_0.3285_val_acc_0.8803_val_loss_0.3472 epoch time 19.7504 seconds\n",
      "total time32.0 : 8.315196990966797\n"
     ]
    },
    {
     "name": "stderr",
     "output_type": "stream",
     "text": [
      "loss: 0.2610, accuracy: 0.8900: 100%|██████████| 1000/1000 [00:18<00:00, 55.51it/s]\n",
      "loss: 0.2293, accuracy: 0.9500: 100%|██████████| 158/158 [00:01<00:00, 105.34it/s]\n",
      "loss: 0.1705, accuracy: 0.9400:   1%|          | 10/1000 [00:00<00:17, 57.66it/s]"
     ]
    },
    {
     "name": "stdout",
     "output_type": "stream",
     "text": [
      "Epoch 98: train_acc_0.8851_train_loss_0.3285_val_acc_0.8775_val_loss_0.3456 epoch time 19.6530 seconds\n",
      "total time32.0 : 27.968169450759888\n"
     ]
    },
    {
     "name": "stderr",
     "output_type": "stream",
     "text": [
      "loss: 0.2739, accuracy: 0.9000: 100%|██████████| 1000/1000 [00:18<00:00, 55.17it/s]\n",
      "loss: 0.4374, accuracy: 0.8500: 100%|██████████| 158/158 [00:01<00:00, 105.16it/s]\n",
      "loss: 0.2921, accuracy: 0.8900:  13%|█▎        | 21/158 [00:00<00:01, 118.59it/s]"
     ]
    },
    {
     "name": "stdout",
     "output_type": "stream",
     "text": [
      "Epoch 99: train_acc_0.8851_train_loss_0.3286_val_acc_0.8786_val_loss_0.3409 epoch time 19.7654 seconds\n",
      "total time32.0 : 47.73356294631958\n",
      "Generating test set evaluation metrics\n"
     ]
    },
    {
     "name": "stderr",
     "output_type": "stream",
     "text": [
      "loss: 0.3802, accuracy: 0.8400: 100%|██████████| 158/158 [00:01<00:00, 102.70it/s]\n"
     ]
    },
    {
     "name": "stdout",
     "output_type": "stream",
     "text": [
      "finish\n"
     ]
    },
    {
     "data": {
      "image/png": "[encoded data removed]",
      "text/plain": [
       "<Figure size 576x288 with 1 Axes>"
      ]
     },
     "metadata": {
      "needs_background": "light"
     },
     "output_type": "display_data"
    },
    {
     "data": {
      "image/png": "[encoded data removed]",
      "text/plain": [
       "<Figure size 576x288 with 1 Axes>"
      ]
     },
     "metadata": {
      "needs_background": "light"
     },
     "output_type": "display_data"
    },
    {
     "name": "stderr",
     "output_type": "stream",
     "text": [
      "loss: 3.8493, accuracy: 0.0500:   0%|          | 1/1000 [00:00<00:20, 48.00it/s]"
     ]
    },
    {
     "name": "stdout",
     "output_type": "stream",
     "text": [
      "Building basic block of ConvolutionalNetwork using input shape (100, 1, 28, 28)\n",
      "torch.Size([100, 64, 28, 28])\n",
      "torch.Size([100, 64, 15, 15])\n",
      "torch.Size([100, 64, 15, 15])\n",
      "torch.Size([100, 64, 8, 8])\n",
      "torch.Size([100, 64, 8, 8])\n",
      "torch.Size([100, 64, 5, 5])\n",
      "shape before final linear layer torch.Size([100, 64, 2, 2])\n",
      "Block is built, output volume is torch.Size([100, 47])\n",
      "use GPU\n",
      "ConvolutionalNetwork(\n",
      "  (layer_dict): ModuleDict(\n",
      "    (conv_0): Conv2d(1, 64, kernel_size=(3, 3), stride=(1, 1), padding=(1, 1))\n",
      "    (dim_reduction_avg_pool_0): AvgPool2d(kernel_size=2, stride=2, padding=1)\n",
      "    (conv_1): Conv2d(64, 64, kernel_size=(3, 3), stride=(1, 1), padding=(1, 1))\n",
      "    (dim_reduction_avg_pool_1): AvgPool2d(kernel_size=2, stride=2, padding=1)\n",
      "    (conv_2): Conv2d(64, 64, kernel_size=(3, 3), stride=(1, 1), padding=(1, 1))\n",
      "    (dim_reduction_avg_pool_2): AvgPool2d(kernel_size=2, stride=2, padding=1)\n",
      "  )\n",
      "  (logit_linear_layer): Linear(in_features=256, out_features=47, bias=True)\n",
      ")\n"
     ]
    },
    {
     "name": "stderr",
     "output_type": "stream",
     "text": [
      "loss: 0.6694, accuracy: 0.7500: 100%|██████████| 1000/1000 [00:20<00:00, 48.83it/s]\n",
      "loss: 0.6682, accuracy: 0.8200: 100%|██████████| 158/158 [00:01<00:00, 99.03it/s] \n",
      "loss: 0.8469, accuracy: 0.7100:   1%|          | 9/1000 [00:00<00:20, 48.96it/s]"
     ]
    },
    {
     "name": "stdout",
     "output_type": "stream",
     "text": [
      "Epoch 0: train_acc_0.5309_train_loss_1.6570_val_acc_0.7401_val_loss_0.8601 epoch time 22.2090 seconds\n",
      "total time0.0 : 22.209009885787964\n"
     ]
    },
    {
     "name": "stderr",
     "output_type": "stream",
     "text": [
      "loss: 0.7088, accuracy: 0.7600: 100%|██████████| 1000/1000 [00:20<00:00, 49.05it/s]\n",
      "loss: 0.5320, accuracy: 0.8100: 100%|██████████| 158/158 [00:01<00:00, 98.12it/s] \n",
      "loss: 0.4858, accuracy: 0.8300:   1%|          | 10/1000 [00:00<00:18, 53.50it/s]"
     ]
    },
    {
     "name": "stdout",
     "output_type": "stream",
     "text": [
      "Epoch 1: train_acc_0.7622_train_loss_0.7565_val_acc_0.7980_val_loss_0.6433 epoch time 22.1374 seconds\n",
      "total time0.0 : 44.346412658691406\n"
     ]
    },
    {
     "name": "stderr",
     "output_type": "stream",
     "text": [
      "loss: 0.4846, accuracy: 0.8400: 100%|██████████| 1000/1000 [00:20<00:00, 49.19it/s]\n",
      "loss: 0.5796, accuracy: 0.7700: 100%|██████████| 158/158 [00:01<00:00, 100.65it/s]\n",
      "loss: 0.5240, accuracy: 0.7700:   1%|          | 9/1000 [00:00<00:19, 50.62it/s]"
     ]
    },
    {
     "name": "stdout",
     "output_type": "stream",
     "text": [
      "Epoch 2: train_acc_0.8015_train_loss_0.6142_val_acc_0.8147_val_loss_0.5586 epoch time 22.0382 seconds\n",
      "total time1.0 : 6.384628057479858\n"
     ]
    },
    {
     "name": "stderr",
     "output_type": "stream",
     "text": [
      "loss: 0.5111, accuracy: 0.8200: 100%|██████████| 1000/1000 [00:20<00:00, 49.02it/s]\n",
      "loss: 0.6127, accuracy: 0.7600: 100%|██████████| 158/158 [00:01<00:00, 98.30it/s] \n",
      "loss: 0.4942, accuracy: 0.8000:   1%|          | 9/1000 [00:00<00:18, 52.94it/s]"
     ]
    },
    {
     "name": "stdout",
     "output_type": "stream",
     "text": [
      "Epoch 3: train_acc_0.8223_train_loss_0.5404_val_acc_0.8240_val_loss_0.5135 epoch time 22.1460 seconds\n",
      "total time1.0 : 28.530667304992676\n"
     ]
    },
    {
     "name": "stderr",
     "output_type": "stream",
     "text": [
      "loss: 0.3519, accuracy: 0.8500: 100%|██████████| 1000/1000 [00:20<00:00, 49.06it/s]\n",
      "loss: 0.4856, accuracy: 0.8300: 100%|██████████| 158/158 [00:01<00:00, 99.78it/s] \n",
      "loss: 0.3803, accuracy: 0.8800:   1%|          | 9/1000 [00:00<00:19, 49.81it/s]"
     ]
    },
    {
     "name": "stdout",
     "output_type": "stream",
     "text": [
      "Epoch 4: train_acc_0.8325_train_loss_0.5000_val_acc_0.8326_val_loss_0.4748 epoch time 22.1041 seconds\n",
      "total time1.0 : 50.634806871414185\n"
     ]
    },
    {
     "name": "stderr",
     "output_type": "stream",
     "text": [
      "loss: 0.6968, accuracy: 0.7600: 100%|██████████| 1000/1000 [00:20<00:00, 48.85it/s]\n",
      "loss: 0.4475, accuracy: 0.8400: 100%|██████████| 158/158 [00:01<00:00, 98.17it/s] \n",
      "loss: 0.4770, accuracy: 0.8400:   1%|          | 9/1000 [00:00<00:18, 52.76it/s]"
     ]
    },
    {
     "name": "stdout",
     "output_type": "stream",
     "text": [
      "Epoch 5: train_acc_0.8417_train_loss_0.4681_val_acc_0.8503_val_loss_0.4398 epoch time 22.2186 seconds\n",
      "total time2.0 : 12.853381872177124\n"
     ]
    },
    {
     "name": "stderr",
     "output_type": "stream",
     "text": [
      "loss: 0.4084, accuracy: 0.8800: 100%|██████████| 1000/1000 [00:20<00:00, 49.21it/s]\n",
      "loss: 0.4215, accuracy: 0.8600: 100%|██████████| 158/158 [00:01<00:00, 100.39it/s]\n",
      "loss: 0.5021, accuracy: 0.7900:   1%|          | 9/1000 [00:00<00:19, 49.95it/s]"
     ]
    },
    {
     "name": "stdout",
     "output_type": "stream",
     "text": [
      "Epoch 6: train_acc_0.8482_train_loss_0.4461_val_acc_0.8460_val_loss_0.4494 epoch time 22.0315 seconds\n",
      "total time2.0 : 34.88492798805237\n"
     ]
    },
    {
     "name": "stderr",
     "output_type": "stream",
     "text": [
      "loss: 0.3928, accuracy: 0.8900: 100%|██████████| 1000/1000 [00:20<00:00, 48.93it/s]\n",
      "loss: 0.4758, accuracy: 0.8200: 100%|██████████| 158/158 [00:01<00:00, 98.77it/s] \n",
      "loss: 0.4681, accuracy: 0.8700:   1%|          | 9/1000 [00:00<00:18, 52.19it/s]"
     ]
    },
    {
     "name": "stdout",
     "output_type": "stream",
     "text": [
      "Epoch 7: train_acc_0.8526_train_loss_0.4265_val_acc_0.8599_val_loss_0.4046 epoch time 22.1744 seconds\n",
      "total time2.0 : 57.059349060058594\n"
     ]
    },
    {
     "name": "stderr",
     "output_type": "stream",
     "text": [
      "loss: 0.4330, accuracy: 0.8600: 100%|██████████| 1000/1000 [00:20<00:00, 49.07it/s]\n",
      "loss: 0.4141, accuracy: 0.8300: 100%|██████████| 158/158 [00:01<00:00, 100.06it/s]\n",
      "loss: 0.3727, accuracy: 0.8300:   1%|          | 9/1000 [00:00<00:19, 50.26it/s]"
     ]
    },
    {
     "name": "stdout",
     "output_type": "stream",
     "text": [
      "Epoch 8: train_acc_0.8572_train_loss_0.4153_val_acc_0.8618_val_loss_0.3878 epoch time 22.0958 seconds\n",
      "total time3.0 : 19.155166625976562\n"
     ]
    },
    {
     "name": "stderr",
     "output_type": "stream",
     "text": [
      "loss: 0.4837, accuracy: 0.9100: 100%|██████████| 1000/1000 [00:20<00:00, 49.01it/s]\n",
      "loss: 0.2501, accuracy: 0.9200: 100%|██████████| 158/158 [00:01<00:00, 99.11it/s] \n",
      "loss: 0.3528, accuracy: 0.8700:   1%|          | 9/1000 [00:00<00:19, 51.95it/s]"
     ]
    },
    {
     "name": "stdout",
     "output_type": "stream",
     "text": [
      "Epoch 9: train_acc_0.8610_train_loss_0.3991_val_acc_0.8650_val_loss_0.3859 epoch time 22.1373 seconds\n",
      "total time3.0 : 41.292420864105225\n"
     ]
    },
    {
     "name": "stderr",
     "output_type": "stream",
     "text": [
      "loss: 0.3530, accuracy: 0.8800: 100%|██████████| 1000/1000 [00:20<00:00, 49.47it/s]\n",
      "loss: 0.3216, accuracy: 0.9000: 100%|██████████| 158/158 [00:01<00:00, 103.19it/s]\n",
      "loss: 0.4281, accuracy: 0.8200:   1%|          | 9/1000 [00:00<00:19, 49.70it/s]"
     ]
    },
    {
     "name": "stdout",
     "output_type": "stream",
     "text": [
      "Epoch 10: train_acc_0.8660_train_loss_0.3878_val_acc_0.8717_val_loss_0.3733 epoch time 21.8810 seconds\n",
      "total time4.0 : 3.173460006713867\n"
     ]
    },
    {
     "name": "stderr",
     "output_type": "stream",
     "text": [
      "loss: 0.4197, accuracy: 0.8400: 100%|██████████| 1000/1000 [00:20<00:00, 49.21it/s]\n",
      "loss: 0.3228, accuracy: 0.8800: 100%|██████████| 158/158 [00:01<00:00, 98.96it/s] \n",
      "loss: 0.2949, accuracy: 0.9000:   1%|          | 10/1000 [00:00<00:18, 52.24it/s]"
     ]
    },
    {
     "name": "stdout",
     "output_type": "stream",
     "text": [
      "Epoch 11: train_acc_0.8679_train_loss_0.3775_val_acc_0.8649_val_loss_0.3815 epoch time 22.0622 seconds\n",
      "total time4.0 : 25.2356276512146\n"
     ]
    },
    {
     "name": "stderr",
     "output_type": "stream",
     "text": [
      "loss: 0.2467, accuracy: 0.9200: 100%|██████████| 1000/1000 [00:20<00:00, 49.10it/s]\n",
      "loss: 0.4196, accuracy: 0.8400: 100%|██████████| 158/158 [00:01<00:00, 100.50it/s]\n",
      "loss: 0.2997, accuracy: 0.8800:   1%|          | 9/1000 [00:00<00:19, 49.72it/s]"
     ]
    },
    {
     "name": "stdout",
     "output_type": "stream",
     "text": [
      "Epoch 12: train_acc_0.8721_train_loss_0.3680_val_acc_0.8759_val_loss_0.3580 epoch time 22.0787 seconds\n",
      "total time4.0 : 47.31437635421753\n"
     ]
    },
    {
     "name": "stderr",
     "output_type": "stream",
     "text": [
      "loss: 0.2022, accuracy: 0.9400: 100%|██████████| 1000/1000 [00:20<00:00, 48.98it/s]\n",
      "loss: 0.2623, accuracy: 0.9100: 100%|██████████| 158/158 [00:01<00:00, 98.52it/s] \n",
      "loss: 0.4494, accuracy: 0.8500:   1%|          | 10/1000 [00:00<00:18, 53.82it/s]"
     ]
    },
    {
     "name": "stdout",
     "output_type": "stream",
     "text": [
      "Epoch 13: train_acc_0.8727_train_loss_0.3602_val_acc_0.8737_val_loss_0.3632 epoch time 22.1529 seconds\n",
      "total time5.0 : 9.467259645462036\n"
     ]
    },
    {
     "name": "stderr",
     "output_type": "stream",
     "text": [
      "loss: 0.4909, accuracy: 0.7900: 100%|██████████| 1000/1000 [00:20<00:00, 49.33it/s]\n",
      "loss: 0.2916, accuracy: 0.8800: 100%|██████████| 158/158 [00:01<00:00, 98.73it/s] \n",
      "loss: 0.2562, accuracy: 0.8900:   1%|          | 9/1000 [00:00<00:19, 49.94it/s]"
     ]
    },
    {
     "name": "stdout",
     "output_type": "stream",
     "text": [
      "Epoch 14: train_acc_0.8744_train_loss_0.3544_val_acc_0.8802_val_loss_0.3482 epoch time 22.1255 seconds\n",
      "total time5.0 : 31.5927791595459\n"
     ]
    },
    {
     "name": "stderr",
     "output_type": "stream",
     "text": [
      "loss: 0.4733, accuracy: 0.7900: 100%|██████████| 1000/1000 [00:20<00:00, 49.11it/s]\n",
      "loss: 0.4977, accuracy: 0.8400: 100%|██████████| 158/158 [00:01<00:00, 97.91it/s] \n",
      "loss: 0.2369, accuracy: 0.9300:   1%|          | 9/1000 [00:00<00:19, 51.34it/s]"
     ]
    },
    {
     "name": "stdout",
     "output_type": "stream",
     "text": [
      "Epoch 15: train_acc_0.8765_train_loss_0.3465_val_acc_0.8734_val_loss_0.3555 epoch time 22.1163 seconds\n",
      "total time5.0 : 53.709078550338745\n"
     ]
    },
    {
     "name": "stderr",
     "output_type": "stream",
     "text": [
      "loss: 0.3115, accuracy: 0.8800: 100%|██████████| 1000/1000 [00:20<00:00, 48.90it/s]\n",
      "loss: 0.4095, accuracy: 0.8800: 100%|██████████| 158/158 [00:01<00:00, 100.48it/s]\n",
      "loss: 0.2931, accuracy: 0.8800:   1%|          | 9/1000 [00:00<00:19, 50.46it/s]"
     ]
    },
    {
     "name": "stdout",
     "output_type": "stream",
     "text": [
      "Epoch 16: train_acc_0.8786_train_loss_0.3410_val_acc_0.8783_val_loss_0.3455 epoch time 22.1586 seconds\n",
      "total time6.0 : 15.867647171020508\n"
     ]
    },
    {
     "name": "stderr",
     "output_type": "stream",
     "text": [
      "loss: 0.3805, accuracy: 0.8300: 100%|██████████| 1000/1000 [00:20<00:00, 49.02it/s]\n",
      "loss: 0.5355, accuracy: 0.8500: 100%|██████████| 158/158 [00:01<00:00, 97.72it/s] \n",
      "loss: 0.2807, accuracy: 0.9100:   1%|          | 9/1000 [00:00<00:18, 52.68it/s]"
     ]
    },
    {
     "name": "stdout",
     "output_type": "stream",
     "text": [
      "Epoch 17: train_acc_0.8797_train_loss_0.3350_val_acc_0.8755_val_loss_0.3468 epoch time 22.2153 seconds\n",
      "total time6.0 : 38.08298325538635\n"
     ]
    },
    {
     "name": "stderr",
     "output_type": "stream",
     "text": [
      "loss: 0.3215, accuracy: 0.9000: 100%|██████████| 1000/1000 [00:20<00:00, 49.15it/s]\n",
      "loss: 0.3536, accuracy: 0.8900: 100%|██████████| 158/158 [00:01<00:00, 99.75it/s] \n",
      "loss: 0.2740, accuracy: 0.9100:   1%|          | 9/1000 [00:00<00:19, 50.05it/s]"
     ]
    },
    {
     "name": "stdout",
     "output_type": "stream",
     "text": [
      "Epoch 18: train_acc_0.8819_train_loss_0.3322_val_acc_0.8808_val_loss_0.3399 epoch time 22.0685 seconds\n",
      "total time7.0 : 0.15151548385620117\n"
     ]
    },
    {
     "name": "stderr",
     "output_type": "stream",
     "text": [
      "loss: 0.3119, accuracy: 0.8800: 100%|██████████| 1000/1000 [00:20<00:00, 49.04it/s]\n",
      "loss: 0.2346, accuracy: 0.9000: 100%|██████████| 158/158 [00:01<00:00, 97.72it/s] \n",
      "loss: 0.2664, accuracy: 0.9100:   1%|          | 9/1000 [00:00<00:18, 52.21it/s]"
     ]
    },
    {
     "name": "stdout",
     "output_type": "stream",
     "text": [
      "Epoch 19: train_acc_0.8836_train_loss_0.3258_val_acc_0.8823_val_loss_0.3419 epoch time 22.1476 seconds\n",
      "total time7.0 : 22.299097776412964\n"
     ]
    },
    {
     "name": "stderr",
     "output_type": "stream",
     "text": [
      "loss: 0.4412, accuracy: 0.8600: 100%|██████████| 1000/1000 [00:20<00:00, 49.34it/s]\n",
      "loss: 0.3784, accuracy: 0.8600: 100%|██████████| 158/158 [00:01<00:00, 98.88it/s] \n",
      "loss: 0.1744, accuracy: 0.9200:   1%|          | 9/1000 [00:00<00:19, 49.89it/s]"
     ]
    },
    {
     "name": "stdout",
     "output_type": "stream",
     "text": [
      "Epoch 20: train_acc_0.8849_train_loss_0.3219_val_acc_0.8802_val_loss_0.3358 epoch time 22.0330 seconds\n",
      "total time7.0 : 44.33206009864807\n"
     ]
    },
    {
     "name": "stderr",
     "output_type": "stream",
     "text": [
      "loss: 0.5623, accuracy: 0.8200: 100%|██████████| 1000/1000 [00:20<00:00, 49.01it/s]\n",
      "loss: 0.6449, accuracy: 0.8400: 100%|██████████| 158/158 [00:01<00:00, 98.60it/s] \n",
      "loss: 0.3802, accuracy: 0.8900:   1%|          | 10/1000 [00:00<00:18, 52.91it/s]"
     ]
    },
    {
     "name": "stdout",
     "output_type": "stream",
     "text": [
      "Epoch 21: train_acc_0.8850_train_loss_0.3194_val_acc_0.8766_val_loss_0.3584 epoch time 22.1585 seconds\n",
      "total time8.0 : 6.490572690963745\n"
     ]
    },
    {
     "name": "stderr",
     "output_type": "stream",
     "text": [
      "loss: 0.2622, accuracy: 0.9400: 100%|██████████| 1000/1000 [00:20<00:00, 48.92it/s]\n",
      "loss: 0.3162, accuracy: 0.8600: 100%|██████████| 158/158 [00:01<00:00, 99.65it/s] \n",
      "loss: 0.2042, accuracy: 0.9500:   1%|          | 9/1000 [00:00<00:19, 51.24it/s]"
     ]
    },
    {
     "name": "stdout",
     "output_type": "stream",
     "text": [
      "Epoch 22: train_acc_0.8861_train_loss_0.3152_val_acc_0.8791_val_loss_0.3351 epoch time 22.1628 seconds\n",
      "total time8.0 : 28.653369188308716\n"
     ]
    },
    {
     "name": "stderr",
     "output_type": "stream",
     "text": [
      "loss: 0.2367, accuracy: 0.9200: 100%|██████████| 1000/1000 [00:20<00:00, 49.30it/s]\n",
      "loss: 0.3445, accuracy: 0.8900: 100%|██████████| 158/158 [00:01<00:00, 97.96it/s] \n",
      "loss: 0.3513, accuracy: 0.9000:   1%|          | 9/1000 [00:00<00:18, 52.24it/s]"
     ]
    },
    {
     "name": "stdout",
     "output_type": "stream",
     "text": [
      "Epoch 23: train_acc_0.8884_train_loss_0.3103_val_acc_0.8822_val_loss_0.3334 epoch time 22.1539 seconds\n",
      "total time8.0 : 50.80722761154175\n"
     ]
    },
    {
     "name": "stderr",
     "output_type": "stream",
     "text": [
      "loss: 0.3911, accuracy: 0.8500: 100%|██████████| 1000/1000 [00:20<00:00, 49.32it/s]\n",
      "loss: 0.3142, accuracy: 0.9200: 100%|██████████| 158/158 [00:01<00:00, 103.01it/s]\n",
      "loss: 0.2911, accuracy: 0.8700:   1%|          | 9/1000 [00:00<00:19, 50.47it/s]"
     ]
    },
    {
     "name": "stdout",
     "output_type": "stream",
     "text": [
      "Epoch 24: train_acc_0.8889_train_loss_0.3090_val_acc_0.8782_val_loss_0.3345 epoch time 21.9456 seconds\n",
      "total time9.0 : 12.752856731414795\n"
     ]
    },
    {
     "name": "stderr",
     "output_type": "stream",
     "text": [
      "loss: 0.3167, accuracy: 0.8800: 100%|██████████| 1000/1000 [00:20<00:00, 49.20it/s]\n",
      "loss: 0.2968, accuracy: 0.9100: 100%|██████████| 158/158 [00:01<00:00, 100.27it/s]\n",
      "loss: 0.5497, accuracy: 0.7900:   1%|          | 9/1000 [00:00<00:19, 51.59it/s]"
     ]
    },
    {
     "name": "stdout",
     "output_type": "stream",
     "text": [
      "Epoch 25: train_acc_0.8893_train_loss_0.3045_val_acc_0.8815_val_loss_0.3299 epoch time 22.0760 seconds\n",
      "total time9.0 : 34.82885122299194\n"
     ]
    },
    {
     "name": "stderr",
     "output_type": "stream",
     "text": [
      "loss: 0.2366, accuracy: 0.9000: 100%|██████████| 1000/1000 [00:20<00:00, 48.98it/s]\n",
      "loss: 0.3714, accuracy: 0.8900: 100%|██████████| 158/158 [00:01<00:00, 100.22it/s]\n",
      "loss: 0.2294, accuracy: 0.8900:   1%|          | 9/1000 [00:00<00:19, 50.29it/s]"
     ]
    },
    {
     "name": "stdout",
     "output_type": "stream",
     "text": [
      "Epoch 26: train_acc_0.8903_train_loss_0.3030_val_acc_0.8801_val_loss_0.3345 epoch time 22.1321 seconds\n",
      "total time9.0 : 56.96092915534973\n"
     ]
    },
    {
     "name": "stderr",
     "output_type": "stream",
     "text": [
      "loss: 0.2430, accuracy: 0.9100: 100%|██████████| 1000/1000 [00:20<00:00, 49.93it/s]\n",
      "loss: 0.2456, accuracy: 0.9200: 100%|██████████| 158/158 [00:01<00:00, 98.38it/s] \n",
      "loss: 0.3326, accuracy: 0.8700:   1%|          | 10/1000 [00:00<00:18, 52.28it/s]"
     ]
    },
    {
     "name": "stdout",
     "output_type": "stream",
     "text": [
      "Epoch 27: train_acc_0.8907_train_loss_0.2997_val_acc_0.8834_val_loss_0.3275 epoch time 22.1756 seconds\n",
      "total time10.0 : 19.136549949645996\n"
     ]
    },
    {
     "name": "stderr",
     "output_type": "stream",
     "text": [
      "loss: 0.2253, accuracy: 0.9000: 100%|██████████| 1000/1000 [00:20<00:00, 48.94it/s]\n",
      "loss: 0.4365, accuracy: 0.8800: 100%|██████████| 158/158 [00:01<00:00, 98.59it/s] \n",
      "loss: 0.2610, accuracy: 0.8900:   1%|          | 9/1000 [00:00<00:19, 50.00it/s]"
     ]
    },
    {
     "name": "stdout",
     "output_type": "stream",
     "text": [
      "Epoch 28: train_acc_0.8923_train_loss_0.2953_val_acc_0.8825_val_loss_0.3262 epoch time 22.1739 seconds\n",
      "total time10.0 : 41.310446977615356\n"
     ]
    },
    {
     "name": "stderr",
     "output_type": "stream",
     "text": [
      "loss: 0.2565, accuracy: 0.8900: 100%|██████████| 1000/1000 [00:20<00:00, 48.95it/s]\n",
      "loss: 0.3371, accuracy: 0.8700: 100%|██████████| 158/158 [00:01<00:00, 98.50it/s] \n",
      "loss: 0.3836, accuracy: 0.9200:   1%|          | 9/1000 [00:00<00:19, 51.97it/s]"
     ]
    },
    {
     "name": "stdout",
     "output_type": "stream",
     "text": [
      "Epoch 29: train_acc_0.8925_train_loss_0.2945_val_acc_0.8856_val_loss_0.3268 epoch time 22.1702 seconds\n",
      "total time11.0 : 3.4806666374206543\n"
     ]
    },
    {
     "name": "stderr",
     "output_type": "stream",
     "text": [
      "loss: 0.2985, accuracy: 0.9100: 100%|██████████| 1000/1000 [00:20<00:00, 49.10it/s]\n",
      "loss: 0.3518, accuracy: 0.8600: 100%|██████████| 158/158 [00:01<00:00, 99.01it/s] \n",
      "loss: 0.2222, accuracy: 0.9100:   1%|          | 9/1000 [00:00<00:19, 50.82it/s]"
     ]
    },
    {
     "name": "stdout",
     "output_type": "stream",
     "text": [
      "Epoch 30: train_acc_0.8934_train_loss_0.2914_val_acc_0.8879_val_loss_0.3220 epoch time 22.0991 seconds\n",
      "total time11.0 : 25.579785108566284\n"
     ]
    },
    {
     "name": "stderr",
     "output_type": "stream",
     "text": [
      "loss: 0.3749, accuracy: 0.8500: 100%|██████████| 1000/1000 [00:20<00:00, 48.99it/s]\n",
      "loss: 0.3240, accuracy: 0.8500: 100%|██████████| 158/158 [00:01<00:00, 101.12it/s]\n",
      "loss: 0.2024, accuracy: 0.9200:   1%|          | 9/1000 [00:00<00:19, 51.43it/s]"
     ]
    },
    {
     "name": "stdout",
     "output_type": "stream",
     "text": [
      "Epoch 31: train_acc_0.8941_train_loss_0.2895_val_acc_0.8832_val_loss_0.3263 epoch time 22.1587 seconds\n",
      "total time11.0 : 47.73845028877258\n"
     ]
    },
    {
     "name": "stderr",
     "output_type": "stream",
     "text": [
      "loss: 0.2924, accuracy: 0.8900: 100%|██████████| 1000/1000 [00:20<00:00, 48.78it/s]\n",
      "loss: 0.3642, accuracy: 0.9000: 100%|██████████| 158/158 [00:01<00:00, 100.02it/s]\n",
      "loss: 0.2168, accuracy: 0.9200:   1%|          | 9/1000 [00:00<00:19, 49.77it/s]"
     ]
    },
    {
     "name": "stdout",
     "output_type": "stream",
     "text": [
      "Epoch 32: train_acc_0.8947_train_loss_0.2858_val_acc_0.8841_val_loss_0.3286 epoch time 22.2155 seconds\n",
      "total time12.0 : 9.953979730606079\n"
     ]
    },
    {
     "name": "stderr",
     "output_type": "stream",
     "text": [
      "loss: 0.4908, accuracy: 0.8300: 100%|██████████| 1000/1000 [00:20<00:00, 50.18it/s]\n",
      "loss: 0.3813, accuracy: 0.8600: 100%|██████████| 158/158 [00:01<00:00, 96.51it/s] \n",
      "loss: 0.2443, accuracy: 0.8900:   1%|          | 9/1000 [00:00<00:19, 50.46it/s]"
     ]
    },
    {
     "name": "stdout",
     "output_type": "stream",
     "text": [
      "Epoch 33: train_acc_0.8955_train_loss_0.2843_val_acc_0.8859_val_loss_0.3196 epoch time 22.2027 seconds\n",
      "total time12.0 : 32.156718254089355\n"
     ]
    },
    {
     "name": "stderr",
     "output_type": "stream",
     "text": [
      "loss: 0.2462, accuracy: 0.9000: 100%|██████████| 1000/1000 [00:20<00:00, 49.29it/s]\n",
      "loss: 0.2753, accuracy: 0.9300: 100%|██████████| 158/158 [00:01<00:00, 99.81it/s] \n",
      "loss: 0.1958, accuracy: 0.9500:   1%|          | 9/1000 [00:00<00:19, 49.81it/s]"
     ]
    },
    {
     "name": "stdout",
     "output_type": "stream",
     "text": [
      "Epoch 34: train_acc_0.8959_train_loss_0.2832_val_acc_0.8868_val_loss_0.3203 epoch time 22.0089 seconds\n",
      "total time12.0 : 54.165616512298584\n"
     ]
    },
    {
     "name": "stderr",
     "output_type": "stream",
     "text": [
      "loss: 0.2537, accuracy: 0.9400: 100%|██████████| 1000/1000 [00:20<00:00, 48.88it/s]\n",
      "loss: 0.1876, accuracy: 0.9300: 100%|██████████| 158/158 [00:01<00:00, 98.63it/s] \n",
      "loss: 0.2008, accuracy: 0.9300:   1%|          | 9/1000 [00:00<00:19, 51.78it/s]"
     ]
    },
    {
     "name": "stdout",
     "output_type": "stream",
     "text": [
      "Epoch 35: train_acc_0.8971_train_loss_0.2805_val_acc_0.8878_val_loss_0.3242 epoch time 22.2002 seconds\n",
      "total time13.0 : 16.36581301689148\n"
     ]
    },
    {
     "name": "stderr",
     "output_type": "stream",
     "text": [
      "loss: 0.3137, accuracy: 0.9000: 100%|██████████| 1000/1000 [00:20<00:00, 48.81it/s]\n",
      "loss: 0.4378, accuracy: 0.8200: 100%|██████████| 158/158 [00:01<00:00, 100.21it/s]\n",
      "loss: 0.1857, accuracy: 0.9300:   1%|          | 9/1000 [00:00<00:19, 49.75it/s]"
     ]
    },
    {
     "name": "stdout",
     "output_type": "stream",
     "text": [
      "Epoch 36: train_acc_0.8972_train_loss_0.2781_val_acc_0.8885_val_loss_0.3194 epoch time 22.2016 seconds\n",
      "total time13.0 : 38.567400217056274\n"
     ]
    },
    {
     "name": "stderr",
     "output_type": "stream",
     "text": [
      "loss: 0.3860, accuracy: 0.8700: 100%|██████████| 1000/1000 [00:20<00:00, 49.07it/s]\n",
      "loss: 0.3865, accuracy: 0.9200: 100%|██████████| 158/158 [00:01<00:00, 98.40it/s] \n",
      "loss: 0.2585, accuracy: 0.9200:   1%|          | 10/1000 [00:00<00:19, 51.59it/s]"
     ]
    },
    {
     "name": "stdout",
     "output_type": "stream",
     "text": [
      "Epoch 37: train_acc_0.8986_train_loss_0.2762_val_acc_0.8856_val_loss_0.3169 epoch time 22.1214 seconds\n",
      "total time14.0 : 0.6887538433074951\n"
     ]
    },
    {
     "name": "stderr",
     "output_type": "stream",
     "text": [
      "loss: 0.2194, accuracy: 0.8900: 100%|██████████| 1000/1000 [00:20<00:00, 49.30it/s]\n",
      "loss: 0.2880, accuracy: 0.8800: 100%|██████████| 158/158 [00:01<00:00, 104.05it/s]\n",
      "loss: 0.2131, accuracy: 0.9100:   1%|          | 9/1000 [00:00<00:19, 50.65it/s]"
     ]
    },
    {
     "name": "stdout",
     "output_type": "stream",
     "text": [
      "Epoch 38: train_acc_0.8981_train_loss_0.2751_val_acc_0.8857_val_loss_0.3252 epoch time 21.9356 seconds\n",
      "total time14.0 : 22.624329090118408\n"
     ]
    },
    {
     "name": "stderr",
     "output_type": "stream",
     "text": [
      "loss: 0.2595, accuracy: 0.9100: 100%|██████████| 1000/1000 [00:20<00:00, 49.36it/s]\n",
      "loss: 0.4247, accuracy: 0.8600: 100%|██████████| 158/158 [00:01<00:00, 98.86it/s] \n",
      "loss: 0.3727, accuracy: 0.8600:   1%|          | 9/1000 [00:00<00:19, 52.00it/s]"
     ]
    },
    {
     "name": "stdout",
     "output_type": "stream",
     "text": [
      "Epoch 39: train_acc_0.8995_train_loss_0.2735_val_acc_0.8825_val_loss_0.3246 epoch time 21.9950 seconds\n",
      "total time14.0 : 44.619317293167114\n"
     ]
    },
    {
     "name": "stderr",
     "output_type": "stream",
     "text": [
      "loss: 0.3073, accuracy: 0.9000: 100%|██████████| 1000/1000 [00:20<00:00, 49.20it/s]\n",
      "loss: 0.4631, accuracy: 0.8400: 100%|██████████| 158/158 [00:01<00:00, 99.96it/s] \n",
      "loss: 0.2640, accuracy: 0.8700:   1%|          | 9/1000 [00:00<00:19, 49.76it/s]"
     ]
    },
    {
     "name": "stdout",
     "output_type": "stream",
     "text": [
      "Epoch 40: train_acc_0.8991_train_loss_0.2709_val_acc_0.8857_val_loss_0.3313 epoch time 22.1214 seconds\n",
      "total time15.0 : 6.740746736526489\n"
     ]
    },
    {
     "name": "stderr",
     "output_type": "stream",
     "text": [
      "loss: 0.1820, accuracy: 0.9300: 100%|██████████| 1000/1000 [00:20<00:00, 48.91it/s]\n",
      "loss: 0.3564, accuracy: 0.8300: 100%|██████████| 158/158 [00:01<00:00, 97.83it/s] \n",
      "loss: 0.1985, accuracy: 0.9000:   1%|          | 10/1000 [00:00<00:18, 52.82it/s]"
     ]
    },
    {
     "name": "stdout",
     "output_type": "stream",
     "text": [
      "Epoch 41: train_acc_0.9004_train_loss_0.2693_val_acc_0.8843_val_loss_0.3238 epoch time 22.2016 seconds\n",
      "total time15.0 : 28.942325830459595\n"
     ]
    },
    {
     "name": "stderr",
     "output_type": "stream",
     "text": [
      "loss: 0.2992, accuracy: 0.9000: 100%|██████████| 1000/1000 [00:20<00:00, 49.47it/s]\n",
      "loss: 0.3767, accuracy: 0.8700: 100%|██████████| 158/158 [00:01<00:00, 101.07it/s]\n",
      "loss: 0.2672, accuracy: 0.8900:   1%|          | 9/1000 [00:00<00:19, 50.45it/s]"
     ]
    },
    {
     "name": "stdout",
     "output_type": "stream",
     "text": [
      "Epoch 42: train_acc_0.9006_train_loss_0.2672_val_acc_0.8887_val_loss_0.3185 epoch time 22.1395 seconds\n",
      "total time15.0 : 51.0818305015564\n"
     ]
    },
    {
     "name": "stderr",
     "output_type": "stream",
     "text": [
      "loss: 0.2618, accuracy: 0.8800: 100%|██████████| 1000/1000 [00:20<00:00, 48.96it/s]\n",
      "loss: 0.2327, accuracy: 0.9300: 100%|██████████| 158/158 [00:01<00:00, 101.18it/s]\n",
      "loss: 0.2123, accuracy: 0.9100:   1%|          | 9/1000 [00:00<00:19, 51.90it/s]"
     ]
    },
    {
     "name": "stdout",
     "output_type": "stream",
     "text": [
      "Epoch 43: train_acc_0.9013_train_loss_0.2668_val_acc_0.8865_val_loss_0.3158 epoch time 22.1819 seconds\n",
      "total time16.0 : 13.26371431350708\n"
     ]
    },
    {
     "name": "stderr",
     "output_type": "stream",
     "text": [
      "loss: 0.2466, accuracy: 0.9000: 100%|██████████| 1000/1000 [00:20<00:00, 49.07it/s]\n",
      "loss: 0.4300, accuracy: 0.8500: 100%|██████████| 158/158 [00:01<00:00, 100.64it/s]\n",
      "loss: 0.3422, accuracy: 0.9100:   1%|          | 9/1000 [00:00<00:19, 50.66it/s]"
     ]
    },
    {
     "name": "stdout",
     "output_type": "stream",
     "text": [
      "Epoch 44: train_acc_0.9007_train_loss_0.2644_val_acc_0.8877_val_loss_0.3192 epoch time 22.0871 seconds\n",
      "total time16.0 : 35.35081720352173\n"
     ]
    },
    {
     "name": "stderr",
     "output_type": "stream",
     "text": [
      "loss: 0.2648, accuracy: 0.9100: 100%|██████████| 1000/1000 [00:20<00:00, 49.20it/s]\n",
      "loss: 0.3037, accuracy: 0.9000: 100%|██████████| 158/158 [00:01<00:00, 98.57it/s] \n",
      "loss: 0.2937, accuracy: 0.9000:   1%|          | 10/1000 [00:00<00:18, 53.69it/s]"
     ]
    },
    {
     "name": "stdout",
     "output_type": "stream",
     "text": [
      "Epoch 45: train_acc_0.9020_train_loss_0.2628_val_acc_0.8872_val_loss_0.3198 epoch time 22.0678 seconds\n",
      "total time16.0 : 57.41866183280945\n"
     ]
    },
    {
     "name": "stderr",
     "output_type": "stream",
     "text": [
      "loss: 0.1819, accuracy: 0.9100: 100%|██████████| 1000/1000 [00:20<00:00, 49.04it/s]\n",
      "loss: 0.4158, accuracy: 0.8200: 100%|██████████| 158/158 [00:01<00:00, 99.74it/s] \n",
      "loss: 0.2793, accuracy: 0.8700:   1%|          | 9/1000 [00:00<00:19, 49.81it/s]"
     ]
    },
    {
     "name": "stdout",
     "output_type": "stream",
     "text": [
      "Epoch 46: train_acc_0.9016_train_loss_0.2617_val_acc_0.8846_val_loss_0.3194 epoch time 22.1139 seconds\n",
      "total time17.0 : 19.532541036605835\n"
     ]
    },
    {
     "name": "stderr",
     "output_type": "stream",
     "text": [
      "loss: 0.3391, accuracy: 0.8400: 100%|██████████| 1000/1000 [00:20<00:00, 49.05it/s]\n",
      "loss: 0.5393, accuracy: 0.8400: 100%|██████████| 158/158 [00:01<00:00, 98.95it/s] \n",
      "loss: 0.2643, accuracy: 0.9000:   1%|          | 10/1000 [00:00<00:18, 53.06it/s]"
     ]
    },
    {
     "name": "stdout",
     "output_type": "stream",
     "text": [
      "Epoch 47: train_acc_0.9026_train_loss_0.2598_val_acc_0.8846_val_loss_0.3267 epoch time 22.1224 seconds\n",
      "total time17.0 : 41.65495443344116\n"
     ]
    },
    {
     "name": "stderr",
     "output_type": "stream",
     "text": [
      "loss: 0.1921, accuracy: 0.9200: 100%|██████████| 1000/1000 [00:20<00:00, 49.30it/s]\n",
      "loss: 0.2870, accuracy: 0.9100: 100%|██████████| 158/158 [00:01<00:00, 99.78it/s] \n",
      "loss: 0.1823, accuracy: 0.9300:   1%|          | 9/1000 [00:00<00:20, 49.18it/s]"
     ]
    },
    {
     "name": "stdout",
     "output_type": "stream",
     "text": [
      "Epoch 48: train_acc_0.9033_train_loss_0.2592_val_acc_0.8865_val_loss_0.3204 epoch time 22.0063 seconds\n",
      "total time18.0 : 3.6612205505371094\n"
     ]
    },
    {
     "name": "stderr",
     "output_type": "stream",
     "text": [
      "loss: 0.2639, accuracy: 0.9100: 100%|██████████| 1000/1000 [00:20<00:00, 49.10it/s]\n",
      "loss: 0.3371, accuracy: 0.9200: 100%|██████████| 158/158 [00:01<00:00, 97.01it/s] \n",
      "loss: 0.1663, accuracy: 0.9200:   1%|          | 9/1000 [00:00<00:18, 52.44it/s]"
     ]
    },
    {
     "name": "stdout",
     "output_type": "stream",
     "text": [
      "Epoch 49: train_acc_0.9035_train_loss_0.2572_val_acc_0.8872_val_loss_0.3270 epoch time 22.1318 seconds\n",
      "total time18.0 : 25.793021202087402\n"
     ]
    },
    {
     "name": "stderr",
     "output_type": "stream",
     "text": [
      "loss: 0.2499, accuracy: 0.9300: 100%|██████████| 1000/1000 [00:20<00:00, 49.10it/s]\n",
      "loss: 0.3907, accuracy: 0.8800: 100%|██████████| 158/158 [00:01<00:00, 98.76it/s] \n",
      "loss: 0.1636, accuracy: 0.9500:   1%|          | 9/1000 [00:00<00:19, 49.80it/s]"
     ]
    },
    {
     "name": "stdout",
     "output_type": "stream",
     "text": [
      "Epoch 50: train_acc_0.9041_train_loss_0.2554_val_acc_0.8854_val_loss_0.3218 epoch time 22.1042 seconds\n",
      "total time18.0 : 47.89717984199524\n"
     ]
    },
    {
     "name": "stderr",
     "output_type": "stream",
     "text": [
      "loss: 0.3823, accuracy: 0.8600: 100%|██████████| 1000/1000 [00:20<00:00, 49.90it/s]\n",
      "loss: 0.2614, accuracy: 0.9000: 100%|██████████| 158/158 [00:01<00:00, 98.31it/s] \n",
      "loss: 0.2025, accuracy: 0.8800:   1%|          | 9/1000 [00:00<00:19, 51.73it/s]"
     ]
    },
    {
     "name": "stdout",
     "output_type": "stream",
     "text": [
      "Epoch 51: train_acc_0.9045_train_loss_0.2538_val_acc_0.8880_val_loss_0.3157 epoch time 22.1784 seconds\n",
      "total time19.0 : 10.075589179992676\n"
     ]
    },
    {
     "name": "stderr",
     "output_type": "stream",
     "text": [
      "loss: 0.2377, accuracy: 0.8800: 100%|██████████| 1000/1000 [00:20<00:00, 49.32it/s]\n",
      "loss: 0.3595, accuracy: 0.8800: 100%|██████████| 158/158 [00:01<00:00, 105.60it/s]\n",
      "loss: 0.1663, accuracy: 0.9400:   1%|          | 9/1000 [00:00<00:19, 50.61it/s]"
     ]
    },
    {
     "name": "stdout",
     "output_type": "stream",
     "text": [
      "Epoch 52: train_acc_0.9051_train_loss_0.2522_val_acc_0.8851_val_loss_0.3176 epoch time 21.9041 seconds\n",
      "total time19.0 : 31.979656219482422\n"
     ]
    },
    {
     "name": "stderr",
     "output_type": "stream",
     "text": [
      "loss: 0.2121, accuracy: 0.9300: 100%|██████████| 1000/1000 [00:20<00:00, 49.39it/s]\n",
      "loss: 0.2402, accuracy: 0.9000: 100%|██████████| 158/158 [00:01<00:00, 98.76it/s] \n",
      "loss: 0.2340, accuracy: 0.9300:   1%|          | 10/1000 [00:00<00:18, 54.26it/s]"
     ]
    },
    {
     "name": "stdout",
     "output_type": "stream",
     "text": [
      "Epoch 53: train_acc_0.9050_train_loss_0.2518_val_acc_0.8847_val_loss_0.3253 epoch time 21.9821 seconds\n",
      "total time19.0 : 53.96178841590881\n"
     ]
    },
    {
     "name": "stderr",
     "output_type": "stream",
     "text": [
      "loss: 0.2080, accuracy: 0.9000: 100%|██████████| 1000/1000 [00:20<00:00, 49.04it/s]\n",
      "loss: 0.3324, accuracy: 0.8900: 100%|██████████| 158/158 [00:01<00:00, 101.39it/s]\n",
      "loss: 0.2298, accuracy: 0.9000:   1%|          | 9/1000 [00:00<00:19, 49.88it/s]"
     ]
    },
    {
     "name": "stdout",
     "output_type": "stream",
     "text": [
      "Epoch 54: train_acc_0.9051_train_loss_0.2509_val_acc_0.8899_val_loss_0.3161 epoch time 22.1181 seconds\n",
      "total time20.0 : 16.079862594604492\n"
     ]
    },
    {
     "name": "stderr",
     "output_type": "stream",
     "text": [
      "loss: 0.2454, accuracy: 0.9200: 100%|██████████| 1000/1000 [00:20<00:00, 48.93it/s]\n",
      "loss: 0.2025, accuracy: 0.9200: 100%|██████████| 158/158 [00:01<00:00, 99.27it/s] \n",
      "loss: 0.2056, accuracy: 0.9200:   1%|          | 9/1000 [00:00<00:19, 51.56it/s]"
     ]
    },
    {
     "name": "stdout",
     "output_type": "stream",
     "text": [
      "Epoch 55: train_acc_0.9059_train_loss_0.2501_val_acc_0.8896_val_loss_0.3221 epoch time 22.2315 seconds\n",
      "total time20.0 : 38.31131410598755\n"
     ]
    },
    {
     "name": "stderr",
     "output_type": "stream",
     "text": [
      "loss: 0.2391, accuracy: 0.9100: 100%|██████████| 1000/1000 [00:20<00:00, 50.23it/s]\n",
      "loss: 0.3842, accuracy: 0.8600: 100%|██████████| 158/158 [00:01<00:00, 99.61it/s] \n",
      "loss: 0.1560, accuracy: 0.9400:   1%|          | 9/1000 [00:00<00:19, 50.30it/s]"
     ]
    },
    {
     "name": "stdout",
     "output_type": "stream",
     "text": [
      "Epoch 56: train_acc_0.9065_train_loss_0.2481_val_acc_0.8863_val_loss_0.3250 epoch time 22.0535 seconds\n",
      "total time21.0 : 0.3648369312286377\n"
     ]
    },
    {
     "name": "stderr",
     "output_type": "stream",
     "text": [
      "loss: 0.3454, accuracy: 0.8900: 100%|██████████| 1000/1000 [00:20<00:00, 49.09it/s]\n",
      "loss: 0.4117, accuracy: 0.8400: 100%|██████████| 158/158 [00:01<00:00, 98.25it/s] \n",
      "loss: 0.1970, accuracy: 0.9300:   1%|          | 9/1000 [00:00<00:19, 51.88it/s]"
     ]
    },
    {
     "name": "stdout",
     "output_type": "stream",
     "text": [
      "Epoch 57: train_acc_0.9065_train_loss_0.2466_val_acc_0.8848_val_loss_0.3289 epoch time 22.1144 seconds\n",
      "total time21.0 : 22.479249715805054\n"
     ]
    },
    {
     "name": "stderr",
     "output_type": "stream",
     "text": [
      "loss: 0.1768, accuracy: 0.9300: 100%|██████████| 1000/1000 [00:20<00:00, 49.17it/s]\n",
      "loss: 0.1825, accuracy: 0.9400: 100%|██████████| 158/158 [00:01<00:00, 100.14it/s]\n",
      "loss: 0.2941, accuracy: 0.8900:   1%|          | 9/1000 [00:00<00:20, 49.44it/s]"
     ]
    },
    {
     "name": "stdout",
     "output_type": "stream",
     "text": [
      "Epoch 58: train_acc_0.9071_train_loss_0.2456_val_acc_0.8884_val_loss_0.3215 epoch time 22.0543 seconds\n",
      "total time21.0 : 44.53357982635498\n"
     ]
    },
    {
     "name": "stderr",
     "output_type": "stream",
     "text": [
      "loss: 0.3517, accuracy: 0.8700: 100%|██████████| 1000/1000 [00:20<00:00, 49.07it/s]\n",
      "loss: 0.3391, accuracy: 0.9100: 100%|██████████| 158/158 [00:01<00:00, 97.74it/s] \n",
      "loss: 0.1670, accuracy: 0.9300:   1%|          | 9/1000 [00:00<00:19, 51.64it/s]"
     ]
    },
    {
     "name": "stdout",
     "output_type": "stream",
     "text": [
      "Epoch 59: train_acc_0.9075_train_loss_0.2446_val_acc_0.8885_val_loss_0.3172 epoch time 22.1356 seconds\n",
      "total time22.0 : 6.6691553592681885\n"
     ]
    },
    {
     "name": "stderr",
     "output_type": "stream",
     "text": [
      "loss: 0.2396, accuracy: 0.8800: 100%|██████████| 1000/1000 [00:20<00:00, 49.05it/s]\n",
      "loss: 0.3403, accuracy: 0.9000: 100%|██████████| 158/158 [00:01<00:00, 98.21it/s] \n",
      "loss: 0.2734, accuracy: 0.8900:   1%|          | 9/1000 [00:00<00:19, 50.19it/s]"
     ]
    },
    {
     "name": "stdout",
     "output_type": "stream",
     "text": [
      "Epoch 60: train_acc_0.9080_train_loss_0.2430_val_acc_0.8862_val_loss_0.3241 epoch time 22.1335 seconds\n",
      "total time22.0 : 28.802693128585815\n"
     ]
    },
    {
     "name": "stderr",
     "output_type": "stream",
     "text": [
      "loss: 0.4372, accuracy: 0.8400: 100%|██████████| 1000/1000 [00:20<00:00, 49.02it/s]\n",
      "loss: 0.2239, accuracy: 0.9200: 100%|██████████| 158/158 [00:01<00:00, 100.42it/s]\n",
      "loss: 0.1509, accuracy: 0.9600:   1%|          | 10/1000 [00:00<00:18, 53.33it/s]"
     ]
    },
    {
     "name": "stdout",
     "output_type": "stream",
     "text": [
      "Epoch 61: train_acc_0.9088_train_loss_0.2418_val_acc_0.8896_val_loss_0.3162 epoch time 22.1098 seconds\n",
      "total time22.0 : 50.91253447532654\n"
     ]
    },
    {
     "name": "stderr",
     "output_type": "stream",
     "text": [
      "loss: 0.1885, accuracy: 0.9300: 100%|██████████| 1000/1000 [00:20<00:00, 49.14it/s]\n",
      "loss: 0.2045, accuracy: 0.9300: 100%|██████████| 158/158 [00:01<00:00, 100.92it/s]\n",
      "loss: 0.1912, accuracy: 0.9400:   1%|          | 9/1000 [00:00<00:19, 50.45it/s]"
     ]
    },
    {
     "name": "stdout",
     "output_type": "stream",
     "text": [
      "Epoch 62: train_acc_0.9086_train_loss_0.2405_val_acc_0.8856_val_loss_0.3250 epoch time 22.0560 seconds\n",
      "total time23.0 : 12.96849513053894\n"
     ]
    },
    {
     "name": "stderr",
     "output_type": "stream",
     "text": [
      "loss: 0.1980, accuracy: 0.9400: 100%|██████████| 1000/1000 [00:20<00:00, 48.94it/s]\n",
      "loss: 0.3589, accuracy: 0.8800: 100%|██████████| 158/158 [00:01<00:00, 98.80it/s] \n",
      "loss: 0.2728, accuracy: 0.8900:   1%|          | 10/1000 [00:00<00:19, 51.75it/s]"
     ]
    },
    {
     "name": "stdout",
     "output_type": "stream",
     "text": [
      "Epoch 63: train_acc_0.9082_train_loss_0.2408_val_acc_0.8894_val_loss_0.3213 epoch time 22.1687 seconds\n",
      "total time23.0 : 35.13718771934509\n"
     ]
    },
    {
     "name": "stderr",
     "output_type": "stream",
     "text": [
      "loss: 0.1877, accuracy: 0.9300: 100%|██████████| 1000/1000 [00:20<00:00, 49.17it/s]\n",
      "loss: 0.1670, accuracy: 0.9300: 100%|██████████| 158/158 [00:01<00:00, 100.03it/s]\n",
      "loss: 0.2151, accuracy: 0.9200:   1%|          | 9/1000 [00:00<00:19, 51.07it/s]"
     ]
    },
    {
     "name": "stdout",
     "output_type": "stream",
     "text": [
      "Epoch 64: train_acc_0.9092_train_loss_0.2385_val_acc_0.8868_val_loss_0.3280 epoch time 22.1005 seconds\n",
      "total time23.0 : 57.23768854141235\n"
     ]
    },
    {
     "name": "stderr",
     "output_type": "stream",
     "text": [
      "loss: 0.1619, accuracy: 0.9400: 100%|██████████| 1000/1000 [00:20<00:00, 49.03it/s]\n",
      "loss: 0.2247, accuracy: 0.9100: 100%|██████████| 158/158 [00:01<00:00, 97.74it/s] \n",
      "loss: 0.3283, accuracy: 0.8600:   1%|          | 9/1000 [00:00<00:19, 51.61it/s]"
     ]
    },
    {
     "name": "stdout",
     "output_type": "stream",
     "text": [
      "Epoch 65: train_acc_0.9096_train_loss_0.2369_val_acc_0.8872_val_loss_0.3249 epoch time 22.1483 seconds\n",
      "total time24.0 : 19.385957717895508\n"
     ]
    },
    {
     "name": "stderr",
     "output_type": "stream",
     "text": [
      "loss: 0.2654, accuracy: 0.9000: 100%|██████████| 1000/1000 [00:20<00:00, 49.14it/s]\n",
      "loss: 0.3160, accuracy: 0.8600: 100%|██████████| 158/158 [00:01<00:00, 105.25it/s]\n",
      "loss: 0.1222, accuracy: 0.9800:   1%|          | 10/1000 [00:00<00:19, 51.72it/s]"
     ]
    },
    {
     "name": "stdout",
     "output_type": "stream",
     "text": [
      "Epoch 66: train_acc_0.9100_train_loss_0.2364_val_acc_0.8870_val_loss_0.3280 epoch time 21.9844 seconds\n",
      "total time24.0 : 41.3703932762146\n"
     ]
    },
    {
     "name": "stderr",
     "output_type": "stream",
     "text": [
      "loss: 0.1211, accuracy: 0.9600: 100%|██████████| 1000/1000 [00:20<00:00, 49.48it/s]\n",
      "loss: 0.4099, accuracy: 0.8900: 100%|██████████| 158/158 [00:01<00:00, 98.00it/s] \n",
      "loss: 0.2791, accuracy: 0.9200:   1%|          | 10/1000 [00:00<00:18, 52.44it/s]"
     ]
    },
    {
     "name": "stdout",
     "output_type": "stream",
     "text": [
      "Epoch 67: train_acc_0.9102_train_loss_0.2352_val_acc_0.8846_val_loss_0.3331 epoch time 21.9606 seconds\n",
      "total time25.0 : 3.3310177326202393\n"
     ]
    },
    {
     "name": "stderr",
     "output_type": "stream",
     "text": [
      "loss: 0.2266, accuracy: 0.9500: 100%|██████████| 1000/1000 [00:20<00:00, 49.17it/s]\n",
      "loss: 0.1956, accuracy: 0.9000: 100%|██████████| 158/158 [00:01<00:00, 98.71it/s] \n",
      "loss: 0.1739, accuracy: 0.9300:   1%|          | 9/1000 [00:00<00:19, 49.69it/s]"
     ]
    },
    {
     "name": "stdout",
     "output_type": "stream",
     "text": [
      "Epoch 68: train_acc_0.9112_train_loss_0.2349_val_acc_0.8900_val_loss_0.3172 epoch time 22.0752 seconds\n",
      "total time25.0 : 25.406203746795654\n"
     ]
    },
    {
     "name": "stderr",
     "output_type": "stream",
     "text": [
      "loss: 0.2292, accuracy: 0.9000: 100%|██████████| 1000/1000 [00:20<00:00, 49.07it/s]\n",
      "loss: 0.3304, accuracy: 0.8700: 100%|██████████| 158/158 [00:01<00:00, 98.45it/s] \n",
      "loss: 0.2326, accuracy: 0.9100:   1%|          | 9/1000 [00:00<00:19, 51.68it/s]"
     ]
    },
    {
     "name": "stdout",
     "output_type": "stream",
     "text": [
      "Epoch 69: train_acc_0.9105_train_loss_0.2329_val_acc_0.8764_val_loss_0.3469 epoch time 22.1231 seconds\n",
      "total time25.0 : 47.52932953834534\n"
     ]
    },
    {
     "name": "stderr",
     "output_type": "stream",
     "text": [
      "loss: 0.2542, accuracy: 0.9100: 100%|██████████| 1000/1000 [00:20<00:00, 49.76it/s]\n",
      "loss: 0.2185, accuracy: 0.9200: 100%|██████████| 158/158 [00:01<00:00, 100.96it/s]\n",
      "loss: 0.3277, accuracy: 0.9000:   1%|          | 9/1000 [00:00<00:19, 50.17it/s]"
     ]
    },
    {
     "name": "stdout",
     "output_type": "stream",
     "text": [
      "Epoch 70: train_acc_0.9107_train_loss_0.2330_val_acc_0.8854_val_loss_0.3231 epoch time 22.0703 seconds\n",
      "total time26.0 : 9.599668741226196\n"
     ]
    },
    {
     "name": "stderr",
     "output_type": "stream",
     "text": [
      "loss: 0.2680, accuracy: 0.9000: 100%|██████████| 1000/1000 [00:20<00:00, 50.39it/s]\n",
      "loss: 0.3553, accuracy: 0.9000: 100%|██████████| 158/158 [00:01<00:00, 99.79it/s] \n",
      "loss: 0.2424, accuracy: 0.9200:   1%|          | 10/1000 [00:00<00:18, 53.81it/s]"
     ]
    },
    {
     "name": "stdout",
     "output_type": "stream",
     "text": [
      "Epoch 71: train_acc_0.9110_train_loss_0.2318_val_acc_0.8882_val_loss_0.3185 epoch time 22.1245 seconds\n",
      "total time26.0 : 31.724172353744507\n"
     ]
    },
    {
     "name": "stderr",
     "output_type": "stream",
     "text": [
      "loss: 0.2558, accuracy: 0.8800: 100%|██████████| 1000/1000 [00:20<00:00, 49.98it/s]\n",
      "loss: 0.3098, accuracy: 0.9100: 100%|██████████| 158/158 [00:01<00:00, 99.75it/s] \n",
      "loss: 0.2082, accuracy: 0.9200:   1%|          | 9/1000 [00:00<00:19, 49.75it/s]"
     ]
    },
    {
     "name": "stdout",
     "output_type": "stream",
     "text": [
      "Epoch 72: train_acc_0.9119_train_loss_0.2301_val_acc_0.8894_val_loss_0.3185 epoch time 22.0595 seconds\n",
      "total time26.0 : 53.783650398254395\n"
     ]
    },
    {
     "name": "stderr",
     "output_type": "stream",
     "text": [
      "loss: 0.2493, accuracy: 0.9200: 100%|██████████| 1000/1000 [00:20<00:00, 49.37it/s]\n",
      "loss: 0.3441, accuracy: 0.8800: 100%|██████████| 158/158 [00:01<00:00, 98.05it/s] \n",
      "loss: 0.2346, accuracy: 0.8900:   1%|          | 9/1000 [00:00<00:18, 52.19it/s]"
     ]
    },
    {
     "name": "stdout",
     "output_type": "stream",
     "text": [
      "Epoch 73: train_acc_0.9118_train_loss_0.2296_val_acc_0.8814_val_loss_0.3396 epoch time 22.1696 seconds\n",
      "total time27.0 : 15.953296899795532\n"
     ]
    },
    {
     "name": "stderr",
     "output_type": "stream",
     "text": [
      "loss: 0.2946, accuracy: 0.9000: 100%|██████████| 1000/1000 [00:20<00:00, 49.05it/s]\n",
      "loss: 0.2047, accuracy: 0.9400: 100%|██████████| 158/158 [00:01<00:00, 100.32it/s]\n",
      "loss: 0.2787, accuracy: 0.8800:   1%|          | 9/1000 [00:00<00:19, 50.50it/s]"
     ]
    },
    {
     "name": "stdout",
     "output_type": "stream",
     "text": [
      "Epoch 74: train_acc_0.9123_train_loss_0.2285_val_acc_0.8856_val_loss_0.3314 epoch time 22.0971 seconds\n",
      "total time27.0 : 38.05042576789856\n"
     ]
    },
    {
     "name": "stderr",
     "output_type": "stream",
     "text": [
      "loss: 0.2361, accuracy: 0.9300: 100%|██████████| 1000/1000 [00:20<00:00, 49.31it/s]\n",
      "loss: 0.3357, accuracy: 0.8700: 100%|██████████| 158/158 [00:01<00:00, 102.23it/s]\n",
      "loss: 0.1568, accuracy: 0.9300:   1%|          | 10/1000 [00:00<00:18, 53.43it/s]"
     ]
    },
    {
     "name": "stdout",
     "output_type": "stream",
     "text": [
      "Epoch 75: train_acc_0.9129_train_loss_0.2275_val_acc_0.8913_val_loss_0.3234 epoch time 21.9631 seconds\n",
      "total time28.0 : 0.013505697250366211\n"
     ]
    },
    {
     "name": "stderr",
     "output_type": "stream",
     "text": [
      "loss: 0.1769, accuracy: 0.9400: 100%|██████████| 1000/1000 [00:20<00:00, 49.14it/s]\n",
      "loss: 0.4434, accuracy: 0.8400: 100%|██████████| 158/158 [00:01<00:00, 99.86it/s] \n",
      "loss: 0.2220, accuracy: 0.9100:   1%|          | 9/1000 [00:00<00:19, 49.76it/s]"
     ]
    },
    {
     "name": "stdout",
     "output_type": "stream",
     "text": [
      "Epoch 76: train_acc_0.9137_train_loss_0.2260_val_acc_0.8860_val_loss_0.3276 epoch time 22.0700 seconds\n",
      "total time28.0 : 22.083531618118286\n"
     ]
    },
    {
     "name": "stderr",
     "output_type": "stream",
     "text": [
      "loss: 0.1755, accuracy: 0.9200: 100%|██████████| 1000/1000 [00:20<00:00, 49.07it/s]\n",
      "loss: 0.3094, accuracy: 0.9000: 100%|██████████| 158/158 [00:01<00:00, 98.28it/s] \n",
      "loss: 0.3055, accuracy: 0.8600:   1%|          | 10/1000 [00:00<00:18, 52.43it/s]"
     ]
    },
    {
     "name": "stdout",
     "output_type": "stream",
     "text": [
      "Epoch 77: train_acc_0.9138_train_loss_0.2248_val_acc_0.8837_val_loss_0.3389 epoch time 22.1222 seconds\n",
      "total time28.0 : 44.20575499534607\n"
     ]
    },
    {
     "name": "stderr",
     "output_type": "stream",
     "text": [
      "loss: 0.1366, accuracy: 0.9600: 100%|██████████| 1000/1000 [00:20<00:00, 48.97it/s]\n",
      "loss: 0.2751, accuracy: 0.9100: 100%|██████████| 158/158 [00:01<00:00, 100.17it/s]\n",
      "loss: 0.2457, accuracy: 0.8800:   1%|          | 9/1000 [00:00<00:19, 50.48it/s]"
     ]
    },
    {
     "name": "stdout",
     "output_type": "stream",
     "text": [
      "Epoch 78: train_acc_0.9133_train_loss_0.2247_val_acc_0.8877_val_loss_0.3287 epoch time 22.1366 seconds\n",
      "total time29.0 : 6.342379331588745\n"
     ]
    },
    {
     "name": "stderr",
     "output_type": "stream",
     "text": [
      "loss: 0.1977, accuracy: 0.8900: 100%|██████████| 1000/1000 [00:20<00:00, 49.01it/s]\n",
      "loss: 0.5939, accuracy: 0.8500: 100%|██████████| 158/158 [00:01<00:00, 100.30it/s]\n",
      "loss: 0.2672, accuracy: 0.8700:   1%|          | 10/1000 [00:00<00:18, 53.05it/s]"
     ]
    },
    {
     "name": "stdout",
     "output_type": "stream",
     "text": [
      "Epoch 79: train_acc_0.9135_train_loss_0.2245_val_acc_0.8883_val_loss_0.3257 epoch time 22.1620 seconds\n",
      "total time29.0 : 28.504422664642334\n"
     ]
    },
    {
     "name": "stderr",
     "output_type": "stream",
     "text": [
      "loss: 0.2053, accuracy: 0.9000: 100%|██████████| 1000/1000 [00:20<00:00, 49.19it/s]\n",
      "loss: 0.1941, accuracy: 0.9500: 100%|██████████| 158/158 [00:01<00:00, 105.17it/s]\n",
      "loss: 0.2940, accuracy: 0.8900:   1%|          | 9/1000 [00:00<00:19, 51.32it/s]"
     ]
    },
    {
     "name": "stdout",
     "output_type": "stream",
     "text": [
      "Epoch 80: train_acc_0.9135_train_loss_0.2235_val_acc_0.8866_val_loss_0.3299 epoch time 21.9662 seconds\n",
      "total time29.0 : 50.470664978027344\n"
     ]
    },
    {
     "name": "stderr",
     "output_type": "stream",
     "text": [
      "loss: 0.2147, accuracy: 0.9100: 100%|██████████| 1000/1000 [00:20<00:00, 49.45it/s]\n",
      "loss: 0.2671, accuracy: 0.8800: 100%|██████████| 158/158 [00:01<00:00, 98.88it/s] \n",
      "loss: 0.0864, accuracy: 0.9700:   1%|          | 10/1000 [00:00<00:18, 53.15it/s]"
     ]
    },
    {
     "name": "stdout",
     "output_type": "stream",
     "text": [
      "Epoch 81: train_acc_0.9134_train_loss_0.2236_val_acc_0.8861_val_loss_0.3283 epoch time 21.9598 seconds\n",
      "total time30.0 : 12.430488109588623\n"
     ]
    },
    {
     "name": "stderr",
     "output_type": "stream",
     "text": [
      "loss: 0.3943, accuracy: 0.8900: 100%|██████████| 1000/1000 [00:20<00:00, 49.42it/s]\n",
      "loss: 0.2170, accuracy: 0.9100: 100%|██████████| 158/158 [00:01<00:00, 100.11it/s]\n",
      "loss: 0.1747, accuracy: 0.9000:   1%|          | 9/1000 [00:00<00:19, 50.44it/s]"
     ]
    },
    {
     "name": "stdout",
     "output_type": "stream",
     "text": [
      "Epoch 82: train_acc_0.9147_train_loss_0.2210_val_acc_0.8862_val_loss_0.3282 epoch time 22.1031 seconds\n",
      "total time30.0 : 34.533604860305786\n"
     ]
    },
    {
     "name": "stderr",
     "output_type": "stream",
     "text": [
      "loss: 0.1586, accuracy: 0.9400: 100%|██████████| 1000/1000 [00:20<00:00, 49.04it/s]\n",
      "loss: 0.3022, accuracy: 0.9400: 100%|██████████| 158/158 [00:01<00:00, 98.28it/s] \n",
      "loss: 0.2143, accuracy: 0.9200:   1%|          | 9/1000 [00:00<00:19, 52.03it/s]"
     ]
    },
    {
     "name": "stdout",
     "output_type": "stream",
     "text": [
      "Epoch 83: train_acc_0.9151_train_loss_0.2206_val_acc_0.8860_val_loss_0.3308 epoch time 22.1393 seconds\n",
      "total time30.0 : 56.67292332649231\n"
     ]
    },
    {
     "name": "stderr",
     "output_type": "stream",
     "text": [
      "loss: 0.2252, accuracy: 0.9100: 100%|██████████| 1000/1000 [00:20<00:00, 49.14it/s]\n",
      "loss: 0.3284, accuracy: 0.8700: 100%|██████████| 158/158 [00:01<00:00, 100.16it/s]\n",
      "loss: 0.1650, accuracy: 0.9500:   1%|          | 9/1000 [00:00<00:19, 49.85it/s]"
     ]
    },
    {
     "name": "stdout",
     "output_type": "stream",
     "text": [
      "Epoch 84: train_acc_0.9144_train_loss_0.2195_val_acc_0.8831_val_loss_0.3382 epoch time 22.1166 seconds\n",
      "total time31.0 : 18.789502143859863\n"
     ]
    },
    {
     "name": "stderr",
     "output_type": "stream",
     "text": [
      "loss: 0.3486, accuracy: 0.9200: 100%|██████████| 1000/1000 [00:20<00:00, 49.07it/s]\n",
      "loss: 0.7405, accuracy: 0.8300: 100%|██████████| 158/158 [00:01<00:00, 98.73it/s] \n",
      "loss: 0.1282, accuracy: 0.9700:   1%|          | 9/1000 [00:00<00:19, 51.13it/s]"
     ]
    },
    {
     "name": "stdout",
     "output_type": "stream",
     "text": [
      "Epoch 85: train_acc_0.9160_train_loss_0.2173_val_acc_0.8861_val_loss_0.3323 epoch time 22.1150 seconds\n",
      "total time31.0 : 40.90447688102722\n"
     ]
    },
    {
     "name": "stderr",
     "output_type": "stream",
     "text": [
      "loss: 0.1896, accuracy: 0.9200: 100%|██████████| 1000/1000 [00:20<00:00, 50.07it/s]\n",
      "loss: 0.2127, accuracy: 0.9200: 100%|██████████| 158/158 [00:01<00:00, 101.29it/s]\n",
      "loss: 0.2069, accuracy: 0.9000:   1%|          | 9/1000 [00:00<00:19, 49.93it/s]"
     ]
    },
    {
     "name": "stdout",
     "output_type": "stream",
     "text": [
      "Epoch 86: train_acc_0.9161_train_loss_0.2175_val_acc_0.8804_val_loss_0.3422 epoch time 22.0754 seconds\n",
      "total time32.0 : 2.9799249172210693\n"
     ]
    },
    {
     "name": "stderr",
     "output_type": "stream",
     "text": [
      "loss: 0.2318, accuracy: 0.9000: 100%|██████████| 1000/1000 [00:20<00:00, 49.04it/s]\n",
      "loss: 0.2919, accuracy: 0.8700: 100%|██████████| 158/158 [00:01<00:00, 99.22it/s] \n",
      "loss: 0.1818, accuracy: 0.9300:   1%|          | 10/1000 [00:00<00:18, 53.57it/s]"
     ]
    },
    {
     "name": "stdout",
     "output_type": "stream",
     "text": [
      "Epoch 87: train_acc_0.9154_train_loss_0.2175_val_acc_0.8875_val_loss_0.3286 epoch time 22.1233 seconds\n",
      "total time32.0 : 25.10321068763733\n"
     ]
    },
    {
     "name": "stderr",
     "output_type": "stream",
     "text": [
      "loss: 0.1690, accuracy: 0.9200: 100%|██████████| 1000/1000 [00:20<00:00, 49.14it/s]\n",
      "loss: 0.2384, accuracy: 0.8900: 100%|██████████| 158/158 [00:01<00:00, 99.81it/s] \n",
      "loss: 0.1961, accuracy: 0.9100:   1%|          | 9/1000 [00:00<00:19, 50.74it/s]"
     ]
    },
    {
     "name": "stdout",
     "output_type": "stream",
     "text": [
      "Epoch 88: train_acc_0.9167_train_loss_0.2156_val_acc_0.8854_val_loss_0.3298 epoch time 22.0725 seconds\n",
      "total time32.0 : 47.17573404312134\n"
     ]
    },
    {
     "name": "stderr",
     "output_type": "stream",
     "text": [
      "loss: 0.1960, accuracy: 0.9500: 100%|██████████| 1000/1000 [00:20<00:00, 49.39it/s]\n",
      "loss: 0.3958, accuracy: 0.9100: 100%|██████████| 158/158 [00:01<00:00, 98.60it/s] \n",
      "loss: 0.1258, accuracy: 0.9800:   1%|          | 9/1000 [00:00<00:19, 52.01it/s]"
     ]
    },
    {
     "name": "stdout",
     "output_type": "stream",
     "text": [
      "Epoch 89: train_acc_0.9168_train_loss_0.2154_val_acc_0.8832_val_loss_0.3380 epoch time 21.9880 seconds\n",
      "total time33.0 : 9.163733720779419\n"
     ]
    },
    {
     "name": "stderr",
     "output_type": "stream",
     "text": [
      "loss: 0.2358, accuracy: 0.9400: 100%|██████████| 1000/1000 [00:20<00:00, 48.98it/s]\n",
      "loss: 0.1710, accuracy: 0.9200: 100%|██████████| 158/158 [00:01<00:00, 99.91it/s] \n",
      "loss: 0.3144, accuracy: 0.8600:   1%|          | 9/1000 [00:00<00:19, 50.09it/s]"
     ]
    },
    {
     "name": "stdout",
     "output_type": "stream",
     "text": [
      "Epoch 90: train_acc_0.9164_train_loss_0.2139_val_acc_0.8828_val_loss_0.3416 epoch time 22.1339 seconds\n",
      "total time33.0 : 31.297606229782104\n"
     ]
    },
    {
     "name": "stderr",
     "output_type": "stream",
     "text": [
      "loss: 0.1495, accuracy: 0.9300: 100%|██████████| 1000/1000 [00:20<00:00, 49.16it/s]\n",
      "loss: 0.6758, accuracy: 0.8900: 100%|██████████| 158/158 [00:01<00:00, 97.73it/s] \n",
      "loss: 0.2078, accuracy: 0.8900:   1%|          | 10/1000 [00:00<00:18, 52.70it/s]"
     ]
    },
    {
     "name": "stdout",
     "output_type": "stream",
     "text": [
      "Epoch 91: train_acc_0.9168_train_loss_0.2141_val_acc_0.8811_val_loss_0.3537 epoch time 22.1760 seconds\n",
      "total time33.0 : 53.4736533164978\n"
     ]
    },
    {
     "name": "stderr",
     "output_type": "stream",
     "text": [
      "loss: 0.2562, accuracy: 0.9300: 100%|██████████| 1000/1000 [00:20<00:00, 49.54it/s]\n",
      "loss: 0.3639, accuracy: 0.9300: 100%|██████████| 158/158 [00:01<00:00, 100.37it/s]\n",
      "loss: 0.2496, accuracy: 0.9200:   1%|          | 9/1000 [00:00<00:19, 49.80it/s]"
     ]
    },
    {
     "name": "stdout",
     "output_type": "stream",
     "text": [
      "Epoch 92: train_acc_0.9172_train_loss_0.2122_val_acc_0.8870_val_loss_0.3385 epoch time 22.0765 seconds\n",
      "total time34.0 : 15.550147294998169\n"
     ]
    },
    {
     "name": "stderr",
     "output_type": "stream",
     "text": [
      "loss: 0.1654, accuracy: 0.9400: 100%|██████████| 1000/1000 [00:20<00:00, 49.50it/s]\n",
      "loss: 0.2451, accuracy: 0.9100: 100%|██████████| 158/158 [00:01<00:00, 98.30it/s] \n",
      "loss: 0.1435, accuracy: 0.9300:   1%|          | 9/1000 [00:00<00:18, 52.58it/s]"
     ]
    },
    {
     "name": "stdout",
     "output_type": "stream",
     "text": [
      "Epoch 93: train_acc_0.9176_train_loss_0.2115_val_acc_0.8811_val_loss_0.3486 epoch time 22.2553 seconds\n",
      "total time34.0 : 37.80544328689575\n"
     ]
    },
    {
     "name": "stderr",
     "output_type": "stream",
     "text": [
      "loss: 0.1850, accuracy: 0.9100: 100%|██████████| 1000/1000 [00:20<00:00, 49.19it/s]\n",
      "loss: 0.2171, accuracy: 0.9400: 100%|██████████| 158/158 [00:01<00:00, 103.02it/s]\n",
      "loss: 0.3713, accuracy: 0.9400:   1%|          | 10/1000 [00:00<00:18, 53.03it/s]"
     ]
    },
    {
     "name": "stdout",
     "output_type": "stream",
     "text": [
      "Epoch 94: train_acc_0.9178_train_loss_0.2117_val_acc_0.8856_val_loss_0.3397 epoch time 21.9984 seconds\n",
      "total time34.0 : 59.803834676742554\n"
     ]
    },
    {
     "name": "stderr",
     "output_type": "stream",
     "text": [
      "loss: 0.3028, accuracy: 0.8900: 100%|██████████| 1000/1000 [00:20<00:00, 49.73it/s]\n",
      "loss: 0.1996, accuracy: 0.9100: 100%|██████████| 158/158 [00:01<00:00, 99.45it/s] \n",
      "loss: 0.2189, accuracy: 0.9000:   1%|          | 9/1000 [00:00<00:19, 51.84it/s]"
     ]
    },
    {
     "name": "stdout",
     "output_type": "stream",
     "text": [
      "Epoch 95: train_acc_0.9183_train_loss_0.2100_val_acc_0.8859_val_loss_0.3410 epoch time 21.8347 seconds\n",
      "total time35.0 : 21.63857889175415\n"
     ]
    },
    {
     "name": "stderr",
     "output_type": "stream",
     "text": [
      "loss: 0.1245, accuracy: 0.9500: 100%|██████████| 1000/1000 [00:20<00:00, 49.05it/s]\n",
      "loss: 0.5017, accuracy: 0.8500: 100%|██████████| 158/158 [00:01<00:00, 100.49it/s]\n",
      "loss: 0.2654, accuracy: 0.9600:   1%|          | 9/1000 [00:00<00:19, 51.07it/s]"
     ]
    },
    {
     "name": "stdout",
     "output_type": "stream",
     "text": [
      "Epoch 96: train_acc_0.9179_train_loss_0.2096_val_acc_0.8846_val_loss_0.3422 epoch time 22.0967 seconds\n",
      "total time35.0 : 43.73527789115906\n"
     ]
    },
    {
     "name": "stderr",
     "output_type": "stream",
     "text": [
      "loss: 0.1075, accuracy: 0.9500: 100%|██████████| 1000/1000 [00:20<00:00, 48.96it/s]\n",
      "loss: 0.2144, accuracy: 0.9000: 100%|██████████| 158/158 [00:01<00:00, 98.17it/s] \n",
      "loss: 0.1191, accuracy: 0.9400:   1%|          | 9/1000 [00:00<00:19, 51.80it/s]"
     ]
    },
    {
     "name": "stdout",
     "output_type": "stream",
     "text": [
      "Epoch 97: train_acc_0.9177_train_loss_0.2100_val_acc_0.8843_val_loss_0.3445 epoch time 22.1731 seconds\n",
      "total time36.0 : 5.9084086418151855\n"
     ]
    },
    {
     "name": "stderr",
     "output_type": "stream",
     "text": [
      "loss: 0.2260, accuracy: 0.9400: 100%|██████████| 1000/1000 [00:20<00:00, 48.96it/s]\n",
      "loss: 0.3376, accuracy: 0.8600: 100%|██████████| 158/158 [00:01<00:00, 99.84it/s] \n",
      "loss: 0.2107, accuracy: 0.9200:   1%|          | 9/1000 [00:00<00:19, 50.62it/s]"
     ]
    },
    {
     "name": "stdout",
     "output_type": "stream",
     "text": [
      "Epoch 98: train_acc_0.9187_train_loss_0.2076_val_acc_0.8850_val_loss_0.3416 epoch time 22.1460 seconds\n",
      "total time36.0 : 28.05436944961548\n"
     ]
    },
    {
     "name": "stderr",
     "output_type": "stream",
     "text": [
      "loss: 0.1722, accuracy: 0.9500: 100%|██████████| 1000/1000 [00:20<00:00, 49.18it/s]\n",
      "loss: 0.3437, accuracy: 0.8600: 100%|██████████| 158/158 [00:01<00:00, 99.85it/s] \n",
      "loss: 0.3839, accuracy: 0.8900:  13%|█▎        | 20/158 [00:00<00:01, 107.78it/s]"
     ]
    },
    {
     "name": "stdout",
     "output_type": "stream",
     "text": [
      "Epoch 99: train_acc_0.9193_train_loss_0.2073_val_acc_0.8856_val_loss_0.3366 epoch time 22.0545 seconds\n",
      "total time36.0 : 50.10884881019592\n",
      "Generating test set evaluation metrics\n"
     ]
    },
    {
     "name": "stderr",
     "output_type": "stream",
     "text": [
      "loss: 0.3142, accuracy: 0.8400: 100%|██████████| 158/158 [00:01<00:00, 99.07it/s]\n"
     ]
    },
    {
     "name": "stdout",
     "output_type": "stream",
     "text": [
      "finish\n"
     ]
    },
    {
     "data": {
      "image/png": "[encoded data removed]",
      "text/plain": [
       "<Figure size 576x288 with 1 Axes>"
      ]
     },
     "metadata": {
      "needs_background": "light"
     },
     "output_type": "display_data"
    },
    {
     "data": {
      "image/png": "[encoded data removed]",
      "text/plain": [
       "<Figure size 576x288 with 1 Axes>"
      ]
     },
     "metadata": {
      "needs_background": "light"
     },
     "output_type": "display_data"
    },
    {
     "name": "stdout",
     "output_type": "stream",
     "text": [
      "Building basic block of ConvolutionalNetwork using input shape (100, 1, 28, 28)\n",
      "torch.Size([100, 64, 28, 28])\n",
      "torch.Size([100, 64, 15, 15])\n",
      "torch.Size([100, 64, 15, 15])\n",
      "torch.Size([100, 64, 8, 8])\n",
      "torch.Size([100, 64, 8, 8])\n",
      "torch.Size([100, 64, 5, 5])\n"
     ]
    },
    {
     "name": "stderr",
     "output_type": "stream",
     "text": [
      "loss: 3.8495, accuracy: 0.0500:   1%|          | 8/1000 [00:00<00:21, 45.67it/s]"
     ]
    },
    {
     "name": "stdout",
     "output_type": "stream",
     "text": [
      "torch.Size([100, 64, 5, 5])\n",
      "torch.Size([100, 64, 3, 3])\n",
      "shape before final linear layer torch.Size([100, 64, 2, 2])\n",
      "Block is built, output volume is torch.Size([100, 47])\n",
      "use GPU\n",
      "ConvolutionalNetwork(\n",
      "  (layer_dict): ModuleDict(\n",
      "    (conv_0): Conv2d(1, 64, kernel_size=(3, 3), stride=(1, 1), padding=(1, 1))\n",
      "    (dim_reduction_avg_pool_0): AvgPool2d(kernel_size=2, stride=2, padding=1)\n",
      "    (conv_1): Conv2d(64, 64, kernel_size=(3, 3), stride=(1, 1), padding=(1, 1))\n",
      "    (dim_reduction_avg_pool_1): AvgPool2d(kernel_size=2, stride=2, padding=1)\n",
      "    (conv_2): Conv2d(64, 64, kernel_size=(3, 3), stride=(1, 1), padding=(1, 1))\n",
      "    (dim_reduction_avg_pool_2): AvgPool2d(kernel_size=2, stride=2, padding=1)\n",
      "    (conv_3): Conv2d(64, 64, kernel_size=(3, 3), stride=(1, 1), padding=(1, 1))\n",
      "    (dim_reduction_avg_pool_3): AvgPool2d(kernel_size=2, stride=2, padding=1)\n",
      "  )\n",
      "  (logit_linear_layer): Linear(in_features=256, out_features=47, bias=True)\n",
      ")\n"
     ]
    },
    {
     "name": "stderr",
     "output_type": "stream",
     "text": [
      "loss: 0.8272, accuracy: 0.7200: 100%|██████████| 1000/1000 [00:21<00:00, 45.85it/s]\n",
      "loss: 1.0324, accuracy: 0.7300: 100%|██████████| 158/158 [00:01<00:00, 95.34it/s]\n",
      "loss: 0.8594, accuracy: 0.7400:   1%|          | 8/1000 [00:00<00:21, 46.49it/s]"
     ]
    },
    {
     "name": "stdout",
     "output_type": "stream",
     "text": [
      "Epoch 0: train_acc_0.4864_train_loss_1.7650_val_acc_0.7043_val_loss_0.9405 epoch time 23.9113 seconds\n",
      "total time0.0 : 23.911314725875854\n"
     ]
    },
    {
     "name": "stderr",
     "output_type": "stream",
     "text": [
      "loss: 0.7104, accuracy: 0.8000: 100%|██████████| 1000/1000 [00:21<00:00, 45.91it/s]\n",
      "loss: 0.4993, accuracy: 0.8500: 100%|██████████| 158/158 [00:01<00:00, 95.51it/s]\n",
      "loss: 0.7608, accuracy: 0.7500:   1%|          | 8/1000 [00:00<00:20, 47.26it/s]"
     ]
    },
    {
     "name": "stdout",
     "output_type": "stream",
     "text": [
      "Epoch 1: train_acc_0.7533_train_loss_0.7754_val_acc_0.7937_val_loss_0.6336 epoch time 23.9473 seconds\n",
      "total time0.0 : 47.858577251434326\n"
     ]
    },
    {
     "name": "stderr",
     "output_type": "stream",
     "text": [
      "loss: 0.7128, accuracy: 0.7800: 100%|██████████| 1000/1000 [00:21<00:00, 45.42it/s]\n",
      "loss: 0.5519, accuracy: 0.7800: 100%|██████████| 158/158 [00:01<00:00, 94.76it/s]\n",
      "loss: 0.5996, accuracy: 0.8000:   1%|          | 8/1000 [00:00<00:21, 46.48it/s]"
     ]
    },
    {
     "name": "stdout",
     "output_type": "stream",
     "text": [
      "Epoch 2: train_acc_0.7967_train_loss_0.6165_val_acc_0.8163_val_loss_0.5521 epoch time 23.9496 seconds\n",
      "total time1.0 : 11.808201789855957\n"
     ]
    },
    {
     "name": "stderr",
     "output_type": "stream",
     "text": [
      "loss: 0.4838, accuracy: 0.8100: 100%|██████████| 1000/1000 [00:21<00:00, 45.43it/s]\n",
      "loss: 0.3934, accuracy: 0.8400: 100%|██████████| 158/158 [00:01<00:00, 95.91it/s]\n",
      "loss: 0.4131, accuracy: 0.8500:   1%|          | 8/1000 [00:00<00:21, 46.47it/s]"
     ]
    },
    {
     "name": "stdout",
     "output_type": "stream",
     "text": [
      "Epoch 3: train_acc_0.8233_train_loss_0.5332_val_acc_0.8276_val_loss_0.5043 epoch time 23.7933 seconds\n",
      "total time1.0 : 35.601536989212036\n"
     ]
    },
    {
     "name": "stderr",
     "output_type": "stream",
     "text": [
      "loss: 0.4645, accuracy: 0.8100: 100%|██████████| 1000/1000 [00:21<00:00, 45.72it/s]\n",
      "loss: 0.4441, accuracy: 0.8300: 100%|██████████| 158/158 [00:01<00:00, 96.06it/s]\n",
      "loss: 0.3963, accuracy: 0.8300:   1%|          | 9/1000 [00:00<00:21, 46.83it/s]"
     ]
    },
    {
     "name": "stdout",
     "output_type": "stream",
     "text": [
      "Epoch 4: train_acc_0.8365_train_loss_0.4825_val_acc_0.8412_val_loss_0.4599 epoch time 23.8852 seconds\n",
      "total time1.0 : 59.48671102523804\n"
     ]
    },
    {
     "name": "stderr",
     "output_type": "stream",
     "text": [
      "loss: 0.3657, accuracy: 0.8400: 100%|██████████| 1000/1000 [00:21<00:00, 45.59it/s]\n",
      "loss: 0.4664, accuracy: 0.8400: 100%|██████████| 158/158 [00:01<00:00, 95.91it/s]\n",
      "loss: 0.5606, accuracy: 0.7600:   1%|          | 9/1000 [00:00<00:20, 48.00it/s]"
     ]
    },
    {
     "name": "stdout",
     "output_type": "stream",
     "text": [
      "Epoch 5: train_acc_0.8462_train_loss_0.4501_val_acc_0.8478_val_loss_0.4419 epoch time 23.9538 seconds\n",
      "total time2.0 : 23.440516471862793\n"
     ]
    },
    {
     "name": "stderr",
     "output_type": "stream",
     "text": [
      "loss: 0.2809, accuracy: 0.9100: 100%|██████████| 1000/1000 [00:21<00:00, 45.73it/s]\n",
      "loss: 0.3600, accuracy: 0.8700: 100%|██████████| 158/158 [00:01<00:00, 95.74it/s] \n",
      "loss: 0.4017, accuracy: 0.9200:   1%|          | 9/1000 [00:00<00:20, 47.27it/s]"
     ]
    },
    {
     "name": "stdout",
     "output_type": "stream",
     "text": [
      "Epoch 6: train_acc_0.8525_train_loss_0.4260_val_acc_0.8592_val_loss_0.4113 epoch time 23.9350 seconds\n",
      "total time2.0 : 47.37550354003906\n"
     ]
    },
    {
     "name": "stderr",
     "output_type": "stream",
     "text": [
      "loss: 0.5883, accuracy: 0.8300: 100%|██████████| 1000/1000 [00:21<00:00, 46.08it/s]\n",
      "loss: 0.4320, accuracy: 0.8700: 100%|██████████| 158/158 [00:01<00:00, 95.70it/s]\n",
      "loss: 0.2675, accuracy: 0.8800:   1%|          | 9/1000 [00:00<00:21, 45.84it/s]"
     ]
    },
    {
     "name": "stdout",
     "output_type": "stream",
     "text": [
      "Epoch 7: train_acc_0.8588_train_loss_0.4060_val_acc_0.8652_val_loss_0.3896 epoch time 23.9382 seconds\n",
      "total time3.0 : 11.313677072525024\n"
     ]
    },
    {
     "name": "stderr",
     "output_type": "stream",
     "text": [
      "loss: 0.2711, accuracy: 0.9200: 100%|██████████| 1000/1000 [00:21<00:00, 45.99it/s]\n",
      "loss: 0.4976, accuracy: 0.8000: 100%|██████████| 158/158 [00:01<00:00, 95.80it/s]\n",
      "loss: 0.3689, accuracy: 0.8700:   1%|          | 9/1000 [00:00<00:21, 46.77it/s]"
     ]
    },
    {
     "name": "stdout",
     "output_type": "stream",
     "text": [
      "Epoch 8: train_acc_0.8641_train_loss_0.3900_val_acc_0.8668_val_loss_0.3836 epoch time 23.5942 seconds\n",
      "total time3.0 : 34.90784549713135\n"
     ]
    },
    {
     "name": "stderr",
     "output_type": "stream",
     "text": [
      "loss: 0.4172, accuracy: 0.8600: 100%|██████████| 1000/1000 [00:21<00:00, 45.30it/s]\n",
      "loss: 0.2862, accuracy: 0.9100: 100%|██████████| 158/158 [00:01<00:00, 96.39it/s]\n",
      "loss: 0.3019, accuracy: 0.8900:   1%|          | 8/1000 [00:00<00:21, 46.74it/s]"
     ]
    },
    {
     "name": "stdout",
     "output_type": "stream",
     "text": [
      "Epoch 9: train_acc_0.8681_train_loss_0.3756_val_acc_0.8729_val_loss_0.3661 epoch time 23.8367 seconds\n",
      "total time3.0 : 58.74456739425659\n"
     ]
    },
    {
     "name": "stderr",
     "output_type": "stream",
     "text": [
      "loss: 0.2810, accuracy: 0.8800: 100%|██████████| 1000/1000 [00:21<00:00, 46.63it/s]\n",
      "loss: 0.4226, accuracy: 0.8800: 100%|██████████| 158/158 [00:01<00:00, 95.41it/s]\n",
      "loss: 0.3739, accuracy: 0.9600:   1%|          | 8/1000 [00:00<00:21, 46.25it/s]"
     ]
    },
    {
     "name": "stdout",
     "output_type": "stream",
     "text": [
      "Epoch 10: train_acc_0.8710_train_loss_0.3642_val_acc_0.8709_val_loss_0.3663 epoch time 23.9336 seconds\n",
      "total time4.0 : 22.678202867507935\n"
     ]
    },
    {
     "name": "stderr",
     "output_type": "stream",
     "text": [
      "loss: 0.3054, accuracy: 0.9100: 100%|██████████| 1000/1000 [00:21<00:00, 45.71it/s]\n",
      "loss: 0.4735, accuracy: 0.9400: 100%|██████████| 158/158 [00:01<00:00, 95.99it/s]\n",
      "loss: 0.3164, accuracy: 0.9200:   1%|          | 8/1000 [00:00<00:21, 46.72it/s]"
     ]
    },
    {
     "name": "stdout",
     "output_type": "stream",
     "text": [
      "Epoch 11: train_acc_0.8737_train_loss_0.3546_val_acc_0.8763_val_loss_0.3563 epoch time 23.9425 seconds\n",
      "total time4.0 : 46.620694398880005\n"
     ]
    },
    {
     "name": "stderr",
     "output_type": "stream",
     "text": [
      "loss: 0.2972, accuracy: 0.8800: 100%|██████████| 1000/1000 [00:21<00:00, 45.48it/s]\n",
      "loss: 0.4103, accuracy: 0.8600: 100%|██████████| 158/158 [00:01<00:00, 94.99it/s]\n",
      "loss: 0.2275, accuracy: 0.9200:   1%|          | 9/1000 [00:00<00:20, 47.54it/s]"
     ]
    },
    {
     "name": "stdout",
     "output_type": "stream",
     "text": [
      "Epoch 12: train_acc_0.8770_train_loss_0.3433_val_acc_0.8703_val_loss_0.3682 epoch time 23.9270 seconds\n",
      "total time5.0 : 10.54769515991211\n"
     ]
    },
    {
     "name": "stderr",
     "output_type": "stream",
     "text": [
      "loss: 0.3280, accuracy: 0.8700: 100%|██████████| 1000/1000 [00:21<00:00, 45.47it/s]\n",
      "loss: 0.3134, accuracy: 0.9200: 100%|██████████| 158/158 [00:01<00:00, 94.82it/s]\n",
      "loss: 0.2958, accuracy: 0.9100:   1%|          | 8/1000 [00:00<00:21, 46.12it/s]"
     ]
    },
    {
     "name": "stdout",
     "output_type": "stream",
     "text": [
      "Epoch 13: train_acc_0.8782_train_loss_0.3346_val_acc_0.8672_val_loss_0.3566 epoch time 23.9355 seconds\n",
      "total time5.0 : 34.483174085617065\n"
     ]
    },
    {
     "name": "stderr",
     "output_type": "stream",
     "text": [
      "loss: 0.2180, accuracy: 0.9200: 100%|██████████| 1000/1000 [00:21<00:00, 45.99it/s]\n",
      "loss: 0.4115, accuracy: 0.8800: 100%|██████████| 158/158 [00:01<00:00, 96.35it/s] \n",
      "loss: 0.4132, accuracy: 0.8700:   1%|          | 9/1000 [00:00<00:21, 45.95it/s]"
     ]
    },
    {
     "name": "stdout",
     "output_type": "stream",
     "text": [
      "Epoch 14: train_acc_0.8821_train_loss_0.3252_val_acc_0.8773_val_loss_0.3509 epoch time 23.8410 seconds\n",
      "total time5.0 : 58.324151277542114\n"
     ]
    },
    {
     "name": "stderr",
     "output_type": "stream",
     "text": [
      "loss: 0.3190, accuracy: 0.8900: 100%|██████████| 1000/1000 [00:21<00:00, 46.98it/s]\n",
      "loss: 0.2641, accuracy: 0.9000: 100%|██████████| 158/158 [00:01<00:00, 100.70it/s]\n",
      "loss: 0.3800, accuracy: 0.8600:   1%|          | 9/1000 [00:00<00:20, 48.16it/s]"
     ]
    },
    {
     "name": "stdout",
     "output_type": "stream",
     "text": [
      "Epoch 15: train_acc_0.8842_train_loss_0.3192_val_acc_0.8789_val_loss_0.3411 epoch time 23.8062 seconds\n",
      "total time6.0 : 22.13034963607788\n"
     ]
    },
    {
     "name": "stderr",
     "output_type": "stream",
     "text": [
      "loss: 0.1615, accuracy: 0.9700: 100%|██████████| 1000/1000 [00:21<00:00, 45.60it/s]\n",
      "loss: 0.3806, accuracy: 0.8700: 100%|██████████| 158/158 [00:01<00:00, 96.39it/s] \n",
      "loss: 0.1569, accuracy: 0.9400:   1%|          | 9/1000 [00:00<00:20, 47.87it/s]"
     ]
    },
    {
     "name": "stdout",
     "output_type": "stream",
     "text": [
      "Epoch 16: train_acc_0.8873_train_loss_0.3102_val_acc_0.8746_val_loss_0.3554 epoch time 23.8110 seconds\n",
      "total time6.0 : 45.94131922721863\n"
     ]
    },
    {
     "name": "stderr",
     "output_type": "stream",
     "text": [
      "loss: 0.3145, accuracy: 0.8700: 100%|██████████| 1000/1000 [00:21<00:00, 45.85it/s]\n",
      "loss: 0.2331, accuracy: 0.9300: 100%|██████████| 158/158 [00:01<00:00, 95.16it/s]\n",
      "loss: 0.2686, accuracy: 0.9100:   1%|          | 9/1000 [00:00<00:20, 47.69it/s]"
     ]
    },
    {
     "name": "stdout",
     "output_type": "stream",
     "text": [
      "Epoch 17: train_acc_0.8880_train_loss_0.3058_val_acc_0.8826_val_loss_0.3280 epoch time 23.9083 seconds\n",
      "total time7.0 : 9.849626779556274\n"
     ]
    },
    {
     "name": "stderr",
     "output_type": "stream",
     "text": [
      "loss: 0.4322, accuracy: 0.8500: 100%|██████████| 1000/1000 [00:21<00:00, 45.92it/s]\n",
      "loss: 0.5767, accuracy: 0.8300: 100%|██████████| 158/158 [00:01<00:00, 95.13it/s]\n",
      "loss: 0.2868, accuracy: 0.8800:   1%|          | 8/1000 [00:00<00:21, 45.52it/s]"
     ]
    },
    {
     "name": "stdout",
     "output_type": "stream",
     "text": [
      "Epoch 18: train_acc_0.8899_train_loss_0.2989_val_acc_0.8825_val_loss_0.3248 epoch time 23.9258 seconds\n",
      "total time7.0 : 33.77537941932678\n"
     ]
    },
    {
     "name": "stderr",
     "output_type": "stream",
     "text": [
      "loss: 0.3362, accuracy: 0.8400: 100%|██████████| 1000/1000 [00:21<00:00, 45.82it/s]\n",
      "loss: 0.3403, accuracy: 0.8900: 100%|██████████| 158/158 [00:01<00:00, 95.87it/s]\n",
      "loss: 0.3371, accuracy: 0.8200:   1%|          | 8/1000 [00:00<00:20, 48.02it/s]"
     ]
    },
    {
     "name": "stdout",
     "output_type": "stream",
     "text": [
      "Epoch 19: train_acc_0.8918_train_loss_0.2929_val_acc_0.8835_val_loss_0.3281 epoch time 23.8879 seconds\n",
      "total time7.0 : 57.663315296173096\n"
     ]
    },
    {
     "name": "stderr",
     "output_type": "stream",
     "text": [
      "loss: 0.4311, accuracy: 0.8400: 100%|██████████| 1000/1000 [00:21<00:00, 45.93it/s]\n",
      "loss: 0.1922, accuracy: 0.9400: 100%|██████████| 158/158 [00:01<00:00, 95.09it/s]\n",
      "loss: 0.1841, accuracy: 0.9300:   1%|          | 8/1000 [00:00<00:21, 46.50it/s]"
     ]
    },
    {
     "name": "stdout",
     "output_type": "stream",
     "text": [
      "Epoch 20: train_acc_0.8923_train_loss_0.2878_val_acc_0.8798_val_loss_0.3321 epoch time 23.9431 seconds\n",
      "total time8.0 : 21.606449842453003\n"
     ]
    },
    {
     "name": "stderr",
     "output_type": "stream",
     "text": [
      "loss: 0.2565, accuracy: 0.8800: 100%|██████████| 1000/1000 [00:21<00:00, 45.52it/s]\n",
      "loss: 0.3994, accuracy: 0.9000: 100%|██████████| 158/158 [00:01<00:00, 95.24it/s]\n",
      "loss: 0.3385, accuracy: 0.8700:   1%|          | 8/1000 [00:00<00:21, 46.39it/s]"
     ]
    },
    {
     "name": "stdout",
     "output_type": "stream",
     "text": [
      "Epoch 21: train_acc_0.8946_train_loss_0.2831_val_acc_0.8832_val_loss_0.3333 epoch time 23.6261 seconds\n",
      "total time8.0 : 45.23254203796387\n"
     ]
    },
    {
     "name": "stderr",
     "output_type": "stream",
     "text": [
      "loss: 0.2189, accuracy: 0.8900: 100%|██████████| 1000/1000 [00:21<00:00, 45.72it/s]\n",
      "loss: 0.5023, accuracy: 0.8700: 100%|██████████| 158/158 [00:01<00:00, 96.88it/s] \n",
      "loss: 0.2474, accuracy: 0.9500:   1%|          | 8/1000 [00:00<00:21, 46.84it/s]"
     ]
    },
    {
     "name": "stdout",
     "output_type": "stream",
     "text": [
      "Epoch 22: train_acc_0.8953_train_loss_0.2799_val_acc_0.8828_val_loss_0.3286 epoch time 23.8960 seconds\n",
      "total time9.0 : 9.128576517105103\n"
     ]
    },
    {
     "name": "stderr",
     "output_type": "stream",
     "text": [
      "loss: 0.3194, accuracy: 0.8900: 100%|██████████| 1000/1000 [00:21<00:00, 45.53it/s]\n",
      "loss: 0.2697, accuracy: 0.8900: 100%|██████████| 158/158 [00:01<00:00, 95.54it/s]\n",
      "loss: 0.2987, accuracy: 0.9200:   1%|          | 9/1000 [00:00<00:21, 46.95it/s]"
     ]
    },
    {
     "name": "stdout",
     "output_type": "stream",
     "text": [
      "Epoch 23: train_acc_0.8978_train_loss_0.2733_val_acc_0.8809_val_loss_0.3260 epoch time 23.9306 seconds\n",
      "total time9.0 : 33.05921721458435\n"
     ]
    },
    {
     "name": "stderr",
     "output_type": "stream",
     "text": [
      "loss: 0.3552, accuracy: 0.8800: 100%|██████████| 1000/1000 [00:21<00:00, 45.42it/s]\n",
      "loss: 0.2001, accuracy: 0.9100: 100%|██████████| 158/158 [00:01<00:00, 96.68it/s]\n",
      "loss: 0.2203, accuracy: 0.8800:   1%|          | 8/1000 [00:00<00:21, 47.07it/s]"
     ]
    },
    {
     "name": "stdout",
     "output_type": "stream",
     "text": [
      "Epoch 24: train_acc_0.8990_train_loss_0.2684_val_acc_0.8840_val_loss_0.3278 epoch time 23.8510 seconds\n",
      "total time9.0 : 56.9101767539978\n"
     ]
    },
    {
     "name": "stderr",
     "output_type": "stream",
     "text": [
      "loss: 0.1871, accuracy: 0.9300: 100%|██████████| 1000/1000 [00:21<00:00, 45.45it/s]\n",
      "loss: 0.4508, accuracy: 0.8600: 100%|██████████| 158/158 [00:01<00:00, 95.76it/s]\n",
      "loss: 0.2640, accuracy: 0.9000:   1%|          | 8/1000 [00:00<00:21, 46.51it/s]"
     ]
    },
    {
     "name": "stdout",
     "output_type": "stream",
     "text": [
      "Epoch 25: train_acc_0.8999_train_loss_0.2651_val_acc_0.8859_val_loss_0.3293 epoch time 23.9430 seconds\n",
      "total time10.0 : 20.85317611694336\n"
     ]
    },
    {
     "name": "stderr",
     "output_type": "stream",
     "text": [
      "loss: 0.3131, accuracy: 0.8800: 100%|██████████| 1000/1000 [00:21<00:00, 45.81it/s]\n",
      "loss: 0.6132, accuracy: 0.8500: 100%|██████████| 158/158 [00:01<00:00, 95.56it/s]\n",
      "loss: 0.2822, accuracy: 0.9000:   1%|          | 9/1000 [00:00<00:21, 46.96it/s]"
     ]
    },
    {
     "name": "stdout",
     "output_type": "stream",
     "text": [
      "Epoch 26: train_acc_0.9011_train_loss_0.2614_val_acc_0.8861_val_loss_0.3223 epoch time 23.8751 seconds\n",
      "total time10.0 : 44.728286027908325\n"
     ]
    },
    {
     "name": "stderr",
     "output_type": "stream",
     "text": [
      "loss: 0.2999, accuracy: 0.8700: 100%|██████████| 1000/1000 [00:21<00:00, 45.71it/s]\n",
      "loss: 0.5205, accuracy: 0.9000: 100%|██████████| 158/158 [00:01<00:00, 95.88it/s]\n",
      "loss: 0.2549, accuracy: 0.9100:   1%|          | 9/1000 [00:00<00:20, 47.48it/s]"
     ]
    },
    {
     "name": "stdout",
     "output_type": "stream",
     "text": [
      "Epoch 27: train_acc_0.9025_train_loss_0.2581_val_acc_0.8846_val_loss_0.3263 epoch time 23.8565 seconds\n",
      "total time11.0 : 8.584834337234497\n"
     ]
    },
    {
     "name": "stderr",
     "output_type": "stream",
     "text": [
      "loss: 0.2118, accuracy: 0.9200: 100%|██████████| 1000/1000 [00:21<00:00, 46.56it/s]\n",
      "loss: 0.1650, accuracy: 0.9400: 100%|██████████| 158/158 [00:01<00:00, 94.99it/s]\n",
      "loss: 0.3417, accuracy: 0.9100:   1%|          | 8/1000 [00:00<00:21, 46.78it/s]"
     ]
    },
    {
     "name": "stdout",
     "output_type": "stream",
     "text": [
      "Epoch 28: train_acc_0.9024_train_loss_0.2558_val_acc_0.8869_val_loss_0.3315 epoch time 23.7913 seconds\n",
      "total time11.0 : 32.376110553741455\n"
     ]
    },
    {
     "name": "stderr",
     "output_type": "stream",
     "text": [
      "loss: 0.2297, accuracy: 0.8800: 100%|██████████| 1000/1000 [00:21<00:00, 45.95it/s]\n",
      "loss: 0.3081, accuracy: 0.8900: 100%|██████████| 158/158 [00:01<00:00, 95.76it/s]\n",
      "loss: 0.3320, accuracy: 0.8500:   1%|          | 9/1000 [00:00<00:20, 47.40it/s]"
     ]
    },
    {
     "name": "stdout",
     "output_type": "stream",
     "text": [
      "Epoch 29: train_acc_0.9033_train_loss_0.2523_val_acc_0.8861_val_loss_0.3244 epoch time 23.8764 seconds\n",
      "total time11.0 : 56.25252819061279\n"
     ]
    },
    {
     "name": "stderr",
     "output_type": "stream",
     "text": [
      "loss: 0.2383, accuracy: 0.9000: 100%|██████████| 1000/1000 [00:21<00:00, 45.83it/s]\n",
      "loss: 0.7015, accuracy: 0.8400: 100%|██████████| 158/158 [00:01<00:00, 96.07it/s]\n",
      "loss: 0.1647, accuracy: 0.9300:   1%|          | 8/1000 [00:00<00:21, 46.66it/s]"
     ]
    },
    {
     "name": "stdout",
     "output_type": "stream",
     "text": [
      "Epoch 30: train_acc_0.9047_train_loss_0.2470_val_acc_0.8853_val_loss_0.3213 epoch time 23.8692 seconds\n",
      "total time12.0 : 20.121710062026978\n"
     ]
    },
    {
     "name": "stderr",
     "output_type": "stream",
     "text": [
      "loss: 0.2931, accuracy: 0.8500: 100%|██████████| 1000/1000 [00:21<00:00, 45.53it/s]\n",
      "loss: 0.5279, accuracy: 0.8200: 100%|██████████| 158/158 [00:01<00:00, 95.29it/s]\n",
      "loss: 0.2386, accuracy: 0.9000:   1%|          | 8/1000 [00:00<00:21, 46.69it/s]"
     ]
    },
    {
     "name": "stdout",
     "output_type": "stream",
     "text": [
      "Epoch 31: train_acc_0.9059_train_loss_0.2452_val_acc_0.8821_val_loss_0.3363 epoch time 23.8973 seconds\n",
      "total time12.0 : 44.018985748291016\n"
     ]
    },
    {
     "name": "stderr",
     "output_type": "stream",
     "text": [
      "loss: 0.2727, accuracy: 0.9000: 100%|██████████| 1000/1000 [00:21<00:00, 45.78it/s]\n",
      "loss: 0.2591, accuracy: 0.9100: 100%|██████████| 158/158 [00:01<00:00, 96.65it/s] \n",
      "loss: 0.2043, accuracy: 0.9000:   1%|          | 9/1000 [00:00<00:21, 46.80it/s]"
     ]
    },
    {
     "name": "stdout",
     "output_type": "stream",
     "text": [
      "Epoch 32: train_acc_0.9064_train_loss_0.2421_val_acc_0.8834_val_loss_0.3296 epoch time 23.8846 seconds\n",
      "total time13.0 : 7.903537750244141\n"
     ]
    },
    {
     "name": "stderr",
     "output_type": "stream",
     "text": [
      "loss: 0.2071, accuracy: 0.8900: 100%|██████████| 1000/1000 [00:21<00:00, 46.08it/s]\n",
      "loss: 0.3978, accuracy: 0.8400: 100%|██████████| 158/158 [00:01<00:00, 95.47it/s]\n",
      "loss: 0.2302, accuracy: 0.9200:   1%|          | 9/1000 [00:00<00:20, 47.28it/s]"
     ]
    },
    {
     "name": "stdout",
     "output_type": "stream",
     "text": [
      "Epoch 33: train_acc_0.9085_train_loss_0.2382_val_acc_0.8882_val_loss_0.3199 epoch time 23.8978 seconds\n",
      "total time13.0 : 31.801377058029175\n"
     ]
    },
    {
     "name": "stderr",
     "output_type": "stream",
     "text": [
      "loss: 0.1645, accuracy: 0.9400: 100%|██████████| 1000/1000 [00:21<00:00, 45.64it/s]\n",
      "loss: 0.3802, accuracy: 0.8700: 100%|██████████| 158/158 [00:01<00:00, 95.79it/s]\n",
      "loss: 0.2761, accuracy: 0.9000:   1%|          | 9/1000 [00:00<00:20, 47.50it/s]"
     ]
    },
    {
     "name": "stdout",
     "output_type": "stream",
     "text": [
      "Epoch 34: train_acc_0.9085_train_loss_0.2365_val_acc_0.8847_val_loss_0.3300 epoch time 23.5832 seconds\n",
      "total time13.0 : 55.384594678878784\n"
     ]
    },
    {
     "name": "stderr",
     "output_type": "stream",
     "text": [
      "loss: 0.1379, accuracy: 0.9500: 100%|██████████| 1000/1000 [00:21<00:00, 45.68it/s]\n",
      "loss: 0.2073, accuracy: 0.8900: 100%|██████████| 158/158 [00:01<00:00, 96.41it/s]\n",
      "loss: 0.2544, accuracy: 0.9000:   1%|          | 9/1000 [00:00<00:21, 47.04it/s]"
     ]
    },
    {
     "name": "stdout",
     "output_type": "stream",
     "text": [
      "Epoch 35: train_acc_0.9093_train_loss_0.2325_val_acc_0.8861_val_loss_0.3230 epoch time 23.8856 seconds\n",
      "total time14.0 : 19.270211935043335\n"
     ]
    },
    {
     "name": "stderr",
     "output_type": "stream",
     "text": [
      "loss: 0.1954, accuracy: 0.9300: 100%|██████████| 1000/1000 [00:21<00:00, 46.05it/s]\n",
      "loss: 0.3528, accuracy: 0.8600: 100%|██████████| 158/158 [00:01<00:00, 95.84it/s]\n",
      "loss: 0.2364, accuracy: 0.9100:   1%|          | 9/1000 [00:00<00:21, 46.85it/s]"
     ]
    },
    {
     "name": "stdout",
     "output_type": "stream",
     "text": [
      "Epoch 36: train_acc_0.9100_train_loss_0.2296_val_acc_0.8873_val_loss_0.3296 epoch time 23.8855 seconds\n",
      "total time14.0 : 43.15574932098389\n"
     ]
    },
    {
     "name": "stderr",
     "output_type": "stream",
     "text": [
      "loss: 0.2860, accuracy: 0.8900: 100%|██████████| 1000/1000 [00:21<00:00, 45.52it/s]\n",
      "loss: 0.4004, accuracy: 0.9000: 100%|██████████| 158/158 [00:01<00:00, 95.65it/s]\n",
      "loss: 0.1471, accuracy: 0.9200:   1%|          | 8/1000 [00:00<00:21, 46.39it/s]"
     ]
    },
    {
     "name": "stdout",
     "output_type": "stream",
     "text": [
      "Epoch 37: train_acc_0.9109_train_loss_0.2279_val_acc_0.8844_val_loss_0.3366 epoch time 23.8830 seconds\n",
      "total time15.0 : 7.0387749671936035\n"
     ]
    },
    {
     "name": "stderr",
     "output_type": "stream",
     "text": [
      "loss: 0.2240, accuracy: 0.9200: 100%|██████████| 1000/1000 [00:21<00:00, 45.95it/s]\n",
      "loss: 0.3011, accuracy: 0.9000: 100%|██████████| 158/158 [00:01<00:00, 95.44it/s]\n",
      "loss: 0.2358, accuracy: 0.9600:   1%|          | 9/1000 [00:00<00:21, 46.86it/s]"
     ]
    },
    {
     "name": "stdout",
     "output_type": "stream",
     "text": [
      "Epoch 38: train_acc_0.9119_train_loss_0.2246_val_acc_0.8820_val_loss_0.3469 epoch time 23.8912 seconds\n",
      "total time15.0 : 30.92997145652771\n"
     ]
    },
    {
     "name": "stderr",
     "output_type": "stream",
     "text": [
      "loss: 0.3314, accuracy: 0.8400: 100%|██████████| 1000/1000 [00:21<00:00, 45.65it/s]\n",
      "loss: 0.2700, accuracy: 0.8900: 100%|██████████| 158/158 [00:01<00:00, 95.54it/s]\n",
      "loss: 0.2391, accuracy: 0.8800:   1%|          | 9/1000 [00:00<00:20, 47.41it/s]"
     ]
    },
    {
     "name": "stdout",
     "output_type": "stream",
     "text": [
      "Epoch 39: train_acc_0.9133_train_loss_0.2215_val_acc_0.8870_val_loss_0.3349 epoch time 23.8433 seconds\n",
      "total time15.0 : 54.77323317527771\n"
     ]
    },
    {
     "name": "stderr",
     "output_type": "stream",
     "text": [
      "loss: 0.3405, accuracy: 0.8600: 100%|██████████| 1000/1000 [00:21<00:00, 45.91it/s]\n",
      "loss: 0.3776, accuracy: 0.8100: 100%|██████████| 158/158 [00:01<00:00, 95.72it/s] \n",
      "loss: 0.2515, accuracy: 0.9100:   1%|          | 8/1000 [00:00<00:21, 46.36it/s]"
     ]
    },
    {
     "name": "stdout",
     "output_type": "stream",
     "text": [
      "Epoch 40: train_acc_0.9140_train_loss_0.2192_val_acc_0.8830_val_loss_0.3455 epoch time 23.8936 seconds\n",
      "total time16.0 : 18.66679620742798\n"
     ]
    },
    {
     "name": "stderr",
     "output_type": "stream",
     "text": [
      "loss: 0.2259, accuracy: 0.9200: 100%|██████████| 1000/1000 [00:21<00:00, 46.22it/s]\n",
      "loss: 0.3016, accuracy: 0.8700: 100%|██████████| 158/158 [00:01<00:00, 95.56it/s]\n",
      "loss: 0.1889, accuracy: 0.9100:   1%|          | 8/1000 [00:00<00:21, 46.81it/s]"
     ]
    },
    {
     "name": "stdout",
     "output_type": "stream",
     "text": [
      "Epoch 41: train_acc_0.9140_train_loss_0.2182_val_acc_0.8803_val_loss_0.3493 epoch time 23.7671 seconds\n",
      "total time16.0 : 42.43385028839111\n"
     ]
    },
    {
     "name": "stderr",
     "output_type": "stream",
     "text": [
      "loss: 0.2579, accuracy: 0.9000: 100%|██████████| 1000/1000 [00:21<00:00, 45.75it/s]\n",
      "loss: 0.2941, accuracy: 0.8800: 100%|██████████| 158/158 [00:01<00:00, 96.50it/s]\n",
      "loss: 0.1923, accuracy: 0.9200:   1%|          | 8/1000 [00:00<00:21, 47.11it/s]"
     ]
    },
    {
     "name": "stdout",
     "output_type": "stream",
     "text": [
      "Epoch 42: train_acc_0.9152_train_loss_0.2142_val_acc_0.8854_val_loss_0.3366 epoch time 23.8961 seconds\n",
      "total time17.0 : 6.329988479614258\n"
     ]
    },
    {
     "name": "stderr",
     "output_type": "stream",
     "text": [
      "loss: 0.2501, accuracy: 0.8900: 100%|██████████| 1000/1000 [00:21<00:00, 46.45it/s]\n",
      "loss: 0.3081, accuracy: 0.9100: 100%|██████████| 158/158 [00:01<00:00, 96.43it/s]\n",
      "loss: 0.1530, accuracy: 0.9500:   1%|          | 8/1000 [00:00<00:21, 46.35it/s]"
     ]
    },
    {
     "name": "stdout",
     "output_type": "stream",
     "text": [
      "Epoch 43: train_acc_0.9156_train_loss_0.2131_val_acc_0.8841_val_loss_0.3434 epoch time 23.8869 seconds\n",
      "total time17.0 : 30.21689200401306\n"
     ]
    },
    {
     "name": "stderr",
     "output_type": "stream",
     "text": [
      "loss: 0.2260, accuracy: 0.8900: 100%|██████████| 1000/1000 [00:21<00:00, 45.61it/s]\n",
      "loss: 0.4766, accuracy: 0.8300: 100%|██████████| 158/158 [00:01<00:00, 96.50it/s]\n",
      "loss: 0.2682, accuracy: 0.8900:   1%|          | 9/1000 [00:00<00:21, 46.96it/s]"
     ]
    },
    {
     "name": "stdout",
     "output_type": "stream",
     "text": [
      "Epoch 44: train_acc_0.9165_train_loss_0.2095_val_acc_0.8792_val_loss_0.3557 epoch time 23.8504 seconds\n",
      "total time17.0 : 54.067277908325195\n"
     ]
    },
    {
     "name": "stderr",
     "output_type": "stream",
     "text": [
      "loss: 0.1692, accuracy: 0.9200: 100%|██████████| 1000/1000 [00:21<00:00, 45.96it/s]\n",
      "loss: 0.3234, accuracy: 0.9200: 100%|██████████| 158/158 [00:01<00:00, 95.91it/s] \n",
      "loss: 0.3763, accuracy: 0.9100:   1%|          | 9/1000 [00:00<00:20, 47.93it/s]"
     ]
    },
    {
     "name": "stdout",
     "output_type": "stream",
     "text": [
      "Epoch 45: train_acc_0.9179_train_loss_0.2082_val_acc_0.8825_val_loss_0.3552 epoch time 23.9006 seconds\n",
      "total time18.0 : 17.967843770980835\n"
     ]
    },
    {
     "name": "stderr",
     "output_type": "stream",
     "text": [
      "loss: 0.1820, accuracy: 0.9200: 100%|██████████| 1000/1000 [00:21<00:00, 45.54it/s]\n",
      "loss: 0.3842, accuracy: 0.8700: 100%|██████████| 158/158 [00:01<00:00, 96.24it/s] \n",
      "loss: 0.1788, accuracy: 0.9000:   1%|          | 8/1000 [00:00<00:21, 46.17it/s]"
     ]
    },
    {
     "name": "stdout",
     "output_type": "stream",
     "text": [
      "Epoch 46: train_acc_0.9184_train_loss_0.2046_val_acc_0.8880_val_loss_0.3390 epoch time 23.8883 seconds\n",
      "total time18.0 : 41.85618615150452\n"
     ]
    },
    {
     "name": "stderr",
     "output_type": "stream",
     "text": [
      "loss: 0.1835, accuracy: 0.9000: 100%|██████████| 1000/1000 [00:21<00:00, 45.44it/s]\n",
      "loss: 0.5344, accuracy: 0.8900: 100%|██████████| 158/158 [00:01<00:00, 95.25it/s] \n",
      "loss: 0.3063, accuracy: 0.8300:   1%|          | 8/1000 [00:00<00:21, 46.69it/s]"
     ]
    },
    {
     "name": "stdout",
     "output_type": "stream",
     "text": [
      "Epoch 47: train_acc_0.9196_train_loss_0.2022_val_acc_0.8829_val_loss_0.3571 epoch time 23.6111 seconds\n",
      "total time19.0 : 5.467325448989868\n"
     ]
    },
    {
     "name": "stderr",
     "output_type": "stream",
     "text": [
      "loss: 0.1705, accuracy: 0.9300: 100%|██████████| 1000/1000 [00:21<00:00, 45.88it/s]\n",
      "loss: 0.6247, accuracy: 0.8400: 100%|██████████| 158/158 [00:01<00:00, 96.15it/s]\n",
      "loss: 0.2275, accuracy: 0.9100:   1%|          | 9/1000 [00:00<00:20, 47.21it/s]"
     ]
    },
    {
     "name": "stdout",
     "output_type": "stream",
     "text": [
      "Epoch 48: train_acc_0.9182_train_loss_0.2015_val_acc_0.8815_val_loss_0.3663 epoch time 23.8860 seconds\n",
      "total time19.0 : 29.353336572647095\n"
     ]
    },
    {
     "name": "stderr",
     "output_type": "stream",
     "text": [
      "loss: 0.2621, accuracy: 0.9000: 100%|██████████| 1000/1000 [00:21<00:00, 45.51it/s]\n",
      "loss: 0.2264, accuracy: 0.8600: 100%|██████████| 158/158 [00:01<00:00, 95.53it/s]\n",
      "loss: 0.2961, accuracy: 0.9000:   1%|          | 8/1000 [00:00<00:21, 45.72it/s]"
     ]
    },
    {
     "name": "stdout",
     "output_type": "stream",
     "text": [
      "Epoch 49: train_acc_0.9198_train_loss_0.1990_val_acc_0.8813_val_loss_0.3579 epoch time 23.8543 seconds\n",
      "total time19.0 : 53.20766806602478\n"
     ]
    },
    {
     "name": "stderr",
     "output_type": "stream",
     "text": [
      "loss: 0.2296, accuracy: 0.9200: 100%|██████████| 1000/1000 [00:21<00:00, 45.32it/s]\n",
      "loss: 0.3466, accuracy: 0.8600: 100%|██████████| 158/158 [00:01<00:00, 96.13it/s]\n",
      "loss: 0.1587, accuracy: 0.9200:   1%|          | 8/1000 [00:00<00:20, 47.55it/s]"
     ]
    },
    {
     "name": "stdout",
     "output_type": "stream",
     "text": [
      "Epoch 50: train_acc_0.9206_train_loss_0.1975_val_acc_0.8832_val_loss_0.3591 epoch time 23.8962 seconds\n",
      "total time20.0 : 17.10383129119873\n"
     ]
    },
    {
     "name": "stderr",
     "output_type": "stream",
     "text": [
      "loss: 0.1306, accuracy: 0.9400: 100%|██████████| 1000/1000 [00:21<00:00, 46.13it/s]\n",
      "loss: 0.2844, accuracy: 0.8700: 100%|██████████| 158/158 [00:01<00:00, 96.04it/s]\n",
      "loss: 0.1504, accuracy: 0.9600:   1%|          | 9/1000 [00:00<00:20, 47.86it/s]"
     ]
    },
    {
     "name": "stdout",
     "output_type": "stream",
     "text": [
      "Epoch 51: train_acc_0.9210_train_loss_0.1955_val_acc_0.8827_val_loss_0.3514 epoch time 23.8693 seconds\n",
      "total time20.0 : 40.9731559753418\n"
     ]
    },
    {
     "name": "stderr",
     "output_type": "stream",
     "text": [
      "loss: 0.2601, accuracy: 0.9200: 100%|██████████| 1000/1000 [00:21<00:00, 45.73it/s]\n",
      "loss: 0.3787, accuracy: 0.8700: 100%|██████████| 158/158 [00:01<00:00, 95.67it/s]\n",
      "loss: 0.1490, accuracy: 0.9400:   1%|          | 9/1000 [00:00<00:21, 46.87it/s]"
     ]
    },
    {
     "name": "stdout",
     "output_type": "stream",
     "text": [
      "Epoch 52: train_acc_0.9226_train_loss_0.1930_val_acc_0.8827_val_loss_0.3621 epoch time 23.8738 seconds\n",
      "total time21.0 : 4.846919775009155\n"
     ]
    },
    {
     "name": "stderr",
     "output_type": "stream",
     "text": [
      "loss: 0.2237, accuracy: 0.9100: 100%|██████████| 1000/1000 [00:21<00:00, 45.86it/s]\n",
      "loss: 0.4070, accuracy: 0.9100: 100%|██████████| 158/158 [00:01<00:00, 95.64it/s]\n",
      "loss: 0.1746, accuracy: 0.9400:   1%|          | 9/1000 [00:00<00:21, 46.70it/s]"
     ]
    },
    {
     "name": "stdout",
     "output_type": "stream",
     "text": [
      "Epoch 53: train_acc_0.9214_train_loss_0.1929_val_acc_0.8848_val_loss_0.3740 epoch time 23.8750 seconds\n",
      "total time21.0 : 28.721968412399292\n"
     ]
    },
    {
     "name": "stderr",
     "output_type": "stream",
     "text": [
      "loss: 0.2040, accuracy: 0.9100: 100%|██████████| 1000/1000 [00:21<00:00, 45.93it/s]\n",
      "loss: 0.5865, accuracy: 0.8700: 100%|██████████| 158/158 [00:01<00:00, 95.43it/s]\n",
      "loss: 0.1773, accuracy: 0.9300:   1%|          | 9/1000 [00:00<00:20, 47.67it/s]"
     ]
    },
    {
     "name": "stdout",
     "output_type": "stream",
     "text": [
      "Epoch 54: train_acc_0.9240_train_loss_0.1889_val_acc_0.8834_val_loss_0.3625 epoch time 23.6739 seconds\n",
      "total time21.0 : 52.39591646194458\n"
     ]
    },
    {
     "name": "stderr",
     "output_type": "stream",
     "text": [
      "loss: 0.0786, accuracy: 0.9800: 100%|██████████| 1000/1000 [00:21<00:00, 45.29it/s]\n",
      "loss: 0.5099, accuracy: 0.8700: 100%|██████████| 158/158 [00:01<00:00, 96.47it/s] \n",
      "loss: 0.2470, accuracy: 0.9200:   1%|          | 9/1000 [00:00<00:21, 47.15it/s]"
     ]
    },
    {
     "name": "stdout",
     "output_type": "stream",
     "text": [
      "Epoch 55: train_acc_0.9238_train_loss_0.1877_val_acc_0.8813_val_loss_0.3772 epoch time 23.8984 seconds\n",
      "total time22.0 : 16.294358253479004\n"
     ]
    },
    {
     "name": "stderr",
     "output_type": "stream",
     "text": [
      "loss: 0.1460, accuracy: 0.9500: 100%|██████████| 1000/1000 [00:21<00:00, 45.45it/s]\n",
      "loss: 0.2671, accuracy: 0.9300: 100%|██████████| 158/158 [00:01<00:00, 95.07it/s]\n",
      "loss: 0.1341, accuracy: 0.9500:   1%|          | 8/1000 [00:00<00:21, 45.55it/s]"
     ]
    },
    {
     "name": "stdout",
     "output_type": "stream",
     "text": [
      "Epoch 56: train_acc_0.9236_train_loss_0.1866_val_acc_0.8855_val_loss_0.3614 epoch time 23.8911 seconds\n",
      "total time22.0 : 40.185473680496216\n"
     ]
    },
    {
     "name": "stderr",
     "output_type": "stream",
     "text": [
      "loss: 0.1137, accuracy: 0.9500: 100%|██████████| 1000/1000 [00:21<00:00, 45.60it/s]\n",
      "loss: 0.3243, accuracy: 0.8700: 100%|██████████| 158/158 [00:01<00:00, 96.18it/s]\n",
      "loss: 0.1979, accuracy: 0.9100:   1%|          | 8/1000 [00:00<00:21, 47.05it/s]"
     ]
    },
    {
     "name": "stdout",
     "output_type": "stream",
     "text": [
      "Epoch 57: train_acc_0.9255_train_loss_0.1839_val_acc_0.8782_val_loss_0.3814 epoch time 23.8912 seconds\n",
      "total time23.0 : 4.076658487319946\n"
     ]
    },
    {
     "name": "stderr",
     "output_type": "stream",
     "text": [
      "loss: 0.2300, accuracy: 0.9300: 100%|██████████| 1000/1000 [00:21<00:00, 45.71it/s]\n",
      "loss: 0.4200, accuracy: 0.8700: 100%|██████████| 158/158 [00:01<00:00, 95.02it/s]\n",
      "loss: 0.1479, accuracy: 0.9400:   1%|          | 8/1000 [00:00<00:21, 45.99it/s]"
     ]
    },
    {
     "name": "stdout",
     "output_type": "stream",
     "text": [
      "Epoch 58: train_acc_0.9254_train_loss_0.1819_val_acc_0.8828_val_loss_0.3667 epoch time 23.9116 seconds\n",
      "total time23.0 : 27.98824429512024\n"
     ]
    },
    {
     "name": "stderr",
     "output_type": "stream",
     "text": [
      "loss: 0.1581, accuracy: 0.9600: 100%|██████████| 1000/1000 [00:21<00:00, 45.89it/s]\n",
      "loss: 0.4124, accuracy: 0.8600: 100%|██████████| 158/158 [00:01<00:00, 95.96it/s]\n",
      "loss: 0.1635, accuracy: 0.9500:   1%|          | 9/1000 [00:00<00:21, 47.08it/s]"
     ]
    },
    {
     "name": "stdout",
     "output_type": "stream",
     "text": [
      "Epoch 59: train_acc_0.9249_train_loss_0.1822_val_acc_0.8825_val_loss_0.3765 epoch time 23.8607 seconds\n",
      "total time23.0 : 51.84899377822876\n"
     ]
    },
    {
     "name": "stderr",
     "output_type": "stream",
     "text": [
      "loss: 0.2573, accuracy: 0.8900: 100%|██████████| 1000/1000 [00:21<00:00, 45.78it/s]\n",
      "loss: 0.4136, accuracy: 0.8100: 100%|██████████| 158/158 [00:01<00:00, 95.44it/s]\n",
      "loss: 0.1142, accuracy: 0.9600:   1%|          | 8/1000 [00:00<00:21, 46.27it/s]"
     ]
    },
    {
     "name": "stdout",
     "output_type": "stream",
     "text": [
      "Epoch 60: train_acc_0.9263_train_loss_0.1789_val_acc_0.8813_val_loss_0.3756 epoch time 23.5537 seconds\n",
      "total time24.0 : 15.40273904800415\n"
     ]
    },
    {
     "name": "stderr",
     "output_type": "stream",
     "text": [
      "loss: 0.2347, accuracy: 0.9100: 100%|██████████| 1000/1000 [00:21<00:00, 46.11it/s]\n",
      "loss: 0.2634, accuracy: 0.8900: 100%|██████████| 158/158 [00:01<00:00, 96.70it/s]\n",
      "loss: 0.1670, accuracy: 0.9300:   1%|          | 9/1000 [00:00<00:20, 48.55it/s]"
     ]
    },
    {
     "name": "stdout",
     "output_type": "stream",
     "text": [
      "Epoch 61: train_acc_0.9281_train_loss_0.1761_val_acc_0.8845_val_loss_0.3665 epoch time 23.8801 seconds\n",
      "total time24.0 : 39.282867431640625\n"
     ]
    },
    {
     "name": "stderr",
     "output_type": "stream",
     "text": [
      "loss: 0.1944, accuracy: 0.9300: 100%|██████████| 1000/1000 [00:21<00:00, 46.26it/s]\n",
      "loss: 0.4018, accuracy: 0.9200: 100%|██████████| 158/158 [00:01<00:00, 96.16it/s]\n",
      "loss: 0.2406, accuracy: 0.8800:   1%|          | 8/1000 [00:00<00:21, 46.84it/s]"
     ]
    },
    {
     "name": "stdout",
     "output_type": "stream",
     "text": [
      "Epoch 62: train_acc_0.9274_train_loss_0.1746_val_acc_0.8789_val_loss_0.3831 epoch time 23.9058 seconds\n",
      "total time25.0 : 3.1886603832244873\n"
     ]
    },
    {
     "name": "stderr",
     "output_type": "stream",
     "text": [
      "loss: 0.2259, accuracy: 0.8700: 100%|██████████| 1000/1000 [00:21<00:00, 45.95it/s]\n",
      "loss: 0.1250, accuracy: 0.9500: 100%|██████████| 158/158 [00:01<00:00, 95.52it/s]\n",
      "loss: 0.1327, accuracy: 0.9400:   1%|          | 8/1000 [00:00<00:21, 46.17it/s]"
     ]
    },
    {
     "name": "stdout",
     "output_type": "stream",
     "text": [
      "Epoch 63: train_acc_0.9284_train_loss_0.1743_val_acc_0.8837_val_loss_0.3799 epoch time 23.9189 seconds\n",
      "total time25.0 : 27.107532024383545\n"
     ]
    },
    {
     "name": "stderr",
     "output_type": "stream",
     "text": [
      "loss: 0.2663, accuracy: 0.8800: 100%|██████████| 1000/1000 [00:21<00:00, 45.84it/s]\n",
      "loss: 0.4741, accuracy: 0.8400: 100%|██████████| 158/158 [00:01<00:00, 95.76it/s]\n",
      "loss: 0.2141, accuracy: 0.9200:   1%|          | 8/1000 [00:00<00:21, 45.83it/s]"
     ]
    },
    {
     "name": "stdout",
     "output_type": "stream",
     "text": [
      "Epoch 64: train_acc_0.9283_train_loss_0.1745_val_acc_0.8768_val_loss_0.3905 epoch time 23.8608 seconds\n",
      "total time25.0 : 50.96837830543518\n"
     ]
    },
    {
     "name": "stderr",
     "output_type": "stream",
     "text": [
      "loss: 0.1804, accuracy: 0.9100: 100%|██████████| 1000/1000 [00:21<00:00, 45.77it/s]\n",
      "loss: 0.3697, accuracy: 0.8600: 100%|██████████| 158/158 [00:01<00:00, 95.60it/s]\n",
      "loss: 0.1071, accuracy: 0.9700:   1%|          | 8/1000 [00:00<00:21, 46.31it/s]"
     ]
    },
    {
     "name": "stdout",
     "output_type": "stream",
     "text": [
      "Epoch 65: train_acc_0.9306_train_loss_0.1700_val_acc_0.8815_val_loss_0.3883 epoch time 23.9237 seconds\n",
      "total time26.0 : 14.892123460769653\n"
     ]
    },
    {
     "name": "stderr",
     "output_type": "stream",
     "text": [
      "loss: 0.1570, accuracy: 0.9100: 100%|██████████| 1000/1000 [00:21<00:00, 45.66it/s]\n",
      "loss: 0.3388, accuracy: 0.9000: 100%|██████████| 158/158 [00:01<00:00, 95.70it/s]\n",
      "loss: 0.2085, accuracy: 0.9100:   1%|          | 9/1000 [00:00<00:20, 47.29it/s]"
     ]
    },
    {
     "name": "stdout",
     "output_type": "stream",
     "text": [
      "Epoch 66: train_acc_0.9298_train_loss_0.1703_val_acc_0.8823_val_loss_0.3849 epoch time 23.8938 seconds\n",
      "total time26.0 : 38.78589129447937\n"
     ]
    },
    {
     "name": "stderr",
     "output_type": "stream",
     "text": [
      "loss: 0.2205, accuracy: 0.9200: 100%|██████████| 1000/1000 [00:21<00:00, 45.73it/s]\n",
      "loss: 0.3261, accuracy: 0.9000: 100%|██████████| 158/158 [00:01<00:00, 95.80it/s]\n",
      "loss: 0.0992, accuracy: 0.9500:   1%|          | 9/1000 [00:00<00:21, 46.97it/s]"
     ]
    },
    {
     "name": "stdout",
     "output_type": "stream",
     "text": [
      "Epoch 67: train_acc_0.9300_train_loss_0.1680_val_acc_0.8793_val_loss_0.3920 epoch time 23.7632 seconds\n",
      "total time27.0 : 2.549046754837036\n"
     ]
    },
    {
     "name": "stderr",
     "output_type": "stream",
     "text": [
      "loss: 0.1740, accuracy: 0.9400: 100%|██████████| 1000/1000 [00:21<00:00, 45.75it/s]\n",
      "loss: 0.7551, accuracy: 0.7700: 100%|██████████| 158/158 [00:01<00:00, 95.84it/s]\n",
      "loss: 0.1344, accuracy: 0.9400:   1%|          | 8/1000 [00:00<00:21, 46.28it/s]"
     ]
    },
    {
     "name": "stdout",
     "output_type": "stream",
     "text": [
      "Epoch 68: train_acc_0.9310_train_loss_0.1665_val_acc_0.8784_val_loss_0.4032 epoch time 23.8973 seconds\n",
      "total time27.0 : 26.44631052017212\n"
     ]
    },
    {
     "name": "stderr",
     "output_type": "stream",
     "text": [
      "loss: 0.1878, accuracy: 0.9300: 100%|██████████| 1000/1000 [00:21<00:00, 45.36it/s]\n",
      "loss: 0.5367, accuracy: 0.8700: 100%|██████████| 158/158 [00:01<00:00, 95.37it/s]\n",
      "loss: 0.1107, accuracy: 0.9600:   1%|          | 9/1000 [00:00<00:21, 47.19it/s]"
     ]
    },
    {
     "name": "stdout",
     "output_type": "stream",
     "text": [
      "Epoch 69: train_acc_0.9318_train_loss_0.1659_val_acc_0.8765_val_loss_0.4042 epoch time 23.8577 seconds\n",
      "total time27.0 : 50.303975105285645\n"
     ]
    },
    {
     "name": "stderr",
     "output_type": "stream",
     "text": [
      "loss: 0.1789, accuracy: 0.9000: 100%|██████████| 1000/1000 [00:21<00:00, 45.89it/s]\n",
      "loss: 0.6130, accuracy: 0.8600: 100%|██████████| 158/158 [00:01<00:00, 95.31it/s]\n",
      "loss: 0.1080, accuracy: 0.9400:   1%|          | 8/1000 [00:00<00:21, 46.08it/s]"
     ]
    },
    {
     "name": "stdout",
     "output_type": "stream",
     "text": [
      "Epoch 70: train_acc_0.9303_train_loss_0.1644_val_acc_0.8801_val_loss_0.4076 epoch time 23.9054 seconds\n",
      "total time28.0 : 14.209396600723267\n"
     ]
    },
    {
     "name": "stderr",
     "output_type": "stream",
     "text": [
      "loss: 0.0962, accuracy: 0.9500: 100%|██████████| 1000/1000 [00:21<00:00, 46.03it/s]\n",
      "loss: 0.7848, accuracy: 0.8500: 100%|██████████| 158/158 [00:01<00:00, 95.80it/s]\n",
      "loss: 0.1111, accuracy: 0.9400:   1%|          | 9/1000 [00:00<00:21, 46.84it/s]"
     ]
    },
    {
     "name": "stdout",
     "output_type": "stream",
     "text": [
      "Epoch 71: train_acc_0.9326_train_loss_0.1625_val_acc_0.8779_val_loss_0.4072 epoch time 23.8641 seconds\n",
      "total time28.0 : 38.073511600494385\n"
     ]
    },
    {
     "name": "stderr",
     "output_type": "stream",
     "text": [
      "loss: 0.2004, accuracy: 0.9000: 100%|██████████| 1000/1000 [00:21<00:00, 45.49it/s]\n",
      "loss: 0.4776, accuracy: 0.8600: 100%|██████████| 158/158 [00:01<00:00, 95.20it/s]\n",
      "loss: 0.1578, accuracy: 0.9400:   1%|          | 9/1000 [00:00<00:20, 48.45it/s]"
     ]
    },
    {
     "name": "stdout",
     "output_type": "stream",
     "text": [
      "Epoch 72: train_acc_0.9328_train_loss_0.1610_val_acc_0.8794_val_loss_0.4088 epoch time 23.9245 seconds\n",
      "total time29.0 : 1.9980318546295166\n"
     ]
    },
    {
     "name": "stderr",
     "output_type": "stream",
     "text": [
      "loss: 0.2361, accuracy: 0.9300: 100%|██████████| 1000/1000 [00:21<00:00, 45.77it/s]\n",
      "loss: 0.3684, accuracy: 0.8400: 100%|██████████| 158/158 [00:01<00:00, 95.89it/s]\n",
      "loss: 0.1366, accuracy: 0.9400:   1%|          | 9/1000 [00:00<00:21, 46.90it/s]"
     ]
    },
    {
     "name": "stdout",
     "output_type": "stream",
     "text": [
      "Epoch 73: train_acc_0.9331_train_loss_0.1600_val_acc_0.8768_val_loss_0.4254 epoch time 23.5816 seconds\n",
      "total time29.0 : 25.579607009887695\n"
     ]
    },
    {
     "name": "stderr",
     "output_type": "stream",
     "text": [
      "loss: 0.1341, accuracy: 0.9200: 100%|██████████| 1000/1000 [00:21<00:00, 45.66it/s]\n",
      "loss: 0.5667, accuracy: 0.9100: 100%|██████████| 158/158 [00:01<00:00, 95.58it/s]\n",
      "loss: 0.1036, accuracy: 0.9400:   1%|          | 8/1000 [00:00<00:21, 46.42it/s]"
     ]
    },
    {
     "name": "stdout",
     "output_type": "stream",
     "text": [
      "Epoch 74: train_acc_0.9336_train_loss_0.1585_val_acc_0.8737_val_loss_0.4183 epoch time 23.8693 seconds\n",
      "total time29.0 : 49.448946714401245\n"
     ]
    },
    {
     "name": "stderr",
     "output_type": "stream",
     "text": [
      "loss: 0.1132, accuracy: 0.9500: 100%|██████████| 1000/1000 [00:21<00:00, 46.77it/s]\n",
      "loss: 0.4962, accuracy: 0.8500: 100%|██████████| 158/158 [00:01<00:00, 96.82it/s] \n",
      "loss: 0.1704, accuracy: 0.9300:   1%|          | 8/1000 [00:00<00:21, 45.88it/s]"
     ]
    },
    {
     "name": "stdout",
     "output_type": "stream",
     "text": [
      "Epoch 75: train_acc_0.9345_train_loss_0.1574_val_acc_0.8791_val_loss_0.4177 epoch time 23.8613 seconds\n",
      "total time30.0 : 13.310250759124756\n"
     ]
    },
    {
     "name": "stderr",
     "output_type": "stream",
     "text": [
      "loss: 0.1081, accuracy: 0.9500: 100%|██████████| 1000/1000 [00:21<00:00, 46.14it/s]\n",
      "loss: 0.7664, accuracy: 0.8200: 100%|██████████| 158/158 [00:01<00:00, 96.15it/s] \n",
      "loss: 0.1219, accuracy: 0.9500:   1%|          | 8/1000 [00:00<00:21, 46.73it/s]"
     ]
    },
    {
     "name": "stdout",
     "output_type": "stream",
     "text": [
      "Epoch 76: train_acc_0.9354_train_loss_0.1549_val_acc_0.8773_val_loss_0.4230 epoch time 23.8827 seconds\n",
      "total time30.0 : 37.19300055503845\n"
     ]
    },
    {
     "name": "stderr",
     "output_type": "stream",
     "text": [
      "loss: 0.1562, accuracy: 0.9100: 100%|██████████| 1000/1000 [00:21<00:00, 46.08it/s]\n",
      "loss: 0.2281, accuracy: 0.9300: 100%|██████████| 158/158 [00:01<00:00, 95.77it/s]\n",
      "loss: 0.1610, accuracy: 0.9400:   1%|          | 8/1000 [00:00<00:20, 47.28it/s]"
     ]
    },
    {
     "name": "stdout",
     "output_type": "stream",
     "text": [
      "Epoch 77: train_acc_0.9349_train_loss_0.1552_val_acc_0.8787_val_loss_0.4189 epoch time 23.8882 seconds\n",
      "total time31.0 : 1.0812184810638428\n"
     ]
    },
    {
     "name": "stderr",
     "output_type": "stream",
     "text": [
      "loss: 0.1802, accuracy: 0.9100: 100%|██████████| 1000/1000 [00:21<00:00, 45.88it/s]\n",
      "loss: 0.3417, accuracy: 0.8800: 100%|██████████| 158/158 [00:01<00:00, 95.43it/s]\n",
      "loss: 0.1231, accuracy: 0.9400:   1%|          | 8/1000 [00:00<00:21, 46.59it/s]"
     ]
    },
    {
     "name": "stdout",
     "output_type": "stream",
     "text": [
      "Epoch 78: train_acc_0.9357_train_loss_0.1526_val_acc_0.8782_val_loss_0.4208 epoch time 23.9123 seconds\n",
      "total time31.0 : 24.99356436729431\n"
     ]
    },
    {
     "name": "stderr",
     "output_type": "stream",
     "text": [
      "loss: 0.1629, accuracy: 0.9300: 100%|██████████| 1000/1000 [00:21<00:00, 46.90it/s]\n",
      "loss: 0.6167, accuracy: 0.8800: 100%|██████████| 158/158 [00:01<00:00, 99.43it/s] \n",
      "loss: 0.2075, accuracy: 0.8900:   1%|          | 9/1000 [00:00<00:20, 47.28it/s]"
     ]
    },
    {
     "name": "stdout",
     "output_type": "stream",
     "text": [
      "Epoch 79: train_acc_0.9359_train_loss_0.1519_val_acc_0.8790_val_loss_0.4291 epoch time 23.7690 seconds\n",
      "total time31.0 : 48.76260709762573\n"
     ]
    },
    {
     "name": "stderr",
     "output_type": "stream",
     "text": [
      "loss: 0.1859, accuracy: 0.9400: 100%|██████████| 1000/1000 [00:21<00:00, 45.66it/s]\n",
      "loss: 0.4758, accuracy: 0.8800: 100%|██████████| 158/158 [00:01<00:00, 95.23it/s]\n",
      "loss: 0.1180, accuracy: 0.9400:   1%|          | 9/1000 [00:00<00:21, 46.76it/s]"
     ]
    },
    {
     "name": "stdout",
     "output_type": "stream",
     "text": [
      "Epoch 80: train_acc_0.9360_train_loss_0.1526_val_acc_0.8789_val_loss_0.4359 epoch time 23.8176 seconds\n",
      "total time32.0 : 12.58025074005127\n"
     ]
    },
    {
     "name": "stderr",
     "output_type": "stream",
     "text": [
      "loss: 0.1598, accuracy: 0.9700: 100%|██████████| 1000/1000 [00:21<00:00, 45.73it/s]\n",
      "loss: 0.4235, accuracy: 0.8500: 100%|██████████| 158/158 [00:01<00:00, 96.31it/s]\n",
      "loss: 0.1635, accuracy: 0.9000:   1%|          | 9/1000 [00:00<00:21, 46.72it/s]"
     ]
    },
    {
     "name": "stdout",
     "output_type": "stream",
     "text": [
      "Epoch 81: train_acc_0.9381_train_loss_0.1489_val_acc_0.8761_val_loss_0.4509 epoch time 23.8842 seconds\n",
      "total time32.0 : 36.46446490287781\n"
     ]
    },
    {
     "name": "stderr",
     "output_type": "stream",
     "text": [
      "loss: 0.1014, accuracy: 0.9500: 100%|██████████| 1000/1000 [00:21<00:00, 46.02it/s]\n",
      "loss: 0.3772, accuracy: 0.8900: 100%|██████████| 158/158 [00:01<00:00, 95.55it/s]\n",
      "loss: 0.1647, accuracy: 0.9500:   1%|          | 9/1000 [00:00<00:20, 47.45it/s]"
     ]
    },
    {
     "name": "stdout",
     "output_type": "stream",
     "text": [
      "Epoch 82: train_acc_0.9368_train_loss_0.1500_val_acc_0.8752_val_loss_0.4462 epoch time 23.8841 seconds\n",
      "total time33.0 : 0.34858274459838867\n"
     ]
    },
    {
     "name": "stderr",
     "output_type": "stream",
     "text": [
      "loss: 0.1660, accuracy: 0.9300: 100%|██████████| 1000/1000 [00:21<00:00, 45.49it/s]\n",
      "loss: 0.4512, accuracy: 0.8700: 100%|██████████| 158/158 [00:01<00:00, 96.33it/s] \n",
      "loss: 0.0926, accuracy: 0.9700:   1%|          | 9/1000 [00:00<00:20, 47.50it/s]"
     ]
    },
    {
     "name": "stdout",
     "output_type": "stream",
     "text": [
      "Epoch 83: train_acc_0.9380_train_loss_0.1475_val_acc_0.8758_val_loss_0.4420 epoch time 23.8920 seconds\n",
      "total time33.0 : 24.240596055984497\n"
     ]
    },
    {
     "name": "stderr",
     "output_type": "stream",
     "text": [
      "loss: 0.1029, accuracy: 0.9600: 100%|██████████| 1000/1000 [00:21<00:00, 46.94it/s]\n",
      "loss: 0.5184, accuracy: 0.8600: 100%|██████████| 158/158 [00:01<00:00, 96.28it/s]\n",
      "loss: 0.1948, accuracy: 0.9300:   1%|          | 8/1000 [00:00<00:21, 46.53it/s]"
     ]
    },
    {
     "name": "stdout",
     "output_type": "stream",
     "text": [
      "Epoch 84: train_acc_0.9380_train_loss_0.1470_val_acc_0.8734_val_loss_0.4543 epoch time 23.9463 seconds\n",
      "total time33.0 : 48.18693494796753\n"
     ]
    },
    {
     "name": "stderr",
     "output_type": "stream",
     "text": [
      "loss: 0.2845, accuracy: 0.9000: 100%|██████████| 1000/1000 [00:21<00:00, 45.72it/s]\n",
      "loss: 0.1744, accuracy: 0.9200: 100%|██████████| 158/158 [00:01<00:00, 95.47it/s]\n",
      "loss: 0.1778, accuracy: 0.9400:   1%|          | 9/1000 [00:00<00:21, 46.78it/s]"
     ]
    },
    {
     "name": "stdout",
     "output_type": "stream",
     "text": [
      "Epoch 85: train_acc_0.9388_train_loss_0.1457_val_acc_0.8733_val_loss_0.4614 epoch time 23.9078 seconds\n",
      "total time34.0 : 12.094746589660645\n"
     ]
    },
    {
     "name": "stderr",
     "output_type": "stream",
     "text": [
      "loss: 0.3035, accuracy: 0.8800: 100%|██████████| 1000/1000 [00:21<00:00, 45.95it/s]\n",
      "loss: 0.2911, accuracy: 0.9100: 100%|██████████| 158/158 [00:01<00:00, 95.70it/s]\n",
      "loss: 0.1139, accuracy: 0.9400:   1%|          | 9/1000 [00:00<00:20, 47.30it/s]"
     ]
    },
    {
     "name": "stdout",
     "output_type": "stream",
     "text": [
      "Epoch 86: train_acc_0.9401_train_loss_0.1429_val_acc_0.8725_val_loss_0.4708 epoch time 23.5776 seconds\n",
      "total time34.0 : 35.672333002090454\n"
     ]
    },
    {
     "name": "stderr",
     "output_type": "stream",
     "text": [
      "loss: 0.1824, accuracy: 0.9500: 100%|██████████| 1000/1000 [00:21<00:00, 45.83it/s]\n",
      "loss: 0.6521, accuracy: 0.7900: 100%|██████████| 158/158 [00:01<00:00, 97.00it/s] \n",
      "loss: 0.1306, accuracy: 0.9400:   1%|          | 9/1000 [00:00<00:20, 47.22it/s]"
     ]
    },
    {
     "name": "stdout",
     "output_type": "stream",
     "text": [
      "Epoch 87: train_acc_0.9390_train_loss_0.1441_val_acc_0.8802_val_loss_0.4509 epoch time 23.8188 seconds\n",
      "total time34.0 : 59.49114203453064\n"
     ]
    },
    {
     "name": "stderr",
     "output_type": "stream",
     "text": [
      "loss: 0.1756, accuracy: 0.9200: 100%|██████████| 1000/1000 [00:21<00:00, 46.04it/s]\n",
      "loss: 0.4831, accuracy: 0.9000: 100%|██████████| 158/158 [00:01<00:00, 96.15it/s] \n",
      "loss: 0.1526, accuracy: 0.9500:   1%|          | 8/1000 [00:00<00:21, 47.02it/s]"
     ]
    },
    {
     "name": "stdout",
     "output_type": "stream",
     "text": [
      "Epoch 88: train_acc_0.9401_train_loss_0.1422_val_acc_0.8772_val_loss_0.4546 epoch time 23.8570 seconds\n",
      "total time35.0 : 23.348113536834717\n"
     ]
    },
    {
     "name": "stderr",
     "output_type": "stream",
     "text": [
      "loss: 0.1468, accuracy: 0.9300: 100%|██████████| 1000/1000 [00:21<00:00, 46.73it/s]\n",
      "loss: 0.7207, accuracy: 0.8200: 100%|██████████| 158/158 [00:01<00:00, 100.61it/s]\n",
      "loss: 0.1303, accuracy: 0.9400:   1%|          | 9/1000 [00:00<00:21, 47.04it/s]"
     ]
    },
    {
     "name": "stdout",
     "output_type": "stream",
     "text": [
      "Epoch 89: train_acc_0.9407_train_loss_0.1411_val_acc_0.8752_val_loss_0.4608 epoch time 23.9056 seconds\n",
      "total time35.0 : 47.25372052192688\n"
     ]
    },
    {
     "name": "stderr",
     "output_type": "stream",
     "text": [
      "loss: 0.1256, accuracy: 0.9400: 100%|██████████| 1000/1000 [00:21<00:00, 45.38it/s]\n",
      "loss: 0.6380, accuracy: 0.8900: 100%|██████████| 158/158 [00:01<00:00, 95.61it/s]\n",
      "loss: 0.1611, accuracy: 0.9500:   1%|          | 9/1000 [00:00<00:21, 46.70it/s]"
     ]
    },
    {
     "name": "stdout",
     "output_type": "stream",
     "text": [
      "Epoch 90: train_acc_0.9401_train_loss_0.1412_val_acc_0.8763_val_loss_0.4743 epoch time 23.8922 seconds\n",
      "total time36.0 : 11.14587950706482\n"
     ]
    },
    {
     "name": "stderr",
     "output_type": "stream",
     "text": [
      "loss: 0.1152, accuracy: 0.9300: 100%|██████████| 1000/1000 [00:21<00:00, 45.73it/s]\n",
      "loss: 0.6433, accuracy: 0.8700: 100%|██████████| 158/158 [00:01<00:00, 95.77it/s]\n",
      "loss: 0.0906, accuracy: 0.9800:   1%|          | 9/1000 [00:00<00:21, 46.72it/s]"
     ]
    },
    {
     "name": "stdout",
     "output_type": "stream",
     "text": [
      "Epoch 91: train_acc_0.9410_train_loss_0.1385_val_acc_0.8754_val_loss_0.4711 epoch time 23.8915 seconds\n",
      "total time36.0 : 35.03734850883484\n"
     ]
    },
    {
     "name": "stderr",
     "output_type": "stream",
     "text": [
      "loss: 0.0976, accuracy: 0.9600: 100%|██████████| 1000/1000 [00:21<00:00, 47.25it/s]\n",
      "loss: 0.2017, accuracy: 0.9100: 100%|██████████| 158/158 [00:01<00:00, 96.62it/s] \n",
      "loss: 0.0953, accuracy: 0.9600:   1%|          | 8/1000 [00:00<00:21, 45.85it/s]"
     ]
    },
    {
     "name": "stdout",
     "output_type": "stream",
     "text": [
      "Epoch 92: train_acc_0.9412_train_loss_0.1394_val_acc_0.8778_val_loss_0.4676 epoch time 23.7541 seconds\n",
      "total time36.0 : 58.79144763946533\n"
     ]
    },
    {
     "name": "stderr",
     "output_type": "stream",
     "text": [
      "loss: 0.1246, accuracy: 0.9500: 100%|██████████| 1000/1000 [00:21<00:00, 45.73it/s]\n",
      "loss: 0.3451, accuracy: 0.8900: 100%|██████████| 158/158 [00:01<00:00, 95.92it/s]\n",
      "loss: 0.1389, accuracy: 0.9600:   1%|          | 9/1000 [00:00<00:20, 47.64it/s]"
     ]
    },
    {
     "name": "stdout",
     "output_type": "stream",
     "text": [
      "Epoch 93: train_acc_0.9421_train_loss_0.1367_val_acc_0.8772_val_loss_0.4766 epoch time 23.9058 seconds\n",
      "total time37.0 : 22.69724726676941\n"
     ]
    },
    {
     "name": "stderr",
     "output_type": "stream",
     "text": [
      "loss: 0.1361, accuracy: 0.9400: 100%|██████████| 1000/1000 [00:21<00:00, 45.63it/s]\n",
      "loss: 0.5017, accuracy: 0.8900: 100%|██████████| 158/158 [00:01<00:00, 101.79it/s]\n",
      "loss: 0.1505, accuracy: 0.9400:   1%|          | 9/1000 [00:00<00:21, 47.15it/s]"
     ]
    },
    {
     "name": "stdout",
     "output_type": "stream",
     "text": [
      "Epoch 94: train_acc_0.9420_train_loss_0.1362_val_acc_0.8763_val_loss_0.4707 epoch time 23.9130 seconds\n",
      "total time37.0 : 46.610275983810425\n"
     ]
    },
    {
     "name": "stderr",
     "output_type": "stream",
     "text": [
      "loss: 0.1351, accuracy: 0.9400: 100%|██████████| 1000/1000 [00:21<00:00, 45.51it/s]\n",
      "loss: 0.5777, accuracy: 0.8800: 100%|██████████| 158/158 [00:01<00:00, 95.30it/s] \n",
      "loss: 0.1145, accuracy: 0.9700:   1%|          | 9/1000 [00:00<00:20, 47.45it/s]"
     ]
    },
    {
     "name": "stdout",
     "output_type": "stream",
     "text": [
      "Epoch 95: train_acc_0.9430_train_loss_0.1352_val_acc_0.8765_val_loss_0.4723 epoch time 23.8506 seconds\n",
      "total time38.0 : 10.460856676101685\n"
     ]
    },
    {
     "name": "stderr",
     "output_type": "stream",
     "text": [
      "loss: 0.1824, accuracy: 0.9200: 100%|██████████| 1000/1000 [00:21<00:00, 45.82it/s]\n",
      "loss: 0.5922, accuracy: 0.8500: 100%|██████████| 158/158 [00:01<00:00, 95.00it/s]\n",
      "loss: 0.1300, accuracy: 0.9400:   1%|          | 9/1000 [00:00<00:20, 48.27it/s]"
     ]
    },
    {
     "name": "stdout",
     "output_type": "stream",
     "text": [
      "Epoch 96: train_acc_0.9434_train_loss_0.1347_val_acc_0.8730_val_loss_0.4932 epoch time 23.8815 seconds\n",
      "total time38.0 : 34.34233808517456\n"
     ]
    },
    {
     "name": "stderr",
     "output_type": "stream",
     "text": [
      "loss: 0.2101, accuracy: 0.9100: 100%|██████████| 1000/1000 [00:21<00:00, 46.66it/s]\n",
      "loss: 0.2263, accuracy: 0.9500: 100%|██████████| 158/158 [00:01<00:00, 96.23it/s]\n",
      "loss: 0.1689, accuracy: 0.9300:   1%|          | 9/1000 [00:00<00:20, 47.28it/s]"
     ]
    },
    {
     "name": "stdout",
     "output_type": "stream",
     "text": [
      "Epoch 97: train_acc_0.9437_train_loss_0.1335_val_acc_0.8737_val_loss_0.4925 epoch time 23.8807 seconds\n",
      "total time38.0 : 58.22305107116699\n"
     ]
    },
    {
     "name": "stderr",
     "output_type": "stream",
     "text": [
      "loss: 0.1813, accuracy: 0.9500: 100%|██████████| 1000/1000 [00:21<00:00, 45.85it/s]\n",
      "loss: 0.4639, accuracy: 0.9100: 100%|██████████| 158/158 [00:01<00:00, 95.48it/s]\n",
      "loss: 0.1185, accuracy: 0.9500:   1%|          | 8/1000 [00:00<00:21, 46.69it/s]"
     ]
    },
    {
     "name": "stdout",
     "output_type": "stream",
     "text": [
      "Epoch 98: train_acc_0.9436_train_loss_0.1326_val_acc_0.8770_val_loss_0.4955 epoch time 23.8516 seconds\n",
      "total time39.0 : 22.074636459350586\n"
     ]
    },
    {
     "name": "stderr",
     "output_type": "stream",
     "text": [
      "loss: 0.1489, accuracy: 0.9300: 100%|██████████| 1000/1000 [00:21<00:00, 45.71it/s]\n",
      "loss: 0.4395, accuracy: 0.8600: 100%|██████████| 158/158 [00:01<00:00, 104.96it/s]\n",
      "loss: 0.7053, accuracy: 0.8200:  13%|█▎        | 20/158 [00:00<00:01, 109.98it/s]"
     ]
    },
    {
     "name": "stdout",
     "output_type": "stream",
     "text": [
      "Epoch 99: train_acc_0.9451_train_loss_0.1318_val_acc_0.8718_val_loss_0.4926 epoch time 23.5878 seconds\n",
      "total time39.0 : 45.66243243217468\n",
      "Generating test set evaluation metrics\n"
     ]
    },
    {
     "name": "stderr",
     "output_type": "stream",
     "text": [
      "loss: 0.6533, accuracy: 0.8500: 100%|██████████| 158/158 [00:01<00:00, 98.51it/s] \n"
     ]
    },
    {
     "name": "stdout",
     "output_type": "stream",
     "text": [
      "finish\n"
     ]
    },
    {
     "data": {
      "image/png": "[encoded data removed]",
      "text/plain": [
       "<Figure size 576x288 with 1 Axes>"
      ]
     },
     "metadata": {
      "needs_background": "light"
     },
     "output_type": "display_data"
    },
    {
     "data": {
      "image/png": "[encoded data removed]",
      "text/plain": [
       "<Figure size 576x288 with 1 Axes>"
      ]
     },
     "metadata": {
      "needs_background": "light"
     },
     "output_type": "display_data"
    }
   ],
   "source": [
    "batch_size = 100\n",
    "image_num_channels = 1\n",
    "image_height = 28\n",
    "image_width = 28\n",
    "dim_reduction_idx = [3,3,3,3]\n",
    "dim_reduction_type = ['strided_convolution', 'dilated_convolution', 'max_pooling', 'avg_pooling']\n",
    "num_filters = 64\n",
    "num_layers = [1,2,3,4]\n",
    "experiment_name = []\n",
    "for layer in num_layers:\n",
    "    experiment_name.append(\"avgpooling_convolution_layer_{}\".format(layer))\n",
    "num_epochs = 100\n",
    "weight_decay_coefficient = 1e-05\n",
    "seed = 9112018\n",
    "use_gpu = True\n",
    "\n",
    "rng = np.random.RandomState(seed=seed)\n",
    "train_data = data_providers.EMNISTDataProvider('train', batch_size=batch_size, rng=rng)\n",
    "val_data = data_providers.EMNISTDataProvider('valid', batch_size=batch_size, rng=rng)\n",
    "test_data = data_providers.EMNISTDataProvider('test', batch_size=batch_size, rng=rng)\n",
    "\n",
    "for reduction_idx,experiment,layer in zip(dim_reduction_idx,experiment_name,num_layers):\n",
    "    \n",
    "    custom_conv_net = ConvolutionalNetwork(\n",
    "        input_shape=(batch_size, image_num_channels, image_height, image_width),\n",
    "        dim_reduction_type=dim_reduction_type[reduction_idx],\n",
    "        num_output_classes=47, num_filters=num_filters, num_layers=layer, use_bias=True)\n",
    "\n",
    "    conv_experiment = ExperimentBuilder(network_model=custom_conv_net,\n",
    "                                    experiment_name=experiment,\n",
    "                                    num_epochs=num_epochs,\n",
    "                                    weight_decay_coefficient=weight_decay_coefficient,\n",
    "                                    use_gpu=use_gpu,\n",
    "                                    train_data=train_data, val_data=val_data, test_data=test_data)\n",
    "    print(custom_conv_net)\n",
    "    total_losses = conv_experiment.run_experiment()\n",
    "    print('finish')\n",
    "    plot_stats_in_graph(total_losses[0])"
   ]
  },
  {
   "cell_type": "code",
   "execution_count": null,
   "metadata": {},
   "outputs": [],
   "source": []
  }
 ],
 "metadata": {
  "kernelspec": {
   "display_name": "Python 3",
   "language": "python",
   "name": "python3"
  },
  "language_info": {
   "codemirror_mode": {
    "name": "ipython",
    "version": 3
   },
   "file_extension": ".py",
   "mimetype": "text/x-python",
   "name": "python",
   "nbconvert_exporter": "python",
   "pygments_lexer": "ipython3",
   "version": "3.7.0"
  }
 },
 "nbformat": 4,
 "nbformat_minor": 2
}
