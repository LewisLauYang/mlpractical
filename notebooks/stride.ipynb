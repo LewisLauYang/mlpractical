{
 "cells": [
  {
   "cell_type": "markdown",
   "metadata": {},
   "source": [
    "# Coursework 2 - PyTorch based experiment framework\n",
    "\n",
    "## Intro\n",
    "Welcome to the coursework 2 PyTorch experiment framework. Pytorch is a  modern, intuitive, highly Pythonic and very fast framework for building differentiable graphs. Neural networks, as it happens, are a type of acyclic differentiable graph, so PyTorch is a great framework to use, if you want to build  complicated deep networks fairly easily.\n",
    "\n",
    "## MLP package vs Pytorch\n",
    "**Student**: So, why do I have to learn to use PyTorch now? I've spent all this time working on the MLP framework. Was that a waste of time?\n",
    "\n",
    "**TA**: Well, Pytorch is everything the MLP package is, but faster, cleaner and far more resourceful. Since it is one of the main deep learning frameworks being used by industry and research alike, it has been fine-tuned quite a bit, to conform to the expectation of researchers and engineers alike. What this means, is that PyTorch is now a very robust and highly flexible package, that you can use for any project you want to work on in the future, if it involves trainining differentiable graphs. \n",
    "\n",
    "In addition, MLP is written in NumPy and your time working on it has taught some low level details of NNs; PyTorch was written to look as much as possible to NumPy, so it will feel very familiar to you. The skills you have acquired are highly transferable (that is, they generalize well, so not much overfitting there...). \n",
    "\n",
    "PyTorch will almost always have all the latest and greatest implemented in it as soon as they are released as papers, and if not, give it a week or two and someone will reproduce it. If you can't wait, you can reproduce it yourself and open source it. A great way to show your skills and get github likes. \n",
    "\n",
    "In addition PyTorch has Autograd! Automatic differentiation (previously mentioned in [lectures](http://www.inf.ed.ac.uk/teaching/courses/mlp/2018-19/mlp05-learn.pdf)). \"What is this?\" you may ask. Remember having to write all those backprop functions? Forget about it. Automatic differentiation allows you to backprop through any PyTorch operation you have used in your graph, by simply calling backward(). This [blog-post](https://jdhao.github.io/2017/11/12/pytorch-computation-graph/) explains how Pytorch's autograd works at an intuitive level.\n",
    "\n",
    "**Student**: Why did we even have to use the MLP package? We did we even bother if such awesome frameworks are available?\n",
    "\n",
    "**TA**: The purpose of the MLP package was not to allow you to build fast deep learning systems. Instead, it was to help teach you the low level mechanics and sensitivities of building a deep learning system. It allowed you to delve deep into how one can go about building a deep learning framework from scratch. The intuitions you have gained from going through your assignments and courseworks allow you to see deeper in what makes or breaks a deep learning system, at a level few people actually have. You are no longer restricted to the higher level modules provided by Pytorch/TensorFlow. \n",
    "\n",
    "If, for example, a new project required you to build something that does not exist in PyTorch/TensorFlow, or otherwise modify existing modules in a way that requires understanding and intuitions on backpropagation and layer/optimizer/component implementation, you would be able to do it much more easily than others who did not. You are now equipped to understand differentiable graphs, the chain rule, numerical errors, debugging at the lowest level and deep learning system architecture. \n",
    "\n",
    "In addition, by trying to implement your modules in an efficient way, you have also become aware of how to optimize a system for efficiency, and gave you intuitions on how one could further improve such a system (parallelization of implementations). \n",
    "\n",
    "Finally, the slowness of CPU training has allowed you to understand just how important modern GPU acceleration is, for deep learning research and applications. By coming across a large breadth of problems and understanding their origins, you will now be able to both anticipate and solve future problems in a more comprehensive way than someone who did not go through the trouble of implementing the basics from scratch. \n",
    "\n",
    "**Student**: If we are switching to Pytorch, then why bother implementing convolutions in the MLP package for the coursework?\n",
    "\n",
    "**TA**: All your instructors, myself included, have found it greatly beneficial to implement convolutional networks from scratch. Once you implement convolutional layers, you will have a much deeper insight and understanding into how and why they work... as well as how they break. This way, you know what to do and what to avoid in the future. You might even be able to come with the next great network type yourself. \n",
    "\n",
    "\n",
    "## Getting Started\n",
    "\n",
    "**Student**: So, how is the learning curve of Pytorch? How do I start?\n",
    "\n",
    "**TA**: You can start by using this notebook on your experiments, it should teach you quite a lot on how to properly use PyTorch for basic conv net training. You should be aware of the [official pytorch github](https://github.com/pytorch/pytorch), the [pytorch official documentation page](https://pytorch.org/docs/stable/nn.html) and the [pytorch tutorials page](https://pytorch.org/tutorials/). \n",
    "\n",
    "Over the past year, nearly all students using PyTorch and Tensorflow on MLP and on projects found it easier and faster to get up to speed with PyTorch. In fact, I was a TensorFlow user myself, and learning TensorFlow was much more challenging than PyTorch. Mainly because TensorFlow has its own way of 'thinking' about how you build a graph and execute operations - whereas PyTorch is dynamic and works like NumPy, hence is more intuitive. If you were able to work well with the MLP package, you'll be up and running in no time. \n",
    "\n",
    "**Student**: OK, so how fast is pytorch compared to MLP?\n",
    "\n",
    "**TA**: On the CPU side of things, you'll find pytorch at least 5x faster than the MLP framework (about equal for fully connected networks, but much faster for more complicated things like convolutions - unless you write extremely efficient convolutional layer code), and if you choose to use GPUs, either using MS Azure, Google Cloud or our very own MLP Cluster (available for next semester), you can expect, depending on implementation and hardware an approximate 25-70x speed ups, compared to the CPU performance of pytorch. Yes, that means an experiment that would run overnight, now would only require about 15 minutes.\n",
    "\n",
    "**Student**: Ahh, where should I go to ask more questions?\n",
    "\n",
    "**TA**: As always, start with a Google/DuckDuckGo search, then have a look at the PyTorch Github and PyTorch docs, and if you can't find the answer come to Piazza and the lab sessions. We will be there to support you.\n",
    "\n",
    "\n",
    "#### Note: The code in this jupyter notebook is to introduce you to pytorch and allow you to play around with it in an interactive manner. However, to run your experiments, you should use the Pytorch experiment framework located in ```mlp/pytorch_experiment_scripts```. Instructions on how to use it can be found in ```notes/pytorch-experiment-framework.md``` along with the comments and documentation included in the code itself."
   ]
  },
  {
   "cell_type": "code",
   "execution_count": 2,
   "metadata": {},
   "outputs": [],
   "source": [
    "from torch import nn\n",
    "from copy import deepcopy\n",
    "import torch\n",
    "import torch.nn as nn\n",
    "import torch.optim as optim\n",
    "import torch.nn.functional as F\n",
    "import torch.backends.cudnn as cudnn\n",
    "import torchvision\n",
    "import tqdm\n",
    "import os\n",
    "import mlp.data_providers as data_providers\n",
    "import numpy as np"
   ]
  },
  {
   "cell_type": "code",
   "execution_count": 3,
   "metadata": {},
   "outputs": [],
   "source": [
    "import matplotlib.pyplot as plt\n",
    "%matplotlib inline\n",
    "plt.style.use('ggplot')\n",
    "\n",
    "def plot_stats_in_graph(total_losses):\n",
    "    \n",
    "    # Plot the change in the validation and training set error over training.\n",
    "    fig_1 = plt.figure(figsize=(8, 4))\n",
    "    ax_1 = fig_1.add_subplot(111)\n",
    "    for k in total_losses.keys():\n",
    "        if \"loss\" in k:\n",
    "            ax_1.plot(np.arange(len(total_losses[k])), total_losses[k], label=k)\n",
    "    ax_1.legend(loc=0)\n",
    "    ax_1.set_xlabel('Epoch number')\n",
    "    \n",
    "    \n",
    "    fig_2 = plt.figure(figsize=(8, 4))\n",
    "    ax_2 = fig_2.add_subplot(111)\n",
    "    for k in total_losses.keys():\n",
    "        if \"acc\" in k:\n",
    "            ax_2.plot(np.arange(len(total_losses[k])), total_losses[k], label=k)\n",
    "    ax_2.legend(loc=0)\n",
    "    ax_2.set_xlabel('Epoch number')\n",
    "\n",
    "    plt.show()"
   ]
  },
  {
   "cell_type": "code",
   "execution_count": 4,
   "metadata": {},
   "outputs": [],
   "source": [
    "class ConvolutionalNetwork(nn.Module):\n",
    "    def __init__(self, input_shape, dim_reduction_type, num_output_classes, num_filters, num_layers, use_bias=False,stride=1):\n",
    "        \"\"\"\n",
    "        Initializes a convolutional network module object.\n",
    "        :param input_shape: The shape of the inputs going in to the network.\n",
    "        :param dim_reduction_type: The type of dimensionality reduction to apply after each convolutional stage, should be one of ['max_pooling', 'avg_pooling', 'strided_convolution', 'dilated_convolution']\n",
    "        :param num_output_classes: The number of outputs the network should have (for classification those would be the number of classes)\n",
    "        :param num_filters: Number of filters used in every conv layer, except dim reduction stages, where those are automatically infered.\n",
    "        :param num_layers: Number of conv layers (excluding dim reduction stages)\n",
    "        :param use_bias: Whether our convolutions will use a bias.\n",
    "        \"\"\"\n",
    "        super(ConvolutionalNetwork, self).__init__()\n",
    "        # set up class attributes useful in building the network and inference\n",
    "        self.input_shape = input_shape\n",
    "        self.num_filters = num_filters\n",
    "        self.num_output_classes = num_output_classes\n",
    "        self.use_bias = use_bias\n",
    "        self.num_layers = num_layers\n",
    "        self.dim_reduction_type = dim_reduction_type\n",
    "        # initialize a module dict, which is effectively a dictionary that can collect layers and integrate them into pytorch\n",
    "        self.layer_dict = nn.ModuleDict()\n",
    "        self.stride = stride\n",
    "        # build the network\n",
    "        self.build_module()\n",
    "\n",
    "    def build_module(self):\n",
    "        \"\"\"\n",
    "        Builds network whilst automatically inferring shapes of layers.\n",
    "        \"\"\"\n",
    "        print(\"Building basic block of ConvolutionalNetwork using input shape\", self.input_shape)\n",
    "        x = torch.zeros((self.input_shape))  # create dummy inputs to be used to infer shapes of layers\n",
    "\n",
    "        out = x\n",
    "        # torch.nn.Conv2d(in_channels, out_channels, kernel_size, stride=1, padding=0, dilation=1, groups=1, bias=True)\n",
    "        for i in range(self.num_layers):  # for number of layers times\n",
    "            self.layer_dict['conv_{}'.format(i)] = nn.Conv2d(in_channels=out.shape[1],\n",
    "                                                             # add a conv layer in the module dict\n",
    "                                                             kernel_size=3,\n",
    "                                                             out_channels=self.num_filters, padding=1,stride=self.stride,\n",
    "                                                             bias=self.use_bias)\n",
    "\n",
    "            out = self.layer_dict['conv_{}'.format(i)](out)  # use layer on inputs to get an output\n",
    "            out = F.relu(out)  # apply relu\n",
    "            print(out.shape)\n",
    "            if self.dim_reduction_type == 'strided_convolution':  # if dim reduction is strided conv, then add a strided conv\n",
    "                self.layer_dict['dim_reduction_strided_conv_{}'.format(i)] = nn.Conv2d(in_channels=out.shape[1],\n",
    "                                                                                       kernel_size=3,\n",
    "                                                                                       out_channels=out.shape[1],\n",
    "                                                                                       padding=1,\n",
    "                                                                                       bias=self.use_bias, stride=2,\n",
    "                                                                                       dilation=1)\n",
    "\n",
    "                out = self.layer_dict['dim_reduction_strided_conv_{}'.format(i)](\n",
    "                    out)  # use strided conv to get an output\n",
    "                out = F.relu(out)  # apply relu to the output\n",
    "            elif self.dim_reduction_type == 'dilated_convolution':  # if dim reduction is dilated conv, then add a dilated conv, using an arbitrary dilation rate of i + 2 (so it gets smaller as we go, you can choose other dilation rates should you wish to do it.)\n",
    "                self.layer_dict['dim_reduction_dilated_conv_{}'.format(i)] = nn.Conv2d(in_channels=out.shape[1],\n",
    "                                                                                       kernel_size=3,\n",
    "                                                                                       out_channels=out.shape[1],\n",
    "                                                                                       padding=1,\n",
    "                                                                                       bias=self.use_bias, stride=1,\n",
    "                                                                                       dilation=i + 2)\n",
    "                out = self.layer_dict['dim_reduction_dilated_conv_{}'.format(i)](\n",
    "                    out)  # run dilated conv on input to get output\n",
    "                out = F.relu(out)  # apply relu on output\n",
    "\n",
    "            elif self.dim_reduction_type == 'max_pooling':\n",
    "                self.layer_dict['dim_reduction_max_pool_{}'.format(i)] = nn.MaxPool2d(2, padding=1)\n",
    "                out = self.layer_dict['dim_reduction_max_pool_{}'.format(i)](out)\n",
    "\n",
    "            elif self.dim_reduction_type == 'avg_pooling':\n",
    "                self.layer_dict['dim_reduction_avg_pool_{}'.format(i)] = nn.AvgPool2d(2, padding=1)\n",
    "                out = self.layer_dict['dim_reduction_avg_pool_{}'.format(i)](out)\n",
    "\n",
    "            print(out.shape)\n",
    "        if out.shape[-1] != 2:\n",
    "            out = F.adaptive_avg_pool2d(out, 2)  # apply adaptive pooling to make sure output of conv layers is always (2, 2) spacially (helps with comparisons).\n",
    "        print('shape before final linear layer', out.shape)\n",
    "        out = out.view(out.shape[0], -1)\n",
    "        self.logit_linear_layer = nn.Linear(in_features=out.shape[1],  # add a linear layer\n",
    "                                            out_features=self.num_output_classes,\n",
    "                                            bias=self.use_bias)\n",
    "        out = self.logit_linear_layer(out)  # apply linear layer on flattened inputs\n",
    "        print(\"Block is built, output volume is\", out.shape)\n",
    "        return out\n",
    "\n",
    "    def forward(self, x):\n",
    "        \"\"\"\n",
    "        Forward propages the network given an input batch\n",
    "        :param x: Inputs x (b, c, h, w)\n",
    "        :return: preds (b, num_classes)\n",
    "        \"\"\"\n",
    "        out = x\n",
    "        for i in range(self.num_layers):  # for number of layers\n",
    "\n",
    "            out = self.layer_dict['conv_{}'.format(i)](out)  # pass through conv layer indexed at i\n",
    "            out = F.relu(out)  # pass conv outputs through ReLU\n",
    "            if self.dim_reduction_type == 'strided_convolution':  # if strided convolution dim reduction then\n",
    "                out = self.layer_dict['dim_reduction_strided_conv_{}'.format(i)](\n",
    "                    out)  # pass previous outputs through a strided convolution indexed i\n",
    "                out = F.relu(out)  # pass strided conv outputs through ReLU\n",
    "\n",
    "            elif self.dim_reduction_type == 'dilated_convolution':\n",
    "                out = self.layer_dict['dim_reduction_dilated_conv_{}'.format(i)](out)\n",
    "                out = F.relu(out)\n",
    "\n",
    "            elif self.dim_reduction_type == 'max_pooling':\n",
    "                out = self.layer_dict['dim_reduction_max_pool_{}'.format(i)](out)\n",
    "\n",
    "            elif self.dim_reduction_type == 'avg_pooling':\n",
    "                out = self.layer_dict['dim_reduction_avg_pool_{}'.format(i)](out)\n",
    "\n",
    "        if out.shape[-1] != 2:\n",
    "            out = F.adaptive_avg_pool2d(out, 2)\n",
    "        out = out.view(out.shape[0], -1)  # flatten outputs from (b, c, h, w) to (b, c*h*w)\n",
    "        out = self.logit_linear_layer(out)  # pass through a linear layer to get logits/preds\n",
    "        return out\n",
    "\n",
    "    def reset_parameters(self):\n",
    "        \"\"\"\n",
    "        Re-initialize the network parameters.\n",
    "        \"\"\"\n",
    "        for item in self.layer_dict.children():\n",
    "            try:\n",
    "                item.reset_parameters()\n",
    "            except:\n",
    "                pass\n",
    "\n",
    "        self.logit_linear_layer.reset_parameters()"
   ]
  },
  {
   "cell_type": "code",
   "execution_count": 5,
   "metadata": {},
   "outputs": [],
   "source": [
    "import time\n",
    "from mlp.pytorch_experiment_scripts.storage_utils import save_statistics\n",
    "class ExperimentBuilder(nn.Module):\n",
    "    def __init__(self, network_model, experiment_name, num_epochs, train_data, val_data,\n",
    "                 test_data, weight_decay_coefficient, use_gpu, continue_from_epoch=-1):\n",
    "        \"\"\"\n",
    "        Initializes an ExperimentBuilder object. Such an object takes care of running training and evaluation of a deep net\n",
    "        on a given dataset. It also takes care of saving per epoch models and automatically inferring the best val model\n",
    "        to be used for evaluating the test set metrics.\n",
    "        :param network_model: A pytorch nn.Module which implements a network architecture.\n",
    "        :param experiment_name: The name of the experiment. This is used mainly for keeping track of the experiment and creating and directory structure that will be used to save logs, model parameters and other.\n",
    "        :param num_epochs: Total number of epochs to run the experiment\n",
    "        :param train_data: An object of the DataProvider type. Contains the training set.\n",
    "        :param val_data: An object of the DataProvider type. Contains the val set.\n",
    "        :param test_data: An object of the DataProvider type. Contains the test set.\n",
    "        :param weight_decay_coefficient: A float indicating the weight decay to use with the adam optimizer.\n",
    "        :param use_gpu: A boolean indicating whether to use a GPU or not.\n",
    "        :param continue_from_epoch: An int indicating whether we'll start from scrach (-1) or whether we'll reload a previously saved model of epoch 'continue_from_epoch' and continue training from there.\n",
    "        \"\"\"\n",
    "        super(ExperimentBuilder, self).__init__()\n",
    "        if torch.cuda.is_available() and use_gpu: # checks whether a cuda gpu is available and whether the gpu flag is True\n",
    "            self.device = torch.device('cuda') # sets device to be cuda\n",
    "            os.environ[\"CUDA_VISIBLE_DEVICES\"] = \"0\" # sets the main GPU to be the one at index 0\n",
    "            print(\"use GPU\")\n",
    "        else:\n",
    "            print(\"use CPU\")\n",
    "            self.device = torch.device('cpu') # sets the device to be CPU\n",
    "\n",
    "        self.experiment_name = experiment_name\n",
    "        self.model = network_model\n",
    "        self.model.to(self.device) # sends the model from the cpu to the gpu\n",
    "        self.model.reset_parameters() # re-initialize network parameters\n",
    "        self.train_data = train_data\n",
    "        self.val_data = val_data\n",
    "        self.test_data = test_data\n",
    "        self.optimizer = optim.Adam(self.parameters(), amsgrad=False,\n",
    "                                    weight_decay=weight_decay_coefficient)\n",
    "        # Generate the directory names\n",
    "        self.experiment_folder = os.path.abspath(experiment_name)\n",
    "        self.experiment_logs = os.path.abspath(os.path.join(self.experiment_folder, \"result_outputs\"))\n",
    "        self.experiment_saved_models = os.path.abspath(os.path.join(self.experiment_folder, \"saved_models\"))\n",
    "\n",
    "        # Set best models to be at 0 since we are just starting\n",
    "        self.best_val_model_idx = 0\n",
    "        self.best_val_model_acc = 0.\n",
    "        self.totalTime = 0\n",
    "        if not os.path.exists(self.experiment_folder): # If experiment directory does not exist\n",
    "            os.mkdir(self.experiment_folder) # create the experiment directory\n",
    "            os.mkdir(self.experiment_logs) # create the experiment log directory\n",
    "            os.mkdir(self.experiment_saved_models) # create the experiment saved models directory\n",
    "\n",
    "        self.num_epochs = num_epochs\n",
    "        self.criterion = nn.CrossEntropyLoss().to(self.device) # send the loss computation to the GPU\n",
    "\n",
    "        if continue_from_epoch != -1: # if continue from epoch is not -1 then\n",
    "            self.best_val_model_idx, self.best_val_model_acc = self.load_model(\n",
    "                model_save_dir=self.experiment_saved_models, model_save_name=\"train_model\",\n",
    "                model_idx=continue_from_epoch) # reload existing model from epoch and return best val model index\n",
    "                                             # and the best val acc of that model\n",
    "            self.starting_epoch = continue_from_epoch\n",
    "        else:\n",
    "            self.starting_epoch = 0\n",
    "\n",
    "    def run_train_iter(self, x, y):\n",
    "        \"\"\"\n",
    "        Receives the inputs and targets for the model and runs a training iteration. Returns loss and accuracy metrics.\n",
    "        :param x: The inputs to the model. A numpy array of shape batch_size, channels, height, width\n",
    "        :param y: The targets for the model. A numpy array of shape batch_size, num_classes\n",
    "        :return: the loss and accuracy for this batch\n",
    "        \"\"\"\n",
    "        self.train() # sets model to training mode (in case batch normalization or other methods have different procedures for training and evaluation)\n",
    "        y = np.argmax(y, axis=1) # convert one hot encoded labels to single integer labels\n",
    "        x, y = torch.Tensor(x).float().to(device=self.device), torch.Tensor(y).long().to(device=self.device) # send data to device as torch tensors\n",
    "        out = self.model.forward(x) # forward the data in the model\n",
    "        loss = F.cross_entropy(input=out, target=y) # compute loss\n",
    "\n",
    "        self.optimizer.zero_grad() # set all weight grads from previous training iters to 0\n",
    "        loss.backward() # backpropagate to compute gradients for current iter loss\n",
    "\n",
    "        self.optimizer.step() # update network parameters\n",
    "        _, predicted = torch.max(out.data, 1) # get argmax of predictions\n",
    "        accuracy = np.mean(list(predicted.eq(y.data).cpu())) # compute accuracy\n",
    "        return loss.data, accuracy\n",
    "\n",
    "    def run_evaluation_iter(self, x, y):\n",
    "        \"\"\"\n",
    "        Receives the inputs and targets for the model and runs an evaluation iterations. Returns loss and accuracy metrics.\n",
    "        :param x: The inputs to the model. A numpy array of shape batch_size, channels, height, width\n",
    "        :param y: The targets for the model. A numpy array of shape batch_size, num_classes\n",
    "        :return: the loss and accuracy for this batch\n",
    "        \"\"\"\n",
    "        self.eval() # sets the system to validation mode\n",
    "        y = np.argmax(y, axis=1) # convert one hot encoded labels to single integer labels\n",
    "        x, y = torch.Tensor(x).float().to(device=self.device), torch.Tensor(y).long().to(device=self.device) # convert data to pytorch tensors and send to the computation device\n",
    "        out = self.model.forward(x) # forward the data in the model\n",
    "        loss = F.cross_entropy(out, y) # compute loss\n",
    "        _, predicted = torch.max(out.data, 1) # get argmax of predictions\n",
    "        accuracy = np.mean(list(predicted.eq(y.data).cpu())) # compute accuracy\n",
    "        return loss.data, accuracy\n",
    "\n",
    "    def save_model(self, model_save_dir, model_save_name, model_idx, best_validation_model_idx,\n",
    "                   best_validation_model_acc):\n",
    "        \"\"\"\n",
    "        Save the network parameter state and current best val epoch idx and best val accuracy.\n",
    "        :param model_save_name: Name to use to save model without the epoch index\n",
    "        :param model_idx: The index to save the model with.\n",
    "        :param best_validation_model_idx: The index of the best validation model to be stored for future use.\n",
    "        :param best_validation_model_acc: The best validation accuracy to be stored for use at test time.\n",
    "        :param model_save_dir: The directory to store the state at.\n",
    "        :param state: The dictionary containing the system state.\n",
    "\n",
    "        \"\"\"\n",
    "        state = dict()\n",
    "        state['network'] = self.state_dict() # save network parameter and other variables.\n",
    "        state['best_val_model_idx'] = best_validation_model_idx # save current best val idx\n",
    "        state['best_val_model_acc'] = best_validation_model_acc # save current best val acc\n",
    "        torch.save(state, f=os.path.join(model_save_dir, \"{}_{}\".format(model_save_name, str(model_idx)))) # save state at prespecified filepath\n",
    "\n",
    "    def load_model(self, model_save_dir, model_save_name, model_idx):\n",
    "        \"\"\"\n",
    "        Load the network parameter state and the best val model idx and best val acc to be compared with the future val accuracies, in order to choose the best val model\n",
    "        :param model_save_dir: The directory to store the state at.\n",
    "        :param model_save_name: Name to use to save model without the epoch index\n",
    "        :param model_idx: The index to save the model with.\n",
    "        :return: best val idx and best val model acc, also it loads the network state into the system state without returning it\n",
    "        \"\"\"\n",
    "        state = torch.load(f=os.path.join(model_save_dir, \"{}_{}\".format(model_save_name, str(model_idx))))\n",
    "        self.load_state_dict(state_dict=state['network'])\n",
    "        return state['best_val_model_idx'], state['best_val_model_acc']\n",
    "\n",
    "    def run_experiment(self):\n",
    "        \"\"\"\n",
    "        Runs experiment train and evaluation iterations, saving the model and best val model and val model accuracy after each epoch\n",
    "        :return: The summary current_epoch_losses from starting epoch to total_epochs.\n",
    "        \"\"\"\n",
    "        total_losses = {\"train_acc\": [], \"train_loss\": [], \"val_acc\": [], \"val_loss\": []} # initialize a dict to keep the per-epoch metrics\n",
    "        for i, epoch_idx in enumerate(range(self.starting_epoch, self.num_epochs)):\n",
    "            epoch_start_time = time.time()\n",
    "            current_epoch_losses = {\"train_acc\": [], \"train_loss\": [], \"val_acc\": [], \"val_loss\": []}\n",
    "\n",
    "            with tqdm.tqdm(total=self.train_data.num_batches) as pbar_train: # create a progress bar for training\n",
    "                for idx, (x, y) in enumerate(self.train_data): # get data batches\n",
    "                    loss, accuracy = self.run_train_iter(x=x, y=y) # take a training iter step\n",
    "                    current_epoch_losses[\"train_loss\"].append(loss) # add current iter loss to the train loss list\n",
    "                    current_epoch_losses[\"train_acc\"].append(accuracy) # add current iter acc to the train acc list\n",
    "                    pbar_train.update(1)\n",
    "                    pbar_train.set_description(\"loss: {:.4f}, accuracy: {:.4f}\".format(loss, accuracy))\n",
    "\n",
    "            with tqdm.tqdm(total=self.val_data.num_batches) as pbar_val: # create a progress bar for validation\n",
    "                for x, y in self.val_data: # get data batches\n",
    "                    loss, accuracy = self.run_evaluation_iter(x=x, y=y) # run a validation iter\n",
    "                    current_epoch_losses[\"val_loss\"].append(loss) # add current iter loss to val loss list.\n",
    "                    current_epoch_losses[\"val_acc\"].append(accuracy) # add current iter acc to val acc lst.\n",
    "                    pbar_val.update(1) # add 1 step to the progress bar\n",
    "                    pbar_val.set_description(\"loss: {:.4f}, accuracy: {:.4f}\".format(loss, accuracy))\n",
    "\n",
    "            if np.mean(current_epoch_losses['val_acc']) > self.best_val_model_acc: # if current epoch's mean val acc is greater than the saved best val acc then\n",
    "                self.best_val_model_acc = np.mean(current_epoch_losses['val_acc']) # set the best val model acc to be current epoch's val accuracy\n",
    "                self.best_val_model_idx = epoch_idx # set the experiment-wise best val idx to be the current epoch's idx\n",
    "\n",
    "            for key, value in current_epoch_losses.items():\n",
    "                total_losses[key].append(np.mean(value)) # get mean of all metrics of current epoch metrics dict, to get them ready for storage and output on the terminal.\n",
    "\n",
    "            save_statistics(experiment_log_dir=self.experiment_logs, filename='summary.csv',\n",
    "                            stats_dict=total_losses, current_epoch=i) # save statistics to stats file.\n",
    "\n",
    "            # load_statistics(experiment_log_dir=self.experiment_logs, filename='summary.csv') # How to load a csv file if you need to\n",
    "\n",
    "            out_string = \"_\".join([\"{}_{:.4f}\".format(key, np.mean(value)) for key, value in current_epoch_losses.items()])\n",
    "            # create a string to use to report our epoch metrics\n",
    "            epoch_elapsed_time = time.time() - epoch_start_time # calculate time taken for epoch\n",
    "            self.totalTime += epoch_elapsed_time\n",
    "            epoch_elapsed_time = \"{:.4f}\".format(epoch_elapsed_time)\n",
    "            print(\"Epoch {}:\".format(epoch_idx), out_string, \"epoch time\", epoch_elapsed_time, \"seconds\")\n",
    "            seconds = self.totalTime\n",
    "            m, s = divmod(seconds, 60)\n",
    "            print('total time{} : {}'.format(m,s))\n",
    "            self.save_model(model_save_dir=self.experiment_saved_models, # save model and best val idx and best val acc, using the model dir, model name and model idx\n",
    "                            model_save_name=\"train_model\", model_idx=epoch_idx,\n",
    "                            best_validation_model_idx=self.best_val_model_idx,\n",
    "                            best_validation_model_acc=self.best_val_model_acc)\n",
    "\n",
    "        print(\"Generating test set evaluation metrics\")\n",
    "        self.load_model(model_save_dir=self.experiment_saved_models, model_idx=self.best_val_model_idx, # load best validation model\n",
    "                        model_save_name=\"train_model\")\n",
    "        current_epoch_losses = {\"test_acc\": [], \"test_loss\": []} # initialize a statistics dict\n",
    "        with tqdm.tqdm(total=self.test_data.num_batches) as pbar_test: # ini a progress bar\n",
    "            for x, y in self.test_data: # sample batch\n",
    "                loss, accuracy = self.run_evaluation_iter(x=x, y=y) # compute loss and accuracy by running an evaluation step\n",
    "                current_epoch_losses[\"test_loss\"].append(loss) # save test loss\n",
    "                current_epoch_losses[\"test_acc\"].append(accuracy) # save test accuracy\n",
    "                pbar_test.update(1) # update progress bar status\n",
    "                pbar_test.set_description(\"loss: {:.4f}, accuracy: {:.4f}\".format(loss, accuracy))  # update progress bar string output\n",
    "\n",
    "        test_losses = {key: [np.mean(value)] for key, value in current_epoch_losses.items()} # save test set metrics in dict format\n",
    "        save_statistics(experiment_log_dir=self.experiment_logs, filename='test_summary.csv', # save test set metrics on disk in .csv format\n",
    "                        stats_dict=test_losses, current_epoch=0)\n",
    "\n",
    "        return total_losses, test_losses\n"
   ]
  },
  {
   "cell_type": "code",
   "execution_count": 5,
   "metadata": {
    "scrolled": true
   },
   "outputs": [
    {
     "name": "stdout",
     "output_type": "stream",
     "text": [
      "KeysView(<numpy.lib.npyio.NpzFile object at 0x7ff6a43e7dd8>)\n",
      "KeysView(<numpy.lib.npyio.NpzFile object at 0x7ff6514d7748>)\n",
      "KeysView(<numpy.lib.npyio.NpzFile object at 0x7ff6514d7748>)\n",
      "Building basic block of ConvolutionalNetwork using input shape (100, 1, 28, 28)\n",
      "torch.Size([100, 64, 28, 28])\n",
      "torch.Size([100, 64, 15, 15])\n",
      "torch.Size([100, 64, 15, 15])\n",
      "torch.Size([100, 64, 8, 8])\n",
      "torch.Size([100, 64, 8, 8])\n",
      "torch.Size([100, 64, 5, 5])\n",
      "torch.Size([100, 64, 5, 5])\n",
      "torch.Size([100, 64, 3, 3])\n",
      "shape before final linear layer torch.Size([100, 64, 2, 2])\n",
      "Block is built, output volume is torch.Size([100, 47])\n",
      "use GPU\n"
     ]
    },
    {
     "name": "stderr",
     "output_type": "stream",
     "text": [
      "\r",
      "  0%|          | 0/1000 [00:00<?, ?it/s]"
     ]
    },
    {
     "name": "stdout",
     "output_type": "stream",
     "text": [
      "ConvolutionalNetwork(\n",
      "  (layer_dict): ModuleDict(\n",
      "    (conv_0): Conv2d(1, 64, kernel_size=(3, 3), stride=(1, 1), padding=(1, 1))\n",
      "    (dim_reduction_avg_pool_0): AvgPool2d(kernel_size=2, stride=2, padding=1)\n",
      "    (conv_1): Conv2d(64, 64, kernel_size=(3, 3), stride=(1, 1), padding=(1, 1))\n",
      "    (dim_reduction_avg_pool_1): AvgPool2d(kernel_size=2, stride=2, padding=1)\n",
      "    (conv_2): Conv2d(64, 64, kernel_size=(3, 3), stride=(1, 1), padding=(1, 1))\n",
      "    (dim_reduction_avg_pool_2): AvgPool2d(kernel_size=2, stride=2, padding=1)\n",
      "    (conv_3): Conv2d(64, 64, kernel_size=(3, 3), stride=(1, 1), padding=(1, 1))\n",
      "    (dim_reduction_avg_pool_3): AvgPool2d(kernel_size=2, stride=2, padding=1)\n",
      "  )\n",
      "  (logit_linear_layer): Linear(in_features=256, out_features=47, bias=True)\n",
      ")\n"
     ]
    },
    {
     "name": "stderr",
     "output_type": "stream",
     "text": [
      "loss: 0.8972, accuracy: 0.7100: 100%|██████████| 1000/1000 [00:22<00:00, 44.66it/s]\n",
      "loss: 0.9345, accuracy: 0.7500: 100%|██████████| 158/158 [00:01<00:00, 97.06it/s] \n"
     ]
    },
    {
     "name": "stdout",
     "output_type": "stream",
     "text": [
      "Epoch 0: train_acc_0.4990_train_loss_1.7504_val_acc_0.7495_val_loss_0.8266 epoch time 24.1533 seconds\n",
      "total time0.0 : 24.153252124786377\n"
     ]
    },
    {
     "name": "stderr",
     "output_type": "stream",
     "text": [
      "loss: 0.4170, accuracy: 0.8700: 100%|██████████| 1000/1000 [00:21<00:00, 45.86it/s]\n",
      "loss: 0.6169, accuracy: 0.7900: 100%|██████████| 158/158 [00:01<00:00, 99.92it/s] \n",
      "loss: 0.5441, accuracy: 0.8400:   1%|          | 8/1000 [00:00<00:21, 46.23it/s]"
     ]
    },
    {
     "name": "stdout",
     "output_type": "stream",
     "text": [
      "Epoch 1: train_acc_0.7697_train_loss_0.7181_val_acc_0.8043_val_loss_0.5992 epoch time 23.7672 seconds\n",
      "total time0.0 : 47.920456886291504\n"
     ]
    },
    {
     "name": "stderr",
     "output_type": "stream",
     "text": [
      "loss: 0.5912, accuracy: 0.7800: 100%|██████████| 1000/1000 [00:21<00:00, 45.59it/s]\n",
      "loss: 0.5313, accuracy: 0.8500: 100%|██████████| 158/158 [00:01<00:00, 96.48it/s] \n",
      "loss: 0.5202, accuracy: 0.8400:   1%|          | 9/1000 [00:00<00:21, 47.10it/s]"
     ]
    },
    {
     "name": "stdout",
     "output_type": "stream",
     "text": [
      "Epoch 2: train_acc_0.8087_train_loss_0.5798_val_acc_0.8325_val_loss_0.5085 epoch time 23.9122 seconds\n",
      "total time1.0 : 11.832696914672852\n"
     ]
    },
    {
     "name": "stderr",
     "output_type": "stream",
     "text": [
      "loss: 0.5173, accuracy: 0.7700: 100%|██████████| 1000/1000 [00:21<00:00, 46.16it/s]\n",
      "loss: 0.4516, accuracy: 0.8700: 100%|██████████| 158/158 [00:01<00:00, 97.39it/s] \n",
      "loss: 0.5735, accuracy: 0.8000:   1%|          | 9/1000 [00:00<00:21, 47.08it/s]"
     ]
    },
    {
     "name": "stdout",
     "output_type": "stream",
     "text": [
      "Epoch 3: train_acc_0.8279_train_loss_0.5151_val_acc_0.8351_val_loss_0.4842 epoch time 23.8741 seconds\n",
      "total time1.0 : 35.70675301551819\n"
     ]
    },
    {
     "name": "stderr",
     "output_type": "stream",
     "text": [
      "loss: 0.4238, accuracy: 0.8600: 100%|██████████| 1000/1000 [00:21<00:00, 45.96it/s]\n",
      "loss: 0.4552, accuracy: 0.8700: 100%|██████████| 158/158 [00:01<00:00, 96.31it/s]\n",
      "loss: 0.4707, accuracy: 0.8500:   1%|          | 8/1000 [00:00<00:21, 46.64it/s]"
     ]
    },
    {
     "name": "stdout",
     "output_type": "stream",
     "text": [
      "Epoch 4: train_acc_0.8396_train_loss_0.4735_val_acc_0.8502_val_loss_0.4427 epoch time 23.8574 seconds\n",
      "total time1.0 : 59.56410551071167\n"
     ]
    },
    {
     "name": "stderr",
     "output_type": "stream",
     "text": [
      "loss: 0.5179, accuracy: 0.8500: 100%|██████████| 1000/1000 [00:21<00:00, 47.49it/s]\n",
      "loss: 0.5530, accuracy: 0.8000: 100%|██████████| 158/158 [00:01<00:00, 100.42it/s]\n",
      "loss: 0.4150, accuracy: 0.8100:   1%|          | 9/1000 [00:00<00:20, 48.20it/s]"
     ]
    },
    {
     "name": "stdout",
     "output_type": "stream",
     "text": [
      "Epoch 5: train_acc_0.8493_train_loss_0.4426_val_acc_0.8516_val_loss_0.4296 epoch time 23.6116 seconds\n",
      "total time2.0 : 23.175718784332275\n"
     ]
    },
    {
     "name": "stderr",
     "output_type": "stream",
     "text": [
      "loss: 0.6590, accuracy: 0.8300: 100%|██████████| 1000/1000 [00:21<00:00, 45.54it/s]\n",
      "loss: 0.3451, accuracy: 0.8600: 100%|██████████| 158/158 [00:01<00:00, 97.12it/s] \n",
      "loss: 0.5220, accuracy: 0.8100:   1%|          | 8/1000 [00:00<00:21, 46.48it/s]"
     ]
    },
    {
     "name": "stdout",
     "output_type": "stream",
     "text": [
      "Epoch 6: train_acc_0.8535_train_loss_0.4217_val_acc_0.8554_val_loss_0.4204 epoch time 23.7333 seconds\n",
      "total time2.0 : 46.90897536277771\n"
     ]
    },
    {
     "name": "stderr",
     "output_type": "stream",
     "text": [
      "loss: 0.4260, accuracy: 0.8200: 100%|██████████| 1000/1000 [00:21<00:00, 45.69it/s]\n",
      "loss: 0.5385, accuracy: 0.8300: 100%|██████████| 158/158 [00:01<00:00, 97.76it/s] \n",
      "loss: 0.3401, accuracy: 0.8300:   1%|          | 9/1000 [00:00<00:20, 48.17it/s]"
     ]
    },
    {
     "name": "stdout",
     "output_type": "stream",
     "text": [
      "Epoch 7: train_acc_0.8603_train_loss_0.4036_val_acc_0.8624_val_loss_0.3926 epoch time 23.8446 seconds\n",
      "total time3.0 : 10.753540992736816\n"
     ]
    },
    {
     "name": "stderr",
     "output_type": "stream",
     "text": [
      "loss: 0.2685, accuracy: 0.8900: 100%|██████████| 1000/1000 [00:21<00:00, 46.18it/s]\n",
      "loss: 0.1902, accuracy: 0.9300: 100%|██████████| 158/158 [00:01<00:00, 97.03it/s] \n",
      "loss: 0.3304, accuracy: 0.8200:   1%|          | 8/1000 [00:00<00:21, 46.44it/s]"
     ]
    },
    {
     "name": "stdout",
     "output_type": "stream",
     "text": [
      "Epoch 8: train_acc_0.8644_train_loss_0.3882_val_acc_0.8630_val_loss_0.3887 epoch time 23.8672 seconds\n",
      "total time3.0 : 34.62077736854553\n"
     ]
    },
    {
     "name": "stderr",
     "output_type": "stream",
     "text": [
      "loss: 0.2492, accuracy: 0.8800: 100%|██████████| 1000/1000 [00:21<00:00, 45.49it/s]\n",
      "loss: 0.1860, accuracy: 0.9400: 100%|██████████| 158/158 [00:01<00:00, 98.73it/s] \n",
      "loss: 0.4210, accuracy: 0.8600:   1%|          | 9/1000 [00:00<00:21, 46.26it/s]"
     ]
    },
    {
     "name": "stdout",
     "output_type": "stream",
     "text": [
      "Epoch 9: train_acc_0.8677_train_loss_0.3752_val_acc_0.8696_val_loss_0.3774 epoch time 23.8520 seconds\n",
      "total time3.0 : 58.47275471687317\n"
     ]
    },
    {
     "name": "stderr",
     "output_type": "stream",
     "text": [
      "loss: 0.3954, accuracy: 0.8300: 100%|██████████| 1000/1000 [00:21<00:00, 45.88it/s]\n",
      "loss: 0.2955, accuracy: 0.9300: 100%|██████████| 158/158 [00:01<00:00, 97.73it/s] \n",
      "loss: 0.3280, accuracy: 0.8900:   1%|          | 9/1000 [00:00<00:21, 46.91it/s]"
     ]
    },
    {
     "name": "stdout",
     "output_type": "stream",
     "text": [
      "Epoch 10: train_acc_0.8701_train_loss_0.3635_val_acc_0.8731_val_loss_0.3580 epoch time 23.7854 seconds\n",
      "total time4.0 : 22.258195877075195\n"
     ]
    },
    {
     "name": "stderr",
     "output_type": "stream",
     "text": [
      "loss: 0.3008, accuracy: 0.8900: 100%|██████████| 1000/1000 [00:21<00:00, 45.68it/s]\n",
      "loss: 0.3366, accuracy: 0.8900: 100%|██████████| 158/158 [00:01<00:00, 96.65it/s] \n",
      "loss: 0.3157, accuracy: 0.8500:   1%|          | 9/1000 [00:00<00:21, 46.88it/s]"
     ]
    },
    {
     "name": "stdout",
     "output_type": "stream",
     "text": [
      "Epoch 11: train_acc_0.8748_train_loss_0.3536_val_acc_0.8689_val_loss_0.3590 epoch time 23.8492 seconds\n",
      "total time4.0 : 46.10736846923828\n"
     ]
    },
    {
     "name": "stderr",
     "output_type": "stream",
     "text": [
      "loss: 0.1940, accuracy: 0.9500: 100%|██████████| 1000/1000 [00:21<00:00, 45.40it/s]\n",
      "loss: 0.2501, accuracy: 0.8800: 100%|██████████| 158/158 [00:01<00:00, 96.65it/s] \n",
      "loss: 0.4749, accuracy: 0.8800:   1%|          | 8/1000 [00:00<00:20, 48.03it/s]"
     ]
    },
    {
     "name": "stdout",
     "output_type": "stream",
     "text": [
      "Epoch 12: train_acc_0.8769_train_loss_0.3443_val_acc_0.8787_val_loss_0.3486 epoch time 23.8810 seconds\n",
      "total time5.0 : 9.9883291721344\n"
     ]
    },
    {
     "name": "stderr",
     "output_type": "stream",
     "text": [
      "loss: 0.3968, accuracy: 0.8600: 100%|██████████| 1000/1000 [00:21<00:00, 46.29it/s]\n",
      "loss: 0.2236, accuracy: 0.9000: 100%|██████████| 158/158 [00:01<00:00, 98.24it/s] \n",
      "loss: 0.3138, accuracy: 0.8900:   1%|          | 9/1000 [00:00<00:21, 47.09it/s]"
     ]
    },
    {
     "name": "stdout",
     "output_type": "stream",
     "text": [
      "Epoch 13: train_acc_0.8799_train_loss_0.3355_val_acc_0.8780_val_loss_0.3433 epoch time 23.8140 seconds\n",
      "total time5.0 : 33.802329778671265\n"
     ]
    },
    {
     "name": "stderr",
     "output_type": "stream",
     "text": [
      "loss: 0.2436, accuracy: 0.9000: 100%|██████████| 1000/1000 [00:21<00:00, 45.90it/s]\n",
      "loss: 0.3318, accuracy: 0.8900: 100%|██████████| 158/158 [00:01<00:00, 100.66it/s]\n",
      "loss: 0.3208, accuracy: 0.8700:   1%|          | 8/1000 [00:00<00:21, 46.81it/s]"
     ]
    },
    {
     "name": "stdout",
     "output_type": "stream",
     "text": [
      "Epoch 14: train_acc_0.8824_train_loss_0.3290_val_acc_0.8734_val_loss_0.3563 epoch time 23.8043 seconds\n",
      "total time5.0 : 57.60666036605835\n"
     ]
    },
    {
     "name": "stderr",
     "output_type": "stream",
     "text": [
      "loss: 0.2161, accuracy: 0.9100: 100%|██████████| 1000/1000 [00:21<00:00, 45.52it/s]\n",
      "loss: 0.3410, accuracy: 0.8800: 100%|██████████| 158/158 [00:01<00:00, 97.86it/s] \n",
      "loss: 0.1876, accuracy: 0.9400:   1%|          | 9/1000 [00:00<00:21, 47.17it/s]"
     ]
    },
    {
     "name": "stdout",
     "output_type": "stream",
     "text": [
      "Epoch 15: train_acc_0.8841_train_loss_0.3201_val_acc_0.8729_val_loss_0.3524 epoch time 23.8570 seconds\n",
      "total time6.0 : 21.463621854782104\n"
     ]
    },
    {
     "name": "stderr",
     "output_type": "stream",
     "text": [
      "loss: 0.4008, accuracy: 0.8600: 100%|██████████| 1000/1000 [00:21<00:00, 46.13it/s]\n",
      "loss: 0.4134, accuracy: 0.8500: 100%|██████████| 158/158 [00:01<00:00, 99.82it/s] \n",
      "loss: 0.2280, accuracy: 0.9200:   1%|          | 9/1000 [00:00<00:20, 48.01it/s]"
     ]
    },
    {
     "name": "stdout",
     "output_type": "stream",
     "text": [
      "Epoch 16: train_acc_0.8849_train_loss_0.3145_val_acc_0.8767_val_loss_0.3483 epoch time 23.8048 seconds\n",
      "total time6.0 : 45.26841688156128\n"
     ]
    },
    {
     "name": "stderr",
     "output_type": "stream",
     "text": [
      "loss: 0.3281, accuracy: 0.8900: 100%|██████████| 1000/1000 [00:21<00:00, 46.86it/s]\n",
      "loss: 0.3716, accuracy: 0.8200: 100%|██████████| 158/158 [00:01<00:00, 97.54it/s] \n",
      "loss: 0.3200, accuracy: 0.9100:   1%|          | 9/1000 [00:00<00:21, 46.84it/s]"
     ]
    },
    {
     "name": "stdout",
     "output_type": "stream",
     "text": [
      "Epoch 17: train_acc_0.8882_train_loss_0.3072_val_acc_0.8796_val_loss_0.3410 epoch time 23.8127 seconds\n",
      "total time7.0 : 9.081152200698853\n"
     ]
    },
    {
     "name": "stderr",
     "output_type": "stream",
     "text": [
      "loss: 0.1650, accuracy: 0.9300: 100%|██████████| 1000/1000 [00:21<00:00, 47.89it/s]\n",
      "loss: 0.5291, accuracy: 0.8100: 100%|██████████| 158/158 [00:01<00:00, 103.88it/s]\n",
      "loss: 0.2435, accuracy: 0.8800:   1%|          | 9/1000 [00:00<00:20, 48.27it/s]"
     ]
    },
    {
     "name": "stdout",
     "output_type": "stream",
     "text": [
      "Epoch 18: train_acc_0.8893_train_loss_0.3019_val_acc_0.8778_val_loss_0.3371 epoch time 23.5688 seconds\n",
      "total time7.0 : 32.6499297618866\n"
     ]
    },
    {
     "name": "stderr",
     "output_type": "stream",
     "text": [
      "loss: 0.2726, accuracy: 0.9000: 100%|██████████| 1000/1000 [00:21<00:00, 45.73it/s]\n",
      "loss: 0.3149, accuracy: 0.8800: 100%|██████████| 158/158 [00:01<00:00, 96.89it/s] \n",
      "loss: 0.1772, accuracy: 0.9400:   1%|          | 9/1000 [00:00<00:21, 46.29it/s]"
     ]
    },
    {
     "name": "stdout",
     "output_type": "stream",
     "text": [
      "Epoch 19: train_acc_0.8912_train_loss_0.2963_val_acc_0.8832_val_loss_0.3251 epoch time 23.6712 seconds\n",
      "total time7.0 : 56.321094036102295\n"
     ]
    },
    {
     "name": "stderr",
     "output_type": "stream",
     "text": [
      "loss: 0.3243, accuracy: 0.8900: 100%|██████████| 1000/1000 [00:21<00:00, 45.42it/s]\n",
      "loss: 0.3371, accuracy: 0.8700: 100%|██████████| 158/158 [00:01<00:00, 97.07it/s]\n",
      "loss: 0.4885, accuracy: 0.8500:   1%|          | 9/1000 [00:00<00:20, 47.39it/s]"
     ]
    },
    {
     "name": "stdout",
     "output_type": "stream",
     "text": [
      "Epoch 20: train_acc_0.8921_train_loss_0.2910_val_acc_0.8765_val_loss_0.3439 epoch time 23.8258 seconds\n",
      "total time8.0 : 20.146931171417236\n"
     ]
    },
    {
     "name": "stderr",
     "output_type": "stream",
     "text": [
      "loss: 0.1637, accuracy: 0.9400: 100%|██████████| 1000/1000 [00:21<00:00, 46.06it/s]\n",
      "loss: 0.2892, accuracy: 0.9200: 100%|██████████| 158/158 [00:01<00:00, 96.54it/s]\n",
      "loss: 0.2978, accuracy: 0.8900:   1%|          | 9/1000 [00:00<00:21, 47.10it/s]"
     ]
    },
    {
     "name": "stdout",
     "output_type": "stream",
     "text": [
      "Epoch 21: train_acc_0.8939_train_loss_0.2864_val_acc_0.8819_val_loss_0.3288 epoch time 23.8404 seconds\n",
      "total time8.0 : 43.98737859725952\n"
     ]
    },
    {
     "name": "stderr",
     "output_type": "stream",
     "text": [
      "loss: 0.3868, accuracy: 0.8600: 100%|██████████| 1000/1000 [00:21<00:00, 48.13it/s]\n",
      "loss: 0.1717, accuracy: 0.9400: 100%|██████████| 158/158 [00:01<00:00, 102.35it/s]\n",
      "loss: 0.2528, accuracy: 0.8900:   1%|          | 9/1000 [00:00<00:20, 48.74it/s]"
     ]
    },
    {
     "name": "stdout",
     "output_type": "stream",
     "text": [
      "Epoch 22: train_acc_0.8956_train_loss_0.2822_val_acc_0.8841_val_loss_0.3256 epoch time 23.6425 seconds\n",
      "total time9.0 : 7.629900217056274\n"
     ]
    },
    {
     "name": "stderr",
     "output_type": "stream",
     "text": [
      "loss: 0.2823, accuracy: 0.9400: 100%|██████████| 1000/1000 [00:21<00:00, 46.28it/s]\n",
      "loss: 0.3531, accuracy: 0.8900: 100%|██████████| 158/158 [00:01<00:00, 98.22it/s] \n",
      "loss: 0.2616, accuracy: 0.9400:   1%|          | 9/1000 [00:00<00:20, 48.07it/s]"
     ]
    },
    {
     "name": "stdout",
     "output_type": "stream",
     "text": [
      "Epoch 23: train_acc_0.8960_train_loss_0.2790_val_acc_0.8795_val_loss_0.3296 epoch time 23.7915 seconds\n",
      "total time9.0 : 31.421422958374023\n"
     ]
    },
    {
     "name": "stderr",
     "output_type": "stream",
     "text": [
      "loss: 0.4164, accuracy: 0.8500: 100%|██████████| 1000/1000 [00:21<00:00, 45.90it/s]\n",
      "loss: 0.2836, accuracy: 0.8400: 100%|██████████| 158/158 [00:01<00:00, 96.35it/s]\n",
      "loss: 0.1894, accuracy: 0.9400:   1%|          | 8/1000 [00:00<00:21, 46.60it/s]"
     ]
    },
    {
     "name": "stdout",
     "output_type": "stream",
     "text": [
      "Epoch 24: train_acc_0.8981_train_loss_0.2741_val_acc_0.8796_val_loss_0.3413 epoch time 23.8748 seconds\n",
      "total time9.0 : 55.29626250267029\n"
     ]
    },
    {
     "name": "stderr",
     "output_type": "stream",
     "text": [
      "loss: 0.2196, accuracy: 0.9200: 100%|██████████| 1000/1000 [00:21<00:00, 46.11it/s]\n",
      "loss: 0.4415, accuracy: 0.8800: 100%|██████████| 158/158 [00:01<00:00, 100.43it/s]\n",
      "loss: 0.1626, accuracy: 0.9500:   1%|          | 9/1000 [00:00<00:20, 47.66it/s]"
     ]
    },
    {
     "name": "stdout",
     "output_type": "stream",
     "text": [
      "Epoch 25: train_acc_0.8971_train_loss_0.2708_val_acc_0.8862_val_loss_0.3260 epoch time 23.8367 seconds\n",
      "total time10.0 : 19.132940769195557\n"
     ]
    },
    {
     "name": "stderr",
     "output_type": "stream",
     "text": [
      "loss: 0.3328, accuracy: 0.8700: 100%|██████████| 1000/1000 [00:21<00:00, 45.75it/s]\n",
      "loss: 0.4325, accuracy: 0.8500: 100%|██████████| 158/158 [00:01<00:00, 98.89it/s] \n",
      "loss: 0.1490, accuracy: 0.9400:   1%|          | 9/1000 [00:00<00:20, 47.63it/s]"
     ]
    },
    {
     "name": "stdout",
     "output_type": "stream",
     "text": [
      "Epoch 26: train_acc_0.9000_train_loss_0.2651_val_acc_0.8801_val_loss_0.3307 epoch time 23.8035 seconds\n",
      "total time10.0 : 42.93644714355469\n"
     ]
    },
    {
     "name": "stderr",
     "output_type": "stream",
     "text": [
      "loss: 0.2725, accuracy: 0.8800: 100%|██████████| 1000/1000 [00:21<00:00, 45.69it/s]\n",
      "loss: 0.4342, accuracy: 0.8000: 100%|██████████| 158/158 [00:01<00:00, 96.82it/s]\n",
      "loss: 0.2529, accuracy: 0.9000:   1%|          | 9/1000 [00:00<00:21, 46.81it/s]"
     ]
    },
    {
     "name": "stdout",
     "output_type": "stream",
     "text": [
      "Epoch 27: train_acc_0.8998_train_loss_0.2629_val_acc_0.8808_val_loss_0.3277 epoch time 23.8615 seconds\n",
      "total time11.0 : 6.797995090484619\n"
     ]
    },
    {
     "name": "stderr",
     "output_type": "stream",
     "text": [
      "loss: 0.3180, accuracy: 0.9000: 100%|██████████| 1000/1000 [00:21<00:00, 45.78it/s]\n",
      "loss: 0.1662, accuracy: 0.9500: 100%|██████████| 158/158 [00:01<00:00, 97.09it/s] \n",
      "loss: 0.2539, accuracy: 0.9100:   1%|          | 9/1000 [00:00<00:20, 47.90it/s]"
     ]
    },
    {
     "name": "stdout",
     "output_type": "stream",
     "text": [
      "Epoch 28: train_acc_0.9020_train_loss_0.2581_val_acc_0.8811_val_loss_0.3305 epoch time 23.8525 seconds\n",
      "total time11.0 : 30.650465726852417\n"
     ]
    },
    {
     "name": "stderr",
     "output_type": "stream",
     "text": [
      "loss: 0.2416, accuracy: 0.8900: 100%|██████████| 1000/1000 [00:21<00:00, 45.89it/s]\n",
      "loss: 0.2703, accuracy: 0.8700: 100%|██████████| 158/158 [00:01<00:00, 97.90it/s] \n",
      "loss: 0.2530, accuracy: 0.9100:   1%|          | 9/1000 [00:00<00:20, 47.70it/s]"
     ]
    },
    {
     "name": "stdout",
     "output_type": "stream",
     "text": [
      "Epoch 29: train_acc_0.9023_train_loss_0.2561_val_acc_0.8884_val_loss_0.3197 epoch time 23.8239 seconds\n",
      "total time11.0 : 54.47433567047119\n"
     ]
    },
    {
     "name": "stderr",
     "output_type": "stream",
     "text": [
      "loss: 0.2402, accuracy: 0.8900: 100%|██████████| 1000/1000 [00:21<00:00, 45.58it/s]\n",
      "loss: 0.2335, accuracy: 0.9300: 100%|██████████| 158/158 [00:01<00:00, 96.75it/s] \n",
      "loss: 0.1888, accuracy: 0.9100:   1%|          | 8/1000 [00:00<00:21, 46.99it/s]"
     ]
    },
    {
     "name": "stdout",
     "output_type": "stream",
     "text": [
      "Epoch 30: train_acc_0.9047_train_loss_0.2518_val_acc_0.8825_val_loss_0.3316 epoch time 23.8681 seconds\n",
      "total time12.0 : 18.34238600730896\n"
     ]
    },
    {
     "name": "stderr",
     "output_type": "stream",
     "text": [
      "loss: 0.2519, accuracy: 0.8600: 100%|██████████| 1000/1000 [00:21<00:00, 45.61it/s]\n",
      "loss: 0.2671, accuracy: 0.9100: 100%|██████████| 158/158 [00:01<00:00, 104.07it/s]\n",
      "loss: 0.2523, accuracy: 0.8600:   1%|          | 9/1000 [00:00<00:20, 48.20it/s]"
     ]
    },
    {
     "name": "stdout",
     "output_type": "stream",
     "text": [
      "Epoch 31: train_acc_0.9043_train_loss_0.2486_val_acc_0.8866_val_loss_0.3239 epoch time 23.5755 seconds\n",
      "total time12.0 : 41.91790533065796\n"
     ]
    },
    {
     "name": "stderr",
     "output_type": "stream",
     "text": [
      "loss: 0.4214, accuracy: 0.8800: 100%|██████████| 1000/1000 [00:21<00:00, 45.94it/s]\n",
      "loss: 0.4014, accuracy: 0.9000: 100%|██████████| 158/158 [00:01<00:00, 96.06it/s]\n",
      "loss: 0.2238, accuracy: 0.9000:   1%|          | 9/1000 [00:00<00:21, 47.13it/s]"
     ]
    },
    {
     "name": "stdout",
     "output_type": "stream",
     "text": [
      "Epoch 32: train_acc_0.9066_train_loss_0.2445_val_acc_0.8830_val_loss_0.3327 epoch time 23.6900 seconds\n",
      "total time13.0 : 5.607883930206299\n"
     ]
    },
    {
     "name": "stderr",
     "output_type": "stream",
     "text": [
      "loss: 0.2778, accuracy: 0.9000: 100%|██████████| 1000/1000 [00:21<00:00, 46.01it/s]\n",
      "loss: 0.3560, accuracy: 0.8700: 100%|██████████| 158/158 [00:01<00:00, 97.03it/s] \n",
      "loss: 0.3137, accuracy: 0.8700:   1%|          | 9/1000 [00:00<00:21, 47.10it/s]"
     ]
    },
    {
     "name": "stdout",
     "output_type": "stream",
     "text": [
      "Epoch 33: train_acc_0.9069_train_loss_0.2415_val_acc_0.8842_val_loss_0.3289 epoch time 23.7976 seconds\n",
      "total time13.0 : 29.405500173568726\n"
     ]
    },
    {
     "name": "stderr",
     "output_type": "stream",
     "text": [
      "loss: 0.2681, accuracy: 0.8800: 100%|██████████| 1000/1000 [00:21<00:00, 46.13it/s]\n",
      "loss: 0.2148, accuracy: 0.9200: 100%|██████████| 158/158 [00:01<00:00, 97.40it/s] \n",
      "loss: 0.1760, accuracy: 0.9100:   1%|          | 9/1000 [00:00<00:20, 48.94it/s]"
     ]
    },
    {
     "name": "stdout",
     "output_type": "stream",
     "text": [
      "Epoch 34: train_acc_0.9082_train_loss_0.2394_val_acc_0.8857_val_loss_0.3314 epoch time 23.8439 seconds\n",
      "total time13.0 : 53.249439001083374\n"
     ]
    },
    {
     "name": "stderr",
     "output_type": "stream",
     "text": [
      "loss: 0.4485, accuracy: 0.8200: 100%|██████████| 1000/1000 [00:21<00:00, 46.05it/s]\n",
      "loss: 0.3717, accuracy: 0.9000: 100%|██████████| 158/158 [00:01<00:00, 97.50it/s] \n",
      "loss: 0.2840, accuracy: 0.9000:   1%|          | 9/1000 [00:00<00:21, 47.08it/s]"
     ]
    },
    {
     "name": "stdout",
     "output_type": "stream",
     "text": [
      "Epoch 35: train_acc_0.9081_train_loss_0.2369_val_acc_0.8837_val_loss_0.3280 epoch time 23.6107 seconds\n",
      "total time14.0 : 16.860141277313232\n"
     ]
    },
    {
     "name": "stderr",
     "output_type": "stream",
     "text": [
      "loss: 0.2509, accuracy: 0.8700: 100%|██████████| 1000/1000 [00:21<00:00, 45.77it/s]\n",
      "loss: 0.2649, accuracy: 0.8900: 100%|██████████| 158/158 [00:01<00:00, 96.51it/s] \n",
      "loss: 0.1415, accuracy: 0.9300:   1%|          | 9/1000 [00:00<00:21, 46.41it/s]"
     ]
    },
    {
     "name": "stdout",
     "output_type": "stream",
     "text": [
      "Epoch 36: train_acc_0.9101_train_loss_0.2321_val_acc_0.8812_val_loss_0.3380 epoch time 23.8283 seconds\n",
      "total time14.0 : 40.6884503364563\n"
     ]
    },
    {
     "name": "stderr",
     "output_type": "stream",
     "text": [
      "loss: 0.1473, accuracy: 0.9500: 100%|██████████| 1000/1000 [00:21<00:00, 45.59it/s]\n",
      "loss: 0.2397, accuracy: 0.9000: 100%|██████████| 158/158 [00:01<00:00, 100.95it/s]\n",
      "loss: 0.1928, accuracy: 0.9500:   1%|          | 9/1000 [00:00<00:20, 47.95it/s]"
     ]
    },
    {
     "name": "stdout",
     "output_type": "stream",
     "text": [
      "Epoch 37: train_acc_0.9108_train_loss_0.2310_val_acc_0.8877_val_loss_0.3300 epoch time 23.8403 seconds\n",
      "total time15.0 : 4.528701305389404\n"
     ]
    },
    {
     "name": "stderr",
     "output_type": "stream",
     "text": [
      "loss: 0.1798, accuracy: 0.9000: 100%|██████████| 1000/1000 [00:21<00:00, 45.80it/s]\n",
      "loss: 0.2001, accuracy: 0.9000: 100%|██████████| 158/158 [00:01<00:00, 96.59it/s]\n",
      "loss: 0.2156, accuracy: 0.8800:   1%|          | 9/1000 [00:00<00:20, 47.75it/s]"
     ]
    },
    {
     "name": "stdout",
     "output_type": "stream",
     "text": [
      "Epoch 38: train_acc_0.9113_train_loss_0.2282_val_acc_0.8841_val_loss_0.3341 epoch time 23.8168 seconds\n",
      "total time15.0 : 28.345548629760742\n"
     ]
    },
    {
     "name": "stderr",
     "output_type": "stream",
     "text": [
      "loss: 0.1500, accuracy: 0.9700: 100%|██████████| 1000/1000 [00:21<00:00, 45.67it/s]\n",
      "loss: 0.2413, accuracy: 0.9200: 100%|██████████| 158/158 [00:01<00:00, 100.10it/s]\n",
      "loss: 0.2290, accuracy: 0.8900:   1%|          | 8/1000 [00:00<00:21, 46.33it/s]"
     ]
    },
    {
     "name": "stdout",
     "output_type": "stream",
     "text": [
      "Epoch 39: train_acc_0.9123_train_loss_0.2257_val_acc_0.8890_val_loss_0.3211 epoch time 23.8256 seconds\n",
      "total time15.0 : 52.17115545272827\n"
     ]
    },
    {
     "name": "stderr",
     "output_type": "stream",
     "text": [
      "loss: 0.1556, accuracy: 0.9400: 100%|██████████| 1000/1000 [00:21<00:00, 45.34it/s]\n",
      "loss: 0.3902, accuracy: 0.8500: 100%|██████████| 158/158 [00:01<00:00, 98.17it/s] \n",
      "loss: 0.2673, accuracy: 0.9000:   1%|          | 8/1000 [00:00<00:21, 46.54it/s]"
     ]
    },
    {
     "name": "stdout",
     "output_type": "stream",
     "text": [
      "Epoch 40: train_acc_0.9116_train_loss_0.2236_val_acc_0.8819_val_loss_0.3356 epoch time 23.8661 seconds\n",
      "total time16.0 : 16.037221908569336\n"
     ]
    },
    {
     "name": "stderr",
     "output_type": "stream",
     "text": [
      "loss: 0.2923, accuracy: 0.8900: 100%|██████████| 1000/1000 [00:21<00:00, 45.56it/s]\n",
      "loss: 0.2684, accuracy: 0.9100: 100%|██████████| 158/158 [00:01<00:00, 97.52it/s] \n",
      "loss: 0.2026, accuracy: 0.9400:   1%|          | 8/1000 [00:00<00:21, 46.34it/s]"
     ]
    },
    {
     "name": "stdout",
     "output_type": "stream",
     "text": [
      "Epoch 41: train_acc_0.9138_train_loss_0.2191_val_acc_0.8856_val_loss_0.3418 epoch time 23.8183 seconds\n",
      "total time16.0 : 39.85548520088196\n"
     ]
    },
    {
     "name": "stderr",
     "output_type": "stream",
     "text": [
      "loss: 0.1361, accuracy: 0.9400: 100%|██████████| 1000/1000 [00:21<00:00, 46.06it/s]\n",
      "loss: 0.3390, accuracy: 0.8900: 100%|██████████| 158/158 [00:01<00:00, 97.07it/s] \n",
      "loss: 0.1421, accuracy: 0.9600:   1%|          | 9/1000 [00:00<00:20, 47.30it/s]"
     ]
    },
    {
     "name": "stdout",
     "output_type": "stream",
     "text": [
      "Epoch 42: train_acc_0.9140_train_loss_0.2182_val_acc_0.8868_val_loss_0.3325 epoch time 23.8371 seconds\n",
      "total time17.0 : 3.6926040649414062\n"
     ]
    },
    {
     "name": "stderr",
     "output_type": "stream",
     "text": [
      "loss: 0.2092, accuracy: 0.9400: 100%|██████████| 1000/1000 [00:21<00:00, 45.77it/s]\n",
      "loss: 0.5501, accuracy: 0.8000: 100%|██████████| 158/158 [00:01<00:00, 96.32it/s] \n",
      "loss: 0.2303, accuracy: 0.9000:   1%|          | 8/1000 [00:00<00:21, 46.10it/s]"
     ]
    },
    {
     "name": "stdout",
     "output_type": "stream",
     "text": [
      "Epoch 43: train_acc_0.9150_train_loss_0.2164_val_acc_0.8820_val_loss_0.3378 epoch time 23.8574 seconds\n",
      "total time17.0 : 27.549962520599365\n"
     ]
    },
    {
     "name": "stderr",
     "output_type": "stream",
     "text": [
      "loss: 0.1987, accuracy: 0.9100: 100%|██████████| 1000/1000 [00:21<00:00, 47.57it/s]\n",
      "loss: 0.3772, accuracy: 0.9200: 100%|██████████| 158/158 [00:01<00:00, 100.74it/s]\n",
      "loss: 0.0743, accuracy: 0.9900:   1%|          | 9/1000 [00:00<00:20, 47.83it/s]"
     ]
    },
    {
     "name": "stdout",
     "output_type": "stream",
     "text": [
      "Epoch 44: train_acc_0.9161_train_loss_0.2121_val_acc_0.8834_val_loss_0.3445 epoch time 23.7085 seconds\n",
      "total time17.0 : 51.25847339630127\n"
     ]
    },
    {
     "name": "stderr",
     "output_type": "stream",
     "text": [
      "loss: 0.1639, accuracy: 0.9400: 100%|██████████| 1000/1000 [00:21<00:00, 45.66it/s]\n",
      "loss: 0.4460, accuracy: 0.8400: 100%|██████████| 158/158 [00:01<00:00, 96.72it/s]\n",
      "loss: 0.2067, accuracy: 0.9200:   1%|          | 9/1000 [00:00<00:20, 47.28it/s]"
     ]
    },
    {
     "name": "stdout",
     "output_type": "stream",
     "text": [
      "Epoch 45: train_acc_0.9168_train_loss_0.2108_val_acc_0.8837_val_loss_0.3411 epoch time 23.6011 seconds\n",
      "total time18.0 : 14.859528303146362\n"
     ]
    },
    {
     "name": "stderr",
     "output_type": "stream",
     "text": [
      "loss: 0.3454, accuracy: 0.8900: 100%|██████████| 1000/1000 [00:21<00:00, 45.58it/s]\n",
      "loss: 0.3358, accuracy: 0.8500: 100%|██████████| 158/158 [00:01<00:00, 98.26it/s] \n",
      "loss: 0.1386, accuracy: 0.9600:   1%|          | 9/1000 [00:00<00:21, 46.61it/s]"
     ]
    },
    {
     "name": "stdout",
     "output_type": "stream",
     "text": [
      "Epoch 46: train_acc_0.9172_train_loss_0.2099_val_acc_0.8838_val_loss_0.3348 epoch time 23.8150 seconds\n",
      "total time18.0 : 38.67448711395264\n"
     ]
    },
    {
     "name": "stderr",
     "output_type": "stream",
     "text": [
      "loss: 0.1869, accuracy: 0.9300: 100%|██████████| 1000/1000 [00:21<00:00, 45.74it/s]\n",
      "loss: 0.3881, accuracy: 0.8700: 100%|██████████| 158/158 [00:01<00:00, 96.93it/s] \n",
      "loss: 0.2079, accuracy: 0.9100:   1%|          | 9/1000 [00:00<00:21, 46.87it/s]"
     ]
    },
    {
     "name": "stdout",
     "output_type": "stream",
     "text": [
      "Epoch 47: train_acc_0.9166_train_loss_0.2078_val_acc_0.8837_val_loss_0.3546 epoch time 23.8452 seconds\n",
      "total time19.0 : 2.51969051361084\n"
     ]
    },
    {
     "name": "stderr",
     "output_type": "stream",
     "text": [
      "loss: 0.1247, accuracy: 0.9400: 100%|██████████| 1000/1000 [00:21<00:00, 45.70it/s]\n",
      "loss: 0.5009, accuracy: 0.8600: 100%|██████████| 158/158 [00:01<00:00, 96.91it/s] \n",
      "loss: 0.1939, accuracy: 0.9200:   1%|          | 9/1000 [00:00<00:21, 46.78it/s]"
     ]
    },
    {
     "name": "stdout",
     "output_type": "stream",
     "text": [
      "Epoch 48: train_acc_0.9185_train_loss_0.2049_val_acc_0.8852_val_loss_0.3480 epoch time 23.6760 seconds\n",
      "total time19.0 : 26.19572925567627\n"
     ]
    },
    {
     "name": "stderr",
     "output_type": "stream",
     "text": [
      "loss: 0.2039, accuracy: 0.9200: 100%|██████████| 1000/1000 [00:21<00:00, 45.97it/s]\n",
      "loss: 0.3190, accuracy: 0.8800: 100%|██████████| 158/158 [00:01<00:00, 97.03it/s] \n",
      "loss: 0.2013, accuracy: 0.9500:   1%|          | 9/1000 [00:00<00:21, 47.06it/s]"
     ]
    },
    {
     "name": "stdout",
     "output_type": "stream",
     "text": [
      "Epoch 49: train_acc_0.9185_train_loss_0.2023_val_acc_0.8870_val_loss_0.3387 epoch time 23.8127 seconds\n",
      "total time19.0 : 50.00847291946411\n"
     ]
    },
    {
     "name": "stderr",
     "output_type": "stream",
     "text": [
      "loss: 0.2130, accuracy: 0.8900: 100%|██████████| 1000/1000 [00:21<00:00, 46.14it/s]\n",
      "loss: 0.3351, accuracy: 0.8800: 100%|██████████| 158/158 [00:01<00:00, 99.72it/s] \n",
      "loss: 0.2404, accuracy: 0.9200:   1%|          | 9/1000 [00:00<00:21, 46.96it/s]"
     ]
    },
    {
     "name": "stdout",
     "output_type": "stream",
     "text": [
      "Epoch 50: train_acc_0.9194_train_loss_0.2010_val_acc_0.8833_val_loss_0.3476 epoch time 23.8484 seconds\n",
      "total time20.0 : 13.856853485107422\n"
     ]
    },
    {
     "name": "stderr",
     "output_type": "stream",
     "text": [
      "loss: 0.1838, accuracy: 0.9100: 100%|██████████| 1000/1000 [00:21<00:00, 45.39it/s]\n",
      "loss: 0.4503, accuracy: 0.8500: 100%|██████████| 158/158 [00:01<00:00, 97.25it/s] \n",
      "loss: 0.1563, accuracy: 0.9400:   1%|          | 9/1000 [00:00<00:20, 47.35it/s]"
     ]
    },
    {
     "name": "stdout",
     "output_type": "stream",
     "text": [
      "Epoch 51: train_acc_0.9204_train_loss_0.1979_val_acc_0.8841_val_loss_0.3485 epoch time 23.8567 seconds\n",
      "total time20.0 : 37.71352982521057\n"
     ]
    },
    {
     "name": "stderr",
     "output_type": "stream",
     "text": [
      "loss: 0.1530, accuracy: 0.9500: 100%|██████████| 1000/1000 [00:21<00:00, 45.45it/s]\n",
      "loss: 0.1515, accuracy: 0.9300: 100%|██████████| 158/158 [00:01<00:00, 96.42it/s]\n",
      "loss: 0.2343, accuracy: 0.9400:   1%|          | 8/1000 [00:00<00:21, 47.22it/s]"
     ]
    },
    {
     "name": "stdout",
     "output_type": "stream",
     "text": [
      "Epoch 52: train_acc_0.9197_train_loss_0.1981_val_acc_0.8847_val_loss_0.3500 epoch time 23.8837 seconds\n",
      "total time21.0 : 1.5972726345062256\n"
     ]
    },
    {
     "name": "stderr",
     "output_type": "stream",
     "text": [
      "loss: 0.1855, accuracy: 0.9200: 100%|██████████| 1000/1000 [00:21<00:00, 45.49it/s]\n",
      "loss: 0.4219, accuracy: 0.8700: 100%|██████████| 158/158 [00:01<00:00, 96.67it/s] \n",
      "loss: 0.2026, accuracy: 0.9100:   1%|          | 9/1000 [00:00<00:20, 47.39it/s]"
     ]
    },
    {
     "name": "stdout",
     "output_type": "stream",
     "text": [
      "Epoch 53: train_acc_0.9213_train_loss_0.1948_val_acc_0.8780_val_loss_0.3723 epoch time 23.8533 seconds\n",
      "total time21.0 : 25.450527667999268\n"
     ]
    },
    {
     "name": "stderr",
     "output_type": "stream",
     "text": [
      "loss: 0.2171, accuracy: 0.9000: 100%|██████████| 1000/1000 [00:21<00:00, 45.84it/s]\n",
      "loss: 0.2338, accuracy: 0.9000: 100%|██████████| 158/158 [00:01<00:00, 96.79it/s] \n",
      "loss: 0.1605, accuracy: 0.9400:   1%|          | 9/1000 [00:00<00:21, 46.98it/s]"
     ]
    },
    {
     "name": "stdout",
     "output_type": "stream",
     "text": [
      "Epoch 54: train_acc_0.9217_train_loss_0.1937_val_acc_0.8871_val_loss_0.3465 epoch time 23.8780 seconds\n",
      "total time21.0 : 49.328561544418335\n"
     ]
    },
    {
     "name": "stderr",
     "output_type": "stream",
     "text": [
      "loss: 0.2579, accuracy: 0.8900: 100%|██████████| 1000/1000 [00:21<00:00, 45.76it/s]\n",
      "loss: 0.2752, accuracy: 0.9300: 100%|██████████| 158/158 [00:01<00:00, 98.37it/s] \n",
      "loss: 0.1612, accuracy: 0.9300:   1%|          | 9/1000 [00:00<00:20, 47.93it/s]"
     ]
    },
    {
     "name": "stdout",
     "output_type": "stream",
     "text": [
      "Epoch 55: train_acc_0.9213_train_loss_0.1923_val_acc_0.8830_val_loss_0.3486 epoch time 23.8026 seconds\n",
      "total time22.0 : 13.131190061569214\n"
     ]
    },
    {
     "name": "stderr",
     "output_type": "stream",
     "text": [
      "loss: 0.1782, accuracy: 0.9300: 100%|██████████| 1000/1000 [00:21<00:00, 46.08it/s]\n",
      "loss: 0.2821, accuracy: 0.9200: 100%|██████████| 158/158 [00:01<00:00, 97.51it/s] \n",
      "loss: 0.2166, accuracy: 0.8900:   1%|          | 9/1000 [00:00<00:21, 46.37it/s]"
     ]
    },
    {
     "name": "stdout",
     "output_type": "stream",
     "text": [
      "Epoch 56: train_acc_0.9234_train_loss_0.1901_val_acc_0.8861_val_loss_0.3545 epoch time 23.8456 seconds\n",
      "total time22.0 : 36.97680687904358\n"
     ]
    },
    {
     "name": "stderr",
     "output_type": "stream",
     "text": [
      "loss: 0.3367, accuracy: 0.9000: 100%|██████████| 1000/1000 [00:21<00:00, 48.02it/s]\n",
      "loss: 0.3488, accuracy: 0.9000: 100%|██████████| 158/158 [00:01<00:00, 99.74it/s] \n",
      "loss: 0.1896, accuracy: 0.9000:   1%|          | 9/1000 [00:00<00:20, 48.18it/s]"
     ]
    },
    {
     "name": "stdout",
     "output_type": "stream",
     "text": [
      "Epoch 57: train_acc_0.9234_train_loss_0.1889_val_acc_0.8832_val_loss_0.3600 epoch time 23.7430 seconds\n",
      "total time23.0 : 0.7197701930999756\n"
     ]
    },
    {
     "name": "stderr",
     "output_type": "stream",
     "text": [
      "loss: 0.2204, accuracy: 0.9200: 100%|██████████| 1000/1000 [00:21<00:00, 46.30it/s]\n",
      "loss: 0.1647, accuracy: 0.9400: 100%|██████████| 158/158 [00:01<00:00, 97.58it/s] \n",
      "loss: 0.1635, accuracy: 0.9400:   1%|          | 9/1000 [00:00<00:20, 47.83it/s]"
     ]
    },
    {
     "name": "stdout",
     "output_type": "stream",
     "text": [
      "Epoch 58: train_acc_0.9232_train_loss_0.1862_val_acc_0.8798_val_loss_0.3742 epoch time 23.5328 seconds\n",
      "total time23.0 : 24.252609252929688\n"
     ]
    },
    {
     "name": "stderr",
     "output_type": "stream",
     "text": [
      "loss: 0.1918, accuracy: 0.9300: 100%|██████████| 1000/1000 [00:21<00:00, 45.68it/s]\n",
      "loss: 0.2179, accuracy: 0.9100: 100%|██████████| 158/158 [00:01<00:00, 96.96it/s] \n",
      "loss: 0.1535, accuracy: 0.9100:   1%|          | 9/1000 [00:00<00:20, 47.21it/s]"
     ]
    },
    {
     "name": "stdout",
     "output_type": "stream",
     "text": [
      "Epoch 59: train_acc_0.9243_train_loss_0.1845_val_acc_0.8814_val_loss_0.3687 epoch time 23.8658 seconds\n",
      "total time23.0 : 48.1184196472168\n"
     ]
    },
    {
     "name": "stderr",
     "output_type": "stream",
     "text": [
      "loss: 0.3049, accuracy: 0.8700: 100%|██████████| 1000/1000 [00:21<00:00, 46.20it/s]\n",
      "loss: 0.5619, accuracy: 0.8700: 100%|██████████| 158/158 [00:01<00:00, 98.41it/s] \n",
      "loss: 0.1928, accuracy: 0.9300:   1%|          | 9/1000 [00:00<00:20, 48.92it/s]"
     ]
    },
    {
     "name": "stdout",
     "output_type": "stream",
     "text": [
      "Epoch 60: train_acc_0.9244_train_loss_0.1834_val_acc_0.8842_val_loss_0.3707 epoch time 23.8372 seconds\n",
      "total time24.0 : 11.95561408996582\n"
     ]
    },
    {
     "name": "stderr",
     "output_type": "stream",
     "text": [
      "loss: 0.1925, accuracy: 0.9300: 100%|██████████| 1000/1000 [00:21<00:00, 45.64it/s]\n",
      "loss: 0.4013, accuracy: 0.8400: 100%|██████████| 158/158 [00:01<00:00, 97.36it/s] \n",
      "loss: 0.1288, accuracy: 0.9400:   1%|          | 9/1000 [00:00<00:21, 46.66it/s]"
     ]
    },
    {
     "name": "stdout",
     "output_type": "stream",
     "text": [
      "Epoch 61: train_acc_0.9257_train_loss_0.1822_val_acc_0.8792_val_loss_0.3757 epoch time 23.6218 seconds\n",
      "total time24.0 : 35.577417850494385\n"
     ]
    },
    {
     "name": "stderr",
     "output_type": "stream",
     "text": [
      "loss: 0.2738, accuracy: 0.9000: 100%|██████████| 1000/1000 [00:21<00:00, 46.21it/s]\n",
      "loss: 0.1638, accuracy: 0.9500: 100%|██████████| 158/158 [00:01<00:00, 96.47it/s]\n",
      "loss: 0.1894, accuracy: 0.9300:   1%|          | 9/1000 [00:00<00:20, 47.68it/s]"
     ]
    },
    {
     "name": "stdout",
     "output_type": "stream",
     "text": [
      "Epoch 62: train_acc_0.9264_train_loss_0.1804_val_acc_0.8788_val_loss_0.3826 epoch time 23.8064 seconds\n",
      "total time24.0 : 59.383819580078125\n"
     ]
    },
    {
     "name": "stderr",
     "output_type": "stream",
     "text": [
      "loss: 0.4033, accuracy: 0.8600: 100%|██████████| 1000/1000 [00:21<00:00, 46.04it/s]\n",
      "loss: 0.2767, accuracy: 0.9400: 100%|██████████| 158/158 [00:01<00:00, 95.74it/s]\n",
      "loss: 0.1170, accuracy: 0.9600:   1%|          | 8/1000 [00:00<00:21, 46.03it/s]"
     ]
    },
    {
     "name": "stdout",
     "output_type": "stream",
     "text": [
      "Epoch 63: train_acc_0.9273_train_loss_0.1781_val_acc_0.8813_val_loss_0.3665 epoch time 23.8480 seconds\n",
      "total time25.0 : 23.23183798789978\n"
     ]
    },
    {
     "name": "stderr",
     "output_type": "stream",
     "text": [
      "loss: 0.1514, accuracy: 0.9700: 100%|██████████| 1000/1000 [00:21<00:00, 45.44it/s]\n",
      "loss: 0.3273, accuracy: 0.9200: 100%|██████████| 158/158 [00:01<00:00, 96.41it/s] \n",
      "loss: 0.1607, accuracy: 0.9400:   1%|          | 8/1000 [00:00<00:21, 46.61it/s]"
     ]
    },
    {
     "name": "stdout",
     "output_type": "stream",
     "text": [
      "Epoch 64: train_acc_0.9275_train_loss_0.1761_val_acc_0.8814_val_loss_0.3821 epoch time 23.8359 seconds\n",
      "total time25.0 : 47.067779541015625\n"
     ]
    },
    {
     "name": "stderr",
     "output_type": "stream",
     "text": [
      "loss: 0.1962, accuracy: 0.9200: 100%|██████████| 1000/1000 [00:21<00:00, 46.04it/s]\n",
      "loss: 0.1612, accuracy: 0.9200: 100%|██████████| 158/158 [00:01<00:00, 96.52it/s] \n",
      "loss: 0.1834, accuracy: 0.9200:   1%|          | 9/1000 [00:00<00:20, 47.36it/s]"
     ]
    },
    {
     "name": "stdout",
     "output_type": "stream",
     "text": [
      "Epoch 65: train_acc_0.9273_train_loss_0.1757_val_acc_0.8808_val_loss_0.3783 epoch time 23.8610 seconds\n",
      "total time26.0 : 10.928792953491211\n"
     ]
    },
    {
     "name": "stderr",
     "output_type": "stream",
     "text": [
      "loss: 0.1729, accuracy: 0.9300: 100%|██████████| 1000/1000 [00:21<00:00, 45.67it/s]\n",
      "loss: 0.2567, accuracy: 0.9300: 100%|██████████| 158/158 [00:01<00:00, 96.24it/s]\n",
      "loss: 0.1389, accuracy: 0.9300:   1%|          | 8/1000 [00:00<00:21, 46.96it/s]"
     ]
    },
    {
     "name": "stdout",
     "output_type": "stream",
     "text": [
      "Epoch 66: train_acc_0.9284_train_loss_0.1741_val_acc_0.8807_val_loss_0.3819 epoch time 23.8632 seconds\n",
      "total time26.0 : 34.79194951057434\n"
     ]
    },
    {
     "name": "stderr",
     "output_type": "stream",
     "text": [
      "loss: 0.1843, accuracy: 0.9200: 100%|██████████| 1000/1000 [00:21<00:00, 45.96it/s]\n",
      "loss: 0.4170, accuracy: 0.8800: 100%|██████████| 158/158 [00:01<00:00, 97.80it/s] \n",
      "loss: 0.1527, accuracy: 0.9400:   1%|          | 9/1000 [00:00<00:21, 46.95it/s]"
     ]
    },
    {
     "name": "stdout",
     "output_type": "stream",
     "text": [
      "Epoch 67: train_acc_0.9282_train_loss_0.1725_val_acc_0.8808_val_loss_0.3786 epoch time 23.8141 seconds\n",
      "total time26.0 : 58.60599970817566\n"
     ]
    },
    {
     "name": "stderr",
     "output_type": "stream",
     "text": [
      "loss: 0.2056, accuracy: 0.9000: 100%|██████████| 1000/1000 [00:21<00:00, 45.82it/s]\n",
      "loss: 0.3501, accuracy: 0.8700: 100%|██████████| 158/158 [00:01<00:00, 97.94it/s] \n",
      "loss: 0.1221, accuracy: 0.9500:   1%|          | 9/1000 [00:00<00:21, 46.93it/s]"
     ]
    },
    {
     "name": "stdout",
     "output_type": "stream",
     "text": [
      "Epoch 68: train_acc_0.9291_train_loss_0.1710_val_acc_0.8833_val_loss_0.3780 epoch time 23.7626 seconds\n",
      "total time27.0 : 22.368617057800293\n"
     ]
    },
    {
     "name": "stderr",
     "output_type": "stream",
     "text": [
      "loss: 0.1411, accuracy: 0.9300: 100%|██████████| 1000/1000 [00:21<00:00, 46.11it/s]\n",
      "loss: 0.3163, accuracy: 0.8800: 100%|██████████| 158/158 [00:01<00:00, 98.19it/s] \n",
      "loss: 0.1394, accuracy: 0.9500:   1%|          | 9/1000 [00:00<00:20, 47.36it/s]"
     ]
    },
    {
     "name": "stdout",
     "output_type": "stream",
     "text": [
      "Epoch 69: train_acc_0.9301_train_loss_0.1698_val_acc_0.8797_val_loss_0.3877 epoch time 23.8036 seconds\n",
      "total time27.0 : 46.17223024368286\n"
     ]
    },
    {
     "name": "stderr",
     "output_type": "stream",
     "text": [
      "loss: 0.2192, accuracy: 0.9100: 100%|██████████| 1000/1000 [00:21<00:00, 45.62it/s]\n",
      "loss: 0.4061, accuracy: 0.8600: 100%|██████████| 158/158 [00:01<00:00, 98.72it/s] \n",
      "loss: 0.1127, accuracy: 0.9300:   1%|          | 9/1000 [00:00<00:20, 47.44it/s]"
     ]
    },
    {
     "name": "stdout",
     "output_type": "stream",
     "text": [
      "Epoch 70: train_acc_0.9303_train_loss_0.1690_val_acc_0.8827_val_loss_0.3865 epoch time 23.7754 seconds\n",
      "total time28.0 : 9.947619676589966\n"
     ]
    },
    {
     "name": "stderr",
     "output_type": "stream",
     "text": [
      "loss: 0.1499, accuracy: 0.9500: 100%|██████████| 1000/1000 [00:21<00:00, 46.10it/s]\n",
      "loss: 0.4787, accuracy: 0.8700: 100%|██████████| 158/158 [00:01<00:00, 101.37it/s]\n",
      "loss: 0.1634, accuracy: 0.9300:   1%|          | 9/1000 [00:00<00:20, 48.51it/s]"
     ]
    },
    {
     "name": "stdout",
     "output_type": "stream",
     "text": [
      "Epoch 71: train_acc_0.9310_train_loss_0.1670_val_acc_0.8818_val_loss_0.3928 epoch time 23.4255 seconds\n",
      "total time28.0 : 33.37315845489502\n"
     ]
    },
    {
     "name": "stderr",
     "output_type": "stream",
     "text": [
      "loss: 0.1774, accuracy: 0.8900: 100%|██████████| 1000/1000 [00:21<00:00, 45.73it/s]\n",
      "loss: 0.5460, accuracy: 0.8500: 100%|██████████| 158/158 [00:01<00:00, 96.38it/s] \n",
      "loss: 0.1258, accuracy: 0.9500:   1%|          | 9/1000 [00:00<00:21, 47.01it/s]"
     ]
    },
    {
     "name": "stdout",
     "output_type": "stream",
     "text": [
      "Epoch 72: train_acc_0.9314_train_loss_0.1649_val_acc_0.8792_val_loss_0.3908 epoch time 23.8239 seconds\n",
      "total time28.0 : 57.197020530700684\n"
     ]
    },
    {
     "name": "stderr",
     "output_type": "stream",
     "text": [
      "loss: 0.1597, accuracy: 0.9500: 100%|██████████| 1000/1000 [00:21<00:00, 46.42it/s]\n",
      "loss: 0.5512, accuracy: 0.8900: 100%|██████████| 158/158 [00:01<00:00, 96.73it/s] \n",
      "loss: 0.1010, accuracy: 0.9600:   1%|          | 9/1000 [00:00<00:20, 47.59it/s]"
     ]
    },
    {
     "name": "stdout",
     "output_type": "stream",
     "text": [
      "Epoch 73: train_acc_0.9315_train_loss_0.1637_val_acc_0.8789_val_loss_0.3929 epoch time 23.7850 seconds\n",
      "total time29.0 : 20.98198938369751\n"
     ]
    },
    {
     "name": "stderr",
     "output_type": "stream",
     "text": [
      "loss: 0.1685, accuracy: 0.9300: 100%|██████████| 1000/1000 [00:21<00:00, 45.88it/s]\n",
      "loss: 0.2162, accuracy: 0.9500: 100%|██████████| 158/158 [00:01<00:00, 97.19it/s] \n",
      "loss: 0.1199, accuracy: 0.9700:   1%|          | 9/1000 [00:00<00:21, 46.87it/s]"
     ]
    },
    {
     "name": "stdout",
     "output_type": "stream",
     "text": [
      "Epoch 74: train_acc_0.9306_train_loss_0.1639_val_acc_0.8816_val_loss_0.3998 epoch time 23.6156 seconds\n",
      "total time29.0 : 44.5975558757782\n"
     ]
    },
    {
     "name": "stderr",
     "output_type": "stream",
     "text": [
      "loss: 0.1829, accuracy: 0.9100: 100%|██████████| 1000/1000 [00:21<00:00, 45.55it/s]\n",
      "loss: 0.6022, accuracy: 0.8500: 100%|██████████| 158/158 [00:01<00:00, 97.28it/s] \n",
      "loss: 0.1812, accuracy: 0.9100:   1%|          | 8/1000 [00:00<00:21, 47.12it/s]"
     ]
    },
    {
     "name": "stdout",
     "output_type": "stream",
     "text": [
      "Epoch 75: train_acc_0.9331_train_loss_0.1616_val_acc_0.8816_val_loss_0.4007 epoch time 23.7871 seconds\n",
      "total time30.0 : 8.384610891342163\n"
     ]
    },
    {
     "name": "stderr",
     "output_type": "stream",
     "text": [
      "loss: 0.2408, accuracy: 0.8700: 100%|██████████| 1000/1000 [00:21<00:00, 45.61it/s]\n",
      "loss: 0.2642, accuracy: 0.9000: 100%|██████████| 158/158 [00:01<00:00, 96.78it/s] \n",
      "loss: 0.1956, accuracy: 0.9300:   1%|          | 9/1000 [00:00<00:19, 49.59it/s]"
     ]
    },
    {
     "name": "stdout",
     "output_type": "stream",
     "text": [
      "Epoch 76: train_acc_0.9335_train_loss_0.1598_val_acc_0.8772_val_loss_0.4119 epoch time 23.8194 seconds\n",
      "total time30.0 : 32.20397686958313\n"
     ]
    },
    {
     "name": "stderr",
     "output_type": "stream",
     "text": [
      "loss: 0.1585, accuracy: 0.9200: 100%|██████████| 1000/1000 [00:21<00:00, 45.76it/s]\n",
      "loss: 0.5173, accuracy: 0.8800: 100%|██████████| 158/158 [00:01<00:00, 96.72it/s] \n",
      "loss: 0.1710, accuracy: 0.9300:   1%|          | 9/1000 [00:00<00:20, 48.01it/s]"
     ]
    },
    {
     "name": "stdout",
     "output_type": "stream",
     "text": [
      "Epoch 77: train_acc_0.9346_train_loss_0.1586_val_acc_0.8756_val_loss_0.4119 epoch time 23.8434 seconds\n",
      "total time30.0 : 56.04741859436035\n"
     ]
    },
    {
     "name": "stderr",
     "output_type": "stream",
     "text": [
      "loss: 0.1250, accuracy: 0.9500: 100%|██████████| 1000/1000 [00:21<00:00, 45.69it/s]\n",
      "loss: 0.3878, accuracy: 0.8900: 100%|██████████| 158/158 [00:01<00:00, 97.41it/s] \n",
      "loss: 0.1417, accuracy: 0.9200:   1%|          | 9/1000 [00:00<00:20, 47.38it/s]"
     ]
    },
    {
     "name": "stdout",
     "output_type": "stream",
     "text": [
      "Epoch 78: train_acc_0.9338_train_loss_0.1589_val_acc_0.8781_val_loss_0.4221 epoch time 23.7869 seconds\n",
      "total time31.0 : 19.83429193496704\n"
     ]
    },
    {
     "name": "stderr",
     "output_type": "stream",
     "text": [
      "loss: 0.1058, accuracy: 0.9600: 100%|██████████| 1000/1000 [00:21<00:00, 45.28it/s]\n",
      "loss: 0.2161, accuracy: 0.8800: 100%|██████████| 158/158 [00:01<00:00, 97.83it/s] \n",
      "loss: 0.1924, accuracy: 0.8800:   1%|          | 8/1000 [00:00<00:21, 46.11it/s]"
     ]
    },
    {
     "name": "stdout",
     "output_type": "stream",
     "text": [
      "Epoch 79: train_acc_0.9348_train_loss_0.1558_val_acc_0.8796_val_loss_0.4135 epoch time 23.8268 seconds\n",
      "total time31.0 : 43.66113352775574\n"
     ]
    },
    {
     "name": "stderr",
     "output_type": "stream",
     "text": [
      "loss: 0.2399, accuracy: 0.8900: 100%|██████████| 1000/1000 [00:21<00:00, 45.49it/s]\n",
      "loss: 0.5363, accuracy: 0.8600: 100%|██████████| 158/158 [00:01<00:00, 97.32it/s] \n",
      "loss: 0.1325, accuracy: 0.9500:   1%|          | 9/1000 [00:00<00:21, 46.96it/s]"
     ]
    },
    {
     "name": "stdout",
     "output_type": "stream",
     "text": [
      "Epoch 80: train_acc_0.9347_train_loss_0.1552_val_acc_0.8772_val_loss_0.4339 epoch time 23.7806 seconds\n",
      "total time32.0 : 7.441747426986694\n"
     ]
    },
    {
     "name": "stderr",
     "output_type": "stream",
     "text": [
      "loss: 0.1522, accuracy: 0.9400: 100%|██████████| 1000/1000 [00:21<00:00, 46.03it/s]\n",
      "loss: 0.2537, accuracy: 0.9000: 100%|██████████| 158/158 [00:01<00:00, 97.46it/s] \n",
      "loss: 0.1932, accuracy: 0.9300:   1%|          | 9/1000 [00:00<00:20, 48.18it/s]"
     ]
    },
    {
     "name": "stdout",
     "output_type": "stream",
     "text": [
      "Epoch 81: train_acc_0.9364_train_loss_0.1529_val_acc_0.8794_val_loss_0.4279 epoch time 23.7794 seconds\n",
      "total time32.0 : 31.221107006072998\n"
     ]
    },
    {
     "name": "stderr",
     "output_type": "stream",
     "text": [
      "loss: 0.2118, accuracy: 0.8900: 100%|██████████| 1000/1000 [00:21<00:00, 45.92it/s]\n",
      "loss: 0.2426, accuracy: 0.9200: 100%|██████████| 158/158 [00:01<00:00, 97.91it/s] \n",
      "loss: 0.0934, accuracy: 0.9600:   1%|          | 9/1000 [00:00<00:20, 48.35it/s]"
     ]
    },
    {
     "name": "stdout",
     "output_type": "stream",
     "text": [
      "Epoch 82: train_acc_0.9362_train_loss_0.1521_val_acc_0.8806_val_loss_0.4188 epoch time 23.7957 seconds\n",
      "total time32.0 : 55.01685333251953\n"
     ]
    },
    {
     "name": "stderr",
     "output_type": "stream",
     "text": [
      "loss: 0.2245, accuracy: 0.9300: 100%|██████████| 1000/1000 [00:21<00:00, 45.54it/s]\n",
      "loss: 0.2393, accuracy: 0.9500: 100%|██████████| 158/158 [00:01<00:00, 98.13it/s] \n",
      "loss: 0.0639, accuracy: 0.9800:   1%|          | 9/1000 [00:00<00:20, 49.27it/s]"
     ]
    },
    {
     "name": "stdout",
     "output_type": "stream",
     "text": [
      "Epoch 83: train_acc_0.9362_train_loss_0.1515_val_acc_0.8815_val_loss_0.4239 epoch time 23.7910 seconds\n",
      "total time33.0 : 18.807808876037598\n"
     ]
    },
    {
     "name": "stderr",
     "output_type": "stream",
     "text": [
      "loss: 0.3395, accuracy: 0.9000: 100%|██████████| 1000/1000 [00:21<00:00, 46.34it/s]\n",
      "loss: 0.4222, accuracy: 0.8600: 100%|██████████| 158/158 [00:01<00:00, 99.23it/s] \n",
      "loss: 0.1103, accuracy: 0.9500:   1%|          | 9/1000 [00:00<00:21, 47.06it/s]"
     ]
    },
    {
     "name": "stdout",
     "output_type": "stream",
     "text": [
      "Epoch 84: train_acc_0.9370_train_loss_0.1507_val_acc_0.8803_val_loss_0.4216 epoch time 23.4181 seconds\n",
      "total time33.0 : 42.225929498672485\n"
     ]
    },
    {
     "name": "stderr",
     "output_type": "stream",
     "text": [
      "loss: 0.1358, accuracy: 0.9400: 100%|██████████| 1000/1000 [00:21<00:00, 45.94it/s]\n",
      "loss: 0.3987, accuracy: 0.8800: 100%|██████████| 158/158 [00:01<00:00, 97.98it/s] \n",
      "loss: 0.0971, accuracy: 0.9600:   1%|          | 9/1000 [00:00<00:20, 48.20it/s]"
     ]
    },
    {
     "name": "stdout",
     "output_type": "stream",
     "text": [
      "Epoch 85: train_acc_0.9366_train_loss_0.1505_val_acc_0.8816_val_loss_0.4261 epoch time 23.8144 seconds\n",
      "total time34.0 : 6.0403337478637695\n"
     ]
    },
    {
     "name": "stderr",
     "output_type": "stream",
     "text": [
      "loss: 0.1356, accuracy: 0.9500: 100%|██████████| 1000/1000 [00:21<00:00, 45.57it/s]\n",
      "loss: 0.2415, accuracy: 0.9100: 100%|██████████| 158/158 [00:01<00:00, 97.66it/s] \n",
      "loss: 0.1579, accuracy: 0.9300:   1%|          | 9/1000 [00:00<00:20, 47.77it/s]"
     ]
    },
    {
     "name": "stdout",
     "output_type": "stream",
     "text": [
      "Epoch 86: train_acc_0.9382_train_loss_0.1475_val_acc_0.8778_val_loss_0.4405 epoch time 23.8338 seconds\n",
      "total time34.0 : 29.874103307724\n"
     ]
    },
    {
     "name": "stderr",
     "output_type": "stream",
     "text": [
      "loss: 0.1330, accuracy: 0.9500: 100%|██████████| 1000/1000 [00:21<00:00, 45.99it/s]\n",
      "loss: 0.3928, accuracy: 0.9000: 100%|██████████| 158/158 [00:01<00:00, 100.56it/s]\n",
      "loss: 0.1107, accuracy: 0.9500:   1%|          | 8/1000 [00:00<00:21, 46.16it/s]"
     ]
    },
    {
     "name": "stdout",
     "output_type": "stream",
     "text": [
      "Epoch 87: train_acc_0.9383_train_loss_0.1464_val_acc_0.8786_val_loss_0.4396 epoch time 23.6193 seconds\n",
      "total time34.0 : 53.49336862564087\n"
     ]
    },
    {
     "name": "stderr",
     "output_type": "stream",
     "text": [
      "loss: 0.1250, accuracy: 0.9500: 100%|██████████| 1000/1000 [00:21<00:00, 46.05it/s]\n",
      "loss: 0.3866, accuracy: 0.9100: 100%|██████████| 158/158 [00:01<00:00, 96.53it/s]\n",
      "loss: 0.1884, accuracy: 0.9100:   1%|          | 9/1000 [00:00<00:21, 46.32it/s]"
     ]
    },
    {
     "name": "stdout",
     "output_type": "stream",
     "text": [
      "Epoch 88: train_acc_0.9381_train_loss_0.1473_val_acc_0.8773_val_loss_0.4410 epoch time 23.8052 seconds\n",
      "total time35.0 : 17.298612594604492\n"
     ]
    },
    {
     "name": "stderr",
     "output_type": "stream",
     "text": [
      "loss: 0.1441, accuracy: 0.9400: 100%|██████████| 1000/1000 [00:21<00:00, 45.72it/s]\n",
      "loss: 0.2275, accuracy: 0.9000: 100%|██████████| 158/158 [00:01<00:00, 96.98it/s] \n",
      "loss: 0.1146, accuracy: 0.9500:   1%|          | 9/1000 [00:00<00:20, 48.58it/s]"
     ]
    },
    {
     "name": "stdout",
     "output_type": "stream",
     "text": [
      "Epoch 89: train_acc_0.9394_train_loss_0.1440_val_acc_0.8771_val_loss_0.4415 epoch time 23.8349 seconds\n",
      "total time35.0 : 41.13354802131653\n"
     ]
    },
    {
     "name": "stderr",
     "output_type": "stream",
     "text": [
      "loss: 0.1865, accuracy: 0.9200: 100%|██████████| 1000/1000 [00:21<00:00, 45.74it/s]\n",
      "loss: 0.2932, accuracy: 0.9200: 100%|██████████| 158/158 [00:01<00:00, 98.23it/s] \n",
      "loss: 0.1636, accuracy: 0.9400:   1%|          | 9/1000 [00:00<00:20, 47.87it/s]"
     ]
    },
    {
     "name": "stdout",
     "output_type": "stream",
     "text": [
      "Epoch 90: train_acc_0.9390_train_loss_0.1451_val_acc_0.8804_val_loss_0.4507 epoch time 23.8003 seconds\n",
      "total time36.0 : 4.933862686157227\n"
     ]
    },
    {
     "name": "stderr",
     "output_type": "stream",
     "text": [
      "loss: 0.1082, accuracy: 0.9400: 100%|██████████| 1000/1000 [00:21<00:00, 45.93it/s]\n",
      "loss: 0.3885, accuracy: 0.8700: 100%|██████████| 158/158 [00:01<00:00, 97.75it/s] \n",
      "loss: 0.1341, accuracy: 0.9500:   1%|          | 9/1000 [00:00<00:21, 47.07it/s]"
     ]
    },
    {
     "name": "stdout",
     "output_type": "stream",
     "text": [
      "Epoch 91: train_acc_0.9393_train_loss_0.1443_val_acc_0.8800_val_loss_0.4520 epoch time 23.8207 seconds\n",
      "total time36.0 : 28.754560232162476\n"
     ]
    },
    {
     "name": "stderr",
     "output_type": "stream",
     "text": [
      "loss: 0.2399, accuracy: 0.8600: 100%|██████████| 1000/1000 [00:21<00:00, 45.52it/s]\n",
      "loss: 0.4008, accuracy: 0.8300: 100%|██████████| 158/158 [00:01<00:00, 97.64it/s] \n",
      "loss: 0.1074, accuracy: 0.9600:   1%|          | 9/1000 [00:00<00:21, 46.71it/s]"
     ]
    },
    {
     "name": "stdout",
     "output_type": "stream",
     "text": [
      "Epoch 92: train_acc_0.9398_train_loss_0.1418_val_acc_0.8782_val_loss_0.4467 epoch time 23.8090 seconds\n",
      "total time36.0 : 52.56354641914368\n"
     ]
    },
    {
     "name": "stderr",
     "output_type": "stream",
     "text": [
      "loss: 0.1351, accuracy: 0.9500: 100%|██████████| 1000/1000 [00:21<00:00, 45.52it/s]\n",
      "loss: 0.5214, accuracy: 0.9100: 100%|██████████| 158/158 [00:01<00:00, 97.24it/s] \n",
      "loss: 0.1230, accuracy: 0.9700:   1%|          | 9/1000 [00:00<00:20, 48.70it/s]"
     ]
    },
    {
     "name": "stdout",
     "output_type": "stream",
     "text": [
      "Epoch 93: train_acc_0.9415_train_loss_0.1404_val_acc_0.8734_val_loss_0.4817 epoch time 23.8132 seconds\n",
      "total time37.0 : 16.376787424087524\n"
     ]
    },
    {
     "name": "stderr",
     "output_type": "stream",
     "text": [
      "loss: 0.1263, accuracy: 0.9300: 100%|██████████| 1000/1000 [00:21<00:00, 45.84it/s]\n",
      "loss: 0.5335, accuracy: 0.8300: 100%|██████████| 158/158 [00:01<00:00, 98.21it/s] \n",
      "loss: 0.0845, accuracy: 0.9800:   1%|          | 9/1000 [00:00<00:20, 47.22it/s]"
     ]
    },
    {
     "name": "stdout",
     "output_type": "stream",
     "text": [
      "Epoch 94: train_acc_0.9409_train_loss_0.1411_val_acc_0.8768_val_loss_0.4610 epoch time 23.7992 seconds\n",
      "total time37.0 : 40.176021575927734\n"
     ]
    },
    {
     "name": "stderr",
     "output_type": "stream",
     "text": [
      "loss: 0.1328, accuracy: 0.9700: 100%|██████████| 1000/1000 [00:21<00:00, 46.14it/s]\n",
      "loss: 0.6267, accuracy: 0.8800: 100%|██████████| 158/158 [00:01<00:00, 97.94it/s] \n",
      "loss: 0.0917, accuracy: 0.9400:   1%|          | 9/1000 [00:00<00:21, 47.17it/s]"
     ]
    },
    {
     "name": "stdout",
     "output_type": "stream",
     "text": [
      "Epoch 95: train_acc_0.9401_train_loss_0.1412_val_acc_0.8779_val_loss_0.4524 epoch time 23.8087 seconds\n",
      "total time38.0 : 3.984687089920044\n"
     ]
    },
    {
     "name": "stderr",
     "output_type": "stream",
     "text": [
      "loss: 0.1594, accuracy: 0.9500: 100%|██████████| 1000/1000 [00:21<00:00, 45.70it/s]\n",
      "loss: 0.2865, accuracy: 0.8600: 100%|██████████| 158/158 [00:01<00:00, 98.09it/s] \n",
      "loss: 0.1814, accuracy: 0.9300:   1%|          | 9/1000 [00:00<00:20, 47.68it/s]"
     ]
    },
    {
     "name": "stdout",
     "output_type": "stream",
     "text": [
      "Epoch 96: train_acc_0.9410_train_loss_0.1392_val_acc_0.8744_val_loss_0.4697 epoch time 23.8099 seconds\n",
      "total time38.0 : 27.794604301452637\n"
     ]
    },
    {
     "name": "stderr",
     "output_type": "stream",
     "text": [
      "loss: 0.1907, accuracy: 0.9400: 100%|██████████| 1000/1000 [00:21<00:00, 45.82it/s]\n",
      "loss: 0.5527, accuracy: 0.8800: 100%|██████████| 158/158 [00:01<00:00, 100.74it/s]\n",
      "loss: 0.1876, accuracy: 0.9300:   1%|          | 9/1000 [00:00<00:20, 47.81it/s]"
     ]
    },
    {
     "name": "stdout",
     "output_type": "stream",
     "text": [
      "Epoch 97: train_acc_0.9420_train_loss_0.1373_val_acc_0.8784_val_loss_0.4637 epoch time 23.4614 seconds\n",
      "total time38.0 : 51.25597405433655\n"
     ]
    },
    {
     "name": "stderr",
     "output_type": "stream",
     "text": [
      "loss: 0.1315, accuracy: 0.9500: 100%|██████████| 1000/1000 [00:21<00:00, 46.02it/s]\n",
      "loss: 0.6350, accuracy: 0.8700: 100%|██████████| 158/158 [00:01<00:00, 97.48it/s] \n",
      "loss: 0.1276, accuracy: 0.9400:   1%|          | 9/1000 [00:00<00:20, 47.51it/s]"
     ]
    },
    {
     "name": "stdout",
     "output_type": "stream",
     "text": [
      "Epoch 98: train_acc_0.9418_train_loss_0.1367_val_acc_0.8770_val_loss_0.4687 epoch time 23.8056 seconds\n",
      "total time39.0 : 15.061615467071533\n"
     ]
    },
    {
     "name": "stderr",
     "output_type": "stream",
     "text": [
      "loss: 0.1523, accuracy: 0.9200: 100%|██████████| 1000/1000 [00:21<00:00, 46.98it/s]\n",
      "loss: 0.5085, accuracy: 0.8700: 100%|██████████| 158/158 [00:01<00:00, 101.36it/s]\n",
      "loss: 0.3043, accuracy: 0.8600:  13%|█▎        | 21/158 [00:00<00:01, 120.92it/s]"
     ]
    },
    {
     "name": "stdout",
     "output_type": "stream",
     "text": [
      "Epoch 99: train_acc_0.9429_train_loss_0.1362_val_acc_0.8739_val_loss_0.4783 epoch time 23.7222 seconds\n",
      "total time39.0 : 38.78381371498108\n",
      "Generating test set evaluation metrics\n"
     ]
    },
    {
     "name": "stderr",
     "output_type": "stream",
     "text": [
      "loss: 0.5339, accuracy: 0.8100: 100%|██████████| 158/158 [00:01<00:00, 100.85it/s]\n"
     ]
    },
    {
     "name": "stdout",
     "output_type": "stream",
     "text": [
      "finish\n"
     ]
    },
    {
     "data": {
      "image/png": "[encoded data removed]",
      "text/plain": [
       "<Figure size 576x288 with 1 Axes>"
      ]
     },
     "metadata": {
      "needs_background": "light"
     },
     "output_type": "display_data"
    },
    {
     "data": {
      "image/png": "[encoded data removed]",
      "text/plain": [
       "<Figure size 576x288 with 1 Axes>"
      ]
     },
     "metadata": {
      "needs_background": "light"
     },
     "output_type": "display_data"
    },
    {
     "name": "stderr",
     "output_type": "stream",
     "text": [
      "loss: 3.8505, accuracy: 0.0300:   1%|          | 10/1000 [00:00<00:09, 99.69it/s]"
     ]
    },
    {
     "name": "stdout",
     "output_type": "stream",
     "text": [
      "Building basic block of ConvolutionalNetwork using input shape (100, 1, 28, 28)\n",
      "torch.Size([100, 64, 14, 14])\n",
      "torch.Size([100, 64, 8, 8])\n",
      "torch.Size([100, 64, 4, 4])\n",
      "torch.Size([100, 64, 3, 3])\n",
      "torch.Size([100, 64, 2, 2])\n",
      "torch.Size([100, 64, 2, 2])\n",
      "torch.Size([100, 64, 1, 1])\n",
      "torch.Size([100, 64, 1, 1])\n",
      "shape before final linear layer torch.Size([100, 64, 2, 2])\n",
      "Block is built, output volume is torch.Size([100, 47])\n",
      "use GPU\n",
      "ConvolutionalNetwork(\n",
      "  (layer_dict): ModuleDict(\n",
      "    (conv_0): Conv2d(1, 64, kernel_size=(3, 3), stride=(2, 2), padding=(1, 1))\n",
      "    (dim_reduction_avg_pool_0): AvgPool2d(kernel_size=2, stride=2, padding=1)\n",
      "    (conv_1): Conv2d(64, 64, kernel_size=(3, 3), stride=(2, 2), padding=(1, 1))\n",
      "    (dim_reduction_avg_pool_1): AvgPool2d(kernel_size=2, stride=2, padding=1)\n",
      "    (conv_2): Conv2d(64, 64, kernel_size=(3, 3), stride=(2, 2), padding=(1, 1))\n",
      "    (dim_reduction_avg_pool_2): AvgPool2d(kernel_size=2, stride=2, padding=1)\n",
      "    (conv_3): Conv2d(64, 64, kernel_size=(3, 3), stride=(2, 2), padding=(1, 1))\n",
      "    (dim_reduction_avg_pool_3): AvgPool2d(kernel_size=2, stride=2, padding=1)\n",
      "  )\n",
      "  (logit_linear_layer): Linear(in_features=256, out_features=47, bias=True)\n",
      ")\n"
     ]
    },
    {
     "name": "stderr",
     "output_type": "stream",
     "text": [
      "loss: 1.7072, accuracy: 0.5400: 100%|██████████| 1000/1000 [00:11<00:00, 86.27it/s]\n",
      "loss: 1.3711, accuracy: 0.5600: 100%|██████████| 158/158 [00:01<00:00, 146.36it/s]\n",
      "loss: 1.6334, accuracy: 0.5900:   2%|▏         | 16/1000 [00:00<00:11, 88.54it/s]"
     ]
    },
    {
     "name": "stdout",
     "output_type": "stream",
     "text": [
      "Epoch 0: train_acc_0.3431_train_loss_2.2601_val_acc_0.5562_val_loss_1.4599 epoch time 12.8251 seconds\n",
      "total time0.0 : 12.825107097625732\n"
     ]
    },
    {
     "name": "stderr",
     "output_type": "stream",
     "text": [
      "loss: 1.2213, accuracy: 0.6700: 100%|██████████| 1000/1000 [00:12<00:00, 82.06it/s]\n",
      "loss: 0.7903, accuracy: 0.7300: 100%|██████████| 158/158 [00:01<00:00, 145.08it/s]\n",
      "loss: 1.0482, accuracy: 0.6700:   2%|▏         | 16/1000 [00:00<00:11, 86.09it/s]"
     ]
    },
    {
     "name": "stdout",
     "output_type": "stream",
     "text": [
      "Epoch 1: train_acc_0.6360_train_loss_1.1825_val_acc_0.6837_val_loss_1.0020 epoch time 13.4113 seconds\n",
      "total time0.0 : 26.236433506011963\n"
     ]
    },
    {
     "name": "stderr",
     "output_type": "stream",
     "text": [
      "loss: 0.6827, accuracy: 0.7800: 100%|██████████| 1000/1000 [00:11<00:00, 82.93it/s]\n",
      "loss: 0.8739, accuracy: 0.6900: 100%|██████████| 158/158 [00:01<00:00, 152.56it/s]\n",
      "loss: 1.0844, accuracy: 0.7200:   2%|▏         | 16/1000 [00:00<00:11, 85.99it/s]"
     ]
    },
    {
     "name": "stdout",
     "output_type": "stream",
     "text": [
      "Epoch 2: train_acc_0.7155_train_loss_0.9071_val_acc_0.7377_val_loss_0.8276 epoch time 13.4278 seconds\n",
      "total time0.0 : 39.664209842681885\n"
     ]
    },
    {
     "name": "stderr",
     "output_type": "stream",
     "text": [
      "loss: 0.7679, accuracy: 0.7800: 100%|██████████| 1000/1000 [00:12<00:00, 81.82it/s]\n",
      "loss: 0.6208, accuracy: 0.7800: 100%|██████████| 158/158 [00:01<00:00, 144.33it/s]\n",
      "loss: 0.5092, accuracy: 0.8300:   2%|▏         | 16/1000 [00:00<00:11, 88.03it/s]"
     ]
    },
    {
     "name": "stdout",
     "output_type": "stream",
     "text": [
      "Epoch 3: train_acc_0.7518_train_loss_0.7759_val_acc_0.7670_val_loss_0.7034 epoch time 13.4539 seconds\n",
      "total time0.0 : 53.1180956363678\n"
     ]
    },
    {
     "name": "stderr",
     "output_type": "stream",
     "text": [
      "loss: 0.8723, accuracy: 0.7500: 100%|██████████| 1000/1000 [00:12<00:00, 82.58it/s]\n",
      "loss: 0.6375, accuracy: 0.7900: 100%|██████████| 158/158 [00:01<00:00, 145.39it/s]\n",
      "loss: 0.5003, accuracy: 0.8300:   2%|▏         | 16/1000 [00:00<00:11, 89.44it/s]"
     ]
    },
    {
     "name": "stdout",
     "output_type": "stream",
     "text": [
      "Epoch 4: train_acc_0.7765_train_loss_0.6936_val_acc_0.7787_val_loss_0.6750 epoch time 13.3319 seconds\n",
      "total time1.0 : 6.449975490570068\n"
     ]
    },
    {
     "name": "stderr",
     "output_type": "stream",
     "text": [
      "loss: 0.7085, accuracy: 0.8200: 100%|██████████| 1000/1000 [00:12<00:00, 82.64it/s]\n",
      "loss: 0.5296, accuracy: 0.8200: 100%|██████████| 158/158 [00:01<00:00, 143.61it/s]\n",
      "loss: 0.5438, accuracy: 0.8400:   2%|▏         | 17/1000 [00:00<00:10, 90.40it/s]"
     ]
    },
    {
     "name": "stdout",
     "output_type": "stream",
     "text": [
      "Epoch 5: train_acc_0.7907_train_loss_0.6391_val_acc_0.7965_val_loss_0.6034 epoch time 13.3391 seconds\n",
      "total time1.0 : 19.789109706878662\n"
     ]
    },
    {
     "name": "stderr",
     "output_type": "stream",
     "text": [
      "loss: 0.6367, accuracy: 0.7600: 100%|██████████| 1000/1000 [00:12<00:00, 81.70it/s]\n",
      "loss: 0.5407, accuracy: 0.8200: 100%|██████████| 158/158 [00:01<00:00, 142.86it/s]\n",
      "loss: 0.4276, accuracy: 0.8400:   2%|▏         | 16/1000 [00:00<00:11, 87.25it/s]"
     ]
    },
    {
     "name": "stdout",
     "output_type": "stream",
     "text": [
      "Epoch 6: train_acc_0.8033_train_loss_0.5978_val_acc_0.8071_val_loss_0.5819 epoch time 13.4803 seconds\n",
      "total time1.0 : 33.269373655319214\n"
     ]
    },
    {
     "name": "stderr",
     "output_type": "stream",
     "text": [
      "loss: 0.4325, accuracy: 0.8500: 100%|██████████| 1000/1000 [00:12<00:00, 82.35it/s]\n",
      "loss: 0.4638, accuracy: 0.7900: 100%|██████████| 158/158 [00:01<00:00, 152.97it/s]\n",
      "loss: 0.6873, accuracy: 0.7900:   2%|▏         | 16/1000 [00:00<00:11, 88.17it/s]"
     ]
    },
    {
     "name": "stdout",
     "output_type": "stream",
     "text": [
      "Epoch 7: train_acc_0.8132_train_loss_0.5639_val_acc_0.8156_val_loss_0.5486 epoch time 13.3675 seconds\n",
      "total time1.0 : 46.63691067695618\n"
     ]
    },
    {
     "name": "stderr",
     "output_type": "stream",
     "text": [
      "loss: 0.8363, accuracy: 0.7700: 100%|██████████| 1000/1000 [00:11<00:00, 85.55it/s]\n",
      "loss: 0.6069, accuracy: 0.7800: 100%|██████████| 158/158 [00:01<00:00, 145.33it/s]\n",
      "loss: 0.5351, accuracy: 0.8000:   2%|▏         | 17/1000 [00:00<00:11, 86.73it/s]"
     ]
    },
    {
     "name": "stdout",
     "output_type": "stream",
     "text": [
      "Epoch 8: train_acc_0.8211_train_loss_0.5361_val_acc_0.8216_val_loss_0.5342 epoch time 13.2803 seconds\n",
      "total time1.0 : 59.91722130775452\n"
     ]
    },
    {
     "name": "stderr",
     "output_type": "stream",
     "text": [
      "loss: 0.6376, accuracy: 0.7700: 100%|██████████| 1000/1000 [00:12<00:00, 81.69it/s]\n",
      "loss: 0.5222, accuracy: 0.7800: 100%|██████████| 158/158 [00:01<00:00, 145.39it/s]\n",
      "loss: 0.4533, accuracy: 0.8300:   2%|▏         | 16/1000 [00:00<00:11, 89.19it/s]"
     ]
    },
    {
     "name": "stdout",
     "output_type": "stream",
     "text": [
      "Epoch 9: train_acc_0.8272_train_loss_0.5117_val_acc_0.8261_val_loss_0.5142 epoch time 13.4664 seconds\n",
      "total time2.0 : 13.383618593215942\n"
     ]
    },
    {
     "name": "stderr",
     "output_type": "stream",
     "text": [
      "loss: 0.5328, accuracy: 0.8300: 100%|██████████| 1000/1000 [00:11<00:00, 84.74it/s]\n",
      "loss: 0.5173, accuracy: 0.8400: 100%|██████████| 158/158 [00:01<00:00, 145.60it/s]\n",
      "loss: 0.5952, accuracy: 0.8000:   2%|▏         | 16/1000 [00:00<00:11, 84.86it/s]"
     ]
    },
    {
     "name": "stdout",
     "output_type": "stream",
     "text": [
      "Epoch 10: train_acc_0.8329_train_loss_0.4911_val_acc_0.8331_val_loss_0.4923 epoch time 13.3667 seconds\n",
      "total time2.0 : 26.750290393829346\n"
     ]
    },
    {
     "name": "stderr",
     "output_type": "stream",
     "text": [
      "loss: 0.5086, accuracy: 0.8600: 100%|██████████| 1000/1000 [00:11<00:00, 82.54it/s]\n",
      "loss: 0.4024, accuracy: 0.8500: 100%|██████████| 158/158 [00:01<00:00, 144.70it/s]\n",
      "loss: 0.3188, accuracy: 0.8900:   2%|▏         | 16/1000 [00:00<00:11, 88.10it/s]"
     ]
    },
    {
     "name": "stdout",
     "output_type": "stream",
     "text": [
      "Epoch 11: train_acc_0.8386_train_loss_0.4726_val_acc_0.8416_val_loss_0.4658 epoch time 13.4389 seconds\n",
      "total time2.0 : 40.18918538093567\n"
     ]
    },
    {
     "name": "stderr",
     "output_type": "stream",
     "text": [
      "loss: 0.4654, accuracy: 0.8900: 100%|██████████| 1000/1000 [00:12<00:00, 82.28it/s]\n",
      "loss: 0.3973, accuracy: 0.8600: 100%|██████████| 158/158 [00:01<00:00, 144.27it/s]\n",
      "loss: 0.4449, accuracy: 0.8600:   2%|▏         | 16/1000 [00:00<00:11, 84.27it/s]"
     ]
    },
    {
     "name": "stdout",
     "output_type": "stream",
     "text": [
      "Epoch 12: train_acc_0.8430_train_loss_0.4582_val_acc_0.8465_val_loss_0.4558 epoch time 13.3873 seconds\n",
      "total time2.0 : 53.576521158218384\n"
     ]
    },
    {
     "name": "stderr",
     "output_type": "stream",
     "text": [
      "loss: 0.3642, accuracy: 0.8400: 100%|██████████| 1000/1000 [00:12<00:00, 82.75it/s]\n",
      "loss: 0.5503, accuracy: 0.7900: 100%|██████████| 158/158 [00:01<00:00, 148.05it/s]\n",
      "loss: 0.5325, accuracy: 0.7900:   2%|▏         | 17/1000 [00:00<00:10, 90.42it/s]"
     ]
    },
    {
     "name": "stdout",
     "output_type": "stream",
     "text": [
      "Epoch 13: train_acc_0.8473_train_loss_0.4414_val_acc_0.8399_val_loss_0.4695 epoch time 13.4644 seconds\n",
      "total time3.0 : 7.040942907333374\n"
     ]
    },
    {
     "name": "stderr",
     "output_type": "stream",
     "text": [
      "loss: 0.5040, accuracy: 0.8600: 100%|██████████| 1000/1000 [00:12<00:00, 81.85it/s]\n",
      "loss: 0.3183, accuracy: 0.8900: 100%|██████████| 158/158 [00:01<00:00, 152.91it/s]\n",
      "loss: 0.3472, accuracy: 0.8600:   2%|▏         | 16/1000 [00:00<00:11, 88.01it/s]"
     ]
    },
    {
     "name": "stdout",
     "output_type": "stream",
     "text": [
      "Epoch 14: train_acc_0.8507_train_loss_0.4309_val_acc_0.8525_val_loss_0.4344 epoch time 13.4356 seconds\n",
      "total time3.0 : 20.476523399353027\n"
     ]
    },
    {
     "name": "stderr",
     "output_type": "stream",
     "text": [
      "loss: 0.2984, accuracy: 0.9100: 100%|██████████| 1000/1000 [00:12<00:00, 81.44it/s]\n",
      "loss: 0.4426, accuracy: 0.8400: 100%|██████████| 158/158 [00:01<00:00, 143.83it/s]\n",
      "loss: 0.3646, accuracy: 0.8700:   2%|▏         | 16/1000 [00:00<00:11, 85.87it/s]"
     ]
    },
    {
     "name": "stdout",
     "output_type": "stream",
     "text": [
      "Epoch 15: train_acc_0.8547_train_loss_0.4184_val_acc_0.8476_val_loss_0.4453 epoch time 13.5146 seconds\n",
      "total time3.0 : 33.991135120391846\n"
     ]
    },
    {
     "name": "stderr",
     "output_type": "stream",
     "text": [
      "loss: 0.3873, accuracy: 0.8600: 100%|██████████| 1000/1000 [00:12<00:00, 83.14it/s]\n",
      "loss: 0.6045, accuracy: 0.8200: 100%|██████████| 158/158 [00:01<00:00, 147.77it/s]\n",
      "loss: 0.1979, accuracy: 0.9000:   2%|▏         | 16/1000 [00:00<00:11, 86.15it/s]"
     ]
    },
    {
     "name": "stdout",
     "output_type": "stream",
     "text": [
      "Epoch 16: train_acc_0.8558_train_loss_0.4113_val_acc_0.8513_val_loss_0.4307 epoch time 13.2350 seconds\n",
      "total time3.0 : 47.22610640525818\n"
     ]
    },
    {
     "name": "stderr",
     "output_type": "stream",
     "text": [
      "loss: 0.4137, accuracy: 0.8500: 100%|██████████| 1000/1000 [00:12<00:00, 82.38it/s]\n",
      "loss: 0.3597, accuracy: 0.8700: 100%|██████████| 158/158 [00:01<00:00, 153.95it/s]\n",
      "loss: 0.4887, accuracy: 0.7900:   2%|▏         | 17/1000 [00:00<00:10, 89.85it/s]"
     ]
    },
    {
     "name": "stdout",
     "output_type": "stream",
     "text": [
      "Epoch 17: train_acc_0.8595_train_loss_0.3980_val_acc_0.8488_val_loss_0.4256 epoch time 13.3410 seconds\n",
      "total time4.0 : 0.5670685768127441\n"
     ]
    },
    {
     "name": "stderr",
     "output_type": "stream",
     "text": [
      "loss: 0.2558, accuracy: 0.9100: 100%|██████████| 1000/1000 [00:11<00:00, 85.68it/s]\n",
      "loss: 0.3978, accuracy: 0.8700: 100%|██████████| 158/158 [00:01<00:00, 145.16it/s]\n",
      "loss: 0.4281, accuracy: 0.8500:   2%|▏         | 16/1000 [00:00<00:11, 87.33it/s]"
     ]
    },
    {
     "name": "stdout",
     "output_type": "stream",
     "text": [
      "Epoch 18: train_acc_0.8627_train_loss_0.3895_val_acc_0.8597_val_loss_0.4094 epoch time 12.8941 seconds\n",
      "total time4.0 : 13.461183547973633\n"
     ]
    },
    {
     "name": "stderr",
     "output_type": "stream",
     "text": [
      "loss: 0.2839, accuracy: 0.8800: 100%|██████████| 1000/1000 [00:11<00:00, 85.41it/s]\n",
      "loss: 0.3770, accuracy: 0.8900: 100%|██████████| 158/158 [00:01<00:00, 145.88it/s]\n",
      "loss: 0.4237, accuracy: 0.8800:   2%|▏         | 16/1000 [00:00<00:11, 88.94it/s]"
     ]
    },
    {
     "name": "stdout",
     "output_type": "stream",
     "text": [
      "Epoch 19: train_acc_0.8644_train_loss_0.3810_val_acc_0.8609_val_loss_0.4066 epoch time 13.1506 seconds\n",
      "total time4.0 : 26.61180019378662\n"
     ]
    },
    {
     "name": "stderr",
     "output_type": "stream",
     "text": [
      "loss: 0.4307, accuracy: 0.8700: 100%|██████████| 1000/1000 [00:11<00:00, 83.66it/s]\n",
      "loss: 0.2948, accuracy: 0.8800: 100%|██████████| 158/158 [00:01<00:00, 144.76it/s]\n",
      "loss: 0.2219, accuracy: 0.9100:   2%|▏         | 17/1000 [00:00<00:10, 89.97it/s]"
     ]
    },
    {
     "name": "stdout",
     "output_type": "stream",
     "text": [
      "Epoch 20: train_acc_0.8666_train_loss_0.3750_val_acc_0.8585_val_loss_0.4048 epoch time 13.1821 seconds\n",
      "total time4.0 : 39.793882846832275\n"
     ]
    },
    {
     "name": "stderr",
     "output_type": "stream",
     "text": [
      "loss: 0.2160, accuracy: 0.9200: 100%|██████████| 1000/1000 [00:11<00:00, 83.50it/s]\n",
      "loss: 0.5055, accuracy: 0.8200: 100%|██████████| 158/158 [00:01<00:00, 146.81it/s]\n",
      "loss: 0.4143, accuracy: 0.8300:   2%|▏         | 16/1000 [00:00<00:11, 87.44it/s]"
     ]
    },
    {
     "name": "stdout",
     "output_type": "stream",
     "text": [
      "Epoch 21: train_acc_0.8691_train_loss_0.3658_val_acc_0.8599_val_loss_0.3978 epoch time 13.1877 seconds\n",
      "total time4.0 : 52.981555223464966\n"
     ]
    },
    {
     "name": "stderr",
     "output_type": "stream",
     "text": [
      "loss: 0.2622, accuracy: 0.9100: 100%|██████████| 1000/1000 [00:11<00:00, 85.31it/s]\n",
      "loss: 0.4062, accuracy: 0.8400: 100%|██████████| 158/158 [00:01<00:00, 149.08it/s]\n",
      "loss: 0.3340, accuracy: 0.8800:   2%|▏         | 16/1000 [00:00<00:11, 87.79it/s]"
     ]
    },
    {
     "name": "stdout",
     "output_type": "stream",
     "text": [
      "Epoch 22: train_acc_0.8716_train_loss_0.3583_val_acc_0.8583_val_loss_0.3988 epoch time 12.9156 seconds\n",
      "total time5.0 : 5.897180080413818\n"
     ]
    },
    {
     "name": "stderr",
     "output_type": "stream",
     "text": [
      "loss: 0.3611, accuracy: 0.8600: 100%|██████████| 1000/1000 [00:11<00:00, 83.65it/s]\n",
      "loss: 0.4444, accuracy: 0.8200: 100%|██████████| 158/158 [00:01<00:00, 146.61it/s]\n",
      "loss: 0.2078, accuracy: 0.9200:   2%|▏         | 17/1000 [00:00<00:10, 91.09it/s]"
     ]
    },
    {
     "name": "stdout",
     "output_type": "stream",
     "text": [
      "Epoch 23: train_acc_0.8728_train_loss_0.3543_val_acc_0.8627_val_loss_0.3930 epoch time 13.1709 seconds\n",
      "total time5.0 : 19.068115711212158\n"
     ]
    },
    {
     "name": "stderr",
     "output_type": "stream",
     "text": [
      "loss: 0.3554, accuracy: 0.9000: 100%|██████████| 1000/1000 [00:11<00:00, 84.28it/s]\n",
      "loss: 0.5954, accuracy: 0.8300: 100%|██████████| 158/158 [00:01<00:00, 147.93it/s]\n",
      "loss: 0.3179, accuracy: 0.8600:   2%|▏         | 17/1000 [00:00<00:10, 95.40it/s]"
     ]
    },
    {
     "name": "stdout",
     "output_type": "stream",
     "text": [
      "Epoch 24: train_acc_0.8743_train_loss_0.3489_val_acc_0.8560_val_loss_0.4115 epoch time 13.0679 seconds\n",
      "total time5.0 : 32.13600707054138\n"
     ]
    },
    {
     "name": "stderr",
     "output_type": "stream",
     "text": [
      "loss: 0.3192, accuracy: 0.9100: 100%|██████████| 1000/1000 [00:11<00:00, 83.88it/s]\n",
      "loss: 0.3193, accuracy: 0.9200: 100%|██████████| 158/158 [00:01<00:00, 147.54it/s]\n",
      "loss: 0.2908, accuracy: 0.9000:   2%|▏         | 16/1000 [00:00<00:11, 87.71it/s]"
     ]
    },
    {
     "name": "stdout",
     "output_type": "stream",
     "text": [
      "Epoch 25: train_acc_0.8763_train_loss_0.3426_val_acc_0.8656_val_loss_0.3889 epoch time 13.1290 seconds\n",
      "total time5.0 : 45.264994859695435\n"
     ]
    },
    {
     "name": "stderr",
     "output_type": "stream",
     "text": [
      "loss: 0.3068, accuracy: 0.8900: 100%|██████████| 1000/1000 [00:11<00:00, 84.06it/s]\n",
      "loss: 0.2727, accuracy: 0.8800: 100%|██████████| 158/158 [00:01<00:00, 146.69it/s]\n",
      "loss: 0.2509, accuracy: 0.9200:   2%|▏         | 16/1000 [00:00<00:11, 88.00it/s]"
     ]
    },
    {
     "name": "stdout",
     "output_type": "stream",
     "text": [
      "Epoch 26: train_acc_0.8783_train_loss_0.3349_val_acc_0.8654_val_loss_0.3843 epoch time 13.1077 seconds\n",
      "total time5.0 : 58.372732162475586\n"
     ]
    },
    {
     "name": "stderr",
     "output_type": "stream",
     "text": [
      "loss: 0.2999, accuracy: 0.9000: 100%|██████████| 1000/1000 [00:11<00:00, 85.90it/s]\n",
      "loss: 0.3125, accuracy: 0.9000: 100%|██████████| 158/158 [00:01<00:00, 146.05it/s]\n",
      "loss: 0.2828, accuracy: 0.8700:   2%|▏         | 16/1000 [00:00<00:11, 88.45it/s]"
     ]
    },
    {
     "name": "stdout",
     "output_type": "stream",
     "text": [
      "Epoch 27: train_acc_0.8792_train_loss_0.3312_val_acc_0.8669_val_loss_0.3879 epoch time 13.1643 seconds\n",
      "total time6.0 : 11.5369873046875\n"
     ]
    },
    {
     "name": "stderr",
     "output_type": "stream",
     "text": [
      "loss: 0.2968, accuracy: 0.8700: 100%|██████████| 1000/1000 [00:11<00:00, 83.93it/s]\n",
      "loss: 0.4327, accuracy: 0.8300: 100%|██████████| 158/158 [00:01<00:00, 155.58it/s]\n",
      "loss: 0.3200, accuracy: 0.8700:   2%|▏         | 16/1000 [00:00<00:11, 87.25it/s]"
     ]
    },
    {
     "name": "stdout",
     "output_type": "stream",
     "text": [
      "Epoch 28: train_acc_0.8812_train_loss_0.3253_val_acc_0.8617_val_loss_0.3866 epoch time 13.1241 seconds\n",
      "total time6.0 : 24.66104292869568\n"
     ]
    },
    {
     "name": "stderr",
     "output_type": "stream",
     "text": [
      "loss: 0.2333, accuracy: 0.9400: 100%|██████████| 1000/1000 [00:11<00:00, 83.84it/s]\n",
      "loss: 0.3169, accuracy: 0.9000: 100%|██████████| 158/158 [00:01<00:00, 146.55it/s]\n",
      "loss: 0.2962, accuracy: 0.8700:   2%|▏         | 16/1000 [00:00<00:11, 87.63it/s]"
     ]
    },
    {
     "name": "stdout",
     "output_type": "stream",
     "text": [
      "Epoch 29: train_acc_0.8828_train_loss_0.3203_val_acc_0.8649_val_loss_0.3872 epoch time 13.1401 seconds\n",
      "total time6.0 : 37.8011109828949\n"
     ]
    },
    {
     "name": "stderr",
     "output_type": "stream",
     "text": [
      "loss: 0.2888, accuracy: 0.9200: 100%|██████████| 1000/1000 [00:11<00:00, 83.91it/s]\n",
      "loss: 0.2926, accuracy: 0.8900: 100%|██████████| 158/158 [00:01<00:00, 145.94it/s]\n",
      "loss: 0.2725, accuracy: 0.8800:   2%|▏         | 17/1000 [00:00<00:11, 89.27it/s]"
     ]
    },
    {
     "name": "stdout",
     "output_type": "stream",
     "text": [
      "Epoch 30: train_acc_0.8848_train_loss_0.3153_val_acc_0.8672_val_loss_0.3831 epoch time 13.1360 seconds\n",
      "total time6.0 : 50.93714928627014\n"
     ]
    },
    {
     "name": "stderr",
     "output_type": "stream",
     "text": [
      "loss: 0.2283, accuracy: 0.9300: 100%|██████████| 1000/1000 [00:11<00:00, 83.55it/s]\n",
      "loss: 0.3582, accuracy: 0.8900: 100%|██████████| 158/158 [00:01<00:00, 152.48it/s]\n",
      "loss: 0.4521, accuracy: 0.8900:   2%|▏         | 16/1000 [00:00<00:11, 86.42it/s]"
     ]
    },
    {
     "name": "stdout",
     "output_type": "stream",
     "text": [
      "Epoch 31: train_acc_0.8856_train_loss_0.3106_val_acc_0.8665_val_loss_0.3854 epoch time 13.1764 seconds\n",
      "total time7.0 : 4.11353325843811\n"
     ]
    },
    {
     "name": "stderr",
     "output_type": "stream",
     "text": [
      "loss: 0.2739, accuracy: 0.9200: 100%|██████████| 1000/1000 [00:11<00:00, 85.84it/s]\n",
      "loss: 0.3353, accuracy: 0.9000: 100%|██████████| 158/158 [00:01<00:00, 151.62it/s]\n",
      "loss: 0.2727, accuracy: 0.9000:   2%|▏         | 17/1000 [00:00<00:11, 87.44it/s]"
     ]
    },
    {
     "name": "stdout",
     "output_type": "stream",
     "text": [
      "Epoch 32: train_acc_0.8870_train_loss_0.3075_val_acc_0.8659_val_loss_0.3845 epoch time 13.0595 seconds\n",
      "total time7.0 : 17.1729998588562\n"
     ]
    },
    {
     "name": "stderr",
     "output_type": "stream",
     "text": [
      "loss: 0.3791, accuracy: 0.8800: 100%|██████████| 1000/1000 [00:12<00:00, 83.30it/s]\n",
      "loss: 0.5139, accuracy: 0.8800: 100%|██████████| 158/158 [00:01<00:00, 145.92it/s]\n",
      "loss: 0.4489, accuracy: 0.8500:   2%|▏         | 17/1000 [00:00<00:10, 90.10it/s]"
     ]
    },
    {
     "name": "stdout",
     "output_type": "stream",
     "text": [
      "Epoch 33: train_acc_0.8886_train_loss_0.3017_val_acc_0.8599_val_loss_0.3927 epoch time 13.2242 seconds\n",
      "total time7.0 : 30.397176504135132\n"
     ]
    },
    {
     "name": "stderr",
     "output_type": "stream",
     "text": [
      "loss: 0.1757, accuracy: 0.9300: 100%|██████████| 1000/1000 [00:11<00:00, 83.85it/s]\n",
      "loss: 0.5050, accuracy: 0.8600: 100%|██████████| 158/158 [00:01<00:00, 145.16it/s]\n",
      "loss: 0.1884, accuracy: 0.9300:   2%|▏         | 17/1000 [00:00<00:10, 89.51it/s]"
     ]
    },
    {
     "name": "stdout",
     "output_type": "stream",
     "text": [
      "Epoch 34: train_acc_0.8902_train_loss_0.2977_val_acc_0.8648_val_loss_0.3928 epoch time 13.1492 seconds\n",
      "total time7.0 : 43.54640436172485\n"
     ]
    },
    {
     "name": "stderr",
     "output_type": "stream",
     "text": [
      "loss: 0.2814, accuracy: 0.9100: 100%|██████████| 1000/1000 [00:11<00:00, 84.15it/s]\n",
      "loss: 0.7277, accuracy: 0.8500: 100%|██████████| 158/158 [00:01<00:00, 145.30it/s]\n",
      "loss: 0.2829, accuracy: 0.9300:   2%|▏         | 16/1000 [00:00<00:11, 87.56it/s]"
     ]
    },
    {
     "name": "stdout",
     "output_type": "stream",
     "text": [
      "Epoch 35: train_acc_0.8906_train_loss_0.2936_val_acc_0.8661_val_loss_0.3943 epoch time 13.1069 seconds\n",
      "total time7.0 : 56.653321266174316\n"
     ]
    },
    {
     "name": "stderr",
     "output_type": "stream",
     "text": [
      "loss: 0.1527, accuracy: 0.9500: 100%|██████████| 1000/1000 [00:11<00:00, 84.09it/s]\n",
      "loss: 0.3958, accuracy: 0.8400: 100%|██████████| 158/158 [00:01<00:00, 147.47it/s]\n",
      "loss: 0.2929, accuracy: 0.9000:   2%|▏         | 17/1000 [00:00<00:11, 88.31it/s]"
     ]
    },
    {
     "name": "stdout",
     "output_type": "stream",
     "text": [
      "Epoch 36: train_acc_0.8915_train_loss_0.2898_val_acc_0.8670_val_loss_0.3844 epoch time 13.1018 seconds\n",
      "total time8.0 : 9.755141973495483\n"
     ]
    },
    {
     "name": "stderr",
     "output_type": "stream",
     "text": [
      "loss: 0.3255, accuracy: 0.8900: 100%|██████████| 1000/1000 [00:11<00:00, 83.78it/s]\n",
      "loss: 0.3564, accuracy: 0.9200: 100%|██████████| 158/158 [00:01<00:00, 144.95it/s]\n",
      "loss: 0.3375, accuracy: 0.8600:   2%|▏         | 17/1000 [00:00<00:11, 87.83it/s]"
     ]
    },
    {
     "name": "stdout",
     "output_type": "stream",
     "text": [
      "Epoch 37: train_acc_0.8922_train_loss_0.2858_val_acc_0.8640_val_loss_0.3906 epoch time 13.1615 seconds\n",
      "total time8.0 : 22.916648387908936\n"
     ]
    },
    {
     "name": "stderr",
     "output_type": "stream",
     "text": [
      "loss: 0.1851, accuracy: 0.9400: 100%|██████████| 1000/1000 [00:11<00:00, 84.05it/s]\n",
      "loss: 0.2723, accuracy: 0.9100: 100%|██████████| 158/158 [00:01<00:00, 144.36it/s]\n",
      "loss: 0.2662, accuracy: 0.8700:   2%|▏         | 16/1000 [00:00<00:11, 88.43it/s]"
     ]
    },
    {
     "name": "stdout",
     "output_type": "stream",
     "text": [
      "Epoch 38: train_acc_0.8925_train_loss_0.2826_val_acc_0.8690_val_loss_0.3863 epoch time 13.1268 seconds\n",
      "total time8.0 : 36.04349708557129\n"
     ]
    },
    {
     "name": "stderr",
     "output_type": "stream",
     "text": [
      "loss: 0.3124, accuracy: 0.8700: 100%|██████████| 1000/1000 [00:11<00:00, 85.65it/s]\n",
      "loss: 0.2737, accuracy: 0.9000: 100%|██████████| 158/158 [00:01<00:00, 154.85it/s]\n",
      "loss: 0.1978, accuracy: 0.9000:   2%|▏         | 16/1000 [00:00<00:11, 88.52it/s]"
     ]
    },
    {
     "name": "stdout",
     "output_type": "stream",
     "text": [
      "Epoch 39: train_acc_0.8954_train_loss_0.2783_val_acc_0.8666_val_loss_0.3825 epoch time 13.1081 seconds\n",
      "total time8.0 : 49.15161657333374\n"
     ]
    },
    {
     "name": "stderr",
     "output_type": "stream",
     "text": [
      "loss: 0.2129, accuracy: 0.9200: 100%|██████████| 1000/1000 [00:11<00:00, 83.92it/s]\n",
      "loss: 0.3769, accuracy: 0.8500: 100%|██████████| 158/158 [00:01<00:00, 145.99it/s]\n",
      "loss: 0.3357, accuracy: 0.8800:   2%|▏         | 17/1000 [00:00<00:11, 87.84it/s]"
     ]
    },
    {
     "name": "stdout",
     "output_type": "stream",
     "text": [
      "Epoch 40: train_acc_0.8965_train_loss_0.2736_val_acc_0.8715_val_loss_0.3811 epoch time 13.1339 seconds\n",
      "total time9.0 : 2.285508155822754\n"
     ]
    },
    {
     "name": "stderr",
     "output_type": "stream",
     "text": [
      "loss: 0.2317, accuracy: 0.8800: 100%|██████████| 1000/1000 [00:11<00:00, 84.90it/s]\n",
      "loss: 0.3111, accuracy: 0.9000: 100%|██████████| 158/158 [00:01<00:00, 148.08it/s]\n",
      "loss: 0.3741, accuracy: 0.9000:   2%|▏         | 18/1000 [00:00<00:10, 95.54it/s]"
     ]
    },
    {
     "name": "stdout",
     "output_type": "stream",
     "text": [
      "Epoch 41: train_acc_0.8976_train_loss_0.2712_val_acc_0.8713_val_loss_0.3810 epoch time 12.9779 seconds\n",
      "total time9.0 : 15.263439178466797\n"
     ]
    },
    {
     "name": "stderr",
     "output_type": "stream",
     "text": [
      "loss: 0.2264, accuracy: 0.9300: 100%|██████████| 1000/1000 [00:11<00:00, 84.66it/s]\n",
      "loss: 0.2949, accuracy: 0.8900: 100%|██████████| 158/158 [00:01<00:00, 148.55it/s]\n",
      "loss: 0.1777, accuracy: 0.9300:   2%|▏         | 17/1000 [00:00<00:10, 92.40it/s]"
     ]
    },
    {
     "name": "stdout",
     "output_type": "stream",
     "text": [
      "Epoch 42: train_acc_0.8977_train_loss_0.2669_val_acc_0.8651_val_loss_0.3885 epoch time 13.0138 seconds\n",
      "total time9.0 : 28.27719235420227\n"
     ]
    },
    {
     "name": "stderr",
     "output_type": "stream",
     "text": [
      "loss: 0.3469, accuracy: 0.8600: 100%|██████████| 1000/1000 [00:11<00:00, 83.86it/s]\n",
      "loss: 0.6084, accuracy: 0.8300: 100%|██████████| 158/158 [00:01<00:00, 147.94it/s]\n",
      "loss: 0.2104, accuracy: 0.9300:   2%|▏         | 16/1000 [00:00<00:10, 89.73it/s]"
     ]
    },
    {
     "name": "stdout",
     "output_type": "stream",
     "text": [
      "Epoch 43: train_acc_0.8989_train_loss_0.2646_val_acc_0.8698_val_loss_0.3851 epoch time 13.1293 seconds\n",
      "total time9.0 : 41.406479358673096\n"
     ]
    },
    {
     "name": "stderr",
     "output_type": "stream",
     "text": [
      "loss: 0.3888, accuracy: 0.8400: 100%|██████████| 1000/1000 [00:11<00:00, 87.21it/s]\n",
      "loss: 0.4527, accuracy: 0.8600: 100%|██████████| 158/158 [00:01<00:00, 145.89it/s]\n",
      "loss: 0.2799, accuracy: 0.8900:   2%|▏         | 17/1000 [00:00<00:10, 89.55it/s]"
     ]
    },
    {
     "name": "stdout",
     "output_type": "stream",
     "text": [
      "Epoch 44: train_acc_0.9000_train_loss_0.2608_val_acc_0.8698_val_loss_0.3807 epoch time 13.1308 seconds\n",
      "total time9.0 : 54.53724217414856\n"
     ]
    },
    {
     "name": "stderr",
     "output_type": "stream",
     "text": [
      "loss: 0.1925, accuracy: 0.9400: 100%|██████████| 1000/1000 [00:11<00:00, 83.88it/s]\n",
      "loss: 0.5341, accuracy: 0.8600: 100%|██████████| 158/158 [00:01<00:00, 149.76it/s]\n",
      "loss: 0.2797, accuracy: 0.9100:   2%|▏         | 17/1000 [00:00<00:10, 89.40it/s]"
     ]
    },
    {
     "name": "stdout",
     "output_type": "stream",
     "text": [
      "Epoch 45: train_acc_0.9008_train_loss_0.2582_val_acc_0.8708_val_loss_0.3882 epoch time 13.1150 seconds\n",
      "total time10.0 : 7.652285099029541\n"
     ]
    },
    {
     "name": "stderr",
     "output_type": "stream",
     "text": [
      "loss: 0.2831, accuracy: 0.8400: 100%|██████████| 1000/1000 [00:11<00:00, 84.58it/s]\n",
      "loss: 0.5465, accuracy: 0.8900: 100%|██████████| 158/158 [00:01<00:00, 145.41it/s]\n",
      "loss: 0.3045, accuracy: 0.8600:   2%|▏         | 16/1000 [00:00<00:11, 87.81it/s]"
     ]
    },
    {
     "name": "stdout",
     "output_type": "stream",
     "text": [
      "Epoch 46: train_acc_0.9019_train_loss_0.2546_val_acc_0.8701_val_loss_0.3878 epoch time 13.0451 seconds\n",
      "total time10.0 : 20.697389125823975\n"
     ]
    },
    {
     "name": "stderr",
     "output_type": "stream",
     "text": [
      "loss: 0.2356, accuracy: 0.9100: 100%|██████████| 1000/1000 [00:11<00:00, 85.07it/s]\n",
      "loss: 0.5186, accuracy: 0.8500: 100%|██████████| 158/158 [00:01<00:00, 152.06it/s]\n",
      "loss: 0.2043, accuracy: 0.9200:   2%|▏         | 17/1000 [00:00<00:11, 89.32it/s]"
     ]
    },
    {
     "name": "stdout",
     "output_type": "stream",
     "text": [
      "Epoch 47: train_acc_0.9029_train_loss_0.2522_val_acc_0.8672_val_loss_0.4013 epoch time 13.1850 seconds\n",
      "total time10.0 : 33.88238835334778\n"
     ]
    },
    {
     "name": "stderr",
     "output_type": "stream",
     "text": [
      "loss: 0.2598, accuracy: 0.8900: 100%|██████████| 1000/1000 [00:11<00:00, 83.86it/s]\n",
      "loss: 0.4402, accuracy: 0.8800: 100%|██████████| 158/158 [00:01<00:00, 147.68it/s]\n",
      "loss: 0.3015, accuracy: 0.8700:   2%|▏         | 17/1000 [00:00<00:10, 92.67it/s]"
     ]
    },
    {
     "name": "stdout",
     "output_type": "stream",
     "text": [
      "Epoch 48: train_acc_0.9048_train_loss_0.2490_val_acc_0.8647_val_loss_0.4011 epoch time 13.1315 seconds\n",
      "total time10.0 : 47.013877868652344\n"
     ]
    },
    {
     "name": "stderr",
     "output_type": "stream",
     "text": [
      "loss: 0.2474, accuracy: 0.9100: 100%|██████████| 1000/1000 [00:11<00:00, 83.76it/s]\n",
      "loss: 0.3444, accuracy: 0.8500: 100%|██████████| 158/158 [00:01<00:00, 145.61it/s]\n",
      "loss: 0.1656, accuracy: 0.9300:   2%|▏         | 16/1000 [00:00<00:11, 84.41it/s]"
     ]
    },
    {
     "name": "stdout",
     "output_type": "stream",
     "text": [
      "Epoch 49: train_acc_0.9039_train_loss_0.2473_val_acc_0.8673_val_loss_0.4054 epoch time 13.1615 seconds\n",
      "total time11.0 : 0.17538809776306152\n"
     ]
    },
    {
     "name": "stderr",
     "output_type": "stream",
     "text": [
      "loss: 0.2046, accuracy: 0.9200: 100%|██████████| 1000/1000 [00:11<00:00, 85.92it/s]\n",
      "loss: 0.3469, accuracy: 0.8800: 100%|██████████| 158/158 [00:01<00:00, 153.26it/s]\n",
      "loss: 0.3317, accuracy: 0.9100:   2%|▏         | 16/1000 [00:00<00:11, 88.25it/s]"
     ]
    },
    {
     "name": "stdout",
     "output_type": "stream",
     "text": [
      "Epoch 50: train_acc_0.9059_train_loss_0.2428_val_acc_0.8693_val_loss_0.3994 epoch time 13.0987 seconds\n",
      "total time11.0 : 13.274095296859741\n"
     ]
    },
    {
     "name": "stderr",
     "output_type": "stream",
     "text": [
      "loss: 0.2299, accuracy: 0.9000: 100%|██████████| 1000/1000 [00:11<00:00, 84.26it/s]\n",
      "loss: 0.3226, accuracy: 0.8300: 100%|██████████| 158/158 [00:01<00:00, 152.76it/s]\n",
      "loss: 0.2135, accuracy: 0.9200:   2%|▏         | 16/1000 [00:00<00:11, 85.41it/s]"
     ]
    },
    {
     "name": "stdout",
     "output_type": "stream",
     "text": [
      "Epoch 51: train_acc_0.9068_train_loss_0.2405_val_acc_0.8656_val_loss_0.4015 epoch time 13.0853 seconds\n",
      "total time11.0 : 26.359354734420776\n"
     ]
    },
    {
     "name": "stderr",
     "output_type": "stream",
     "text": [
      "loss: 0.2628, accuracy: 0.8600: 100%|██████████| 1000/1000 [00:11<00:00, 84.14it/s]\n",
      "loss: 0.3812, accuracy: 0.8700: 100%|██████████| 158/158 [00:01<00:00, 145.70it/s]\n",
      "loss: 0.1860, accuracy: 0.9000:   2%|▏         | 16/1000 [00:00<00:11, 86.84it/s]"
     ]
    },
    {
     "name": "stdout",
     "output_type": "stream",
     "text": [
      "Epoch 52: train_acc_0.9071_train_loss_0.2370_val_acc_0.8697_val_loss_0.3923 epoch time 13.1065 seconds\n",
      "total time11.0 : 39.46582269668579\n"
     ]
    },
    {
     "name": "stderr",
     "output_type": "stream",
     "text": [
      "loss: 0.1550, accuracy: 0.9300: 100%|██████████| 1000/1000 [00:11<00:00, 84.01it/s]\n",
      "loss: 0.3843, accuracy: 0.8500: 100%|██████████| 158/158 [00:01<00:00, 145.84it/s]\n",
      "loss: 0.1393, accuracy: 0.9200:   2%|▏         | 17/1000 [00:00<00:11, 88.18it/s]"
     ]
    },
    {
     "name": "stdout",
     "output_type": "stream",
     "text": [
      "Epoch 53: train_acc_0.9084_train_loss_0.2350_val_acc_0.8689_val_loss_0.4023 epoch time 13.1222 seconds\n",
      "total time11.0 : 52.58802247047424\n"
     ]
    },
    {
     "name": "stderr",
     "output_type": "stream",
     "text": [
      "loss: 0.2372, accuracy: 0.9100: 100%|██████████| 1000/1000 [00:11<00:00, 84.12it/s]\n",
      "loss: 0.3261, accuracy: 0.9100: 100%|██████████| 158/158 [00:01<00:00, 147.18it/s]\n",
      "loss: 0.1863, accuracy: 0.9000:   2%|▏         | 17/1000 [00:00<00:10, 89.83it/s]"
     ]
    },
    {
     "name": "stdout",
     "output_type": "stream",
     "text": [
      "Epoch 54: train_acc_0.9083_train_loss_0.2319_val_acc_0.8644_val_loss_0.4058 epoch time 13.0969 seconds\n",
      "total time12.0 : 5.684938430786133\n"
     ]
    },
    {
     "name": "stderr",
     "output_type": "stream",
     "text": [
      "loss: 0.1951, accuracy: 0.9400: 100%|██████████| 1000/1000 [00:12<00:00, 83.29it/s]\n",
      "loss: 0.6097, accuracy: 0.8700: 100%|██████████| 158/158 [00:01<00:00, 147.45it/s]\n",
      "loss: 0.1894, accuracy: 0.9200:   2%|▏         | 16/1000 [00:00<00:11, 87.50it/s]"
     ]
    },
    {
     "name": "stdout",
     "output_type": "stream",
     "text": [
      "Epoch 55: train_acc_0.9106_train_loss_0.2296_val_acc_0.8639_val_loss_0.4166 epoch time 13.2143 seconds\n",
      "total time12.0 : 18.899288415908813\n"
     ]
    },
    {
     "name": "stderr",
     "output_type": "stream",
     "text": [
      "loss: 0.2854, accuracy: 0.8500: 100%|██████████| 1000/1000 [00:11<00:00, 83.86it/s]\n",
      "loss: 0.6836, accuracy: 0.8000: 100%|██████████| 158/158 [00:01<00:00, 145.78it/s]\n",
      "loss: 0.2050, accuracy: 0.9200:   2%|▏         | 17/1000 [00:00<00:10, 91.09it/s]"
     ]
    },
    {
     "name": "stdout",
     "output_type": "stream",
     "text": [
      "Epoch 56: train_acc_0.9102_train_loss_0.2268_val_acc_0.8664_val_loss_0.4138 epoch time 13.1431 seconds\n",
      "total time12.0 : 32.04241442680359\n"
     ]
    },
    {
     "name": "stderr",
     "output_type": "stream",
     "text": [
      "loss: 0.2259, accuracy: 0.9200: 100%|██████████| 1000/1000 [00:11<00:00, 84.37it/s]\n",
      "loss: 0.3592, accuracy: 0.8800: 100%|██████████| 158/158 [00:01<00:00, 145.55it/s]\n",
      "loss: 0.1319, accuracy: 0.9500:   2%|▏         | 16/1000 [00:00<00:11, 87.95it/s]"
     ]
    },
    {
     "name": "stdout",
     "output_type": "stream",
     "text": [
      "Epoch 57: train_acc_0.9108_train_loss_0.2251_val_acc_0.8706_val_loss_0.4002 epoch time 13.0762 seconds\n",
      "total time12.0 : 45.11857509613037\n"
     ]
    },
    {
     "name": "stderr",
     "output_type": "stream",
     "text": [
      "loss: 0.2589, accuracy: 0.9000: 100%|██████████| 1000/1000 [00:11<00:00, 84.09it/s]\n",
      "loss: 0.2596, accuracy: 0.8900: 100%|██████████| 158/158 [00:01<00:00, 148.22it/s]\n",
      "loss: 0.1779, accuracy: 0.9400:   2%|▏         | 17/1000 [00:00<00:10, 92.16it/s]"
     ]
    },
    {
     "name": "stdout",
     "output_type": "stream",
     "text": [
      "Epoch 58: train_acc_0.9117_train_loss_0.2217_val_acc_0.8653_val_loss_0.4209 epoch time 13.0946 seconds\n",
      "total time12.0 : 58.21321773529053\n"
     ]
    },
    {
     "name": "stderr",
     "output_type": "stream",
     "text": [
      "loss: 0.2105, accuracy: 0.9100: 100%|██████████| 1000/1000 [00:11<00:00, 83.92it/s]\n",
      "loss: 0.3082, accuracy: 0.8700: 100%|██████████| 158/158 [00:01<00:00, 145.03it/s]\n",
      "loss: 0.1683, accuracy: 0.9400:   2%|▏         | 17/1000 [00:00<00:10, 89.53it/s]"
     ]
    },
    {
     "name": "stdout",
     "output_type": "stream",
     "text": [
      "Epoch 59: train_acc_0.9131_train_loss_0.2184_val_acc_0.8698_val_loss_0.4075 epoch time 13.1414 seconds\n",
      "total time13.0 : 11.354614019393921\n"
     ]
    },
    {
     "name": "stderr",
     "output_type": "stream",
     "text": [
      "loss: 0.2456, accuracy: 0.9100: 100%|██████████| 1000/1000 [00:11<00:00, 83.99it/s]\n",
      "loss: 0.4025, accuracy: 0.8300: 100%|██████████| 158/158 [00:01<00:00, 151.51it/s]\n",
      "loss: 0.1304, accuracy: 0.9500:   2%|▏         | 17/1000 [00:00<00:10, 91.33it/s]"
     ]
    },
    {
     "name": "stdout",
     "output_type": "stream",
     "text": [
      "Epoch 60: train_acc_0.9129_train_loss_0.2168_val_acc_0.8653_val_loss_0.4123 epoch time 13.1257 seconds\n",
      "total time13.0 : 24.480308532714844\n"
     ]
    },
    {
     "name": "stderr",
     "output_type": "stream",
     "text": [
      "loss: 0.2339, accuracy: 0.9100: 100%|██████████| 1000/1000 [00:11<00:00, 83.90it/s]\n",
      "loss: 0.4176, accuracy: 0.8100: 100%|██████████| 158/158 [00:01<00:00, 145.93it/s]\n",
      "loss: 0.1442, accuracy: 0.9400:   2%|▏         | 16/1000 [00:00<00:11, 87.47it/s]"
     ]
    },
    {
     "name": "stdout",
     "output_type": "stream",
     "text": [
      "Epoch 61: train_acc_0.9145_train_loss_0.2132_val_acc_0.8685_val_loss_0.4188 epoch time 13.1385 seconds\n",
      "total time13.0 : 37.61883783340454\n"
     ]
    },
    {
     "name": "stderr",
     "output_type": "stream",
     "text": [
      "loss: 0.2231, accuracy: 0.9200: 100%|██████████| 1000/1000 [00:11<00:00, 86.19it/s]\n",
      "loss: 0.4451, accuracy: 0.8600: 100%|██████████| 158/158 [00:01<00:00, 147.29it/s]\n",
      "loss: 0.2030, accuracy: 0.9300:   2%|▏         | 16/1000 [00:00<00:11, 87.23it/s]"
     ]
    },
    {
     "name": "stdout",
     "output_type": "stream",
     "text": [
      "Epoch 62: train_acc_0.9163_train_loss_0.2104_val_acc_0.8636_val_loss_0.4246 epoch time 13.0872 seconds\n",
      "total time13.0 : 50.70608377456665\n"
     ]
    },
    {
     "name": "stderr",
     "output_type": "stream",
     "text": [
      "loss: 0.2122, accuracy: 0.9100: 100%|██████████| 1000/1000 [00:11<00:00, 84.08it/s]\n",
      "loss: 0.4327, accuracy: 0.8600: 100%|██████████| 158/158 [00:01<00:00, 146.31it/s]\n",
      "loss: 0.1511, accuracy: 0.9500:   2%|▏         | 16/1000 [00:00<00:11, 86.34it/s]"
     ]
    },
    {
     "name": "stdout",
     "output_type": "stream",
     "text": [
      "Epoch 63: train_acc_0.9162_train_loss_0.2101_val_acc_0.8669_val_loss_0.4149 epoch time 13.1087 seconds\n",
      "total time14.0 : 3.8147804737091064\n"
     ]
    },
    {
     "name": "stderr",
     "output_type": "stream",
     "text": [
      "loss: 0.3348, accuracy: 0.8400: 100%|██████████| 1000/1000 [00:11<00:00, 84.14it/s]\n",
      "loss: 0.5312, accuracy: 0.8400: 100%|██████████| 158/158 [00:01<00:00, 148.19it/s]\n",
      "loss: 0.2498, accuracy: 0.8500:   2%|▏         | 17/1000 [00:00<00:11, 89.10it/s]"
     ]
    },
    {
     "name": "stdout",
     "output_type": "stream",
     "text": [
      "Epoch 64: train_acc_0.9168_train_loss_0.2066_val_acc_0.8582_val_loss_0.4426 epoch time 13.0861 seconds\n",
      "total time14.0 : 16.90087580680847\n"
     ]
    },
    {
     "name": "stderr",
     "output_type": "stream",
     "text": [
      "loss: 0.2337, accuracy: 0.9300: 100%|██████████| 1000/1000 [00:11<00:00, 90.47it/s]\n",
      "loss: 0.3571, accuracy: 0.8700: 100%|██████████| 158/158 [00:01<00:00, 147.34it/s]\n",
      "loss: 0.2315, accuracy: 0.9000:   2%|▏         | 17/1000 [00:00<00:11, 88.77it/s]"
     ]
    },
    {
     "name": "stdout",
     "output_type": "stream",
     "text": [
      "Epoch 65: train_acc_0.9166_train_loss_0.2059_val_acc_0.8637_val_loss_0.4245 epoch time 12.7309 seconds\n",
      "total time14.0 : 29.63180136680603\n"
     ]
    },
    {
     "name": "stderr",
     "output_type": "stream",
     "text": [
      "loss: 0.1712, accuracy: 0.9300: 100%|██████████| 1000/1000 [00:11<00:00, 83.99it/s]\n",
      "loss: 0.5428, accuracy: 0.8300: 100%|██████████| 158/158 [00:01<00:00, 145.38it/s]\n",
      "loss: 0.2723, accuracy: 0.8800:   2%|▏         | 17/1000 [00:00<00:11, 88.18it/s]"
     ]
    },
    {
     "name": "stdout",
     "output_type": "stream",
     "text": [
      "Epoch 66: train_acc_0.9190_train_loss_0.2015_val_acc_0.8647_val_loss_0.4293 epoch time 13.1279 seconds\n",
      "total time14.0 : 42.75973391532898\n"
     ]
    },
    {
     "name": "stderr",
     "output_type": "stream",
     "text": [
      "loss: 0.2099, accuracy: 0.9200: 100%|██████████| 1000/1000 [00:11<00:00, 84.09it/s]\n",
      "loss: 0.5242, accuracy: 0.8100: 100%|██████████| 158/158 [00:01<00:00, 143.21it/s]\n",
      "loss: 0.1347, accuracy: 0.9500:   2%|▏         | 17/1000 [00:00<00:11, 89.30it/s]"
     ]
    },
    {
     "name": "stdout",
     "output_type": "stream",
     "text": [
      "Epoch 67: train_acc_0.9182_train_loss_0.2002_val_acc_0.8636_val_loss_0.4437 epoch time 13.1303 seconds\n",
      "total time14.0 : 55.8900785446167\n"
     ]
    },
    {
     "name": "stderr",
     "output_type": "stream",
     "text": [
      "loss: 0.2681, accuracy: 0.9100: 100%|██████████| 1000/1000 [00:11<00:00, 84.15it/s]\n",
      "loss: 0.6138, accuracy: 0.7900: 100%|██████████| 158/158 [00:01<00:00, 146.38it/s]\n",
      "loss: 0.2678, accuracy: 0.8600:   2%|▏         | 16/1000 [00:00<00:11, 88.44it/s]"
     ]
    },
    {
     "name": "stdout",
     "output_type": "stream",
     "text": [
      "Epoch 68: train_acc_0.9199_train_loss_0.1986_val_acc_0.8657_val_loss_0.4391 epoch time 13.0988 seconds\n",
      "total time15.0 : 8.988866329193115\n"
     ]
    },
    {
     "name": "stderr",
     "output_type": "stream",
     "text": [
      "loss: 0.2385, accuracy: 0.9200: 100%|██████████| 1000/1000 [00:11<00:00, 85.52it/s]\n",
      "loss: 0.4424, accuracy: 0.8700: 100%|██████████| 158/158 [00:01<00:00, 146.04it/s]\n",
      "loss: 0.1945, accuracy: 0.9400:   2%|▏         | 17/1000 [00:00<00:10, 90.00it/s]"
     ]
    },
    {
     "name": "stdout",
     "output_type": "stream",
     "text": [
      "Epoch 69: train_acc_0.9209_train_loss_0.1956_val_acc_0.8670_val_loss_0.4358 epoch time 12.9120 seconds\n",
      "total time15.0 : 21.90084481239319\n"
     ]
    },
    {
     "name": "stderr",
     "output_type": "stream",
     "text": [
      "loss: 0.1899, accuracy: 0.9300: 100%|██████████| 1000/1000 [00:11<00:00, 84.36it/s]\n",
      "loss: 0.6101, accuracy: 0.8600: 100%|██████████| 158/158 [00:01<00:00, 145.41it/s]\n",
      "loss: 0.2408, accuracy: 0.9000:   2%|▏         | 17/1000 [00:00<00:10, 91.13it/s]"
     ]
    },
    {
     "name": "stdout",
     "output_type": "stream",
     "text": [
      "Epoch 70: train_acc_0.9217_train_loss_0.1941_val_acc_0.8678_val_loss_0.4334 epoch time 13.0778 seconds\n",
      "total time15.0 : 34.9786696434021\n"
     ]
    },
    {
     "name": "stderr",
     "output_type": "stream",
     "text": [
      "loss: 0.1949, accuracy: 0.9100: 100%|██████████| 1000/1000 [00:11<00:00, 83.73it/s]\n",
      "loss: 0.2278, accuracy: 0.9000: 100%|██████████| 158/158 [00:01<00:00, 147.50it/s]\n",
      "loss: 0.1577, accuracy: 0.9200:   2%|▏         | 17/1000 [00:00<00:11, 87.78it/s]"
     ]
    },
    {
     "name": "stdout",
     "output_type": "stream",
     "text": [
      "Epoch 71: train_acc_0.9225_train_loss_0.1921_val_acc_0.8643_val_loss_0.4465 epoch time 13.1529 seconds\n",
      "total time15.0 : 48.13156819343567\n"
     ]
    },
    {
     "name": "stderr",
     "output_type": "stream",
     "text": [
      "loss: 0.2266, accuracy: 0.8900: 100%|██████████| 1000/1000 [00:11<00:00, 83.90it/s]\n",
      "loss: 0.5420, accuracy: 0.8000: 100%|██████████| 158/158 [00:01<00:00, 153.75it/s]\n",
      "loss: 0.1903, accuracy: 0.9200:   2%|▏         | 16/1000 [00:00<00:11, 88.33it/s]"
     ]
    },
    {
     "name": "stdout",
     "output_type": "stream",
     "text": [
      "Epoch 72: train_acc_0.9228_train_loss_0.1897_val_acc_0.8637_val_loss_0.4501 epoch time 13.1321 seconds\n",
      "total time16.0 : 1.2636780738830566\n"
     ]
    },
    {
     "name": "stderr",
     "output_type": "stream",
     "text": [
      "loss: 0.2165, accuracy: 0.8900: 100%|██████████| 1000/1000 [00:11<00:00, 83.90it/s]\n",
      "loss: 0.3315, accuracy: 0.8600: 100%|██████████| 158/158 [00:01<00:00, 148.09it/s]\n",
      "loss: 0.2424, accuracy: 0.8900:   2%|▏         | 16/1000 [00:00<00:11, 87.57it/s]"
     ]
    },
    {
     "name": "stdout",
     "output_type": "stream",
     "text": [
      "Epoch 73: train_acc_0.9240_train_loss_0.1869_val_acc_0.8633_val_loss_0.4622 epoch time 13.1259 seconds\n",
      "total time16.0 : 14.389626502990723\n"
     ]
    },
    {
     "name": "stderr",
     "output_type": "stream",
     "text": [
      "loss: 0.1063, accuracy: 0.9500: 100%|██████████| 1000/1000 [00:11<00:00, 84.12it/s]\n",
      "loss: 0.2459, accuracy: 0.8900: 100%|██████████| 158/158 [00:01<00:00, 151.42it/s]\n",
      "loss: 0.1543, accuracy: 0.9300:   2%|▏         | 17/1000 [00:00<00:11, 87.65it/s]"
     ]
    },
    {
     "name": "stdout",
     "output_type": "stream",
     "text": [
      "Epoch 74: train_acc_0.9249_train_loss_0.1861_val_acc_0.8563_val_loss_0.4658 epoch time 13.1024 seconds\n",
      "total time16.0 : 27.492053031921387\n"
     ]
    },
    {
     "name": "stderr",
     "output_type": "stream",
     "text": [
      "loss: 0.1575, accuracy: 0.9400: 100%|██████████| 1000/1000 [00:11<00:00, 83.83it/s]\n",
      "loss: 0.4059, accuracy: 0.8900: 100%|██████████| 158/158 [00:01<00:00, 145.39it/s]\n",
      "loss: 0.1869, accuracy: 0.9200:   2%|▏         | 16/1000 [00:00<00:11, 88.51it/s]"
     ]
    },
    {
     "name": "stdout",
     "output_type": "stream",
     "text": [
      "Epoch 75: train_acc_0.9255_train_loss_0.1830_val_acc_0.8652_val_loss_0.4621 epoch time 13.1515 seconds\n",
      "total time16.0 : 40.64356565475464\n"
     ]
    },
    {
     "name": "stderr",
     "output_type": "stream",
     "text": [
      "loss: 0.1948, accuracy: 0.9300: 100%|██████████| 1000/1000 [00:11<00:00, 84.19it/s]\n",
      "loss: 0.5577, accuracy: 0.8500: 100%|██████████| 158/158 [00:01<00:00, 148.44it/s]\n",
      "loss: 0.1944, accuracy: 0.9200:   2%|▏         | 17/1000 [00:00<00:10, 89.99it/s]"
     ]
    },
    {
     "name": "stdout",
     "output_type": "stream",
     "text": [
      "Epoch 76: train_acc_0.9258_train_loss_0.1822_val_acc_0.8587_val_loss_0.4807 epoch time 13.0788 seconds\n",
      "total time16.0 : 53.72238278388977\n"
     ]
    },
    {
     "name": "stderr",
     "output_type": "stream",
     "text": [
      "loss: 0.2683, accuracy: 0.8600: 100%|██████████| 1000/1000 [00:11<00:00, 85.76it/s]\n",
      "loss: 0.4769, accuracy: 0.8300: 100%|██████████| 158/158 [00:01<00:00, 154.29it/s]\n",
      "loss: 0.1420, accuracy: 0.9300:   2%|▏         | 17/1000 [00:00<00:11, 88.45it/s]"
     ]
    },
    {
     "name": "stdout",
     "output_type": "stream",
     "text": [
      "Epoch 77: train_acc_0.9257_train_loss_0.1801_val_acc_0.8618_val_loss_0.4788 epoch time 13.0890 seconds\n",
      "total time17.0 : 6.811426401138306\n"
     ]
    },
    {
     "name": "stderr",
     "output_type": "stream",
     "text": [
      "loss: 0.1225, accuracy: 0.9500: 100%|██████████| 1000/1000 [00:11<00:00, 84.09it/s]\n",
      "loss: 0.2067, accuracy: 0.9200: 100%|██████████| 158/158 [00:01<00:00, 145.56it/s]\n",
      "loss: 0.1377, accuracy: 0.9600:   2%|▏         | 16/1000 [00:00<00:11, 87.49it/s]"
     ]
    },
    {
     "name": "stdout",
     "output_type": "stream",
     "text": [
      "Epoch 78: train_acc_0.9260_train_loss_0.1793_val_acc_0.8668_val_loss_0.4738 epoch time 13.1144 seconds\n",
      "total time17.0 : 19.92581844329834\n"
     ]
    },
    {
     "name": "stderr",
     "output_type": "stream",
     "text": [
      "loss: 0.0863, accuracy: 0.9500: 100%|██████████| 1000/1000 [00:11<00:00, 83.91it/s]\n",
      "loss: 0.4752, accuracy: 0.8700: 100%|██████████| 158/158 [00:01<00:00, 146.85it/s]\n",
      "loss: 0.2548, accuracy: 0.9000:   2%|▏         | 17/1000 [00:00<00:11, 88.49it/s]"
     ]
    },
    {
     "name": "stdout",
     "output_type": "stream",
     "text": [
      "Epoch 79: train_acc_0.9272_train_loss_0.1760_val_acc_0.8631_val_loss_0.4784 epoch time 13.1301 seconds\n",
      "total time17.0 : 33.0558705329895\n"
     ]
    },
    {
     "name": "stderr",
     "output_type": "stream",
     "text": [
      "loss: 0.1567, accuracy: 0.9300: 100%|██████████| 1000/1000 [00:11<00:00, 86.30it/s]\n",
      "loss: 0.7232, accuracy: 0.8600: 100%|██████████| 158/158 [00:01<00:00, 146.22it/s]\n",
      "loss: 0.2592, accuracy: 0.8800:   2%|▏         | 16/1000 [00:00<00:11, 87.14it/s]"
     ]
    },
    {
     "name": "stdout",
     "output_type": "stream",
     "text": [
      "Epoch 80: train_acc_0.9282_train_loss_0.1748_val_acc_0.8615_val_loss_0.4870 epoch time 13.1178 seconds\n",
      "total time17.0 : 46.17366862297058\n"
     ]
    },
    {
     "name": "stderr",
     "output_type": "stream",
     "text": [
      "loss: 0.1708, accuracy: 0.9200: 100%|██████████| 1000/1000 [00:11<00:00, 83.86it/s]\n",
      "loss: 0.7411, accuracy: 0.8200: 100%|██████████| 158/158 [00:01<00:00, 147.26it/s]\n",
      "loss: 0.1587, accuracy: 0.9500:   2%|▏         | 16/1000 [00:00<00:11, 87.43it/s]"
     ]
    },
    {
     "name": "stdout",
     "output_type": "stream",
     "text": [
      "Epoch 81: train_acc_0.9273_train_loss_0.1756_val_acc_0.8639_val_loss_0.4725 epoch time 13.1342 seconds\n",
      "total time17.0 : 59.30782604217529\n"
     ]
    },
    {
     "name": "stderr",
     "output_type": "stream",
     "text": [
      "loss: 0.2799, accuracy: 0.9400: 100%|██████████| 1000/1000 [00:11<00:00, 84.18it/s]\n",
      "loss: 0.4890, accuracy: 0.8900: 100%|██████████| 158/158 [00:01<00:00, 146.23it/s]\n",
      "loss: 0.1607, accuracy: 0.9300:   2%|▏         | 17/1000 [00:00<00:10, 93.65it/s]"
     ]
    },
    {
     "name": "stdout",
     "output_type": "stream",
     "text": [
      "Epoch 82: train_acc_0.9295_train_loss_0.1708_val_acc_0.8658_val_loss_0.4899 epoch time 13.0958 seconds\n",
      "total time18.0 : 12.403656005859375\n"
     ]
    },
    {
     "name": "stderr",
     "output_type": "stream",
     "text": [
      "loss: 0.2343, accuracy: 0.8900: 100%|██████████| 1000/1000 [00:11<00:00, 83.95it/s]\n",
      "loss: 0.6239, accuracy: 0.8100: 100%|██████████| 158/158 [00:01<00:00, 145.63it/s]\n",
      "loss: 0.2369, accuracy: 0.8800:   2%|▏         | 16/1000 [00:00<00:11, 87.29it/s]"
     ]
    },
    {
     "name": "stdout",
     "output_type": "stream",
     "text": [
      "Epoch 83: train_acc_0.9293_train_loss_0.1715_val_acc_0.8606_val_loss_0.4955 epoch time 13.1315 seconds\n",
      "total time18.0 : 25.535158395767212\n"
     ]
    },
    {
     "name": "stderr",
     "output_type": "stream",
     "text": [
      "loss: 0.1972, accuracy: 0.9200: 100%|██████████| 1000/1000 [00:11<00:00, 84.39it/s]\n",
      "loss: 0.5795, accuracy: 0.8200: 100%|██████████| 158/158 [00:01<00:00, 147.02it/s]\n",
      "loss: 0.1763, accuracy: 0.9700:   2%|▏         | 16/1000 [00:00<00:11, 88.09it/s]"
     ]
    },
    {
     "name": "stdout",
     "output_type": "stream",
     "text": [
      "Epoch 84: train_acc_0.9289_train_loss_0.1700_val_acc_0.8647_val_loss_0.4835 epoch time 13.0612 seconds\n",
      "total time18.0 : 38.59637236595154\n"
     ]
    },
    {
     "name": "stderr",
     "output_type": "stream",
     "text": [
      "loss: 0.1803, accuracy: 0.9200: 100%|██████████| 1000/1000 [00:11<00:00, 83.60it/s]\n",
      "loss: 0.5694, accuracy: 0.8800: 100%|██████████| 158/158 [00:01<00:00, 145.57it/s]\n",
      "loss: 0.1309, accuracy: 0.9600:   2%|▏         | 17/1000 [00:00<00:11, 88.49it/s]"
     ]
    },
    {
     "name": "stdout",
     "output_type": "stream",
     "text": [
      "Epoch 85: train_acc_0.9304_train_loss_0.1671_val_acc_0.8611_val_loss_0.4995 epoch time 13.1925 seconds\n",
      "total time18.0 : 51.78890085220337\n"
     ]
    },
    {
     "name": "stderr",
     "output_type": "stream",
     "text": [
      "loss: 0.1944, accuracy: 0.9400: 100%|██████████| 1000/1000 [00:11<00:00, 86.69it/s]\n",
      "loss: 0.5709, accuracy: 0.8700: 100%|██████████| 158/158 [00:01<00:00, 147.29it/s]\n",
      "loss: 0.1132, accuracy: 0.9600:   2%|▏         | 16/1000 [00:00<00:11, 87.08it/s]"
     ]
    },
    {
     "name": "stdout",
     "output_type": "stream",
     "text": [
      "Epoch 86: train_acc_0.9317_train_loss_0.1653_val_acc_0.8613_val_loss_0.5021 epoch time 13.0926 seconds\n",
      "total time19.0 : 4.881481170654297\n"
     ]
    },
    {
     "name": "stderr",
     "output_type": "stream",
     "text": [
      "loss: 0.1096, accuracy: 0.9500: 100%|██████████| 1000/1000 [00:11<00:00, 85.82it/s]\n",
      "loss: 0.4967, accuracy: 0.8900: 100%|██████████| 158/158 [00:01<00:00, 144.83it/s]\n",
      "loss: 0.1381, accuracy: 0.9300:   2%|▏         | 17/1000 [00:00<00:11, 88.69it/s]"
     ]
    },
    {
     "name": "stdout",
     "output_type": "stream",
     "text": [
      "Epoch 87: train_acc_0.9323_train_loss_0.1645_val_acc_0.8627_val_loss_0.4925 epoch time 13.1806 seconds\n",
      "total time19.0 : 18.062082290649414\n"
     ]
    },
    {
     "name": "stderr",
     "output_type": "stream",
     "text": [
      "loss: 0.1877, accuracy: 0.9400: 100%|██████████| 1000/1000 [00:11<00:00, 83.79it/s]\n",
      "loss: 0.3003, accuracy: 0.9200: 100%|██████████| 158/158 [00:01<00:00, 148.62it/s]\n",
      "loss: 0.1429, accuracy: 0.9300:   2%|▏         | 17/1000 [00:00<00:11, 88.73it/s]"
     ]
    },
    {
     "name": "stdout",
     "output_type": "stream",
     "text": [
      "Epoch 88: train_acc_0.9323_train_loss_0.1627_val_acc_0.8583_val_loss_0.5096 epoch time 13.1322 seconds\n",
      "total time19.0 : 31.19430375099182\n"
     ]
    },
    {
     "name": "stderr",
     "output_type": "stream",
     "text": [
      "loss: 0.1416, accuracy: 0.9300: 100%|██████████| 1000/1000 [00:11<00:00, 86.67it/s]\n",
      "loss: 0.3978, accuracy: 0.8500: 100%|██████████| 158/158 [00:01<00:00, 145.33it/s]\n",
      "loss: 0.2124, accuracy: 0.8900:   2%|▏         | 17/1000 [00:00<00:10, 91.90it/s]"
     ]
    },
    {
     "name": "stdout",
     "output_type": "stream",
     "text": [
      "Epoch 89: train_acc_0.9323_train_loss_0.1620_val_acc_0.8632_val_loss_0.4965 epoch time 12.7287 seconds\n",
      "total time19.0 : 43.92298603057861\n"
     ]
    },
    {
     "name": "stderr",
     "output_type": "stream",
     "text": [
      "loss: 0.1191, accuracy: 0.9500: 100%|██████████| 1000/1000 [00:11<00:00, 85.74it/s]\n",
      "loss: 0.4378, accuracy: 0.8200: 100%|██████████| 158/158 [00:01<00:00, 154.17it/s]\n",
      "loss: 0.1107, accuracy: 0.9400:   2%|▏         | 16/1000 [00:00<00:11, 89.38it/s]"
     ]
    },
    {
     "name": "stdout",
     "output_type": "stream",
     "text": [
      "Epoch 90: train_acc_0.9330_train_loss_0.1617_val_acc_0.8565_val_loss_0.5243 epoch time 13.0824 seconds\n",
      "total time19.0 : 57.00543189048767\n"
     ]
    },
    {
     "name": "stderr",
     "output_type": "stream",
     "text": [
      "loss: 0.0880, accuracy: 0.9700: 100%|██████████| 1000/1000 [00:11<00:00, 83.92it/s]\n",
      "loss: 0.3374, accuracy: 0.8600: 100%|██████████| 158/158 [00:01<00:00, 153.25it/s]\n",
      "loss: 0.0947, accuracy: 0.9500:   2%|▏         | 17/1000 [00:00<00:10, 93.86it/s]"
     ]
    },
    {
     "name": "stdout",
     "output_type": "stream",
     "text": [
      "Epoch 91: train_acc_0.9347_train_loss_0.1575_val_acc_0.8627_val_loss_0.5070 epoch time 13.1355 seconds\n",
      "total time20.0 : 10.140948057174683\n"
     ]
    },
    {
     "name": "stderr",
     "output_type": "stream",
     "text": [
      "loss: 0.1927, accuracy: 0.9200: 100%|██████████| 1000/1000 [00:11<00:00, 85.41it/s]\n",
      "loss: 0.2322, accuracy: 0.8900: 100%|██████████| 158/158 [00:01<00:00, 145.89it/s]\n",
      "loss: 0.1324, accuracy: 0.9600:   2%|▏         | 17/1000 [00:00<00:10, 90.56it/s]"
     ]
    },
    {
     "name": "stdout",
     "output_type": "stream",
     "text": [
      "Epoch 92: train_acc_0.9340_train_loss_0.1587_val_acc_0.8607_val_loss_0.5163 epoch time 12.9267 seconds\n",
      "total time20.0 : 23.067643404006958\n"
     ]
    },
    {
     "name": "stderr",
     "output_type": "stream",
     "text": [
      "loss: 0.2441, accuracy: 0.9100: 100%|██████████| 1000/1000 [00:11<00:00, 84.14it/s]\n",
      "loss: 0.3627, accuracy: 0.9200: 100%|██████████| 158/158 [00:01<00:00, 145.07it/s]\n",
      "loss: 0.1209, accuracy: 0.9600:   2%|▏         | 17/1000 [00:00<00:10, 89.62it/s]"
     ]
    },
    {
     "name": "stdout",
     "output_type": "stream",
     "text": [
      "Epoch 93: train_acc_0.9353_train_loss_0.1565_val_acc_0.8592_val_loss_0.5354 epoch time 13.1120 seconds\n",
      "total time20.0 : 36.17968988418579\n"
     ]
    },
    {
     "name": "stderr",
     "output_type": "stream",
     "text": [
      "loss: 0.1897, accuracy: 0.9100: 100%|██████████| 1000/1000 [00:11<00:00, 86.69it/s]\n",
      "loss: 0.3271, accuracy: 0.8900: 100%|██████████| 158/158 [00:01<00:00, 147.44it/s]\n",
      "loss: 0.0808, accuracy: 0.9800:   2%|▏         | 16/1000 [00:00<00:11, 87.64it/s]"
     ]
    },
    {
     "name": "stdout",
     "output_type": "stream",
     "text": [
      "Epoch 94: train_acc_0.9361_train_loss_0.1538_val_acc_0.8592_val_loss_0.5228 epoch time 13.1031 seconds\n",
      "total time20.0 : 49.28275012969971\n"
     ]
    },
    {
     "name": "stderr",
     "output_type": "stream",
     "text": [
      "loss: 0.2179, accuracy: 0.9100: 100%|██████████| 1000/1000 [00:11<00:00, 83.71it/s]\n",
      "loss: 0.6424, accuracy: 0.8900: 100%|██████████| 158/158 [00:01<00:00, 143.93it/s]\n",
      "loss: 0.1549, accuracy: 0.9200:   2%|▏         | 17/1000 [00:00<00:10, 96.60it/s]"
     ]
    },
    {
     "name": "stdout",
     "output_type": "stream",
     "text": [
      "Epoch 95: train_acc_0.9361_train_loss_0.1535_val_acc_0.8554_val_loss_0.5489 epoch time 13.1808 seconds\n",
      "total time21.0 : 2.4635229110717773\n"
     ]
    },
    {
     "name": "stderr",
     "output_type": "stream",
     "text": [
      "loss: 0.0884, accuracy: 0.9600: 100%|██████████| 1000/1000 [00:11<00:00, 83.58it/s]\n",
      "loss: 0.6141, accuracy: 0.8600: 100%|██████████| 158/158 [00:01<00:00, 144.18it/s]\n",
      "loss: 0.0927, accuracy: 0.9800:   2%|▏         | 17/1000 [00:00<00:10, 91.30it/s]"
     ]
    },
    {
     "name": "stdout",
     "output_type": "stream",
     "text": [
      "Epoch 96: train_acc_0.9361_train_loss_0.1538_val_acc_0.8625_val_loss_0.5284 epoch time 13.1967 seconds\n",
      "total time21.0 : 15.660197496414185\n"
     ]
    },
    {
     "name": "stderr",
     "output_type": "stream",
     "text": [
      "loss: 0.1152, accuracy: 0.9500: 100%|██████████| 1000/1000 [00:11<00:00, 84.15it/s]\n",
      "loss: 0.4781, accuracy: 0.8600: 100%|██████████| 158/158 [00:01<00:00, 152.72it/s]\n",
      "loss: 0.1195, accuracy: 0.9600:   2%|▏         | 17/1000 [00:00<00:10, 93.58it/s]"
     ]
    },
    {
     "name": "stdout",
     "output_type": "stream",
     "text": [
      "Epoch 97: train_acc_0.9374_train_loss_0.1507_val_acc_0.8613_val_loss_0.5355 epoch time 13.0887 seconds\n",
      "total time21.0 : 28.748863458633423\n"
     ]
    },
    {
     "name": "stderr",
     "output_type": "stream",
     "text": [
      "loss: 0.1494, accuracy: 0.9200: 100%|██████████| 1000/1000 [00:11<00:00, 83.87it/s]\n",
      "loss: 0.1838, accuracy: 0.9600: 100%|██████████| 158/158 [00:01<00:00, 146.56it/s]\n",
      "loss: 0.1189, accuracy: 0.9500:   2%|▏         | 17/1000 [00:00<00:10, 92.50it/s]"
     ]
    },
    {
     "name": "stdout",
     "output_type": "stream",
     "text": [
      "Epoch 98: train_acc_0.9373_train_loss_0.1500_val_acc_0.8603_val_loss_0.5480 epoch time 13.1373 seconds\n",
      "total time21.0 : 41.88615870475769\n"
     ]
    },
    {
     "name": "stderr",
     "output_type": "stream",
     "text": [
      "loss: 0.1682, accuracy: 0.9400: 100%|██████████| 1000/1000 [00:11<00:00, 83.52it/s]\n",
      "loss: 0.9045, accuracy: 0.8300: 100%|██████████| 158/158 [00:01<00:00, 147.83it/s]\n",
      "loss: 0.3867, accuracy: 0.8200:  19%|█▉        | 30/158 [00:00<00:00, 156.30it/s]"
     ]
    },
    {
     "name": "stdout",
     "output_type": "stream",
     "text": [
      "Epoch 99: train_acc_0.9388_train_loss_0.1471_val_acc_0.8568_val_loss_0.5539 epoch time 13.1780 seconds\n",
      "total time21.0 : 55.064183950424194\n",
      "Generating test set evaluation metrics\n"
     ]
    },
    {
     "name": "stderr",
     "output_type": "stream",
     "text": [
      "loss: 0.3331, accuracy: 0.8900: 100%|██████████| 158/158 [00:01<00:00, 146.68it/s]\n"
     ]
    },
    {
     "name": "stdout",
     "output_type": "stream",
     "text": [
      "finish\n"
     ]
    },
    {
     "data": {
      "image/png": "[encoded data removed]",
      "text/plain": [
       "<Figure size 576x288 with 1 Axes>"
      ]
     },
     "metadata": {
      "needs_background": "light"
     },
     "output_type": "display_data"
    },
    {
     "data": {
      "image/png": "[encoded data removed]",
      "text/plain": [
       "<Figure size 576x288 with 1 Axes>"
      ]
     },
     "metadata": {
      "needs_background": "light"
     },
     "output_type": "display_data"
    },
    {
     "name": "stderr",
     "output_type": "stream",
     "text": [
      "loss: 3.8514, accuracy: 0.0100:   2%|▏         | 16/1000 [00:00<00:09, 101.12it/s]"
     ]
    },
    {
     "name": "stdout",
     "output_type": "stream",
     "text": [
      "Building basic block of ConvolutionalNetwork using input shape (100, 1, 28, 28)\n",
      "torch.Size([100, 64, 10, 10])\n",
      "torch.Size([100, 64, 6, 6])\n",
      "torch.Size([100, 64, 2, 2])\n",
      "torch.Size([100, 64, 2, 2])\n",
      "torch.Size([100, 64, 1, 1])\n",
      "torch.Size([100, 64, 1, 1])\n",
      "torch.Size([100, 64, 1, 1])\n",
      "torch.Size([100, 64, 1, 1])\n",
      "shape before final linear layer torch.Size([100, 64, 2, 2])\n",
      "Block is built, output volume is torch.Size([100, 47])\n",
      "use GPU\n",
      "ConvolutionalNetwork(\n",
      "  (layer_dict): ModuleDict(\n",
      "    (conv_0): Conv2d(1, 64, kernel_size=(3, 3), stride=(3, 3), padding=(1, 1))\n",
      "    (dim_reduction_avg_pool_0): AvgPool2d(kernel_size=2, stride=2, padding=1)\n",
      "    (conv_1): Conv2d(64, 64, kernel_size=(3, 3), stride=(3, 3), padding=(1, 1))\n",
      "    (dim_reduction_avg_pool_1): AvgPool2d(kernel_size=2, stride=2, padding=1)\n",
      "    (conv_2): Conv2d(64, 64, kernel_size=(3, 3), stride=(3, 3), padding=(1, 1))\n",
      "    (dim_reduction_avg_pool_2): AvgPool2d(kernel_size=2, stride=2, padding=1)\n",
      "    (conv_3): Conv2d(64, 64, kernel_size=(3, 3), stride=(3, 3), padding=(1, 1))\n",
      "    (dim_reduction_avg_pool_3): AvgPool2d(kernel_size=2, stride=2, padding=1)\n",
      "  )\n",
      "  (logit_linear_layer): Linear(in_features=256, out_features=47, bias=True)\n",
      ")\n"
     ]
    },
    {
     "name": "stderr",
     "output_type": "stream",
     "text": [
      "loss: 2.2184, accuracy: 0.3200: 100%|██████████| 1000/1000 [00:10<00:00, 91.77it/s]\n",
      "loss: 2.0262, accuracy: 0.3800: 100%|██████████| 158/158 [00:01<00:00, 150.40it/s]\n",
      "loss: 2.1036, accuracy: 0.3200:   2%|▏         | 18/1000 [00:00<00:10, 97.98it/s]"
     ]
    },
    {
     "name": "stdout",
     "output_type": "stream",
     "text": [
      "Epoch 0: train_acc_0.2414_train_loss_2.6433_val_acc_0.3659_val_loss_2.1334 epoch time 12.0838 seconds\n",
      "total time0.0 : 12.083846807479858\n"
     ]
    },
    {
     "name": "stderr",
     "output_type": "stream",
     "text": [
      "loss: 1.5621, accuracy: 0.5200: 100%|██████████| 1000/1000 [00:10<00:00, 93.86it/s]\n",
      "loss: 1.3788, accuracy: 0.4800: 100%|██████████| 158/158 [00:01<00:00, 150.33it/s]\n",
      "loss: 1.4511, accuracy: 0.5400:   2%|▏         | 18/1000 [00:00<00:10, 97.20it/s]"
     ]
    },
    {
     "name": "stdout",
     "output_type": "stream",
     "text": [
      "Epoch 1: train_acc_0.4651_train_loss_1.7884_val_acc_0.5385_val_loss_1.5169 epoch time 12.0875 seconds\n",
      "total time0.0 : 24.171303749084473\n"
     ]
    },
    {
     "name": "stderr",
     "output_type": "stream",
     "text": [
      "loss: 1.2304, accuracy: 0.6500: 100%|██████████| 1000/1000 [00:10<00:00, 93.02it/s]\n",
      "loss: 1.2793, accuracy: 0.5200: 100%|██████████| 158/158 [00:01<00:00, 152.86it/s]\n",
      "loss: 1.1470, accuracy: 0.6500:   2%|▏         | 18/1000 [00:00<00:10, 95.45it/s]"
     ]
    },
    {
     "name": "stdout",
     "output_type": "stream",
     "text": [
      "Epoch 2: train_acc_0.5762_train_loss_1.3883_val_acc_0.6148_val_loss_1.2589 epoch time 12.1318 seconds\n",
      "total time0.0 : 36.30310106277466\n"
     ]
    },
    {
     "name": "stderr",
     "output_type": "stream",
     "text": [
      "loss: 1.0790, accuracy: 0.6600: 100%|██████████| 1000/1000 [00:10<00:00, 94.23it/s]\n",
      "loss: 1.1496, accuracy: 0.6200: 100%|██████████| 158/158 [00:01<00:00, 150.37it/s]\n",
      "loss: 1.1850, accuracy: 0.6100:   2%|▏         | 18/1000 [00:00<00:10, 97.59it/s]"
     ]
    },
    {
     "name": "stdout",
     "output_type": "stream",
     "text": [
      "Epoch 3: train_acc_0.6309_train_loss_1.1934_val_acc_0.6400_val_loss_1.1629 epoch time 12.0902 seconds\n",
      "total time0.0 : 48.39331889152527\n"
     ]
    },
    {
     "name": "stderr",
     "output_type": "stream",
     "text": [
      "loss: 0.9430, accuracy: 0.6900: 100%|██████████| 1000/1000 [00:10<00:00, 94.24it/s]\n",
      "loss: 0.9708, accuracy: 0.6700: 100%|██████████| 158/158 [00:01<00:00, 152.05it/s]\n",
      "loss: 0.8807, accuracy: 0.7300:   2%|▏         | 19/1000 [00:00<00:09, 104.07it/s]"
     ]
    },
    {
     "name": "stdout",
     "output_type": "stream",
     "text": [
      "Epoch 4: train_acc_0.6673_train_loss_1.0628_val_acc_0.6628_val_loss_1.0418 epoch time 12.1142 seconds\n",
      "total time1.0 : 0.5074737071990967\n"
     ]
    },
    {
     "name": "stderr",
     "output_type": "stream",
     "text": [
      "loss: 1.1002, accuracy: 0.7100: 100%|██████████| 1000/1000 [00:10<00:00, 92.31it/s]\n",
      "loss: 1.0807, accuracy: 0.6800: 100%|██████████| 158/158 [00:01<00:00, 150.19it/s]\n",
      "loss: 0.9133, accuracy: 0.6900:   2%|▏         | 19/1000 [00:00<00:09, 102.04it/s]"
     ]
    },
    {
     "name": "stdout",
     "output_type": "stream",
     "text": [
      "Epoch 5: train_acc_0.6938_train_loss_0.9735_val_acc_0.7000_val_loss_0.9391 epoch time 12.0234 seconds\n",
      "total time1.0 : 12.530879735946655\n"
     ]
    },
    {
     "name": "stderr",
     "output_type": "stream",
     "text": [
      "loss: 0.9575, accuracy: 0.6700: 100%|██████████| 1000/1000 [00:10<00:00, 91.84it/s]\n",
      "loss: 0.8068, accuracy: 0.7100: 100%|██████████| 158/158 [00:01<00:00, 151.63it/s]\n",
      "loss: 0.8213, accuracy: 0.7600:   2%|▏         | 18/1000 [00:00<00:10, 97.01it/s]"
     ]
    },
    {
     "name": "stdout",
     "output_type": "stream",
     "text": [
      "Epoch 6: train_acc_0.7123_train_loss_0.9089_val_acc_0.7217_val_loss_0.8731 epoch time 12.0698 seconds\n",
      "total time1.0 : 24.60064387321472\n"
     ]
    },
    {
     "name": "stderr",
     "output_type": "stream",
     "text": [
      "loss: 0.7038, accuracy: 0.7300: 100%|██████████| 1000/1000 [00:10<00:00, 94.27it/s]\n",
      "loss: 0.9689, accuracy: 0.6500: 100%|██████████| 158/158 [00:01<00:00, 151.25it/s]\n",
      "loss: 0.8349, accuracy: 0.7000:   2%|▏         | 18/1000 [00:00<00:10, 97.52it/s]"
     ]
    },
    {
     "name": "stdout",
     "output_type": "stream",
     "text": [
      "Epoch 7: train_acc_0.7280_train_loss_0.8530_val_acc_0.7340_val_loss_0.8362 epoch time 12.0754 seconds\n",
      "total time1.0 : 36.67599678039551\n"
     ]
    },
    {
     "name": "stderr",
     "output_type": "stream",
     "text": [
      "loss: 0.8844, accuracy: 0.7800: 100%|██████████| 1000/1000 [00:10<00:00, 93.11it/s]\n",
      "loss: 0.7294, accuracy: 0.7900: 100%|██████████| 158/158 [00:01<00:00, 151.35it/s]\n",
      "loss: 0.8219, accuracy: 0.8200:   2%|▏         | 18/1000 [00:00<00:09, 99.78it/s] "
     ]
    },
    {
     "name": "stdout",
     "output_type": "stream",
     "text": [
      "Epoch 8: train_acc_0.7412_train_loss_0.8090_val_acc_0.7482_val_loss_0.7851 epoch time 12.1052 seconds\n",
      "total time1.0 : 48.78119659423828\n"
     ]
    },
    {
     "name": "stderr",
     "output_type": "stream",
     "text": [
      "loss: 0.8637, accuracy: 0.8000: 100%|██████████| 1000/1000 [00:10<00:00, 91.99it/s]\n",
      "loss: 0.6596, accuracy: 0.7300: 100%|██████████| 158/158 [00:01<00:00, 151.12it/s]\n",
      "loss: 0.8246, accuracy: 0.7100:   2%|▏         | 18/1000 [00:00<00:10, 97.50it/s]"
     ]
    },
    {
     "name": "stdout",
     "output_type": "stream",
     "text": [
      "Epoch 9: train_acc_0.7521_train_loss_0.7709_val_acc_0.7596_val_loss_0.7427 epoch time 12.0562 seconds\n",
      "total time2.0 : 0.8373510837554932\n"
     ]
    },
    {
     "name": "stderr",
     "output_type": "stream",
     "text": [
      "loss: 0.7200, accuracy: 0.8200: 100%|██████████| 1000/1000 [00:10<00:00, 93.35it/s]\n",
      "loss: 0.6552, accuracy: 0.7900: 100%|██████████| 158/158 [00:01<00:00, 150.96it/s]\n",
      "loss: 0.7249, accuracy: 0.7600:   2%|▏         | 18/1000 [00:00<00:10, 97.85it/s]"
     ]
    },
    {
     "name": "stdout",
     "output_type": "stream",
     "text": [
      "Epoch 10: train_acc_0.7613_train_loss_0.7391_val_acc_0.7673_val_loss_0.7217 epoch time 12.0987 seconds\n",
      "total time2.0 : 12.936036109924316\n"
     ]
    },
    {
     "name": "stderr",
     "output_type": "stream",
     "text": [
      "loss: 0.7391, accuracy: 0.7600: 100%|██████████| 1000/1000 [00:10<00:00, 94.37it/s]\n",
      "loss: 0.7408, accuracy: 0.7600: 100%|██████████| 158/158 [00:01<00:00, 154.34it/s]\n",
      "loss: 0.7803, accuracy: 0.7200:   2%|▏         | 19/1000 [00:00<00:10, 97.88it/s]"
     ]
    },
    {
     "name": "stdout",
     "output_type": "stream",
     "text": [
      "Epoch 11: train_acc_0.7685_train_loss_0.7144_val_acc_0.7697_val_loss_0.7047 epoch time 12.0471 seconds\n",
      "total time2.0 : 24.983099222183228\n"
     ]
    },
    {
     "name": "stderr",
     "output_type": "stream",
     "text": [
      "loss: 0.5047, accuracy: 0.8400: 100%|██████████| 1000/1000 [00:10<00:00, 91.82it/s]\n",
      "loss: 0.7673, accuracy: 0.7800: 100%|██████████| 158/158 [00:01<00:00, 152.59it/s]\n",
      "loss: 0.7217, accuracy: 0.7300:   2%|▏         | 19/1000 [00:00<00:09, 98.79it/s]"
     ]
    },
    {
     "name": "stdout",
     "output_type": "stream",
     "text": [
      "Epoch 12: train_acc_0.7748_train_loss_0.6885_val_acc_0.7763_val_loss_0.6932 epoch time 12.0636 seconds\n",
      "total time2.0 : 37.04667520523071\n"
     ]
    },
    {
     "name": "stderr",
     "output_type": "stream",
     "text": [
      "loss: 0.4724, accuracy: 0.8600: 100%|██████████| 1000/1000 [00:10<00:00, 99.44it/s]\n",
      "loss: 0.6003, accuracy: 0.7900: 100%|██████████| 158/158 [00:01<00:00, 152.76it/s]\n",
      "loss: 0.3990, accuracy: 0.8300:   2%|▏         | 20/1000 [00:00<00:09, 102.66it/s]"
     ]
    },
    {
     "name": "stdout",
     "output_type": "stream",
     "text": [
      "Epoch 13: train_acc_0.7811_train_loss_0.6679_val_acc_0.7753_val_loss_0.6851 epoch time 11.8477 seconds\n",
      "total time2.0 : 48.89439129829407\n"
     ]
    },
    {
     "name": "stderr",
     "output_type": "stream",
     "text": [
      "loss: 0.8128, accuracy: 0.7500: 100%|██████████| 1000/1000 [00:10<00:00, 93.13it/s]\n",
      "loss: 0.6529, accuracy: 0.7800: 100%|██████████| 158/158 [00:01<00:00, 148.00it/s]\n",
      "loss: 0.6164, accuracy: 0.7300:   2%|▏         | 18/1000 [00:00<00:10, 97.65it/s]"
     ]
    },
    {
     "name": "stdout",
     "output_type": "stream",
     "text": [
      "Epoch 14: train_acc_0.7862_train_loss_0.6505_val_acc_0.7912_val_loss_0.6481 epoch time 11.9467 seconds\n",
      "total time3.0 : 0.841057538986206\n"
     ]
    },
    {
     "name": "stderr",
     "output_type": "stream",
     "text": [
      "loss: 0.7582, accuracy: 0.7400: 100%|██████████| 1000/1000 [00:10<00:00, 91.44it/s]\n",
      "loss: 0.7426, accuracy: 0.7600: 100%|██████████| 158/158 [00:01<00:00, 148.93it/s]\n",
      "loss: 0.4821, accuracy: 0.8600:   2%|▏         | 19/1000 [00:00<00:09, 104.13it/s]"
     ]
    },
    {
     "name": "stdout",
     "output_type": "stream",
     "text": [
      "Epoch 15: train_acc_0.7919_train_loss_0.6301_val_acc_0.7952_val_loss_0.6252 epoch time 12.1356 seconds\n",
      "total time3.0 : 12.976679563522339\n"
     ]
    },
    {
     "name": "stderr",
     "output_type": "stream",
     "text": [
      "loss: 0.5127, accuracy: 0.8000: 100%|██████████| 1000/1000 [00:10<00:00, 91.63it/s]\n",
      "loss: 0.6992, accuracy: 0.8000: 100%|██████████| 158/158 [00:01<00:00, 150.06it/s]\n",
      "loss: 0.7637, accuracy: 0.7900:   2%|▏         | 19/1000 [00:00<00:09, 101.73it/s]"
     ]
    },
    {
     "name": "stdout",
     "output_type": "stream",
     "text": [
      "Epoch 16: train_acc_0.7959_train_loss_0.6142_val_acc_0.7932_val_loss_0.6227 epoch time 12.1055 seconds\n",
      "total time3.0 : 25.082193613052368\n"
     ]
    },
    {
     "name": "stderr",
     "output_type": "stream",
     "text": [
      "loss: 0.5531, accuracy: 0.7800: 100%|██████████| 1000/1000 [00:10<00:00, 93.88it/s]\n",
      "loss: 0.6206, accuracy: 0.8100: 100%|██████████| 158/158 [00:01<00:00, 149.76it/s]\n",
      "loss: 0.5138, accuracy: 0.8500:   2%|▏         | 18/1000 [00:00<00:10, 96.40it/s]"
     ]
    },
    {
     "name": "stdout",
     "output_type": "stream",
     "text": [
      "Epoch 17: train_acc_0.7998_train_loss_0.5992_val_acc_0.7997_val_loss_0.6115 epoch time 11.8477 seconds\n",
      "total time3.0 : 36.929879665374756\n"
     ]
    },
    {
     "name": "stderr",
     "output_type": "stream",
     "text": [
      "loss: 0.5687, accuracy: 0.7800: 100%|██████████| 1000/1000 [00:10<00:00, 91.42it/s]\n",
      "loss: 0.6057, accuracy: 0.7800: 100%|██████████| 158/158 [00:01<00:00, 149.80it/s]\n",
      "loss: 0.7257, accuracy: 0.7300:   2%|▏         | 18/1000 [00:00<00:10, 96.29it/s]"
     ]
    },
    {
     "name": "stdout",
     "output_type": "stream",
     "text": [
      "Epoch 18: train_acc_0.8053_train_loss_0.5854_val_acc_0.8054_val_loss_0.5953 epoch time 12.1333 seconds\n",
      "total time3.0 : 49.0631582736969\n"
     ]
    },
    {
     "name": "stderr",
     "output_type": "stream",
     "text": [
      "loss: 0.6295, accuracy: 0.7500: 100%|██████████| 1000/1000 [00:10<00:00, 93.46it/s]\n",
      "loss: 0.4695, accuracy: 0.8600: 100%|██████████| 158/158 [00:01<00:00, 149.54it/s]\n",
      "loss: 0.4415, accuracy: 0.8400:   2%|▏         | 18/1000 [00:00<00:10, 96.29it/s]"
     ]
    },
    {
     "name": "stdout",
     "output_type": "stream",
     "text": [
      "Epoch 19: train_acc_0.8095_train_loss_0.5716_val_acc_0.8141_val_loss_0.5660 epoch time 12.1245 seconds\n",
      "total time4.0 : 1.1876211166381836\n"
     ]
    },
    {
     "name": "stderr",
     "output_type": "stream",
     "text": [
      "loss: 0.5134, accuracy: 0.8600: 100%|██████████| 1000/1000 [00:10<00:00, 93.23it/s]\n",
      "loss: 0.7167, accuracy: 0.8000: 100%|██████████| 158/158 [00:01<00:00, 150.76it/s]\n",
      "loss: 0.4787, accuracy: 0.8200:   2%|▏         | 18/1000 [00:00<00:10, 97.31it/s]"
     ]
    },
    {
     "name": "stdout",
     "output_type": "stream",
     "text": [
      "Epoch 20: train_acc_0.8115_train_loss_0.5597_val_acc_0.8115_val_loss_0.5670 epoch time 12.1063 seconds\n",
      "total time4.0 : 13.29391622543335\n"
     ]
    },
    {
     "name": "stderr",
     "output_type": "stream",
     "text": [
      "loss: 0.6968, accuracy: 0.7700: 100%|██████████| 1000/1000 [00:10<00:00, 94.13it/s]\n",
      "loss: 0.8495, accuracy: 0.7300: 100%|██████████| 158/158 [00:01<00:00, 150.88it/s]\n",
      "loss: 0.4581, accuracy: 0.8200:   2%|▏         | 18/1000 [00:00<00:10, 94.96it/s]"
     ]
    },
    {
     "name": "stdout",
     "output_type": "stream",
     "text": [
      "Epoch 21: train_acc_0.8163_train_loss_0.5485_val_acc_0.8101_val_loss_0.5769 epoch time 12.1134 seconds\n",
      "total time4.0 : 25.407276153564453\n"
     ]
    },
    {
     "name": "stderr",
     "output_type": "stream",
     "text": [
      "loss: 0.4187, accuracy: 0.8800: 100%|██████████| 1000/1000 [00:10<00:00, 93.49it/s]\n",
      "loss: 0.5642, accuracy: 0.8000: 100%|██████████| 158/158 [00:01<00:00, 150.11it/s]\n",
      "loss: 0.5750, accuracy: 0.7800:   2%|▏         | 18/1000 [00:00<00:10, 97.62it/s]"
     ]
    },
    {
     "name": "stdout",
     "output_type": "stream",
     "text": [
      "Epoch 22: train_acc_0.8185_train_loss_0.5368_val_acc_0.8192_val_loss_0.5489 epoch time 12.1235 seconds\n",
      "total time4.0 : 37.53079032897949\n"
     ]
    },
    {
     "name": "stderr",
     "output_type": "stream",
     "text": [
      "loss: 0.4734, accuracy: 0.8800: 100%|██████████| 1000/1000 [00:10<00:00, 93.62it/s]\n",
      "loss: 0.4539, accuracy: 0.8200: 100%|██████████| 158/158 [00:01<00:00, 150.32it/s]\n",
      "loss: 0.5405, accuracy: 0.8000:   2%|▏         | 18/1000 [00:00<00:09, 98.26it/s]"
     ]
    },
    {
     "name": "stdout",
     "output_type": "stream",
     "text": [
      "Epoch 23: train_acc_0.8228_train_loss_0.5241_val_acc_0.8204_val_loss_0.5364 epoch time 12.1055 seconds\n",
      "total time4.0 : 49.63625144958496\n"
     ]
    },
    {
     "name": "stderr",
     "output_type": "stream",
     "text": [
      "loss: 0.6234, accuracy: 0.7600: 100%|██████████| 1000/1000 [00:10<00:00, 94.14it/s]\n",
      "loss: 0.5994, accuracy: 0.8100: 100%|██████████| 158/158 [00:01<00:00, 152.21it/s]\n",
      "loss: 0.4183, accuracy: 0.8300:   2%|▏         | 19/1000 [00:00<00:10, 96.84it/s]"
     ]
    },
    {
     "name": "stdout",
     "output_type": "stream",
     "text": [
      "Epoch 24: train_acc_0.8246_train_loss_0.5174_val_acc_0.8246_val_loss_0.5274 epoch time 12.1159 seconds\n",
      "total time5.0 : 1.752182960510254\n"
     ]
    },
    {
     "name": "stderr",
     "output_type": "stream",
     "text": [
      "loss: 0.4984, accuracy: 0.8000: 100%|██████████| 1000/1000 [00:10<00:00, 91.69it/s]\n",
      "loss: 0.5704, accuracy: 0.8400: 100%|██████████| 158/158 [00:01<00:00, 150.68it/s]\n",
      "loss: 0.5558, accuracy: 0.8000:   2%|▏         | 18/1000 [00:00<00:10, 98.00it/s]"
     ]
    },
    {
     "name": "stdout",
     "output_type": "stream",
     "text": [
      "Epoch 25: train_acc_0.8278_train_loss_0.5075_val_acc_0.8209_val_loss_0.5311 epoch time 12.0967 seconds\n",
      "total time5.0 : 13.848840951919556\n"
     ]
    },
    {
     "name": "stderr",
     "output_type": "stream",
     "text": [
      "loss: 0.5575, accuracy: 0.8000: 100%|██████████| 1000/1000 [00:10<00:00, 91.79it/s]\n",
      "loss: 0.5644, accuracy: 0.8000: 100%|██████████| 158/158 [00:01<00:00, 149.81it/s]\n",
      "loss: 0.5280, accuracy: 0.8200:   2%|▏         | 18/1000 [00:00<00:10, 98.03it/s]"
     ]
    },
    {
     "name": "stdout",
     "output_type": "stream",
     "text": [
      "Epoch 26: train_acc_0.8297_train_loss_0.4987_val_acc_0.8242_val_loss_0.5191 epoch time 12.0893 seconds\n",
      "total time5.0 : 25.938178300857544\n"
     ]
    },
    {
     "name": "stderr",
     "output_type": "stream",
     "text": [
      "loss: 0.4747, accuracy: 0.7900: 100%|██████████| 1000/1000 [00:10<00:00, 91.46it/s]\n",
      "loss: 0.3981, accuracy: 0.8500: 100%|██████████| 158/158 [00:01<00:00, 147.58it/s]\n",
      "loss: 0.6228, accuracy: 0.7700:   2%|▏         | 18/1000 [00:00<00:10, 94.89it/s]"
     ]
    },
    {
     "name": "stdout",
     "output_type": "stream",
     "text": [
      "Epoch 27: train_acc_0.8319_train_loss_0.4909_val_acc_0.8280_val_loss_0.5139 epoch time 12.1454 seconds\n",
      "total time5.0 : 38.083571672439575\n"
     ]
    },
    {
     "name": "stderr",
     "output_type": "stream",
     "text": [
      "loss: 0.4358, accuracy: 0.8300: 100%|██████████| 1000/1000 [00:10<00:00, 92.75it/s]\n",
      "loss: 0.6867, accuracy: 0.8100: 100%|██████████| 158/158 [00:01<00:00, 150.34it/s]\n",
      "loss: 0.2807, accuracy: 0.8800:   2%|▏         | 18/1000 [00:00<00:10, 96.60it/s]"
     ]
    },
    {
     "name": "stdout",
     "output_type": "stream",
     "text": [
      "Epoch 28: train_acc_0.8348_train_loss_0.4835_val_acc_0.8291_val_loss_0.5180 epoch time 12.1630 seconds\n",
      "total time5.0 : 50.24659538269043\n"
     ]
    },
    {
     "name": "stderr",
     "output_type": "stream",
     "text": [
      "loss: 0.4842, accuracy: 0.8400: 100%|██████████| 1000/1000 [00:10<00:00, 93.21it/s]\n",
      "loss: 0.4844, accuracy: 0.8200: 100%|██████████| 158/158 [00:01<00:00, 149.41it/s]\n",
      "loss: 0.3656, accuracy: 0.8800:   2%|▏         | 18/1000 [00:00<00:10, 94.46it/s]"
     ]
    },
    {
     "name": "stdout",
     "output_type": "stream",
     "text": [
      "Epoch 29: train_acc_0.8371_train_loss_0.4769_val_acc_0.8313_val_loss_0.5034 epoch time 12.1510 seconds\n",
      "total time6.0 : 2.397599458694458\n"
     ]
    },
    {
     "name": "stderr",
     "output_type": "stream",
     "text": [
      "loss: 0.4312, accuracy: 0.8100: 100%|██████████| 1000/1000 [00:10<00:00, 91.57it/s]\n",
      "loss: 0.6756, accuracy: 0.8000: 100%|██████████| 158/158 [00:01<00:00, 150.32it/s]\n",
      "loss: 0.3729, accuracy: 0.9000:   2%|▏         | 19/1000 [00:00<00:09, 100.49it/s]"
     ]
    },
    {
     "name": "stdout",
     "output_type": "stream",
     "text": [
      "Epoch 30: train_acc_0.8390_train_loss_0.4689_val_acc_0.8276_val_loss_0.5225 epoch time 12.1097 seconds\n",
      "total time6.0 : 14.50725793838501\n"
     ]
    },
    {
     "name": "stderr",
     "output_type": "stream",
     "text": [
      "loss: 0.5942, accuracy: 0.7900: 100%|██████████| 1000/1000 [00:10<00:00, 91.31it/s]\n",
      "loss: 0.4621, accuracy: 0.8600: 100%|██████████| 158/158 [00:01<00:00, 149.71it/s]\n",
      "loss: 0.4853, accuracy: 0.7900:   2%|▏         | 18/1000 [00:00<00:09, 99.30it/s]"
     ]
    },
    {
     "name": "stdout",
     "output_type": "stream",
     "text": [
      "Epoch 31: train_acc_0.8406_train_loss_0.4651_val_acc_0.8338_val_loss_0.4946 epoch time 12.1488 seconds\n",
      "total time6.0 : 26.656028032302856\n"
     ]
    },
    {
     "name": "stderr",
     "output_type": "stream",
     "text": [
      "loss: 0.4354, accuracy: 0.8400: 100%|██████████| 1000/1000 [00:10<00:00, 91.74it/s]\n",
      "loss: 0.4790, accuracy: 0.8300: 100%|██████████| 158/158 [00:01<00:00, 147.83it/s]\n",
      "loss: 0.5071, accuracy: 0.8200:   2%|▏         | 19/1000 [00:00<00:09, 104.04it/s]"
     ]
    },
    {
     "name": "stdout",
     "output_type": "stream",
     "text": [
      "Epoch 32: train_acc_0.8434_train_loss_0.4575_val_acc_0.8364_val_loss_0.4881 epoch time 12.1096 seconds\n",
      "total time6.0 : 38.765663862228394\n"
     ]
    },
    {
     "name": "stderr",
     "output_type": "stream",
     "text": [
      "loss: 0.7050, accuracy: 0.7400: 100%|██████████| 1000/1000 [00:10<00:00, 91.89it/s]\n",
      "loss: 0.7521, accuracy: 0.7900: 100%|██████████| 158/158 [00:01<00:00, 150.17it/s]\n",
      "loss: 0.6088, accuracy: 0.7900:   2%|▏         | 19/1000 [00:00<00:09, 100.98it/s]"
     ]
    },
    {
     "name": "stdout",
     "output_type": "stream",
     "text": [
      "Epoch 33: train_acc_0.8438_train_loss_0.4529_val_acc_0.8342_val_loss_0.4975 epoch time 12.0743 seconds\n",
      "total time6.0 : 50.840009689331055\n"
     ]
    },
    {
     "name": "stderr",
     "output_type": "stream",
     "text": [
      "loss: 0.3535, accuracy: 0.8800: 100%|██████████| 1000/1000 [00:10<00:00, 91.38it/s]\n",
      "loss: 0.4161, accuracy: 0.8800: 100%|██████████| 158/158 [00:01<00:00, 152.18it/s]\n",
      "loss: 0.7037, accuracy: 0.7300:   2%|▏         | 18/1000 [00:00<00:10, 95.83it/s]"
     ]
    },
    {
     "name": "stdout",
     "output_type": "stream",
     "text": [
      "Epoch 34: train_acc_0.8446_train_loss_0.4470_val_acc_0.8376_val_loss_0.4847 epoch time 12.1207 seconds\n",
      "total time7.0 : 2.9607324600219727\n"
     ]
    },
    {
     "name": "stderr",
     "output_type": "stream",
     "text": [
      "loss: 0.3228, accuracy: 0.8700: 100%|██████████| 1000/1000 [00:10<00:00, 94.02it/s]\n",
      "loss: 0.2811, accuracy: 0.9200: 100%|██████████| 158/158 [00:01<00:00, 152.95it/s]\n",
      "loss: 0.4562, accuracy: 0.8800:   2%|▏         | 19/1000 [00:00<00:09, 104.37it/s]"
     ]
    },
    {
     "name": "stdout",
     "output_type": "stream",
     "text": [
      "Epoch 35: train_acc_0.8470_train_loss_0.4418_val_acc_0.8390_val_loss_0.4782 epoch time 12.0819 seconds\n",
      "total time7.0 : 15.042602777481079\n"
     ]
    },
    {
     "name": "stderr",
     "output_type": "stream",
     "text": [
      "loss: 0.4228, accuracy: 0.8500: 100%|██████████| 1000/1000 [00:10<00:00, 92.21it/s]\n",
      "loss: 0.4483, accuracy: 0.8700: 100%|██████████| 158/158 [00:01<00:00, 150.26it/s]\n",
      "loss: 0.5072, accuracy: 0.7900:   2%|▏         | 18/1000 [00:00<00:09, 98.89it/s]"
     ]
    },
    {
     "name": "stdout",
     "output_type": "stream",
     "text": [
      "Epoch 36: train_acc_0.8493_train_loss_0.4362_val_acc_0.8352_val_loss_0.4838 epoch time 12.0332 seconds\n",
      "total time7.0 : 27.075806617736816\n"
     ]
    },
    {
     "name": "stderr",
     "output_type": "stream",
     "text": [
      "loss: 0.6681, accuracy: 0.7400: 100%|██████████| 1000/1000 [00:10<00:00, 91.64it/s]\n",
      "loss: 0.4819, accuracy: 0.8400: 100%|██████████| 158/158 [00:01<00:00, 152.81it/s]\n",
      "loss: 0.3145, accuracy: 0.9000:   2%|▏         | 18/1000 [00:00<00:09, 99.47it/s]"
     ]
    },
    {
     "name": "stdout",
     "output_type": "stream",
     "text": [
      "Epoch 37: train_acc_0.8504_train_loss_0.4318_val_acc_0.8380_val_loss_0.4781 epoch time 12.0839 seconds\n",
      "total time7.0 : 39.15970802307129\n"
     ]
    },
    {
     "name": "stderr",
     "output_type": "stream",
     "text": [
      "loss: 0.4366, accuracy: 0.8200: 100%|██████████| 1000/1000 [00:10<00:00, 95.95it/s]\n",
      "loss: 0.3434, accuracy: 0.8600: 100%|██████████| 158/158 [00:01<00:00, 154.07it/s]\n",
      "loss: 0.2921, accuracy: 0.8900:   2%|▏         | 19/1000 [00:00<00:09, 101.26it/s]"
     ]
    },
    {
     "name": "stdout",
     "output_type": "stream",
     "text": [
      "Epoch 38: train_acc_0.8521_train_loss_0.4278_val_acc_0.8434_val_loss_0.4669 epoch time 12.0596 seconds\n",
      "total time7.0 : 51.21935486793518\n"
     ]
    },
    {
     "name": "stderr",
     "output_type": "stream",
     "text": [
      "loss: 0.4929, accuracy: 0.8500: 100%|██████████| 1000/1000 [00:10<00:00, 94.10it/s]\n",
      "loss: 0.4503, accuracy: 0.8700: 100%|██████████| 158/158 [00:01<00:00, 151.54it/s]\n",
      "loss: 0.4474, accuracy: 0.8400:   2%|▏         | 19/1000 [00:00<00:09, 100.77it/s]"
     ]
    },
    {
     "name": "stdout",
     "output_type": "stream",
     "text": [
      "Epoch 39: train_acc_0.8529_train_loss_0.4226_val_acc_0.8375_val_loss_0.4810 epoch time 11.8066 seconds\n",
      "total time8.0 : 3.025965929031372\n"
     ]
    },
    {
     "name": "stderr",
     "output_type": "stream",
     "text": [
      "loss: 0.3576, accuracy: 0.8800: 100%|██████████| 1000/1000 [00:10<00:00, 92.09it/s]\n",
      "loss: 0.5860, accuracy: 0.7700: 100%|██████████| 158/158 [00:01<00:00, 153.05it/s]\n",
      "loss: 0.5161, accuracy: 0.8300:   2%|▏         | 19/1000 [00:00<00:09, 99.22it/s]"
     ]
    },
    {
     "name": "stdout",
     "output_type": "stream",
     "text": [
      "Epoch 40: train_acc_0.8539_train_loss_0.4179_val_acc_0.8408_val_loss_0.4746 epoch time 12.0323 seconds\n",
      "total time8.0 : 15.058306217193604\n"
     ]
    },
    {
     "name": "stderr",
     "output_type": "stream",
     "text": [
      "loss: 0.2761, accuracy: 0.9000: 100%|██████████| 1000/1000 [00:10<00:00, 92.22it/s]\n",
      "loss: 0.5143, accuracy: 0.7900: 100%|██████████| 158/158 [00:01<00:00, 152.36it/s]\n",
      "loss: 0.4087, accuracy: 0.8600:   2%|▏         | 18/1000 [00:00<00:10, 98.14it/s]"
     ]
    },
    {
     "name": "stdout",
     "output_type": "stream",
     "text": [
      "Epoch 41: train_acc_0.8560_train_loss_0.4142_val_acc_0.8433_val_loss_0.4606 epoch time 12.0173 seconds\n",
      "total time8.0 : 27.07564067840576\n"
     ]
    },
    {
     "name": "stderr",
     "output_type": "stream",
     "text": [
      "loss: 0.4283, accuracy: 0.8400: 100%|██████████| 1000/1000 [00:10<00:00, 92.89it/s]\n",
      "loss: 0.5351, accuracy: 0.8000: 100%|██████████| 158/158 [00:01<00:00, 152.32it/s]\n",
      "loss: 0.2845, accuracy: 0.8800:   2%|▏         | 18/1000 [00:00<00:10, 95.70it/s]"
     ]
    },
    {
     "name": "stdout",
     "output_type": "stream",
     "text": [
      "Epoch 42: train_acc_0.8573_train_loss_0.4087_val_acc_0.8437_val_loss_0.4631 epoch time 11.9406 seconds\n",
      "total time8.0 : 39.01622176170349\n"
     ]
    },
    {
     "name": "stderr",
     "output_type": "stream",
     "text": [
      "loss: 0.4072, accuracy: 0.8300: 100%|██████████| 1000/1000 [00:10<00:00, 94.32it/s]\n",
      "loss: 0.3890, accuracy: 0.9000: 100%|██████████| 158/158 [00:01<00:00, 149.16it/s]\n",
      "loss: 0.4119, accuracy: 0.8900:   2%|▏         | 18/1000 [00:00<00:10, 95.55it/s]"
     ]
    },
    {
     "name": "stdout",
     "output_type": "stream",
     "text": [
      "Epoch 43: train_acc_0.8579_train_loss_0.4056_val_acc_0.8469_val_loss_0.4562 epoch time 12.0706 seconds\n",
      "total time8.0 : 51.08683753013611\n"
     ]
    },
    {
     "name": "stderr",
     "output_type": "stream",
     "text": [
      "loss: 0.3756, accuracy: 0.8900: 100%|██████████| 1000/1000 [00:10<00:00, 94.37it/s]\n",
      "loss: 0.5466, accuracy: 0.8000: 100%|██████████| 158/158 [00:01<00:00, 150.13it/s]\n",
      "loss: 0.3331, accuracy: 0.9000:   2%|▏         | 18/1000 [00:00<00:10, 97.59it/s]"
     ]
    },
    {
     "name": "stdout",
     "output_type": "stream",
     "text": [
      "Epoch 44: train_acc_0.8583_train_loss_0.4022_val_acc_0.8457_val_loss_0.4555 epoch time 12.0338 seconds\n",
      "total time9.0 : 3.120631456375122\n"
     ]
    },
    {
     "name": "stderr",
     "output_type": "stream",
     "text": [
      "loss: 0.3153, accuracy: 0.8700: 100%|██████████| 1000/1000 [00:10<00:00, 92.50it/s]\n",
      "loss: 0.3338, accuracy: 0.9000: 100%|██████████| 158/158 [00:01<00:00, 151.12it/s]\n",
      "loss: 0.2950, accuracy: 0.8900:   2%|▏         | 18/1000 [00:00<00:10, 97.23it/s]"
     ]
    },
    {
     "name": "stdout",
     "output_type": "stream",
     "text": [
      "Epoch 45: train_acc_0.8601_train_loss_0.3985_val_acc_0.8403_val_loss_0.4618 epoch time 11.9934 seconds\n",
      "total time9.0 : 15.114072799682617\n"
     ]
    },
    {
     "name": "stderr",
     "output_type": "stream",
     "text": [
      "loss: 0.3657, accuracy: 0.8600: 100%|██████████| 1000/1000 [00:10<00:00, 92.06it/s]\n",
      "loss: 0.4546, accuracy: 0.8000: 100%|██████████| 158/158 [00:01<00:00, 151.41it/s]\n",
      "loss: 0.2783, accuracy: 0.8800:   2%|▏         | 18/1000 [00:00<00:10, 97.34it/s]"
     ]
    },
    {
     "name": "stdout",
     "output_type": "stream",
     "text": [
      "Epoch 46: train_acc_0.8607_train_loss_0.3953_val_acc_0.8451_val_loss_0.4625 epoch time 12.0425 seconds\n",
      "total time9.0 : 27.1565523147583\n"
     ]
    },
    {
     "name": "stderr",
     "output_type": "stream",
     "text": [
      "loss: 0.5440, accuracy: 0.8100: 100%|██████████| 1000/1000 [00:10<00:00, 92.26it/s]\n",
      "loss: 0.7521, accuracy: 0.8000: 100%|██████████| 158/158 [00:01<00:00, 152.54it/s]\n",
      "loss: 0.3265, accuracy: 0.8700:   2%|▏         | 19/1000 [00:00<00:09, 99.44it/s]"
     ]
    },
    {
     "name": "stdout",
     "output_type": "stream",
     "text": [
      "Epoch 47: train_acc_0.8620_train_loss_0.3915_val_acc_0.8473_val_loss_0.4569 epoch time 12.0097 seconds\n",
      "total time9.0 : 39.16622757911682\n"
     ]
    },
    {
     "name": "stderr",
     "output_type": "stream",
     "text": [
      "loss: 0.3616, accuracy: 0.8500: 100%|██████████| 1000/1000 [00:10<00:00, 92.33it/s]\n",
      "loss: 0.4752, accuracy: 0.8300: 100%|██████████| 158/158 [00:01<00:00, 152.10it/s]\n",
      "loss: 0.4886, accuracy: 0.8400:   2%|▏         | 19/1000 [00:00<00:09, 99.76it/s]"
     ]
    },
    {
     "name": "stdout",
     "output_type": "stream",
     "text": [
      "Epoch 48: train_acc_0.8634_train_loss_0.3885_val_acc_0.8458_val_loss_0.4478 epoch time 12.0059 seconds\n",
      "total time9.0 : 51.172173500061035\n"
     ]
    },
    {
     "name": "stderr",
     "output_type": "stream",
     "text": [
      "loss: 0.3595, accuracy: 0.8600: 100%|██████████| 1000/1000 [00:10<00:00, 94.36it/s]\n",
      "loss: 0.4751, accuracy: 0.8900: 100%|██████████| 158/158 [00:01<00:00, 151.87it/s]\n",
      "loss: 0.4934, accuracy: 0.8000:   2%|▏         | 18/1000 [00:00<00:10, 97.17it/s]"
     ]
    },
    {
     "name": "stdout",
     "output_type": "stream",
     "text": [
      "Epoch 49: train_acc_0.8635_train_loss_0.3855_val_acc_0.8443_val_loss_0.4597 epoch time 11.9840 seconds\n",
      "total time10.0 : 3.156186580657959\n"
     ]
    },
    {
     "name": "stderr",
     "output_type": "stream",
     "text": [
      "loss: 0.4239, accuracy: 0.8600: 100%|██████████| 1000/1000 [00:10<00:00, 95.44it/s]\n",
      "loss: 0.4003, accuracy: 0.8400: 100%|██████████| 158/158 [00:01<00:00, 154.15it/s]\n",
      "loss: 0.2691, accuracy: 0.8800:   2%|▏         | 18/1000 [00:00<00:10, 98.14it/s]"
     ]
    },
    {
     "name": "stdout",
     "output_type": "stream",
     "text": [
      "Epoch 50: train_acc_0.8646_train_loss_0.3822_val_acc_0.8472_val_loss_0.4492 epoch time 12.0449 seconds\n",
      "total time10.0 : 15.201127529144287\n"
     ]
    },
    {
     "name": "stderr",
     "output_type": "stream",
     "text": [
      "loss: 0.4562, accuracy: 0.8400: 100%|██████████| 1000/1000 [00:10<00:00, 95.26it/s]\n",
      "loss: 0.4188, accuracy: 0.8400: 100%|██████████| 158/158 [00:01<00:00, 150.73it/s]\n",
      "loss: 0.3017, accuracy: 0.9000:   2%|▏         | 18/1000 [00:00<00:10, 95.99it/s]"
     ]
    },
    {
     "name": "stdout",
     "output_type": "stream",
     "text": [
      "Epoch 51: train_acc_0.8658_train_loss_0.3796_val_acc_0.8492_val_loss_0.4431 epoch time 12.0162 seconds\n",
      "total time10.0 : 27.217312812805176\n"
     ]
    },
    {
     "name": "stderr",
     "output_type": "stream",
     "text": [
      "loss: 0.3198, accuracy: 0.8700: 100%|██████████| 1000/1000 [00:10<00:00, 94.23it/s]\n",
      "loss: 0.4157, accuracy: 0.8300: 100%|██████████| 158/158 [00:01<00:00, 153.34it/s]\n",
      "loss: 0.3802, accuracy: 0.8700:   2%|▏         | 18/1000 [00:00<00:10, 97.09it/s]"
     ]
    },
    {
     "name": "stdout",
     "output_type": "stream",
     "text": [
      "Epoch 52: train_acc_0.8667_train_loss_0.3756_val_acc_0.8492_val_loss_0.4431 epoch time 12.0482 seconds\n",
      "total time10.0 : 39.26551079750061\n"
     ]
    },
    {
     "name": "stderr",
     "output_type": "stream",
     "text": [
      "loss: 0.3289, accuracy: 0.8700: 100%|██████████| 1000/1000 [00:10<00:00, 93.70it/s]\n",
      "loss: 0.4171, accuracy: 0.8400: 100%|██████████| 158/158 [00:01<00:00, 151.51it/s]\n",
      "loss: 0.3682, accuracy: 0.8700:   2%|▏         | 18/1000 [00:00<00:10, 97.44it/s]"
     ]
    },
    {
     "name": "stdout",
     "output_type": "stream",
     "text": [
      "Epoch 53: train_acc_0.8677_train_loss_0.3731_val_acc_0.8448_val_loss_0.4408 epoch time 12.0530 seconds\n",
      "total time10.0 : 51.318479776382446\n"
     ]
    },
    {
     "name": "stderr",
     "output_type": "stream",
     "text": [
      "loss: 0.3407, accuracy: 0.8900: 100%|██████████| 1000/1000 [00:10<00:00, 92.07it/s]\n",
      "loss: 0.5955, accuracy: 0.8300: 100%|██████████| 158/158 [00:01<00:00, 152.12it/s]\n",
      "loss: 0.5902, accuracy: 0.8700:   2%|▏         | 18/1000 [00:00<00:10, 97.45it/s]"
     ]
    },
    {
     "name": "stdout",
     "output_type": "stream",
     "text": [
      "Epoch 54: train_acc_0.8690_train_loss_0.3693_val_acc_0.8495_val_loss_0.4459 epoch time 12.0389 seconds\n",
      "total time11.0 : 3.357344388961792\n"
     ]
    },
    {
     "name": "stderr",
     "output_type": "stream",
     "text": [
      "loss: 0.5616, accuracy: 0.8000: 100%|██████████| 1000/1000 [00:10<00:00, 96.22it/s]\n",
      "loss: 0.3196, accuracy: 0.8800: 100%|██████████| 158/158 [00:01<00:00, 153.34it/s]\n",
      "loss: 0.4210, accuracy: 0.8300:   2%|▏         | 18/1000 [00:00<00:10, 97.05it/s]"
     ]
    },
    {
     "name": "stdout",
     "output_type": "stream",
     "text": [
      "Epoch 55: train_acc_0.8682_train_loss_0.3687_val_acc_0.8476_val_loss_0.4492 epoch time 11.9827 seconds\n",
      "total time11.0 : 15.340035915374756\n"
     ]
    },
    {
     "name": "stderr",
     "output_type": "stream",
     "text": [
      "loss: 0.3681, accuracy: 0.8700: 100%|██████████| 1000/1000 [00:10<00:00, 92.08it/s]\n",
      "loss: 0.5286, accuracy: 0.8600: 100%|██████████| 158/158 [00:01<00:00, 153.86it/s]\n",
      "loss: 0.2570, accuracy: 0.8900:   2%|▏         | 18/1000 [00:00<00:09, 99.69it/s]"
     ]
    },
    {
     "name": "stdout",
     "output_type": "stream",
     "text": [
      "Epoch 56: train_acc_0.8702_train_loss_0.3651_val_acc_0.8490_val_loss_0.4433 epoch time 12.0262 seconds\n",
      "total time11.0 : 27.366250038146973\n"
     ]
    },
    {
     "name": "stderr",
     "output_type": "stream",
     "text": [
      "loss: 0.6110, accuracy: 0.8100: 100%|██████████| 1000/1000 [00:10<00:00, 92.87it/s]\n",
      "loss: 0.4479, accuracy: 0.8200: 100%|██████████| 158/158 [00:01<00:00, 155.15it/s]\n",
      "loss: 0.3381, accuracy: 0.8700:   2%|▏         | 18/1000 [00:00<00:09, 99.03it/s]"
     ]
    },
    {
     "name": "stdout",
     "output_type": "stream",
     "text": [
      "Epoch 57: train_acc_0.8694_train_loss_0.3622_val_acc_0.8523_val_loss_0.4402 epoch time 11.9217 seconds\n",
      "total time11.0 : 39.28797268867493\n"
     ]
    },
    {
     "name": "stderr",
     "output_type": "stream",
     "text": [
      "loss: 0.3078, accuracy: 0.8800: 100%|██████████| 1000/1000 [00:10<00:00, 93.57it/s]\n",
      "loss: 0.5448, accuracy: 0.8400: 100%|██████████| 158/158 [00:01<00:00, 151.52it/s]\n",
      "loss: 0.3884, accuracy: 0.8400:   2%|▏         | 18/1000 [00:00<00:10, 95.11it/s]"
     ]
    },
    {
     "name": "stdout",
     "output_type": "stream",
     "text": [
      "Epoch 58: train_acc_0.8712_train_loss_0.3593_val_acc_0.8501_val_loss_0.4365 epoch time 11.9818 seconds\n",
      "total time11.0 : 51.26980495452881\n"
     ]
    },
    {
     "name": "stderr",
     "output_type": "stream",
     "text": [
      "loss: 0.5339, accuracy: 0.8800: 100%|██████████| 1000/1000 [00:10<00:00, 92.56it/s]\n",
      "loss: 0.5450, accuracy: 0.8900: 100%|██████████| 158/158 [00:01<00:00, 153.11it/s]\n",
      "loss: 0.4480, accuracy: 0.8300:   2%|▏         | 18/1000 [00:00<00:10, 96.89it/s]"
     ]
    },
    {
     "name": "stdout",
     "output_type": "stream",
     "text": [
      "Epoch 59: train_acc_0.8714_train_loss_0.3571_val_acc_0.8489_val_loss_0.4356 epoch time 11.9746 seconds\n",
      "total time12.0 : 3.2444276809692383\n"
     ]
    },
    {
     "name": "stderr",
     "output_type": "stream",
     "text": [
      "loss: 0.3897, accuracy: 0.8600: 100%|██████████| 1000/1000 [00:10<00:00, 92.55it/s]\n",
      "loss: 0.6103, accuracy: 0.7900: 100%|██████████| 158/158 [00:01<00:00, 151.17it/s]\n",
      "loss: 0.4646, accuracy: 0.8300:   2%|▏         | 18/1000 [00:00<00:10, 96.54it/s]"
     ]
    },
    {
     "name": "stdout",
     "output_type": "stream",
     "text": [
      "Epoch 60: train_acc_0.8720_train_loss_0.3539_val_acc_0.8453_val_loss_0.4626 epoch time 11.9880 seconds\n",
      "total time12.0 : 15.232415199279785\n"
     ]
    },
    {
     "name": "stderr",
     "output_type": "stream",
     "text": [
      "loss: 0.4881, accuracy: 0.8300: 100%|██████████| 1000/1000 [00:10<00:00, 93.86it/s]\n",
      "loss: 0.3197, accuracy: 0.8800: 100%|██████████| 158/158 [00:01<00:00, 155.26it/s]\n",
      "loss: 0.3220, accuracy: 0.8700:   2%|▏         | 18/1000 [00:00<00:10, 97.40it/s]"
     ]
    },
    {
     "name": "stdout",
     "output_type": "stream",
     "text": [
      "Epoch 61: train_acc_0.8735_train_loss_0.3526_val_acc_0.8503_val_loss_0.4367 epoch time 12.0222 seconds\n",
      "total time12.0 : 27.2546329498291\n"
     ]
    },
    {
     "name": "stderr",
     "output_type": "stream",
     "text": [
      "loss: 0.2870, accuracy: 0.8700: 100%|██████████| 1000/1000 [00:10<00:00, 94.83it/s]\n",
      "loss: 0.2720, accuracy: 0.8900: 100%|██████████| 158/158 [00:01<00:00, 153.38it/s]\n",
      "loss: 0.2309, accuracy: 0.9100:   2%|▏         | 19/1000 [00:00<00:09, 100.48it/s]"
     ]
    },
    {
     "name": "stdout",
     "output_type": "stream",
     "text": [
      "Epoch 62: train_acc_0.8730_train_loss_0.3505_val_acc_0.8522_val_loss_0.4378 epoch time 11.9984 seconds\n",
      "total time12.0 : 39.25305891036987\n"
     ]
    },
    {
     "name": "stderr",
     "output_type": "stream",
     "text": [
      "loss: 0.3273, accuracy: 0.8900: 100%|██████████| 1000/1000 [00:10<00:00, 92.36it/s]\n",
      "loss: 0.5194, accuracy: 0.8600: 100%|██████████| 158/158 [00:01<00:00, 154.45it/s]\n",
      "loss: 0.2786, accuracy: 0.8800:   2%|▏         | 19/1000 [00:00<00:09, 104.04it/s]"
     ]
    },
    {
     "name": "stdout",
     "output_type": "stream",
     "text": [
      "Epoch 63: train_acc_0.8743_train_loss_0.3477_val_acc_0.8526_val_loss_0.4345 epoch time 11.9872 seconds\n",
      "total time12.0 : 51.24030566215515\n"
     ]
    },
    {
     "name": "stderr",
     "output_type": "stream",
     "text": [
      "loss: 0.2647, accuracy: 0.8800: 100%|██████████| 1000/1000 [00:10<00:00, 92.22it/s]\n",
      "loss: 0.3925, accuracy: 0.8700: 100%|██████████| 158/158 [00:01<00:00, 154.42it/s]\n",
      "loss: 0.4855, accuracy: 0.8500:   2%|▏         | 18/1000 [00:00<00:09, 98.80it/s]"
     ]
    },
    {
     "name": "stdout",
     "output_type": "stream",
     "text": [
      "Epoch 64: train_acc_0.8756_train_loss_0.3462_val_acc_0.8534_val_loss_0.4359 epoch time 12.0038 seconds\n",
      "total time13.0 : 3.2440876960754395\n"
     ]
    },
    {
     "name": "stderr",
     "output_type": "stream",
     "text": [
      "loss: 0.2717, accuracy: 0.8800: 100%|██████████| 1000/1000 [00:10<00:00, 93.35it/s]\n",
      "loss: 0.3988, accuracy: 0.8500: 100%|██████████| 158/158 [00:01<00:00, 152.15it/s]\n",
      "loss: 0.2731, accuracy: 0.8900:   2%|▏         | 18/1000 [00:00<00:09, 99.21it/s]"
     ]
    },
    {
     "name": "stdout",
     "output_type": "stream",
     "text": [
      "Epoch 65: train_acc_0.8760_train_loss_0.3422_val_acc_0.8534_val_loss_0.4389 epoch time 11.8880 seconds\n",
      "total time13.0 : 15.13210153579712\n"
     ]
    },
    {
     "name": "stderr",
     "output_type": "stream",
     "text": [
      "loss: 0.2889, accuracy: 0.8900: 100%|██████████| 1000/1000 [00:10<00:00, 92.21it/s]\n",
      "loss: 0.4142, accuracy: 0.8700: 100%|██████████| 158/158 [00:01<00:00, 148.98it/s]\n",
      "loss: 0.3422, accuracy: 0.9100:   2%|▏         | 18/1000 [00:00<00:10, 96.04it/s]"
     ]
    },
    {
     "name": "stdout",
     "output_type": "stream",
     "text": [
      "Epoch 66: train_acc_0.8765_train_loss_0.3403_val_acc_0.8513_val_loss_0.4355 epoch time 12.0429 seconds\n",
      "total time13.0 : 27.175040006637573\n"
     ]
    },
    {
     "name": "stderr",
     "output_type": "stream",
     "text": [
      "loss: 0.2704, accuracy: 0.9200: 100%|██████████| 1000/1000 [00:10<00:00, 92.50it/s]\n",
      "loss: 0.5704, accuracy: 0.8600: 100%|██████████| 158/158 [00:01<00:00, 150.10it/s]\n",
      "loss: 0.4682, accuracy: 0.8700:   2%|▏         | 19/1000 [00:00<00:10, 97.81it/s]"
     ]
    },
    {
     "name": "stdout",
     "output_type": "stream",
     "text": [
      "Epoch 67: train_acc_0.8775_train_loss_0.3390_val_acc_0.8530_val_loss_0.4285 epoch time 12.0000 seconds\n",
      "total time13.0 : 39.17501664161682\n"
     ]
    },
    {
     "name": "stderr",
     "output_type": "stream",
     "text": [
      "loss: 0.3420, accuracy: 0.9000: 100%|██████████| 1000/1000 [00:10<00:00, 92.41it/s]\n",
      "loss: 0.3314, accuracy: 0.8900: 100%|██████████| 158/158 [00:01<00:00, 150.31it/s]\n",
      "loss: 0.2980, accuracy: 0.8700:   2%|▏         | 18/1000 [00:00<00:10, 96.70it/s]"
     ]
    },
    {
     "name": "stdout",
     "output_type": "stream",
     "text": [
      "Epoch 68: train_acc_0.8772_train_loss_0.3363_val_acc_0.8529_val_loss_0.4351 epoch time 12.0113 seconds\n",
      "total time13.0 : 51.186312198638916\n"
     ]
    },
    {
     "name": "stderr",
     "output_type": "stream",
     "text": [
      "loss: 0.3010, accuracy: 0.8500: 100%|██████████| 1000/1000 [00:10<00:00, 92.25it/s]\n",
      "loss: 0.4093, accuracy: 0.8300: 100%|██████████| 158/158 [00:01<00:00, 151.47it/s]\n",
      "loss: 0.4141, accuracy: 0.8400:   2%|▏         | 18/1000 [00:00<00:10, 95.08it/s]"
     ]
    },
    {
     "name": "stdout",
     "output_type": "stream",
     "text": [
      "Epoch 69: train_acc_0.8786_train_loss_0.3329_val_acc_0.8492_val_loss_0.4385 epoch time 12.0215 seconds\n",
      "total time14.0 : 3.207843542098999\n"
     ]
    },
    {
     "name": "stderr",
     "output_type": "stream",
     "text": [
      "loss: 0.3349, accuracy: 0.8500: 100%|██████████| 1000/1000 [00:10<00:00, 92.27it/s]\n",
      "loss: 0.3565, accuracy: 0.8900: 100%|██████████| 158/158 [00:01<00:00, 152.78it/s]\n",
      "loss: 0.2743, accuracy: 0.9200:   2%|▏         | 18/1000 [00:00<00:10, 98.15it/s]"
     ]
    },
    {
     "name": "stdout",
     "output_type": "stream",
     "text": [
      "Epoch 70: train_acc_0.8790_train_loss_0.3324_val_acc_0.8527_val_loss_0.4330 epoch time 12.0089 seconds\n",
      "total time14.0 : 15.216785907745361\n"
     ]
    },
    {
     "name": "stderr",
     "output_type": "stream",
     "text": [
      "loss: 0.4026, accuracy: 0.8500: 100%|██████████| 1000/1000 [00:10<00:00, 92.10it/s]\n",
      "loss: 0.3920, accuracy: 0.9200: 100%|██████████| 158/158 [00:01<00:00, 149.32it/s]\n",
      "loss: 0.2238, accuracy: 0.9100:   2%|▏         | 18/1000 [00:00<00:10, 97.29it/s]"
     ]
    },
    {
     "name": "stdout",
     "output_type": "stream",
     "text": [
      "Epoch 71: train_acc_0.8796_train_loss_0.3302_val_acc_0.8528_val_loss_0.4358 epoch time 12.0553 seconds\n",
      "total time14.0 : 27.272108793258667\n"
     ]
    },
    {
     "name": "stderr",
     "output_type": "stream",
     "text": [
      "loss: 0.3780, accuracy: 0.8700: 100%|██████████| 1000/1000 [00:10<00:00, 93.48it/s]\n",
      "loss: 0.4478, accuracy: 0.8200: 100%|██████████| 158/158 [00:01<00:00, 156.08it/s]\n",
      "loss: 0.3476, accuracy: 0.8700:   2%|▏         | 19/1000 [00:00<00:10, 96.83it/s]"
     ]
    },
    {
     "name": "stdout",
     "output_type": "stream",
     "text": [
      "Epoch 72: train_acc_0.8805_train_loss_0.3276_val_acc_0.8513_val_loss_0.4354 epoch time 12.0718 seconds\n",
      "total time14.0 : 39.34394669532776\n"
     ]
    },
    {
     "name": "stderr",
     "output_type": "stream",
     "text": [
      "loss: 0.3070, accuracy: 0.8900: 100%|██████████| 1000/1000 [00:10<00:00, 92.23it/s]\n",
      "loss: 0.4055, accuracy: 0.8400: 100%|██████████| 158/158 [00:01<00:00, 152.53it/s]\n",
      "loss: 0.3602, accuracy: 0.8700:   2%|▏         | 18/1000 [00:00<00:10, 94.83it/s]"
     ]
    },
    {
     "name": "stdout",
     "output_type": "stream",
     "text": [
      "Epoch 73: train_acc_0.8802_train_loss_0.3261_val_acc_0.8499_val_loss_0.4428 epoch time 12.0155 seconds\n",
      "total time14.0 : 51.359440088272095\n"
     ]
    },
    {
     "name": "stderr",
     "output_type": "stream",
     "text": [
      "loss: 0.4189, accuracy: 0.8700: 100%|██████████| 1000/1000 [00:10<00:00, 93.97it/s]\n",
      "loss: 0.2562, accuracy: 0.9100: 100%|██████████| 158/158 [00:01<00:00, 153.08it/s]\n",
      "loss: 0.2916, accuracy: 0.8800:   2%|▏         | 19/1000 [00:00<00:09, 98.29it/s]"
     ]
    },
    {
     "name": "stdout",
     "output_type": "stream",
     "text": [
      "Epoch 74: train_acc_0.8806_train_loss_0.3245_val_acc_0.8516_val_loss_0.4413 epoch time 12.0700 seconds\n",
      "total time15.0 : 3.4293925762176514\n"
     ]
    },
    {
     "name": "stderr",
     "output_type": "stream",
     "text": [
      "loss: 0.3314, accuracy: 0.9100: 100%|██████████| 1000/1000 [00:10<00:00, 91.99it/s]\n",
      "loss: 0.4098, accuracy: 0.8400: 100%|██████████| 158/158 [00:01<00:00, 152.32it/s]\n",
      "loss: 0.1876, accuracy: 0.9200:   2%|▏         | 19/1000 [00:00<00:09, 99.83it/s]"
     ]
    },
    {
     "name": "stdout",
     "output_type": "stream",
     "text": [
      "Epoch 75: train_acc_0.8824_train_loss_0.3222_val_acc_0.8546_val_loss_0.4435 epoch time 12.0477 seconds\n",
      "total time15.0 : 15.477107524871826\n"
     ]
    },
    {
     "name": "stderr",
     "output_type": "stream",
     "text": [
      "loss: 0.2535, accuracy: 0.9300: 100%|██████████| 1000/1000 [00:10<00:00, 92.38it/s]\n",
      "loss: 0.5406, accuracy: 0.8000: 100%|██████████| 158/158 [00:01<00:00, 150.38it/s]\n",
      "loss: 0.2238, accuracy: 0.9200:   2%|▏         | 19/1000 [00:00<00:10, 97.96it/s]"
     ]
    },
    {
     "name": "stdout",
     "output_type": "stream",
     "text": [
      "Epoch 76: train_acc_0.8819_train_loss_0.3205_val_acc_0.8531_val_loss_0.4341 epoch time 12.0156 seconds\n",
      "total time15.0 : 27.49271059036255\n"
     ]
    },
    {
     "name": "stderr",
     "output_type": "stream",
     "text": [
      "loss: 0.2489, accuracy: 0.9400: 100%|██████████| 1000/1000 [00:10<00:00, 92.26it/s]\n",
      "loss: 0.4300, accuracy: 0.8500: 100%|██████████| 158/158 [00:01<00:00, 153.61it/s]\n",
      "loss: 0.3542, accuracy: 0.8500:   2%|▏         | 18/1000 [00:00<00:10, 98.13it/s]"
     ]
    },
    {
     "name": "stdout",
     "output_type": "stream",
     "text": [
      "Epoch 77: train_acc_0.8833_train_loss_0.3184_val_acc_0.8550_val_loss_0.4363 epoch time 12.0052 seconds\n",
      "total time15.0 : 39.49789595603943\n"
     ]
    },
    {
     "name": "stderr",
     "output_type": "stream",
     "text": [
      "loss: 0.2582, accuracy: 0.9200: 100%|██████████| 1000/1000 [00:10<00:00, 92.13it/s]\n",
      "loss: 0.3449, accuracy: 0.8700: 100%|██████████| 158/158 [00:01<00:00, 152.45it/s]\n",
      "loss: 0.3272, accuracy: 0.8500:   2%|▏         | 18/1000 [00:00<00:10, 97.44it/s]"
     ]
    },
    {
     "name": "stdout",
     "output_type": "stream",
     "text": [
      "Epoch 78: train_acc_0.8840_train_loss_0.3169_val_acc_0.8527_val_loss_0.4398 epoch time 12.0262 seconds\n",
      "total time15.0 : 51.52408742904663\n"
     ]
    },
    {
     "name": "stderr",
     "output_type": "stream",
     "text": [
      "loss: 0.2697, accuracy: 0.8900: 100%|██████████| 1000/1000 [00:10<00:00, 94.60it/s]\n",
      "loss: 0.4909, accuracy: 0.8300: 100%|██████████| 158/158 [00:01<00:00, 151.22it/s]\n",
      "loss: 0.2440, accuracy: 0.9200:   2%|▏         | 19/1000 [00:00<00:09, 98.49it/s]"
     ]
    },
    {
     "name": "stdout",
     "output_type": "stream",
     "text": [
      "Epoch 79: train_acc_0.8831_train_loss_0.3162_val_acc_0.8537_val_loss_0.4316 epoch time 12.0058 seconds\n",
      "total time16.0 : 3.5299174785614014\n"
     ]
    },
    {
     "name": "stderr",
     "output_type": "stream",
     "text": [
      "loss: 0.2849, accuracy: 0.8700: 100%|██████████| 1000/1000 [00:10<00:00, 94.78it/s]\n",
      "loss: 0.2878, accuracy: 0.8500: 100%|██████████| 158/158 [00:01<00:00, 153.02it/s]\n",
      "loss: 0.2953, accuracy: 0.8800:   2%|▏         | 18/1000 [00:00<00:09, 99.06it/s]"
     ]
    },
    {
     "name": "stdout",
     "output_type": "stream",
     "text": [
      "Epoch 80: train_acc_0.8847_train_loss_0.3145_val_acc_0.8557_val_loss_0.4322 epoch time 12.0317 seconds\n",
      "total time16.0 : 15.561577320098877\n"
     ]
    },
    {
     "name": "stderr",
     "output_type": "stream",
     "text": [
      "loss: 0.3503, accuracy: 0.8500: 100%|██████████| 1000/1000 [00:10<00:00, 93.64it/s]\n",
      "loss: 0.2809, accuracy: 0.8600: 100%|██████████| 158/158 [00:01<00:00, 150.19it/s]\n",
      "loss: 0.2831, accuracy: 0.9000:   2%|▏         | 18/1000 [00:00<00:09, 99.48it/s]"
     ]
    },
    {
     "name": "stdout",
     "output_type": "stream",
     "text": [
      "Epoch 81: train_acc_0.8845_train_loss_0.3121_val_acc_0.8544_val_loss_0.4362 epoch time 12.0399 seconds\n",
      "total time16.0 : 27.601447105407715\n"
     ]
    },
    {
     "name": "stderr",
     "output_type": "stream",
     "text": [
      "loss: 0.4925, accuracy: 0.8800: 100%|██████████| 1000/1000 [00:10<00:00, 94.50it/s]\n",
      "loss: 0.3229, accuracy: 0.8800: 100%|██████████| 158/158 [00:01<00:00, 154.44it/s]\n",
      "loss: 0.4509, accuracy: 0.8400:   2%|▏         | 18/1000 [00:00<00:10, 96.27it/s]"
     ]
    },
    {
     "name": "stdout",
     "output_type": "stream",
     "text": [
      "Epoch 82: train_acc_0.8862_train_loss_0.3094_val_acc_0.8501_val_loss_0.4413 epoch time 12.0005 seconds\n",
      "total time16.0 : 39.60192155838013\n"
     ]
    },
    {
     "name": "stderr",
     "output_type": "stream",
     "text": [
      "loss: 0.2267, accuracy: 0.8900: 100%|██████████| 1000/1000 [00:10<00:00, 92.61it/s]\n",
      "loss: 0.3956, accuracy: 0.8800: 100%|██████████| 158/158 [00:01<00:00, 152.08it/s]\n",
      "loss: 0.3209, accuracy: 0.9100:   2%|▏         | 18/1000 [00:00<00:09, 99.05it/s]"
     ]
    },
    {
     "name": "stdout",
     "output_type": "stream",
     "text": [
      "Epoch 83: train_acc_0.8852_train_loss_0.3083_val_acc_0.8540_val_loss_0.4355 epoch time 11.9754 seconds\n",
      "total time16.0 : 51.57729721069336\n"
     ]
    },
    {
     "name": "stderr",
     "output_type": "stream",
     "text": [
      "loss: 0.2691, accuracy: 0.8900: 100%|██████████| 1000/1000 [00:10<00:00, 91.74it/s]\n",
      "loss: 0.3515, accuracy: 0.9000: 100%|██████████| 158/158 [00:01<00:00, 152.93it/s]\n",
      "loss: 0.3764, accuracy: 0.8600:   2%|▏         | 18/1000 [00:00<00:10, 97.72it/s]"
     ]
    },
    {
     "name": "stdout",
     "output_type": "stream",
     "text": [
      "Epoch 84: train_acc_0.8864_train_loss_0.3074_val_acc_0.8532_val_loss_0.4405 epoch time 12.0714 seconds\n",
      "total time17.0 : 3.6486968994140625\n"
     ]
    },
    {
     "name": "stderr",
     "output_type": "stream",
     "text": [
      "loss: 0.5615, accuracy: 0.8200: 100%|██████████| 1000/1000 [00:10<00:00, 92.44it/s]\n",
      "loss: 0.8000, accuracy: 0.8100: 100%|██████████| 158/158 [00:01<00:00, 153.77it/s]\n",
      "loss: 0.2679, accuracy: 0.9100:   2%|▏         | 18/1000 [00:00<00:10, 96.39it/s]"
     ]
    },
    {
     "name": "stdout",
     "output_type": "stream",
     "text": [
      "Epoch 85: train_acc_0.8868_train_loss_0.3045_val_acc_0.8535_val_loss_0.4415 epoch time 11.9835 seconds\n",
      "total time17.0 : 15.632181644439697\n"
     ]
    },
    {
     "name": "stderr",
     "output_type": "stream",
     "text": [
      "loss: 0.2502, accuracy: 0.9000: 100%|██████████| 1000/1000 [00:10<00:00, 92.30it/s]\n",
      "loss: 0.3259, accuracy: 0.9100: 100%|██████████| 158/158 [00:01<00:00, 153.17it/s]\n",
      "loss: 0.2833, accuracy: 0.8900:   2%|▏         | 18/1000 [00:00<00:09, 98.50it/s]"
     ]
    },
    {
     "name": "stdout",
     "output_type": "stream",
     "text": [
      "Epoch 86: train_acc_0.8882_train_loss_0.3037_val_acc_0.8530_val_loss_0.4413 epoch time 12.0017 seconds\n",
      "total time17.0 : 27.633857488632202\n"
     ]
    },
    {
     "name": "stderr",
     "output_type": "stream",
     "text": [
      "loss: 0.2334, accuracy: 0.9000: 100%|██████████| 1000/1000 [00:10<00:00, 95.26it/s]\n",
      "loss: 0.3367, accuracy: 0.8700: 100%|██████████| 158/158 [00:01<00:00, 153.65it/s]\n",
      "loss: 0.2113, accuracy: 0.9400:   2%|▏         | 19/1000 [00:00<00:10, 97.54it/s]"
     ]
    },
    {
     "name": "stdout",
     "output_type": "stream",
     "text": [
      "Epoch 87: train_acc_0.8874_train_loss_0.3024_val_acc_0.8529_val_loss_0.4359 epoch time 11.9984 seconds\n",
      "total time17.0 : 39.63221740722656\n"
     ]
    },
    {
     "name": "stderr",
     "output_type": "stream",
     "text": [
      "loss: 0.2453, accuracy: 0.9300: 100%|██████████| 1000/1000 [00:10<00:00, 95.06it/s]\n",
      "loss: 0.4681, accuracy: 0.8900: 100%|██████████| 158/158 [00:01<00:00, 151.76it/s]\n",
      "loss: 0.2890, accuracy: 0.9000:   2%|▏         | 18/1000 [00:00<00:10, 98.13it/s]"
     ]
    },
    {
     "name": "stdout",
     "output_type": "stream",
     "text": [
      "Epoch 88: train_acc_0.8894_train_loss_0.2999_val_acc_0.8524_val_loss_0.4396 epoch time 12.0010 seconds\n",
      "total time17.0 : 51.63321352005005\n"
     ]
    },
    {
     "name": "stderr",
     "output_type": "stream",
     "text": [
      "loss: 0.2921, accuracy: 0.9100: 100%|██████████| 1000/1000 [00:10<00:00, 96.21it/s]\n",
      "loss: 0.4884, accuracy: 0.8300: 100%|██████████| 158/158 [00:01<00:00, 153.86it/s]\n",
      "loss: 0.3382, accuracy: 0.8800:   2%|▏         | 19/1000 [00:00<00:10, 96.94it/s]"
     ]
    },
    {
     "name": "stdout",
     "output_type": "stream",
     "text": [
      "Epoch 89: train_acc_0.8895_train_loss_0.2986_val_acc_0.8517_val_loss_0.4389 epoch time 12.0129 seconds\n",
      "total time18.0 : 3.646148681640625\n"
     ]
    },
    {
     "name": "stderr",
     "output_type": "stream",
     "text": [
      "loss: 0.2717, accuracy: 0.9000: 100%|██████████| 1000/1000 [00:10<00:00, 94.09it/s]\n",
      "loss: 0.4799, accuracy: 0.8300: 100%|██████████| 158/158 [00:01<00:00, 151.04it/s]\n",
      "loss: 0.3200, accuracy: 0.8500:   2%|▏         | 18/1000 [00:00<00:10, 97.28it/s]"
     ]
    },
    {
     "name": "stdout",
     "output_type": "stream",
     "text": [
      "Epoch 90: train_acc_0.8891_train_loss_0.2974_val_acc_0.8527_val_loss_0.4362 epoch time 12.0397 seconds\n",
      "total time18.0 : 15.685848712921143\n"
     ]
    },
    {
     "name": "stderr",
     "output_type": "stream",
     "text": [
      "loss: 0.2208, accuracy: 0.9200: 100%|██████████| 1000/1000 [00:10<00:00, 94.98it/s]\n",
      "loss: 0.8709, accuracy: 0.8500: 100%|██████████| 158/158 [00:01<00:00, 149.83it/s]\n",
      "loss: 0.2239, accuracy: 0.9200:   2%|▏         | 18/1000 [00:00<00:09, 99.61it/s]"
     ]
    },
    {
     "name": "stdout",
     "output_type": "stream",
     "text": [
      "Epoch 91: train_acc_0.8900_train_loss_0.2964_val_acc_0.8536_val_loss_0.4429 epoch time 11.8956 seconds\n",
      "total time18.0 : 27.581426858901978\n"
     ]
    },
    {
     "name": "stderr",
     "output_type": "stream",
     "text": [
      "loss: 0.3367, accuracy: 0.8600: 100%|██████████| 1000/1000 [00:10<00:00, 93.92it/s]\n",
      "loss: 0.4925, accuracy: 0.8700: 100%|██████████| 158/158 [00:01<00:00, 151.94it/s]\n",
      "loss: 0.3735, accuracy: 0.8600:   2%|▏         | 18/1000 [00:00<00:09, 98.48it/s]"
     ]
    },
    {
     "name": "stdout",
     "output_type": "stream",
     "text": [
      "Epoch 92: train_acc_0.8898_train_loss_0.2945_val_acc_0.8557_val_loss_0.4415 epoch time 12.1055 seconds\n",
      "total time18.0 : 39.6869683265686\n"
     ]
    },
    {
     "name": "stderr",
     "output_type": "stream",
     "text": [
      "loss: 0.2415, accuracy: 0.9000: 100%|██████████| 1000/1000 [00:10<00:00, 92.68it/s]\n",
      "loss: 0.3296, accuracy: 0.8400: 100%|██████████| 158/158 [00:01<00:00, 153.08it/s]\n",
      "loss: 0.2145, accuracy: 0.9400:   2%|▏         | 18/1000 [00:00<00:09, 99.70it/s]"
     ]
    },
    {
     "name": "stdout",
     "output_type": "stream",
     "text": [
      "Epoch 93: train_acc_0.8912_train_loss_0.2925_val_acc_0.8520_val_loss_0.4456 epoch time 11.9578 seconds\n",
      "total time18.0 : 51.64475202560425\n"
     ]
    },
    {
     "name": "stderr",
     "output_type": "stream",
     "text": [
      "loss: 0.1673, accuracy: 0.9400: 100%|██████████| 1000/1000 [00:10<00:00, 93.37it/s]\n",
      "loss: 0.2900, accuracy: 0.8900: 100%|██████████| 158/158 [00:01<00:00, 151.75it/s]\n",
      "loss: 0.3745, accuracy: 0.9100:   2%|▏         | 18/1000 [00:00<00:09, 98.84it/s]"
     ]
    },
    {
     "name": "stdout",
     "output_type": "stream",
     "text": [
      "Epoch 94: train_acc_0.8917_train_loss_0.2925_val_acc_0.8541_val_loss_0.4466 epoch time 12.0890 seconds\n",
      "total time19.0 : 3.7337112426757812\n"
     ]
    },
    {
     "name": "stderr",
     "output_type": "stream",
     "text": [
      "loss: 0.3280, accuracy: 0.8800: 100%|██████████| 1000/1000 [00:10<00:00, 92.15it/s]\n",
      "loss: 0.2358, accuracy: 0.9100: 100%|██████████| 158/158 [00:01<00:00, 155.18it/s]\n",
      "loss: 0.1928, accuracy: 0.9100:   2%|▏         | 18/1000 [00:00<00:10, 94.24it/s]"
     ]
    },
    {
     "name": "stdout",
     "output_type": "stream",
     "text": [
      "Epoch 95: train_acc_0.8923_train_loss_0.2896_val_acc_0.8523_val_loss_0.4412 epoch time 12.0078 seconds\n",
      "total time19.0 : 15.74151873588562\n"
     ]
    },
    {
     "name": "stderr",
     "output_type": "stream",
     "text": [
      "loss: 0.1445, accuracy: 0.9500: 100%|██████████| 1000/1000 [00:10<00:00, 91.94it/s]\n",
      "loss: 0.4703, accuracy: 0.8500: 100%|██████████| 158/158 [00:01<00:00, 151.45it/s]\n",
      "loss: 0.2929, accuracy: 0.8800:   2%|▏         | 18/1000 [00:00<00:09, 98.95it/s]"
     ]
    },
    {
     "name": "stdout",
     "output_type": "stream",
     "text": [
      "Epoch 96: train_acc_0.8932_train_loss_0.2882_val_acc_0.8540_val_loss_0.4433 epoch time 12.0586 seconds\n",
      "total time19.0 : 27.800155639648438\n"
     ]
    },
    {
     "name": "stderr",
     "output_type": "stream",
     "text": [
      "loss: 0.1712, accuracy: 0.9300: 100%|██████████| 1000/1000 [00:10<00:00, 95.95it/s]\n",
      "loss: 0.2664, accuracy: 0.9100: 100%|██████████| 158/158 [00:01<00:00, 153.55it/s]\n",
      "loss: 0.2531, accuracy: 0.8800:   2%|▏         | 18/1000 [00:00<00:09, 98.75it/s]"
     ]
    },
    {
     "name": "stdout",
     "output_type": "stream",
     "text": [
      "Epoch 97: train_acc_0.8924_train_loss_0.2871_val_acc_0.8513_val_loss_0.4530 epoch time 12.0138 seconds\n",
      "total time19.0 : 39.81395602226257\n"
     ]
    },
    {
     "name": "stderr",
     "output_type": "stream",
     "text": [
      "loss: 0.4037, accuracy: 0.8800: 100%|██████████| 1000/1000 [00:10<00:00, 91.96it/s]\n",
      "loss: 0.5045, accuracy: 0.8900: 100%|██████████| 158/158 [00:01<00:00, 149.01it/s]\n",
      "loss: 0.2974, accuracy: 0.8700:   2%|▏         | 19/1000 [00:00<00:10, 97.95it/s]"
     ]
    },
    {
     "name": "stdout",
     "output_type": "stream",
     "text": [
      "Epoch 98: train_acc_0.8926_train_loss_0.2860_val_acc_0.8508_val_loss_0.4505 epoch time 12.0717 seconds\n",
      "total time19.0 : 51.88568449020386\n"
     ]
    },
    {
     "name": "stderr",
     "output_type": "stream",
     "text": [
      "loss: 0.2570, accuracy: 0.9100: 100%|██████████| 1000/1000 [00:10<00:00, 92.18it/s]\n",
      "loss: 0.5331, accuracy: 0.8000: 100%|██████████| 158/158 [00:01<00:00, 150.78it/s]\n",
      "loss: 0.5579, accuracy: 0.8900:  20%|█▉        | 31/158 [00:00<00:00, 164.17it/s]"
     ]
    },
    {
     "name": "stdout",
     "output_type": "stream",
     "text": [
      "Epoch 99: train_acc_0.8927_train_loss_0.2849_val_acc_0.8506_val_loss_0.4586 epoch time 12.0356 seconds\n",
      "total time20.0 : 3.921269655227661\n",
      "Generating test set evaluation metrics\n"
     ]
    },
    {
     "name": "stderr",
     "output_type": "stream",
     "text": [
      "loss: 0.4498, accuracy: 0.8100: 100%|██████████| 158/158 [00:01<00:00, 152.00it/s]\n"
     ]
    },
    {
     "name": "stdout",
     "output_type": "stream",
     "text": [
      "finish\n"
     ]
    },
    {
     "data": {
      "image/png": "[encoded data removed]",
      "text/plain": [
       "<Figure size 576x288 with 1 Axes>"
      ]
     },
     "metadata": {
      "needs_background": "light"
     },
     "output_type": "display_data"
    },
    {
     "data": {
      "image/png": "[encoded data removed]",
      "text/plain": [
       "<Figure size 576x288 with 1 Axes>"
      ]
     },
     "metadata": {
      "needs_background": "light"
     },
     "output_type": "display_data"
    },
    {
     "name": "stderr",
     "output_type": "stream",
     "text": [
      "loss: 3.8506, accuracy: 0.0200:   2%|▏         | 19/1000 [00:00<00:08, 111.79it/s]"
     ]
    },
    {
     "name": "stdout",
     "output_type": "stream",
     "text": [
      "Building basic block of ConvolutionalNetwork using input shape (100, 1, 28, 28)\n",
      "torch.Size([100, 64, 7, 7])\n",
      "torch.Size([100, 64, 4, 4])\n",
      "torch.Size([100, 64, 1, 1])\n",
      "torch.Size([100, 64, 1, 1])\n",
      "torch.Size([100, 64, 1, 1])\n",
      "torch.Size([100, 64, 1, 1])\n",
      "torch.Size([100, 64, 1, 1])\n",
      "torch.Size([100, 64, 1, 1])\n",
      "shape before final linear layer torch.Size([100, 64, 2, 2])\n",
      "Block is built, output volume is torch.Size([100, 47])\n",
      "use GPU\n",
      "ConvolutionalNetwork(\n",
      "  (layer_dict): ModuleDict(\n",
      "    (conv_0): Conv2d(1, 64, kernel_size=(3, 3), stride=(4, 4), padding=(1, 1))\n",
      "    (dim_reduction_avg_pool_0): AvgPool2d(kernel_size=2, stride=2, padding=1)\n",
      "    (conv_1): Conv2d(64, 64, kernel_size=(3, 3), stride=(4, 4), padding=(1, 1))\n",
      "    (dim_reduction_avg_pool_1): AvgPool2d(kernel_size=2, stride=2, padding=1)\n",
      "    (conv_2): Conv2d(64, 64, kernel_size=(3, 3), stride=(4, 4), padding=(1, 1))\n",
      "    (dim_reduction_avg_pool_2): AvgPool2d(kernel_size=2, stride=2, padding=1)\n",
      "    (conv_3): Conv2d(64, 64, kernel_size=(3, 3), stride=(4, 4), padding=(1, 1))\n",
      "    (dim_reduction_avg_pool_3): AvgPool2d(kernel_size=2, stride=2, padding=1)\n",
      "  )\n",
      "  (logit_linear_layer): Linear(in_features=256, out_features=47, bias=True)\n",
      ")\n"
     ]
    },
    {
     "name": "stderr",
     "output_type": "stream",
     "text": [
      "loss: 3.6865, accuracy: 0.0400: 100%|██████████| 1000/1000 [00:09<00:00, 100.57it/s]\n",
      "loss: 3.6625, accuracy: 0.0800: 100%|██████████| 158/158 [00:01<00:00, 156.79it/s]\n",
      "loss: 3.6525, accuracy: 0.0500:   2%|▏         | 20/1000 [00:00<00:09, 108.04it/s]"
     ]
    },
    {
     "name": "stdout",
     "output_type": "stream",
     "text": [
      "Epoch 0: train_acc_0.0415_train_loss_3.7004_val_acc_0.0440_val_loss_3.6717 epoch time 11.0884 seconds\n",
      "total time0.0 : 11.08840560913086\n"
     ]
    },
    {
     "name": "stderr",
     "output_type": "stream",
     "text": [
      "loss: 3.5708, accuracy: 0.0500: 100%|██████████| 1000/1000 [00:09<00:00, 101.03it/s]\n",
      "loss: 3.5713, accuracy: 0.0500: 100%|██████████| 158/158 [00:00<00:00, 158.11it/s]\n",
      "loss: 3.5659, accuracy: 0.1100:   2%|▏         | 20/1000 [00:00<00:09, 105.74it/s]"
     ]
    },
    {
     "name": "stdout",
     "output_type": "stream",
     "text": [
      "Epoch 1: train_acc_0.0537_train_loss_3.6393_val_acc_0.0554_val_loss_3.5924 epoch time 11.0341 seconds\n",
      "total time0.0 : 22.122516870498657\n"
     ]
    },
    {
     "name": "stderr",
     "output_type": "stream",
     "text": [
      "loss: 3.4471, accuracy: 0.0300: 100%|██████████| 1000/1000 [00:09<00:00, 100.32it/s]\n",
      "loss: 3.4072, accuracy: 0.0500: 100%|██████████| 158/158 [00:01<00:00, 157.15it/s]\n",
      "loss: 3.6066, accuracy: 0.0600:   2%|▏         | 20/1000 [00:00<00:09, 106.24it/s]"
     ]
    },
    {
     "name": "stdout",
     "output_type": "stream",
     "text": [
      "Epoch 2: train_acc_0.0654_train_loss_3.5261_val_acc_0.0690_val_loss_3.4918 epoch time 11.1138 seconds\n",
      "total time0.0 : 33.23634076118469\n"
     ]
    },
    {
     "name": "stderr",
     "output_type": "stream",
     "text": [
      "loss: 3.4737, accuracy: 0.0800: 100%|██████████| 1000/1000 [00:09<00:00, 101.31it/s]\n",
      "loss: 3.2593, accuracy: 0.1900: 100%|██████████| 158/158 [00:01<00:00, 157.62it/s]\n",
      "loss: 3.4315, accuracy: 0.1000:   2%|▏         | 20/1000 [00:00<00:09, 103.87it/s]"
     ]
    },
    {
     "name": "stdout",
     "output_type": "stream",
     "text": [
      "Epoch 3: train_acc_0.0737_train_loss_3.4679_val_acc_0.0756_val_loss_3.4681 epoch time 11.0111 seconds\n",
      "total time0.0 : 44.2474582195282\n"
     ]
    },
    {
     "name": "stderr",
     "output_type": "stream",
     "text": [
      "loss: 3.4641, accuracy: 0.0600: 100%|██████████| 1000/1000 [00:09<00:00, 100.65it/s]\n",
      "loss: 3.3810, accuracy: 0.0900: 100%|██████████| 158/158 [00:01<00:00, 157.72it/s]\n",
      "loss: 3.3677, accuracy: 0.1100:   2%|▏         | 20/1000 [00:00<00:09, 107.28it/s]"
     ]
    },
    {
     "name": "stdout",
     "output_type": "stream",
     "text": [
      "Epoch 4: train_acc_0.0794_train_loss_3.4362_val_acc_0.0791_val_loss_3.4216 epoch time 11.0760 seconds\n",
      "total time0.0 : 55.323437452316284\n"
     ]
    },
    {
     "name": "stderr",
     "output_type": "stream",
     "text": [
      "loss: 3.3004, accuracy: 0.0800: 100%|██████████| 1000/1000 [00:09<00:00, 101.23it/s]\n",
      "loss: 3.3543, accuracy: 0.1100: 100%|██████████| 158/158 [00:00<00:00, 160.75it/s]\n",
      "loss: 3.4820, accuracy: 0.0600:   2%|▏         | 20/1000 [00:00<00:09, 108.89it/s]"
     ]
    },
    {
     "name": "stdout",
     "output_type": "stream",
     "text": [
      "Epoch 5: train_acc_0.0846_train_loss_3.4000_val_acc_0.0849_val_loss_3.3936 epoch time 11.0016 seconds\n",
      "total time1.0 : 6.325051784515381\n"
     ]
    },
    {
     "name": "stderr",
     "output_type": "stream",
     "text": [
      "loss: 3.5220, accuracy: 0.0800: 100%|██████████| 1000/1000 [00:09<00:00, 100.50it/s]\n",
      "loss: 3.3311, accuracy: 0.1200: 100%|██████████| 158/158 [00:01<00:00, 154.46it/s]\n",
      "loss: 3.2340, accuracy: 0.1100:   2%|▏         | 20/1000 [00:00<00:09, 105.67it/s]"
     ]
    },
    {
     "name": "stdout",
     "output_type": "stream",
     "text": [
      "Epoch 6: train_acc_0.0886_train_loss_3.3708_val_acc_0.0873_val_loss_3.3723 epoch time 11.1114 seconds\n",
      "total time1.0 : 17.436465740203857\n"
     ]
    },
    {
     "name": "stderr",
     "output_type": "stream",
     "text": [
      "loss: 3.2913, accuracy: 0.0900: 100%|██████████| 1000/1000 [00:09<00:00, 100.83it/s]\n",
      "loss: 3.3825, accuracy: 0.1000: 100%|██████████| 158/158 [00:00<00:00, 158.08it/s]\n",
      "loss: 3.2707, accuracy: 0.1500:   2%|▏         | 20/1000 [00:00<00:09, 107.59it/s]"
     ]
    },
    {
     "name": "stdout",
     "output_type": "stream",
     "text": [
      "Epoch 7: train_acc_0.0939_train_loss_3.3467_val_acc_0.0923_val_loss_3.3410 epoch time 11.0546 seconds\n",
      "total time1.0 : 28.491097927093506\n"
     ]
    },
    {
     "name": "stderr",
     "output_type": "stream",
     "text": [
      "loss: 3.3811, accuracy: 0.0800: 100%|██████████| 1000/1000 [00:09<00:00, 100.38it/s]\n",
      "loss: 3.5006, accuracy: 0.0200: 100%|██████████| 158/158 [00:00<00:00, 158.66it/s]\n",
      "loss: 3.2487, accuracy: 0.1300:   2%|▏         | 21/1000 [00:00<00:09, 107.72it/s]"
     ]
    },
    {
     "name": "stdout",
     "output_type": "stream",
     "text": [
      "Epoch 8: train_acc_0.0972_train_loss_3.3279_val_acc_0.0903_val_loss_3.3306 epoch time 11.0950 seconds\n",
      "total time1.0 : 39.5861279964447\n"
     ]
    },
    {
     "name": "stderr",
     "output_type": "stream",
     "text": [
      "loss: 3.2737, accuracy: 0.1000: 100%|██████████| 1000/1000 [00:09<00:00, 101.10it/s]\n",
      "loss: 3.4066, accuracy: 0.1200: 100%|██████████| 158/158 [00:01<00:00, 157.55it/s]\n",
      "loss: 3.3613, accuracy: 0.1400:   2%|▏         | 20/1000 [00:00<00:09, 105.21it/s]"
     ]
    },
    {
     "name": "stdout",
     "output_type": "stream",
     "text": [
      "Epoch 9: train_acc_0.0996_train_loss_3.3092_val_acc_0.0975_val_loss_3.3040 epoch time 11.0325 seconds\n",
      "total time1.0 : 50.61865758895874\n"
     ]
    },
    {
     "name": "stderr",
     "output_type": "stream",
     "text": [
      "loss: 3.2163, accuracy: 0.1500: 100%|██████████| 1000/1000 [00:09<00:00, 100.73it/s]\n",
      "loss: 3.3802, accuracy: 0.0700: 100%|██████████| 158/158 [00:01<00:00, 157.01it/s]\n",
      "loss: 3.3077, accuracy: 0.0600:   2%|▏         | 21/1000 [00:00<00:08, 110.29it/s]"
     ]
    },
    {
     "name": "stdout",
     "output_type": "stream",
     "text": [
      "Epoch 10: train_acc_0.1023_train_loss_3.2889_val_acc_0.0994_val_loss_3.2844 epoch time 11.0737 seconds\n",
      "total time2.0 : 1.6923503875732422\n"
     ]
    },
    {
     "name": "stderr",
     "output_type": "stream",
     "text": [
      "loss: 3.2105, accuracy: 0.1200: 100%|██████████| 1000/1000 [00:09<00:00, 100.91it/s]\n",
      "loss: 3.1808, accuracy: 0.0900: 100%|██████████| 158/158 [00:01<00:00, 157.81it/s]\n",
      "loss: 3.0914, accuracy: 0.1500:   2%|▏         | 20/1000 [00:00<00:09, 105.14it/s]"
     ]
    },
    {
     "name": "stdout",
     "output_type": "stream",
     "text": [
      "Epoch 11: train_acc_0.1062_train_loss_3.2702_val_acc_0.0999_val_loss_3.2678 epoch time 11.0511 seconds\n",
      "total time2.0 : 12.74345588684082\n"
     ]
    },
    {
     "name": "stderr",
     "output_type": "stream",
     "text": [
      "loss: 3.2351, accuracy: 0.1300: 100%|██████████| 1000/1000 [00:09<00:00, 100.14it/s]\n",
      "loss: 3.3301, accuracy: 0.0800: 100%|██████████| 158/158 [00:01<00:00, 154.86it/s]\n",
      "loss: 3.3327, accuracy: 0.0900:   2%|▏         | 20/1000 [00:00<00:09, 107.04it/s]"
     ]
    },
    {
     "name": "stdout",
     "output_type": "stream",
     "text": [
      "Epoch 12: train_acc_0.1083_train_loss_3.2539_val_acc_0.1045_val_loss_3.2526 epoch time 11.1428 seconds\n",
      "total time2.0 : 23.88623046875\n"
     ]
    },
    {
     "name": "stderr",
     "output_type": "stream",
     "text": [
      "loss: 3.3874, accuracy: 0.0700: 100%|██████████| 1000/1000 [00:09<00:00, 101.19it/s]\n",
      "loss: 3.3018, accuracy: 0.0700: 100%|██████████| 158/158 [00:00<00:00, 158.80it/s]\n",
      "loss: 3.0988, accuracy: 0.1200:   2%|▏         | 20/1000 [00:00<00:09, 106.25it/s]"
     ]
    },
    {
     "name": "stdout",
     "output_type": "stream",
     "text": [
      "Epoch 13: train_acc_0.1121_train_loss_3.2388_val_acc_0.1064_val_loss_3.2418 epoch time 11.0166 seconds\n",
      "total time2.0 : 34.90286421775818\n"
     ]
    },
    {
     "name": "stderr",
     "output_type": "stream",
     "text": [
      "loss: 2.9811, accuracy: 0.1500: 100%|██████████| 1000/1000 [00:09<00:00, 104.39it/s]\n",
      "loss: 3.2756, accuracy: 0.1300: 100%|██████████| 158/158 [00:00<00:00, 158.67it/s]\n",
      "loss: 3.1389, accuracy: 0.1400:   2%|▏         | 20/1000 [00:00<00:09, 108.15it/s]"
     ]
    },
    {
     "name": "stdout",
     "output_type": "stream",
     "text": [
      "Epoch 14: train_acc_0.1144_train_loss_3.2191_val_acc_0.1143_val_loss_3.2160 epoch time 11.0945 seconds\n",
      "total time2.0 : 45.99735474586487\n"
     ]
    },
    {
     "name": "stderr",
     "output_type": "stream",
     "text": [
      "loss: 3.2068, accuracy: 0.0900: 100%|██████████| 1000/1000 [00:09<00:00, 101.59it/s]\n",
      "loss: 3.2693, accuracy: 0.1300: 100%|██████████| 158/158 [00:01<00:00, 157.14it/s]\n",
      "loss: 3.2056, accuracy: 0.1600:   2%|▏         | 20/1000 [00:00<00:09, 108.41it/s]"
     ]
    },
    {
     "name": "stdout",
     "output_type": "stream",
     "text": [
      "Epoch 15: train_acc_0.1182_train_loss_3.1987_val_acc_0.1145_val_loss_3.2094 epoch time 10.9854 seconds\n",
      "total time2.0 : 56.98270845413208\n"
     ]
    },
    {
     "name": "stderr",
     "output_type": "stream",
     "text": [
      "loss: 3.2011, accuracy: 0.1600: 100%|██████████| 1000/1000 [00:09<00:00, 100.93it/s]\n",
      "loss: 3.2439, accuracy: 0.1400: 100%|██████████| 158/158 [00:01<00:00, 157.61it/s]\n",
      "loss: 3.3028, accuracy: 0.0900:   2%|▏         | 20/1000 [00:00<00:09, 107.12it/s]"
     ]
    },
    {
     "name": "stdout",
     "output_type": "stream",
     "text": [
      "Epoch 16: train_acc_0.1216_train_loss_3.1824_val_acc_0.1199_val_loss_3.1858 epoch time 11.0481 seconds\n",
      "total time3.0 : 8.030776500701904\n"
     ]
    },
    {
     "name": "stderr",
     "output_type": "stream",
     "text": [
      "loss: 3.1785, accuracy: 0.0800: 100%|██████████| 1000/1000 [00:09<00:00, 101.50it/s]\n",
      "loss: 3.2800, accuracy: 0.1300: 100%|██████████| 158/158 [00:00<00:00, 158.60it/s]\n",
      "loss: 3.1661, accuracy: 0.1300:   2%|▏         | 21/1000 [00:00<00:09, 106.57it/s]"
     ]
    },
    {
     "name": "stdout",
     "output_type": "stream",
     "text": [
      "Epoch 17: train_acc_0.1232_train_loss_3.1689_val_acc_0.1211_val_loss_3.1715 epoch time 10.9870 seconds\n",
      "total time3.0 : 19.017822265625\n"
     ]
    },
    {
     "name": "stderr",
     "output_type": "stream",
     "text": [
      "loss: 3.0870, accuracy: 0.1200: 100%|██████████| 1000/1000 [00:09<00:00, 100.98it/s]\n",
      "loss: 3.0678, accuracy: 0.1000: 100%|██████████| 158/158 [00:01<00:00, 156.65it/s]\n",
      "loss: 3.1014, accuracy: 0.1400:   2%|▏         | 20/1000 [00:00<00:09, 107.13it/s]"
     ]
    },
    {
     "name": "stdout",
     "output_type": "stream",
     "text": [
      "Epoch 18: train_acc_0.1262_train_loss_3.1568_val_acc_0.1258_val_loss_3.1567 epoch time 11.0503 seconds\n",
      "total time3.0 : 30.068074703216553\n"
     ]
    },
    {
     "name": "stderr",
     "output_type": "stream",
     "text": [
      "loss: 2.8809, accuracy: 0.1700: 100%|██████████| 1000/1000 [00:09<00:00, 101.08it/s]\n",
      "loss: 3.1720, accuracy: 0.1100: 100%|██████████| 158/158 [00:00<00:00, 161.28it/s]\n",
      "loss: 3.1675, accuracy: 0.0900:   2%|▏         | 20/1000 [00:00<00:09, 106.89it/s]"
     ]
    },
    {
     "name": "stdout",
     "output_type": "stream",
     "text": [
      "Epoch 19: train_acc_0.1291_train_loss_3.1443_val_acc_0.1284_val_loss_3.1522 epoch time 11.0098 seconds\n",
      "total time3.0 : 41.07782983779907\n"
     ]
    },
    {
     "name": "stderr",
     "output_type": "stream",
     "text": [
      "loss: 3.2762, accuracy: 0.1200: 100%|██████████| 1000/1000 [00:09<00:00, 100.44it/s]\n",
      "loss: 3.2169, accuracy: 0.1200: 100%|██████████| 158/158 [00:00<00:00, 158.25it/s]\n",
      "loss: 3.3509, accuracy: 0.1100:   2%|▏         | 20/1000 [00:00<00:09, 106.32it/s]"
     ]
    },
    {
     "name": "stdout",
     "output_type": "stream",
     "text": [
      "Epoch 20: train_acc_0.1306_train_loss_3.1334_val_acc_0.1291_val_loss_3.1358 epoch time 11.0939 seconds\n",
      "total time3.0 : 52.17176842689514\n"
     ]
    },
    {
     "name": "stderr",
     "output_type": "stream",
     "text": [
      "loss: 3.0808, accuracy: 0.1100: 100%|██████████| 1000/1000 [00:09<00:00, 101.56it/s]\n",
      "loss: 3.0472, accuracy: 0.1100: 100%|██████████| 158/158 [00:00<00:00, 158.55it/s]\n",
      "loss: 3.1268, accuracy: 0.1100:   2%|▏         | 20/1000 [00:00<00:09, 105.59it/s]"
     ]
    },
    {
     "name": "stdout",
     "output_type": "stream",
     "text": [
      "Epoch 21: train_acc_0.1327_train_loss_3.1247_val_acc_0.1327_val_loss_3.1248 epoch time 10.9802 seconds\n",
      "total time4.0 : 3.15200138092041\n"
     ]
    },
    {
     "name": "stderr",
     "output_type": "stream",
     "text": [
      "loss: 2.9400, accuracy: 0.1900: 100%|██████████| 1000/1000 [00:09<00:00, 100.70it/s]\n",
      "loss: 3.0378, accuracy: 0.1300: 100%|██████████| 158/158 [00:01<00:00, 157.88it/s]\n",
      "loss: 3.0413, accuracy: 0.1900:   2%|▏         | 20/1000 [00:00<00:09, 107.67it/s]"
     ]
    },
    {
     "name": "stdout",
     "output_type": "stream",
     "text": [
      "Epoch 22: train_acc_0.1344_train_loss_3.1135_val_acc_0.1324_val_loss_3.1145 epoch time 11.0678 seconds\n",
      "total time4.0 : 14.219841480255127\n"
     ]
    },
    {
     "name": "stderr",
     "output_type": "stream",
     "text": [
      "loss: 3.0459, accuracy: 0.1500: 100%|██████████| 1000/1000 [00:09<00:00, 101.29it/s]\n",
      "loss: 3.1391, accuracy: 0.1800: 100%|██████████| 158/158 [00:01<00:00, 157.26it/s]\n",
      "loss: 3.1365, accuracy: 0.1300:   2%|▏         | 20/1000 [00:00<00:09, 107.62it/s]"
     ]
    },
    {
     "name": "stdout",
     "output_type": "stream",
     "text": [
      "Epoch 23: train_acc_0.1379_train_loss_3.1049_val_acc_0.1364_val_loss_3.1012 epoch time 11.0138 seconds\n",
      "total time4.0 : 25.233661651611328\n"
     ]
    },
    {
     "name": "stderr",
     "output_type": "stream",
     "text": [
      "loss: 3.2647, accuracy: 0.1100: 100%|██████████| 1000/1000 [00:09<00:00, 100.34it/s]\n",
      "loss: 3.2970, accuracy: 0.0900: 100%|██████████| 158/158 [00:01<00:00, 157.70it/s]\n",
      "loss: 3.0419, accuracy: 0.1500:   2%|▏         | 21/1000 [00:00<00:08, 111.15it/s]"
     ]
    },
    {
     "name": "stdout",
     "output_type": "stream",
     "text": [
      "Epoch 24: train_acc_0.1376_train_loss_3.0966_val_acc_0.1396_val_loss_3.1055 epoch time 11.1054 seconds\n",
      "total time4.0 : 36.33904147148132\n"
     ]
    },
    {
     "name": "stderr",
     "output_type": "stream",
     "text": [
      "loss: 3.2074, accuracy: 0.1400: 100%|██████████| 1000/1000 [00:09<00:00, 100.88it/s]\n",
      "loss: 3.1260, accuracy: 0.1300: 100%|██████████| 158/158 [00:00<00:00, 158.14it/s]\n",
      "loss: 2.9956, accuracy: 0.1900:   2%|▏         | 20/1000 [00:00<00:09, 106.33it/s]"
     ]
    },
    {
     "name": "stdout",
     "output_type": "stream",
     "text": [
      "Epoch 25: train_acc_0.1392_train_loss_3.0885_val_acc_0.1439_val_loss_3.0887 epoch time 11.0499 seconds\n",
      "total time4.0 : 47.388983964920044\n"
     ]
    },
    {
     "name": "stderr",
     "output_type": "stream",
     "text": [
      "loss: 3.0484, accuracy: 0.1100: 100%|██████████| 1000/1000 [00:09<00:00, 100.52it/s]\n",
      "loss: 3.1226, accuracy: 0.0900: 100%|██████████| 158/158 [00:00<00:00, 158.36it/s]\n",
      "loss: 3.0852, accuracy: 0.1400:   2%|▏         | 20/1000 [00:00<00:08, 109.58it/s]"
     ]
    },
    {
     "name": "stdout",
     "output_type": "stream",
     "text": [
      "Epoch 26: train_acc_0.1411_train_loss_3.0803_val_acc_0.1421_val_loss_3.0782 epoch time 11.0821 seconds\n",
      "total time4.0 : 58.47103810310364\n"
     ]
    },
    {
     "name": "stderr",
     "output_type": "stream",
     "text": [
      "loss: 3.0382, accuracy: 0.1800: 100%|██████████| 1000/1000 [00:09<00:00, 101.37it/s]\n",
      "loss: 3.0812, accuracy: 0.1300: 100%|██████████| 158/158 [00:00<00:00, 158.36it/s]\n",
      "loss: 3.0968, accuracy: 0.1500:   2%|▏         | 20/1000 [00:00<00:09, 107.81it/s]"
     ]
    },
    {
     "name": "stdout",
     "output_type": "stream",
     "text": [
      "Epoch 27: train_acc_0.1432_train_loss_3.0734_val_acc_0.1410_val_loss_3.0728 epoch time 11.0018 seconds\n",
      "total time5.0 : 9.472874641418457\n"
     ]
    },
    {
     "name": "stderr",
     "output_type": "stream",
     "text": [
      "loss: 3.1963, accuracy: 0.1500: 100%|██████████| 1000/1000 [00:09<00:00, 100.16it/s]\n",
      "loss: 3.0312, accuracy: 0.1100: 100%|██████████| 158/158 [00:00<00:00, 158.33it/s]\n",
      "loss: 3.1087, accuracy: 0.1500:   2%|▏         | 21/1000 [00:00<00:08, 109.93it/s]"
     ]
    },
    {
     "name": "stdout",
     "output_type": "stream",
     "text": [
      "Epoch 28: train_acc_0.1443_train_loss_3.0684_val_acc_0.1444_val_loss_3.0704 epoch time 11.1186 seconds\n",
      "total time5.0 : 20.591424703598022\n"
     ]
    },
    {
     "name": "stderr",
     "output_type": "stream",
     "text": [
      "loss: 3.0258, accuracy: 0.1200: 100%|██████████| 1000/1000 [00:09<00:00, 100.89it/s]\n",
      "loss: 3.1810, accuracy: 0.0900: 100%|██████████| 158/158 [00:00<00:00, 158.67it/s]\n",
      "loss: 2.9872, accuracy: 0.1700:   2%|▏         | 20/1000 [00:00<00:09, 107.51it/s]"
     ]
    },
    {
     "name": "stdout",
     "output_type": "stream",
     "text": [
      "Epoch 29: train_acc_0.1468_train_loss_3.0626_val_acc_0.1466_val_loss_3.0655 epoch time 11.0456 seconds\n",
      "total time5.0 : 31.63698697090149\n"
     ]
    },
    {
     "name": "stderr",
     "output_type": "stream",
     "text": [
      "loss: 3.1004, accuracy: 0.1000: 100%|██████████| 1000/1000 [00:09<00:00, 100.57it/s]\n",
      "loss: 3.0735, accuracy: 0.1700: 100%|██████████| 158/158 [00:01<00:00, 157.38it/s]\n",
      "loss: 3.0625, accuracy: 0.1500:   2%|▏         | 20/1000 [00:00<00:09, 105.92it/s]"
     ]
    },
    {
     "name": "stdout",
     "output_type": "stream",
     "text": [
      "Epoch 30: train_acc_0.1460_train_loss_3.0580_val_acc_0.1472_val_loss_3.0539 epoch time 11.0844 seconds\n",
      "total time5.0 : 42.72143507003784\n"
     ]
    },
    {
     "name": "stderr",
     "output_type": "stream",
     "text": [
      "loss: 2.8175, accuracy: 0.2000: 100%|██████████| 1000/1000 [00:09<00:00, 101.02it/s]\n",
      "loss: 2.9779, accuracy: 0.1900: 100%|██████████| 158/158 [00:00<00:00, 158.17it/s]\n",
      "loss: 3.0718, accuracy: 0.1600:   2%|▏         | 20/1000 [00:00<00:09, 106.58it/s]"
     ]
    },
    {
     "name": "stdout",
     "output_type": "stream",
     "text": [
      "Epoch 31: train_acc_0.1483_train_loss_3.0514_val_acc_0.1489_val_loss_3.0521 epoch time 11.0385 seconds\n",
      "total time5.0 : 53.75994515419006\n"
     ]
    },
    {
     "name": "stderr",
     "output_type": "stream",
     "text": [
      "loss: 3.0205, accuracy: 0.1400: 100%|██████████| 1000/1000 [00:09<00:00, 100.51it/s]\n",
      "loss: 3.1583, accuracy: 0.1200: 100%|██████████| 158/158 [00:01<00:00, 156.60it/s]\n",
      "loss: 3.0550, accuracy: 0.1300:   2%|▏         | 20/1000 [00:00<00:09, 106.23it/s]"
     ]
    },
    {
     "name": "stdout",
     "output_type": "stream",
     "text": [
      "Epoch 32: train_acc_0.1483_train_loss_3.0465_val_acc_0.1495_val_loss_3.0549 epoch time 11.0935 seconds\n",
      "total time6.0 : 4.853432655334473\n"
     ]
    },
    {
     "name": "stderr",
     "output_type": "stream",
     "text": [
      "loss: 3.0430, accuracy: 0.1700: 100%|██████████| 1000/1000 [00:09<00:00, 101.52it/s]\n",
      "loss: 2.9298, accuracy: 0.2000: 100%|██████████| 158/158 [00:00<00:00, 159.48it/s]\n",
      "loss: 3.0355, accuracy: 0.1100:   2%|▏         | 20/1000 [00:00<00:09, 108.62it/s]"
     ]
    },
    {
     "name": "stdout",
     "output_type": "stream",
     "text": [
      "Epoch 33: train_acc_0.1489_train_loss_3.0417_val_acc_0.1504_val_loss_3.0469 epoch time 10.9780 seconds\n",
      "total time6.0 : 15.83145809173584\n"
     ]
    },
    {
     "name": "stderr",
     "output_type": "stream",
     "text": [
      "loss: 3.0806, accuracy: 0.1100: 100%|██████████| 1000/1000 [00:09<00:00, 100.71it/s]\n",
      "loss: 2.9875, accuracy: 0.1600: 100%|██████████| 158/158 [00:00<00:00, 158.76it/s]\n",
      "loss: 3.1881, accuracy: 0.1000:   2%|▏         | 20/1000 [00:00<00:09, 107.50it/s]"
     ]
    },
    {
     "name": "stdout",
     "output_type": "stream",
     "text": [
      "Epoch 34: train_acc_0.1509_train_loss_3.0373_val_acc_0.1511_val_loss_3.0415 epoch time 11.0627 seconds\n",
      "total time6.0 : 26.894142389297485\n"
     ]
    },
    {
     "name": "stderr",
     "output_type": "stream",
     "text": [
      "loss: 2.9855, accuracy: 0.1000: 100%|██████████| 1000/1000 [00:09<00:00, 101.64it/s]\n",
      "loss: 2.9388, accuracy: 0.1500: 100%|██████████| 158/158 [00:00<00:00, 159.59it/s]\n",
      "loss: 3.0539, accuracy: 0.1400:   2%|▏         | 20/1000 [00:00<00:09, 106.17it/s]"
     ]
    },
    {
     "name": "stdout",
     "output_type": "stream",
     "text": [
      "Epoch 35: train_acc_0.1508_train_loss_3.0330_val_acc_0.1513_val_loss_3.0358 epoch time 10.9668 seconds\n",
      "total time6.0 : 37.86090159416199\n"
     ]
    },
    {
     "name": "stderr",
     "output_type": "stream",
     "text": [
      "loss: 3.0498, accuracy: 0.1100: 100%|██████████| 1000/1000 [00:09<00:00, 100.73it/s]\n",
      "loss: 2.9487, accuracy: 0.1700: 100%|██████████| 158/158 [00:00<00:00, 160.48it/s]\n",
      "loss: 3.0481, accuracy: 0.1000:   2%|▏         | 20/1000 [00:00<00:09, 107.22it/s]"
     ]
    },
    {
     "name": "stdout",
     "output_type": "stream",
     "text": [
      "Epoch 36: train_acc_0.1519_train_loss_3.0280_val_acc_0.1532_val_loss_3.0281 epoch time 11.0500 seconds\n",
      "total time6.0 : 48.91090178489685\n"
     ]
    },
    {
     "name": "stderr",
     "output_type": "stream",
     "text": [
      "loss: 2.8807, accuracy: 0.2600: 100%|██████████| 1000/1000 [00:09<00:00, 101.29it/s]\n",
      "loss: 2.9801, accuracy: 0.2000: 100%|██████████| 158/158 [00:00<00:00, 159.75it/s]\n",
      "loss: 3.0572, accuracy: 0.1400:   2%|▏         | 20/1000 [00:00<00:09, 107.82it/s]"
     ]
    },
    {
     "name": "stdout",
     "output_type": "stream",
     "text": [
      "Epoch 37: train_acc_0.1531_train_loss_3.0244_val_acc_0.1511_val_loss_3.0251 epoch time 10.9980 seconds\n",
      "total time6.0 : 59.90887975692749\n"
     ]
    },
    {
     "name": "stderr",
     "output_type": "stream",
     "text": [
      "loss: 3.1691, accuracy: 0.1100: 100%|██████████| 1000/1000 [00:09<00:00, 100.20it/s]\n",
      "loss: 2.9485, accuracy: 0.1400: 100%|██████████| 158/158 [00:01<00:00, 157.05it/s]\n",
      "loss: 2.9393, accuracy: 0.1900:   2%|▏         | 20/1000 [00:00<00:09, 107.34it/s]"
     ]
    },
    {
     "name": "stdout",
     "output_type": "stream",
     "text": [
      "Epoch 38: train_acc_0.1534_train_loss_3.0197_val_acc_0.1513_val_loss_3.0268 epoch time 11.1264 seconds\n",
      "total time7.0 : 11.035237789154053\n"
     ]
    },
    {
     "name": "stderr",
     "output_type": "stream",
     "text": [
      "loss: 3.0207, accuracy: 0.1500: 100%|██████████| 1000/1000 [00:09<00:00, 101.51it/s]\n",
      "loss: 3.0161, accuracy: 0.1200: 100%|██████████| 158/158 [00:01<00:00, 157.36it/s]\n",
      "loss: 2.9550, accuracy: 0.2200:   2%|▏         | 20/1000 [00:00<00:09, 105.76it/s]"
     ]
    },
    {
     "name": "stdout",
     "output_type": "stream",
     "text": [
      "Epoch 39: train_acc_0.1552_train_loss_3.0187_val_acc_0.1509_val_loss_3.0260 epoch time 10.9928 seconds\n",
      "total time7.0 : 22.02803635597229\n"
     ]
    },
    {
     "name": "stderr",
     "output_type": "stream",
     "text": [
      "loss: 3.2652, accuracy: 0.1200: 100%|██████████| 1000/1000 [00:09<00:00, 100.15it/s]\n",
      "loss: 2.8960, accuracy: 0.2200: 100%|██████████| 158/158 [00:00<00:00, 158.03it/s]\n",
      "loss: 3.1007, accuracy: 0.1100:   2%|▏         | 20/1000 [00:00<00:09, 106.94it/s]"
     ]
    },
    {
     "name": "stdout",
     "output_type": "stream",
     "text": [
      "Epoch 40: train_acc_0.1553_train_loss_3.0125_val_acc_0.1554_val_loss_3.0139 epoch time 11.1227 seconds\n",
      "total time7.0 : 33.15075063705444\n"
     ]
    },
    {
     "name": "stderr",
     "output_type": "stream",
     "text": [
      "loss: 2.9517, accuracy: 0.1400: 100%|██████████| 1000/1000 [00:09<00:00, 101.01it/s]\n",
      "loss: 3.0160, accuracy: 0.1400: 100%|██████████| 158/158 [00:01<00:00, 157.94it/s]\n",
      "loss: 2.9862, accuracy: 0.1800:   2%|▏         | 20/1000 [00:00<00:09, 104.72it/s]"
     ]
    },
    {
     "name": "stdout",
     "output_type": "stream",
     "text": [
      "Epoch 41: train_acc_0.1568_train_loss_3.0102_val_acc_0.1528_val_loss_3.0146 epoch time 11.0370 seconds\n",
      "total time7.0 : 44.18778443336487\n"
     ]
    },
    {
     "name": "stderr",
     "output_type": "stream",
     "text": [
      "loss: 3.1734, accuracy: 0.1100: 100%|██████████| 1000/1000 [00:09<00:00, 100.19it/s]\n",
      "loss: 2.9148, accuracy: 0.1300: 100%|██████████| 158/158 [00:00<00:00, 159.61it/s]\n",
      "loss: 3.1138, accuracy: 0.1500:   2%|▏         | 20/1000 [00:00<00:09, 108.30it/s]"
     ]
    },
    {
     "name": "stdout",
     "output_type": "stream",
     "text": [
      "Epoch 42: train_acc_0.1570_train_loss_3.0070_val_acc_0.1566_val_loss_3.0059 epoch time 11.1077 seconds\n",
      "total time7.0 : 55.29545259475708\n"
     ]
    },
    {
     "name": "stderr",
     "output_type": "stream",
     "text": [
      "loss: 2.7611, accuracy: 0.2400: 100%|██████████| 1000/1000 [00:09<00:00, 101.35it/s]\n",
      "loss: 3.0126, accuracy: 0.2100: 100%|██████████| 158/158 [00:01<00:00, 157.62it/s]\n",
      "loss: 3.0051, accuracy: 0.1400:   2%|▏         | 20/1000 [00:00<00:09, 104.55it/s]"
     ]
    },
    {
     "name": "stdout",
     "output_type": "stream",
     "text": [
      "Epoch 43: train_acc_0.1573_train_loss_3.0044_val_acc_0.1557_val_loss_3.0088 epoch time 11.0058 seconds\n",
      "total time8.0 : 6.3012707233428955\n"
     ]
    },
    {
     "name": "stderr",
     "output_type": "stream",
     "text": [
      "loss: 2.9631, accuracy: 0.1700: 100%|██████████| 1000/1000 [00:09<00:00, 100.29it/s]\n",
      "loss: 3.1910, accuracy: 0.0900: 100%|██████████| 158/158 [00:01<00:00, 156.86it/s]\n",
      "loss: 2.9718, accuracy: 0.2000:   2%|▏         | 20/1000 [00:00<00:09, 105.76it/s]"
     ]
    },
    {
     "name": "stdout",
     "output_type": "stream",
     "text": [
      "Epoch 44: train_acc_0.1571_train_loss_3.0013_val_acc_0.1553_val_loss_3.0050 epoch time 11.1158 seconds\n",
      "total time8.0 : 17.417089462280273\n"
     ]
    },
    {
     "name": "stderr",
     "output_type": "stream",
     "text": [
      "loss: 3.0668, accuracy: 0.1200: 100%|██████████| 1000/1000 [00:09<00:00, 101.34it/s]\n",
      "loss: 2.9493, accuracy: 0.1300: 100%|██████████| 158/158 [00:00<00:00, 158.16it/s]\n",
      "loss: 2.9534, accuracy: 0.1500:   2%|▏         | 20/1000 [00:00<00:09, 106.33it/s]"
     ]
    },
    {
     "name": "stdout",
     "output_type": "stream",
     "text": [
      "Epoch 45: train_acc_0.1581_train_loss_2.9987_val_acc_0.1591_val_loss_3.0017 epoch time 11.0057 seconds\n",
      "total time8.0 : 28.42279577255249\n"
     ]
    },
    {
     "name": "stderr",
     "output_type": "stream",
     "text": [
      "loss: 2.9480, accuracy: 0.2200: 100%|██████████| 1000/1000 [00:09<00:00, 101.03it/s]\n",
      "loss: 3.0142, accuracy: 0.2000: 100%|██████████| 158/158 [00:01<00:00, 155.42it/s]\n",
      "loss: 2.8622, accuracy: 0.1700:   2%|▏         | 20/1000 [00:00<00:09, 107.08it/s]"
     ]
    },
    {
     "name": "stdout",
     "output_type": "stream",
     "text": [
      "Epoch 46: train_acc_0.1587_train_loss_2.9965_val_acc_0.1589_val_loss_3.0011 epoch time 11.0525 seconds\n",
      "total time8.0 : 39.47529363632202\n"
     ]
    },
    {
     "name": "stderr",
     "output_type": "stream",
     "text": [
      "loss: 2.9671, accuracy: 0.2000: 100%|██████████| 1000/1000 [00:09<00:00, 101.32it/s]\n",
      "loss: 3.0292, accuracy: 0.1500: 100%|██████████| 158/158 [00:01<00:00, 153.76it/s]\n",
      "loss: 2.9723, accuracy: 0.1700:   2%|▏         | 20/1000 [00:00<00:09, 106.79it/s]"
     ]
    },
    {
     "name": "stdout",
     "output_type": "stream",
     "text": [
      "Epoch 47: train_acc_0.1593_train_loss_2.9941_val_acc_0.1580_val_loss_3.0158 epoch time 11.0344 seconds\n",
      "total time8.0 : 50.509663105010986\n"
     ]
    },
    {
     "name": "stderr",
     "output_type": "stream",
     "text": [
      "loss: 2.7590, accuracy: 0.1800: 100%|██████████| 1000/1000 [00:09<00:00, 100.39it/s]\n",
      "loss: 3.0071, accuracy: 0.1300: 100%|██████████| 158/158 [00:00<00:00, 158.61it/s]\n",
      "loss: 3.1642, accuracy: 0.1400:   2%|▏         | 20/1000 [00:00<00:09, 106.77it/s]"
     ]
    },
    {
     "name": "stdout",
     "output_type": "stream",
     "text": [
      "Epoch 48: train_acc_0.1592_train_loss_2.9905_val_acc_0.1589_val_loss_2.9947 epoch time 11.0951 seconds\n",
      "total time9.0 : 1.6047327518463135\n"
     ]
    },
    {
     "name": "stderr",
     "output_type": "stream",
     "text": [
      "loss: 2.9125, accuracy: 0.1200: 100%|██████████| 1000/1000 [00:09<00:00, 100.82it/s]\n",
      "loss: 2.8897, accuracy: 0.1500: 100%|██████████| 158/158 [00:01<00:00, 157.32it/s]\n",
      "loss: 2.8784, accuracy: 0.1800:   2%|▏         | 20/1000 [00:00<00:09, 106.93it/s]"
     ]
    },
    {
     "name": "stdout",
     "output_type": "stream",
     "text": [
      "Epoch 49: train_acc_0.1596_train_loss_2.9883_val_acc_0.1585_val_loss_2.9894 epoch time 11.0607 seconds\n",
      "total time9.0 : 12.665448665618896\n"
     ]
    },
    {
     "name": "stderr",
     "output_type": "stream",
     "text": [
      "loss: 2.9724, accuracy: 0.2100: 100%|██████████| 1000/1000 [00:09<00:00, 100.47it/s]\n",
      "loss: 3.1019, accuracy: 0.1500: 100%|██████████| 158/158 [00:01<00:00, 156.30it/s]\n",
      "loss: 2.8590, accuracy: 0.1700:   2%|▏         | 20/1000 [00:00<00:09, 108.08it/s]"
     ]
    },
    {
     "name": "stdout",
     "output_type": "stream",
     "text": [
      "Epoch 50: train_acc_0.1609_train_loss_2.9860_val_acc_0.1584_val_loss_2.9915 epoch time 11.1006 seconds\n",
      "total time9.0 : 23.76605224609375\n"
     ]
    },
    {
     "name": "stderr",
     "output_type": "stream",
     "text": [
      "loss: 3.0203, accuracy: 0.1400: 100%|██████████| 1000/1000 [00:09<00:00, 101.14it/s]\n",
      "loss: 2.8630, accuracy: 0.2000: 100%|██████████| 158/158 [00:00<00:00, 158.18it/s]\n",
      "loss: 3.0781, accuracy: 0.1100:   2%|▏         | 20/1000 [00:00<00:09, 105.74it/s]"
     ]
    },
    {
     "name": "stdout",
     "output_type": "stream",
     "text": [
      "Epoch 51: train_acc_0.1615_train_loss_2.9833_val_acc_0.1596_val_loss_2.9905 epoch time 11.0239 seconds\n",
      "total time9.0 : 34.78993821144104\n"
     ]
    },
    {
     "name": "stderr",
     "output_type": "stream",
     "text": [
      "loss: 3.0837, accuracy: 0.0700: 100%|██████████| 1000/1000 [00:09<00:00, 100.28it/s]\n",
      "loss: 3.0511, accuracy: 0.1100: 100%|██████████| 158/158 [00:01<00:00, 157.44it/s]\n",
      "loss: 3.0049, accuracy: 0.1500:   2%|▏         | 20/1000 [00:00<00:08, 109.15it/s]"
     ]
    },
    {
     "name": "stdout",
     "output_type": "stream",
     "text": [
      "Epoch 52: train_acc_0.1613_train_loss_2.9816_val_acc_0.1606_val_loss_2.9916 epoch time 11.1146 seconds\n",
      "total time9.0 : 45.904540061950684\n"
     ]
    },
    {
     "name": "stderr",
     "output_type": "stream",
     "text": [
      "loss: 2.9682, accuracy: 0.1900: 100%|██████████| 1000/1000 [00:09<00:00, 101.01it/s]\n",
      "loss: 2.9813, accuracy: 0.2000: 100%|██████████| 158/158 [00:01<00:00, 157.38it/s]\n",
      "loss: 2.9869, accuracy: 0.2000:   2%|▏         | 20/1000 [00:00<00:09, 108.78it/s]"
     ]
    },
    {
     "name": "stdout",
     "output_type": "stream",
     "text": [
      "Epoch 53: train_acc_0.1609_train_loss_2.9785_val_acc_0.1590_val_loss_2.9879 epoch time 11.0424 seconds\n",
      "total time9.0 : 56.946985483169556\n"
     ]
    },
    {
     "name": "stderr",
     "output_type": "stream",
     "text": [
      "loss: 2.9753, accuracy: 0.1100: 100%|██████████| 1000/1000 [00:09<00:00, 100.30it/s]\n",
      "loss: 3.1572, accuracy: 0.1200: 100%|██████████| 158/158 [00:01<00:00, 157.07it/s]\n",
      "loss: 3.0624, accuracy: 0.1900:   2%|▏         | 20/1000 [00:00<00:09, 108.40it/s]"
     ]
    },
    {
     "name": "stdout",
     "output_type": "stream",
     "text": [
      "Epoch 54: train_acc_0.1629_train_loss_2.9767_val_acc_0.1596_val_loss_2.9839 epoch time 11.1131 seconds\n",
      "total time10.0 : 8.060102701187134\n"
     ]
    },
    {
     "name": "stderr",
     "output_type": "stream",
     "text": [
      "loss: 3.1339, accuracy: 0.1300: 100%|██████████| 1000/1000 [00:09<00:00, 100.95it/s]\n",
      "loss: 3.1391, accuracy: 0.1800: 100%|██████████| 158/158 [00:01<00:00, 155.33it/s]\n",
      "loss: 2.8510, accuracy: 0.1700:   2%|▏         | 20/1000 [00:00<00:09, 104.97it/s]"
     ]
    },
    {
     "name": "stdout",
     "output_type": "stream",
     "text": [
      "Epoch 55: train_acc_0.1618_train_loss_2.9752_val_acc_0.1614_val_loss_2.9893 epoch time 11.0609 seconds\n",
      "total time10.0 : 19.12098526954651\n"
     ]
    },
    {
     "name": "stderr",
     "output_type": "stream",
     "text": [
      "loss: 3.1218, accuracy: 0.1600: 100%|██████████| 1000/1000 [00:09<00:00, 100.32it/s]\n",
      "loss: 3.2124, accuracy: 0.1300: 100%|██████████| 158/158 [00:00<00:00, 170.38it/s]\n",
      "loss: 2.9296, accuracy: 0.1800:   2%|▏         | 20/1000 [00:00<00:09, 107.53it/s]"
     ]
    },
    {
     "name": "stdout",
     "output_type": "stream",
     "text": [
      "Epoch 56: train_acc_0.1623_train_loss_2.9730_val_acc_0.1580_val_loss_2.9821 epoch time 11.0829 seconds\n",
      "total time10.0 : 30.20388913154602\n"
     ]
    },
    {
     "name": "stderr",
     "output_type": "stream",
     "text": [
      "loss: 3.0708, accuracy: 0.1800: 100%|██████████| 1000/1000 [00:09<00:00, 101.24it/s]\n",
      "loss: 2.8259, accuracy: 0.1800: 100%|██████████| 158/158 [00:01<00:00, 156.96it/s]\n",
      "loss: 2.8390, accuracy: 0.2100:   2%|▏         | 20/1000 [00:00<00:09, 105.02it/s]"
     ]
    },
    {
     "name": "stdout",
     "output_type": "stream",
     "text": [
      "Epoch 57: train_acc_0.1636_train_loss_2.9716_val_acc_0.1613_val_loss_2.9767 epoch time 11.0217 seconds\n",
      "total time10.0 : 41.22554874420166\n"
     ]
    },
    {
     "name": "stderr",
     "output_type": "stream",
     "text": [
      "loss: 3.0476, accuracy: 0.1200: 100%|██████████| 1000/1000 [00:09<00:00, 100.43it/s]\n",
      "loss: 3.0696, accuracy: 0.1500: 100%|██████████| 158/158 [00:00<00:00, 159.23it/s]\n",
      "loss: 2.9295, accuracy: 0.1800:   2%|▏         | 20/1000 [00:00<00:09, 107.64it/s]"
     ]
    },
    {
     "name": "stdout",
     "output_type": "stream",
     "text": [
      "Epoch 58: train_acc_0.1625_train_loss_2.9698_val_acc_0.1632_val_loss_2.9742 epoch time 11.0869 seconds\n",
      "total time10.0 : 52.3124725818634\n"
     ]
    },
    {
     "name": "stderr",
     "output_type": "stream",
     "text": [
      "loss: 3.2002, accuracy: 0.1900: 100%|██████████| 1000/1000 [00:09<00:00, 101.31it/s]\n",
      "loss: 2.8722, accuracy: 0.1600: 100%|██████████| 158/158 [00:01<00:00, 157.45it/s]\n",
      "loss: 2.9598, accuracy: 0.1400:   2%|▏         | 20/1000 [00:00<00:08, 109.55it/s]"
     ]
    },
    {
     "name": "stdout",
     "output_type": "stream",
     "text": [
      "Epoch 59: train_acc_0.1633_train_loss_2.9678_val_acc_0.1663_val_loss_2.9762 epoch time 11.0127 seconds\n",
      "total time11.0 : 3.3252038955688477\n"
     ]
    },
    {
     "name": "stderr",
     "output_type": "stream",
     "text": [
      "loss: 3.0119, accuracy: 0.1900: 100%|██████████| 1000/1000 [00:09<00:00, 100.49it/s]\n",
      "loss: 2.8863, accuracy: 0.1400: 100%|██████████| 158/158 [00:00<00:00, 161.47it/s]\n",
      "loss: 3.1350, accuracy: 0.1400:   2%|▏         | 20/1000 [00:00<00:08, 109.25it/s]"
     ]
    },
    {
     "name": "stdout",
     "output_type": "stream",
     "text": [
      "Epoch 60: train_acc_0.1640_train_loss_2.9666_val_acc_0.1642_val_loss_2.9764 epoch time 11.1353 seconds\n",
      "total time11.0 : 14.460480213165283\n"
     ]
    },
    {
     "name": "stderr",
     "output_type": "stream",
     "text": [
      "loss: 2.9383, accuracy: 0.1600: 100%|██████████| 1000/1000 [00:09<00:00, 100.98it/s]\n",
      "loss: 3.0392, accuracy: 0.1400: 100%|██████████| 158/158 [00:01<00:00, 155.83it/s]\n",
      "loss: 3.0652, accuracy: 0.1000:   2%|▏         | 20/1000 [00:00<00:09, 106.56it/s]"
     ]
    },
    {
     "name": "stdout",
     "output_type": "stream",
     "text": [
      "Epoch 61: train_acc_0.1638_train_loss_2.9628_val_acc_0.1650_val_loss_2.9688 epoch time 11.0561 seconds\n",
      "total time11.0 : 25.516589879989624\n"
     ]
    },
    {
     "name": "stderr",
     "output_type": "stream",
     "text": [
      "loss: 2.9952, accuracy: 0.1300: 100%|██████████| 1000/1000 [00:09<00:00, 100.14it/s]\n",
      "loss: 2.9851, accuracy: 0.1800: 100%|██████████| 158/158 [00:00<00:00, 160.06it/s]\n",
      "loss: 3.0246, accuracy: 0.1600:   2%|▏         | 20/1000 [00:00<00:09, 106.72it/s]"
     ]
    },
    {
     "name": "stdout",
     "output_type": "stream",
     "text": [
      "Epoch 62: train_acc_0.1655_train_loss_2.9625_val_acc_0.1647_val_loss_2.9725 epoch time 11.1094 seconds\n",
      "total time11.0 : 36.62599802017212\n"
     ]
    },
    {
     "name": "stderr",
     "output_type": "stream",
     "text": [
      "loss: 2.8442, accuracy: 0.1700: 100%|██████████| 1000/1000 [00:09<00:00, 101.35it/s]\n",
      "loss: 3.0199, accuracy: 0.1100: 100%|██████████| 158/158 [00:00<00:00, 158.47it/s]\n",
      "loss: 3.0829, accuracy: 0.1200:   2%|▏         | 20/1000 [00:00<00:09, 106.45it/s]"
     ]
    },
    {
     "name": "stdout",
     "output_type": "stream",
     "text": [
      "Epoch 63: train_acc_0.1642_train_loss_2.9611_val_acc_0.1618_val_loss_2.9776 epoch time 11.0035 seconds\n",
      "total time11.0 : 47.62946820259094\n"
     ]
    },
    {
     "name": "stderr",
     "output_type": "stream",
     "text": [
      "loss: 2.8706, accuracy: 0.1800: 100%|██████████| 1000/1000 [00:09<00:00, 104.75it/s]\n",
      "loss: 2.7492, accuracy: 0.2000: 100%|██████████| 158/158 [00:00<00:00, 158.78it/s]\n",
      "loss: 2.8391, accuracy: 0.2100:   2%|▏         | 20/1000 [00:00<00:08, 109.49it/s]"
     ]
    },
    {
     "name": "stdout",
     "output_type": "stream",
     "text": [
      "Epoch 64: train_acc_0.1652_train_loss_2.9595_val_acc_0.1637_val_loss_2.9685 epoch time 11.1015 seconds\n",
      "total time11.0 : 58.7309684753418\n"
     ]
    },
    {
     "name": "stderr",
     "output_type": "stream",
     "text": [
      "loss: 2.8934, accuracy: 0.2200: 100%|██████████| 1000/1000 [00:09<00:00, 102.63it/s]\n",
      "loss: 2.9203, accuracy: 0.2100: 100%|██████████| 158/158 [00:01<00:00, 157.37it/s]\n",
      "loss: 3.0190, accuracy: 0.2200:   2%|▏         | 20/1000 [00:00<00:09, 103.77it/s]"
     ]
    },
    {
     "name": "stdout",
     "output_type": "stream",
     "text": [
      "Epoch 65: train_acc_0.1652_train_loss_2.9584_val_acc_0.1646_val_loss_2.9592 epoch time 11.0833 seconds\n",
      "total time12.0 : 9.814297437667847\n"
     ]
    },
    {
     "name": "stderr",
     "output_type": "stream",
     "text": [
      "loss: 2.9913, accuracy: 0.2000: 100%|██████████| 1000/1000 [00:09<00:00, 100.05it/s]\n",
      "loss: 2.9782, accuracy: 0.1200: 100%|██████████| 158/158 [00:01<00:00, 156.58it/s]\n",
      "loss: 2.7817, accuracy: 0.2200:   2%|▏         | 20/1000 [00:00<00:09, 105.81it/s]"
     ]
    },
    {
     "name": "stdout",
     "output_type": "stream",
     "text": [
      "Epoch 66: train_acc_0.1654_train_loss_2.9560_val_acc_0.1673_val_loss_2.9663 epoch time 11.1408 seconds\n",
      "total time12.0 : 20.955058813095093\n"
     ]
    },
    {
     "name": "stderr",
     "output_type": "stream",
     "text": [
      "loss: 3.0770, accuracy: 0.0800: 100%|██████████| 1000/1000 [00:09<00:00, 100.91it/s]\n",
      "loss: 3.0181, accuracy: 0.1700: 100%|██████████| 158/158 [00:00<00:00, 160.45it/s]\n",
      "loss: 2.9303, accuracy: 0.1900:   2%|▏         | 20/1000 [00:00<00:09, 106.23it/s]"
     ]
    },
    {
     "name": "stdout",
     "output_type": "stream",
     "text": [
      "Epoch 67: train_acc_0.1668_train_loss_2.9555_val_acc_0.1671_val_loss_2.9596 epoch time 11.0334 seconds\n",
      "total time12.0 : 31.9884672164917\n"
     ]
    },
    {
     "name": "stderr",
     "output_type": "stream",
     "text": [
      "loss: 3.0769, accuracy: 0.1600: 100%|██████████| 1000/1000 [00:09<00:00, 100.17it/s]\n",
      "loss: 2.9410, accuracy: 0.1600: 100%|██████████| 158/158 [00:00<00:00, 158.87it/s]\n",
      "loss: 2.8603, accuracy: 0.1800:   2%|▏         | 20/1000 [00:00<00:09, 105.41it/s]"
     ]
    },
    {
     "name": "stdout",
     "output_type": "stream",
     "text": [
      "Epoch 68: train_acc_0.1675_train_loss_2.9535_val_acc_0.1654_val_loss_2.9622 epoch time 11.1165 seconds\n",
      "total time12.0 : 43.10498356819153\n"
     ]
    },
    {
     "name": "stderr",
     "output_type": "stream",
     "text": [
      "loss: 2.9828, accuracy: 0.1900: 100%|██████████| 1000/1000 [00:09<00:00, 100.71it/s]\n",
      "loss: 2.8463, accuracy: 0.1600: 100%|██████████| 158/158 [00:01<00:00, 156.20it/s]\n",
      "loss: 2.8787, accuracy: 0.1800:   2%|▏         | 20/1000 [00:00<00:09, 104.91it/s]"
     ]
    },
    {
     "name": "stdout",
     "output_type": "stream",
     "text": [
      "Epoch 69: train_acc_0.1664_train_loss_2.9526_val_acc_0.1609_val_loss_2.9681 epoch time 11.0798 seconds\n",
      "total time12.0 : 54.18480896949768\n"
     ]
    },
    {
     "name": "stderr",
     "output_type": "stream",
     "text": [
      "loss: 3.0731, accuracy: 0.1100: 100%|██████████| 1000/1000 [00:09<00:00, 100.24it/s]\n",
      "loss: 3.2361, accuracy: 0.1500: 100%|██████████| 158/158 [00:01<00:00, 155.68it/s]\n",
      "loss: 3.0043, accuracy: 0.1700:   2%|▏         | 20/1000 [00:00<00:09, 106.63it/s]"
     ]
    },
    {
     "name": "stdout",
     "output_type": "stream",
     "text": [
      "Epoch 70: train_acc_0.1662_train_loss_2.9519_val_acc_0.1676_val_loss_2.9573 epoch time 11.1298 seconds\n",
      "total time13.0 : 5.31462836265564\n"
     ]
    },
    {
     "name": "stderr",
     "output_type": "stream",
     "text": [
      "loss: 3.0013, accuracy: 0.1200: 100%|██████████| 1000/1000 [00:09<00:00, 105.24it/s]\n",
      "loss: 2.9029, accuracy: 0.1700: 100%|██████████| 158/158 [00:00<00:00, 158.28it/s]\n",
      "loss: 3.0927, accuracy: 0.1100:   2%|▏         | 19/1000 [00:00<00:09, 104.82it/s]"
     ]
    },
    {
     "name": "stdout",
     "output_type": "stream",
     "text": [
      "Epoch 71: train_acc_0.1669_train_loss_2.9493_val_acc_0.1675_val_loss_2.9603 epoch time 11.0680 seconds\n",
      "total time13.0 : 16.38265299797058\n"
     ]
    },
    {
     "name": "stderr",
     "output_type": "stream",
     "text": [
      "loss: 2.7811, accuracy: 0.1900: 100%|██████████| 1000/1000 [00:10<00:00, 99.37it/s] \n",
      "loss: 3.0608, accuracy: 0.1300: 100%|██████████| 158/158 [00:00<00:00, 158.68it/s]\n",
      "loss: 3.1051, accuracy: 0.1000:   2%|▏         | 20/1000 [00:00<00:09, 107.13it/s]"
     ]
    },
    {
     "name": "stdout",
     "output_type": "stream",
     "text": [
      "Epoch 72: train_acc_0.1676_train_loss_2.9477_val_acc_0.1636_val_loss_2.9572 epoch time 11.1978 seconds\n",
      "total time13.0 : 27.580495834350586\n"
     ]
    },
    {
     "name": "stderr",
     "output_type": "stream",
     "text": [
      "loss: 2.9857, accuracy: 0.1000: 100%|██████████| 1000/1000 [00:09<00:00, 100.65it/s]\n",
      "loss: 2.8573, accuracy: 0.2000: 100%|██████████| 158/158 [00:01<00:00, 156.42it/s]\n",
      "loss: 2.9020, accuracy: 0.1300:   2%|▏         | 19/1000 [00:00<00:09, 101.81it/s]"
     ]
    },
    {
     "name": "stdout",
     "output_type": "stream",
     "text": [
      "Epoch 73: train_acc_0.1678_train_loss_2.9472_val_acc_0.1687_val_loss_2.9528 epoch time 11.0841 seconds\n",
      "total time13.0 : 38.66456866264343\n"
     ]
    },
    {
     "name": "stderr",
     "output_type": "stream",
     "text": [
      "loss: 2.7376, accuracy: 0.2300: 100%|██████████| 1000/1000 [00:09<00:00, 100.89it/s]\n",
      "loss: 3.0163, accuracy: 0.0800: 100%|██████████| 158/158 [00:01<00:00, 156.07it/s]\n",
      "loss: 2.9274, accuracy: 0.1700:   2%|▏         | 20/1000 [00:00<00:09, 105.32it/s]"
     ]
    },
    {
     "name": "stdout",
     "output_type": "stream",
     "text": [
      "Epoch 74: train_acc_0.1669_train_loss_2.9457_val_acc_0.1665_val_loss_2.9511 epoch time 11.0641 seconds\n",
      "total time13.0 : 49.72865009307861\n"
     ]
    },
    {
     "name": "stderr",
     "output_type": "stream",
     "text": [
      "loss: 2.8565, accuracy: 0.2200: 100%|██████████| 1000/1000 [00:09<00:00, 101.17it/s]\n",
      "loss: 2.9630, accuracy: 0.1800: 100%|██████████| 158/158 [00:01<00:00, 156.34it/s]\n",
      "loss: 2.9331, accuracy: 0.2000:   2%|▏         | 19/1000 [00:00<00:09, 104.49it/s]"
     ]
    },
    {
     "name": "stdout",
     "output_type": "stream",
     "text": [
      "Epoch 75: train_acc_0.1688_train_loss_2.9445_val_acc_0.1691_val_loss_2.9543 epoch time 11.0333 seconds\n",
      "total time14.0 : 0.7619867324829102\n"
     ]
    },
    {
     "name": "stderr",
     "output_type": "stream",
     "text": [
      "loss: 2.9040, accuracy: 0.1500: 100%|██████████| 1000/1000 [00:10<00:00, 99.59it/s] \n",
      "loss: 2.8914, accuracy: 0.2000: 100%|██████████| 158/158 [00:01<00:00, 156.63it/s]\n",
      "loss: 3.0487, accuracy: 0.1400:   2%|▏         | 20/1000 [00:00<00:09, 107.30it/s]"
     ]
    },
    {
     "name": "stdout",
     "output_type": "stream",
     "text": [
      "Epoch 76: train_acc_0.1688_train_loss_2.9437_val_acc_0.1679_val_loss_2.9514 epoch time 11.1878 seconds\n",
      "total time14.0 : 11.949767589569092\n"
     ]
    },
    {
     "name": "stderr",
     "output_type": "stream",
     "text": [
      "loss: 2.8799, accuracy: 0.2000: 100%|██████████| 1000/1000 [00:09<00:00, 100.59it/s]\n",
      "loss: 2.9823, accuracy: 0.2300: 100%|██████████| 158/158 [00:01<00:00, 156.92it/s]\n",
      "loss: 2.9008, accuracy: 0.1700:   2%|▏         | 20/1000 [00:00<00:09, 104.51it/s]"
     ]
    },
    {
     "name": "stdout",
     "output_type": "stream",
     "text": [
      "Epoch 77: train_acc_0.1681_train_loss_2.9419_val_acc_0.1686_val_loss_2.9639 epoch time 11.0876 seconds\n",
      "total time14.0 : 23.03739094734192\n"
     ]
    },
    {
     "name": "stderr",
     "output_type": "stream",
     "text": [
      "loss: 2.7627, accuracy: 0.1500: 100%|██████████| 1000/1000 [00:09<00:00, 100.40it/s]\n",
      "loss: 2.9370, accuracy: 0.1800: 100%|██████████| 158/158 [00:00<00:00, 159.67it/s]\n",
      "loss: 2.9123, accuracy: 0.2200:   2%|▏         | 20/1000 [00:00<00:09, 106.92it/s]"
     ]
    },
    {
     "name": "stdout",
     "output_type": "stream",
     "text": [
      "Epoch 78: train_acc_0.1683_train_loss_2.9408_val_acc_0.1705_val_loss_2.9571 epoch time 11.0859 seconds\n",
      "total time14.0 : 34.12325644493103\n"
     ]
    },
    {
     "name": "stderr",
     "output_type": "stream",
     "text": [
      "loss: 2.9508, accuracy: 0.1600: 100%|██████████| 1000/1000 [00:09<00:00, 100.57it/s]\n",
      "loss: 3.0796, accuracy: 0.1400: 100%|██████████| 158/158 [00:01<00:00, 156.14it/s]\n",
      "loss: 2.9226, accuracy: 0.1300:   2%|▏         | 20/1000 [00:00<00:09, 104.42it/s]"
     ]
    },
    {
     "name": "stdout",
     "output_type": "stream",
     "text": [
      "Epoch 79: train_acc_0.1689_train_loss_2.9398_val_acc_0.1595_val_loss_2.9491 epoch time 11.0942 seconds\n",
      "total time14.0 : 45.217451333999634\n"
     ]
    },
    {
     "name": "stderr",
     "output_type": "stream",
     "text": [
      "loss: 2.9892, accuracy: 0.1700: 100%|██████████| 1000/1000 [00:09<00:00, 102.93it/s]\n",
      "loss: 3.0084, accuracy: 0.1600: 100%|██████████| 158/158 [00:00<00:00, 158.28it/s]\n",
      "loss: 2.8975, accuracy: 0.1400:   2%|▏         | 20/1000 [00:00<00:09, 107.65it/s]"
     ]
    },
    {
     "name": "stdout",
     "output_type": "stream",
     "text": [
      "Epoch 80: train_acc_0.1692_train_loss_2.9390_val_acc_0.1682_val_loss_2.9533 epoch time 11.1411 seconds\n",
      "total time14.0 : 56.35858917236328\n"
     ]
    },
    {
     "name": "stderr",
     "output_type": "stream",
     "text": [
      "loss: 3.0668, accuracy: 0.1100: 100%|██████████| 1000/1000 [00:09<00:00, 101.23it/s]\n",
      "loss: 2.9027, accuracy: 0.1300: 100%|██████████| 158/158 [00:01<00:00, 157.46it/s]\n",
      "loss: 3.0424, accuracy: 0.1800:   2%|▏         | 20/1000 [00:00<00:09, 105.47it/s]"
     ]
    },
    {
     "name": "stdout",
     "output_type": "stream",
     "text": [
      "Epoch 81: train_acc_0.1704_train_loss_2.9380_val_acc_0.1700_val_loss_2.9446 epoch time 11.0207 seconds\n",
      "total time15.0 : 7.379294395446777\n"
     ]
    },
    {
     "name": "stderr",
     "output_type": "stream",
     "text": [
      "loss: 2.7961, accuracy: 0.1700: 100%|██████████| 1000/1000 [00:09<00:00, 100.64it/s]\n",
      "loss: 2.9974, accuracy: 0.1300: 100%|██████████| 158/158 [00:00<00:00, 158.26it/s]\n",
      "loss: 3.0034, accuracy: 0.1400:   2%|▏         | 20/1000 [00:00<00:09, 104.96it/s]"
     ]
    },
    {
     "name": "stdout",
     "output_type": "stream",
     "text": [
      "Epoch 82: train_acc_0.1703_train_loss_2.9353_val_acc_0.1684_val_loss_2.9532 epoch time 11.0715 seconds\n",
      "total time15.0 : 18.45078682899475\n"
     ]
    },
    {
     "name": "stderr",
     "output_type": "stream",
     "text": [
      "loss: 2.8611, accuracy: 0.1800: 100%|██████████| 1000/1000 [00:09<00:00, 101.01it/s]\n",
      "loss: 2.8548, accuracy: 0.2400: 100%|██████████| 158/158 [00:00<00:00, 158.07it/s]\n",
      "loss: 2.9079, accuracy: 0.1900:   2%|▏         | 20/1000 [00:00<00:09, 108.05it/s]"
     ]
    },
    {
     "name": "stdout",
     "output_type": "stream",
     "text": [
      "Epoch 83: train_acc_0.1696_train_loss_2.9354_val_acc_0.1697_val_loss_2.9474 epoch time 11.0381 seconds\n",
      "total time15.0 : 29.488861799240112\n"
     ]
    },
    {
     "name": "stderr",
     "output_type": "stream",
     "text": [
      "loss: 3.0751, accuracy: 0.1800: 100%|██████████| 1000/1000 [00:09<00:00, 100.35it/s]\n",
      "loss: 2.8733, accuracy: 0.2100: 100%|██████████| 158/158 [00:01<00:00, 156.08it/s]\n",
      "loss: 2.8396, accuracy: 0.1700:   2%|▏         | 20/1000 [00:00<00:09, 107.20it/s]"
     ]
    },
    {
     "name": "stdout",
     "output_type": "stream",
     "text": [
      "Epoch 84: train_acc_0.1702_train_loss_2.9338_val_acc_0.1689_val_loss_2.9468 epoch time 11.1178 seconds\n",
      "total time15.0 : 40.60663342475891\n"
     ]
    },
    {
     "name": "stderr",
     "output_type": "stream",
     "text": [
      "loss: 2.9689, accuracy: 0.1700: 100%|██████████| 1000/1000 [00:09<00:00, 101.22it/s]\n",
      "loss: 2.8835, accuracy: 0.2100: 100%|██████████| 158/158 [00:00<00:00, 159.20it/s]\n",
      "loss: 2.7629, accuracy: 0.1500:   2%|▏         | 20/1000 [00:00<00:09, 105.71it/s]"
     ]
    },
    {
     "name": "stdout",
     "output_type": "stream",
     "text": [
      "Epoch 85: train_acc_0.1705_train_loss_2.9340_val_acc_0.1727_val_loss_2.9416 epoch time 11.0096 seconds\n",
      "total time15.0 : 51.616254568099976\n"
     ]
    },
    {
     "name": "stderr",
     "output_type": "stream",
     "text": [
      "loss: 3.0116, accuracy: 0.1000: 100%|██████████| 1000/1000 [00:09<00:00, 100.69it/s]\n",
      "loss: 2.9959, accuracy: 0.1300: 100%|██████████| 158/158 [00:00<00:00, 160.74it/s]\n",
      "loss: 2.9426, accuracy: 0.1300:   2%|▏         | 20/1000 [00:00<00:09, 106.19it/s]"
     ]
    },
    {
     "name": "stdout",
     "output_type": "stream",
     "text": [
      "Epoch 86: train_acc_0.1694_train_loss_2.9317_val_acc_0.1699_val_loss_2.9398 epoch time 11.0536 seconds\n",
      "total time16.0 : 2.6698522567749023\n"
     ]
    },
    {
     "name": "stderr",
     "output_type": "stream",
     "text": [
      "loss: 2.8904, accuracy: 0.1600: 100%|██████████| 1000/1000 [00:09<00:00, 101.60it/s]\n",
      "loss: 3.1952, accuracy: 0.1000: 100%|██████████| 158/158 [00:01<00:00, 157.15it/s]\n",
      "loss: 2.9724, accuracy: 0.1800:   2%|▏         | 20/1000 [00:00<00:09, 103.94it/s]"
     ]
    },
    {
     "name": "stdout",
     "output_type": "stream",
     "text": [
      "Epoch 87: train_acc_0.1702_train_loss_2.9303_val_acc_0.1709_val_loss_2.9400 epoch time 10.9848 seconds\n",
      "total time16.0 : 13.654677867889404\n"
     ]
    },
    {
     "name": "stderr",
     "output_type": "stream",
     "text": [
      "loss: 2.9992, accuracy: 0.1900: 100%|██████████| 1000/1000 [00:09<00:00, 100.43it/s]\n",
      "loss: 2.9951, accuracy: 0.1900: 100%|██████████| 158/158 [00:01<00:00, 157.29it/s]\n",
      "loss: 2.8076, accuracy: 0.2000:   2%|▏         | 20/1000 [00:00<00:08, 109.30it/s]"
     ]
    },
    {
     "name": "stdout",
     "output_type": "stream",
     "text": [
      "Epoch 88: train_acc_0.1701_train_loss_2.9303_val_acc_0.1713_val_loss_2.9431 epoch time 11.1001 seconds\n",
      "total time16.0 : 24.754825830459595\n"
     ]
    },
    {
     "name": "stderr",
     "output_type": "stream",
     "text": [
      "loss: 3.0172, accuracy: 0.1600: 100%|██████████| 1000/1000 [00:09<00:00, 101.07it/s]\n",
      "loss: 2.8538, accuracy: 0.2100: 100%|██████████| 158/158 [00:00<00:00, 158.65it/s]\n",
      "loss: 2.8220, accuracy: 0.2200:   2%|▏         | 20/1000 [00:00<00:09, 107.05it/s]"
     ]
    },
    {
     "name": "stdout",
     "output_type": "stream",
     "text": [
      "Epoch 89: train_acc_0.1702_train_loss_2.9297_val_acc_0.1585_val_loss_2.9546 epoch time 11.0293 seconds\n",
      "total time16.0 : 35.784080505371094\n"
     ]
    },
    {
     "name": "stderr",
     "output_type": "stream",
     "text": [
      "loss: 3.0883, accuracy: 0.1200: 100%|██████████| 1000/1000 [00:09<00:00, 100.18it/s]\n",
      "loss: 3.0415, accuracy: 0.1300: 100%|██████████| 158/158 [00:00<00:00, 158.36it/s]\n",
      "loss: 2.9778, accuracy: 0.1300:   2%|▏         | 20/1000 [00:00<00:09, 107.29it/s]"
     ]
    },
    {
     "name": "stdout",
     "output_type": "stream",
     "text": [
      "Epoch 90: train_acc_0.1703_train_loss_2.9281_val_acc_0.1715_val_loss_2.9490 epoch time 11.1158 seconds\n",
      "total time16.0 : 46.899879455566406\n"
     ]
    },
    {
     "name": "stderr",
     "output_type": "stream",
     "text": [
      "loss: 2.9169, accuracy: 0.1700: 100%|██████████| 1000/1000 [00:09<00:00, 101.07it/s]\n",
      "loss: 2.9880, accuracy: 0.1500: 100%|██████████| 158/158 [00:00<00:00, 163.44it/s]\n",
      "loss: 2.9467, accuracy: 0.2200:   2%|▏         | 20/1000 [00:00<00:09, 106.78it/s]"
     ]
    },
    {
     "name": "stdout",
     "output_type": "stream",
     "text": [
      "Epoch 91: train_acc_0.1721_train_loss_2.9273_val_acc_0.1659_val_loss_2.9399 epoch time 10.9987 seconds\n",
      "total time16.0 : 57.89856719970703\n"
     ]
    },
    {
     "name": "stderr",
     "output_type": "stream",
     "text": [
      "loss: 3.0173, accuracy: 0.1400: 100%|██████████| 1000/1000 [00:09<00:00, 100.27it/s]\n",
      "loss: 3.0531, accuracy: 0.1200: 100%|██████████| 158/158 [00:01<00:00, 157.99it/s]\n",
      "loss: 2.7352, accuracy: 0.1800:   2%|▏         | 20/1000 [00:00<00:09, 108.12it/s]"
     ]
    },
    {
     "name": "stdout",
     "output_type": "stream",
     "text": [
      "Epoch 92: train_acc_0.1726_train_loss_2.9263_val_acc_0.1702_val_loss_2.9365 epoch time 11.1108 seconds\n",
      "total time17.0 : 9.009374380111694\n"
     ]
    },
    {
     "name": "stderr",
     "output_type": "stream",
     "text": [
      "loss: 2.9612, accuracy: 0.1600: 100%|██████████| 1000/1000 [00:09<00:00, 101.60it/s]\n",
      "loss: 2.7538, accuracy: 0.2300: 100%|██████████| 158/158 [00:00<00:00, 159.90it/s]\n",
      "loss: 3.1451, accuracy: 0.0800:   2%|▏         | 20/1000 [00:00<00:09, 107.57it/s]"
     ]
    },
    {
     "name": "stdout",
     "output_type": "stream",
     "text": [
      "Epoch 93: train_acc_0.1713_train_loss_2.9256_val_acc_0.1704_val_loss_2.9441 epoch time 10.9675 seconds\n",
      "total time17.0 : 19.976903200149536\n"
     ]
    },
    {
     "name": "stderr",
     "output_type": "stream",
     "text": [
      "loss: 3.0288, accuracy: 0.1600: 100%|██████████| 1000/1000 [00:09<00:00, 100.61it/s]\n",
      "loss: 2.9885, accuracy: 0.1600: 100%|██████████| 158/158 [00:00<00:00, 158.37it/s]\n",
      "loss: 3.1164, accuracy: 0.1500:   2%|▏         | 20/1000 [00:00<00:09, 106.85it/s]"
     ]
    },
    {
     "name": "stdout",
     "output_type": "stream",
     "text": [
      "Epoch 94: train_acc_0.1717_train_loss_2.9251_val_acc_0.1697_val_loss_2.9423 epoch time 11.0745 seconds\n",
      "total time17.0 : 31.051450729370117\n"
     ]
    },
    {
     "name": "stderr",
     "output_type": "stream",
     "text": [
      "loss: 2.9227, accuracy: 0.1700: 100%|██████████| 1000/1000 [00:09<00:00, 100.94it/s]\n",
      "loss: 2.9580, accuracy: 0.1300: 100%|██████████| 158/158 [00:01<00:00, 157.20it/s]\n",
      "loss: 2.9264, accuracy: 0.1600:   2%|▏         | 20/1000 [00:00<00:09, 104.85it/s]"
     ]
    },
    {
     "name": "stdout",
     "output_type": "stream",
     "text": [
      "Epoch 95: train_acc_0.1728_train_loss_2.9243_val_acc_0.1673_val_loss_2.9524 epoch time 11.0478 seconds\n",
      "total time17.0 : 42.099226236343384\n"
     ]
    },
    {
     "name": "stderr",
     "output_type": "stream",
     "text": [
      "loss: 2.9991, accuracy: 0.2300: 100%|██████████| 1000/1000 [00:09<00:00, 102.35it/s]\n",
      "loss: 2.8920, accuracy: 0.1800: 100%|██████████| 158/158 [00:00<00:00, 158.78it/s]\n",
      "loss: 2.8343, accuracy: 0.1400:   2%|▏         | 20/1000 [00:00<00:09, 107.24it/s]"
     ]
    },
    {
     "name": "stdout",
     "output_type": "stream",
     "text": [
      "Epoch 96: train_acc_0.1726_train_loss_2.9222_val_acc_0.1699_val_loss_2.9413 epoch time 11.1876 seconds\n",
      "total time17.0 : 53.286805391311646\n"
     ]
    },
    {
     "name": "stderr",
     "output_type": "stream",
     "text": [
      "loss: 2.9107, accuracy: 0.1800: 100%|██████████| 1000/1000 [00:09<00:00, 101.00it/s]\n",
      "loss: 2.9115, accuracy: 0.1800: 100%|██████████| 158/158 [00:01<00:00, 157.85it/s]\n",
      "loss: 3.0492, accuracy: 0.1600:   2%|▏         | 20/1000 [00:00<00:09, 105.24it/s]"
     ]
    },
    {
     "name": "stdout",
     "output_type": "stream",
     "text": [
      "Epoch 97: train_acc_0.1723_train_loss_2.9217_val_acc_0.1704_val_loss_2.9334 epoch time 11.0380 seconds\n",
      "total time18.0 : 4.324832916259766\n"
     ]
    },
    {
     "name": "stderr",
     "output_type": "stream",
     "text": [
      "loss: 3.2002, accuracy: 0.1000: 100%|██████████| 1000/1000 [00:09<00:00, 100.36it/s]\n",
      "loss: 2.9221, accuracy: 0.1400: 100%|██████████| 158/158 [00:00<00:00, 158.62it/s]\n",
      "loss: 2.7498, accuracy: 0.2100:   2%|▏         | 20/1000 [00:00<00:09, 108.19it/s]"
     ]
    },
    {
     "name": "stdout",
     "output_type": "stream",
     "text": [
      "Epoch 98: train_acc_0.1722_train_loss_2.9209_val_acc_0.1720_val_loss_2.9397 epoch time 11.0944 seconds\n",
      "total time18.0 : 15.41927433013916\n"
     ]
    },
    {
     "name": "stderr",
     "output_type": "stream",
     "text": [
      "loss: 2.8641, accuracy: 0.2200: 100%|██████████| 1000/1000 [00:09<00:00, 100.97it/s]\n",
      "loss: 2.9882, accuracy: 0.1900: 100%|██████████| 158/158 [00:01<00:00, 157.64it/s]\n",
      "loss: 2.9841, accuracy: 0.1600:  20%|██        | 32/158 [00:00<00:00, 170.90it/s]"
     ]
    },
    {
     "name": "stdout",
     "output_type": "stream",
     "text": [
      "Epoch 99: train_acc_0.1712_train_loss_2.9198_val_acc_0.1676_val_loss_2.9368 epoch time 11.0441 seconds\n",
      "total time18.0 : 26.463392972946167\n",
      "Generating test set evaluation metrics\n"
     ]
    },
    {
     "name": "stderr",
     "output_type": "stream",
     "text": [
      "loss: 3.1589, accuracy: 0.1200: 100%|██████████| 158/158 [00:01<00:00, 157.15it/s]\n"
     ]
    },
    {
     "name": "stdout",
     "output_type": "stream",
     "text": [
      "finish\n"
     ]
    },
    {
     "data": {
      "image/png": "[encoded data removed]",
      "text/plain": [
       "<Figure size 576x288 with 1 Axes>"
      ]
     },
     "metadata": {
      "needs_background": "light"
     },
     "output_type": "display_data"
    },
    {
     "data": {
      "image/png": "[encoded data removed]",
      "text/plain": [
       "<Figure size 576x288 with 1 Axes>"
      ]
     },
     "metadata": {
      "needs_background": "light"
     },
     "output_type": "display_data"
    },
    {
     "name": "stderr",
     "output_type": "stream",
     "text": [
      "loss: 3.8486, accuracy: 0.0100:   2%|▏         | 19/1000 [00:00<00:08, 109.26it/s]"
     ]
    },
    {
     "name": "stdout",
     "output_type": "stream",
     "text": [
      "Building basic block of ConvolutionalNetwork using input shape (100, 1, 28, 28)\n",
      "torch.Size([100, 64, 6, 6])\n",
      "torch.Size([100, 64, 4, 4])\n",
      "torch.Size([100, 64, 1, 1])\n",
      "torch.Size([100, 64, 1, 1])\n",
      "torch.Size([100, 64, 1, 1])\n",
      "torch.Size([100, 64, 1, 1])\n",
      "torch.Size([100, 64, 1, 1])\n",
      "torch.Size([100, 64, 1, 1])\n",
      "shape before final linear layer torch.Size([100, 64, 2, 2])\n",
      "Block is built, output volume is torch.Size([100, 47])\n",
      "use GPU\n",
      "ConvolutionalNetwork(\n",
      "  (layer_dict): ModuleDict(\n",
      "    (conv_0): Conv2d(1, 64, kernel_size=(3, 3), stride=(5, 5), padding=(1, 1))\n",
      "    (dim_reduction_avg_pool_0): AvgPool2d(kernel_size=2, stride=2, padding=1)\n",
      "    (conv_1): Conv2d(64, 64, kernel_size=(3, 3), stride=(5, 5), padding=(1, 1))\n",
      "    (dim_reduction_avg_pool_1): AvgPool2d(kernel_size=2, stride=2, padding=1)\n",
      "    (conv_2): Conv2d(64, 64, kernel_size=(3, 3), stride=(5, 5), padding=(1, 1))\n",
      "    (dim_reduction_avg_pool_2): AvgPool2d(kernel_size=2, stride=2, padding=1)\n",
      "    (conv_3): Conv2d(64, 64, kernel_size=(3, 3), stride=(5, 5), padding=(1, 1))\n",
      "    (dim_reduction_avg_pool_3): AvgPool2d(kernel_size=2, stride=2, padding=1)\n",
      "  )\n",
      "  (logit_linear_layer): Linear(in_features=256, out_features=47, bias=True)\n",
      ")\n"
     ]
    },
    {
     "name": "stderr",
     "output_type": "stream",
     "text": [
      "loss: 3.6176, accuracy: 0.0700: 100%|██████████| 1000/1000 [00:09<00:00, 100.85it/s]\n",
      "loss: 3.6217, accuracy: 0.0600: 100%|██████████| 158/158 [00:00<00:00, 158.31it/s]\n",
      "loss: 3.5644, accuracy: 0.0600:   2%|▏         | 20/1000 [00:00<00:09, 106.81it/s]"
     ]
    },
    {
     "name": "stdout",
     "output_type": "stream",
     "text": [
      "Epoch 0: train_acc_0.0428_train_loss_3.6749_val_acc_0.0575_val_loss_3.5812 epoch time 11.0502 seconds\n",
      "total time0.0 : 11.050235509872437\n"
     ]
    },
    {
     "name": "stderr",
     "output_type": "stream",
     "text": [
      "loss: 3.4711, accuracy: 0.0600: 100%|██████████| 1000/1000 [00:09<00:00, 100.77it/s]\n",
      "loss: 3.4560, accuracy: 0.0300: 100%|██████████| 158/158 [00:01<00:00, 156.77it/s]\n",
      "loss: 3.3904, accuracy: 0.1200:   2%|▏         | 20/1000 [00:00<00:09, 106.70it/s]"
     ]
    },
    {
     "name": "stdout",
     "output_type": "stream",
     "text": [
      "Epoch 1: train_acc_0.0639_train_loss_3.4843_val_acc_0.0723_val_loss_3.4297 epoch time 11.0693 seconds\n",
      "total time0.0 : 22.119518041610718\n"
     ]
    },
    {
     "name": "stderr",
     "output_type": "stream",
     "text": [
      "loss: 3.3928, accuracy: 0.0600: 100%|██████████| 1000/1000 [00:09<00:00, 101.14it/s]\n",
      "loss: 3.2576, accuracy: 0.1200: 100%|██████████| 158/158 [00:01<00:00, 154.28it/s]\n",
      "loss: 3.3692, accuracy: 0.0600:   2%|▏         | 20/1000 [00:00<00:09, 105.30it/s]"
     ]
    },
    {
     "name": "stdout",
     "output_type": "stream",
     "text": [
      "Epoch 2: train_acc_0.0734_train_loss_3.4180_val_acc_0.0754_val_loss_3.4087 epoch time 11.0496 seconds\n",
      "total time0.0 : 33.169081926345825\n"
     ]
    },
    {
     "name": "stderr",
     "output_type": "stream",
     "text": [
      "loss: 3.4099, accuracy: 0.0400: 100%|██████████| 1000/1000 [00:09<00:00, 100.69it/s]\n",
      "loss: 3.2760, accuracy: 0.1500: 100%|██████████| 158/158 [00:00<00:00, 159.81it/s]\n",
      "loss: 3.2548, accuracy: 0.1100:   2%|▏         | 20/1000 [00:00<00:09, 105.72it/s]"
     ]
    },
    {
     "name": "stdout",
     "output_type": "stream",
     "text": [
      "Epoch 3: train_acc_0.0793_train_loss_3.3947_val_acc_0.0802_val_loss_3.3831 epoch time 11.0569 seconds\n",
      "total time0.0 : 44.225980281829834\n"
     ]
    },
    {
     "name": "stderr",
     "output_type": "stream",
     "text": [
      "loss: 3.3099, accuracy: 0.0600: 100%|██████████| 1000/1000 [00:09<00:00, 101.60it/s]\n",
      "loss: 3.3401, accuracy: 0.0200: 100%|██████████| 158/158 [00:01<00:00, 157.36it/s]\n",
      "loss: 3.3723, accuracy: 0.0900:   2%|▏         | 20/1000 [00:00<00:09, 105.73it/s]"
     ]
    },
    {
     "name": "stdout",
     "output_type": "stream",
     "text": [
      "Epoch 4: train_acc_0.0819_train_loss_3.3775_val_acc_0.0773_val_loss_3.3690 epoch time 10.9849 seconds\n",
      "total time0.0 : 55.21086883544922\n"
     ]
    },
    {
     "name": "stderr",
     "output_type": "stream",
     "text": [
      "loss: 3.4675, accuracy: 0.0900: 100%|██████████| 1000/1000 [00:09<00:00, 100.71it/s]\n",
      "loss: 3.3174, accuracy: 0.0900: 100%|██████████| 158/158 [00:00<00:00, 158.66it/s]\n",
      "loss: 3.3549, accuracy: 0.0900:   2%|▏         | 20/1000 [00:00<00:09, 107.43it/s]"
     ]
    },
    {
     "name": "stdout",
     "output_type": "stream",
     "text": [
      "Epoch 5: train_acc_0.0823_train_loss_3.3631_val_acc_0.0839_val_loss_3.3676 epoch time 11.0641 seconds\n",
      "total time1.0 : 6.274988651275635\n"
     ]
    },
    {
     "name": "stderr",
     "output_type": "stream",
     "text": [
      "loss: 3.3923, accuracy: 0.0600: 100%|██████████| 1000/1000 [00:09<00:00, 100.69it/s]\n",
      "loss: 3.3628, accuracy: 0.0700: 100%|██████████| 158/158 [00:00<00:00, 158.90it/s]\n",
      "loss: 3.2834, accuracy: 0.0600:   2%|▏         | 20/1000 [00:00<00:09, 106.08it/s]"
     ]
    },
    {
     "name": "stdout",
     "output_type": "stream",
     "text": [
      "Epoch 6: train_acc_0.0849_train_loss_3.3517_val_acc_0.0875_val_loss_3.3541 epoch time 11.0630 seconds\n",
      "total time1.0 : 17.338012218475342\n"
     ]
    },
    {
     "name": "stderr",
     "output_type": "stream",
     "text": [
      "loss: 3.1876, accuracy: 0.1300: 100%|██████████| 1000/1000 [00:09<00:00, 100.66it/s]\n",
      "loss: 3.3002, accuracy: 0.1100: 100%|██████████| 158/158 [00:00<00:00, 158.00it/s]\n",
      "loss: 3.2790, accuracy: 0.0900:   2%|▏         | 20/1000 [00:00<00:09, 107.70it/s]"
     ]
    },
    {
     "name": "stdout",
     "output_type": "stream",
     "text": [
      "Epoch 7: train_acc_0.0860_train_loss_3.3398_val_acc_0.0899_val_loss_3.3374 epoch time 11.0731 seconds\n",
      "total time1.0 : 28.41112756729126\n"
     ]
    },
    {
     "name": "stderr",
     "output_type": "stream",
     "text": [
      "loss: 3.3496, accuracy: 0.0900: 100%|██████████| 1000/1000 [00:09<00:00, 101.12it/s]\n",
      "loss: 3.4497, accuracy: 0.0900: 100%|██████████| 158/158 [00:00<00:00, 159.12it/s]\n",
      "loss: 3.2778, accuracy: 0.0800:   2%|▏         | 20/1000 [00:00<00:09, 105.65it/s]"
     ]
    },
    {
     "name": "stdout",
     "output_type": "stream",
     "text": [
      "Epoch 8: train_acc_0.0887_train_loss_3.3269_val_acc_0.0915_val_loss_3.3183 epoch time 11.0235 seconds\n",
      "total time1.0 : 39.434667348861694\n"
     ]
    },
    {
     "name": "stderr",
     "output_type": "stream",
     "text": [
      "loss: 3.2865, accuracy: 0.0800: 100%|██████████| 1000/1000 [00:09<00:00, 100.27it/s]\n",
      "loss: 3.3392, accuracy: 0.0700: 100%|██████████| 158/158 [00:01<00:00, 155.59it/s]\n",
      "loss: 3.2699, accuracy: 0.0900:   2%|▏         | 20/1000 [00:00<00:09, 105.36it/s]"
     ]
    },
    {
     "name": "stdout",
     "output_type": "stream",
     "text": [
      "Epoch 9: train_acc_0.0937_train_loss_3.3011_val_acc_0.0997_val_loss_3.2865 epoch time 11.1246 seconds\n",
      "total time1.0 : 50.55931520462036\n"
     ]
    },
    {
     "name": "stderr",
     "output_type": "stream",
     "text": [
      "loss: 3.2197, accuracy: 0.0800: 100%|██████████| 1000/1000 [00:09<00:00, 100.89it/s]\n",
      "loss: 3.2729, accuracy: 0.0700: 100%|██████████| 158/158 [00:00<00:00, 158.67it/s]\n",
      "loss: 3.2197, accuracy: 0.0800:   2%|▏         | 20/1000 [00:00<00:09, 104.84it/s]"
     ]
    },
    {
     "name": "stdout",
     "output_type": "stream",
     "text": [
      "Epoch 10: train_acc_0.1040_train_loss_3.2623_val_acc_0.1053_val_loss_3.2529 epoch time 11.0436 seconds\n",
      "total time2.0 : 1.6029205322265625\n"
     ]
    },
    {
     "name": "stderr",
     "output_type": "stream",
     "text": [
      "loss: 3.2070, accuracy: 0.1300: 100%|██████████| 1000/1000 [00:09<00:00, 101.13it/s]\n",
      "loss: 3.2360, accuracy: 0.1600: 100%|██████████| 158/158 [00:01<00:00, 157.96it/s]\n",
      "loss: 3.1383, accuracy: 0.0900:   2%|▏         | 20/1000 [00:00<00:09, 107.09it/s]"
     ]
    },
    {
     "name": "stdout",
     "output_type": "stream",
     "text": [
      "Epoch 11: train_acc_0.1106_train_loss_3.2342_val_acc_0.1083_val_loss_3.2451 epoch time 11.0261 seconds\n",
      "total time2.0 : 12.629025936126709\n"
     ]
    },
    {
     "name": "stderr",
     "output_type": "stream",
     "text": [
      "loss: 3.3981, accuracy: 0.0400: 100%|██████████| 1000/1000 [00:09<00:00, 101.29it/s]\n",
      "loss: 3.3692, accuracy: 0.0800: 100%|██████████| 158/158 [00:01<00:00, 156.74it/s]\n",
      "loss: 3.1942, accuracy: 0.1700:   2%|▏         | 20/1000 [00:00<00:09, 107.90it/s]"
     ]
    },
    {
     "name": "stdout",
     "output_type": "stream",
     "text": [
      "Epoch 12: train_acc_0.1172_train_loss_3.2064_val_acc_0.1154_val_loss_3.2181 epoch time 11.0205 seconds\n",
      "total time2.0 : 23.6495623588562\n"
     ]
    },
    {
     "name": "stderr",
     "output_type": "stream",
     "text": [
      "loss: 2.9913, accuracy: 0.1600: 100%|██████████| 1000/1000 [00:09<00:00, 101.01it/s]\n",
      "loss: 3.0849, accuracy: 0.1500: 100%|██████████| 158/158 [00:00<00:00, 160.78it/s]\n",
      "loss: 3.1179, accuracy: 0.0800:   2%|▏         | 20/1000 [00:00<00:09, 108.82it/s]"
     ]
    },
    {
     "name": "stdout",
     "output_type": "stream",
     "text": [
      "Epoch 13: train_acc_0.1237_train_loss_3.1681_val_acc_0.1231_val_loss_3.1635 epoch time 11.0208 seconds\n",
      "total time2.0 : 34.67034912109375\n"
     ]
    },
    {
     "name": "stderr",
     "output_type": "stream",
     "text": [
      "loss: 3.2287, accuracy: 0.1400: 100%|██████████| 1000/1000 [00:09<00:00, 101.43it/s]\n",
      "loss: 3.2121, accuracy: 0.1200: 100%|██████████| 158/158 [00:00<00:00, 159.65it/s]\n",
      "loss: 3.1473, accuracy: 0.1700:   2%|▏         | 20/1000 [00:00<00:08, 108.91it/s]"
     ]
    },
    {
     "name": "stdout",
     "output_type": "stream",
     "text": [
      "Epoch 14: train_acc_0.1320_train_loss_3.1274_val_acc_0.1301_val_loss_3.1112 epoch time 11.0407 seconds\n",
      "total time2.0 : 45.71103835105896\n"
     ]
    },
    {
     "name": "stderr",
     "output_type": "stream",
     "text": [
      "loss: 3.2195, accuracy: 0.1000: 100%|██████████| 1000/1000 [00:09<00:00, 100.79it/s]\n",
      "loss: 3.1006, accuracy: 0.0900: 100%|██████████| 158/158 [00:00<00:00, 161.74it/s]\n",
      "loss: 3.0514, accuracy: 0.1200:   2%|▏         | 20/1000 [00:00<00:09, 106.32it/s]"
     ]
    },
    {
     "name": "stdout",
     "output_type": "stream",
     "text": [
      "Epoch 15: train_acc_0.1363_train_loss_3.1012_val_acc_0.1356_val_loss_3.0944 epoch time 11.0423 seconds\n",
      "total time2.0 : 56.75329113006592\n"
     ]
    },
    {
     "name": "stderr",
     "output_type": "stream",
     "text": [
      "loss: 3.2908, accuracy: 0.1200: 100%|██████████| 1000/1000 [00:09<00:00, 101.02it/s]\n",
      "loss: 3.0650, accuracy: 0.1300: 100%|██████████| 158/158 [00:01<00:00, 156.91it/s]\n",
      "loss: 3.2259, accuracy: 0.0800:   2%|▏         | 20/1000 [00:00<00:09, 106.20it/s]"
     ]
    },
    {
     "name": "stdout",
     "output_type": "stream",
     "text": [
      "Epoch 16: train_acc_0.1412_train_loss_3.0817_val_acc_0.1385_val_loss_3.0842 epoch time 11.0460 seconds\n",
      "total time3.0 : 7.799334287643433\n"
     ]
    },
    {
     "name": "stderr",
     "output_type": "stream",
     "text": [
      "loss: 3.0109, accuracy: 0.1400: 100%|██████████| 1000/1000 [00:09<00:00, 100.38it/s]\n",
      "loss: 2.8476, accuracy: 0.2100: 100%|██████████| 158/158 [00:01<00:00, 157.31it/s]\n",
      "loss: 2.8899, accuracy: 0.1300:   2%|▏         | 20/1000 [00:00<00:09, 107.59it/s]"
     ]
    },
    {
     "name": "stdout",
     "output_type": "stream",
     "text": [
      "Epoch 17: train_acc_0.1436_train_loss_3.0644_val_acc_0.1452_val_loss_3.0520 epoch time 11.1053 seconds\n",
      "total time3.0 : 18.904624462127686\n"
     ]
    },
    {
     "name": "stderr",
     "output_type": "stream",
     "text": [
      "loss: 3.1960, accuracy: 0.1500: 100%|██████████| 1000/1000 [00:09<00:00, 100.82it/s]\n",
      "loss: 3.0465, accuracy: 0.1400: 100%|██████████| 158/158 [00:00<00:00, 161.65it/s]\n",
      "loss: 3.1919, accuracy: 0.1300:   2%|▏         | 20/1000 [00:00<00:09, 107.40it/s]"
     ]
    },
    {
     "name": "stdout",
     "output_type": "stream",
     "text": [
      "Epoch 18: train_acc_0.1460_train_loss_3.0503_val_acc_0.1447_val_loss_3.0532 epoch time 11.0325 seconds\n",
      "total time3.0 : 29.93710470199585\n"
     ]
    },
    {
     "name": "stderr",
     "output_type": "stream",
     "text": [
      "loss: 2.9804, accuracy: 0.1600: 100%|██████████| 1000/1000 [00:09<00:00, 100.88it/s]\n",
      "loss: 3.0618, accuracy: 0.0800: 100%|██████████| 158/158 [00:00<00:00, 161.04it/s]\n",
      "loss: 3.1782, accuracy: 0.1100:   2%|▏         | 20/1000 [00:00<00:09, 108.54it/s]"
     ]
    },
    {
     "name": "stdout",
     "output_type": "stream",
     "text": [
      "Epoch 19: train_acc_0.1484_train_loss_3.0373_val_acc_0.1501_val_loss_3.0358 epoch time 11.0314 seconds\n",
      "total time3.0 : 40.96854853630066\n"
     ]
    },
    {
     "name": "stderr",
     "output_type": "stream",
     "text": [
      "loss: 3.1790, accuracy: 0.1100: 100%|██████████| 1000/1000 [00:09<00:00, 100.97it/s]\n",
      "loss: 3.0501, accuracy: 0.1100: 100%|██████████| 158/158 [00:00<00:00, 160.31it/s]\n",
      "loss: 2.9545, accuracy: 0.1400:   2%|▏         | 20/1000 [00:00<00:09, 105.35it/s]"
     ]
    },
    {
     "name": "stdout",
     "output_type": "stream",
     "text": [
      "Epoch 20: train_acc_0.1510_train_loss_3.0236_val_acc_0.1513_val_loss_3.0149 epoch time 11.0272 seconds\n",
      "total time3.0 : 51.99573993682861\n"
     ]
    },
    {
     "name": "stderr",
     "output_type": "stream",
     "text": [
      "loss: 3.1640, accuracy: 0.1600: 100%|██████████| 1000/1000 [00:09<00:00, 103.11it/s]\n",
      "loss: 2.8858, accuracy: 0.1200: 100%|██████████| 158/158 [00:01<00:00, 157.06it/s]\n",
      "loss: 3.0316, accuracy: 0.1600:   2%|▏         | 20/1000 [00:00<00:09, 107.92it/s]"
     ]
    },
    {
     "name": "stdout",
     "output_type": "stream",
     "text": [
      "Epoch 21: train_acc_0.1545_train_loss_3.0114_val_acc_0.1549_val_loss_3.0021 epoch time 11.1258 seconds\n",
      "total time4.0 : 3.121509313583374\n"
     ]
    },
    {
     "name": "stderr",
     "output_type": "stream",
     "text": [
      "loss: 3.0378, accuracy: 0.1200: 100%|██████████| 1000/1000 [00:09<00:00, 101.21it/s]\n",
      "loss: 2.9183, accuracy: 0.1600: 100%|██████████| 158/158 [00:00<00:00, 158.31it/s]\n",
      "loss: 3.0159, accuracy: 0.1600:   2%|▏         | 20/1000 [00:00<00:09, 106.15it/s]"
     ]
    },
    {
     "name": "stdout",
     "output_type": "stream",
     "text": [
      "Epoch 22: train_acc_0.1575_train_loss_2.9978_val_acc_0.1618_val_loss_2.9909 epoch time 11.0155 seconds\n",
      "total time4.0 : 14.136987924575806\n"
     ]
    },
    {
     "name": "stderr",
     "output_type": "stream",
     "text": [
      "loss: 2.9218, accuracy: 0.2200: 100%|██████████| 1000/1000 [00:09<00:00, 100.56it/s]\n",
      "loss: 3.0739, accuracy: 0.1300: 100%|██████████| 158/158 [00:00<00:00, 158.08it/s]\n",
      "loss: 2.9655, accuracy: 0.1900:   2%|▏         | 20/1000 [00:00<00:09, 106.32it/s]"
     ]
    },
    {
     "name": "stdout",
     "output_type": "stream",
     "text": [
      "Epoch 23: train_acc_0.1604_train_loss_2.9821_val_acc_0.1635_val_loss_2.9699 epoch time 11.0813 seconds\n",
      "total time4.0 : 25.218281745910645\n"
     ]
    },
    {
     "name": "stderr",
     "output_type": "stream",
     "text": [
      "loss: 2.8671, accuracy: 0.2200: 100%|██████████| 1000/1000 [00:09<00:00, 101.39it/s]\n",
      "loss: 3.1355, accuracy: 0.1000: 100%|██████████| 158/158 [00:00<00:00, 159.23it/s]\n",
      "loss: 2.9874, accuracy: 0.1700:   2%|▏         | 20/1000 [00:00<00:09, 106.02it/s]"
     ]
    },
    {
     "name": "stdout",
     "output_type": "stream",
     "text": [
      "Epoch 24: train_acc_0.1638_train_loss_2.9675_val_acc_0.1693_val_loss_2.9529 epoch time 10.9920 seconds\n",
      "total time4.0 : 36.21026277542114\n"
     ]
    },
    {
     "name": "stderr",
     "output_type": "stream",
     "text": [
      "loss: 2.9049, accuracy: 0.1000: 100%|██████████| 1000/1000 [00:10<00:00, 99.80it/s] \n",
      "loss: 3.0185, accuracy: 0.1600: 100%|██████████| 158/158 [00:00<00:00, 166.30it/s]\n",
      "loss: 2.8976, accuracy: 0.1800:   2%|▏         | 20/1000 [00:00<00:09, 107.44it/s]"
     ]
    },
    {
     "name": "stdout",
     "output_type": "stream",
     "text": [
      "Epoch 25: train_acc_0.1681_train_loss_2.9525_val_acc_0.1670_val_loss_2.9520 epoch time 11.1076 seconds\n",
      "total time4.0 : 47.317821741104126\n"
     ]
    },
    {
     "name": "stderr",
     "output_type": "stream",
     "text": [
      "loss: 3.0641, accuracy: 0.1500: 100%|██████████| 1000/1000 [00:09<00:00, 100.90it/s]\n",
      "loss: 2.8715, accuracy: 0.1800: 100%|██████████| 158/158 [00:01<00:00, 156.91it/s]\n",
      "loss: 3.1226, accuracy: 0.1500:   2%|▏         | 20/1000 [00:00<00:09, 107.77it/s]"
     ]
    },
    {
     "name": "stdout",
     "output_type": "stream",
     "text": [
      "Epoch 26: train_acc_0.1692_train_loss_2.9407_val_acc_0.1742_val_loss_2.9328 epoch time 11.0545 seconds\n",
      "total time4.0 : 58.372310638427734\n"
     ]
    },
    {
     "name": "stderr",
     "output_type": "stream",
     "text": [
      "loss: 2.8659, accuracy: 0.1500: 100%|██████████| 1000/1000 [00:09<00:00, 100.64it/s]\n",
      "loss: 3.0215, accuracy: 0.1600: 100%|██████████| 158/158 [00:01<00:00, 157.81it/s]\n",
      "loss: 2.9727, accuracy: 0.1800:   2%|▏         | 20/1000 [00:00<00:09, 108.32it/s]"
     ]
    },
    {
     "name": "stdout",
     "output_type": "stream",
     "text": [
      "Epoch 27: train_acc_0.1723_train_loss_2.9285_val_acc_0.1744_val_loss_2.9301 epoch time 11.0790 seconds\n",
      "total time5.0 : 9.4512779712677\n"
     ]
    },
    {
     "name": "stderr",
     "output_type": "stream",
     "text": [
      "loss: 2.8779, accuracy: 0.2100: 100%|██████████| 1000/1000 [00:09<00:00, 100.85it/s]\n",
      "loss: 3.0849, accuracy: 0.1500: 100%|██████████| 158/158 [00:01<00:00, 157.32it/s]\n",
      "loss: 2.8885, accuracy: 0.1500:   2%|▏         | 20/1000 [00:00<00:09, 106.15it/s]"
     ]
    },
    {
     "name": "stdout",
     "output_type": "stream",
     "text": [
      "Epoch 28: train_acc_0.1749_train_loss_2.9168_val_acc_0.1754_val_loss_2.9153 epoch time 11.0564 seconds\n",
      "total time5.0 : 20.507694482803345\n"
     ]
    },
    {
     "name": "stderr",
     "output_type": "stream",
     "text": [
      "loss: 2.9754, accuracy: 0.1200: 100%|██████████| 1000/1000 [00:09<00:00, 103.82it/s]\n",
      "loss: 3.0374, accuracy: 0.1400: 100%|██████████| 158/158 [00:01<00:00, 157.99it/s]\n",
      "loss: 2.7734, accuracy: 0.1800:   2%|▏         | 20/1000 [00:00<00:09, 105.18it/s]"
     ]
    },
    {
     "name": "stdout",
     "output_type": "stream",
     "text": [
      "Epoch 29: train_acc_0.1769_train_loss_2.9055_val_acc_0.1780_val_loss_2.9001 epoch time 11.0560 seconds\n",
      "total time5.0 : 31.563735723495483\n"
     ]
    },
    {
     "name": "stderr",
     "output_type": "stream",
     "text": [
      "loss: 2.9976, accuracy: 0.1400: 100%|██████████| 1000/1000 [00:09<00:00, 100.96it/s]\n",
      "loss: 2.7827, accuracy: 0.1700: 100%|██████████| 158/158 [00:00<00:00, 160.16it/s]\n",
      "loss: 2.9946, accuracy: 0.1800:   2%|▏         | 20/1000 [00:00<00:09, 106.47it/s]"
     ]
    },
    {
     "name": "stdout",
     "output_type": "stream",
     "text": [
      "Epoch 30: train_acc_0.1784_train_loss_2.8973_val_acc_0.1787_val_loss_2.9059 epoch time 11.0290 seconds\n",
      "total time5.0 : 42.59270453453064\n"
     ]
    },
    {
     "name": "stderr",
     "output_type": "stream",
     "text": [
      "loss: 3.0954, accuracy: 0.0700: 100%|██████████| 1000/1000 [00:09<00:00, 100.45it/s]\n",
      "loss: 3.0390, accuracy: 0.1500: 100%|██████████| 158/158 [00:01<00:00, 157.57it/s]\n",
      "loss: 2.9476, accuracy: 0.1100:   2%|▏         | 20/1000 [00:00<00:09, 105.43it/s]"
     ]
    },
    {
     "name": "stdout",
     "output_type": "stream",
     "text": [
      "Epoch 31: train_acc_0.1815_train_loss_2.8876_val_acc_0.1812_val_loss_2.8945 epoch time 11.0963 seconds\n",
      "total time5.0 : 53.68903112411499\n"
     ]
    },
    {
     "name": "stderr",
     "output_type": "stream",
     "text": [
      "loss: 2.9541, accuracy: 0.2000: 100%|██████████| 1000/1000 [00:09<00:00, 101.18it/s]\n",
      "loss: 2.6451, accuracy: 0.2300: 100%|██████████| 158/158 [00:00<00:00, 158.23it/s]\n",
      "loss: 2.9583, accuracy: 0.1200:   2%|▏         | 20/1000 [00:00<00:09, 106.81it/s]"
     ]
    },
    {
     "name": "stdout",
     "output_type": "stream",
     "text": [
      "Epoch 32: train_acc_0.1829_train_loss_2.8792_val_acc_0.1797_val_loss_2.9088 epoch time 11.0191 seconds\n",
      "total time6.0 : 4.708139419555664\n"
     ]
    },
    {
     "name": "stderr",
     "output_type": "stream",
     "text": [
      "loss: 2.9478, accuracy: 0.2100: 100%|██████████| 1000/1000 [00:09<00:00, 100.58it/s]\n",
      "loss: 2.9140, accuracy: 0.1900: 100%|██████████| 158/158 [00:01<00:00, 157.77it/s]\n",
      "loss: 2.9136, accuracy: 0.1900:   2%|▏         | 20/1000 [00:00<00:08, 109.37it/s]"
     ]
    },
    {
     "name": "stdout",
     "output_type": "stream",
     "text": [
      "Epoch 33: train_acc_0.1852_train_loss_2.8704_val_acc_0.1882_val_loss_2.8653 epoch time 11.0801 seconds\n",
      "total time6.0 : 15.788202047348022\n"
     ]
    },
    {
     "name": "stderr",
     "output_type": "stream",
     "text": [
      "loss: 2.8887, accuracy: 0.1200: 100%|██████████| 1000/1000 [00:09<00:00, 101.28it/s]\n",
      "loss: 2.9035, accuracy: 0.1700: 100%|██████████| 158/158 [00:00<00:00, 159.24it/s]\n",
      "loss: 2.9536, accuracy: 0.1300:   2%|▏         | 20/1000 [00:00<00:09, 107.46it/s]"
     ]
    },
    {
     "name": "stdout",
     "output_type": "stream",
     "text": [
      "Epoch 34: train_acc_0.1853_train_loss_2.8627_val_acc_0.1918_val_loss_2.8559 epoch time 11.0063 seconds\n",
      "total time6.0 : 26.794549703598022\n"
     ]
    },
    {
     "name": "stderr",
     "output_type": "stream",
     "text": [
      "loss: 2.9199, accuracy: 0.1900: 100%|██████████| 1000/1000 [00:09<00:00, 100.78it/s]\n",
      "loss: 2.8634, accuracy: 0.1700: 100%|██████████| 158/158 [00:00<00:00, 158.63it/s]\n",
      "loss: 2.9643, accuracy: 0.1800:   2%|▏         | 20/1000 [00:00<00:08, 109.08it/s]"
     ]
    },
    {
     "name": "stdout",
     "output_type": "stream",
     "text": [
      "Epoch 35: train_acc_0.1878_train_loss_2.8540_val_acc_0.1903_val_loss_2.8593 epoch time 11.0543 seconds\n",
      "total time6.0 : 37.8488872051239\n"
     ]
    },
    {
     "name": "stderr",
     "output_type": "stream",
     "text": [
      "loss: 2.8848, accuracy: 0.1600: 100%|██████████| 1000/1000 [00:09<00:00, 101.40it/s]\n",
      "loss: 2.8491, accuracy: 0.1700: 100%|██████████| 158/158 [00:01<00:00, 157.05it/s]\n",
      "loss: 2.6417, accuracy: 0.2100:   2%|▏         | 20/1000 [00:00<00:09, 106.87it/s]"
     ]
    },
    {
     "name": "stdout",
     "output_type": "stream",
     "text": [
      "Epoch 36: train_acc_0.1887_train_loss_2.8467_val_acc_0.1904_val_loss_2.8416 epoch time 11.0089 seconds\n",
      "total time6.0 : 48.85778880119324\n"
     ]
    },
    {
     "name": "stderr",
     "output_type": "stream",
     "text": [
      "loss: 2.7309, accuracy: 0.2400: 100%|██████████| 1000/1000 [00:09<00:00, 100.25it/s]\n",
      "loss: 2.7022, accuracy: 0.2500: 100%|██████████| 158/158 [00:01<00:00, 157.03it/s]\n",
      "loss: 2.7180, accuracy: 0.1600:   2%|▏         | 20/1000 [00:00<00:08, 109.80it/s]"
     ]
    },
    {
     "name": "stdout",
     "output_type": "stream",
     "text": [
      "Epoch 37: train_acc_0.1901_train_loss_2.8387_val_acc_0.1923_val_loss_2.8344 epoch time 11.1205 seconds\n",
      "total time6.0 : 59.97832489013672\n"
     ]
    },
    {
     "name": "stderr",
     "output_type": "stream",
     "text": [
      "loss: 3.0211, accuracy: 0.1600: 100%|██████████| 1000/1000 [00:09<00:00, 100.85it/s]\n",
      "loss: 2.9602, accuracy: 0.1000: 100%|██████████| 158/158 [00:01<00:00, 157.02it/s]\n",
      "loss: 2.7558, accuracy: 0.2600:   2%|▏         | 20/1000 [00:00<00:09, 106.00it/s]"
     ]
    },
    {
     "name": "stdout",
     "output_type": "stream",
     "text": [
      "Epoch 38: train_acc_0.1922_train_loss_2.8314_val_acc_0.1971_val_loss_2.8292 epoch time 11.0604 seconds\n",
      "total time7.0 : 11.03868556022644\n"
     ]
    },
    {
     "name": "stderr",
     "output_type": "stream",
     "text": [
      "loss: 3.0181, accuracy: 0.1700: 100%|██████████| 1000/1000 [00:09<00:00, 100.49it/s]\n",
      "loss: 2.8448, accuracy: 0.2000: 100%|██████████| 158/158 [00:01<00:00, 157.90it/s]\n",
      "loss: 2.7132, accuracy: 0.2000:   2%|▏         | 20/1000 [00:00<00:09, 108.36it/s]"
     ]
    },
    {
     "name": "stdout",
     "output_type": "stream",
     "text": [
      "Epoch 39: train_acc_0.1944_train_loss_2.8247_val_acc_0.1955_val_loss_2.8192 epoch time 11.0891 seconds\n",
      "total time7.0 : 22.127752542495728\n"
     ]
    },
    {
     "name": "stderr",
     "output_type": "stream",
     "text": [
      "loss: 2.6826, accuracy: 0.2700: 100%|██████████| 1000/1000 [00:09<00:00, 100.88it/s]\n",
      "loss: 2.7847, accuracy: 0.1500: 100%|██████████| 158/158 [00:00<00:00, 158.20it/s]\n",
      "loss: 2.7933, accuracy: 0.1600:   2%|▏         | 20/1000 [00:00<00:09, 106.56it/s]"
     ]
    },
    {
     "name": "stdout",
     "output_type": "stream",
     "text": [
      "Epoch 40: train_acc_0.1960_train_loss_2.8175_val_acc_0.1951_val_loss_2.8102 epoch time 11.0512 seconds\n",
      "total time7.0 : 33.1789767742157\n"
     ]
    },
    {
     "name": "stderr",
     "output_type": "stream",
     "text": [
      "loss: 2.9372, accuracy: 0.1800: 100%|██████████| 1000/1000 [00:09<00:00, 102.23it/s]\n",
      "loss: 2.7820, accuracy: 0.2200: 100%|██████████| 158/158 [00:00<00:00, 159.61it/s]\n",
      "loss: 2.9530, accuracy: 0.1000:   2%|▏         | 20/1000 [00:00<00:09, 105.95it/s]"
     ]
    },
    {
     "name": "stdout",
     "output_type": "stream",
     "text": [
      "Epoch 41: train_acc_0.1960_train_loss_2.8132_val_acc_0.1954_val_loss_2.8108 epoch time 11.1270 seconds\n",
      "total time7.0 : 44.30602431297302\n"
     ]
    },
    {
     "name": "stderr",
     "output_type": "stream",
     "text": [
      "loss: 2.7497, accuracy: 0.1400: 100%|██████████| 1000/1000 [00:09<00:00, 100.95it/s]\n",
      "loss: 2.7349, accuracy: 0.2000: 100%|██████████| 158/158 [00:01<00:00, 157.15it/s]\n",
      "loss: 2.6374, accuracy: 0.2400:   2%|▏         | 20/1000 [00:00<00:09, 108.70it/s]"
     ]
    },
    {
     "name": "stdout",
     "output_type": "stream",
     "text": [
      "Epoch 42: train_acc_0.1981_train_loss_2.8043_val_acc_0.1978_val_loss_2.8041 epoch time 11.0464 seconds\n",
      "total time7.0 : 55.35242986679077\n"
     ]
    },
    {
     "name": "stderr",
     "output_type": "stream",
     "text": [
      "loss: 2.8001, accuracy: 0.2200: 100%|██████████| 1000/1000 [00:09<00:00, 102.37it/s]\n",
      "loss: 2.5148, accuracy: 0.2500: 100%|██████████| 158/158 [00:00<00:00, 158.37it/s]\n",
      "loss: 2.9419, accuracy: 0.1900:   2%|▏         | 20/1000 [00:00<00:09, 106.71it/s]"
     ]
    },
    {
     "name": "stdout",
     "output_type": "stream",
     "text": [
      "Epoch 43: train_acc_0.1991_train_loss_2.7993_val_acc_0.2020_val_loss_2.7981 epoch time 11.1263 seconds\n",
      "total time8.0 : 6.478774070739746\n"
     ]
    },
    {
     "name": "stderr",
     "output_type": "stream",
     "text": [
      "loss: 2.7899, accuracy: 0.2600: 100%|██████████| 1000/1000 [00:09<00:00, 100.80it/s]\n",
      "loss: 2.8979, accuracy: 0.1300: 100%|██████████| 158/158 [00:00<00:00, 159.00it/s]\n",
      "loss: 2.7217, accuracy: 0.2200:   2%|▏         | 19/1000 [00:00<00:09, 103.31it/s]"
     ]
    },
    {
     "name": "stdout",
     "output_type": "stream",
     "text": [
      "Epoch 44: train_acc_0.2003_train_loss_2.7925_val_acc_0.2012_val_loss_2.7885 epoch time 11.0556 seconds\n",
      "total time8.0 : 17.53435492515564\n"
     ]
    },
    {
     "name": "stderr",
     "output_type": "stream",
     "text": [
      "loss: 2.9129, accuracy: 0.1600: 100%|██████████| 1000/1000 [00:09<00:00, 100.63it/s]\n",
      "loss: 2.8873, accuracy: 0.2400: 100%|██████████| 158/158 [00:01<00:00, 157.60it/s]\n",
      "loss: 2.8364, accuracy: 0.2300:   2%|▏         | 20/1000 [00:00<00:09, 104.68it/s]"
     ]
    },
    {
     "name": "stdout",
     "output_type": "stream",
     "text": [
      "Epoch 45: train_acc_0.2016_train_loss_2.7876_val_acc_0.2021_val_loss_2.7804 epoch time 11.0771 seconds\n",
      "total time8.0 : 28.611464500427246\n"
     ]
    },
    {
     "name": "stderr",
     "output_type": "stream",
     "text": [
      "loss: 2.8968, accuracy: 0.1900: 100%|██████████| 1000/1000 [00:09<00:00, 101.06it/s]\n",
      "loss: 2.5879, accuracy: 0.2900: 100%|██████████| 158/158 [00:00<00:00, 158.05it/s]\n",
      "loss: 2.8072, accuracy: 0.1700:   2%|▏         | 20/1000 [00:00<00:09, 104.90it/s]"
     ]
    },
    {
     "name": "stdout",
     "output_type": "stream",
     "text": [
      "Epoch 46: train_acc_0.2023_train_loss_2.7829_val_acc_0.2035_val_loss_2.7756 epoch time 11.0339 seconds\n",
      "total time8.0 : 39.645331621170044\n"
     ]
    },
    {
     "name": "stderr",
     "output_type": "stream",
     "text": [
      "loss: 2.7468, accuracy: 0.2000: 100%|██████████| 1000/1000 [00:09<00:00, 100.82it/s]\n",
      "loss: 2.8420, accuracy: 0.1500: 100%|██████████| 158/158 [00:00<00:00, 160.43it/s]\n",
      "loss: 2.5646, accuracy: 0.2400:   2%|▏         | 20/1000 [00:00<00:09, 107.05it/s]"
     ]
    },
    {
     "name": "stdout",
     "output_type": "stream",
     "text": [
      "Epoch 47: train_acc_0.2049_train_loss_2.7781_val_acc_0.2059_val_loss_2.7749 epoch time 11.0403 seconds\n",
      "total time8.0 : 50.685588121414185\n"
     ]
    },
    {
     "name": "stderr",
     "output_type": "stream",
     "text": [
      "loss: 2.6453, accuracy: 0.2300: 100%|██████████| 1000/1000 [00:09<00:00, 100.73it/s]\n",
      "loss: 2.8792, accuracy: 0.1900: 100%|██████████| 158/158 [00:01<00:00, 157.36it/s]\n",
      "loss: 2.9299, accuracy: 0.1900:   2%|▏         | 20/1000 [00:00<00:08, 109.28it/s]"
     ]
    },
    {
     "name": "stdout",
     "output_type": "stream",
     "text": [
      "Epoch 48: train_acc_0.2057_train_loss_2.7731_val_acc_0.2028_val_loss_2.7666 epoch time 11.0728 seconds\n",
      "total time9.0 : 1.7584333419799805\n"
     ]
    },
    {
     "name": "stderr",
     "output_type": "stream",
     "text": [
      "loss: 2.7226, accuracy: 0.1800: 100%|██████████| 1000/1000 [00:09<00:00, 100.24it/s]\n",
      "loss: 2.6848, accuracy: 0.2400: 100%|██████████| 158/158 [00:01<00:00, 157.85it/s]\n",
      "loss: 2.8471, accuracy: 0.1500:   2%|▏         | 20/1000 [00:00<00:09, 108.09it/s]"
     ]
    },
    {
     "name": "stdout",
     "output_type": "stream",
     "text": [
      "Epoch 49: train_acc_0.2048_train_loss_2.7710_val_acc_0.1996_val_loss_2.7782 epoch time 11.1149 seconds\n",
      "total time9.0 : 12.873376369476318\n"
     ]
    },
    {
     "name": "stderr",
     "output_type": "stream",
     "text": [
      "loss: 2.7330, accuracy: 0.2200: 100%|██████████| 1000/1000 [00:09<00:00, 100.75it/s]\n",
      "loss: 2.7917, accuracy: 0.2800: 100%|██████████| 158/158 [00:01<00:00, 156.99it/s]\n",
      "loss: 3.0709, accuracy: 0.1400:   2%|▏         | 20/1000 [00:00<00:09, 105.42it/s]"
     ]
    },
    {
     "name": "stdout",
     "output_type": "stream",
     "text": [
      "Epoch 50: train_acc_0.2077_train_loss_2.7648_val_acc_0.2044_val_loss_2.7735 epoch time 11.0722 seconds\n",
      "total time9.0 : 23.945528268814087\n"
     ]
    },
    {
     "name": "stderr",
     "output_type": "stream",
     "text": [
      "loss: 2.6278, accuracy: 0.2300: 100%|██████████| 1000/1000 [00:09<00:00, 100.53it/s]\n",
      "loss: 2.7466, accuracy: 0.2300: 100%|██████████| 158/158 [00:00<00:00, 158.33it/s]\n",
      "loss: 2.7958, accuracy: 0.2300:   2%|▏         | 20/1000 [00:00<00:09, 107.49it/s]"
     ]
    },
    {
     "name": "stdout",
     "output_type": "stream",
     "text": [
      "Epoch 51: train_acc_0.2076_train_loss_2.7610_val_acc_0.2113_val_loss_2.7603 epoch time 11.0822 seconds\n",
      "total time9.0 : 35.02775692939758\n"
     ]
    },
    {
     "name": "stderr",
     "output_type": "stream",
     "text": [
      "loss: 2.7114, accuracy: 0.2500: 100%|██████████| 1000/1000 [00:09<00:00, 101.08it/s]\n",
      "loss: 2.8826, accuracy: 0.2000: 100%|██████████| 158/158 [00:00<00:00, 158.54it/s]\n",
      "loss: 2.8405, accuracy: 0.1900:   2%|▏         | 20/1000 [00:00<00:09, 105.63it/s]"
     ]
    },
    {
     "name": "stdout",
     "output_type": "stream",
     "text": [
      "Epoch 52: train_acc_0.2083_train_loss_2.7569_val_acc_0.2047_val_loss_2.7757 epoch time 11.0270 seconds\n",
      "total time9.0 : 46.05478644371033\n"
     ]
    },
    {
     "name": "stderr",
     "output_type": "stream",
     "text": [
      "loss: 2.6636, accuracy: 0.1700: 100%|██████████| 1000/1000 [00:09<00:00, 100.49it/s]\n",
      "loss: 2.9058, accuracy: 0.1400: 100%|██████████| 158/158 [00:01<00:00, 157.96it/s]\n",
      "loss: 2.6456, accuracy: 0.1700:   2%|▏         | 20/1000 [00:00<00:09, 106.26it/s]"
     ]
    },
    {
     "name": "stdout",
     "output_type": "stream",
     "text": [
      "Epoch 53: train_acc_0.2089_train_loss_2.7527_val_acc_0.2122_val_loss_2.7452 epoch time 11.0912 seconds\n",
      "total time9.0 : 57.145939111709595\n"
     ]
    },
    {
     "name": "stderr",
     "output_type": "stream",
     "text": [
      "loss: 2.6765, accuracy: 0.2100: 100%|██████████| 1000/1000 [00:09<00:00, 100.97it/s]\n",
      "loss: 2.6485, accuracy: 0.3100: 100%|██████████| 158/158 [00:00<00:00, 158.01it/s]\n",
      "loss: 2.7866, accuracy: 0.2100:   2%|▏         | 20/1000 [00:00<00:09, 106.63it/s]"
     ]
    },
    {
     "name": "stdout",
     "output_type": "stream",
     "text": [
      "Epoch 54: train_acc_0.2098_train_loss_2.7488_val_acc_0.2079_val_loss_2.7843 epoch time 11.0475 seconds\n",
      "total time10.0 : 8.193442106246948\n"
     ]
    },
    {
     "name": "stderr",
     "output_type": "stream",
     "text": [
      "loss: 2.7893, accuracy: 0.1600: 100%|██████████| 1000/1000 [00:09<00:00, 100.85it/s]\n",
      "loss: 2.4849, accuracy: 0.2400: 100%|██████████| 158/158 [00:01<00:00, 156.05it/s]\n",
      "loss: 2.8158, accuracy: 0.1900:   2%|▏         | 20/1000 [00:00<00:09, 107.97it/s]"
     ]
    },
    {
     "name": "stdout",
     "output_type": "stream",
     "text": [
      "Epoch 55: train_acc_0.2117_train_loss_2.7454_val_acc_0.2065_val_loss_2.7719 epoch time 11.0648 seconds\n",
      "total time10.0 : 19.258260011672974\n"
     ]
    },
    {
     "name": "stderr",
     "output_type": "stream",
     "text": [
      "loss: 2.6931, accuracy: 0.2300: 100%|██████████| 1000/1000 [00:09<00:00, 100.86it/s]\n",
      "loss: 2.6709, accuracy: 0.2100: 100%|██████████| 158/158 [00:01<00:00, 157.94it/s]\n",
      "loss: 2.6225, accuracy: 0.2100:   2%|▏         | 20/1000 [00:00<00:09, 105.92it/s]"
     ]
    },
    {
     "name": "stdout",
     "output_type": "stream",
     "text": [
      "Epoch 56: train_acc_0.2112_train_loss_2.7426_val_acc_0.2086_val_loss_2.7507 epoch time 11.0541 seconds\n",
      "total time10.0 : 30.312350034713745\n"
     ]
    },
    {
     "name": "stderr",
     "output_type": "stream",
     "text": [
      "loss: 2.7407, accuracy: 0.2300: 100%|██████████| 1000/1000 [00:09<00:00, 100.39it/s]\n",
      "loss: 2.8702, accuracy: 0.2500: 100%|██████████| 158/158 [00:01<00:00, 154.61it/s]\n",
      "loss: 2.7084, accuracy: 0.3000:   2%|▏         | 20/1000 [00:00<00:08, 109.31it/s]"
     ]
    },
    {
     "name": "stdout",
     "output_type": "stream",
     "text": [
      "Epoch 57: train_acc_0.2118_train_loss_2.7391_val_acc_0.2082_val_loss_2.7450 epoch time 11.1209 seconds\n",
      "total time10.0 : 41.433265209198\n"
     ]
    },
    {
     "name": "stderr",
     "output_type": "stream",
     "text": [
      "loss: 2.6180, accuracy: 0.1000: 100%|██████████| 1000/1000 [00:09<00:00, 101.40it/s]\n",
      "loss: 2.7980, accuracy: 0.2800: 100%|██████████| 158/158 [00:01<00:00, 156.01it/s]\n",
      "loss: 2.7392, accuracy: 0.2100:   2%|▏         | 20/1000 [00:00<00:09, 105.37it/s]"
     ]
    },
    {
     "name": "stdout",
     "output_type": "stream",
     "text": [
      "Epoch 58: train_acc_0.2137_train_loss_2.7354_val_acc_0.2086_val_loss_2.7490 epoch time 11.0155 seconds\n",
      "total time10.0 : 52.44880533218384\n"
     ]
    },
    {
     "name": "stderr",
     "output_type": "stream",
     "text": [
      "loss: 2.8680, accuracy: 0.1800: 100%|██████████| 1000/1000 [00:09<00:00, 100.65it/s]\n",
      "loss: 2.6554, accuracy: 0.2000: 100%|██████████| 158/158 [00:01<00:00, 157.14it/s]\n",
      "loss: 2.4860, accuracy: 0.2400:   2%|▏         | 20/1000 [00:00<00:09, 107.27it/s]"
     ]
    },
    {
     "name": "stdout",
     "output_type": "stream",
     "text": [
      "Epoch 59: train_acc_0.2130_train_loss_2.7317_val_acc_0.2144_val_loss_2.7416 epoch time 11.0795 seconds\n",
      "total time11.0 : 3.5283498764038086\n"
     ]
    },
    {
     "name": "stderr",
     "output_type": "stream",
     "text": [
      "loss: 2.6483, accuracy: 0.2600: 100%|██████████| 1000/1000 [00:09<00:00, 100.65it/s]\n",
      "loss: 2.6191, accuracy: 0.1900: 100%|██████████| 158/158 [00:01<00:00, 157.22it/s]\n",
      "loss: 2.7724, accuracy: 0.2900:   2%|▏         | 20/1000 [00:00<00:09, 104.49it/s]"
     ]
    },
    {
     "name": "stdout",
     "output_type": "stream",
     "text": [
      "Epoch 60: train_acc_0.2142_train_loss_2.7300_val_acc_0.2134_val_loss_2.7349 epoch time 11.0819 seconds\n",
      "total time11.0 : 14.610238313674927\n"
     ]
    },
    {
     "name": "stderr",
     "output_type": "stream",
     "text": [
      "loss: 2.6940, accuracy: 0.2300: 100%|██████████| 1000/1000 [00:09<00:00, 100.66it/s]\n",
      "loss: 2.8423, accuracy: 0.2700: 100%|██████████| 158/158 [00:00<00:00, 161.56it/s]\n",
      "loss: 2.7586, accuracy: 0.2100:   2%|▏         | 20/1000 [00:00<00:09, 106.67it/s]"
     ]
    },
    {
     "name": "stdout",
     "output_type": "stream",
     "text": [
      "Epoch 61: train_acc_0.2150_train_loss_2.7260_val_acc_0.2134_val_loss_2.7386 epoch time 11.0504 seconds\n",
      "total time11.0 : 25.660671710968018\n"
     ]
    },
    {
     "name": "stderr",
     "output_type": "stream",
     "text": [
      "loss: 2.7496, accuracy: 0.2300: 100%|██████████| 1000/1000 [00:09<00:00, 101.07it/s]\n",
      "loss: 2.7828, accuracy: 0.2400: 100%|██████████| 158/158 [00:01<00:00, 157.38it/s]\n",
      "loss: 2.8128, accuracy: 0.1400:   2%|▏         | 20/1000 [00:00<00:09, 107.18it/s]"
     ]
    },
    {
     "name": "stdout",
     "output_type": "stream",
     "text": [
      "Epoch 62: train_acc_0.2161_train_loss_2.7233_val_acc_0.2153_val_loss_2.7255 epoch time 11.0346 seconds\n",
      "total time11.0 : 36.695253133773804\n"
     ]
    },
    {
     "name": "stderr",
     "output_type": "stream",
     "text": [
      "loss: 2.7628, accuracy: 0.2600: 100%|██████████| 1000/1000 [00:09<00:00, 100.59it/s]\n",
      "loss: 2.8601, accuracy: 0.1400: 100%|██████████| 158/158 [00:01<00:00, 155.09it/s]\n",
      "loss: 2.7250, accuracy: 0.2000:   2%|▏         | 20/1000 [00:00<00:09, 104.83it/s]"
     ]
    },
    {
     "name": "stdout",
     "output_type": "stream",
     "text": [
      "Epoch 63: train_acc_0.2161_train_loss_2.7210_val_acc_0.2153_val_loss_2.7339 epoch time 11.0979 seconds\n",
      "total time11.0 : 47.79318690299988\n"
     ]
    },
    {
     "name": "stderr",
     "output_type": "stream",
     "text": [
      "loss: 2.7603, accuracy: 0.1500: 100%|██████████| 1000/1000 [00:09<00:00, 100.87it/s]\n",
      "loss: 2.6130, accuracy: 0.1900: 100%|██████████| 158/158 [00:00<00:00, 159.83it/s]\n",
      "loss: 2.6491, accuracy: 0.2400:   2%|▏         | 20/1000 [00:00<00:09, 105.50it/s]"
     ]
    },
    {
     "name": "stdout",
     "output_type": "stream",
     "text": [
      "Epoch 64: train_acc_0.2175_train_loss_2.7171_val_acc_0.2126_val_loss_2.7309 epoch time 11.0385 seconds\n",
      "total time11.0 : 58.83166170120239\n"
     ]
    },
    {
     "name": "stderr",
     "output_type": "stream",
     "text": [
      "loss: 2.8575, accuracy: 0.2000: 100%|██████████| 1000/1000 [00:09<00:00, 100.47it/s]\n",
      "loss: 2.7498, accuracy: 0.2100: 100%|██████████| 158/158 [00:01<00:00, 157.17it/s]\n",
      "loss: 2.6367, accuracy: 0.1900:   2%|▏         | 20/1000 [00:00<00:09, 107.89it/s]"
     ]
    },
    {
     "name": "stdout",
     "output_type": "stream",
     "text": [
      "Epoch 65: train_acc_0.2162_train_loss_2.7149_val_acc_0.2169_val_loss_2.7277 epoch time 11.0971 seconds\n",
      "total time12.0 : 9.92873764038086\n"
     ]
    },
    {
     "name": "stderr",
     "output_type": "stream",
     "text": [
      "loss: 2.8141, accuracy: 0.2200: 100%|██████████| 1000/1000 [00:09<00:00, 101.01it/s]\n",
      "loss: 2.9432, accuracy: 0.1700: 100%|██████████| 158/158 [00:01<00:00, 155.40it/s]\n",
      "loss: 2.6241, accuracy: 0.2100:   2%|▏         | 20/1000 [00:00<00:09, 106.34it/s]"
     ]
    },
    {
     "name": "stdout",
     "output_type": "stream",
     "text": [
      "Epoch 66: train_acc_0.2174_train_loss_2.7118_val_acc_0.2196_val_loss_2.7132 epoch time 11.0540 seconds\n",
      "total time12.0 : 20.982767581939697\n"
     ]
    },
    {
     "name": "stderr",
     "output_type": "stream",
     "text": [
      "loss: 2.6810, accuracy: 0.2200: 100%|██████████| 1000/1000 [00:09<00:00, 100.53it/s]\n",
      "loss: 2.8093, accuracy: 0.2100: 100%|██████████| 158/158 [00:00<00:00, 158.23it/s]\n",
      "loss: 2.7977, accuracy: 0.2400:   2%|▏         | 21/1000 [00:00<00:08, 112.58it/s]"
     ]
    },
    {
     "name": "stdout",
     "output_type": "stream",
     "text": [
      "Epoch 67: train_acc_0.2189_train_loss_2.7103_val_acc_0.2169_val_loss_2.7154 epoch time 11.0847 seconds\n",
      "total time12.0 : 32.067490100860596\n"
     ]
    },
    {
     "name": "stderr",
     "output_type": "stream",
     "text": [
      "loss: 2.7160, accuracy: 0.2300: 100%|██████████| 1000/1000 [00:09<00:00, 100.93it/s]\n",
      "loss: 2.7946, accuracy: 0.2300: 100%|██████████| 158/158 [00:01<00:00, 155.66it/s]\n",
      "loss: 2.7526, accuracy: 0.2400:   2%|▏         | 20/1000 [00:00<00:09, 106.90it/s]"
     ]
    },
    {
     "name": "stdout",
     "output_type": "stream",
     "text": [
      "Epoch 68: train_acc_0.2191_train_loss_2.7059_val_acc_0.2212_val_loss_2.7140 epoch time 11.0630 seconds\n",
      "total time12.0 : 43.13050842285156\n"
     ]
    },
    {
     "name": "stderr",
     "output_type": "stream",
     "text": [
      "loss: 2.7947, accuracy: 0.1600: 100%|██████████| 1000/1000 [00:09<00:00, 103.44it/s]\n",
      "loss: 2.7037, accuracy: 0.2200: 100%|██████████| 158/158 [00:01<00:00, 157.75it/s]\n",
      "loss: 2.6153, accuracy: 0.2400:   2%|▏         | 20/1000 [00:00<00:09, 105.97it/s]"
     ]
    },
    {
     "name": "stdout",
     "output_type": "stream",
     "text": [
      "Epoch 69: train_acc_0.2198_train_loss_2.7043_val_acc_0.2174_val_loss_2.7125 epoch time 11.1210 seconds\n",
      "total time12.0 : 54.251556158065796\n"
     ]
    },
    {
     "name": "stderr",
     "output_type": "stream",
     "text": [
      "loss: 2.7816, accuracy: 0.2100: 100%|██████████| 1000/1000 [00:09<00:00, 100.79it/s]\n",
      "loss: 2.6745, accuracy: 0.2500: 100%|██████████| 158/158 [00:01<00:00, 157.33it/s]\n",
      "loss: 2.6666, accuracy: 0.2500:   2%|▏         | 20/1000 [00:00<00:09, 106.23it/s]"
     ]
    },
    {
     "name": "stdout",
     "output_type": "stream",
     "text": [
      "Epoch 70: train_acc_0.2204_train_loss_2.7026_val_acc_0.2135_val_loss_2.7046 epoch time 11.0632 seconds\n",
      "total time13.0 : 5.314770936965942\n"
     ]
    },
    {
     "name": "stderr",
     "output_type": "stream",
     "text": [
      "loss: 2.5305, accuracy: 0.2400: 100%|██████████| 1000/1000 [00:09<00:00, 100.50it/s]\n",
      "loss: 2.8134, accuracy: 0.1700: 100%|██████████| 158/158 [00:01<00:00, 157.33it/s]\n",
      "loss: 2.6500, accuracy: 0.2100:   2%|▏         | 20/1000 [00:00<00:09, 107.76it/s]"
     ]
    },
    {
     "name": "stdout",
     "output_type": "stream",
     "text": [
      "Epoch 71: train_acc_0.2210_train_loss_2.6999_val_acc_0.2170_val_loss_2.7176 epoch time 11.0938 seconds\n",
      "total time13.0 : 16.408583641052246\n"
     ]
    },
    {
     "name": "stderr",
     "output_type": "stream",
     "text": [
      "loss: 2.5912, accuracy: 0.2700: 100%|██████████| 1000/1000 [00:09<00:00, 100.75it/s]\n",
      "loss: 2.6505, accuracy: 0.2300: 100%|██████████| 158/158 [00:01<00:00, 157.24it/s]\n",
      "loss: 2.4834, accuracy: 0.3000:   2%|▏         | 20/1000 [00:00<00:09, 105.63it/s]"
     ]
    },
    {
     "name": "stdout",
     "output_type": "stream",
     "text": [
      "Epoch 72: train_acc_0.2214_train_loss_2.6965_val_acc_0.2175_val_loss_2.7199 epoch time 11.0700 seconds\n",
      "total time13.0 : 27.478593587875366\n"
     ]
    },
    {
     "name": "stderr",
     "output_type": "stream",
     "text": [
      "loss: 2.5116, accuracy: 0.2600: 100%|██████████| 1000/1000 [00:09<00:00, 100.34it/s]\n",
      "loss: 2.9795, accuracy: 0.1500: 100%|██████████| 158/158 [00:00<00:00, 158.30it/s]\n",
      "loss: 2.6363, accuracy: 0.2600:   2%|▏         | 20/1000 [00:00<00:08, 109.29it/s]"
     ]
    },
    {
     "name": "stdout",
     "output_type": "stream",
     "text": [
      "Epoch 73: train_acc_0.2230_train_loss_2.6951_val_acc_0.2206_val_loss_2.7012 epoch time 11.1025 seconds\n",
      "total time13.0 : 38.581134557724\n"
     ]
    },
    {
     "name": "stderr",
     "output_type": "stream",
     "text": [
      "loss: 2.4262, accuracy: 0.2300: 100%|██████████| 1000/1000 [00:09<00:00, 100.87it/s]\n",
      "loss: 2.8125, accuracy: 0.1900: 100%|██████████| 158/158 [00:01<00:00, 157.15it/s]\n",
      "loss: 2.8112, accuracy: 0.2800:   2%|▏         | 20/1000 [00:00<00:09, 108.09it/s]"
     ]
    },
    {
     "name": "stdout",
     "output_type": "stream",
     "text": [
      "Epoch 74: train_acc_0.2230_train_loss_2.6921_val_acc_0.2208_val_loss_2.7077 epoch time 11.0559 seconds\n",
      "total time13.0 : 49.637022256851196\n"
     ]
    },
    {
     "name": "stderr",
     "output_type": "stream",
     "text": [
      "loss: 2.7505, accuracy: 0.2000: 100%|██████████| 1000/1000 [00:09<00:00, 100.48it/s]\n",
      "loss: 2.6717, accuracy: 0.2400: 100%|██████████| 158/158 [00:01<00:00, 156.18it/s]\n",
      "loss: 2.3822, accuracy: 0.2100:   2%|▏         | 20/1000 [00:00<00:09, 105.43it/s]"
     ]
    },
    {
     "name": "stdout",
     "output_type": "stream",
     "text": [
      "Epoch 75: train_acc_0.2232_train_loss_2.6903_val_acc_0.2203_val_loss_2.6974 epoch time 11.1023 seconds\n",
      "total time14.0 : 0.739316463470459\n"
     ]
    },
    {
     "name": "stderr",
     "output_type": "stream",
     "text": [
      "loss: 2.6791, accuracy: 0.1900: 100%|██████████| 1000/1000 [00:09<00:00, 100.74it/s]\n",
      "loss: 2.8726, accuracy: 0.1300: 100%|██████████| 158/158 [00:00<00:00, 158.77it/s]\n",
      "loss: 2.6993, accuracy: 0.2300:   2%|▏         | 20/1000 [00:00<00:09, 106.12it/s]"
     ]
    },
    {
     "name": "stdout",
     "output_type": "stream",
     "text": [
      "Epoch 76: train_acc_0.2251_train_loss_2.6871_val_acc_0.2140_val_loss_2.7088 epoch time 11.0602 seconds\n",
      "total time14.0 : 11.799507141113281\n"
     ]
    },
    {
     "name": "stderr",
     "output_type": "stream",
     "text": [
      "loss: 2.6310, accuracy: 0.2500: 100%|██████████| 1000/1000 [00:09<00:00, 100.64it/s]\n",
      "loss: 2.6427, accuracy: 0.2100: 100%|██████████| 158/158 [00:01<00:00, 157.14it/s]\n",
      "loss: 2.6660, accuracy: 0.1700:   2%|▏         | 20/1000 [00:00<00:09, 106.73it/s]"
     ]
    },
    {
     "name": "stdout",
     "output_type": "stream",
     "text": [
      "Epoch 77: train_acc_0.2235_train_loss_2.6874_val_acc_0.2157_val_loss_2.7074 epoch time 11.0808 seconds\n",
      "total time14.0 : 22.88030767440796\n"
     ]
    },
    {
     "name": "stderr",
     "output_type": "stream",
     "text": [
      "loss: 2.7406, accuracy: 0.2300: 100%|██████████| 1000/1000 [00:09<00:00, 100.96it/s]\n",
      "loss: 2.7520, accuracy: 0.2100: 100%|██████████| 158/158 [00:00<00:00, 158.53it/s]\n",
      "loss: 2.6194, accuracy: 0.2700:   2%|▏         | 20/1000 [00:00<00:09, 104.62it/s]"
     ]
    },
    {
     "name": "stdout",
     "output_type": "stream",
     "text": [
      "Epoch 78: train_acc_0.2233_train_loss_2.6836_val_acc_0.2224_val_loss_2.6924 epoch time 11.0391 seconds\n",
      "total time14.0 : 33.91936159133911\n"
     ]
    },
    {
     "name": "stderr",
     "output_type": "stream",
     "text": [
      "loss: 2.6147, accuracy: 0.2300: 100%|██████████| 1000/1000 [00:09<00:00, 100.55it/s]\n",
      "loss: 2.7956, accuracy: 0.1400: 100%|██████████| 158/158 [00:01<00:00, 156.83it/s]\n",
      "loss: 2.5753, accuracy: 0.2400:   2%|▏         | 20/1000 [00:00<00:09, 105.59it/s]"
     ]
    },
    {
     "name": "stdout",
     "output_type": "stream",
     "text": [
      "Epoch 79: train_acc_0.2244_train_loss_2.6832_val_acc_0.2244_val_loss_2.6965 epoch time 11.0918 seconds\n",
      "total time14.0 : 45.01118469238281\n"
     ]
    },
    {
     "name": "stderr",
     "output_type": "stream",
     "text": [
      "loss: 2.5962, accuracy: 0.2600: 100%|██████████| 1000/1000 [00:09<00:00, 101.15it/s]\n",
      "loss: 2.7598, accuracy: 0.1700: 100%|██████████| 158/158 [00:00<00:00, 159.84it/s]\n",
      "loss: 2.7337, accuracy: 0.1800:   2%|▏         | 20/1000 [00:00<00:08, 110.63it/s]"
     ]
    },
    {
     "name": "stdout",
     "output_type": "stream",
     "text": [
      "Epoch 80: train_acc_0.2249_train_loss_2.6800_val_acc_0.2227_val_loss_2.6886 epoch time 11.0122 seconds\n",
      "total time14.0 : 56.02340769767761\n"
     ]
    },
    {
     "name": "stderr",
     "output_type": "stream",
     "text": [
      "loss: 2.7526, accuracy: 0.1700: 100%|██████████| 1000/1000 [00:09<00:00, 100.19it/s]\n",
      "loss: 2.8314, accuracy: 0.2100: 100%|██████████| 158/158 [00:01<00:00, 156.23it/s]\n",
      "loss: 2.4369, accuracy: 0.3000:   2%|▏         | 20/1000 [00:00<00:09, 104.78it/s]"
     ]
    },
    {
     "name": "stdout",
     "output_type": "stream",
     "text": [
      "Epoch 81: train_acc_0.2259_train_loss_2.6780_val_acc_0.2230_val_loss_2.6894 epoch time 11.1306 seconds\n",
      "total time15.0 : 7.153982162475586\n"
     ]
    },
    {
     "name": "stderr",
     "output_type": "stream",
     "text": [
      "loss: 2.6867, accuracy: 0.2500: 100%|██████████| 1000/1000 [00:09<00:00, 100.90it/s]\n",
      "loss: 2.8796, accuracy: 0.2500: 100%|██████████| 158/158 [00:01<00:00, 157.60it/s]\n",
      "loss: 2.7551, accuracy: 0.2200:   2%|▏         | 20/1000 [00:00<00:09, 107.11it/s]"
     ]
    },
    {
     "name": "stdout",
     "output_type": "stream",
     "text": [
      "Epoch 82: train_acc_0.2283_train_loss_2.6772_val_acc_0.2195_val_loss_2.6980 epoch time 11.0531 seconds\n",
      "total time15.0 : 18.20707130432129\n"
     ]
    },
    {
     "name": "stderr",
     "output_type": "stream",
     "text": [
      "loss: 2.5439, accuracy: 0.2600: 100%|██████████| 1000/1000 [00:09<00:00, 100.66it/s]\n",
      "loss: 2.6437, accuracy: 0.1900: 100%|██████████| 158/158 [00:00<00:00, 160.16it/s]\n",
      "loss: 2.5609, accuracy: 0.2400:   2%|▏         | 20/1000 [00:00<00:09, 105.95it/s]"
     ]
    },
    {
     "name": "stdout",
     "output_type": "stream",
     "text": [
      "Epoch 83: train_acc_0.2271_train_loss_2.6750_val_acc_0.2130_val_loss_2.7198 epoch time 11.0606 seconds\n",
      "total time15.0 : 29.267648220062256\n"
     ]
    },
    {
     "name": "stderr",
     "output_type": "stream",
     "text": [
      "loss: 2.6751, accuracy: 0.2400: 100%|██████████| 1000/1000 [00:09<00:00, 104.21it/s]\n",
      "loss: 2.7064, accuracy: 0.2600: 100%|██████████| 158/158 [00:00<00:00, 158.81it/s]\n",
      "loss: 2.5509, accuracy: 0.2000:   2%|▏         | 20/1000 [00:00<00:09, 105.10it/s]"
     ]
    },
    {
     "name": "stdout",
     "output_type": "stream",
     "text": [
      "Epoch 84: train_acc_0.2263_train_loss_2.6731_val_acc_0.2165_val_loss_2.6962 epoch time 11.0595 seconds\n",
      "total time15.0 : 40.32718896865845\n"
     ]
    },
    {
     "name": "stderr",
     "output_type": "stream",
     "text": [
      "loss: 2.8663, accuracy: 0.2700: 100%|██████████| 1000/1000 [00:09<00:00, 100.78it/s]\n",
      "loss: 2.7959, accuracy: 0.2100: 100%|██████████| 158/158 [00:01<00:00, 155.58it/s]\n",
      "loss: 2.6566, accuracy: 0.2200:   2%|▏         | 20/1000 [00:00<00:09, 105.11it/s]"
     ]
    },
    {
     "name": "stdout",
     "output_type": "stream",
     "text": [
      "Epoch 85: train_acc_0.2286_train_loss_2.6700_val_acc_0.2189_val_loss_2.6906 epoch time 11.0772 seconds\n",
      "total time15.0 : 51.404433488845825\n"
     ]
    },
    {
     "name": "stderr",
     "output_type": "stream",
     "text": [
      "loss: 2.8102, accuracy: 0.1800: 100%|██████████| 1000/1000 [00:09<00:00, 101.69it/s]\n",
      "loss: 2.7242, accuracy: 0.2100: 100%|██████████| 158/158 [00:01<00:00, 155.31it/s]\n",
      "loss: 2.7329, accuracy: 0.2700:   2%|▏         | 20/1000 [00:00<00:09, 105.56it/s]"
     ]
    },
    {
     "name": "stdout",
     "output_type": "stream",
     "text": [
      "Epoch 86: train_acc_0.2274_train_loss_2.6684_val_acc_0.2172_val_loss_2.6937 epoch time 10.9895 seconds\n",
      "total time16.0 : 2.393897294998169\n"
     ]
    },
    {
     "name": "stderr",
     "output_type": "stream",
     "text": [
      "loss: 2.5656, accuracy: 0.2500: 100%|██████████| 1000/1000 [00:09<00:00, 100.53it/s]\n",
      "loss: 2.7111, accuracy: 0.1800: 100%|██████████| 158/158 [00:01<00:00, 157.97it/s]\n",
      "loss: 2.6376, accuracy: 0.2400:   2%|▏         | 20/1000 [00:00<00:09, 106.43it/s]"
     ]
    },
    {
     "name": "stdout",
     "output_type": "stream",
     "text": [
      "Epoch 87: train_acc_0.2292_train_loss_2.6687_val_acc_0.2218_val_loss_2.6924 epoch time 11.0875 seconds\n",
      "total time16.0 : 13.48142957687378\n"
     ]
    },
    {
     "name": "stderr",
     "output_type": "stream",
     "text": [
      "loss: 2.7387, accuracy: 0.1800: 100%|██████████| 1000/1000 [00:09<00:00, 101.25it/s]\n",
      "loss: 2.7614, accuracy: 0.1600: 100%|██████████| 158/158 [00:00<00:00, 158.82it/s]\n",
      "loss: 2.5424, accuracy: 0.2900:   2%|▏         | 20/1000 [00:00<00:09, 107.42it/s]"
     ]
    },
    {
     "name": "stdout",
     "output_type": "stream",
     "text": [
      "Epoch 88: train_acc_0.2282_train_loss_2.6670_val_acc_0.2185_val_loss_2.6875 epoch time 11.0096 seconds\n",
      "total time16.0 : 24.49104619026184\n"
     ]
    },
    {
     "name": "stderr",
     "output_type": "stream",
     "text": [
      "loss: 2.5684, accuracy: 0.2100: 100%|██████████| 1000/1000 [00:09<00:00, 100.78it/s]\n",
      "loss: 2.5893, accuracy: 0.2400: 100%|██████████| 158/158 [00:01<00:00, 156.80it/s]\n",
      "loss: 2.5960, accuracy: 0.3300:   2%|▏         | 20/1000 [00:00<00:09, 106.47it/s]"
     ]
    },
    {
     "name": "stdout",
     "output_type": "stream",
     "text": [
      "Epoch 89: train_acc_0.2284_train_loss_2.6646_val_acc_0.2253_val_loss_2.6862 epoch time 11.0687 seconds\n",
      "total time16.0 : 35.55973148345947\n"
     ]
    },
    {
     "name": "stderr",
     "output_type": "stream",
     "text": [
      "loss: 2.7914, accuracy: 0.1700: 100%|██████████| 1000/1000 [00:09<00:00, 100.20it/s]\n",
      "loss: 2.9598, accuracy: 0.1800: 100%|██████████| 158/158 [00:00<00:00, 166.52it/s]\n",
      "loss: 2.6863, accuracy: 0.1800:   2%|▏         | 20/1000 [00:00<00:09, 107.12it/s]"
     ]
    },
    {
     "name": "stdout",
     "output_type": "stream",
     "text": [
      "Epoch 90: train_acc_0.2293_train_loss_2.6626_val_acc_0.2230_val_loss_2.6876 epoch time 11.1223 seconds\n",
      "total time16.0 : 46.68200898170471\n"
     ]
    },
    {
     "name": "stderr",
     "output_type": "stream",
     "text": [
      "loss: 2.3593, accuracy: 0.3100: 100%|██████████| 1000/1000 [00:09<00:00, 100.30it/s]\n",
      "loss: 2.7554, accuracy: 0.2000: 100%|██████████| 158/158 [00:00<00:00, 160.81it/s]\n",
      "loss: 2.7990, accuracy: 0.1700:   2%|▏         | 20/1000 [00:00<00:09, 105.81it/s]"
     ]
    },
    {
     "name": "stdout",
     "output_type": "stream",
     "text": [
      "Epoch 91: train_acc_0.2289_train_loss_2.6613_val_acc_0.2253_val_loss_2.6782 epoch time 11.0901 seconds\n",
      "total time16.0 : 57.772151708602905\n"
     ]
    },
    {
     "name": "stderr",
     "output_type": "stream",
     "text": [
      "loss: 2.7659, accuracy: 0.2200: 100%|██████████| 1000/1000 [00:09<00:00, 100.97it/s]\n",
      "loss: 2.7611, accuracy: 0.1200: 100%|██████████| 158/158 [00:00<00:00, 158.16it/s]\n",
      "loss: 2.7131, accuracy: 0.2100:   2%|▏         | 20/1000 [00:00<00:09, 107.32it/s]"
     ]
    },
    {
     "name": "stdout",
     "output_type": "stream",
     "text": [
      "Epoch 92: train_acc_0.2299_train_loss_2.6589_val_acc_0.2283_val_loss_2.6774 epoch time 11.0407 seconds\n",
      "total time17.0 : 8.81281065940857\n"
     ]
    },
    {
     "name": "stderr",
     "output_type": "stream",
     "text": [
      "loss: 2.6150, accuracy: 0.2400: 100%|██████████| 1000/1000 [00:09<00:00, 102.79it/s]\n",
      "loss: 2.8711, accuracy: 0.2200: 100%|██████████| 158/158 [00:01<00:00, 157.35it/s]\n",
      "loss: 2.6613, accuracy: 0.2200:   2%|▏         | 20/1000 [00:00<00:09, 106.61it/s]"
     ]
    },
    {
     "name": "stdout",
     "output_type": "stream",
     "text": [
      "Epoch 93: train_acc_0.2311_train_loss_2.6576_val_acc_0.2244_val_loss_2.6697 epoch time 11.1269 seconds\n",
      "total time17.0 : 19.93974995613098\n"
     ]
    },
    {
     "name": "stderr",
     "output_type": "stream",
     "text": [
      "loss: 2.4833, accuracy: 0.2000: 100%|██████████| 1000/1000 [00:09<00:00, 100.96it/s]\n",
      "loss: 2.6575, accuracy: 0.1900: 100%|██████████| 158/158 [00:01<00:00, 157.86it/s]\n",
      "loss: 2.7345, accuracy: 0.1900:   2%|▏         | 20/1000 [00:00<00:09, 105.35it/s]"
     ]
    },
    {
     "name": "stdout",
     "output_type": "stream",
     "text": [
      "Epoch 94: train_acc_0.2294_train_loss_2.6583_val_acc_0.2218_val_loss_2.6764 epoch time 11.0431 seconds\n",
      "total time17.0 : 30.982832670211792\n"
     ]
    },
    {
     "name": "stderr",
     "output_type": "stream",
     "text": [
      "loss: 2.5611, accuracy: 0.2300: 100%|██████████| 1000/1000 [00:09<00:00, 100.66it/s]\n",
      "loss: 2.8428, accuracy: 0.2100: 100%|██████████| 158/158 [00:00<00:00, 158.64it/s]\n",
      "loss: 2.5522, accuracy: 0.2600:   2%|▏         | 20/1000 [00:00<00:09, 106.28it/s]"
     ]
    },
    {
     "name": "stdout",
     "output_type": "stream",
     "text": [
      "Epoch 95: train_acc_0.2309_train_loss_2.6555_val_acc_0.2272_val_loss_2.6696 epoch time 11.0677 seconds\n",
      "total time17.0 : 42.05057764053345\n"
     ]
    },
    {
     "name": "stderr",
     "output_type": "stream",
     "text": [
      "loss: 2.7235, accuracy: 0.2100: 100%|██████████| 1000/1000 [00:09<00:00, 100.90it/s]\n",
      "loss: 2.6140, accuracy: 0.1400: 100%|██████████| 158/158 [00:01<00:00, 156.97it/s]\n",
      "loss: 2.7092, accuracy: 0.2300:   2%|▏         | 20/1000 [00:00<00:09, 106.37it/s]"
     ]
    },
    {
     "name": "stdout",
     "output_type": "stream",
     "text": [
      "Epoch 96: train_acc_0.2319_train_loss_2.6535_val_acc_0.2253_val_loss_2.6762 epoch time 11.0553 seconds\n",
      "total time17.0 : 53.105838775634766\n"
     ]
    },
    {
     "name": "stderr",
     "output_type": "stream",
     "text": [
      "loss: 2.7420, accuracy: 0.1800: 100%|██████████| 1000/1000 [00:09<00:00, 100.60it/s]\n",
      "loss: 2.7900, accuracy: 0.2000: 100%|██████████| 158/158 [00:00<00:00, 162.79it/s]\n",
      "loss: 2.5748, accuracy: 0.2000:   2%|▏         | 20/1000 [00:00<00:09, 106.10it/s]"
     ]
    },
    {
     "name": "stdout",
     "output_type": "stream",
     "text": [
      "Epoch 97: train_acc_0.2315_train_loss_2.6510_val_acc_0.2251_val_loss_2.6735 epoch time 11.0488 seconds\n",
      "total time18.0 : 4.154604434967041\n"
     ]
    },
    {
     "name": "stderr",
     "output_type": "stream",
     "text": [
      "loss: 2.5474, accuracy: 0.1900: 100%|██████████| 1000/1000 [00:09<00:00, 100.88it/s]\n",
      "loss: 2.4605, accuracy: 0.2800: 100%|██████████| 158/158 [00:01<00:00, 157.24it/s]\n",
      "loss: 2.7168, accuracy: 0.2500:   2%|▏         | 20/1000 [00:00<00:09, 105.39it/s]"
     ]
    },
    {
     "name": "stdout",
     "output_type": "stream",
     "text": [
      "Epoch 98: train_acc_0.2316_train_loss_2.6502_val_acc_0.2237_val_loss_2.6724 epoch time 11.0567 seconds\n",
      "total time18.0 : 15.21131420135498\n"
     ]
    },
    {
     "name": "stderr",
     "output_type": "stream",
     "text": [
      "loss: 2.6854, accuracy: 0.2400: 100%|██████████| 1000/1000 [00:10<00:00, 99.95it/s] \n",
      "loss: 2.5866, accuracy: 0.2300: 100%|██████████| 158/158 [00:00<00:00, 158.18it/s]\n",
      "loss: 2.6300, accuracy: 0.2700:  20%|█▉        | 31/158 [00:00<00:00, 168.77it/s]"
     ]
    },
    {
     "name": "stdout",
     "output_type": "stream",
     "text": [
      "Epoch 99: train_acc_0.2327_train_loss_2.6488_val_acc_0.2263_val_loss_2.6790 epoch time 11.1407 seconds\n",
      "total time18.0 : 26.352060079574585\n",
      "Generating test set evaluation metrics\n"
     ]
    },
    {
     "name": "stderr",
     "output_type": "stream",
     "text": [
      "loss: 2.7369, accuracy: 0.2300: 100%|██████████| 158/158 [00:00<00:00, 158.05it/s]\n"
     ]
    },
    {
     "name": "stdout",
     "output_type": "stream",
     "text": [
      "finish\n"
     ]
    },
    {
     "data": {
      "image/png": "[encoded data removed]",
      "text/plain": [
       "<Figure size 576x288 with 1 Axes>"
      ]
     },
     "metadata": {
      "needs_background": "light"
     },
     "output_type": "display_data"
    },
    {
     "data": {
      "image/png": "[encoded data removed]",
      "text/plain": [
       "<Figure size 576x288 with 1 Axes>"
      ]
     },
     "metadata": {
      "needs_background": "light"
     },
     "output_type": "display_data"
    },
    {
     "name": "stderr",
     "output_type": "stream",
     "text": [
      "loss: 3.8543, accuracy: 0.0300:   2%|▏         | 19/1000 [00:00<00:08, 111.41it/s]"
     ]
    },
    {
     "name": "stdout",
     "output_type": "stream",
     "text": [
      "Building basic block of ConvolutionalNetwork using input shape (100, 1, 28, 28)\n",
      "torch.Size([100, 64, 5, 5])\n",
      "torch.Size([100, 64, 3, 3])\n",
      "torch.Size([100, 64, 1, 1])\n",
      "torch.Size([100, 64, 1, 1])\n",
      "torch.Size([100, 64, 1, 1])\n",
      "torch.Size([100, 64, 1, 1])\n",
      "torch.Size([100, 64, 1, 1])\n",
      "torch.Size([100, 64, 1, 1])\n",
      "shape before final linear layer torch.Size([100, 64, 2, 2])\n",
      "Block is built, output volume is torch.Size([100, 47])\n",
      "use GPU\n",
      "ConvolutionalNetwork(\n",
      "  (layer_dict): ModuleDict(\n",
      "    (conv_0): Conv2d(1, 64, kernel_size=(3, 3), stride=(6, 6), padding=(1, 1))\n",
      "    (dim_reduction_avg_pool_0): AvgPool2d(kernel_size=2, stride=2, padding=1)\n",
      "    (conv_1): Conv2d(64, 64, kernel_size=(3, 3), stride=(6, 6), padding=(1, 1))\n",
      "    (dim_reduction_avg_pool_1): AvgPool2d(kernel_size=2, stride=2, padding=1)\n",
      "    (conv_2): Conv2d(64, 64, kernel_size=(3, 3), stride=(6, 6), padding=(1, 1))\n",
      "    (dim_reduction_avg_pool_2): AvgPool2d(kernel_size=2, stride=2, padding=1)\n",
      "    (conv_3): Conv2d(64, 64, kernel_size=(3, 3), stride=(6, 6), padding=(1, 1))\n",
      "    (dim_reduction_avg_pool_3): AvgPool2d(kernel_size=2, stride=2, padding=1)\n",
      "  )\n",
      "  (logit_linear_layer): Linear(in_features=256, out_features=47, bias=True)\n",
      ")\n"
     ]
    },
    {
     "name": "stderr",
     "output_type": "stream",
     "text": [
      "loss: 3.6777, accuracy: 0.0700: 100%|██████████| 1000/1000 [00:09<00:00, 102.72it/s]\n",
      "loss: 3.6213, accuracy: 0.0700: 100%|██████████| 158/158 [00:00<00:00, 158.93it/s]\n",
      "loss: 3.7164, accuracy: 0.0400:   2%|▏         | 20/1000 [00:00<00:09, 105.43it/s]"
     ]
    },
    {
     "name": "stdout",
     "output_type": "stream",
     "text": [
      "Epoch 0: train_acc_0.0316_train_loss_3.7915_val_acc_0.0581_val_loss_3.6538 epoch time 10.8688 seconds\n",
      "total time0.0 : 10.868795394897461\n"
     ]
    },
    {
     "name": "stderr",
     "output_type": "stream",
     "text": [
      "loss: 3.5456, accuracy: 0.0700: 100%|██████████| 1000/1000 [00:09<00:00, 101.87it/s]\n",
      "loss: 3.6558, accuracy: 0.0700: 100%|██████████| 158/158 [00:00<00:00, 161.05it/s]\n",
      "loss: 3.6178, accuracy: 0.0400:   2%|▏         | 20/1000 [00:00<00:09, 105.42it/s]"
     ]
    },
    {
     "name": "stdout",
     "output_type": "stream",
     "text": [
      "Epoch 1: train_acc_0.0614_train_loss_3.6232_val_acc_0.0643_val_loss_3.5966 epoch time 10.9348 seconds\n",
      "total time0.0 : 21.80354619026184\n"
     ]
    },
    {
     "name": "stderr",
     "output_type": "stream",
     "text": [
      "loss: 3.5466, accuracy: 0.0500: 100%|██████████| 1000/1000 [00:09<00:00, 101.91it/s]\n",
      "loss: 3.5900, accuracy: 0.0300: 100%|██████████| 158/158 [00:00<00:00, 160.18it/s]\n",
      "loss: 3.5209, accuracy: 0.0500:   2%|▏         | 20/1000 [00:00<00:09, 105.76it/s]"
     ]
    },
    {
     "name": "stdout",
     "output_type": "stream",
     "text": [
      "Epoch 2: train_acc_0.0666_train_loss_3.5628_val_acc_0.0679_val_loss_3.5302 epoch time 10.9363 seconds\n",
      "total time0.0 : 32.73980140686035\n"
     ]
    },
    {
     "name": "stderr",
     "output_type": "stream",
     "text": [
      "loss: 3.4431, accuracy: 0.1100: 100%|██████████| 1000/1000 [00:09<00:00, 101.06it/s]\n",
      "loss: 3.4403, accuracy: 0.0800: 100%|██████████| 158/158 [00:00<00:00, 159.14it/s]\n",
      "loss: 3.4896, accuracy: 0.0500:   2%|▏         | 20/1000 [00:00<00:09, 106.70it/s]"
     ]
    },
    {
     "name": "stdout",
     "output_type": "stream",
     "text": [
      "Epoch 3: train_acc_0.0743_train_loss_3.4949_val_acc_0.0801_val_loss_3.4716 epoch time 11.0250 seconds\n",
      "total time0.0 : 43.764806509017944\n"
     ]
    },
    {
     "name": "stderr",
     "output_type": "stream",
     "text": [
      "loss: 3.3646, accuracy: 0.0400: 100%|██████████| 1000/1000 [00:09<00:00, 102.05it/s]\n",
      "loss: 3.4370, accuracy: 0.0400: 100%|██████████| 158/158 [00:00<00:00, 158.65it/s]\n",
      "loss: 3.3806, accuracy: 0.0600:   2%|▏         | 20/1000 [00:00<00:09, 106.25it/s]"
     ]
    },
    {
     "name": "stdout",
     "output_type": "stream",
     "text": [
      "Epoch 4: train_acc_0.0814_train_loss_3.4460_val_acc_0.0820_val_loss_3.4333 epoch time 10.9340 seconds\n",
      "total time0.0 : 54.698814392089844\n"
     ]
    },
    {
     "name": "stderr",
     "output_type": "stream",
     "text": [
      "loss: 3.4650, accuracy: 0.0400: 100%|██████████| 1000/1000 [00:09<00:00, 100.87it/s]\n",
      "loss: 3.4196, accuracy: 0.1300: 100%|██████████| 158/158 [00:00<00:00, 158.40it/s]\n",
      "loss: 3.3987, accuracy: 0.0900:   2%|▏         | 20/1000 [00:00<00:09, 108.63it/s]"
     ]
    },
    {
     "name": "stdout",
     "output_type": "stream",
     "text": [
      "Epoch 5: train_acc_0.0892_train_loss_3.4099_val_acc_0.0939_val_loss_3.4026 epoch time 11.0485 seconds\n",
      "total time1.0 : 5.7473366260528564\n"
     ]
    },
    {
     "name": "stderr",
     "output_type": "stream",
     "text": [
      "loss: 3.3482, accuracy: 0.1100: 100%|██████████| 1000/1000 [00:09<00:00, 101.93it/s]\n",
      "loss: 3.3413, accuracy: 0.1000: 100%|██████████| 158/158 [00:01<00:00, 157.64it/s]\n",
      "loss: 3.4076, accuracy: 0.0500:   2%|▏         | 20/1000 [00:00<00:09, 107.71it/s]"
     ]
    },
    {
     "name": "stdout",
     "output_type": "stream",
     "text": [
      "Epoch 6: train_acc_0.0929_train_loss_3.3900_val_acc_0.0957_val_loss_3.3857 epoch time 10.9499 seconds\n",
      "total time1.0 : 16.697272539138794\n"
     ]
    },
    {
     "name": "stderr",
     "output_type": "stream",
     "text": [
      "loss: 3.3213, accuracy: 0.1000: 100%|██████████| 1000/1000 [00:09<00:00, 101.03it/s]\n",
      "loss: 3.4979, accuracy: 0.1000: 100%|██████████| 158/158 [00:01<00:00, 157.54it/s]\n",
      "loss: 3.4005, accuracy: 0.0700:   2%|▏         | 20/1000 [00:00<00:09, 108.89it/s]"
     ]
    },
    {
     "name": "stdout",
     "output_type": "stream",
     "text": [
      "Epoch 7: train_acc_0.0957_train_loss_3.3738_val_acc_0.0985_val_loss_3.3815 epoch time 11.0424 seconds\n",
      "total time1.0 : 27.739665269851685\n"
     ]
    },
    {
     "name": "stderr",
     "output_type": "stream",
     "text": [
      "loss: 3.3725, accuracy: 0.0900: 100%|██████████| 1000/1000 [00:09<00:00, 101.47it/s]\n",
      "loss: 3.3741, accuracy: 0.1100: 100%|██████████| 158/158 [00:01<00:00, 157.95it/s]\n",
      "loss: 3.2972, accuracy: 0.0800:   2%|▏         | 20/1000 [00:00<00:09, 106.50it/s]"
     ]
    },
    {
     "name": "stdout",
     "output_type": "stream",
     "text": [
      "Epoch 8: train_acc_0.0971_train_loss_3.3587_val_acc_0.1007_val_loss_3.3547 epoch time 10.9964 seconds\n",
      "total time1.0 : 38.736034870147705\n"
     ]
    },
    {
     "name": "stderr",
     "output_type": "stream",
     "text": [
      "loss: 3.2546, accuracy: 0.1000: 100%|██████████| 1000/1000 [00:09<00:00, 101.12it/s]\n",
      "loss: 3.2591, accuracy: 0.1000: 100%|██████████| 158/158 [00:00<00:00, 158.18it/s]\n",
      "loss: 3.4402, accuracy: 0.0700:   2%|▏         | 21/1000 [00:00<00:08, 112.78it/s]"
     ]
    },
    {
     "name": "stdout",
     "output_type": "stream",
     "text": [
      "Epoch 9: train_acc_0.1004_train_loss_3.3427_val_acc_0.1030_val_loss_3.3438 epoch time 11.0295 seconds\n",
      "total time1.0 : 49.76549506187439\n"
     ]
    },
    {
     "name": "stderr",
     "output_type": "stream",
     "text": [
      "loss: 3.2693, accuracy: 0.1000: 100%|██████████| 1000/1000 [00:09<00:00, 102.48it/s]\n",
      "loss: 3.2782, accuracy: 0.1100: 100%|██████████| 158/158 [00:01<00:00, 157.65it/s]\n",
      "loss: 3.2897, accuracy: 0.0700:   2%|▏         | 20/1000 [00:00<00:09, 104.84it/s]"
     ]
    },
    {
     "name": "stdout",
     "output_type": "stream",
     "text": [
      "Epoch 10: train_acc_0.1023_train_loss_3.3242_val_acc_0.1063_val_loss_3.3184 epoch time 10.9004 seconds\n",
      "total time2.0 : 0.665900468826294\n"
     ]
    },
    {
     "name": "stderr",
     "output_type": "stream",
     "text": [
      "loss: 3.3445, accuracy: 0.1300: 100%|██████████| 1000/1000 [00:09<00:00, 101.00it/s]\n",
      "loss: 3.4614, accuracy: 0.0900: 100%|██████████| 158/158 [00:00<00:00, 159.69it/s]\n",
      "loss: 3.4191, accuracy: 0.1300:   2%|▏         | 20/1000 [00:00<00:08, 109.93it/s]"
     ]
    },
    {
     "name": "stdout",
     "output_type": "stream",
     "text": [
      "Epoch 11: train_acc_0.1054_train_loss_3.3062_val_acc_0.1094_val_loss_3.3166 epoch time 11.0299 seconds\n",
      "total time2.0 : 11.695839405059814\n"
     ]
    },
    {
     "name": "stderr",
     "output_type": "stream",
     "text": [
      "loss: 3.2666, accuracy: 0.1600: 100%|██████████| 1000/1000 [00:09<00:00, 102.52it/s]\n",
      "loss: 3.2371, accuracy: 0.0900: 100%|██████████| 158/158 [00:00<00:00, 158.64it/s]\n",
      "loss: 3.3047, accuracy: 0.1200:   2%|▏         | 20/1000 [00:00<00:09, 106.95it/s]"
     ]
    },
    {
     "name": "stdout",
     "output_type": "stream",
     "text": [
      "Epoch 12: train_acc_0.1093_train_loss_3.2881_val_acc_0.1135_val_loss_3.2836 epoch time 10.8884 seconds\n",
      "total time2.0 : 22.584217071533203\n"
     ]
    },
    {
     "name": "stderr",
     "output_type": "stream",
     "text": [
      "loss: 3.1531, accuracy: 0.1100: 100%|██████████| 1000/1000 [00:09<00:00, 101.30it/s]\n",
      "loss: 3.2634, accuracy: 0.1100: 100%|██████████| 158/158 [00:00<00:00, 159.42it/s]\n",
      "loss: 3.1767, accuracy: 0.0800:   2%|▏         | 20/1000 [00:00<00:09, 106.19it/s]"
     ]
    },
    {
     "name": "stdout",
     "output_type": "stream",
     "text": [
      "Epoch 13: train_acc_0.1139_train_loss_3.2658_val_acc_0.1173_val_loss_3.2641 epoch time 11.0019 seconds\n",
      "total time2.0 : 33.58614230155945\n"
     ]
    },
    {
     "name": "stderr",
     "output_type": "stream",
     "text": [
      "loss: 3.2264, accuracy: 0.1000: 100%|██████████| 1000/1000 [00:09<00:00, 102.04it/s]\n",
      "loss: 3.3470, accuracy: 0.1200: 100%|██████████| 158/158 [00:01<00:00, 154.45it/s]\n",
      "loss: 3.2275, accuracy: 0.1500:   2%|▏         | 20/1000 [00:00<00:08, 109.65it/s]"
     ]
    },
    {
     "name": "stdout",
     "output_type": "stream",
     "text": [
      "Epoch 14: train_acc_0.1170_train_loss_3.2424_val_acc_0.1211_val_loss_3.2389 epoch time 10.9600 seconds\n",
      "total time2.0 : 44.54613733291626\n"
     ]
    },
    {
     "name": "stderr",
     "output_type": "stream",
     "text": [
      "loss: 3.2390, accuracy: 0.1300: 100%|██████████| 1000/1000 [00:09<00:00, 101.19it/s]\n",
      "loss: 3.1016, accuracy: 0.1500: 100%|██████████| 158/158 [00:00<00:00, 159.54it/s]\n",
      "loss: 3.1713, accuracy: 0.0700:   2%|▏         | 20/1000 [00:00<00:09, 105.32it/s]"
     ]
    },
    {
     "name": "stdout",
     "output_type": "stream",
     "text": [
      "Epoch 15: train_acc_0.1209_train_loss_3.2168_val_acc_0.1246_val_loss_3.2062 epoch time 11.0110 seconds\n",
      "total time2.0 : 55.55717420578003\n"
     ]
    },
    {
     "name": "stderr",
     "output_type": "stream",
     "text": [
      "loss: 3.0685, accuracy: 0.1700: 100%|██████████| 1000/1000 [00:09<00:00, 102.18it/s]\n",
      "loss: 3.0972, accuracy: 0.1900: 100%|██████████| 158/158 [00:01<00:00, 155.85it/s]\n",
      "loss: 3.1120, accuracy: 0.1600:   2%|▏         | 20/1000 [00:00<00:09, 107.77it/s]"
     ]
    },
    {
     "name": "stdout",
     "output_type": "stream",
     "text": [
      "Epoch 16: train_acc_0.1283_train_loss_3.1799_val_acc_0.1303_val_loss_3.1614 epoch time 10.9375 seconds\n",
      "total time3.0 : 6.49465537071228\n"
     ]
    },
    {
     "name": "stderr",
     "output_type": "stream",
     "text": [
      "loss: 3.0810, accuracy: 0.1800: 100%|██████████| 1000/1000 [00:09<00:00, 101.66it/s]\n",
      "loss: 3.1497, accuracy: 0.1500: 100%|██████████| 158/158 [00:01<00:00, 157.93it/s]\n",
      "loss: 3.2519, accuracy: 0.0800:   2%|▏         | 20/1000 [00:00<00:09, 108.26it/s]"
     ]
    },
    {
     "name": "stdout",
     "output_type": "stream",
     "text": [
      "Epoch 17: train_acc_0.1361_train_loss_3.1421_val_acc_0.1406_val_loss_3.1344 epoch time 10.9753 seconds\n",
      "total time3.0 : 17.469908952713013\n"
     ]
    },
    {
     "name": "stderr",
     "output_type": "stream",
     "text": [
      "loss: 2.9966, accuracy: 0.2600: 100%|██████████| 1000/1000 [00:09<00:00, 102.25it/s]\n",
      "loss: 3.2579, accuracy: 0.0700: 100%|██████████| 158/158 [00:01<00:00, 157.02it/s]\n",
      "loss: 3.0462, accuracy: 0.0900:   2%|▏         | 20/1000 [00:00<00:09, 104.75it/s]"
     ]
    },
    {
     "name": "stdout",
     "output_type": "stream",
     "text": [
      "Epoch 18: train_acc_0.1433_train_loss_3.1161_val_acc_0.1378_val_loss_3.1494 epoch time 10.9250 seconds\n",
      "total time3.0 : 28.394906997680664\n"
     ]
    },
    {
     "name": "stderr",
     "output_type": "stream",
     "text": [
      "loss: 3.1280, accuracy: 0.1200: 100%|██████████| 1000/1000 [00:09<00:00, 105.14it/s]\n",
      "loss: 3.1508, accuracy: 0.1200: 100%|██████████| 158/158 [00:01<00:00, 157.53it/s]\n",
      "loss: 3.4028, accuracy: 0.1600:   2%|▏         | 20/1000 [00:00<00:09, 108.20it/s]"
     ]
    },
    {
     "name": "stdout",
     "output_type": "stream",
     "text": [
      "Epoch 19: train_acc_0.1448_train_loss_3.0976_val_acc_0.1522_val_loss_3.0907 epoch time 11.0820 seconds\n",
      "total time3.0 : 39.47694420814514\n"
     ]
    },
    {
     "name": "stderr",
     "output_type": "stream",
     "text": [
      "loss: 3.0747, accuracy: 0.1600: 100%|██████████| 1000/1000 [00:09<00:00, 102.89it/s]\n",
      "loss: 3.0704, accuracy: 0.1200: 100%|██████████| 158/158 [00:00<00:00, 159.30it/s]\n",
      "loss: 3.0616, accuracy: 0.1600:   2%|▏         | 20/1000 [00:00<00:08, 109.76it/s]"
     ]
    },
    {
     "name": "stdout",
     "output_type": "stream",
     "text": [
      "Epoch 20: train_acc_0.1503_train_loss_3.0802_val_acc_0.1527_val_loss_3.0759 epoch time 10.8478 seconds\n",
      "total time3.0 : 50.32472372055054\n"
     ]
    },
    {
     "name": "stderr",
     "output_type": "stream",
     "text": [
      "loss: 3.0546, accuracy: 0.1300: 100%|██████████| 1000/1000 [00:09<00:00, 101.52it/s]\n",
      "loss: 3.0735, accuracy: 0.1300: 100%|██████████| 158/158 [00:00<00:00, 159.53it/s]\n",
      "loss: 3.0716, accuracy: 0.1700:   2%|▏         | 20/1000 [00:00<00:08, 109.51it/s]"
     ]
    },
    {
     "name": "stdout",
     "output_type": "stream",
     "text": [
      "Epoch 21: train_acc_0.1554_train_loss_3.0636_val_acc_0.1606_val_loss_3.0603 epoch time 10.9791 seconds\n",
      "total time4.0 : 1.3037965297698975\n"
     ]
    },
    {
     "name": "stderr",
     "output_type": "stream",
     "text": [
      "loss: 2.9188, accuracy: 0.1700: 100%|██████████| 1000/1000 [00:09<00:00, 102.61it/s]\n",
      "loss: 2.9867, accuracy: 0.1700: 100%|██████████| 158/158 [00:01<00:00, 157.32it/s]\n",
      "loss: 2.9297, accuracy: 0.1800:   2%|▏         | 20/1000 [00:00<00:09, 107.78it/s]"
     ]
    },
    {
     "name": "stdout",
     "output_type": "stream",
     "text": [
      "Epoch 22: train_acc_0.1580_train_loss_3.0481_val_acc_0.1649_val_loss_3.0337 epoch time 10.8882 seconds\n",
      "total time4.0 : 12.192044973373413\n"
     ]
    },
    {
     "name": "stderr",
     "output_type": "stream",
     "text": [
      "loss: 3.1375, accuracy: 0.1000: 100%|██████████| 1000/1000 [00:09<00:00, 101.89it/s]\n",
      "loss: 2.9104, accuracy: 0.1700: 100%|██████████| 158/158 [00:00<00:00, 169.49it/s]\n",
      "loss: 3.0122, accuracy: 0.0900:   2%|▏         | 20/1000 [00:00<00:08, 110.46it/s]"
     ]
    },
    {
     "name": "stdout",
     "output_type": "stream",
     "text": [
      "Epoch 23: train_acc_0.1616_train_loss_3.0340_val_acc_0.1656_val_loss_3.0270 epoch time 10.9210 seconds\n",
      "total time4.0 : 23.11307668685913\n"
     ]
    },
    {
     "name": "stderr",
     "output_type": "stream",
     "text": [
      "loss: 3.1522, accuracy: 0.1400: 100%|██████████| 1000/1000 [00:09<00:00, 101.98it/s]\n",
      "loss: 2.9750, accuracy: 0.2300: 100%|██████████| 158/158 [00:00<00:00, 159.27it/s]\n",
      "loss: 2.9251, accuracy: 0.1900:   2%|▏         | 20/1000 [00:00<00:09, 107.21it/s]"
     ]
    },
    {
     "name": "stdout",
     "output_type": "stream",
     "text": [
      "Epoch 24: train_acc_0.1641_train_loss_3.0195_val_acc_0.1706_val_loss_3.0177 epoch time 10.9348 seconds\n",
      "total time4.0 : 34.047866106033325\n"
     ]
    },
    {
     "name": "stderr",
     "output_type": "stream",
     "text": [
      "loss: 3.1175, accuracy: 0.1500: 100%|██████████| 1000/1000 [00:09<00:00, 101.29it/s]\n",
      "loss: 2.8904, accuracy: 0.1700: 100%|██████████| 158/158 [00:00<00:00, 160.39it/s]\n",
      "loss: 2.9858, accuracy: 0.1800:   2%|▏         | 20/1000 [00:00<00:09, 108.25it/s]"
     ]
    },
    {
     "name": "stdout",
     "output_type": "stream",
     "text": [
      "Epoch 25: train_acc_0.1676_train_loss_3.0052_val_acc_0.1728_val_loss_2.9969 epoch time 10.9977 seconds\n",
      "total time4.0 : 45.045520305633545\n"
     ]
    },
    {
     "name": "stderr",
     "output_type": "stream",
     "text": [
      "loss: 2.8232, accuracy: 0.1900: 100%|██████████| 1000/1000 [00:09<00:00, 102.01it/s]\n",
      "loss: 2.8233, accuracy: 0.2000: 100%|██████████| 158/158 [00:00<00:00, 160.25it/s]\n",
      "loss: 2.8110, accuracy: 0.2000:   2%|▏         | 20/1000 [00:00<00:08, 109.12it/s]"
     ]
    },
    {
     "name": "stdout",
     "output_type": "stream",
     "text": [
      "Epoch 26: train_acc_0.1714_train_loss_2.9901_val_acc_0.1752_val_loss_2.9879 epoch time 10.9259 seconds\n",
      "total time4.0 : 55.971457958221436\n"
     ]
    },
    {
     "name": "stderr",
     "output_type": "stream",
     "text": [
      "loss: 3.1008, accuracy: 0.1100: 100%|██████████| 1000/1000 [00:09<00:00, 101.47it/s]\n",
      "loss: 3.0684, accuracy: 0.1900: 100%|██████████| 158/158 [00:00<00:00, 159.50it/s]\n",
      "loss: 2.8526, accuracy: 0.2000:   2%|▏         | 20/1000 [00:00<00:09, 107.23it/s]"
     ]
    },
    {
     "name": "stdout",
     "output_type": "stream",
     "text": [
      "Epoch 27: train_acc_0.1752_train_loss_2.9780_val_acc_0.1765_val_loss_2.9786 epoch time 10.9847 seconds\n",
      "total time5.0 : 6.956159353256226\n"
     ]
    },
    {
     "name": "stderr",
     "output_type": "stream",
     "text": [
      "loss: 2.9045, accuracy: 0.1800: 100%|██████████| 1000/1000 [00:09<00:00, 102.42it/s]\n",
      "loss: 2.9494, accuracy: 0.1700: 100%|██████████| 158/158 [00:00<00:00, 158.06it/s]\n",
      "loss: 2.7981, accuracy: 0.1900:   2%|▏         | 20/1000 [00:00<00:09, 106.73it/s]"
     ]
    },
    {
     "name": "stdout",
     "output_type": "stream",
     "text": [
      "Epoch 28: train_acc_0.1782_train_loss_2.9652_val_acc_0.1809_val_loss_2.9537 epoch time 10.9006 seconds\n",
      "total time5.0 : 17.85679292678833\n"
     ]
    },
    {
     "name": "stderr",
     "output_type": "stream",
     "text": [
      "loss: 3.1987, accuracy: 0.1700: 100%|██████████| 1000/1000 [00:09<00:00, 101.30it/s]\n",
      "loss: 3.2189, accuracy: 0.1600: 100%|██████████| 158/158 [00:01<00:00, 156.38it/s]\n",
      "loss: 2.9055, accuracy: 0.2200:   2%|▏         | 21/1000 [00:00<00:08, 109.85it/s]"
     ]
    },
    {
     "name": "stdout",
     "output_type": "stream",
     "text": [
      "Epoch 29: train_acc_0.1818_train_loss_2.9531_val_acc_0.1785_val_loss_2.9566 epoch time 11.0194 seconds\n",
      "total time5.0 : 28.876190900802612\n"
     ]
    },
    {
     "name": "stderr",
     "output_type": "stream",
     "text": [
      "loss: 2.8370, accuracy: 0.1800: 100%|██████████| 1000/1000 [00:09<00:00, 102.37it/s]\n",
      "loss: 3.0797, accuracy: 0.1700: 100%|██████████| 158/158 [00:01<00:00, 157.79it/s]\n",
      "loss: 2.7760, accuracy: 0.2300:   2%|▏         | 20/1000 [00:00<00:09, 107.85it/s]"
     ]
    },
    {
     "name": "stdout",
     "output_type": "stream",
     "text": [
      "Epoch 30: train_acc_0.1845_train_loss_2.9414_val_acc_0.1864_val_loss_2.9364 epoch time 10.9076 seconds\n",
      "total time5.0 : 39.783754110336304\n"
     ]
    },
    {
     "name": "stderr",
     "output_type": "stream",
     "text": [
      "loss: 2.8389, accuracy: 0.1800: 100%|██████████| 1000/1000 [00:09<00:00, 100.61it/s]\n",
      "loss: 3.1189, accuracy: 0.1800: 100%|██████████| 158/158 [00:01<00:00, 157.17it/s]\n",
      "loss: 2.9357, accuracy: 0.1900:   2%|▏         | 20/1000 [00:00<00:09, 108.54it/s]"
     ]
    },
    {
     "name": "stdout",
     "output_type": "stream",
     "text": [
      "Epoch 31: train_acc_0.1874_train_loss_2.9272_val_acc_0.1932_val_loss_2.9214 epoch time 11.0815 seconds\n",
      "total time5.0 : 50.86520862579346\n"
     ]
    },
    {
     "name": "stderr",
     "output_type": "stream",
     "text": [
      "loss: 2.9020, accuracy: 0.1800: 100%|██████████| 1000/1000 [00:09<00:00, 102.62it/s]\n",
      "loss: 2.9534, accuracy: 0.1800: 100%|██████████| 158/158 [00:01<00:00, 157.20it/s]\n",
      "loss: 3.0131, accuracy: 0.1900:   2%|▏         | 20/1000 [00:00<00:09, 107.96it/s]"
     ]
    },
    {
     "name": "stdout",
     "output_type": "stream",
     "text": [
      "Epoch 32: train_acc_0.1903_train_loss_2.9162_val_acc_0.1949_val_loss_2.9105 epoch time 10.8872 seconds\n",
      "total time6.0 : 1.7524218559265137\n"
     ]
    },
    {
     "name": "stderr",
     "output_type": "stream",
     "text": [
      "loss: 3.0331, accuracy: 0.2100: 100%|██████████| 1000/1000 [00:09<00:00, 101.41it/s]\n",
      "loss: 2.8867, accuracy: 0.2300: 100%|██████████| 158/158 [00:01<00:00, 157.73it/s]\n",
      "loss: 3.0122, accuracy: 0.1500:   2%|▏         | 20/1000 [00:00<00:09, 106.90it/s]"
     ]
    },
    {
     "name": "stdout",
     "output_type": "stream",
     "text": [
      "Epoch 33: train_acc_0.1918_train_loss_2.9052_val_acc_0.1934_val_loss_2.8988 epoch time 11.0018 seconds\n",
      "total time6.0 : 12.754268407821655\n"
     ]
    },
    {
     "name": "stderr",
     "output_type": "stream",
     "text": [
      "loss: 2.8085, accuracy: 0.2500: 100%|██████████| 1000/1000 [00:09<00:00, 101.99it/s]\n",
      "loss: 2.8783, accuracy: 0.3000: 100%|██████████| 158/158 [00:01<00:00, 156.86it/s]\n",
      "loss: 2.9078, accuracy: 0.1600:   2%|▏         | 20/1000 [00:00<00:09, 105.89it/s]"
     ]
    },
    {
     "name": "stdout",
     "output_type": "stream",
     "text": [
      "Epoch 34: train_acc_0.1947_train_loss_2.8943_val_acc_0.1994_val_loss_2.8935 epoch time 10.9508 seconds\n",
      "total time6.0 : 23.705065965652466\n"
     ]
    },
    {
     "name": "stderr",
     "output_type": "stream",
     "text": [
      "loss: 2.9792, accuracy: 0.2100: 100%|██████████| 1000/1000 [00:09<00:00, 100.66it/s]\n",
      "loss: 2.8026, accuracy: 0.2000: 100%|██████████| 158/158 [00:00<00:00, 158.59it/s]\n",
      "loss: 2.8386, accuracy: 0.2400:   2%|▏         | 20/1000 [00:00<00:09, 107.21it/s]"
     ]
    },
    {
     "name": "stdout",
     "output_type": "stream",
     "text": [
      "Epoch 35: train_acc_0.1982_train_loss_2.8837_val_acc_0.2033_val_loss_2.8804 epoch time 11.0686 seconds\n",
      "total time6.0 : 34.77366375923157\n"
     ]
    },
    {
     "name": "stderr",
     "output_type": "stream",
     "text": [
      "loss: 2.9730, accuracy: 0.1800: 100%|██████████| 1000/1000 [00:09<00:00, 102.20it/s]\n",
      "loss: 2.8473, accuracy: 0.2100: 100%|██████████| 158/158 [00:01<00:00, 157.68it/s]\n",
      "loss: 2.9411, accuracy: 0.1600:   2%|▏         | 21/1000 [00:00<00:09, 108.67it/s]"
     ]
    },
    {
     "name": "stdout",
     "output_type": "stream",
     "text": [
      "Epoch 36: train_acc_0.1998_train_loss_2.8748_val_acc_0.2039_val_loss_2.8735 epoch time 10.9247 seconds\n",
      "total time6.0 : 45.698397159576416\n"
     ]
    },
    {
     "name": "stderr",
     "output_type": "stream",
     "text": [
      "loss: 2.7120, accuracy: 0.2700: 100%|██████████| 1000/1000 [00:09<00:00, 100.54it/s]\n",
      "loss: 2.7870, accuracy: 0.2000: 100%|██████████| 158/158 [00:00<00:00, 158.96it/s]\n",
      "loss: 2.9185, accuracy: 0.2100:   2%|▏         | 20/1000 [00:00<00:09, 105.31it/s]"
     ]
    },
    {
     "name": "stdout",
     "output_type": "stream",
     "text": [
      "Epoch 37: train_acc_0.2017_train_loss_2.8661_val_acc_0.2023_val_loss_2.8746 epoch time 11.0802 seconds\n",
      "total time6.0 : 56.77859044075012\n"
     ]
    },
    {
     "name": "stderr",
     "output_type": "stream",
     "text": [
      "loss: 2.7596, accuracy: 0.1900: 100%|██████████| 1000/1000 [00:09<00:00, 102.10it/s]\n",
      "loss: 2.9162, accuracy: 0.2100: 100%|██████████| 158/158 [00:01<00:00, 156.60it/s]\n",
      "loss: 2.9817, accuracy: 0.1800:   2%|▏         | 20/1000 [00:00<00:09, 107.80it/s]"
     ]
    },
    {
     "name": "stdout",
     "output_type": "stream",
     "text": [
      "Epoch 38: train_acc_0.2042_train_loss_2.8580_val_acc_0.1996_val_loss_2.8695 epoch time 10.9416 seconds\n",
      "total time7.0 : 7.720191478729248\n"
     ]
    },
    {
     "name": "stderr",
     "output_type": "stream",
     "text": [
      "loss: 2.7421, accuracy: 0.3000: 100%|██████████| 1000/1000 [00:09<00:00, 101.22it/s]\n",
      "loss: 3.0290, accuracy: 0.2200: 100%|██████████| 158/158 [00:01<00:00, 157.72it/s]\n",
      "loss: 2.7727, accuracy: 0.1900:   2%|▏         | 21/1000 [00:00<00:08, 113.74it/s]"
     ]
    },
    {
     "name": "stdout",
     "output_type": "stream",
     "text": [
      "Epoch 39: train_acc_0.2058_train_loss_2.8483_val_acc_0.2092_val_loss_2.8465 epoch time 11.0219 seconds\n",
      "total time7.0 : 18.742042064666748\n"
     ]
    },
    {
     "name": "stderr",
     "output_type": "stream",
     "text": [
      "loss: 2.8855, accuracy: 0.2100:  29%|██▉       | 292/1000 [00:02<00:06, 104.26it/s]\n"
     ]
    },
    {
     "ename": "KeyboardInterrupt",
     "evalue": "",
     "output_type": "error",
     "traceback": [
      "\u001b[0;31m---------------------------------------------------------------------------\u001b[0m",
      "\u001b[0;31mKeyboardInterrupt\u001b[0m                         Traceback (most recent call last)",
      "\u001b[0;32m<ipython-input-5-328b48374265>\u001b[0m in \u001b[0;36m<module>\u001b[0;34m\u001b[0m\n\u001b[1;32m     35\u001b[0m                                     train_data=train_data, val_data=val_data, test_data=test_data)\n\u001b[1;32m     36\u001b[0m     \u001b[0mprint\u001b[0m\u001b[0;34m(\u001b[0m\u001b[0mcustom_conv_net\u001b[0m\u001b[0;34m)\u001b[0m\u001b[0;34m\u001b[0m\u001b[0m\n\u001b[0;32m---> 37\u001b[0;31m     \u001b[0mtotal_losses\u001b[0m \u001b[0;34m=\u001b[0m \u001b[0mconv_experiment\u001b[0m\u001b[0;34m.\u001b[0m\u001b[0mrun_experiment\u001b[0m\u001b[0;34m(\u001b[0m\u001b[0;34m)\u001b[0m\u001b[0;34m\u001b[0m\u001b[0m\n\u001b[0m\u001b[1;32m     38\u001b[0m     \u001b[0mprint\u001b[0m\u001b[0;34m(\u001b[0m\u001b[0;34m'finish'\u001b[0m\u001b[0;34m)\u001b[0m\u001b[0;34m\u001b[0m\u001b[0m\n\u001b[1;32m     39\u001b[0m     \u001b[0mplot_stats_in_graph\u001b[0m\u001b[0;34m(\u001b[0m\u001b[0mtotal_losses\u001b[0m\u001b[0;34m[\u001b[0m\u001b[0;36m0\u001b[0m\u001b[0;34m]\u001b[0m\u001b[0;34m)\u001b[0m\u001b[0;34m\u001b[0m\u001b[0m\n",
      "\u001b[0;32m<ipython-input-4-a7575d4d2552>\u001b[0m in \u001b[0;36mrun_experiment\u001b[0;34m(self)\u001b[0m\n\u001b[1;32m    141\u001b[0m             \u001b[0;32mwith\u001b[0m \u001b[0mtqdm\u001b[0m\u001b[0;34m.\u001b[0m\u001b[0mtqdm\u001b[0m\u001b[0;34m(\u001b[0m\u001b[0mtotal\u001b[0m\u001b[0;34m=\u001b[0m\u001b[0mself\u001b[0m\u001b[0;34m.\u001b[0m\u001b[0mtrain_data\u001b[0m\u001b[0;34m.\u001b[0m\u001b[0mnum_batches\u001b[0m\u001b[0;34m)\u001b[0m \u001b[0;32mas\u001b[0m \u001b[0mpbar_train\u001b[0m\u001b[0;34m:\u001b[0m \u001b[0;31m# create a progress bar for training\u001b[0m\u001b[0;34m\u001b[0m\u001b[0m\n\u001b[1;32m    142\u001b[0m                 \u001b[0;32mfor\u001b[0m \u001b[0midx\u001b[0m\u001b[0;34m,\u001b[0m \u001b[0;34m(\u001b[0m\u001b[0mx\u001b[0m\u001b[0;34m,\u001b[0m \u001b[0my\u001b[0m\u001b[0;34m)\u001b[0m \u001b[0;32min\u001b[0m \u001b[0menumerate\u001b[0m\u001b[0;34m(\u001b[0m\u001b[0mself\u001b[0m\u001b[0;34m.\u001b[0m\u001b[0mtrain_data\u001b[0m\u001b[0;34m)\u001b[0m\u001b[0;34m:\u001b[0m \u001b[0;31m# get data batches\u001b[0m\u001b[0;34m\u001b[0m\u001b[0m\n\u001b[0;32m--> 143\u001b[0;31m                     \u001b[0mloss\u001b[0m\u001b[0;34m,\u001b[0m \u001b[0maccuracy\u001b[0m \u001b[0;34m=\u001b[0m \u001b[0mself\u001b[0m\u001b[0;34m.\u001b[0m\u001b[0mrun_train_iter\u001b[0m\u001b[0;34m(\u001b[0m\u001b[0mx\u001b[0m\u001b[0;34m=\u001b[0m\u001b[0mx\u001b[0m\u001b[0;34m,\u001b[0m \u001b[0my\u001b[0m\u001b[0;34m=\u001b[0m\u001b[0my\u001b[0m\u001b[0;34m)\u001b[0m \u001b[0;31m# take a training iter step\u001b[0m\u001b[0;34m\u001b[0m\u001b[0m\n\u001b[0m\u001b[1;32m    144\u001b[0m                     \u001b[0mcurrent_epoch_losses\u001b[0m\u001b[0;34m[\u001b[0m\u001b[0;34m\"train_loss\"\u001b[0m\u001b[0;34m]\u001b[0m\u001b[0;34m.\u001b[0m\u001b[0mappend\u001b[0m\u001b[0;34m(\u001b[0m\u001b[0mloss\u001b[0m\u001b[0;34m)\u001b[0m \u001b[0;31m# add current iter loss to the train loss list\u001b[0m\u001b[0;34m\u001b[0m\u001b[0m\n\u001b[1;32m    145\u001b[0m                     \u001b[0mcurrent_epoch_losses\u001b[0m\u001b[0;34m[\u001b[0m\u001b[0;34m\"train_acc\"\u001b[0m\u001b[0;34m]\u001b[0m\u001b[0;34m.\u001b[0m\u001b[0mappend\u001b[0m\u001b[0;34m(\u001b[0m\u001b[0maccuracy\u001b[0m\u001b[0;34m)\u001b[0m \u001b[0;31m# add current iter acc to the train acc list\u001b[0m\u001b[0;34m\u001b[0m\u001b[0m\n",
      "\u001b[0;32m<ipython-input-4-a7575d4d2552>\u001b[0m in \u001b[0;36mrun_train_iter\u001b[0;34m(self, x, y)\u001b[0m\n\u001b[1;32m     76\u001b[0m \u001b[0;34m\u001b[0m\u001b[0m\n\u001b[1;32m     77\u001b[0m         \u001b[0mself\u001b[0m\u001b[0;34m.\u001b[0m\u001b[0moptimizer\u001b[0m\u001b[0;34m.\u001b[0m\u001b[0mzero_grad\u001b[0m\u001b[0;34m(\u001b[0m\u001b[0;34m)\u001b[0m \u001b[0;31m# set all weight grads from previous training iters to 0\u001b[0m\u001b[0;34m\u001b[0m\u001b[0m\n\u001b[0;32m---> 78\u001b[0;31m         \u001b[0mloss\u001b[0m\u001b[0;34m.\u001b[0m\u001b[0mbackward\u001b[0m\u001b[0;34m(\u001b[0m\u001b[0;34m)\u001b[0m \u001b[0;31m# backpropagate to compute gradients for current iter loss\u001b[0m\u001b[0;34m\u001b[0m\u001b[0m\n\u001b[0m\u001b[1;32m     79\u001b[0m \u001b[0;34m\u001b[0m\u001b[0m\n\u001b[1;32m     80\u001b[0m         \u001b[0mself\u001b[0m\u001b[0;34m.\u001b[0m\u001b[0moptimizer\u001b[0m\u001b[0;34m.\u001b[0m\u001b[0mstep\u001b[0m\u001b[0;34m(\u001b[0m\u001b[0;34m)\u001b[0m \u001b[0;31m# update network parameters\u001b[0m\u001b[0;34m\u001b[0m\u001b[0m\n",
      "\u001b[0;32m/opt/miniconda3/envs/mlp/lib/python3.7/site-packages/torch/tensor.py\u001b[0m in \u001b[0;36mbackward\u001b[0;34m(self, gradient, retain_graph, create_graph)\u001b[0m\n\u001b[1;32m     91\u001b[0m                 \u001b[0mproducts\u001b[0m\u001b[0;34m.\u001b[0m \u001b[0mDefaults\u001b[0m \u001b[0mto\u001b[0m\u001b[0;31m \u001b[0m\u001b[0;31m`\u001b[0m\u001b[0;31m`\u001b[0m\u001b[0;32mFalse\u001b[0m\u001b[0;31m`\u001b[0m\u001b[0;31m`\u001b[0m\u001b[0;34m.\u001b[0m\u001b[0;34m\u001b[0m\u001b[0m\n\u001b[1;32m     92\u001b[0m         \"\"\"\n\u001b[0;32m---> 93\u001b[0;31m         \u001b[0mtorch\u001b[0m\u001b[0;34m.\u001b[0m\u001b[0mautograd\u001b[0m\u001b[0;34m.\u001b[0m\u001b[0mbackward\u001b[0m\u001b[0;34m(\u001b[0m\u001b[0mself\u001b[0m\u001b[0;34m,\u001b[0m \u001b[0mgradient\u001b[0m\u001b[0;34m,\u001b[0m \u001b[0mretain_graph\u001b[0m\u001b[0;34m,\u001b[0m \u001b[0mcreate_graph\u001b[0m\u001b[0;34m)\u001b[0m\u001b[0;34m\u001b[0m\u001b[0m\n\u001b[0m\u001b[1;32m     94\u001b[0m \u001b[0;34m\u001b[0m\u001b[0m\n\u001b[1;32m     95\u001b[0m     \u001b[0;32mdef\u001b[0m \u001b[0mregister_hook\u001b[0m\u001b[0;34m(\u001b[0m\u001b[0mself\u001b[0m\u001b[0;34m,\u001b[0m \u001b[0mhook\u001b[0m\u001b[0;34m)\u001b[0m\u001b[0;34m:\u001b[0m\u001b[0;34m\u001b[0m\u001b[0m\n",
      "\u001b[0;32m/opt/miniconda3/envs/mlp/lib/python3.7/site-packages/torch/autograd/__init__.py\u001b[0m in \u001b[0;36mbackward\u001b[0;34m(tensors, grad_tensors, retain_graph, create_graph, grad_variables)\u001b[0m\n\u001b[1;32m     88\u001b[0m     Variable._execution_engine.run_backward(\n\u001b[1;32m     89\u001b[0m         \u001b[0mtensors\u001b[0m\u001b[0;34m,\u001b[0m \u001b[0mgrad_tensors\u001b[0m\u001b[0;34m,\u001b[0m \u001b[0mretain_graph\u001b[0m\u001b[0;34m,\u001b[0m \u001b[0mcreate_graph\u001b[0m\u001b[0;34m,\u001b[0m\u001b[0;34m\u001b[0m\u001b[0m\n\u001b[0;32m---> 90\u001b[0;31m         allow_unreachable=True)  # allow_unreachable flag\n\u001b[0m\u001b[1;32m     91\u001b[0m \u001b[0;34m\u001b[0m\u001b[0m\n\u001b[1;32m     92\u001b[0m \u001b[0;34m\u001b[0m\u001b[0m\n",
      "\u001b[0;31mKeyboardInterrupt\u001b[0m: "
     ]
    }
   ],
   "source": [
    "batch_size = 100\n",
    "image_num_channels = 1\n",
    "image_height = 28\n",
    "image_width = 28\n",
    "dim_reduction_idx = [3,3,3,3,3,3]\n",
    "strides = [1,2,3,4,5,6]\n",
    "dim_reduction_type = ['strided_convolution', 'dilated_convolution', 'max_pooling', 'avg_pooling']\n",
    "num_filters = 64\n",
    "num_layers = 4\n",
    "experiment_name = []\n",
    "for stride in strides:\n",
    "    experiment_name.append(\"strided_convolution_avgpooling_{}\".format(stride))\n",
    "num_epochs = 100\n",
    "weight_decay_coefficient = 1e-05\n",
    "seed = 9112018\n",
    "use_gpu = True\n",
    "\n",
    "rng = np.random.RandomState(seed=seed)\n",
    "train_data = data_providers.EMNISTDataProvider('train', batch_size=batch_size, rng=rng)\n",
    "val_data = data_providers.EMNISTDataProvider('valid', batch_size=batch_size, rng=rng)\n",
    "test_data = data_providers.EMNISTDataProvider('test', batch_size=batch_size, rng=rng)\n",
    "\n",
    "for reduction_idx,experiment,stride in zip(dim_reduction_idx,experiment_name,strides):\n",
    "    \n",
    "    custom_conv_net = ConvolutionalNetwork(\n",
    "        input_shape=(batch_size, image_num_channels, image_height, image_width),\n",
    "        dim_reduction_type=dim_reduction_type[reduction_idx],\n",
    "        num_output_classes=47, num_filters=num_filters, num_layers=num_layers, use_bias=True,stride=stride)\n",
    "\n",
    "    conv_experiment = ExperimentBuilder(network_model=custom_conv_net,\n",
    "                                    experiment_name=experiment,\n",
    "                                    num_epochs=num_epochs,\n",
    "                                    weight_decay_coefficient=weight_decay_coefficient,\n",
    "                                    use_gpu=use_gpu,\n",
    "                                    train_data=train_data, val_data=val_data, test_data=test_data)\n",
    "    print(custom_conv_net)\n",
    "    total_losses = conv_experiment.run_experiment()\n",
    "    print('finish')\n",
    "    plot_stats_in_graph(total_losses[0])"
   ]
  },
  {
   "cell_type": "code",
   "execution_count": 6,
   "metadata": {
    "scrolled": false
   },
   "outputs": [
    {
     "name": "stdout",
     "output_type": "stream",
     "text": [
      "KeysView(<numpy.lib.npyio.NpzFile object at 0x7f66f8576f60>)\n",
      "KeysView(<numpy.lib.npyio.NpzFile object at 0x7f66f72e7c88>)\n",
      "KeysView(<numpy.lib.npyio.NpzFile object at 0x7f66f72e7c18>)\n",
      "Building basic block of ConvolutionalNetwork using input shape (100, 1, 28, 28)\n",
      "torch.Size([100, 64, 14, 14])\n",
      "torch.Size([100, 64, 8, 8])\n",
      "torch.Size([100, 64, 4, 4])\n",
      "torch.Size([100, 64, 3, 3])\n",
      "torch.Size([100, 64, 2, 2])\n",
      "torch.Size([100, 64, 2, 2])\n",
      "torch.Size([100, 64, 1, 1])\n",
      "torch.Size([100, 64, 1, 1])\n",
      "shape before final linear layer torch.Size([100, 64, 2, 2])\n",
      "Block is built, output volume is torch.Size([100, 47])\n",
      "use GPU\n"
     ]
    },
    {
     "name": "stderr",
     "output_type": "stream",
     "text": [
      "\r",
      "  0%|          | 0/1000 [00:00<?, ?it/s]"
     ]
    },
    {
     "name": "stdout",
     "output_type": "stream",
     "text": [
      "ConvolutionalNetwork(\n",
      "  (layer_dict): ModuleDict(\n",
      "    (conv_0): Conv2d(1, 64, kernel_size=(3, 3), stride=(2, 2), padding=(1, 1))\n",
      "    (dim_reduction_max_pool_0): MaxPool2d(kernel_size=2, stride=2, padding=1, dilation=1, ceil_mode=False)\n",
      "    (conv_1): Conv2d(64, 64, kernel_size=(3, 3), stride=(2, 2), padding=(1, 1))\n",
      "    (dim_reduction_max_pool_1): MaxPool2d(kernel_size=2, stride=2, padding=1, dilation=1, ceil_mode=False)\n",
      "    (conv_2): Conv2d(64, 64, kernel_size=(3, 3), stride=(2, 2), padding=(1, 1))\n",
      "    (dim_reduction_max_pool_2): MaxPool2d(kernel_size=2, stride=2, padding=1, dilation=1, ceil_mode=False)\n",
      "    (conv_3): Conv2d(64, 64, kernel_size=(3, 3), stride=(2, 2), padding=(1, 1))\n",
      "    (dim_reduction_max_pool_3): MaxPool2d(kernel_size=2, stride=2, padding=1, dilation=1, ceil_mode=False)\n",
      "  )\n",
      "  (logit_linear_layer): Linear(in_features=256, out_features=47, bias=True)\n",
      ")\n"
     ]
    },
    {
     "name": "stderr",
     "output_type": "stream",
     "text": [
      "loss: 0.8792, accuracy: 0.7400: 100%|██████████| 1000/1000 [00:12<00:00, 78.41it/s]\n",
      "loss: 0.8594, accuracy: 0.7200: 100%|██████████| 158/158 [00:01<00:00, 148.80it/s]\n"
     ]
    },
    {
     "name": "stdout",
     "output_type": "stream",
     "text": [
      "Epoch 0: train_acc_0.5908_train_loss_1.3634_val_acc_0.7640_val_loss_0.7504 epoch time 13.9483 seconds\n",
      "total time0.0 : 13.948267221450806\n"
     ]
    },
    {
     "name": "stderr",
     "output_type": "stream",
     "text": [
      "loss: 0.4449, accuracy: 0.8600: 100%|██████████| 1000/1000 [00:12<00:00, 81.26it/s]\n",
      "loss: 0.5297, accuracy: 0.8400: 100%|██████████| 158/158 [00:01<00:00, 150.78it/s]\n",
      "loss: 0.5538, accuracy: 0.8400:   2%|▏         | 16/1000 [00:00<00:11, 84.07it/s]"
     ]
    },
    {
     "name": "stdout",
     "output_type": "stream",
     "text": [
      "Epoch 1: train_acc_0.7796_train_loss_0.6694_val_acc_0.8067_val_loss_0.5733 epoch time 13.5235 seconds\n",
      "total time0.0 : 27.471742630004883\n"
     ]
    },
    {
     "name": "stderr",
     "output_type": "stream",
     "text": [
      "loss: 0.5785, accuracy: 0.7900: 100%|██████████| 1000/1000 [00:12<00:00, 80.79it/s]\n",
      "loss: 0.3838, accuracy: 0.8700: 100%|██████████| 158/158 [00:01<00:00, 146.19it/s]\n",
      "loss: 0.5493, accuracy: 0.8100:   2%|▏         | 16/1000 [00:00<00:11, 87.97it/s]"
     ]
    },
    {
     "name": "stdout",
     "output_type": "stream",
     "text": [
      "Epoch 2: train_acc_0.8148_train_loss_0.5487_val_acc_0.8235_val_loss_0.5214 epoch time 13.5978 seconds\n",
      "total time0.0 : 41.069581270217896\n"
     ]
    },
    {
     "name": "stderr",
     "output_type": "stream",
     "text": [
      "loss: 0.5026, accuracy: 0.8000: 100%|██████████| 1000/1000 [00:12<00:00, 81.20it/s]\n",
      "loss: 0.4933, accuracy: 0.8100: 100%|██████████| 158/158 [00:01<00:00, 153.97it/s]\n",
      "loss: 0.4567, accuracy: 0.8400:   2%|▏         | 16/1000 [00:00<00:11, 86.11it/s]"
     ]
    },
    {
     "name": "stdout",
     "output_type": "stream",
     "text": [
      "Epoch 3: train_acc_0.8339_train_loss_0.4865_val_acc_0.8399_val_loss_0.4566 epoch time 13.5299 seconds\n",
      "total time0.0 : 54.59948778152466\n"
     ]
    },
    {
     "name": "stderr",
     "output_type": "stream",
     "text": [
      "loss: 0.3460, accuracy: 0.8800: 100%|██████████| 1000/1000 [00:12<00:00, 80.72it/s]\n",
      "loss: 0.5530, accuracy: 0.8300: 100%|██████████| 158/158 [00:01<00:00, 148.13it/s]\n",
      "loss: 0.4537, accuracy: 0.8600:   2%|▏         | 16/1000 [00:00<00:11, 88.48it/s]"
     ]
    },
    {
     "name": "stdout",
     "output_type": "stream",
     "text": [
      "Epoch 4: train_acc_0.8460_train_loss_0.4457_val_acc_0.8508_val_loss_0.4369 epoch time 13.5890 seconds\n",
      "total time1.0 : 8.188502550125122\n"
     ]
    },
    {
     "name": "stderr",
     "output_type": "stream",
     "text": [
      "loss: 0.3925, accuracy: 0.8900: 100%|██████████| 1000/1000 [00:12<00:00, 82.10it/s]\n",
      "loss: 0.5278, accuracy: 0.8100: 100%|██████████| 158/158 [00:01<00:00, 148.75it/s]\n",
      "loss: 0.3434, accuracy: 0.8700:   2%|▏         | 16/1000 [00:00<00:11, 86.04it/s]"
     ]
    },
    {
     "name": "stdout",
     "output_type": "stream",
     "text": [
      "Epoch 5: train_acc_0.8529_train_loss_0.4160_val_acc_0.8504_val_loss_0.4316 epoch time 13.5230 seconds\n",
      "total time1.0 : 21.711498260498047\n"
     ]
    },
    {
     "name": "stderr",
     "output_type": "stream",
     "text": [
      "loss: 0.5059, accuracy: 0.8400: 100%|██████████| 1000/1000 [00:12<00:00, 81.26it/s]\n",
      "loss: 0.3755, accuracy: 0.8500: 100%|██████████| 158/158 [00:01<00:00, 149.16it/s]\n",
      "loss: 0.3345, accuracy: 0.8900:   2%|▏         | 16/1000 [00:00<00:11, 86.23it/s]"
     ]
    },
    {
     "name": "stdout",
     "output_type": "stream",
     "text": [
      "Epoch 6: train_acc_0.8595_train_loss_0.3955_val_acc_0.8505_val_loss_0.4192 epoch time 13.4983 seconds\n",
      "total time1.0 : 35.20975637435913\n"
     ]
    },
    {
     "name": "stderr",
     "output_type": "stream",
     "text": [
      "loss: 0.4107, accuracy: 0.8600: 100%|██████████| 1000/1000 [00:12<00:00, 82.05it/s]\n",
      "loss: 0.5424, accuracy: 0.8100: 100%|██████████| 158/158 [00:01<00:00, 149.11it/s]\n",
      "loss: 0.2708, accuracy: 0.9200:   2%|▏         | 16/1000 [00:00<00:11, 87.02it/s]"
     ]
    },
    {
     "name": "stdout",
     "output_type": "stream",
     "text": [
      "Epoch 7: train_acc_0.8639_train_loss_0.3795_val_acc_0.8565_val_loss_0.4105 epoch time 13.3854 seconds\n",
      "total time1.0 : 48.595160722732544\n"
     ]
    },
    {
     "name": "stderr",
     "output_type": "stream",
     "text": [
      "loss: 0.2664, accuracy: 0.9000: 100%|██████████| 1000/1000 [00:11<00:00, 84.97it/s]\n",
      "loss: 0.2444, accuracy: 0.9100: 100%|██████████| 158/158 [00:01<00:00, 144.68it/s]\n",
      "loss: 0.3554, accuracy: 0.8900:   2%|▏         | 16/1000 [00:00<00:11, 84.41it/s]"
     ]
    },
    {
     "name": "stdout",
     "output_type": "stream",
     "text": [
      "Epoch 8: train_acc_0.8684_train_loss_0.3621_val_acc_0.8553_val_loss_0.4061 epoch time 13.4584 seconds\n",
      "total time2.0 : 2.0535404682159424\n"
     ]
    },
    {
     "name": "stderr",
     "output_type": "stream",
     "text": [
      "loss: 0.2502, accuracy: 0.8900: 100%|██████████| 1000/1000 [00:12<00:00, 81.40it/s]\n",
      "loss: 0.2148, accuracy: 0.9300: 100%|██████████| 158/158 [00:01<00:00, 144.96it/s]\n",
      "loss: 0.3562, accuracy: 0.8400:   2%|▏         | 16/1000 [00:00<00:11, 85.14it/s]"
     ]
    },
    {
     "name": "stdout",
     "output_type": "stream",
     "text": [
      "Epoch 9: train_acc_0.8719_train_loss_0.3496_val_acc_0.8591_val_loss_0.4046 epoch time 13.5127 seconds\n",
      "total time2.0 : 15.566286087036133\n"
     ]
    },
    {
     "name": "stderr",
     "output_type": "stream",
     "text": [
      "loss: 0.3534, accuracy: 0.8500: 100%|██████████| 1000/1000 [00:12<00:00, 81.18it/s]\n",
      "loss: 0.3090, accuracy: 0.9100: 100%|██████████| 158/158 [00:01<00:00, 149.10it/s]\n",
      "loss: 0.2118, accuracy: 0.9300:   2%|▏         | 16/1000 [00:00<00:11, 86.71it/s]"
     ]
    },
    {
     "name": "stdout",
     "output_type": "stream",
     "text": [
      "Epoch 10: train_acc_0.8758_train_loss_0.3365_val_acc_0.8669_val_loss_0.3808 epoch time 13.5110 seconds\n",
      "total time2.0 : 29.077266216278076\n"
     ]
    },
    {
     "name": "stderr",
     "output_type": "stream",
     "text": [
      "loss: 0.2471, accuracy: 0.9300: 100%|██████████| 1000/1000 [00:11<00:00, 83.11it/s]\n",
      "loss: 0.3906, accuracy: 0.8800: 100%|██████████| 158/158 [00:00<00:00, 161.15it/s]\n",
      "loss: 0.5378, accuracy: 0.9000:   2%|▏         | 16/1000 [00:00<00:11, 87.99it/s]"
     ]
    },
    {
     "name": "stdout",
     "output_type": "stream",
     "text": [
      "Epoch 11: train_acc_0.8789_train_loss_0.3275_val_acc_0.8634_val_loss_0.3855 epoch time 13.5017 seconds\n",
      "total time2.0 : 42.57896280288696\n"
     ]
    },
    {
     "name": "stderr",
     "output_type": "stream",
     "text": [
      "loss: 0.2430, accuracy: 0.9300: 100%|██████████| 1000/1000 [00:12<00:00, 82.09it/s]\n",
      "loss: 0.2357, accuracy: 0.8700: 100%|██████████| 158/158 [00:01<00:00, 148.73it/s]\n",
      "loss: 0.2261, accuracy: 0.8700:   2%|▏         | 16/1000 [00:00<00:11, 86.05it/s]"
     ]
    },
    {
     "name": "stdout",
     "output_type": "stream",
     "text": [
      "Epoch 12: train_acc_0.8826_train_loss_0.3147_val_acc_0.8611_val_loss_0.3948 epoch time 13.3797 seconds\n",
      "total time2.0 : 55.958646059036255\n"
     ]
    },
    {
     "name": "stderr",
     "output_type": "stream",
     "text": [
      "loss: 0.3275, accuracy: 0.8500: 100%|██████████| 1000/1000 [00:12<00:00, 82.40it/s]\n",
      "loss: 0.2994, accuracy: 0.9100: 100%|██████████| 158/158 [00:01<00:00, 148.96it/s]\n",
      "loss: 0.3053, accuracy: 0.8500:   2%|▏         | 16/1000 [00:00<00:11, 87.20it/s]"
     ]
    },
    {
     "name": "stdout",
     "output_type": "stream",
     "text": [
      "Epoch 13: train_acc_0.8858_train_loss_0.3043_val_acc_0.8669_val_loss_0.3900 epoch time 13.3305 seconds\n",
      "total time3.0 : 9.289120197296143\n"
     ]
    },
    {
     "name": "stderr",
     "output_type": "stream",
     "text": [
      "loss: 0.2626, accuracy: 0.8900: 100%|██████████| 1000/1000 [00:11<00:00, 83.22it/s]\n",
      "loss: 0.3429, accuracy: 0.8800: 100%|██████████| 158/158 [00:01<00:00, 147.80it/s]\n",
      "loss: 0.2402, accuracy: 0.9000:   2%|▏         | 16/1000 [00:00<00:11, 85.74it/s]"
     ]
    },
    {
     "name": "stdout",
     "output_type": "stream",
     "text": [
      "Epoch 14: train_acc_0.8878_train_loss_0.2976_val_acc_0.8655_val_loss_0.3878 epoch time 13.4128 seconds\n",
      "total time3.0 : 22.701944828033447\n"
     ]
    },
    {
     "name": "stderr",
     "output_type": "stream",
     "text": [
      "loss: 0.2203, accuracy: 0.9000: 100%|██████████| 1000/1000 [00:12<00:00, 82.18it/s]\n",
      "loss: 0.4813, accuracy: 0.8500: 100%|██████████| 158/158 [00:01<00:00, 148.60it/s]\n",
      "loss: 0.3566, accuracy: 0.8300:   2%|▏         | 16/1000 [00:00<00:11, 86.72it/s]"
     ]
    },
    {
     "name": "stdout",
     "output_type": "stream",
     "text": [
      "Epoch 15: train_acc_0.8920_train_loss_0.2881_val_acc_0.8657_val_loss_0.3948 epoch time 13.3655 seconds\n",
      "total time3.0 : 36.067450284957886\n"
     ]
    },
    {
     "name": "stderr",
     "output_type": "stream",
     "text": [
      "loss: 0.2679, accuracy: 0.8600: 100%|██████████| 1000/1000 [00:12<00:00, 84.85it/s]\n",
      "loss: 0.4715, accuracy: 0.8200: 100%|██████████| 158/158 [00:01<00:00, 149.50it/s]\n",
      "loss: 0.2566, accuracy: 0.9200:   2%|▏         | 16/1000 [00:00<00:11, 88.22it/s]"
     ]
    },
    {
     "name": "stdout",
     "output_type": "stream",
     "text": [
      "Epoch 16: train_acc_0.8920_train_loss_0.2820_val_acc_0.8646_val_loss_0.4003 epoch time 13.4802 seconds\n",
      "total time3.0 : 49.547630071640015\n"
     ]
    },
    {
     "name": "stderr",
     "output_type": "stream",
     "text": [
      "loss: 0.3089, accuracy: 0.8600: 100%|██████████| 1000/1000 [00:12<00:00, 81.84it/s]\n",
      "loss: 0.4629, accuracy: 0.7900: 100%|██████████| 158/158 [00:01<00:00, 148.75it/s]\n",
      "loss: 0.2210, accuracy: 0.9000:   2%|▏         | 16/1000 [00:00<00:11, 87.84it/s]"
     ]
    },
    {
     "name": "stdout",
     "output_type": "stream",
     "text": [
      "Epoch 17: train_acc_0.8953_train_loss_0.2742_val_acc_0.8651_val_loss_0.3958 epoch time 13.4154 seconds\n",
      "total time4.0 : 2.9630026817321777\n"
     ]
    },
    {
     "name": "stderr",
     "output_type": "stream",
     "text": [
      "loss: 0.2466, accuracy: 0.8900: 100%|██████████| 1000/1000 [00:11<00:00, 82.96it/s]\n",
      "loss: 0.4611, accuracy: 0.8600: 100%|██████████| 158/158 [00:01<00:00, 148.49it/s]\n",
      "loss: 0.2111, accuracy: 0.9100:   2%|▏         | 16/1000 [00:00<00:11, 84.61it/s]"
     ]
    },
    {
     "name": "stdout",
     "output_type": "stream",
     "text": [
      "Epoch 18: train_acc_0.8972_train_loss_0.2659_val_acc_0.8641_val_loss_0.4087 epoch time 13.4592 seconds\n",
      "total time4.0 : 16.42221450805664\n"
     ]
    },
    {
     "name": "stderr",
     "output_type": "stream",
     "text": [
      "loss: 0.2738, accuracy: 0.9000: 100%|██████████| 1000/1000 [00:12<00:00, 81.26it/s]\n",
      "loss: 0.3767, accuracy: 0.8700: 100%|██████████| 158/158 [00:01<00:00, 137.84it/s]\n",
      "loss: 0.1627, accuracy: 0.9100:   2%|▏         | 16/1000 [00:00<00:11, 86.43it/s]"
     ]
    },
    {
     "name": "stdout",
     "output_type": "stream",
     "text": [
      "Epoch 19: train_acc_0.8997_train_loss_0.2600_val_acc_0.8618_val_loss_0.4108 epoch time 13.5907 seconds\n",
      "total time4.0 : 30.012877702713013\n"
     ]
    },
    {
     "name": "stderr",
     "output_type": "stream",
     "text": [
      "loss: 0.3057, accuracy: 0.8900: 100%|██████████| 1000/1000 [00:12<00:00, 80.91it/s]\n",
      "loss: 0.3880, accuracy: 0.8700: 100%|██████████| 158/158 [00:01<00:00, 153.20it/s]\n",
      "loss: 0.1504, accuracy: 0.9300:   2%|▏         | 16/1000 [00:00<00:11, 88.35it/s]"
     ]
    },
    {
     "name": "stdout",
     "output_type": "stream",
     "text": [
      "Epoch 20: train_acc_0.9019_train_loss_0.2535_val_acc_0.8631_val_loss_0.4155 epoch time 13.5248 seconds\n",
      "total time4.0 : 43.5377151966095\n"
     ]
    },
    {
     "name": "stderr",
     "output_type": "stream",
     "text": [
      "loss: 0.2046, accuracy: 0.9000: 100%|██████████| 1000/1000 [00:11<00:00, 82.46it/s]\n",
      "loss: 0.3872, accuracy: 0.8600: 100%|██████████| 158/158 [00:01<00:00, 154.16it/s]\n",
      "loss: 0.2006, accuracy: 0.9500:   2%|▏         | 16/1000 [00:00<00:11, 85.08it/s]"
     ]
    },
    {
     "name": "stdout",
     "output_type": "stream",
     "text": [
      "Epoch 21: train_acc_0.9029_train_loss_0.2485_val_acc_0.8607_val_loss_0.4281 epoch time 13.4374 seconds\n",
      "total time4.0 : 56.97507381439209\n"
     ]
    },
    {
     "name": "stderr",
     "output_type": "stream",
     "text": [
      "loss: 0.3533, accuracy: 0.8400: 100%|██████████| 1000/1000 [00:12<00:00, 81.36it/s]\n",
      "loss: 0.3568, accuracy: 0.8800: 100%|██████████| 158/158 [00:01<00:00, 145.74it/s]\n",
      "loss: 0.2165, accuracy: 0.9100:   2%|▏         | 16/1000 [00:00<00:11, 84.63it/s]"
     ]
    },
    {
     "name": "stdout",
     "output_type": "stream",
     "text": [
      "Epoch 22: train_acc_0.9056_train_loss_0.2408_val_acc_0.8643_val_loss_0.4355 epoch time 13.5124 seconds\n",
      "total time5.0 : 10.487486839294434\n"
     ]
    },
    {
     "name": "stderr",
     "output_type": "stream",
     "text": [
      "loss: 0.2201, accuracy: 0.9500: 100%|██████████| 1000/1000 [00:12<00:00, 81.58it/s]\n",
      "loss: 0.3395, accuracy: 0.8900: 100%|██████████| 158/158 [00:01<00:00, 148.31it/s]\n",
      "loss: 0.1663, accuracy: 0.9300:   2%|▏         | 16/1000 [00:00<00:11, 87.85it/s]"
     ]
    },
    {
     "name": "stdout",
     "output_type": "stream",
     "text": [
      "Epoch 23: train_acc_0.9065_train_loss_0.2386_val_acc_0.8646_val_loss_0.4355 epoch time 13.4549 seconds\n",
      "total time5.0 : 23.94243621826172\n"
     ]
    },
    {
     "name": "stderr",
     "output_type": "stream",
     "text": [
      "loss: 0.3659, accuracy: 0.9000: 100%|██████████| 1000/1000 [00:12<00:00, 81.45it/s]\n",
      "loss: 0.4528, accuracy: 0.8400: 100%|██████████| 158/158 [00:01<00:00, 148.73it/s]\n",
      "loss: 0.2070, accuracy: 0.9300:   2%|▏         | 16/1000 [00:00<00:11, 86.31it/s]"
     ]
    },
    {
     "name": "stdout",
     "output_type": "stream",
     "text": [
      "Epoch 24: train_acc_0.9069_train_loss_0.2345_val_acc_0.8625_val_loss_0.4435 epoch time 13.4777 seconds\n",
      "total time5.0 : 37.42010521888733\n"
     ]
    },
    {
     "name": "stderr",
     "output_type": "stream",
     "text": [
      "loss: 0.1779, accuracy: 0.9400: 100%|██████████| 1000/1000 [00:12<00:00, 81.34it/s]\n",
      "loss: 0.6197, accuracy: 0.8200: 100%|██████████| 158/158 [00:01<00:00, 148.39it/s]\n",
      "loss: 0.1927, accuracy: 0.9100:   2%|▏         | 16/1000 [00:00<00:11, 85.25it/s]"
     ]
    },
    {
     "name": "stdout",
     "output_type": "stream",
     "text": [
      "Epoch 25: train_acc_0.9101_train_loss_0.2278_val_acc_0.8597_val_loss_0.4480 epoch time 13.4945 seconds\n",
      "total time5.0 : 50.91459584236145\n"
     ]
    },
    {
     "name": "stderr",
     "output_type": "stream",
     "text": [
      "loss: 0.2347, accuracy: 0.8900: 100%|██████████| 1000/1000 [00:12<00:00, 80.71it/s]\n",
      "loss: 0.4621, accuracy: 0.8300: 100%|██████████| 158/158 [00:01<00:00, 148.51it/s]\n",
      "loss: 0.2941, accuracy: 0.9000:   2%|▏         | 16/1000 [00:00<00:11, 86.36it/s]"
     ]
    },
    {
     "name": "stdout",
     "output_type": "stream",
     "text": [
      "Epoch 26: train_acc_0.9107_train_loss_0.2212_val_acc_0.8571_val_loss_0.4767 epoch time 13.5880 seconds\n",
      "total time6.0 : 4.502591848373413\n"
     ]
    },
    {
     "name": "stderr",
     "output_type": "stream",
     "text": [
      "loss: 0.2310, accuracy: 0.9100: 100%|██████████| 1000/1000 [00:12<00:00, 82.13it/s]\n",
      "loss: 0.6461, accuracy: 0.7800: 100%|██████████| 158/158 [00:01<00:00, 148.42it/s]\n",
      "loss: 0.2756, accuracy: 0.8500:   2%|▏         | 16/1000 [00:00<00:11, 86.20it/s]"
     ]
    },
    {
     "name": "stdout",
     "output_type": "stream",
     "text": [
      "Epoch 27: train_acc_0.9127_train_loss_0.2189_val_acc_0.8596_val_loss_0.4675 epoch time 13.3751 seconds\n",
      "total time6.0 : 17.877665996551514\n"
     ]
    },
    {
     "name": "stderr",
     "output_type": "stream",
     "text": [
      "loss: 0.2286, accuracy: 0.9100: 100%|██████████| 1000/1000 [00:12<00:00, 81.72it/s]\n",
      "loss: 0.2495, accuracy: 0.8900: 100%|██████████| 158/158 [00:01<00:00, 148.87it/s]\n",
      "loss: 0.1614, accuracy: 0.9600:   2%|▏         | 16/1000 [00:00<00:11, 87.89it/s]"
     ]
    },
    {
     "name": "stdout",
     "output_type": "stream",
     "text": [
      "Epoch 28: train_acc_0.9132_train_loss_0.2155_val_acc_0.8605_val_loss_0.4624 epoch time 13.4318 seconds\n",
      "total time6.0 : 31.309505462646484\n"
     ]
    },
    {
     "name": "stderr",
     "output_type": "stream",
     "text": [
      "loss: 0.2954, accuracy: 0.9100: 100%|██████████| 1000/1000 [00:12<00:00, 81.97it/s]\n",
      "loss: 0.5136, accuracy: 0.8900: 100%|██████████| 158/158 [00:01<00:00, 149.14it/s]\n",
      "loss: 0.2024, accuracy: 0.8700:   2%|▏         | 16/1000 [00:00<00:11, 85.00it/s]"
     ]
    },
    {
     "name": "stdout",
     "output_type": "stream",
     "text": [
      "Epoch 29: train_acc_0.9162_train_loss_0.2100_val_acc_0.8592_val_loss_0.4928 epoch time 13.3950 seconds\n",
      "total time6.0 : 44.70453977584839\n"
     ]
    },
    {
     "name": "stderr",
     "output_type": "stream",
     "text": [
      "loss: 0.2229, accuracy: 0.9100: 100%|██████████| 1000/1000 [00:12<00:00, 81.15it/s]\n",
      "loss: 0.3634, accuracy: 0.9200: 100%|██████████| 158/158 [00:01<00:00, 151.76it/s]\n",
      "loss: 0.1475, accuracy: 0.9600:   2%|▏         | 16/1000 [00:00<00:11, 85.41it/s]"
     ]
    },
    {
     "name": "stdout",
     "output_type": "stream",
     "text": [
      "Epoch 30: train_acc_0.9172_train_loss_0.2063_val_acc_0.8598_val_loss_0.4866 epoch time 13.5480 seconds\n",
      "total time6.0 : 58.252490282058716\n"
     ]
    },
    {
     "name": "stderr",
     "output_type": "stream",
     "text": [
      "loss: 0.2557, accuracy: 0.8800: 100%|██████████| 1000/1000 [00:12<00:00, 81.03it/s]\n",
      "loss: 0.3239, accuracy: 0.8800: 100%|██████████| 158/158 [00:01<00:00, 145.11it/s]\n",
      "loss: 0.1591, accuracy: 0.9200:   2%|▏         | 16/1000 [00:00<00:11, 87.16it/s]"
     ]
    },
    {
     "name": "stdout",
     "output_type": "stream",
     "text": [
      "Epoch 31: train_acc_0.9180_train_loss_0.2026_val_acc_0.8588_val_loss_0.5028 epoch time 13.5676 seconds\n",
      "total time7.0 : 11.820077419281006\n"
     ]
    },
    {
     "name": "stderr",
     "output_type": "stream",
     "text": [
      "loss: 0.2920, accuracy: 0.8700: 100%|██████████| 1000/1000 [00:12<00:00, 81.44it/s]\n",
      "loss: 0.6105, accuracy: 0.9200: 100%|██████████| 158/158 [00:01<00:00, 149.14it/s]\n",
      "loss: 0.1415, accuracy: 0.9600:   2%|▏         | 16/1000 [00:00<00:11, 84.54it/s]"
     ]
    },
    {
     "name": "stdout",
     "output_type": "stream",
     "text": [
      "Epoch 32: train_acc_0.9190_train_loss_0.2000_val_acc_0.8558_val_loss_0.5002 epoch time 13.4720 seconds\n",
      "total time7.0 : 25.2920503616333\n"
     ]
    },
    {
     "name": "stderr",
     "output_type": "stream",
     "text": [
      "loss: 0.1838, accuracy: 0.9100: 100%|██████████| 1000/1000 [00:12<00:00, 82.33it/s]\n",
      "loss: 0.6252, accuracy: 0.8300: 100%|██████████| 158/158 [00:01<00:00, 147.89it/s]\n",
      "loss: 0.2091, accuracy: 0.8900:   2%|▏         | 16/1000 [00:00<00:11, 85.53it/s]"
     ]
    },
    {
     "name": "stdout",
     "output_type": "stream",
     "text": [
      "Epoch 33: train_acc_0.9203_train_loss_0.1949_val_acc_0.8602_val_loss_0.5134 epoch time 13.3475 seconds\n",
      "total time7.0 : 38.63958764076233\n"
     ]
    },
    {
     "name": "stderr",
     "output_type": "stream",
     "text": [
      "loss: 0.2098, accuracy: 0.8900: 100%|██████████| 1000/1000 [00:12<00:00, 81.16it/s]\n",
      "loss: 0.3704, accuracy: 0.8500: 100%|██████████| 158/158 [00:01<00:00, 152.06it/s]\n",
      "loss: 0.1424, accuracy: 0.9600:   2%|▏         | 16/1000 [00:00<00:11, 85.08it/s]"
     ]
    },
    {
     "name": "stdout",
     "output_type": "stream",
     "text": [
      "Epoch 34: train_acc_0.9215_train_loss_0.1933_val_acc_0.8580_val_loss_0.5140 epoch time 13.5352 seconds\n",
      "total time7.0 : 52.174771547317505\n"
     ]
    },
    {
     "name": "stderr",
     "output_type": "stream",
     "text": [
      "loss: 0.3254, accuracy: 0.8700: 100%|██████████| 1000/1000 [00:12<00:00, 81.30it/s]\n",
      "loss: 0.8879, accuracy: 0.8500: 100%|██████████| 158/158 [00:01<00:00, 145.49it/s]\n",
      "loss: 0.1860, accuracy: 0.9300:   2%|▏         | 16/1000 [00:00<00:11, 86.11it/s]"
     ]
    },
    {
     "name": "stdout",
     "output_type": "stream",
     "text": [
      "Epoch 35: train_acc_0.9219_train_loss_0.1913_val_acc_0.8581_val_loss_0.5082 epoch time 13.5219 seconds\n",
      "total time8.0 : 5.696648597717285\n"
     ]
    },
    {
     "name": "stderr",
     "output_type": "stream",
     "text": [
      "loss: 0.2305, accuracy: 0.8900: 100%|██████████| 1000/1000 [00:12<00:00, 82.88it/s]\n",
      "loss: 0.6005, accuracy: 0.8200: 100%|██████████| 158/158 [00:01<00:00, 150.41it/s]\n",
      "loss: 0.1812, accuracy: 0.9100:   2%|▏         | 16/1000 [00:00<00:11, 86.02it/s]"
     ]
    },
    {
     "name": "stdout",
     "output_type": "stream",
     "text": [
      "Epoch 36: train_acc_0.9242_train_loss_0.1861_val_acc_0.8566_val_loss_0.5423 epoch time 13.4716 seconds\n",
      "total time8.0 : 19.16828417778015\n"
     ]
    },
    {
     "name": "stderr",
     "output_type": "stream",
     "text": [
      "loss: 0.1638, accuracy: 0.9500: 100%|██████████| 1000/1000 [00:12<00:00, 81.93it/s]\n",
      "loss: 0.4361, accuracy: 0.8600: 100%|██████████| 158/158 [00:01<00:00, 149.25it/s]\n",
      "loss: 0.1465, accuracy: 0.9100:   2%|▏         | 17/1000 [00:00<00:11, 87.39it/s]"
     ]
    },
    {
     "name": "stdout",
     "output_type": "stream",
     "text": [
      "Epoch 37: train_acc_0.9239_train_loss_0.1849_val_acc_0.8595_val_loss_0.5313 epoch time 13.3989 seconds\n",
      "total time8.0 : 32.56716442108154\n"
     ]
    },
    {
     "name": "stderr",
     "output_type": "stream",
     "text": [
      "loss: 0.1599, accuracy: 0.9300: 100%|██████████| 1000/1000 [00:11<00:00, 83.65it/s]\n",
      "loss: 0.4940, accuracy: 0.8800: 100%|██████████| 158/158 [00:01<00:00, 148.14it/s]\n",
      "loss: 0.1564, accuracy: 0.9600:   2%|▏         | 16/1000 [00:00<00:11, 88.88it/s]"
     ]
    },
    {
     "name": "stdout",
     "output_type": "stream",
     "text": [
      "Epoch 38: train_acc_0.9255_train_loss_0.1811_val_acc_0.8602_val_loss_0.5523 epoch time 13.3472 seconds\n",
      "total time8.0 : 45.914392948150635\n"
     ]
    },
    {
     "name": "stderr",
     "output_type": "stream",
     "text": [
      "loss: 0.1756, accuracy: 0.9100: 100%|██████████| 1000/1000 [00:12<00:00, 81.90it/s]\n",
      "loss: 0.6025, accuracy: 0.8300: 100%|██████████| 158/158 [00:01<00:00, 150.00it/s]\n",
      "loss: 0.1656, accuracy: 0.9300:   2%|▏         | 16/1000 [00:00<00:11, 86.82it/s]"
     ]
    },
    {
     "name": "stdout",
     "output_type": "stream",
     "text": [
      "Epoch 39: train_acc_0.9262_train_loss_0.1777_val_acc_0.8569_val_loss_0.5508 epoch time 13.3953 seconds\n",
      "total time8.0 : 59.309704542160034\n"
     ]
    },
    {
     "name": "stderr",
     "output_type": "stream",
     "text": [
      "loss: 0.1698, accuracy: 0.9500: 100%|██████████| 1000/1000 [00:12<00:00, 81.34it/s]\n",
      "loss: 0.8767, accuracy: 0.7900: 100%|██████████| 158/158 [00:01<00:00, 149.42it/s]\n",
      "loss: 0.1091, accuracy: 0.9600:   2%|▏         | 16/1000 [00:00<00:11, 87.48it/s]"
     ]
    },
    {
     "name": "stdout",
     "output_type": "stream",
     "text": [
      "Epoch 40: train_acc_0.9274_train_loss_0.1759_val_acc_0.8540_val_loss_0.5703 epoch time 13.4838 seconds\n",
      "total time9.0 : 12.7935209274292\n"
     ]
    },
    {
     "name": "stderr",
     "output_type": "stream",
     "text": [
      "loss: 0.1908, accuracy: 0.9200: 100%|██████████| 1000/1000 [00:11<00:00, 83.17it/s]\n",
      "loss: 0.4364, accuracy: 0.8500: 100%|██████████| 158/158 [00:01<00:00, 155.10it/s]\n",
      "loss: 0.2223, accuracy: 0.9000:   2%|▏         | 16/1000 [00:00<00:11, 87.13it/s]"
     ]
    },
    {
     "name": "stdout",
     "output_type": "stream",
     "text": [
      "Epoch 41: train_acc_0.9291_train_loss_0.1718_val_acc_0.8582_val_loss_0.5866 epoch time 13.3825 seconds\n",
      "total time9.0 : 26.175990104675293\n"
     ]
    },
    {
     "name": "stderr",
     "output_type": "stream",
     "text": [
      "loss: 0.0869, accuracy: 0.9700: 100%|██████████| 1000/1000 [00:12<00:00, 81.32it/s]\n",
      "loss: 0.4537, accuracy: 0.8900: 100%|██████████| 158/158 [00:01<00:00, 144.29it/s]\n",
      "loss: 0.2016, accuracy: 0.9200:   2%|▏         | 16/1000 [00:00<00:11, 84.34it/s]"
     ]
    },
    {
     "name": "stdout",
     "output_type": "stream",
     "text": [
      "Epoch 42: train_acc_0.9296_train_loss_0.1696_val_acc_0.8558_val_loss_0.5858 epoch time 13.5309 seconds\n",
      "total time9.0 : 39.70693516731262\n"
     ]
    },
    {
     "name": "stderr",
     "output_type": "stream",
     "text": [
      "loss: 0.1161, accuracy: 0.9400: 100%|██████████| 1000/1000 [00:12<00:00, 81.81it/s]\n",
      "loss: 0.7945, accuracy: 0.8200: 100%|██████████| 158/158 [00:01<00:00, 147.47it/s]\n",
      "loss: 0.1688, accuracy: 0.9200:   2%|▏         | 16/1000 [00:00<00:11, 84.94it/s]"
     ]
    },
    {
     "name": "stdout",
     "output_type": "stream",
     "text": [
      "Epoch 43: train_acc_0.9302_train_loss_0.1688_val_acc_0.8560_val_loss_0.6022 epoch time 13.4279 seconds\n",
      "total time9.0 : 53.13483381271362\n"
     ]
    },
    {
     "name": "stderr",
     "output_type": "stream",
     "text": [
      "loss: 0.1579, accuracy: 0.9400: 100%|██████████| 1000/1000 [00:12<00:00, 81.76it/s]\n",
      "loss: 0.5176, accuracy: 0.9000: 100%|██████████| 158/158 [00:01<00:00, 149.57it/s]\n",
      "loss: 0.1382, accuracy: 0.9500:   2%|▏         | 16/1000 [00:00<00:11, 84.33it/s]"
     ]
    },
    {
     "name": "stdout",
     "output_type": "stream",
     "text": [
      "Epoch 44: train_acc_0.9307_train_loss_0.1664_val_acc_0.8541_val_loss_0.6081 epoch time 13.4216 seconds\n",
      "total time10.0 : 6.55643892288208\n"
     ]
    },
    {
     "name": "stderr",
     "output_type": "stream",
     "text": [
      "loss: 0.0832, accuracy: 0.9700: 100%|██████████| 1000/1000 [00:11<00:00, 82.57it/s]\n",
      "loss: 1.0594, accuracy: 0.8200: 100%|██████████| 158/158 [00:01<00:00, 148.48it/s]\n",
      "loss: 0.1302, accuracy: 0.9400:   2%|▏         | 16/1000 [00:00<00:11, 85.24it/s]"
     ]
    },
    {
     "name": "stdout",
     "output_type": "stream",
     "text": [
      "Epoch 45: train_acc_0.9317_train_loss_0.1648_val_acc_0.8472_val_loss_0.6181 epoch time 13.3582 seconds\n",
      "total time10.0 : 19.914639949798584\n"
     ]
    },
    {
     "name": "stderr",
     "output_type": "stream",
     "text": [
      "loss: 0.1429, accuracy: 0.9400: 100%|██████████| 1000/1000 [00:12<00:00, 81.06it/s]\n",
      "loss: 0.8698, accuracy: 0.7900: 100%|██████████| 158/158 [00:01<00:00, 147.76it/s]\n",
      "loss: 0.1192, accuracy: 0.9700:   2%|▏         | 16/1000 [00:00<00:11, 85.68it/s]"
     ]
    },
    {
     "name": "stdout",
     "output_type": "stream",
     "text": [
      "Epoch 46: train_acc_0.9328_train_loss_0.1610_val_acc_0.8509_val_loss_0.6281 epoch time 13.5411 seconds\n",
      "total time10.0 : 33.4557683467865\n"
     ]
    },
    {
     "name": "stderr",
     "output_type": "stream",
     "text": [
      "loss: 0.1783, accuracy: 0.9400: 100%|██████████| 1000/1000 [00:12<00:00, 82.01it/s]\n",
      "loss: 0.6239, accuracy: 0.8400: 100%|██████████| 158/158 [00:01<00:00, 147.93it/s]\n",
      "loss: 0.2158, accuracy: 0.9100:   2%|▏         | 16/1000 [00:00<00:11, 86.29it/s]"
     ]
    },
    {
     "name": "stdout",
     "output_type": "stream",
     "text": [
      "Epoch 47: train_acc_0.9342_train_loss_0.1607_val_acc_0.8570_val_loss_0.6329 epoch time 13.3975 seconds\n",
      "total time10.0 : 46.85328984260559\n"
     ]
    },
    {
     "name": "stderr",
     "output_type": "stream",
     "text": [
      "loss: 0.1026, accuracy: 0.9700: 100%|██████████| 1000/1000 [00:12<00:00, 80.96it/s]\n",
      "loss: 0.7288, accuracy: 0.8800: 100%|██████████| 158/158 [00:01<00:00, 149.72it/s]\n",
      "loss: 0.1456, accuracy: 0.9300:   2%|▏         | 16/1000 [00:00<00:11, 85.99it/s]"
     ]
    },
    {
     "name": "stdout",
     "output_type": "stream",
     "text": [
      "Epoch 48: train_acc_0.9356_train_loss_0.1549_val_acc_0.8519_val_loss_0.6755 epoch time 13.5419 seconds\n",
      "total time11.0 : 0.3951985836029053\n"
     ]
    },
    {
     "name": "stderr",
     "output_type": "stream",
     "text": [
      "loss: 0.1656, accuracy: 0.9400: 100%|██████████| 1000/1000 [00:12<00:00, 81.49it/s]\n",
      "loss: 0.4381, accuracy: 0.8700: 100%|██████████| 158/158 [00:01<00:00, 150.00it/s]\n",
      "loss: 0.1999, accuracy: 0.8900:   2%|▏         | 16/1000 [00:00<00:11, 85.18it/s]"
     ]
    },
    {
     "name": "stdout",
     "output_type": "stream",
     "text": [
      "Epoch 49: train_acc_0.9343_train_loss_0.1570_val_acc_0.8532_val_loss_0.6428 epoch time 13.4596 seconds\n",
      "total time11.0 : 13.854809999465942\n"
     ]
    },
    {
     "name": "stderr",
     "output_type": "stream",
     "text": [
      "loss: 0.1609, accuracy: 0.9300: 100%|██████████| 1000/1000 [00:11<00:00, 83.01it/s]\n",
      "loss: 0.7039, accuracy: 0.8100: 100%|██████████| 158/158 [00:01<00:00, 154.15it/s]\n",
      "loss: 0.0989, accuracy: 0.9600:   2%|▏         | 16/1000 [00:00<00:11, 85.13it/s]"
     ]
    },
    {
     "name": "stdout",
     "output_type": "stream",
     "text": [
      "Epoch 50: train_acc_0.9355_train_loss_0.1564_val_acc_0.8513_val_loss_0.6682 epoch time 13.4135 seconds\n",
      "total time11.0 : 27.26832866668701\n"
     ]
    },
    {
     "name": "stderr",
     "output_type": "stream",
     "text": [
      "loss: 0.1284, accuracy: 0.9300: 100%|██████████| 1000/1000 [00:12<00:00, 81.24it/s]\n",
      "loss: 1.2234, accuracy: 0.8400: 100%|██████████| 158/158 [00:01<00:00, 147.92it/s]\n",
      "loss: 0.1305, accuracy: 0.9300:   2%|▏         | 16/1000 [00:00<00:11, 86.74it/s]"
     ]
    },
    {
     "name": "stdout",
     "output_type": "stream",
     "text": [
      "Epoch 51: train_acc_0.9368_train_loss_0.1521_val_acc_0.8516_val_loss_0.6779 epoch time 13.5120 seconds\n",
      "total time11.0 : 40.780303955078125\n"
     ]
    },
    {
     "name": "stderr",
     "output_type": "stream",
     "text": [
      "loss: 0.1394, accuracy: 0.9600: 100%|██████████| 1000/1000 [00:12<00:00, 81.27it/s]\n",
      "loss: 0.3077, accuracy: 0.9100: 100%|██████████| 158/158 [00:01<00:00, 149.43it/s]\n",
      "loss: 0.0754, accuracy: 0.9800:   2%|▏         | 16/1000 [00:00<00:11, 86.65it/s]"
     ]
    },
    {
     "name": "stdout",
     "output_type": "stream",
     "text": [
      "Epoch 52: train_acc_0.9380_train_loss_0.1503_val_acc_0.8546_val_loss_0.6761 epoch time 13.4942 seconds\n",
      "total time11.0 : 54.27452635765076\n"
     ]
    },
    {
     "name": "stderr",
     "output_type": "stream",
     "text": [
      "loss: 0.1745, accuracy: 0.9300: 100%|██████████| 1000/1000 [00:12<00:00, 81.70it/s]\n",
      "loss: 0.8034, accuracy: 0.8200: 100%|██████████| 158/158 [00:01<00:00, 145.49it/s]\n",
      "loss: 0.1365, accuracy: 0.9200:   2%|▏         | 16/1000 [00:00<00:11, 85.71it/s]"
     ]
    },
    {
     "name": "stdout",
     "output_type": "stream",
     "text": [
      "Epoch 53: train_acc_0.9382_train_loss_0.1489_val_acc_0.8481_val_loss_0.7117 epoch time 13.4613 seconds\n",
      "total time12.0 : 7.735840320587158\n"
     ]
    },
    {
     "name": "stderr",
     "output_type": "stream",
     "text": [
      "loss: 0.0949, accuracy: 0.9700: 100%|██████████| 1000/1000 [00:12<00:00, 81.44it/s]\n",
      "loss: 0.5280, accuracy: 0.9000: 100%|██████████| 158/158 [00:01<00:00, 149.42it/s]\n",
      "loss: 0.1238, accuracy: 0.9400:   2%|▏         | 16/1000 [00:00<00:11, 85.62it/s]"
     ]
    },
    {
     "name": "stdout",
     "output_type": "stream",
     "text": [
      "Epoch 54: train_acc_0.9399_train_loss_0.1445_val_acc_0.8557_val_loss_0.6700 epoch time 13.4711 seconds\n",
      "total time12.0 : 21.20691418647766\n"
     ]
    },
    {
     "name": "stderr",
     "output_type": "stream",
     "text": [
      "loss: 0.2544, accuracy: 0.8700: 100%|██████████| 1000/1000 [00:12<00:00, 82.53it/s]\n",
      "loss: 0.3863, accuracy: 0.8700: 100%|██████████| 158/158 [00:01<00:00, 148.29it/s]\n",
      "loss: 0.1440, accuracy: 0.9400:   2%|▏         | 16/1000 [00:00<00:11, 84.51it/s]"
     ]
    },
    {
     "name": "stdout",
     "output_type": "stream",
     "text": [
      "Epoch 55: train_acc_0.9395_train_loss_0.1458_val_acc_0.8510_val_loss_0.6843 epoch time 13.4877 seconds\n",
      "total time12.0 : 34.69462466239929\n"
     ]
    },
    {
     "name": "stderr",
     "output_type": "stream",
     "text": [
      "loss: 0.1081, accuracy: 0.9700: 100%|██████████| 1000/1000 [00:11<00:00, 83.27it/s]\n",
      "loss: 0.4356, accuracy: 0.9300: 100%|██████████| 158/158 [00:01<00:00, 147.49it/s]\n",
      "loss: 0.1059, accuracy: 0.9600:   2%|▏         | 16/1000 [00:00<00:11, 84.04it/s]"
     ]
    },
    {
     "name": "stdout",
     "output_type": "stream",
     "text": [
      "Epoch 56: train_acc_0.9407_train_loss_0.1433_val_acc_0.8515_val_loss_0.7137 epoch time 13.3606 seconds\n",
      "total time12.0 : 48.055217027664185\n"
     ]
    },
    {
     "name": "stderr",
     "output_type": "stream",
     "text": [
      "loss: 0.1902, accuracy: 0.9300: 100%|██████████| 1000/1000 [00:12<00:00, 81.62it/s]\n",
      "loss: 0.5114, accuracy: 0.8700: 100%|██████████| 158/158 [00:01<00:00, 149.37it/s]\n",
      "loss: 0.1639, accuracy: 0.9100:   2%|▏         | 16/1000 [00:00<00:11, 85.78it/s]"
     ]
    },
    {
     "name": "stdout",
     "output_type": "stream",
     "text": [
      "Epoch 57: train_acc_0.9405_train_loss_0.1442_val_acc_0.8514_val_loss_0.7231 epoch time 13.4422 seconds\n",
      "total time13.0 : 1.4974381923675537\n"
     ]
    },
    {
     "name": "stderr",
     "output_type": "stream",
     "text": [
      "loss: 0.2014, accuracy: 0.9200: 100%|██████████| 1000/1000 [00:12<00:00, 82.27it/s]\n",
      "loss: 0.2786, accuracy: 0.9100: 100%|██████████| 158/158 [00:01<00:00, 147.54it/s]\n",
      "loss: 0.0669, accuracy: 0.9800:   2%|▏         | 16/1000 [00:00<00:11, 88.84it/s]"
     ]
    },
    {
     "name": "stdout",
     "output_type": "stream",
     "text": [
      "Epoch 58: train_acc_0.9412_train_loss_0.1412_val_acc_0.8522_val_loss_0.7115 epoch time 13.3605 seconds\n",
      "total time13.0 : 14.857943058013916\n"
     ]
    },
    {
     "name": "stderr",
     "output_type": "stream",
     "text": [
      "loss: 0.1395, accuracy: 0.9400: 100%|██████████| 1000/1000 [00:12<00:00, 81.76it/s]\n",
      "loss: 0.5487, accuracy: 0.8500: 100%|██████████| 158/158 [00:01<00:00, 148.93it/s]\n",
      "loss: 0.0883, accuracy: 0.9700:   2%|▏         | 16/1000 [00:00<00:11, 86.16it/s]"
     ]
    },
    {
     "name": "stdout",
     "output_type": "stream",
     "text": [
      "Epoch 59: train_acc_0.9434_train_loss_0.1372_val_acc_0.8558_val_loss_0.7386 epoch time 13.4247 seconds\n",
      "total time13.0 : 28.282690286636353\n"
     ]
    },
    {
     "name": "stderr",
     "output_type": "stream",
     "text": [
      "loss: 0.2754, accuracy: 0.8700: 100%|██████████| 1000/1000 [00:12<00:00, 82.05it/s]\n",
      "loss: 1.0060, accuracy: 0.8700: 100%|██████████| 158/158 [00:01<00:00, 148.21it/s]\n",
      "loss: 0.1565, accuracy: 0.9500:   2%|▏         | 16/1000 [00:00<00:11, 83.02it/s]"
     ]
    },
    {
     "name": "stdout",
     "output_type": "stream",
     "text": [
      "Epoch 60: train_acc_0.9438_train_loss_0.1351_val_acc_0.8519_val_loss_0.7643 epoch time 13.3880 seconds\n",
      "total time13.0 : 41.670676946640015\n"
     ]
    },
    {
     "name": "stderr",
     "output_type": "stream",
     "text": [
      "loss: 0.1707, accuracy: 0.9300: 100%|██████████| 1000/1000 [00:12<00:00, 82.47it/s]\n",
      "loss: 0.9057, accuracy: 0.8300: 100%|██████████| 158/158 [00:01<00:00, 140.39it/s]\n",
      "loss: 0.1339, accuracy: 0.9500:   2%|▏         | 16/1000 [00:00<00:11, 85.99it/s]"
     ]
    },
    {
     "name": "stdout",
     "output_type": "stream",
     "text": [
      "Epoch 61: train_acc_0.9440_train_loss_0.1350_val_acc_0.8508_val_loss_0.7576 epoch time 13.5754 seconds\n",
      "total time13.0 : 55.246124029159546\n"
     ]
    },
    {
     "name": "stderr",
     "output_type": "stream",
     "text": [
      "loss: 0.2920, accuracy: 0.8900: 100%|██████████| 1000/1000 [00:12<00:00, 80.89it/s]\n",
      "loss: 0.3529, accuracy: 0.9200: 100%|██████████| 158/158 [00:01<00:00, 153.55it/s]\n",
      "loss: 0.0669, accuracy: 0.9900:   2%|▏         | 16/1000 [00:00<00:11, 89.34it/s]"
     ]
    },
    {
     "name": "stdout",
     "output_type": "stream",
     "text": [
      "Epoch 62: train_acc_0.9435_train_loss_0.1362_val_acc_0.8492_val_loss_0.7750 epoch time 13.5741 seconds\n",
      "total time14.0 : 8.820215702056885\n"
     ]
    },
    {
     "name": "stderr",
     "output_type": "stream",
     "text": [
      "loss: 0.1722, accuracy: 0.9200: 100%|██████████| 1000/1000 [00:12<00:00, 81.97it/s]\n",
      "loss: 0.7540, accuracy: 0.8700: 100%|██████████| 158/158 [00:01<00:00, 148.64it/s]\n",
      "loss: 0.1185, accuracy: 0.9600:   2%|▏         | 16/1000 [00:00<00:11, 86.72it/s]"
     ]
    },
    {
     "name": "stdout",
     "output_type": "stream",
     "text": [
      "Epoch 63: train_acc_0.9448_train_loss_0.1340_val_acc_0.8459_val_loss_0.7816 epoch time 13.3963 seconds\n",
      "total time14.0 : 22.216465711593628\n"
     ]
    },
    {
     "name": "stderr",
     "output_type": "stream",
     "text": [
      "loss: 0.1182, accuracy: 0.9400: 100%|██████████| 1000/1000 [00:12<00:00, 81.31it/s]\n",
      "loss: 0.9449, accuracy: 0.8700: 100%|██████████| 158/158 [00:01<00:00, 148.52it/s]\n",
      "loss: 0.1064, accuracy: 0.9500:   2%|▏         | 16/1000 [00:00<00:11, 86.65it/s]"
     ]
    },
    {
     "name": "stdout",
     "output_type": "stream",
     "text": [
      "Epoch 64: train_acc_0.9447_train_loss_0.1338_val_acc_0.8478_val_loss_0.7929 epoch time 13.4958 seconds\n",
      "total time14.0 : 35.71228861808777\n"
     ]
    },
    {
     "name": "stderr",
     "output_type": "stream",
     "text": [
      "loss: 0.1491, accuracy: 0.8800: 100%|██████████| 1000/1000 [00:11<00:00, 86.08it/s]\n",
      "loss: 0.6588, accuracy: 0.8800: 100%|██████████| 158/158 [00:01<00:00, 145.31it/s]\n",
      "loss: 0.1003, accuracy: 0.9600:   2%|▏         | 16/1000 [00:00<00:11, 84.97it/s]"
     ]
    },
    {
     "name": "stdout",
     "output_type": "stream",
     "text": [
      "Epoch 65: train_acc_0.9468_train_loss_0.1291_val_acc_0.8476_val_loss_0.7948 epoch time 13.3990 seconds\n",
      "total time14.0 : 49.111260652542114\n"
     ]
    },
    {
     "name": "stderr",
     "output_type": "stream",
     "text": [
      "loss: 0.0898, accuracy: 0.9600: 100%|██████████| 1000/1000 [00:12<00:00, 81.33it/s]\n",
      "loss: 0.7695, accuracy: 0.9200: 100%|██████████| 158/158 [00:01<00:00, 149.38it/s]\n",
      "loss: 0.0852, accuracy: 0.9600:   2%|▏         | 16/1000 [00:00<00:11, 86.25it/s]"
     ]
    },
    {
     "name": "stdout",
     "output_type": "stream",
     "text": [
      "Epoch 66: train_acc_0.9461_train_loss_0.1311_val_acc_0.8494_val_loss_0.8110 epoch time 13.4885 seconds\n",
      "total time15.0 : 2.599724531173706\n"
     ]
    },
    {
     "name": "stderr",
     "output_type": "stream",
     "text": [
      "loss: 0.1200, accuracy: 0.9500: 100%|██████████| 1000/1000 [00:12<00:00, 81.96it/s]\n",
      "loss: 0.8367, accuracy: 0.8800: 100%|██████████| 158/158 [00:01<00:00, 152.69it/s]\n",
      "loss: 0.1503, accuracy: 0.9300:   2%|▏         | 16/1000 [00:00<00:11, 86.27it/s]"
     ]
    },
    {
     "name": "stdout",
     "output_type": "stream",
     "text": [
      "Epoch 67: train_acc_0.9471_train_loss_0.1268_val_acc_0.8472_val_loss_0.8332 epoch time 13.4052 seconds\n",
      "total time15.0 : 16.00492525100708\n"
     ]
    },
    {
     "name": "stderr",
     "output_type": "stream",
     "text": [
      "loss: 0.1449, accuracy: 0.9300: 100%|██████████| 1000/1000 [00:12<00:00, 81.93it/s]\n",
      "loss: 0.8098, accuracy: 0.8300: 100%|██████████| 158/158 [00:01<00:00, 148.18it/s]\n",
      "loss: 0.1802, accuracy: 0.9300:   2%|▏         | 16/1000 [00:00<00:11, 88.49it/s]"
     ]
    },
    {
     "name": "stdout",
     "output_type": "stream",
     "text": [
      "Epoch 68: train_acc_0.9478_train_loss_0.1298_val_acc_0.8520_val_loss_0.7949 epoch time 13.4056 seconds\n",
      "total time15.0 : 29.410504579544067\n"
     ]
    },
    {
     "name": "stderr",
     "output_type": "stream",
     "text": [
      "loss: 0.2157, accuracy: 0.9100: 100%|██████████| 1000/1000 [00:12<00:00, 81.78it/s]\n",
      "loss: 0.6893, accuracy: 0.8400: 100%|██████████| 158/158 [00:01<00:00, 148.96it/s]\n",
      "loss: 0.0837, accuracy: 0.9600:   2%|▏         | 16/1000 [00:00<00:11, 87.28it/s]"
     ]
    },
    {
     "name": "stdout",
     "output_type": "stream",
     "text": [
      "Epoch 69: train_acc_0.9479_train_loss_0.1256_val_acc_0.8513_val_loss_0.8217 epoch time 13.4216 seconds\n",
      "total time15.0 : 42.83213257789612\n"
     ]
    },
    {
     "name": "stderr",
     "output_type": "stream",
     "text": [
      "loss: 0.2082, accuracy: 0.9000: 100%|██████████| 1000/1000 [00:12<00:00, 81.90it/s]\n",
      "loss: 0.5035, accuracy: 0.8700: 100%|██████████| 158/158 [00:01<00:00, 153.26it/s]\n",
      "loss: 0.1343, accuracy: 0.9300:   2%|▏         | 16/1000 [00:00<00:11, 83.29it/s]"
     ]
    },
    {
     "name": "stdout",
     "output_type": "stream",
     "text": [
      "Epoch 70: train_acc_0.9470_train_loss_0.1276_val_acc_0.8496_val_loss_0.8382 epoch time 13.4254 seconds\n",
      "total time15.0 : 56.25752282142639\n"
     ]
    },
    {
     "name": "stderr",
     "output_type": "stream",
     "text": [
      "loss: 0.1225, accuracy: 0.9500: 100%|██████████| 1000/1000 [00:12<00:00, 81.30it/s]\n",
      "loss: 0.9466, accuracy: 0.8500: 100%|██████████| 158/158 [00:01<00:00, 145.67it/s]\n",
      "loss: 0.1104, accuracy: 0.9500:   2%|▏         | 16/1000 [00:00<00:11, 86.52it/s]"
     ]
    },
    {
     "name": "stdout",
     "output_type": "stream",
     "text": [
      "Epoch 71: train_acc_0.9493_train_loss_0.1219_val_acc_0.8492_val_loss_0.8438 epoch time 13.5238 seconds\n",
      "total time16.0 : 9.781336307525635\n"
     ]
    },
    {
     "name": "stderr",
     "output_type": "stream",
     "text": [
      "loss: 0.1298, accuracy: 0.9500: 100%|██████████| 1000/1000 [00:12<00:00, 81.32it/s]\n",
      "loss: 1.1449, accuracy: 0.8300: 100%|██████████| 158/158 [00:01<00:00, 147.56it/s]\n",
      "loss: 0.1137, accuracy: 0.9600:   2%|▏         | 16/1000 [00:00<00:11, 84.38it/s]"
     ]
    },
    {
     "name": "stdout",
     "output_type": "stream",
     "text": [
      "Epoch 72: train_acc_0.9507_train_loss_0.1212_val_acc_0.8463_val_loss_0.9200 epoch time 13.5021 seconds\n",
      "total time16.0 : 23.283405303955078\n"
     ]
    },
    {
     "name": "stderr",
     "output_type": "stream",
     "text": [
      "loss: 0.1085, accuracy: 0.9600: 100%|██████████| 1000/1000 [00:12<00:00, 81.11it/s]\n",
      "loss: 1.1787, accuracy: 0.8700: 100%|██████████| 158/158 [00:01<00:00, 150.42it/s]\n",
      "loss: 0.1324, accuracy: 0.9500:   2%|▏         | 16/1000 [00:00<00:11, 87.22it/s]"
     ]
    },
    {
     "name": "stdout",
     "output_type": "stream",
     "text": [
      "Epoch 73: train_acc_0.9495_train_loss_0.1231_val_acc_0.8448_val_loss_0.8947 epoch time 13.5139 seconds\n",
      "total time16.0 : 36.797308683395386\n"
     ]
    },
    {
     "name": "stderr",
     "output_type": "stream",
     "text": [
      "loss: 0.0706, accuracy: 0.9800: 100%|██████████| 1000/1000 [00:12<00:00, 82.11it/s]\n",
      "loss: 0.8585, accuracy: 0.8900: 100%|██████████| 158/158 [00:01<00:00, 146.19it/s]\n",
      "loss: 0.1781, accuracy: 0.9000:   2%|▏         | 16/1000 [00:00<00:11, 84.81it/s]"
     ]
    },
    {
     "name": "stdout",
     "output_type": "stream",
     "text": [
      "Epoch 74: train_acc_0.9512_train_loss_0.1201_val_acc_0.8512_val_loss_0.8649 epoch time 13.3973 seconds\n",
      "total time16.0 : 50.194628953933716\n"
     ]
    },
    {
     "name": "stderr",
     "output_type": "stream",
     "text": [
      "loss: 0.1362, accuracy: 0.9300: 100%|██████████| 1000/1000 [00:12<00:00, 81.06it/s]\n",
      "loss: 1.0452, accuracy: 0.8500: 100%|██████████| 158/158 [00:01<00:00, 145.85it/s]\n",
      "loss: 0.2058, accuracy: 0.9000:   2%|▏         | 16/1000 [00:00<00:11, 85.84it/s]"
     ]
    },
    {
     "name": "stdout",
     "output_type": "stream",
     "text": [
      "Epoch 75: train_acc_0.9506_train_loss_0.1198_val_acc_0.8502_val_loss_0.8843 epoch time 13.5568 seconds\n",
      "total time17.0 : 3.751458168029785\n"
     ]
    },
    {
     "name": "stderr",
     "output_type": "stream",
     "text": [
      "loss: 0.2172, accuracy: 0.9200: 100%|██████████| 1000/1000 [00:12<00:00, 81.07it/s]\n",
      "loss: 0.5102, accuracy: 0.9000: 100%|██████████| 158/158 [00:01<00:00, 149.95it/s]\n",
      "loss: 0.0410, accuracy: 0.9900:   2%|▏         | 16/1000 [00:00<00:11, 86.20it/s]"
     ]
    },
    {
     "name": "stdout",
     "output_type": "stream",
     "text": [
      "Epoch 76: train_acc_0.9518_train_loss_0.1173_val_acc_0.8486_val_loss_0.8755 epoch time 13.5240 seconds\n",
      "total time17.0 : 17.27544665336609\n"
     ]
    },
    {
     "name": "stderr",
     "output_type": "stream",
     "text": [
      "loss: 0.1138, accuracy: 0.9600: 100%|██████████| 1000/1000 [00:12<00:00, 81.85it/s]\n",
      "loss: 1.0543, accuracy: 0.8100: 100%|██████████| 158/158 [00:01<00:00, 148.07it/s]\n",
      "loss: 0.1377, accuracy: 0.9700:   2%|▏         | 17/1000 [00:00<00:10, 91.08it/s]"
     ]
    },
    {
     "name": "stdout",
     "output_type": "stream",
     "text": [
      "Epoch 77: train_acc_0.9514_train_loss_0.1194_val_acc_0.8465_val_loss_0.9104 epoch time 13.4217 seconds\n",
      "total time17.0 : 30.69714641571045\n"
     ]
    },
    {
     "name": "stderr",
     "output_type": "stream",
     "text": [
      "loss: 0.1114, accuracy: 0.9400: 100%|██████████| 1000/1000 [00:12<00:00, 83.89it/s]\n",
      "loss: 0.8513, accuracy: 0.8500: 100%|██████████| 158/158 [00:01<00:00, 148.20it/s]\n",
      "loss: 0.1319, accuracy: 0.9200:   2%|▏         | 16/1000 [00:00<00:11, 82.97it/s]"
     ]
    },
    {
     "name": "stdout",
     "output_type": "stream",
     "text": [
      "Epoch 78: train_acc_0.9506_train_loss_0.1216_val_acc_0.8490_val_loss_0.8885 epoch time 13.5068 seconds\n",
      "total time17.0 : 44.203959941864014\n"
     ]
    },
    {
     "name": "stderr",
     "output_type": "stream",
     "text": [
      "loss: 0.0827, accuracy: 0.9600: 100%|██████████| 1000/1000 [00:12<00:00, 81.50it/s]\n",
      "loss: 0.5675, accuracy: 0.8700: 100%|██████████| 158/158 [00:01<00:00, 147.70it/s]\n",
      "loss: 0.1216, accuracy: 0.9500:   2%|▏         | 16/1000 [00:00<00:11, 84.93it/s]"
     ]
    },
    {
     "name": "stdout",
     "output_type": "stream",
     "text": [
      "Epoch 79: train_acc_0.9542_train_loss_0.1126_val_acc_0.8480_val_loss_0.9008 epoch time 13.4758 seconds\n",
      "total time17.0 : 57.67972016334534\n"
     ]
    },
    {
     "name": "stderr",
     "output_type": "stream",
     "text": [
      "loss: 0.2134, accuracy: 0.9500: 100%|██████████| 1000/1000 [00:12<00:00, 81.39it/s]\n",
      "loss: 1.4226, accuracy: 0.7800: 100%|██████████| 158/158 [00:01<00:00, 147.16it/s]\n",
      "loss: 0.1344, accuracy: 0.9500:   2%|▏         | 16/1000 [00:00<00:11, 86.13it/s]"
     ]
    },
    {
     "name": "stdout",
     "output_type": "stream",
     "text": [
      "Epoch 80: train_acc_0.9521_train_loss_0.1173_val_acc_0.8463_val_loss_0.9487 epoch time 13.4929 seconds\n",
      "total time18.0 : 11.172642469406128\n"
     ]
    },
    {
     "name": "stderr",
     "output_type": "stream",
     "text": [
      "loss: 0.1277, accuracy: 0.9600: 100%|██████████| 1000/1000 [00:12<00:00, 81.93it/s]\n",
      "loss: 0.6202, accuracy: 0.8800: 100%|██████████| 158/158 [00:01<00:00, 148.36it/s]\n",
      "loss: 0.0915, accuracy: 0.9600:   2%|▏         | 16/1000 [00:00<00:11, 88.90it/s]"
     ]
    },
    {
     "name": "stdout",
     "output_type": "stream",
     "text": [
      "Epoch 81: train_acc_0.9528_train_loss_0.1154_val_acc_0.8511_val_loss_0.9084 epoch time 13.4044 seconds\n",
      "total time18.0 : 24.57701873779297\n"
     ]
    },
    {
     "name": "stderr",
     "output_type": "stream",
     "text": [
      "loss: 0.2969, accuracy: 0.9300: 100%|██████████| 1000/1000 [00:12<00:00, 81.86it/s]\n",
      "loss: 0.5242, accuracy: 0.8600: 100%|██████████| 158/158 [00:01<00:00, 147.17it/s]\n",
      "loss: 0.0859, accuracy: 0.9600:   2%|▏         | 16/1000 [00:00<00:11, 87.03it/s]"
     ]
    },
    {
     "name": "stdout",
     "output_type": "stream",
     "text": [
      "Epoch 82: train_acc_0.9536_train_loss_0.1152_val_acc_0.8472_val_loss_0.9609 epoch time 13.4234 seconds\n",
      "total time18.0 : 38.00045561790466\n"
     ]
    },
    {
     "name": "stderr",
     "output_type": "stream",
     "text": [
      "loss: 0.1578, accuracy: 0.9200: 100%|██████████| 1000/1000 [00:12<00:00, 82.46it/s]\n",
      "loss: 0.4397, accuracy: 0.9000: 100%|██████████| 158/158 [00:01<00:00, 149.45it/s]\n",
      "loss: 0.1373, accuracy: 0.9400:   2%|▏         | 16/1000 [00:00<00:11, 85.79it/s]"
     ]
    },
    {
     "name": "stdout",
     "output_type": "stream",
     "text": [
      "Epoch 83: train_acc_0.9536_train_loss_0.1130_val_acc_0.8468_val_loss_0.9600 epoch time 13.3185 seconds\n",
      "total time18.0 : 51.318907499313354\n"
     ]
    },
    {
     "name": "stderr",
     "output_type": "stream",
     "text": [
      "loss: 0.1248, accuracy: 0.9500: 100%|██████████| 1000/1000 [00:12<00:00, 81.22it/s]\n",
      "loss: 1.1543, accuracy: 0.8300: 100%|██████████| 158/158 [00:01<00:00, 147.07it/s]\n",
      "loss: 0.1408, accuracy: 0.9400:   2%|▏         | 16/1000 [00:00<00:11, 85.62it/s]"
     ]
    },
    {
     "name": "stdout",
     "output_type": "stream",
     "text": [
      "Epoch 84: train_acc_0.9522_train_loss_0.1173_val_acc_0.8427_val_loss_0.9392 epoch time 13.5212 seconds\n",
      "total time19.0 : 4.84012246131897\n"
     ]
    },
    {
     "name": "stderr",
     "output_type": "stream",
     "text": [
      "loss: 0.0722, accuracy: 0.9700: 100%|██████████| 1000/1000 [00:12<00:00, 81.63it/s]\n",
      "loss: 1.1641, accuracy: 0.8900: 100%|██████████| 158/158 [00:01<00:00, 146.05it/s]\n",
      "loss: 0.2111, accuracy: 0.9400:   2%|▏         | 16/1000 [00:00<00:11, 84.44it/s]"
     ]
    },
    {
     "name": "stdout",
     "output_type": "stream",
     "text": [
      "Epoch 85: train_acc_0.9560_train_loss_0.1089_val_acc_0.8497_val_loss_0.9656 epoch time 13.4677 seconds\n",
      "total time19.0 : 18.307782649993896\n"
     ]
    },
    {
     "name": "stderr",
     "output_type": "stream",
     "text": [
      "loss: 0.1383, accuracy: 0.9400: 100%|██████████| 1000/1000 [00:12<00:00, 80.94it/s]\n",
      "loss: 0.4620, accuracy: 0.8600: 100%|██████████| 158/158 [00:01<00:00, 145.68it/s]\n",
      "loss: 0.1734, accuracy: 0.9300:   2%|▏         | 16/1000 [00:00<00:11, 87.01it/s]"
     ]
    },
    {
     "name": "stdout",
     "output_type": "stream",
     "text": [
      "Epoch 86: train_acc_0.9553_train_loss_0.1132_val_acc_0.8459_val_loss_0.9808 epoch time 13.5805 seconds\n",
      "total time19.0 : 31.888250589370728\n"
     ]
    },
    {
     "name": "stderr",
     "output_type": "stream",
     "text": [
      "loss: 0.2230, accuracy: 0.9300: 100%|██████████| 1000/1000 [00:12<00:00, 81.01it/s]\n",
      "loss: 0.2908, accuracy: 0.9200: 100%|██████████| 158/158 [00:01<00:00, 147.02it/s]\n",
      "loss: 0.0365, accuracy: 0.9900:   2%|▏         | 16/1000 [00:00<00:11, 84.54it/s]"
     ]
    },
    {
     "name": "stdout",
     "output_type": "stream",
     "text": [
      "Epoch 87: train_acc_0.9555_train_loss_0.1107_val_acc_0.8535_val_loss_0.9273 epoch time 13.5546 seconds\n",
      "total time19.0 : 45.442843437194824\n"
     ]
    },
    {
     "name": "stderr",
     "output_type": "stream",
     "text": [
      "loss: 0.1073, accuracy: 0.9500: 100%|██████████| 1000/1000 [00:12<00:00, 81.03it/s]\n",
      "loss: 0.7442, accuracy: 0.8400: 100%|██████████| 158/158 [00:01<00:00, 144.76it/s]\n",
      "loss: 0.1332, accuracy: 0.9600:   2%|▏         | 17/1000 [00:00<00:11, 88.08it/s]"
     ]
    },
    {
     "name": "stdout",
     "output_type": "stream",
     "text": [
      "Epoch 88: train_acc_0.9581_train_loss_0.1046_val_acc_0.8471_val_loss_0.9981 epoch time 13.5712 seconds\n",
      "total time19.0 : 59.014079332351685\n"
     ]
    },
    {
     "name": "stderr",
     "output_type": "stream",
     "text": [
      "loss: 0.0946, accuracy: 0.9600: 100%|██████████| 1000/1000 [00:12<00:00, 81.04it/s]\n",
      "loss: 0.6950, accuracy: 0.9100: 100%|██████████| 158/158 [00:01<00:00, 147.16it/s]\n",
      "loss: 0.0738, accuracy: 0.9700:   2%|▏         | 16/1000 [00:00<00:11, 88.66it/s]"
     ]
    },
    {
     "name": "stdout",
     "output_type": "stream",
     "text": [
      "Epoch 89: train_acc_0.9555_train_loss_0.1117_val_acc_0.8461_val_loss_1.0010 epoch time 13.5477 seconds\n",
      "total time20.0 : 12.561774015426636\n"
     ]
    },
    {
     "name": "stderr",
     "output_type": "stream",
     "text": [
      "loss: 0.0861, accuracy: 0.9600: 100%|██████████| 1000/1000 [00:12<00:00, 82.75it/s]\n",
      "loss: 0.9671, accuracy: 0.8500: 100%|██████████| 158/158 [00:01<00:00, 145.00it/s]\n",
      "loss: 0.0737, accuracy: 0.9600:   2%|▏         | 16/1000 [00:00<00:11, 86.95it/s]"
     ]
    },
    {
     "name": "stdout",
     "output_type": "stream",
     "text": [
      "Epoch 90: train_acc_0.9560_train_loss_0.1067_val_acc_0.8477_val_loss_1.0052 epoch time 13.5443 seconds\n",
      "total time20.0 : 26.10603094100952\n"
     ]
    },
    {
     "name": "stderr",
     "output_type": "stream",
     "text": [
      "loss: 0.1169, accuracy: 0.9500: 100%|██████████| 1000/1000 [00:12<00:00, 80.99it/s]\n",
      "loss: 1.0147, accuracy: 0.8900: 100%|██████████| 158/158 [00:01<00:00, 149.09it/s]\n",
      "loss: 0.1023, accuracy: 0.9700:   2%|▏         | 16/1000 [00:00<00:11, 85.36it/s]"
     ]
    },
    {
     "name": "stdout",
     "output_type": "stream",
     "text": [
      "Epoch 91: train_acc_0.9577_train_loss_0.1036_val_acc_0.8446_val_loss_1.0432 epoch time 13.5458 seconds\n",
      "total time20.0 : 39.65185570716858\n"
     ]
    },
    {
     "name": "stderr",
     "output_type": "stream",
     "text": [
      "loss: 0.1554, accuracy: 0.9400: 100%|██████████| 1000/1000 [00:12<00:00, 81.47it/s]\n",
      "loss: 1.1696, accuracy: 0.8000: 100%|██████████| 158/158 [00:01<00:00, 142.99it/s]\n",
      "loss: 0.0585, accuracy: 0.9700:   2%|▏         | 16/1000 [00:00<00:11, 84.55it/s]"
     ]
    },
    {
     "name": "stdout",
     "output_type": "stream",
     "text": [
      "Epoch 92: train_acc_0.9560_train_loss_0.1092_val_acc_0.8463_val_loss_1.0202 epoch time 13.5129 seconds\n",
      "total time20.0 : 53.16478681564331\n"
     ]
    },
    {
     "name": "stderr",
     "output_type": "stream",
     "text": [
      "loss: 0.0771, accuracy: 0.9600: 100%|██████████| 1000/1000 [00:12<00:00, 80.84it/s]\n",
      "loss: 0.8574, accuracy: 0.8900: 100%|██████████| 158/158 [00:01<00:00, 147.12it/s]\n",
      "loss: 0.0587, accuracy: 0.9700:   2%|▏         | 16/1000 [00:00<00:11, 85.44it/s]"
     ]
    },
    {
     "name": "stdout",
     "output_type": "stream",
     "text": [
      "Epoch 93: train_acc_0.9569_train_loss_0.1075_val_acc_0.8506_val_loss_1.0221 epoch time 13.5781 seconds\n",
      "total time21.0 : 6.742898225784302\n"
     ]
    },
    {
     "name": "stderr",
     "output_type": "stream",
     "text": [
      "loss: 0.1152, accuracy: 0.9400: 100%|██████████| 1000/1000 [00:12<00:00, 81.37it/s]\n",
      "loss: 1.5080, accuracy: 0.7800: 100%|██████████| 158/158 [00:01<00:00, 145.16it/s]\n",
      "loss: 0.1300, accuracy: 0.9400:   2%|▏         | 16/1000 [00:00<00:11, 86.30it/s]"
     ]
    },
    {
     "name": "stdout",
     "output_type": "stream",
     "text": [
      "Epoch 94: train_acc_0.9564_train_loss_0.1080_val_acc_0.8482_val_loss_1.0197 epoch time 13.5151 seconds\n",
      "total time21.0 : 20.257954597473145\n"
     ]
    },
    {
     "name": "stderr",
     "output_type": "stream",
     "text": [
      "loss: 0.0772, accuracy: 0.9800: 100%|██████████| 1000/1000 [00:12<00:00, 81.07it/s]\n",
      "loss: 2.1248, accuracy: 0.7700: 100%|██████████| 158/158 [00:01<00:00, 145.56it/s]\n",
      "loss: 0.1636, accuracy: 0.9300:   2%|▏         | 16/1000 [00:00<00:11, 86.65it/s]"
     ]
    },
    {
     "name": "stdout",
     "output_type": "stream",
     "text": [
      "Epoch 95: train_acc_0.9573_train_loss_0.1061_val_acc_0.8381_val_loss_1.1069 epoch time 13.5543 seconds\n",
      "total time21.0 : 33.812248945236206\n"
     ]
    },
    {
     "name": "stderr",
     "output_type": "stream",
     "text": [
      "loss: 0.0765, accuracy: 0.9700: 100%|██████████| 1000/1000 [00:12<00:00, 80.93it/s]\n",
      "loss: 0.8171, accuracy: 0.8300: 100%|██████████| 158/158 [00:01<00:00, 148.14it/s]\n",
      "loss: 0.0880, accuracy: 0.9500:   2%|▏         | 16/1000 [00:00<00:11, 88.49it/s]"
     ]
    },
    {
     "name": "stdout",
     "output_type": "stream",
     "text": [
      "Epoch 96: train_acc_0.9562_train_loss_0.1086_val_acc_0.8482_val_loss_1.0232 epoch time 13.5580 seconds\n",
      "total time21.0 : 47.37023639678955\n"
     ]
    },
    {
     "name": "stderr",
     "output_type": "stream",
     "text": [
      "loss: 0.2282, accuracy: 0.9000: 100%|██████████| 1000/1000 [00:12<00:00, 81.33it/s]\n",
      "loss: 1.0774, accuracy: 0.8300: 100%|██████████| 158/158 [00:01<00:00, 154.08it/s]\n",
      "loss: 0.1282, accuracy: 0.9700:   2%|▏         | 16/1000 [00:00<00:11, 84.20it/s]"
     ]
    },
    {
     "name": "stdout",
     "output_type": "stream",
     "text": [
      "Epoch 97: train_acc_0.9593_train_loss_0.1007_val_acc_0.8453_val_loss_1.0198 epoch time 13.5085 seconds\n",
      "total time22.0 : 0.8787648677825928\n"
     ]
    },
    {
     "name": "stderr",
     "output_type": "stream",
     "text": [
      "loss: 0.0881, accuracy: 0.9700: 100%|██████████| 1000/1000 [00:12<00:00, 81.17it/s]\n",
      "loss: 1.3784, accuracy: 0.8200: 100%|██████████| 158/158 [00:01<00:00, 151.52it/s]\n",
      "loss: 0.0927, accuracy: 0.9600:   2%|▏         | 16/1000 [00:00<00:11, 85.12it/s]"
     ]
    },
    {
     "name": "stdout",
     "output_type": "stream",
     "text": [
      "Epoch 98: train_acc_0.9585_train_loss_0.1040_val_acc_0.8447_val_loss_1.0464 epoch time 13.5446 seconds\n",
      "total time22.0 : 14.423355340957642\n"
     ]
    },
    {
     "name": "stderr",
     "output_type": "stream",
     "text": [
      "loss: 0.1258, accuracy: 0.9500: 100%|██████████| 1000/1000 [00:12<00:00, 80.66it/s]\n",
      "loss: 1.0297, accuracy: 0.8700: 100%|██████████| 158/158 [00:01<00:00, 145.19it/s]\n",
      "loss: 0.2713, accuracy: 0.9100:  18%|█▊        | 28/158 [00:00<00:00, 152.64it/s]"
     ]
    },
    {
     "name": "stdout",
     "output_type": "stream",
     "text": [
      "Epoch 99: train_acc_0.9585_train_loss_0.1052_val_acc_0.8418_val_loss_1.0906 epoch time 13.6236 seconds\n",
      "total time22.0 : 28.046928882598877\n",
      "Generating test set evaluation metrics\n"
     ]
    },
    {
     "name": "stderr",
     "output_type": "stream",
     "text": [
      "loss: 0.4825, accuracy: 0.8200: 100%|██████████| 158/158 [00:01<00:00, 145.04it/s]\n"
     ]
    },
    {
     "name": "stdout",
     "output_type": "stream",
     "text": [
      "finish\n"
     ]
    },
    {
     "data": {
      "image/png": "[encoded data removed]",
      "text/plain": [
       "<Figure size 576x288 with 1 Axes>"
      ]
     },
     "metadata": {
      "needs_background": "light"
     },
     "output_type": "display_data"
    },
    {
     "data": {
      "image/png": "[encoded data removed]",
      "text/plain": [
       "<Figure size 576x288 with 1 Axes>"
      ]
     },
     "metadata": {
      "needs_background": "light"
     },
     "output_type": "display_data"
    },
    {
     "name": "stderr",
     "output_type": "stream",
     "text": [
      "loss: 3.8338, accuracy: 0.0500:   2%|▏         | 15/1000 [00:00<00:10, 97.47it/s]"
     ]
    },
    {
     "name": "stdout",
     "output_type": "stream",
     "text": [
      "Building basic block of ConvolutionalNetwork using input shape (100, 1, 28, 28)\n",
      "torch.Size([100, 64, 10, 10])\n",
      "torch.Size([100, 64, 6, 6])\n",
      "torch.Size([100, 64, 2, 2])\n",
      "torch.Size([100, 64, 2, 2])\n",
      "torch.Size([100, 64, 1, 1])\n",
      "torch.Size([100, 64, 1, 1])\n",
      "torch.Size([100, 64, 1, 1])\n",
      "torch.Size([100, 64, 1, 1])\n",
      "shape before final linear layer torch.Size([100, 64, 2, 2])\n",
      "Block is built, output volume is torch.Size([100, 47])\n",
      "use GPU\n",
      "ConvolutionalNetwork(\n",
      "  (layer_dict): ModuleDict(\n",
      "    (conv_0): Conv2d(1, 64, kernel_size=(3, 3), stride=(3, 3), padding=(1, 1))\n",
      "    (dim_reduction_max_pool_0): MaxPool2d(kernel_size=2, stride=2, padding=1, dilation=1, ceil_mode=False)\n",
      "    (conv_1): Conv2d(64, 64, kernel_size=(3, 3), stride=(3, 3), padding=(1, 1))\n",
      "    (dim_reduction_max_pool_1): MaxPool2d(kernel_size=2, stride=2, padding=1, dilation=1, ceil_mode=False)\n",
      "    (conv_2): Conv2d(64, 64, kernel_size=(3, 3), stride=(3, 3), padding=(1, 1))\n",
      "    (dim_reduction_max_pool_2): MaxPool2d(kernel_size=2, stride=2, padding=1, dilation=1, ceil_mode=False)\n",
      "    (conv_3): Conv2d(64, 64, kernel_size=(3, 3), stride=(3, 3), padding=(1, 1))\n",
      "    (dim_reduction_max_pool_3): MaxPool2d(kernel_size=2, stride=2, padding=1, dilation=1, ceil_mode=False)\n",
      "  )\n",
      "  (logit_linear_layer): Linear(in_features=256, out_features=47, bias=True)\n",
      ")\n"
     ]
    },
    {
     "name": "stderr",
     "output_type": "stream",
     "text": [
      "loss: 1.2974, accuracy: 0.6300: 100%|██████████| 1000/1000 [00:11<00:00, 89.16it/s]\n",
      "loss: 1.0219, accuracy: 0.6700: 100%|██████████| 158/158 [00:00<00:00, 161.55it/s]\n",
      "loss: 1.0425, accuracy: 0.6600:   2%|▏         | 18/1000 [00:00<00:10, 96.30it/s]"
     ]
    },
    {
     "name": "stdout",
     "output_type": "stream",
     "text": [
      "Epoch 0: train_acc_0.4776_train_loss_1.7336_val_acc_0.6466_val_loss_1.0965 epoch time 12.4098 seconds\n",
      "total time0.0 : 12.409774541854858\n"
     ]
    },
    {
     "name": "stderr",
     "output_type": "stream",
     "text": [
      "loss: 1.0487, accuracy: 0.6700: 100%|██████████| 1000/1000 [00:11<00:00, 89.71it/s]\n",
      "loss: 0.6658, accuracy: 0.7500: 100%|██████████| 158/158 [00:01<00:00, 151.81it/s]\n",
      "loss: 0.9292, accuracy: 0.6800:   2%|▏         | 17/1000 [00:00<00:10, 93.71it/s]"
     ]
    },
    {
     "name": "stdout",
     "output_type": "stream",
     "text": [
      "Epoch 1: train_acc_0.6922_train_loss_0.9481_val_acc_0.7210_val_loss_0.8512 epoch time 12.3273 seconds\n",
      "total time0.0 : 24.737061023712158\n"
     ]
    },
    {
     "name": "stderr",
     "output_type": "stream",
     "text": [
      "loss: 0.5766, accuracy: 0.8500: 100%|██████████| 1000/1000 [00:11<00:00, 88.94it/s]\n",
      "loss: 0.8119, accuracy: 0.6900: 100%|██████████| 158/158 [00:01<00:00, 147.73it/s]\n",
      "loss: 0.8129, accuracy: 0.7000:   2%|▏         | 17/1000 [00:00<00:10, 93.00it/s]"
     ]
    },
    {
     "name": "stdout",
     "output_type": "stream",
     "text": [
      "Epoch 2: train_acc_0.7490_train_loss_0.7565_val_acc_0.7766_val_loss_0.6905 epoch time 12.4531 seconds\n",
      "total time0.0 : 37.19019031524658\n"
     ]
    },
    {
     "name": "stderr",
     "output_type": "stream",
     "text": [
      "loss: 0.6854, accuracy: 0.7800: 100%|██████████| 1000/1000 [00:11<00:00, 89.35it/s]\n",
      "loss: 0.6204, accuracy: 0.8200: 100%|██████████| 158/158 [00:01<00:00, 153.50it/s]\n",
      "loss: 0.5266, accuracy: 0.8200:   2%|▏         | 18/1000 [00:00<00:10, 93.82it/s]"
     ]
    },
    {
     "name": "stdout",
     "output_type": "stream",
     "text": [
      "Epoch 3: train_acc_0.7806_train_loss_0.6570_val_acc_0.7878_val_loss_0.6434 epoch time 12.3568 seconds\n",
      "total time0.0 : 49.546982526779175\n"
     ]
    },
    {
     "name": "stderr",
     "output_type": "stream",
     "text": [
      "loss: 0.7852, accuracy: 0.7500: 100%|██████████| 1000/1000 [00:11<00:00, 88.89it/s]\n",
      "loss: 0.4705, accuracy: 0.8300: 100%|██████████| 158/158 [00:01<00:00, 152.09it/s]\n",
      "loss: 0.6551, accuracy: 0.8000:   2%|▏         | 17/1000 [00:00<00:10, 91.51it/s]"
     ]
    },
    {
     "name": "stdout",
     "output_type": "stream",
     "text": [
      "Epoch 4: train_acc_0.7984_train_loss_0.5991_val_acc_0.8001_val_loss_0.5830 epoch time 12.4278 seconds\n",
      "total time1.0 : 1.9747400283813477\n"
     ]
    },
    {
     "name": "stderr",
     "output_type": "stream",
     "text": [
      "loss: 0.6436, accuracy: 0.8100: 100%|██████████| 1000/1000 [00:11<00:00, 89.26it/s]\n",
      "loss: 0.4575, accuracy: 0.8600: 100%|██████████| 158/158 [00:01<00:00, 153.84it/s]\n",
      "loss: 0.4507, accuracy: 0.8600:   2%|▏         | 18/1000 [00:00<00:10, 97.73it/s]"
     ]
    },
    {
     "name": "stdout",
     "output_type": "stream",
     "text": [
      "Epoch 5: train_acc_0.8096_train_loss_0.5617_val_acc_0.8109_val_loss_0.5553 epoch time 12.3664 seconds\n",
      "total time1.0 : 14.341111183166504\n"
     ]
    },
    {
     "name": "stderr",
     "output_type": "stream",
     "text": [
      "loss: 0.5272, accuracy: 0.8100: 100%|██████████| 1000/1000 [00:11<00:00, 89.31it/s]\n",
      "loss: 0.5594, accuracy: 0.8200: 100%|██████████| 158/158 [00:01<00:00, 147.40it/s]\n",
      "loss: 0.7613, accuracy: 0.7500:   2%|▏         | 18/1000 [00:00<00:10, 94.16it/s]"
     ]
    },
    {
     "name": "stdout",
     "output_type": "stream",
     "text": [
      "Epoch 6: train_acc_0.8205_train_loss_0.5263_val_acc_0.8121_val_loss_0.5532 epoch time 12.4084 seconds\n",
      "total time1.0 : 26.74947714805603\n"
     ]
    },
    {
     "name": "stderr",
     "output_type": "stream",
     "text": [
      "loss: 0.4974, accuracy: 0.8200: 100%|██████████| 1000/1000 [00:11<00:00, 89.26it/s]\n",
      "loss: 0.4900, accuracy: 0.8300: 100%|██████████| 158/158 [00:01<00:00, 149.62it/s]\n",
      "loss: 0.6066, accuracy: 0.8300:   2%|▏         | 18/1000 [00:00<00:10, 94.72it/s]"
     ]
    },
    {
     "name": "stdout",
     "output_type": "stream",
     "text": [
      "Epoch 7: train_acc_0.8271_train_loss_0.5027_val_acc_0.8232_val_loss_0.5261 epoch time 12.3936 seconds\n",
      "total time1.0 : 39.143067836761475\n"
     ]
    },
    {
     "name": "stderr",
     "output_type": "stream",
     "text": [
      "loss: 0.8124, accuracy: 0.7600: 100%|██████████| 1000/1000 [00:10<00:00, 91.85it/s]\n",
      "loss: 0.5641, accuracy: 0.7800: 100%|██████████| 158/158 [00:01<00:00, 148.46it/s]\n",
      "loss: 0.3738, accuracy: 0.8400:   2%|▏         | 18/1000 [00:00<00:10, 96.49it/s]"
     ]
    },
    {
     "name": "stdout",
     "output_type": "stream",
     "text": [
      "Epoch 8: train_acc_0.8333_train_loss_0.4814_val_acc_0.8256_val_loss_0.5033 epoch time 12.3420 seconds\n",
      "total time1.0 : 51.48505115509033\n"
     ]
    },
    {
     "name": "stderr",
     "output_type": "stream",
     "text": [
      "loss: 0.5986, accuracy: 0.7900: 100%|██████████| 1000/1000 [00:11<00:00, 88.98it/s]\n",
      "loss: 0.5813, accuracy: 0.7500: 100%|██████████| 158/158 [00:01<00:00, 149.07it/s]\n",
      "loss: 0.3728, accuracy: 0.8900:   2%|▏         | 18/1000 [00:00<00:10, 95.97it/s]"
     ]
    },
    {
     "name": "stdout",
     "output_type": "stream",
     "text": [
      "Epoch 9: train_acc_0.8375_train_loss_0.4642_val_acc_0.8299_val_loss_0.4912 epoch time 12.4340 seconds\n",
      "total time2.0 : 3.919093132019043\n"
     ]
    },
    {
     "name": "stderr",
     "output_type": "stream",
     "text": [
      "loss: 0.4402, accuracy: 0.8100: 100%|██████████| 1000/1000 [00:11<00:00, 90.21it/s]\n",
      "loss: 0.4805, accuracy: 0.8400: 100%|██████████| 158/158 [00:01<00:00, 152.24it/s]\n",
      "loss: 0.3361, accuracy: 0.8800:   2%|▏         | 18/1000 [00:00<00:10, 91.95it/s]"
     ]
    },
    {
     "name": "stdout",
     "output_type": "stream",
     "text": [
      "Epoch 10: train_acc_0.8421_train_loss_0.4504_val_acc_0.8294_val_loss_0.5080 epoch time 12.2591 seconds\n",
      "total time2.0 : 16.178205490112305\n"
     ]
    },
    {
     "name": "stderr",
     "output_type": "stream",
     "text": [
      "loss: 0.4336, accuracy: 0.8300: 100%|██████████| 1000/1000 [00:11<00:00, 89.83it/s]\n",
      "loss: 0.3250, accuracy: 0.9000: 100%|██████████| 158/158 [00:01<00:00, 153.08it/s]\n",
      "loss: 0.3903, accuracy: 0.8600:   2%|▏         | 18/1000 [00:00<00:10, 95.38it/s]"
     ]
    },
    {
     "name": "stdout",
     "output_type": "stream",
     "text": [
      "Epoch 11: train_acc_0.8445_train_loss_0.4391_val_acc_0.8382_val_loss_0.4723 epoch time 12.2995 seconds\n",
      "total time2.0 : 28.47769260406494\n"
     ]
    },
    {
     "name": "stderr",
     "output_type": "stream",
     "text": [
      "loss: 0.3632, accuracy: 0.8900: 100%|██████████| 1000/1000 [00:10<00:00, 92.49it/s]\n",
      "loss: 0.4420, accuracy: 0.8800: 100%|██████████| 158/158 [00:01<00:00, 148.49it/s]\n",
      "loss: 0.3731, accuracy: 0.8800:   2%|▏         | 18/1000 [00:00<00:10, 92.36it/s]"
     ]
    },
    {
     "name": "stdout",
     "output_type": "stream",
     "text": [
      "Epoch 12: train_acc_0.8492_train_loss_0.4249_val_acc_0.8364_val_loss_0.4785 epoch time 12.3292 seconds\n",
      "total time2.0 : 40.806843519210815\n"
     ]
    },
    {
     "name": "stderr",
     "output_type": "stream",
     "text": [
      "loss: 0.3465, accuracy: 0.8900: 100%|██████████| 1000/1000 [00:11<00:00, 90.62it/s]\n",
      "loss: 0.5229, accuracy: 0.8100: 100%|██████████| 158/158 [00:01<00:00, 151.59it/s]\n",
      "loss: 0.3837, accuracy: 0.8600:   2%|▏         | 18/1000 [00:00<00:10, 95.51it/s]"
     ]
    },
    {
     "name": "stdout",
     "output_type": "stream",
     "text": [
      "Epoch 13: train_acc_0.8527_train_loss_0.4148_val_acc_0.8337_val_loss_0.4841 epoch time 12.2141 seconds\n",
      "total time2.0 : 53.02091383934021\n"
     ]
    },
    {
     "name": "stderr",
     "output_type": "stream",
     "text": [
      "loss: 0.4732, accuracy: 0.8600: 100%|██████████| 1000/1000 [00:10<00:00, 92.20it/s]\n",
      "loss: 0.3567, accuracy: 0.8700: 100%|██████████| 158/158 [00:01<00:00, 153.87it/s]\n",
      "loss: 0.4298, accuracy: 0.8700:   2%|▏         | 18/1000 [00:00<00:10, 94.74it/s]"
     ]
    },
    {
     "name": "stdout",
     "output_type": "stream",
     "text": [
      "Epoch 14: train_acc_0.8541_train_loss_0.4075_val_acc_0.8434_val_loss_0.4632 epoch time 12.2698 seconds\n",
      "total time3.0 : 5.290668487548828\n"
     ]
    },
    {
     "name": "stderr",
     "output_type": "stream",
     "text": [
      "loss: 0.3800, accuracy: 0.8700: 100%|██████████| 1000/1000 [00:10<00:00, 91.65it/s]\n",
      "loss: 0.3434, accuracy: 0.8900: 100%|██████████| 158/158 [00:01<00:00, 143.51it/s]\n",
      "loss: 0.1923, accuracy: 0.9400:   2%|▏         | 18/1000 [00:00<00:10, 96.08it/s]"
     ]
    },
    {
     "name": "stdout",
     "output_type": "stream",
     "text": [
      "Epoch 15: train_acc_0.8574_train_loss_0.3975_val_acc_0.8390_val_loss_0.4686 epoch time 12.3659 seconds\n",
      "total time3.0 : 17.65661644935608\n"
     ]
    },
    {
     "name": "stderr",
     "output_type": "stream",
     "text": [
      "loss: 0.4933, accuracy: 0.8400: 100%|██████████| 1000/1000 [00:11<00:00, 89.69it/s]\n",
      "loss: 0.4757, accuracy: 0.8600: 100%|██████████| 158/158 [00:01<00:00, 151.77it/s]\n",
      "loss: 0.3050, accuracy: 0.9100:   2%|▏         | 17/1000 [00:00<00:10, 93.47it/s]"
     ]
    },
    {
     "name": "stdout",
     "output_type": "stream",
     "text": [
      "Epoch 16: train_acc_0.8581_train_loss_0.3912_val_acc_0.8323_val_loss_0.4823 epoch time 12.3279 seconds\n",
      "total time3.0 : 29.984517574310303\n"
     ]
    },
    {
     "name": "stderr",
     "output_type": "stream",
     "text": [
      "loss: 0.3092, accuracy: 0.8900: 100%|██████████| 1000/1000 [00:11<00:00, 89.19it/s]\n",
      "loss: 0.5805, accuracy: 0.7800: 100%|██████████| 158/158 [00:01<00:00, 152.80it/s]\n",
      "loss: 0.4569, accuracy: 0.8500:   2%|▏         | 17/1000 [00:00<00:10, 93.84it/s]"
     ]
    },
    {
     "name": "stdout",
     "output_type": "stream",
     "text": [
      "Epoch 17: train_acc_0.8610_train_loss_0.3833_val_acc_0.8358_val_loss_0.4720 epoch time 12.3824 seconds\n",
      "total time3.0 : 42.366878032684326\n"
     ]
    },
    {
     "name": "stderr",
     "output_type": "stream",
     "text": [
      "loss: 0.3314, accuracy: 0.8900: 100%|██████████| 1000/1000 [00:11<00:00, 89.43it/s]\n",
      "loss: 0.4941, accuracy: 0.8400: 100%|██████████| 158/158 [00:01<00:00, 153.51it/s]\n",
      "loss: 0.2891, accuracy: 0.8900:   2%|▏         | 18/1000 [00:00<00:10, 93.98it/s]"
     ]
    },
    {
     "name": "stdout",
     "output_type": "stream",
     "text": [
      "Epoch 18: train_acc_0.8636_train_loss_0.3764_val_acc_0.8446_val_loss_0.4554 epoch time 12.3502 seconds\n",
      "total time3.0 : 54.71708011627197\n"
     ]
    },
    {
     "name": "stderr",
     "output_type": "stream",
     "text": [
      "loss: 0.2674, accuracy: 0.8800: 100%|██████████| 1000/1000 [00:11<00:00, 89.47it/s]\n",
      "loss: 0.5081, accuracy: 0.7900: 100%|██████████| 158/158 [00:01<00:00, 150.92it/s]\n",
      "loss: 0.3392, accuracy: 0.8900:   2%|▏         | 18/1000 [00:00<00:10, 94.73it/s]"
     ]
    },
    {
     "name": "stdout",
     "output_type": "stream",
     "text": [
      "Epoch 19: train_acc_0.8648_train_loss_0.3698_val_acc_0.8441_val_loss_0.4634 epoch time 12.3597 seconds\n",
      "total time4.0 : 7.076771259307861\n"
     ]
    },
    {
     "name": "stderr",
     "output_type": "stream",
     "text": [
      "loss: 0.4564, accuracy: 0.8300: 100%|██████████| 1000/1000 [00:11<00:00, 89.76it/s]\n",
      "loss: 0.3292, accuracy: 0.9000: 100%|██████████| 158/158 [00:01<00:00, 150.99it/s]\n",
      "loss: 0.2612, accuracy: 0.9100:   2%|▏         | 18/1000 [00:00<00:10, 95.33it/s]"
     ]
    },
    {
     "name": "stdout",
     "output_type": "stream",
     "text": [
      "Epoch 20: train_acc_0.8668_train_loss_0.3644_val_acc_0.8431_val_loss_0.4675 epoch time 12.3250 seconds\n",
      "total time4.0 : 19.401721477508545\n"
     ]
    },
    {
     "name": "stderr",
     "output_type": "stream",
     "text": [
      "loss: 0.2338, accuracy: 0.9300: 100%|██████████| 1000/1000 [00:10<00:00, 92.48it/s]\n",
      "loss: 0.4661, accuracy: 0.8600: 100%|██████████| 158/158 [00:01<00:00, 152.34it/s]\n",
      "loss: 0.3682, accuracy: 0.8700:   2%|▏         | 18/1000 [00:00<00:10, 95.76it/s]"
     ]
    },
    {
     "name": "stdout",
     "output_type": "stream",
     "text": [
      "Epoch 21: train_acc_0.8701_train_loss_0.3568_val_acc_0.8409_val_loss_0.4589 epoch time 12.4278 seconds\n",
      "total time4.0 : 31.829512119293213\n"
     ]
    },
    {
     "name": "stderr",
     "output_type": "stream",
     "text": [
      "loss: 0.4675, accuracy: 0.8600: 100%|██████████| 1000/1000 [00:11<00:00, 89.56it/s]\n",
      "loss: 0.5284, accuracy: 0.7600: 100%|██████████| 158/158 [00:01<00:00, 151.10it/s]\n",
      "loss: 0.2531, accuracy: 0.9200:   2%|▏         | 18/1000 [00:00<00:10, 94.48it/s]"
     ]
    },
    {
     "name": "stdout",
     "output_type": "stream",
     "text": [
      "Epoch 22: train_acc_0.8705_train_loss_0.3523_val_acc_0.8385_val_loss_0.4732 epoch time 12.3473 seconds\n",
      "total time4.0 : 44.17676568031311\n"
     ]
    },
    {
     "name": "stderr",
     "output_type": "stream",
     "text": [
      "loss: 0.4301, accuracy: 0.8200: 100%|██████████| 1000/1000 [00:11<00:00, 89.21it/s]\n",
      "loss: 0.5041, accuracy: 0.8100: 100%|██████████| 158/158 [00:01<00:00, 151.00it/s]\n",
      "loss: 0.2053, accuracy: 0.9300:   2%|▏         | 18/1000 [00:00<00:10, 94.13it/s]"
     ]
    },
    {
     "name": "stdout",
     "output_type": "stream",
     "text": [
      "Epoch 23: train_acc_0.8724_train_loss_0.3468_val_acc_0.8398_val_loss_0.4683 epoch time 12.3940 seconds\n",
      "total time4.0 : 56.57073926925659\n"
     ]
    },
    {
     "name": "stderr",
     "output_type": "stream",
     "text": [
      "loss: 0.3450, accuracy: 0.8600: 100%|██████████| 1000/1000 [00:10<00:00, 91.76it/s]\n",
      "loss: 0.5995, accuracy: 0.8400: 100%|██████████| 158/158 [00:01<00:00, 153.78it/s]\n",
      "loss: 0.3274, accuracy: 0.8500:   2%|▏         | 18/1000 [00:00<00:10, 97.26it/s]"
     ]
    },
    {
     "name": "stdout",
     "output_type": "stream",
     "text": [
      "Epoch 24: train_acc_0.8724_train_loss_0.3415_val_acc_0.8354_val_loss_0.4824 epoch time 12.2875 seconds\n",
      "total time5.0 : 8.858262538909912\n"
     ]
    },
    {
     "name": "stderr",
     "output_type": "stream",
     "text": [
      "loss: 0.3835, accuracy: 0.8500: 100%|██████████| 1000/1000 [00:10<00:00, 91.70it/s]\n",
      "loss: 0.2630, accuracy: 0.8900: 100%|██████████| 158/158 [00:01<00:00, 150.28it/s]\n",
      "loss: 0.2531, accuracy: 0.8900:   2%|▏         | 18/1000 [00:00<00:10, 94.90it/s]"
     ]
    },
    {
     "name": "stdout",
     "output_type": "stream",
     "text": [
      "Epoch 25: train_acc_0.8747_train_loss_0.3373_val_acc_0.8396_val_loss_0.4764 epoch time 12.3205 seconds\n",
      "total time5.0 : 21.178768396377563\n"
     ]
    },
    {
     "name": "stderr",
     "output_type": "stream",
     "text": [
      "loss: 0.3389, accuracy: 0.8700: 100%|██████████| 1000/1000 [00:11<00:00, 89.54it/s]\n",
      "loss: 0.3640, accuracy: 0.8300: 100%|██████████| 158/158 [00:01<00:00, 152.32it/s]\n",
      "loss: 0.2249, accuracy: 0.9100:   2%|▏         | 18/1000 [00:00<00:10, 94.76it/s]"
     ]
    },
    {
     "name": "stdout",
     "output_type": "stream",
     "text": [
      "Epoch 26: train_acc_0.8765_train_loss_0.3304_val_acc_0.8423_val_loss_0.4701 epoch time 12.3388 seconds\n",
      "total time5.0 : 33.51754879951477\n"
     ]
    },
    {
     "name": "stderr",
     "output_type": "stream",
     "text": [
      "loss: 0.3359, accuracy: 0.9100: 100%|██████████| 1000/1000 [00:11<00:00, 89.87it/s]\n",
      "loss: 0.3054, accuracy: 0.8600: 100%|██████████| 158/158 [00:01<00:00, 149.23it/s]\n",
      "loss: 0.3654, accuracy: 0.8600:   2%|▏         | 17/1000 [00:00<00:10, 92.74it/s]"
     ]
    },
    {
     "name": "stdout",
     "output_type": "stream",
     "text": [
      "Epoch 27: train_acc_0.8780_train_loss_0.3261_val_acc_0.8421_val_loss_0.4746 epoch time 12.3211 seconds\n",
      "total time5.0 : 45.838685035705566\n"
     ]
    },
    {
     "name": "stderr",
     "output_type": "stream",
     "text": [
      "loss: 0.3725, accuracy: 0.8400: 100%|██████████| 1000/1000 [00:11<00:00, 89.87it/s]\n",
      "loss: 0.5711, accuracy: 0.8200: 100%|██████████| 158/158 [00:01<00:00, 152.79it/s]\n",
      "loss: 0.1883, accuracy: 0.9300:   2%|▏         | 18/1000 [00:00<00:10, 94.63it/s]"
     ]
    },
    {
     "name": "stdout",
     "output_type": "stream",
     "text": [
      "Epoch 28: train_acc_0.8786_train_loss_0.3239_val_acc_0.8433_val_loss_0.4756 epoch time 12.2966 seconds\n",
      "total time5.0 : 58.135265588760376\n"
     ]
    },
    {
     "name": "stderr",
     "output_type": "stream",
     "text": [
      "loss: 0.3527, accuracy: 0.8600: 100%|██████████| 1000/1000 [00:11<00:00, 89.76it/s]\n",
      "loss: 0.3855, accuracy: 0.8900: 100%|██████████| 158/158 [00:01<00:00, 150.81it/s]\n",
      "loss: 0.1679, accuracy: 0.9300:   2%|▏         | 17/1000 [00:00<00:10, 90.66it/s]"
     ]
    },
    {
     "name": "stdout",
     "output_type": "stream",
     "text": [
      "Epoch 29: train_acc_0.8800_train_loss_0.3182_val_acc_0.8423_val_loss_0.4764 epoch time 12.3252 seconds\n",
      "total time6.0 : 10.460482835769653\n"
     ]
    },
    {
     "name": "stderr",
     "output_type": "stream",
     "text": [
      "loss: 0.3004, accuracy: 0.8900: 100%|██████████| 1000/1000 [00:11<00:00, 90.39it/s]\n",
      "loss: 0.3566, accuracy: 0.8500: 100%|██████████| 158/158 [00:01<00:00, 151.00it/s]\n",
      "loss: 0.2476, accuracy: 0.9100:   2%|▏         | 18/1000 [00:00<00:10, 94.87it/s]"
     ]
    },
    {
     "name": "stdout",
     "output_type": "stream",
     "text": [
      "Epoch 30: train_acc_0.8818_train_loss_0.3150_val_acc_0.8437_val_loss_0.4825 epoch time 12.2466 seconds\n",
      "total time6.0 : 22.707112073898315\n"
     ]
    },
    {
     "name": "stderr",
     "output_type": "stream",
     "text": [
      "loss: 0.2718, accuracy: 0.9200: 100%|██████████| 1000/1000 [00:10<00:00, 91.59it/s]\n",
      "loss: 0.4548, accuracy: 0.8200: 100%|██████████| 158/158 [00:01<00:00, 150.24it/s]\n",
      "loss: 0.2616, accuracy: 0.9000:   2%|▏         | 18/1000 [00:00<00:10, 95.34it/s]"
     ]
    },
    {
     "name": "stdout",
     "output_type": "stream",
     "text": [
      "Epoch 31: train_acc_0.8832_train_loss_0.3104_val_acc_0.8387_val_loss_0.4935 epoch time 12.2844 seconds\n",
      "total time6.0 : 34.99156165122986\n"
     ]
    },
    {
     "name": "stderr",
     "output_type": "stream",
     "text": [
      "loss: 0.1989, accuracy: 0.9500: 100%|██████████| 1000/1000 [00:11<00:00, 88.98it/s]\n",
      "loss: 0.2684, accuracy: 0.8800: 100%|██████████| 158/158 [00:01<00:00, 150.01it/s]\n",
      "loss: 0.2607, accuracy: 0.8800:   2%|▏         | 18/1000 [00:00<00:10, 96.62it/s]"
     ]
    },
    {
     "name": "stdout",
     "output_type": "stream",
     "text": [
      "Epoch 32: train_acc_0.8844_train_loss_0.3063_val_acc_0.8413_val_loss_0.4952 epoch time 12.4311 seconds\n",
      "total time6.0 : 47.422704458236694\n"
     ]
    },
    {
     "name": "stderr",
     "output_type": "stream",
     "text": [
      "loss: 0.3525, accuracy: 0.9100: 100%|██████████| 1000/1000 [00:11<00:00, 89.34it/s]\n",
      "loss: 0.6282, accuracy: 0.8400: 100%|██████████| 158/158 [00:01<00:00, 149.80it/s]\n",
      "loss: 0.4277, accuracy: 0.8700:   2%|▏         | 17/1000 [00:00<00:10, 94.30it/s]"
     ]
    },
    {
     "name": "stdout",
     "output_type": "stream",
     "text": [
      "Epoch 33: train_acc_0.8848_train_loss_0.3026_val_acc_0.8393_val_loss_0.4949 epoch time 12.3845 seconds\n",
      "total time6.0 : 59.80724740028381\n"
     ]
    },
    {
     "name": "stderr",
     "output_type": "stream",
     "text": [
      "loss: 0.2473, accuracy: 0.9100: 100%|██████████| 1000/1000 [00:11<00:00, 89.23it/s]\n",
      "loss: 0.6358, accuracy: 0.8200: 100%|██████████| 158/158 [00:01<00:00, 149.79it/s]\n",
      "loss: 0.2198, accuracy: 0.9400:   2%|▏         | 17/1000 [00:00<00:10, 92.31it/s]"
     ]
    },
    {
     "name": "stdout",
     "output_type": "stream",
     "text": [
      "Epoch 34: train_acc_0.8852_train_loss_0.3009_val_acc_0.8367_val_loss_0.4991 epoch time 12.4051 seconds\n",
      "total time7.0 : 12.212387084960938\n"
     ]
    },
    {
     "name": "stderr",
     "output_type": "stream",
     "text": [
      "loss: 0.2894, accuracy: 0.8700: 100%|██████████| 1000/1000 [00:11<00:00, 88.54it/s]\n",
      "loss: 0.7912, accuracy: 0.8200: 100%|██████████| 158/158 [00:01<00:00, 150.72it/s]\n",
      "loss: 0.2540, accuracy: 0.8800:   2%|▏         | 17/1000 [00:00<00:10, 93.12it/s]"
     ]
    },
    {
     "name": "stdout",
     "output_type": "stream",
     "text": [
      "Epoch 35: train_acc_0.8860_train_loss_0.2967_val_acc_0.8403_val_loss_0.5006 epoch time 12.4845 seconds\n",
      "total time7.0 : 24.696889877319336\n"
     ]
    },
    {
     "name": "stderr",
     "output_type": "stream",
     "text": [
      "loss: 0.2068, accuracy: 0.9100: 100%|██████████| 1000/1000 [00:11<00:00, 89.47it/s]\n",
      "loss: 0.5380, accuracy: 0.8300: 100%|██████████| 158/158 [00:01<00:00, 148.91it/s]\n",
      "loss: 0.3048, accuracy: 0.9000:   2%|▏         | 18/1000 [00:00<00:10, 93.75it/s]"
     ]
    },
    {
     "name": "stdout",
     "output_type": "stream",
     "text": [
      "Epoch 36: train_acc_0.8881_train_loss_0.2928_val_acc_0.8369_val_loss_0.5091 epoch time 12.3768 seconds\n",
      "total time7.0 : 37.073676109313965\n"
     ]
    },
    {
     "name": "stderr",
     "output_type": "stream",
     "text": [
      "loss: 0.3535, accuracy: 0.8700: 100%|██████████| 1000/1000 [00:11<00:00, 89.46it/s]\n",
      "loss: 0.4497, accuracy: 0.8900: 100%|██████████| 158/158 [00:01<00:00, 151.43it/s]\n",
      "loss: 0.3151, accuracy: 0.8700:   2%|▏         | 18/1000 [00:00<00:10, 96.24it/s]"
     ]
    },
    {
     "name": "stdout",
     "output_type": "stream",
     "text": [
      "Epoch 37: train_acc_0.8895_train_loss_0.2890_val_acc_0.8368_val_loss_0.5243 epoch time 12.3596 seconds\n",
      "total time7.0 : 49.43324136734009\n"
     ]
    },
    {
     "name": "stderr",
     "output_type": "stream",
     "text": [
      "loss: 0.2664, accuracy: 0.8800: 100%|██████████| 1000/1000 [00:10<00:00, 91.74it/s]\n",
      "loss: 0.5987, accuracy: 0.8200: 100%|██████████| 158/158 [00:01<00:00, 150.40it/s]\n",
      "loss: 0.2961, accuracy: 0.8800:   2%|▏         | 18/1000 [00:00<00:10, 95.80it/s]"
     ]
    },
    {
     "name": "stdout",
     "output_type": "stream",
     "text": [
      "Epoch 38: train_acc_0.8900_train_loss_0.2875_val_acc_0.8359_val_loss_0.5285 epoch time 12.2880 seconds\n",
      "total time8.0 : 1.7212414741516113\n"
     ]
    },
    {
     "name": "stderr",
     "output_type": "stream",
     "text": [
      "loss: 0.3210, accuracy: 0.9100: 100%|██████████| 1000/1000 [00:11<00:00, 89.87it/s]\n",
      "loss: 0.3907, accuracy: 0.8500: 100%|██████████| 158/158 [00:01<00:00, 154.15it/s]\n",
      "loss: 0.3511, accuracy: 0.8600:   2%|▏         | 18/1000 [00:00<00:10, 96.06it/s]"
     ]
    },
    {
     "name": "stdout",
     "output_type": "stream",
     "text": [
      "Epoch 39: train_acc_0.8915_train_loss_0.2846_val_acc_0.8415_val_loss_0.5083 epoch time 12.2869 seconds\n",
      "total time8.0 : 14.00810194015503\n"
     ]
    },
    {
     "name": "stderr",
     "output_type": "stream",
     "text": [
      "loss: 0.1948, accuracy: 0.9200: 100%|██████████| 1000/1000 [00:11<00:00, 89.71it/s]\n",
      "loss: 0.3434, accuracy: 0.8800: 100%|██████████| 158/158 [00:01<00:00, 148.31it/s]\n",
      "loss: 0.2627, accuracy: 0.9200:   2%|▏         | 17/1000 [00:00<00:10, 92.72it/s]"
     ]
    },
    {
     "name": "stdout",
     "output_type": "stream",
     "text": [
      "Epoch 40: train_acc_0.8921_train_loss_0.2802_val_acc_0.8410_val_loss_0.5182 epoch time 12.3529 seconds\n",
      "total time8.0 : 26.361024141311646\n"
     ]
    },
    {
     "name": "stderr",
     "output_type": "stream",
     "text": [
      "loss: 0.3225, accuracy: 0.8800: 100%|██████████| 1000/1000 [00:11<00:00, 88.80it/s]\n",
      "loss: 0.4464, accuracy: 0.8200: 100%|██████████| 158/158 [00:01<00:00, 149.93it/s]\n",
      "loss: 0.3001, accuracy: 0.9100:   2%|▏         | 18/1000 [00:00<00:10, 94.41it/s]"
     ]
    },
    {
     "name": "stdout",
     "output_type": "stream",
     "text": [
      "Epoch 41: train_acc_0.8920_train_loss_0.2781_val_acc_0.8366_val_loss_0.5332 epoch time 12.4547 seconds\n",
      "total time8.0 : 38.81571316719055\n"
     ]
    },
    {
     "name": "stderr",
     "output_type": "stream",
     "text": [
      "loss: 0.2227, accuracy: 0.9100: 100%|██████████| 1000/1000 [00:11<00:00, 89.62it/s]\n",
      "loss: 0.4930, accuracy: 0.8400: 100%|██████████| 158/158 [00:01<00:00, 150.92it/s]\n",
      "loss: 0.2598, accuracy: 0.9200:   2%|▏         | 18/1000 [00:00<00:10, 95.04it/s]"
     ]
    },
    {
     "name": "stdout",
     "output_type": "stream",
     "text": [
      "Epoch 42: train_acc_0.8928_train_loss_0.2762_val_acc_0.8340_val_loss_0.5325 epoch time 12.3396 seconds\n",
      "total time8.0 : 51.15533423423767\n"
     ]
    },
    {
     "name": "stderr",
     "output_type": "stream",
     "text": [
      "loss: 0.2890, accuracy: 0.9000: 100%|██████████| 1000/1000 [00:11<00:00, 89.63it/s]\n",
      "loss: 0.8109, accuracy: 0.7600: 100%|██████████| 158/158 [00:01<00:00, 152.78it/s]\n",
      "loss: 0.2938, accuracy: 0.8600:   2%|▏         | 18/1000 [00:00<00:10, 94.15it/s]"
     ]
    },
    {
     "name": "stdout",
     "output_type": "stream",
     "text": [
      "Epoch 43: train_acc_0.8947_train_loss_0.2725_val_acc_0.8318_val_loss_0.5505 epoch time 12.3262 seconds\n",
      "total time9.0 : 3.4815733432769775\n"
     ]
    },
    {
     "name": "stderr",
     "output_type": "stream",
     "text": [
      "loss: 0.3916, accuracy: 0.8800: 100%|██████████| 1000/1000 [00:11<00:00, 89.33it/s]\n",
      "loss: 0.6505, accuracy: 0.8500: 100%|██████████| 158/158 [00:01<00:00, 154.54it/s]\n",
      "loss: 0.1813, accuracy: 0.9400:   2%|▏         | 18/1000 [00:00<00:10, 97.02it/s]"
     ]
    },
    {
     "name": "stdout",
     "output_type": "stream",
     "text": [
      "Epoch 44: train_acc_0.8952_train_loss_0.2708_val_acc_0.8366_val_loss_0.5444 epoch time 12.3525 seconds\n",
      "total time9.0 : 15.834066390991211\n"
     ]
    },
    {
     "name": "stderr",
     "output_type": "stream",
     "text": [
      "loss: 0.2685, accuracy: 0.9100: 100%|██████████| 1000/1000 [00:11<00:00, 88.84it/s]\n",
      "loss: 0.6471, accuracy: 0.8100: 100%|██████████| 158/158 [00:01<00:00, 147.91it/s]\n",
      "loss: 0.3056, accuracy: 0.9100:   2%|▏         | 17/1000 [00:00<00:10, 92.54it/s]"
     ]
    },
    {
     "name": "stdout",
     "output_type": "stream",
     "text": [
      "Epoch 45: train_acc_0.8960_train_loss_0.2669_val_acc_0.8381_val_loss_0.5439 epoch time 12.4675 seconds\n",
      "total time9.0 : 28.301520109176636\n"
     ]
    },
    {
     "name": "stderr",
     "output_type": "stream",
     "text": [
      "loss: 0.3075, accuracy: 0.8500: 100%|██████████| 1000/1000 [00:11<00:00, 88.89it/s]\n",
      "loss: 0.8854, accuracy: 0.8600: 100%|██████████| 158/158 [00:01<00:00, 148.06it/s]\n",
      "loss: 0.2712, accuracy: 0.8800:   2%|▏         | 17/1000 [00:00<00:10, 93.18it/s]"
     ]
    },
    {
     "name": "stdout",
     "output_type": "stream",
     "text": [
      "Epoch 46: train_acc_0.8959_train_loss_0.2670_val_acc_0.8361_val_loss_0.5561 epoch time 12.4573 seconds\n",
      "total time9.0 : 40.75879788398743\n"
     ]
    },
    {
     "name": "stderr",
     "output_type": "stream",
     "text": [
      "loss: 0.2036, accuracy: 0.9300: 100%|██████████| 1000/1000 [00:11<00:00, 89.15it/s]\n",
      "loss: 0.5847, accuracy: 0.8100: 100%|██████████| 158/158 [00:01<00:00, 147.35it/s]\n",
      "loss: 0.2706, accuracy: 0.9000:   2%|▏         | 17/1000 [00:00<00:10, 92.19it/s]"
     ]
    },
    {
     "name": "stdout",
     "output_type": "stream",
     "text": [
      "Epoch 47: train_acc_0.8970_train_loss_0.2625_val_acc_0.8358_val_loss_0.5500 epoch time 12.4320 seconds\n",
      "total time9.0 : 53.19076633453369\n"
     ]
    },
    {
     "name": "stderr",
     "output_type": "stream",
     "text": [
      "loss: 0.2813, accuracy: 0.8800: 100%|██████████| 1000/1000 [00:11<00:00, 89.40it/s]\n",
      "loss: 0.3834, accuracy: 0.8900: 100%|██████████| 158/158 [00:01<00:00, 152.29it/s]\n",
      "loss: 0.2610, accuracy: 0.9000:   2%|▏         | 18/1000 [00:00<00:10, 93.93it/s]"
     ]
    },
    {
     "name": "stdout",
     "output_type": "stream",
     "text": [
      "Epoch 48: train_acc_0.8975_train_loss_0.2631_val_acc_0.8335_val_loss_0.5595 epoch time 12.3631 seconds\n",
      "total time10.0 : 5.553915739059448\n"
     ]
    },
    {
     "name": "stderr",
     "output_type": "stream",
     "text": [
      "loss: 0.2033, accuracy: 0.9400: 100%|██████████| 1000/1000 [00:11<00:00, 90.22it/s]\n",
      "loss: 0.3959, accuracy: 0.8600: 100%|██████████| 158/158 [00:01<00:00, 149.90it/s]\n",
      "loss: 0.2008, accuracy: 0.9400:   2%|▏         | 18/1000 [00:00<00:10, 95.92it/s]"
     ]
    },
    {
     "name": "stdout",
     "output_type": "stream",
     "text": [
      "Epoch 49: train_acc_0.8978_train_loss_0.2577_val_acc_0.8349_val_loss_0.5695 epoch time 12.2765 seconds\n",
      "total time10.0 : 17.83043360710144\n"
     ]
    },
    {
     "name": "stderr",
     "output_type": "stream",
     "text": [
      "loss: 0.2017, accuracy: 0.9600: 100%|██████████| 1000/1000 [00:11<00:00, 89.36it/s]\n",
      "loss: 0.5083, accuracy: 0.8100: 100%|██████████| 158/158 [00:01<00:00, 148.74it/s]\n",
      "loss: 0.1913, accuracy: 0.9300:   2%|▏         | 17/1000 [00:00<00:10, 92.80it/s]"
     ]
    },
    {
     "name": "stdout",
     "output_type": "stream",
     "text": [
      "Epoch 50: train_acc_0.8984_train_loss_0.2573_val_acc_0.8370_val_loss_0.5752 epoch time 12.3934 seconds\n",
      "total time10.0 : 30.223877668380737\n"
     ]
    },
    {
     "name": "stderr",
     "output_type": "stream",
     "text": [
      "loss: 0.3342, accuracy: 0.8500: 100%|██████████| 1000/1000 [00:11<00:00, 89.69it/s]\n",
      "loss: 0.4871, accuracy: 0.8500: 100%|██████████| 158/158 [00:01<00:00, 150.31it/s]\n",
      "loss: 0.3274, accuracy: 0.9000:   2%|▏         | 18/1000 [00:00<00:10, 93.56it/s]"
     ]
    },
    {
     "name": "stdout",
     "output_type": "stream",
     "text": [
      "Epoch 51: train_acc_0.8995_train_loss_0.2546_val_acc_0.8320_val_loss_0.5758 epoch time 12.3391 seconds\n",
      "total time10.0 : 42.56298589706421\n"
     ]
    },
    {
     "name": "stderr",
     "output_type": "stream",
     "text": [
      "loss: 0.2475, accuracy: 0.8900: 100%|██████████| 1000/1000 [00:11<00:00, 89.09it/s]\n",
      "loss: 0.4094, accuracy: 0.8600: 100%|██████████| 158/158 [00:01<00:00, 149.22it/s]\n",
      "loss: 0.2000, accuracy: 0.9100:   2%|▏         | 17/1000 [00:00<00:10, 93.56it/s]"
     ]
    },
    {
     "name": "stdout",
     "output_type": "stream",
     "text": [
      "Epoch 52: train_acc_0.8998_train_loss_0.2524_val_acc_0.8283_val_loss_0.6004 epoch time 12.4232 seconds\n",
      "total time10.0 : 54.986146450042725\n"
     ]
    },
    {
     "name": "stderr",
     "output_type": "stream",
     "text": [
      "loss: 0.2233, accuracy: 0.9100: 100%|██████████| 1000/1000 [00:11<00:00, 88.38it/s]\n",
      "loss: 0.5922, accuracy: 0.8100: 100%|██████████| 158/158 [00:01<00:00, 150.74it/s]\n",
      "loss: 0.2525, accuracy: 0.9200:   2%|▏         | 18/1000 [00:00<00:10, 91.87it/s]"
     ]
    },
    {
     "name": "stdout",
     "output_type": "stream",
     "text": [
      "Epoch 53: train_acc_0.9031_train_loss_0.2450_val_acc_0.8364_val_loss_0.5763 epoch time 12.5023 seconds\n",
      "total time11.0 : 7.488444089889526\n"
     ]
    },
    {
     "name": "stderr",
     "output_type": "stream",
     "text": [
      "loss: 0.2704, accuracy: 0.9100: 100%|██████████| 1000/1000 [00:10<00:00, 92.08it/s]\n",
      "loss: 0.4562, accuracy: 0.8700: 100%|██████████| 158/158 [00:01<00:00, 149.21it/s]\n",
      "loss: 0.2188, accuracy: 0.9200:   2%|▏         | 18/1000 [00:00<00:10, 92.42it/s]"
     ]
    },
    {
     "name": "stdout",
     "output_type": "stream",
     "text": [
      "Epoch 54: train_acc_0.9006_train_loss_0.2518_val_acc_0.8313_val_loss_0.5813 epoch time 12.3530 seconds\n",
      "total time11.0 : 19.841477155685425\n"
     ]
    },
    {
     "name": "stderr",
     "output_type": "stream",
     "text": [
      "loss: 0.2401, accuracy: 0.9200: 100%|██████████| 1000/1000 [00:11<00:00, 89.46it/s]\n",
      "loss: 0.5045, accuracy: 0.8600: 100%|██████████| 158/158 [00:01<00:00, 151.70it/s]\n",
      "loss: 0.1795, accuracy: 0.9100:   2%|▏         | 18/1000 [00:00<00:10, 95.00it/s]"
     ]
    },
    {
     "name": "stdout",
     "output_type": "stream",
     "text": [
      "Epoch 55: train_acc_0.9034_train_loss_0.2447_val_acc_0.8283_val_loss_0.5956 epoch time 12.3576 seconds\n",
      "total time11.0 : 32.19910955429077\n"
     ]
    },
    {
     "name": "stderr",
     "output_type": "stream",
     "text": [
      "loss: 0.2264, accuracy: 0.9400: 100%|██████████| 1000/1000 [00:11<00:00, 89.70it/s]\n",
      "loss: 1.1380, accuracy: 0.7300: 100%|██████████| 158/158 [00:01<00:00, 150.12it/s]\n",
      "loss: 0.1716, accuracy: 0.9300:   2%|▏         | 17/1000 [00:00<00:10, 92.86it/s]"
     ]
    },
    {
     "name": "stdout",
     "output_type": "stream",
     "text": [
      "Epoch 56: train_acc_0.9025_train_loss_0.2445_val_acc_0.8294_val_loss_0.6066 epoch time 12.3403 seconds\n",
      "total time11.0 : 44.53944540023804\n"
     ]
    },
    {
     "name": "stderr",
     "output_type": "stream",
     "text": [
      "loss: 0.2804, accuracy: 0.8900: 100%|██████████| 1000/1000 [00:11<00:00, 89.89it/s]\n",
      "loss: 0.5035, accuracy: 0.8300: 100%|██████████| 158/158 [00:01<00:00, 152.90it/s]\n",
      "loss: 0.2554, accuracy: 0.8800:   2%|▏         | 17/1000 [00:00<00:10, 92.51it/s]"
     ]
    },
    {
     "name": "stdout",
     "output_type": "stream",
     "text": [
      "Epoch 57: train_acc_0.9029_train_loss_0.2449_val_acc_0.8352_val_loss_0.5987 epoch time 12.2951 seconds\n",
      "total time11.0 : 56.83458662033081\n"
     ]
    },
    {
     "name": "stderr",
     "output_type": "stream",
     "text": [
      "loss: 0.3488, accuracy: 0.9000: 100%|██████████| 1000/1000 [00:10<00:00, 92.34it/s]\n",
      "loss: 0.5156, accuracy: 0.8200: 100%|██████████| 158/158 [00:01<00:00, 153.02it/s]\n",
      "loss: 0.2262, accuracy: 0.9100:   2%|▏         | 17/1000 [00:00<00:10, 94.25it/s]"
     ]
    },
    {
     "name": "stdout",
     "output_type": "stream",
     "text": [
      "Epoch 58: train_acc_0.9051_train_loss_0.2395_val_acc_0.8298_val_loss_0.6198 epoch time 12.3147 seconds\n",
      "total time12.0 : 9.149297714233398\n"
     ]
    },
    {
     "name": "stderr",
     "output_type": "stream",
     "text": [
      "loss: 0.2607, accuracy: 0.8900: 100%|██████████| 1000/1000 [00:11<00:00, 90.26it/s]\n",
      "loss: 0.3482, accuracy: 0.8500: 100%|██████████| 158/158 [00:01<00:00, 151.28it/s]\n",
      "loss: 0.1506, accuracy: 0.9500:   2%|▏         | 18/1000 [00:00<00:10, 93.46it/s]"
     ]
    },
    {
     "name": "stdout",
     "output_type": "stream",
     "text": [
      "Epoch 59: train_acc_0.9051_train_loss_0.2393_val_acc_0.8323_val_loss_0.6203 epoch time 12.2617 seconds\n",
      "total time12.0 : 21.41096305847168\n"
     ]
    },
    {
     "name": "stderr",
     "output_type": "stream",
     "text": [
      "loss: 0.2705, accuracy: 0.8800: 100%|██████████| 1000/1000 [00:11<00:00, 89.42it/s]\n",
      "loss: 0.5137, accuracy: 0.7700: 100%|██████████| 158/158 [00:01<00:00, 151.38it/s]\n",
      "loss: 0.2753, accuracy: 0.9000:   2%|▏         | 18/1000 [00:00<00:10, 94.62it/s]"
     ]
    },
    {
     "name": "stdout",
     "output_type": "stream",
     "text": [
      "Epoch 60: train_acc_0.9048_train_loss_0.2387_val_acc_0.8302_val_loss_0.6280 epoch time 12.3635 seconds\n",
      "total time12.0 : 33.77442502975464\n"
     ]
    },
    {
     "name": "stderr",
     "output_type": "stream",
     "text": [
      "loss: 0.2330, accuracy: 0.9000: 100%|██████████| 1000/1000 [00:11<00:00, 89.05it/s]\n",
      "loss: 0.7395, accuracy: 0.8000: 100%|██████████| 158/158 [00:01<00:00, 148.71it/s]\n",
      "loss: 0.2396, accuracy: 0.9100:   2%|▏         | 17/1000 [00:00<00:10, 94.36it/s]"
     ]
    },
    {
     "name": "stdout",
     "output_type": "stream",
     "text": [
      "Epoch 61: train_acc_0.9073_train_loss_0.2332_val_acc_0.8271_val_loss_0.6491 epoch time 12.4301 seconds\n",
      "total time12.0 : 46.20448184013367\n"
     ]
    },
    {
     "name": "stderr",
     "output_type": "stream",
     "text": [
      "loss: 0.1688, accuracy: 0.9200: 100%|██████████| 1000/1000 [00:11<00:00, 89.57it/s]\n",
      "loss: 0.4690, accuracy: 0.8400: 100%|██████████| 158/158 [00:01<00:00, 148.36it/s]\n",
      "loss: 0.2610, accuracy: 0.9100:   2%|▏         | 18/1000 [00:00<00:10, 94.76it/s]"
     ]
    },
    {
     "name": "stdout",
     "output_type": "stream",
     "text": [
      "Epoch 62: train_acc_0.9069_train_loss_0.2333_val_acc_0.8330_val_loss_0.6259 epoch time 12.3675 seconds\n",
      "total time12.0 : 58.57200622558594\n"
     ]
    },
    {
     "name": "stderr",
     "output_type": "stream",
     "text": [
      "loss: 0.2584, accuracy: 0.9300: 100%|██████████| 1000/1000 [00:11<00:00, 89.99it/s]\n",
      "loss: 0.6386, accuracy: 0.8300: 100%|██████████| 158/158 [00:01<00:00, 149.85it/s]\n",
      "loss: 0.2590, accuracy: 0.9000:   2%|▏         | 18/1000 [00:00<00:10, 94.52it/s]"
     ]
    },
    {
     "name": "stdout",
     "output_type": "stream",
     "text": [
      "Epoch 63: train_acc_0.9082_train_loss_0.2302_val_acc_0.8284_val_loss_0.6401 epoch time 12.3033 seconds\n",
      "total time13.0 : 10.875325918197632\n"
     ]
    },
    {
     "name": "stderr",
     "output_type": "stream",
     "text": [
      "loss: 0.3961, accuracy: 0.8200: 100%|██████████| 1000/1000 [00:11<00:00, 89.48it/s]\n",
      "loss: 1.0220, accuracy: 0.7700: 100%|██████████| 158/158 [00:01<00:00, 151.60it/s]\n",
      "loss: 0.2330, accuracy: 0.9100:   2%|▏         | 17/1000 [00:00<00:10, 91.66it/s]"
     ]
    },
    {
     "name": "stdout",
     "output_type": "stream",
     "text": [
      "Epoch 64: train_acc_0.9074_train_loss_0.2312_val_acc_0.8257_val_loss_0.6592 epoch time 12.3517 seconds\n",
      "total time13.0 : 23.22698450088501\n"
     ]
    },
    {
     "name": "stderr",
     "output_type": "stream",
     "text": [
      "loss: 0.1788, accuracy: 0.9400: 100%|██████████| 1000/1000 [00:11<00:00, 88.91it/s]\n",
      "loss: 0.6291, accuracy: 0.7900: 100%|██████████| 158/158 [00:01<00:00, 148.57it/s]\n",
      "loss: 0.1464, accuracy: 0.9200:   2%|▏         | 18/1000 [00:00<00:10, 94.96it/s]"
     ]
    },
    {
     "name": "stdout",
     "output_type": "stream",
     "text": [
      "Epoch 65: train_acc_0.9085_train_loss_0.2285_val_acc_0.8297_val_loss_0.6412 epoch time 12.4527 seconds\n",
      "total time13.0 : 35.67966151237488\n"
     ]
    },
    {
     "name": "stderr",
     "output_type": "stream",
     "text": [
      "loss: 0.2198, accuracy: 0.8900: 100%|██████████| 1000/1000 [00:11<00:00, 88.85it/s]\n",
      "loss: 0.8271, accuracy: 0.7700: 100%|██████████| 158/158 [00:01<00:00, 152.09it/s]\n",
      "loss: 0.1938, accuracy: 0.9100:   2%|▏         | 18/1000 [00:00<00:10, 96.36it/s]"
     ]
    },
    {
     "name": "stdout",
     "output_type": "stream",
     "text": [
      "Epoch 66: train_acc_0.9088_train_loss_0.2268_val_acc_0.8297_val_loss_0.6495 epoch time 12.4305 seconds\n",
      "total time13.0 : 48.11019706726074\n"
     ]
    },
    {
     "name": "stderr",
     "output_type": "stream",
     "text": [
      "loss: 0.2772, accuracy: 0.8900: 100%|██████████| 1000/1000 [00:10<00:00, 91.40it/s]\n",
      "loss: 0.8277, accuracy: 0.8000: 100%|██████████| 158/158 [00:01<00:00, 150.48it/s]\n",
      "loss: 0.2359, accuracy: 0.8900:   2%|▏         | 18/1000 [00:00<00:10, 93.06it/s]"
     ]
    },
    {
     "name": "stdout",
     "output_type": "stream",
     "text": [
      "Epoch 67: train_acc_0.9090_train_loss_0.2248_val_acc_0.8294_val_loss_0.6563 epoch time 12.3276 seconds\n",
      "total time14.0 : 0.4377872943878174\n"
     ]
    },
    {
     "name": "stderr",
     "output_type": "stream",
     "text": [
      "loss: 0.2199, accuracy: 0.9400: 100%|██████████| 1000/1000 [00:11<00:00, 88.51it/s]\n",
      "loss: 1.0507, accuracy: 0.7600: 100%|██████████| 158/158 [00:00<00:00, 164.05it/s]\n",
      "loss: 0.1627, accuracy: 0.9600:   2%|▏         | 18/1000 [00:00<00:09, 98.62it/s]"
     ]
    },
    {
     "name": "stdout",
     "output_type": "stream",
     "text": [
      "Epoch 68: train_acc_0.9096_train_loss_0.2247_val_acc_0.8281_val_loss_0.6865 epoch time 12.3946 seconds\n",
      "total time14.0 : 12.832418203353882\n"
     ]
    },
    {
     "name": "stderr",
     "output_type": "stream",
     "text": [
      "loss: 0.3218, accuracy: 0.8800: 100%|██████████| 1000/1000 [00:11<00:00, 89.32it/s]\n",
      "loss: 0.5316, accuracy: 0.8700: 100%|██████████| 158/158 [00:01<00:00, 148.77it/s]\n",
      "loss: 0.1626, accuracy: 0.9300:   2%|▏         | 18/1000 [00:00<00:10, 93.33it/s]"
     ]
    },
    {
     "name": "stdout",
     "output_type": "stream",
     "text": [
      "Epoch 69: train_acc_0.9117_train_loss_0.2202_val_acc_0.8241_val_loss_0.6755 epoch time 12.3932 seconds\n",
      "total time14.0 : 25.225608825683594\n"
     ]
    },
    {
     "name": "stderr",
     "output_type": "stream",
     "text": [
      "loss: 0.2987, accuracy: 0.9000: 100%|██████████| 1000/1000 [00:10<00:00, 91.04it/s]\n",
      "loss: 0.4259, accuracy: 0.8500: 100%|██████████| 158/158 [00:01<00:00, 147.36it/s]\n",
      "loss: 0.1612, accuracy: 0.9200:   2%|▏         | 18/1000 [00:00<00:10, 94.88it/s]"
     ]
    },
    {
     "name": "stdout",
     "output_type": "stream",
     "text": [
      "Epoch 70: train_acc_0.9105_train_loss_0.2231_val_acc_0.8253_val_loss_0.6778 epoch time 12.3657 seconds\n",
      "total time14.0 : 37.59134030342102\n"
     ]
    },
    {
     "name": "stderr",
     "output_type": "stream",
     "text": [
      "loss: 0.3700, accuracy: 0.8400: 100%|██████████| 1000/1000 [00:11<00:00, 88.79it/s]\n",
      "loss: 0.5785, accuracy: 0.8600: 100%|██████████| 158/158 [00:01<00:00, 156.30it/s]\n",
      "loss: 0.2888, accuracy: 0.8700:   2%|▏         | 17/1000 [00:00<00:10, 92.68it/s]"
     ]
    },
    {
     "name": "stdout",
     "output_type": "stream",
     "text": [
      "Epoch 71: train_acc_0.9117_train_loss_0.2192_val_acc_0.8281_val_loss_0.6737 epoch time 12.4727 seconds\n",
      "total time14.0 : 50.06403708457947\n"
     ]
    },
    {
     "name": "stderr",
     "output_type": "stream",
     "text": [
      "loss: 0.2956, accuracy: 0.9000: 100%|██████████| 1000/1000 [00:11<00:00, 88.78it/s]\n",
      "loss: 0.6928, accuracy: 0.8100: 100%|██████████| 158/158 [00:01<00:00, 153.37it/s]\n",
      "loss: 0.2626, accuracy: 0.9200:   2%|▏         | 18/1000 [00:00<00:10, 95.60it/s]"
     ]
    },
    {
     "name": "stdout",
     "output_type": "stream",
     "text": [
      "Epoch 72: train_acc_0.9125_train_loss_0.2189_val_acc_0.8283_val_loss_0.6787 epoch time 12.4290 seconds\n",
      "total time15.0 : 2.4930384159088135\n"
     ]
    },
    {
     "name": "stderr",
     "output_type": "stream",
     "text": [
      "loss: 0.1797, accuracy: 0.9300: 100%|██████████| 1000/1000 [00:10<00:00, 92.39it/s]\n",
      "loss: 1.0539, accuracy: 0.7600: 100%|██████████| 158/158 [00:01<00:00, 151.08it/s]\n",
      "loss: 0.1730, accuracy: 0.9200:   2%|▏         | 18/1000 [00:00<00:10, 94.92it/s]"
     ]
    },
    {
     "name": "stdout",
     "output_type": "stream",
     "text": [
      "Epoch 73: train_acc_0.9123_train_loss_0.2161_val_acc_0.8276_val_loss_0.6846 epoch time 12.3156 seconds\n",
      "total time15.0 : 14.808676958084106\n"
     ]
    },
    {
     "name": "stderr",
     "output_type": "stream",
     "text": [
      "loss: 0.1353, accuracy: 0.9200: 100%|██████████| 1000/1000 [00:11<00:00, 89.55it/s]\n",
      "loss: 0.5035, accuracy: 0.8600: 100%|██████████| 158/158 [00:01<00:00, 150.48it/s]\n",
      "loss: 0.0597, accuracy: 0.9900:   2%|▏         | 18/1000 [00:00<00:10, 95.33it/s]"
     ]
    },
    {
     "name": "stdout",
     "output_type": "stream",
     "text": [
      "Epoch 74: train_acc_0.9122_train_loss_0.2159_val_acc_0.8287_val_loss_0.6951 epoch time 12.3543 seconds\n",
      "total time15.0 : 27.162964582443237\n"
     ]
    },
    {
     "name": "stderr",
     "output_type": "stream",
     "text": [
      "loss: 0.1922, accuracy: 0.9200: 100%|██████████| 1000/1000 [00:11<00:00, 89.35it/s]\n",
      "loss: 0.5808, accuracy: 0.8500: 100%|██████████| 158/158 [00:01<00:00, 151.09it/s]\n",
      "loss: 0.2340, accuracy: 0.9300:   2%|▏         | 17/1000 [00:00<00:10, 92.55it/s]"
     ]
    },
    {
     "name": "stdout",
     "output_type": "stream",
     "text": [
      "Epoch 75: train_acc_0.9135_train_loss_0.2147_val_acc_0.8280_val_loss_0.6895 epoch time 12.3749 seconds\n",
      "total time15.0 : 39.537896156311035\n"
     ]
    },
    {
     "name": "stderr",
     "output_type": "stream",
     "text": [
      "loss: 0.2094, accuracy: 0.9100: 100%|██████████| 1000/1000 [00:11<00:00, 89.20it/s]\n",
      "loss: 0.7097, accuracy: 0.8000: 100%|██████████| 158/158 [00:01<00:00, 150.44it/s]\n",
      "loss: 0.2322, accuracy: 0.8900:   2%|▏         | 17/1000 [00:00<00:10, 93.99it/s]"
     ]
    },
    {
     "name": "stdout",
     "output_type": "stream",
     "text": [
      "Epoch 76: train_acc_0.9133_train_loss_0.2135_val_acc_0.8214_val_loss_0.7370 epoch time 12.4015 seconds\n",
      "total time15.0 : 51.93940806388855\n"
     ]
    },
    {
     "name": "stderr",
     "output_type": "stream",
     "text": [
      "loss: 0.2561, accuracy: 0.8800: 100%|██████████| 1000/1000 [00:11<00:00, 89.30it/s]\n",
      "loss: 0.5316, accuracy: 0.8300: 100%|██████████| 158/158 [00:01<00:00, 152.84it/s]\n",
      "loss: 0.3587, accuracy: 0.8800:   2%|▏         | 18/1000 [00:00<00:10, 94.37it/s]"
     ]
    },
    {
     "name": "stdout",
     "output_type": "stream",
     "text": [
      "Epoch 77: train_acc_0.9141_train_loss_0.2119_val_acc_0.8275_val_loss_0.7102 epoch time 12.3661 seconds\n",
      "total time16.0 : 4.30547022819519\n"
     ]
    },
    {
     "name": "stderr",
     "output_type": "stream",
     "text": [
      "loss: 0.1289, accuracy: 0.9400: 100%|██████████| 1000/1000 [00:11<00:00, 90.40it/s]\n",
      "loss: 0.3588, accuracy: 0.9100: 100%|██████████| 158/158 [00:01<00:00, 153.65it/s]\n",
      "loss: 0.1880, accuracy: 0.9100:   2%|▏         | 18/1000 [00:00<00:10, 94.80it/s]"
     ]
    },
    {
     "name": "stdout",
     "output_type": "stream",
     "text": [
      "Epoch 78: train_acc_0.9155_train_loss_0.2083_val_acc_0.8235_val_loss_0.7312 epoch time 12.2250 seconds\n",
      "total time16.0 : 16.53046703338623\n"
     ]
    },
    {
     "name": "stderr",
     "output_type": "stream",
     "text": [
      "loss: 0.1373, accuracy: 0.9400: 100%|██████████| 1000/1000 [00:10<00:00, 91.92it/s]\n",
      "loss: 0.5679, accuracy: 0.8100: 100%|██████████| 158/158 [00:01<00:00, 153.52it/s]\n",
      "loss: 0.1058, accuracy: 0.9600:   2%|▏         | 18/1000 [00:00<00:10, 97.05it/s]"
     ]
    },
    {
     "name": "stdout",
     "output_type": "stream",
     "text": [
      "Epoch 79: train_acc_0.9153_train_loss_0.2094_val_acc_0.8282_val_loss_0.7243 epoch time 12.2745 seconds\n",
      "total time16.0 : 28.805001735687256\n"
     ]
    },
    {
     "name": "stderr",
     "output_type": "stream",
     "text": [
      "loss: 0.2260, accuracy: 0.9000: 100%|██████████| 1000/1000 [00:10<00:00, 92.50it/s]\n",
      "loss: 1.2634, accuracy: 0.7400: 100%|██████████| 158/158 [00:01<00:00, 148.72it/s]\n",
      "loss: 0.1800, accuracy: 0.9100:   2%|▏         | 18/1000 [00:00<00:10, 95.07it/s]"
     ]
    },
    {
     "name": "stdout",
     "output_type": "stream",
     "text": [
      "Epoch 80: train_acc_0.9158_train_loss_0.2079_val_acc_0.8226_val_loss_0.7330 epoch time 12.3098 seconds\n",
      "total time16.0 : 41.114837884902954\n"
     ]
    },
    {
     "name": "stderr",
     "output_type": "stream",
     "text": [
      "loss: 0.1880, accuracy: 0.9000: 100%|██████████| 1000/1000 [00:10<00:00, 94.04it/s]\n",
      "loss: 0.6605, accuracy: 0.7900: 100%|██████████| 158/158 [00:01<00:00, 152.80it/s]\n",
      "loss: 0.2043, accuracy: 0.8900:   2%|▏         | 17/1000 [00:00<00:10, 91.25it/s]"
     ]
    },
    {
     "name": "stdout",
     "output_type": "stream",
     "text": [
      "Epoch 81: train_acc_0.9167_train_loss_0.2066_val_acc_0.8192_val_loss_0.7467 epoch time 12.3541 seconds\n",
      "total time16.0 : 53.46898293495178\n"
     ]
    },
    {
     "name": "stderr",
     "output_type": "stream",
     "text": [
      "loss: 0.3222, accuracy: 0.9300: 100%|██████████| 1000/1000 [00:11<00:00, 88.74it/s]\n",
      "loss: 0.6787, accuracy: 0.7700: 100%|██████████| 158/158 [00:01<00:00, 152.42it/s]\n",
      "loss: 0.1940, accuracy: 0.9400:   2%|▏         | 17/1000 [00:00<00:10, 91.66it/s]"
     ]
    },
    {
     "name": "stdout",
     "output_type": "stream",
     "text": [
      "Epoch 82: train_acc_0.9161_train_loss_0.2052_val_acc_0.8225_val_loss_0.7558 epoch time 12.4855 seconds\n",
      "total time17.0 : 5.954450368881226\n"
     ]
    },
    {
     "name": "stderr",
     "output_type": "stream",
     "text": [
      "loss: 0.2134, accuracy: 0.9200: 100%|██████████| 1000/1000 [00:11<00:00, 89.36it/s]\n",
      "loss: 0.9692, accuracy: 0.7600: 100%|██████████| 158/158 [00:01<00:00, 150.99it/s]\n",
      "loss: 0.2586, accuracy: 0.9000:   2%|▏         | 18/1000 [00:00<00:10, 94.39it/s]"
     ]
    },
    {
     "name": "stdout",
     "output_type": "stream",
     "text": [
      "Epoch 83: train_acc_0.9146_train_loss_0.2085_val_acc_0.8222_val_loss_0.7492 epoch time 12.3719 seconds\n",
      "total time17.0 : 18.32639193534851\n"
     ]
    },
    {
     "name": "stderr",
     "output_type": "stream",
     "text": [
      "loss: 0.3247, accuracy: 0.8800: 100%|██████████| 1000/1000 [00:10<00:00, 92.42it/s]\n",
      "loss: 0.8145, accuracy: 0.7900: 100%|██████████| 158/158 [00:01<00:00, 150.57it/s]\n",
      "loss: 0.1596, accuracy: 0.9400:   2%|▏         | 18/1000 [00:00<00:10, 95.74it/s]"
     ]
    },
    {
     "name": "stdout",
     "output_type": "stream",
     "text": [
      "Epoch 84: train_acc_0.9176_train_loss_0.2034_val_acc_0.8279_val_loss_0.7341 epoch time 12.3023 seconds\n",
      "total time17.0 : 30.62873339653015\n"
     ]
    },
    {
     "name": "stderr",
     "output_type": "stream",
     "text": [
      "loss: 0.1460, accuracy: 0.9600: 100%|██████████| 1000/1000 [00:10<00:00, 92.64it/s]\n",
      "loss: 0.6719, accuracy: 0.8500: 100%|██████████| 158/158 [00:01<00:00, 151.31it/s]\n",
      "loss: 0.1132, accuracy: 0.9700:   2%|▏         | 18/1000 [00:00<00:10, 96.37it/s]"
     ]
    },
    {
     "name": "stdout",
     "output_type": "stream",
     "text": [
      "Epoch 85: train_acc_0.9164_train_loss_0.2049_val_acc_0.8222_val_loss_0.7634 epoch time 12.2661 seconds\n",
      "total time17.0 : 42.89487648010254\n"
     ]
    },
    {
     "name": "stderr",
     "output_type": "stream",
     "text": [
      "loss: 0.2381, accuracy: 0.8900: 100%|██████████| 1000/1000 [00:10<00:00, 92.13it/s]\n",
      "loss: 0.7710, accuracy: 0.8600: 100%|██████████| 158/158 [00:01<00:00, 152.63it/s]\n",
      "loss: 0.3194, accuracy: 0.8900:   2%|▏         | 18/1000 [00:00<00:10, 96.03it/s]"
     ]
    },
    {
     "name": "stdout",
     "output_type": "stream",
     "text": [
      "Epoch 86: train_acc_0.9179_train_loss_0.2014_val_acc_0.8280_val_loss_0.7598 epoch time 12.3189 seconds\n",
      "total time17.0 : 55.213823556900024\n"
     ]
    },
    {
     "name": "stderr",
     "output_type": "stream",
     "text": [
      "loss: 0.2522, accuracy: 0.9200: 100%|██████████| 1000/1000 [00:10<00:00, 89.81it/s]\n",
      "loss: 0.5119, accuracy: 0.8700: 100%|██████████| 158/158 [00:01<00:00, 150.54it/s]\n",
      "loss: 0.3163, accuracy: 0.8600:   2%|▏         | 18/1000 [00:00<00:10, 97.26it/s]"
     ]
    },
    {
     "name": "stdout",
     "output_type": "stream",
     "text": [
      "Epoch 87: train_acc_0.9190_train_loss_0.1998_val_acc_0.8230_val_loss_0.7750 epoch time 12.3922 seconds\n",
      "total time18.0 : 7.606065988540649\n"
     ]
    },
    {
     "name": "stderr",
     "output_type": "stream",
     "text": [
      "loss: 0.1726, accuracy: 0.9400: 100%|██████████| 1000/1000 [00:10<00:00, 91.24it/s]\n",
      "loss: 0.6095, accuracy: 0.8700: 100%|██████████| 158/158 [00:01<00:00, 149.53it/s]\n",
      "loss: 0.1431, accuracy: 0.9500:   2%|▏         | 17/1000 [00:00<00:10, 93.00it/s]"
     ]
    },
    {
     "name": "stdout",
     "output_type": "stream",
     "text": [
      "Epoch 88: train_acc_0.9179_train_loss_0.2009_val_acc_0.8289_val_loss_0.7538 epoch time 12.2787 seconds\n",
      "total time18.0 : 19.884775161743164\n"
     ]
    },
    {
     "name": "stderr",
     "output_type": "stream",
     "text": [
      "loss: 0.1827, accuracy: 0.9000: 100%|██████████| 1000/1000 [00:11<00:00, 89.27it/s]\n",
      "loss: 0.6160, accuracy: 0.7900: 100%|██████████| 158/158 [00:01<00:00, 149.59it/s]\n",
      "loss: 0.1874, accuracy: 0.9300:   2%|▏         | 18/1000 [00:00<00:10, 94.76it/s]"
     ]
    },
    {
     "name": "stdout",
     "output_type": "stream",
     "text": [
      "Epoch 89: train_acc_0.9192_train_loss_0.1982_val_acc_0.8259_val_loss_0.7488 epoch time 12.3986 seconds\n",
      "total time18.0 : 32.28340983390808\n"
     ]
    },
    {
     "name": "stderr",
     "output_type": "stream",
     "text": [
      "loss: 0.2128, accuracy: 0.9100: 100%|██████████| 1000/1000 [00:11<00:00, 89.47it/s]\n",
      "loss: 0.5382, accuracy: 0.8400: 100%|██████████| 158/158 [00:01<00:00, 151.40it/s]\n",
      "loss: 0.0822, accuracy: 0.9500:   2%|▏         | 18/1000 [00:00<00:10, 94.11it/s]"
     ]
    },
    {
     "name": "stdout",
     "output_type": "stream",
     "text": [
      "Epoch 90: train_acc_0.9188_train_loss_0.1988_val_acc_0.8155_val_loss_0.7980 epoch time 12.3573 seconds\n",
      "total time18.0 : 44.64075422286987\n"
     ]
    },
    {
     "name": "stderr",
     "output_type": "stream",
     "text": [
      "loss: 0.1120, accuracy: 0.9700: 100%|██████████| 1000/1000 [00:11<00:00, 89.61it/s]\n",
      "loss: 0.9921, accuracy: 0.7500: 100%|██████████| 158/158 [00:01<00:00, 148.98it/s]\n",
      "loss: 0.1713, accuracy: 0.9200:   2%|▏         | 17/1000 [00:00<00:10, 94.94it/s]"
     ]
    },
    {
     "name": "stdout",
     "output_type": "stream",
     "text": [
      "Epoch 91: train_acc_0.9185_train_loss_0.1982_val_acc_0.8213_val_loss_0.7623 epoch time 12.3592 seconds\n",
      "total time18.0 : 56.999913692474365\n"
     ]
    },
    {
     "name": "stderr",
     "output_type": "stream",
     "text": [
      "loss: 0.1432, accuracy: 0.9400: 100%|██████████| 1000/1000 [00:11<00:00, 89.05it/s]\n",
      "loss: 0.7073, accuracy: 0.8700: 100%|██████████| 158/158 [00:01<00:00, 150.26it/s]\n",
      "loss: 0.2899, accuracy: 0.8500:   2%|▏         | 18/1000 [00:00<00:10, 95.66it/s]"
     ]
    },
    {
     "name": "stdout",
     "output_type": "stream",
     "text": [
      "Epoch 92: train_acc_0.9206_train_loss_0.1935_val_acc_0.8227_val_loss_0.7911 epoch time 12.4156 seconds\n",
      "total time19.0 : 9.415542364120483\n"
     ]
    },
    {
     "name": "stderr",
     "output_type": "stream",
     "text": [
      "loss: 0.2729, accuracy: 0.9100: 100%|██████████| 1000/1000 [00:10<00:00, 90.99it/s]\n",
      "loss: 0.8402, accuracy: 0.8300: 100%|██████████| 158/158 [00:01<00:00, 149.80it/s]\n",
      "loss: 0.1689, accuracy: 0.9300:   2%|▏         | 17/1000 [00:00<00:10, 93.07it/s]"
     ]
    },
    {
     "name": "stdout",
     "output_type": "stream",
     "text": [
      "Epoch 93: train_acc_0.9222_train_loss_0.1927_val_acc_0.8228_val_loss_0.7942 epoch time 12.3454 seconds\n",
      "total time19.0 : 21.7609601020813\n"
     ]
    },
    {
     "name": "stderr",
     "output_type": "stream",
     "text": [
      "loss: 0.2717, accuracy: 0.9200: 100%|██████████| 1000/1000 [00:11<00:00, 88.89it/s]\n",
      "loss: 0.5040, accuracy: 0.8000: 100%|██████████| 158/158 [00:01<00:00, 151.92it/s]\n",
      "loss: 0.1300, accuracy: 0.9500:   2%|▏         | 17/1000 [00:00<00:10, 93.68it/s]"
     ]
    },
    {
     "name": "stdout",
     "output_type": "stream",
     "text": [
      "Epoch 94: train_acc_0.9196_train_loss_0.1970_val_acc_0.8203_val_loss_0.8078 epoch time 12.4712 seconds\n",
      "total time19.0 : 34.23219299316406\n"
     ]
    },
    {
     "name": "stderr",
     "output_type": "stream",
     "text": [
      "loss: 0.2335, accuracy: 0.9200: 100%|██████████| 1000/1000 [00:11<00:00, 89.20it/s]\n",
      "loss: 0.9482, accuracy: 0.8600: 100%|██████████| 158/158 [00:01<00:00, 151.63it/s]\n",
      "loss: 0.2825, accuracy: 0.8900:   2%|▏         | 18/1000 [00:00<00:10, 95.46it/s]"
     ]
    },
    {
     "name": "stdout",
     "output_type": "stream",
     "text": [
      "Epoch 95: train_acc_0.9215_train_loss_0.1911_val_acc_0.8127_val_loss_0.8412 epoch time 12.3886 seconds\n",
      "total time19.0 : 46.620800733566284\n"
     ]
    },
    {
     "name": "stderr",
     "output_type": "stream",
     "text": [
      "loss: 0.1282, accuracy: 0.9500: 100%|██████████| 1000/1000 [00:11<00:00, 89.35it/s]\n",
      "loss: 1.0200, accuracy: 0.7800: 100%|██████████| 158/158 [00:01<00:00, 150.66it/s]\n",
      "loss: 0.0931, accuracy: 0.9700:   2%|▏         | 18/1000 [00:00<00:10, 91.36it/s]"
     ]
    },
    {
     "name": "stdout",
     "output_type": "stream",
     "text": [
      "Epoch 96: train_acc_0.9216_train_loss_0.1912_val_acc_0.8178_val_loss_0.8223 epoch time 12.3785 seconds\n",
      "total time19.0 : 58.99927353858948\n"
     ]
    },
    {
     "name": "stderr",
     "output_type": "stream",
     "text": [
      "loss: 0.0968, accuracy: 0.9700: 100%|██████████| 1000/1000 [00:11<00:00, 89.87it/s]\n",
      "loss: 0.9165, accuracy: 0.8100: 100%|██████████| 158/158 [00:01<00:00, 153.74it/s]\n",
      "loss: 0.1495, accuracy: 0.9600:   2%|▏         | 18/1000 [00:00<00:10, 96.71it/s]"
     ]
    },
    {
     "name": "stdout",
     "output_type": "stream",
     "text": [
      "Epoch 97: train_acc_0.9216_train_loss_0.1902_val_acc_0.8161_val_loss_0.8317 epoch time 12.3565 seconds\n",
      "total time20.0 : 11.355737209320068\n"
     ]
    },
    {
     "name": "stderr",
     "output_type": "stream",
     "text": [
      "loss: 0.1391, accuracy: 0.9400: 100%|██████████| 1000/1000 [00:11<00:00, 90.00it/s]\n",
      "loss: 0.4937, accuracy: 0.8700: 100%|██████████| 158/158 [00:01<00:00, 152.85it/s]\n",
      "loss: 0.0956, accuracy: 0.9600:   2%|▏         | 18/1000 [00:00<00:10, 95.91it/s]"
     ]
    },
    {
     "name": "stdout",
     "output_type": "stream",
     "text": [
      "Epoch 98: train_acc_0.9213_train_loss_0.1926_val_acc_0.8179_val_loss_0.8410 epoch time 12.2815 seconds\n",
      "total time20.0 : 23.63721227645874\n"
     ]
    },
    {
     "name": "stderr",
     "output_type": "stream",
     "text": [
      "loss: 0.1700, accuracy: 0.9600: 100%|██████████| 1000/1000 [00:11<00:00, 89.43it/s]\n",
      "loss: 1.3801, accuracy: 0.7800: 100%|██████████| 158/158 [00:01<00:00, 148.94it/s]\n",
      "loss: 0.3134, accuracy: 0.8500:  18%|█▊        | 29/158 [00:00<00:00, 159.92it/s]"
     ]
    },
    {
     "name": "stdout",
     "output_type": "stream",
     "text": [
      "Epoch 99: train_acc_0.9227_train_loss_0.1867_val_acc_0.8187_val_loss_0.8357 epoch time 12.3827 seconds\n",
      "total time20.0 : 36.019893646240234\n",
      "Generating test set evaluation metrics\n"
     ]
    },
    {
     "name": "stderr",
     "output_type": "stream",
     "text": [
      "loss: 0.4417, accuracy: 0.8300: 100%|██████████| 158/158 [00:01<00:00, 151.15it/s]\n"
     ]
    },
    {
     "name": "stdout",
     "output_type": "stream",
     "text": [
      "finish\n"
     ]
    },
    {
     "data": {
      "image/png": "[encoded data removed]",
      "text/plain": [
       "<Figure size 576x288 with 1 Axes>"
      ]
     },
     "metadata": {
      "needs_background": "light"
     },
     "output_type": "display_data"
    },
    {
     "data": {
      "image/png": "[encoded data removed]",
      "text/plain": [
       "<Figure size 576x288 with 1 Axes>"
      ]
     },
     "metadata": {
      "needs_background": "light"
     },
     "output_type": "display_data"
    },
    {
     "name": "stderr",
     "output_type": "stream",
     "text": [
      "loss: 3.8514, accuracy: 0.0300:   2%|▏         | 16/1000 [00:00<00:09, 103.74it/s]"
     ]
    },
    {
     "name": "stdout",
     "output_type": "stream",
     "text": [
      "Building basic block of ConvolutionalNetwork using input shape (100, 1, 28, 28)\n",
      "torch.Size([100, 64, 7, 7])\n",
      "torch.Size([100, 64, 4, 4])\n",
      "torch.Size([100, 64, 1, 1])\n",
      "torch.Size([100, 64, 1, 1])\n",
      "torch.Size([100, 64, 1, 1])\n",
      "torch.Size([100, 64, 1, 1])\n",
      "torch.Size([100, 64, 1, 1])\n",
      "torch.Size([100, 64, 1, 1])\n",
      "shape before final linear layer torch.Size([100, 64, 2, 2])\n",
      "Block is built, output volume is torch.Size([100, 47])\n",
      "use GPU\n",
      "ConvolutionalNetwork(\n",
      "  (layer_dict): ModuleDict(\n",
      "    (conv_0): Conv2d(1, 64, kernel_size=(3, 3), stride=(4, 4), padding=(1, 1))\n",
      "    (dim_reduction_max_pool_0): MaxPool2d(kernel_size=2, stride=2, padding=1, dilation=1, ceil_mode=False)\n",
      "    (conv_1): Conv2d(64, 64, kernel_size=(3, 3), stride=(4, 4), padding=(1, 1))\n",
      "    (dim_reduction_max_pool_1): MaxPool2d(kernel_size=2, stride=2, padding=1, dilation=1, ceil_mode=False)\n",
      "    (conv_2): Conv2d(64, 64, kernel_size=(3, 3), stride=(4, 4), padding=(1, 1))\n",
      "    (dim_reduction_max_pool_2): MaxPool2d(kernel_size=2, stride=2, padding=1, dilation=1, ceil_mode=False)\n",
      "    (conv_3): Conv2d(64, 64, kernel_size=(3, 3), stride=(4, 4), padding=(1, 1))\n",
      "    (dim_reduction_max_pool_3): MaxPool2d(kernel_size=2, stride=2, padding=1, dilation=1, ceil_mode=False)\n",
      "  )\n",
      "  (logit_linear_layer): Linear(in_features=256, out_features=47, bias=True)\n",
      ")\n"
     ]
    },
    {
     "name": "stderr",
     "output_type": "stream",
     "text": [
      "loss: 3.3760, accuracy: 0.0800: 100%|██████████| 1000/1000 [00:10<00:00, 96.78it/s] \n",
      "loss: 3.4368, accuracy: 0.0400: 100%|██████████| 158/158 [00:01<00:00, 155.20it/s]\n",
      "loss: 3.4961, accuracy: 0.0700:   2%|▏         | 20/1000 [00:00<00:09, 106.92it/s]"
     ]
    },
    {
     "name": "stdout",
     "output_type": "stream",
     "text": [
      "Epoch 0: train_acc_0.0505_train_loss_3.6312_val_acc_0.0682_val_loss_3.4879 epoch time 11.4841 seconds\n",
      "total time0.0 : 11.484147548675537\n"
     ]
    },
    {
     "name": "stderr",
     "output_type": "stream",
     "text": [
      "loss: 3.4624, accuracy: 0.0600: 100%|██████████| 1000/1000 [00:10<00:00, 96.71it/s]\n",
      "loss: 3.2133, accuracy: 0.0800: 100%|██████████| 158/158 [00:01<00:00, 154.34it/s]\n",
      "loss: 3.3826, accuracy: 0.0600:   2%|▏         | 19/1000 [00:00<00:09, 101.33it/s]"
     ]
    },
    {
     "name": "stdout",
     "output_type": "stream",
     "text": [
      "Epoch 1: train_acc_0.0827_train_loss_3.4005_val_acc_0.0935_val_loss_3.3338 epoch time 11.5014 seconds\n",
      "total time0.0 : 22.98556113243103\n"
     ]
    },
    {
     "name": "stderr",
     "output_type": "stream",
     "text": [
      "loss: 3.1926, accuracy: 0.1800: 100%|██████████| 1000/1000 [00:10<00:00, 95.75it/s]\n",
      "loss: 3.2810, accuracy: 0.1600: 100%|██████████| 158/158 [00:01<00:00, 155.52it/s]\n",
      "loss: 3.3046, accuracy: 0.1000:   2%|▏         | 19/1000 [00:00<00:09, 101.97it/s]"
     ]
    },
    {
     "name": "stdout",
     "output_type": "stream",
     "text": [
      "Epoch 2: train_acc_0.1011_train_loss_3.2873_val_acc_0.1087_val_loss_3.2630 epoch time 11.6016 seconds\n",
      "total time0.0 : 34.58717226982117\n"
     ]
    },
    {
     "name": "stderr",
     "output_type": "stream",
     "text": [
      "loss: 3.0847, accuracy: 0.0800: 100%|██████████| 1000/1000 [00:10<00:00, 96.87it/s]\n",
      "loss: 3.3426, accuracy: 0.1200: 100%|██████████| 158/158 [00:00<00:00, 159.72it/s]\n",
      "loss: 3.2302, accuracy: 0.0800:   2%|▏         | 19/1000 [00:00<00:09, 100.90it/s]"
     ]
    },
    {
     "name": "stdout",
     "output_type": "stream",
     "text": [
      "Epoch 3: train_acc_0.1121_train_loss_3.2337_val_acc_0.1166_val_loss_3.2109 epoch time 11.4474 seconds\n",
      "total time0.0 : 46.03461146354675\n"
     ]
    },
    {
     "name": "stderr",
     "output_type": "stream",
     "text": [
      "loss: 3.1349, accuracy: 0.1300: 100%|██████████| 1000/1000 [00:10<00:00, 95.65it/s]\n",
      "loss: 3.2407, accuracy: 0.0700: 100%|██████████| 158/158 [00:01<00:00, 154.74it/s]\n",
      "loss: 3.1037, accuracy: 0.1500:   2%|▏         | 19/1000 [00:00<00:09, 98.99it/s]"
     ]
    },
    {
     "name": "stdout",
     "output_type": "stream",
     "text": [
      "Epoch 4: train_acc_0.1213_train_loss_3.1844_val_acc_0.1261_val_loss_3.1822 epoch time 11.6177 seconds\n",
      "total time0.0 : 57.65233898162842\n"
     ]
    },
    {
     "name": "stderr",
     "output_type": "stream",
     "text": [
      "loss: 3.3177, accuracy: 0.1200: 100%|██████████| 1000/1000 [00:10<00:00, 96.08it/s]\n",
      "loss: 3.0373, accuracy: 0.1800: 100%|██████████| 158/158 [00:01<00:00, 152.17it/s]\n",
      "loss: 3.2434, accuracy: 0.1500:   2%|▏         | 19/1000 [00:00<00:09, 102.09it/s]"
     ]
    },
    {
     "name": "stdout",
     "output_type": "stream",
     "text": [
      "Epoch 5: train_acc_0.1276_train_loss_3.1517_val_acc_0.1278_val_loss_3.1494 epoch time 11.5812 seconds\n",
      "total time1.0 : 9.233553171157837\n"
     ]
    },
    {
     "name": "stderr",
     "output_type": "stream",
     "text": [
      "loss: 3.1888, accuracy: 0.0900: 100%|██████████| 1000/1000 [00:10<00:00, 95.58it/s]\n",
      "loss: 3.1281, accuracy: 0.1400: 100%|██████████| 158/158 [00:01<00:00, 151.39it/s]\n",
      "loss: 3.1882, accuracy: 0.1300:   2%|▏         | 19/1000 [00:00<00:09, 100.36it/s]"
     ]
    },
    {
     "name": "stdout",
     "output_type": "stream",
     "text": [
      "Epoch 6: train_acc_0.1319_train_loss_3.1303_val_acc_0.1300_val_loss_3.1272 epoch time 11.6441 seconds\n",
      "total time1.0 : 20.87764573097229\n"
     ]
    },
    {
     "name": "stderr",
     "output_type": "stream",
     "text": [
      "loss: 3.0723, accuracy: 0.1600: 100%|██████████| 1000/1000 [00:10<00:00, 96.18it/s]\n",
      "loss: 3.0897, accuracy: 0.1300: 100%|██████████| 158/158 [00:01<00:00, 153.70it/s]\n",
      "loss: 2.9375, accuracy: 0.1600:   2%|▏         | 19/1000 [00:00<00:09, 98.31it/s]"
     ]
    },
    {
     "name": "stdout",
     "output_type": "stream",
     "text": [
      "Epoch 7: train_acc_0.1362_train_loss_3.1101_val_acc_0.1360_val_loss_3.1046 epoch time 11.5664 seconds\n",
      "total time1.0 : 32.44404864311218\n"
     ]
    },
    {
     "name": "stderr",
     "output_type": "stream",
     "text": [
      "loss: 3.2059, accuracy: 0.1700: 100%|██████████| 1000/1000 [00:10<00:00, 97.85it/s]\n",
      "loss: 2.9891, accuracy: 0.1200: 100%|██████████| 158/158 [00:01<00:00, 157.91it/s]\n",
      "loss: 3.2340, accuracy: 0.1100:   2%|▏         | 19/1000 [00:00<00:09, 102.76it/s]"
     ]
    },
    {
     "name": "stdout",
     "output_type": "stream",
     "text": [
      "Epoch 8: train_acc_0.1384_train_loss_3.0922_val_acc_0.1376_val_loss_3.0938 epoch time 11.5419 seconds\n",
      "total time1.0 : 43.98593235015869\n"
     ]
    },
    {
     "name": "stderr",
     "output_type": "stream",
     "text": [
      "loss: 3.2491, accuracy: 0.1500: 100%|██████████| 1000/1000 [00:10<00:00, 96.75it/s]\n",
      "loss: 3.0026, accuracy: 0.2100: 100%|██████████| 158/158 [00:01<00:00, 152.82it/s]\n",
      "loss: 3.2405, accuracy: 0.0700:   2%|▏         | 19/1000 [00:00<00:09, 103.77it/s]"
     ]
    },
    {
     "name": "stdout",
     "output_type": "stream",
     "text": [
      "Epoch 9: train_acc_0.1406_train_loss_3.0778_val_acc_0.1406_val_loss_3.0818 epoch time 11.5040 seconds\n",
      "total time1.0 : 55.489898920059204\n"
     ]
    },
    {
     "name": "stderr",
     "output_type": "stream",
     "text": [
      "loss: 3.0915, accuracy: 0.1400: 100%|██████████| 1000/1000 [00:10<00:00, 95.53it/s]\n",
      "loss: 3.1907, accuracy: 0.1200: 100%|██████████| 158/158 [00:01<00:00, 153.32it/s]\n",
      "loss: 2.9063, accuracy: 0.1200:   2%|▏         | 19/1000 [00:00<00:09, 99.93it/s]"
     ]
    },
    {
     "name": "stdout",
     "output_type": "stream",
     "text": [
      "Epoch 10: train_acc_0.1436_train_loss_3.0647_val_acc_0.1452_val_loss_3.0574 epoch time 11.6385 seconds\n",
      "total time2.0 : 7.128356456756592\n"
     ]
    },
    {
     "name": "stderr",
     "output_type": "stream",
     "text": [
      "loss: 3.0103, accuracy: 0.1400: 100%|██████████| 1000/1000 [00:10<00:00, 95.95it/s]\n",
      "loss: 3.0418, accuracy: 0.1400: 100%|██████████| 158/158 [00:01<00:00, 154.77it/s]\n",
      "loss: 3.1202, accuracy: 0.1100:   2%|▏         | 19/1000 [00:00<00:09, 103.45it/s]"
     ]
    },
    {
     "name": "stdout",
     "output_type": "stream",
     "text": [
      "Epoch 11: train_acc_0.1456_train_loss_3.0530_val_acc_0.1477_val_loss_3.0537 epoch time 11.5844 seconds\n",
      "total time2.0 : 18.712757110595703\n"
     ]
    },
    {
     "name": "stderr",
     "output_type": "stream",
     "text": [
      "loss: 2.8191, accuracy: 0.2200: 100%|██████████| 1000/1000 [00:10<00:00, 95.09it/s]\n",
      "loss: 3.1789, accuracy: 0.0700: 100%|██████████| 158/158 [00:01<00:00, 153.19it/s]\n",
      "loss: 3.0665, accuracy: 0.1800:   2%|▏         | 19/1000 [00:00<00:09, 101.57it/s]"
     ]
    },
    {
     "name": "stdout",
     "output_type": "stream",
     "text": [
      "Epoch 12: train_acc_0.1488_train_loss_3.0425_val_acc_0.1474_val_loss_3.0509 epoch time 11.6874 seconds\n",
      "total time2.0 : 30.400118350982666\n"
     ]
    },
    {
     "name": "stderr",
     "output_type": "stream",
     "text": [
      "loss: 3.2320, accuracy: 0.1500: 100%|██████████| 1000/1000 [00:10<00:00, 96.14it/s] \n",
      "loss: 3.0481, accuracy: 0.1400: 100%|██████████| 158/158 [00:01<00:00, 153.57it/s]\n",
      "loss: 2.9125, accuracy: 0.1300:   2%|▏         | 20/1000 [00:00<00:09, 107.90it/s]"
     ]
    },
    {
     "name": "stdout",
     "output_type": "stream",
     "text": [
      "Epoch 13: train_acc_0.1487_train_loss_3.0350_val_acc_0.1513_val_loss_3.0287 epoch time 11.5689 seconds\n",
      "total time2.0 : 41.96897006034851\n"
     ]
    },
    {
     "name": "stderr",
     "output_type": "stream",
     "text": [
      "loss: 2.9664, accuracy: 0.2500: 100%|██████████| 1000/1000 [00:10<00:00, 95.98it/s]\n",
      "loss: 2.7761, accuracy: 0.1800: 100%|██████████| 158/158 [00:01<00:00, 153.97it/s]\n",
      "loss: 2.9739, accuracy: 0.1800:   2%|▏         | 19/1000 [00:00<00:09, 99.85it/s]"
     ]
    },
    {
     "name": "stdout",
     "output_type": "stream",
     "text": [
      "Epoch 14: train_acc_0.1501_train_loss_3.0260_val_acc_0.1535_val_loss_3.0189 epoch time 11.5834 seconds\n",
      "total time2.0 : 53.55232381820679\n"
     ]
    },
    {
     "name": "stderr",
     "output_type": "stream",
     "text": [
      "loss: 3.0538, accuracy: 0.2000: 100%|██████████| 1000/1000 [00:10<00:00, 95.73it/s]\n",
      "loss: 3.0913, accuracy: 0.1200: 100%|██████████| 158/158 [00:01<00:00, 154.12it/s]\n",
      "loss: 3.2201, accuracy: 0.1400:   2%|▏         | 19/1000 [00:00<00:10, 97.69it/s]"
     ]
    },
    {
     "name": "stdout",
     "output_type": "stream",
     "text": [
      "Epoch 15: train_acc_0.1521_train_loss_3.0177_val_acc_0.1520_val_loss_3.0207 epoch time 11.6130 seconds\n",
      "total time3.0 : 5.165340185165405\n"
     ]
    },
    {
     "name": "stderr",
     "output_type": "stream",
     "text": [
      "loss: 2.9489, accuracy: 0.2000: 100%|██████████| 1000/1000 [00:10<00:00, 95.47it/s]\n",
      "loss: 3.1171, accuracy: 0.1300: 100%|██████████| 158/158 [00:01<00:00, 157.60it/s]\n",
      "loss: 2.9826, accuracy: 0.1400:   2%|▏         | 19/1000 [00:00<00:09, 101.83it/s]"
     ]
    },
    {
     "name": "stdout",
     "output_type": "stream",
     "text": [
      "Epoch 16: train_acc_0.1538_train_loss_3.0125_val_acc_0.1534_val_loss_3.0127 epoch time 11.6128 seconds\n",
      "total time3.0 : 16.77815556526184\n"
     ]
    },
    {
     "name": "stderr",
     "output_type": "stream",
     "text": [
      "loss: 2.9699, accuracy: 0.1000: 100%|██████████| 1000/1000 [00:10<00:00, 96.31it/s]\n",
      "loss: 2.9241, accuracy: 0.1600: 100%|██████████| 158/158 [00:01<00:00, 155.76it/s]\n",
      "loss: 2.8887, accuracy: 0.1900:   2%|▏         | 19/1000 [00:00<00:09, 99.92it/s]"
     ]
    },
    {
     "name": "stdout",
     "output_type": "stream",
     "text": [
      "Epoch 17: train_acc_0.1542_train_loss_3.0061_val_acc_0.1510_val_loss_3.0099 epoch time 11.5339 seconds\n",
      "total time3.0 : 28.312031269073486\n"
     ]
    },
    {
     "name": "stderr",
     "output_type": "stream",
     "text": [
      "loss: 3.0024, accuracy: 0.1400: 100%|██████████| 1000/1000 [00:10<00:00, 96.11it/s]\n",
      "loss: 3.0308, accuracy: 0.1900: 100%|██████████| 158/158 [00:01<00:00, 156.12it/s]\n",
      "loss: 3.0272, accuracy: 0.1700:   2%|▏         | 19/1000 [00:00<00:09, 101.71it/s]"
     ]
    },
    {
     "name": "stdout",
     "output_type": "stream",
     "text": [
      "Epoch 18: train_acc_0.1544_train_loss_2.9996_val_acc_0.1536_val_loss_3.0179 epoch time 11.5526 seconds\n",
      "total time3.0 : 39.86460995674133\n"
     ]
    },
    {
     "name": "stderr",
     "output_type": "stream",
     "text": [
      "loss: 3.0364, accuracy: 0.1500: 100%|██████████| 1000/1000 [00:10<00:00, 96.40it/s]\n",
      "loss: 3.1417, accuracy: 0.1500: 100%|██████████| 158/158 [00:01<00:00, 155.97it/s]\n",
      "loss: 3.0157, accuracy: 0.1200:   2%|▏         | 19/1000 [00:00<00:09, 101.61it/s]"
     ]
    },
    {
     "name": "stdout",
     "output_type": "stream",
     "text": [
      "Epoch 19: train_acc_0.1575_train_loss_2.9935_val_acc_0.1565_val_loss_2.9962 epoch time 11.5220 seconds\n",
      "total time3.0 : 51.38661050796509\n"
     ]
    },
    {
     "name": "stderr",
     "output_type": "stream",
     "text": [
      "loss: 2.8642, accuracy: 0.1700: 100%|██████████| 1000/1000 [00:10<00:00, 96.14it/s]\n",
      "loss: 3.2175, accuracy: 0.1600: 100%|██████████| 158/158 [00:01<00:00, 154.77it/s]\n",
      "loss: 2.9335, accuracy: 0.1400:   2%|▏         | 20/1000 [00:00<00:09, 105.85it/s]"
     ]
    },
    {
     "name": "stdout",
     "output_type": "stream",
     "text": [
      "Epoch 20: train_acc_0.1577_train_loss_2.9888_val_acc_0.1559_val_loss_2.9975 epoch time 11.5593 seconds\n",
      "total time4.0 : 2.945906639099121\n"
     ]
    },
    {
     "name": "stderr",
     "output_type": "stream",
     "text": [
      "loss: 2.9821, accuracy: 0.1400: 100%|██████████| 1000/1000 [00:10<00:00, 96.27it/s]\n",
      "loss: 3.0177, accuracy: 0.2200: 100%|██████████| 158/158 [00:01<00:00, 156.29it/s]\n",
      "loss: 3.0113, accuracy: 0.1800:   2%|▏         | 19/1000 [00:00<00:09, 101.42it/s]"
     ]
    },
    {
     "name": "stdout",
     "output_type": "stream",
     "text": [
      "Epoch 21: train_acc_0.1603_train_loss_2.9845_val_acc_0.1549_val_loss_3.0069 epoch time 11.5389 seconds\n",
      "total time4.0 : 14.484806776046753\n"
     ]
    },
    {
     "name": "stderr",
     "output_type": "stream",
     "text": [
      "loss: 2.8621, accuracy: 0.2100: 100%|██████████| 1000/1000 [00:10<00:00, 95.96it/s]\n",
      "loss: 2.9492, accuracy: 0.1500: 100%|██████████| 158/158 [00:00<00:00, 158.31it/s]\n",
      "loss: 3.0013, accuracy: 0.1900:   2%|▏         | 20/1000 [00:00<00:09, 102.95it/s]"
     ]
    },
    {
     "name": "stdout",
     "output_type": "stream",
     "text": [
      "Epoch 22: train_acc_0.1606_train_loss_2.9785_val_acc_0.1593_val_loss_2.9921 epoch time 11.5535 seconds\n",
      "total time4.0 : 26.038304805755615\n"
     ]
    },
    {
     "name": "stderr",
     "output_type": "stream",
     "text": [
      "loss: 2.8599, accuracy: 0.2000: 100%|██████████| 1000/1000 [00:10<00:00, 96.90it/s]\n",
      "loss: 3.1438, accuracy: 0.1400: 100%|██████████| 158/158 [00:01<00:00, 151.97it/s]\n",
      "loss: 3.0020, accuracy: 0.2300:   2%|▏         | 19/1000 [00:00<00:09, 100.16it/s]"
     ]
    },
    {
     "name": "stdout",
     "output_type": "stream",
     "text": [
      "Epoch 23: train_acc_0.1603_train_loss_2.9756_val_acc_0.1582_val_loss_2.9972 epoch time 11.5009 seconds\n",
      "total time4.0 : 37.53918147087097\n"
     ]
    },
    {
     "name": "stderr",
     "output_type": "stream",
     "text": [
      "loss: 3.1400, accuracy: 0.1400: 100%|██████████| 1000/1000 [00:10<00:00, 95.01it/s]\n",
      "loss: 2.9807, accuracy: 0.1300: 100%|██████████| 158/158 [00:01<00:00, 155.76it/s]\n",
      "loss: 3.0079, accuracy: 0.1400:   2%|▏         | 19/1000 [00:00<00:09, 101.73it/s]"
     ]
    },
    {
     "name": "stdout",
     "output_type": "stream",
     "text": [
      "Epoch 24: train_acc_0.1602_train_loss_2.9706_val_acc_0.1605_val_loss_2.9809 epoch time 11.6763 seconds\n",
      "total time4.0 : 49.215489864349365\n"
     ]
    },
    {
     "name": "stderr",
     "output_type": "stream",
     "text": [
      "loss: 2.9205, accuracy: 0.1200: 100%|██████████| 1000/1000 [00:10<00:00, 96.12it/s]\n",
      "loss: 3.0305, accuracy: 0.1800: 100%|██████████| 158/158 [00:01<00:00, 153.67it/s]\n",
      "loss: 2.9782, accuracy: 0.1300:   2%|▏         | 19/1000 [00:00<00:09, 99.77it/s]"
     ]
    },
    {
     "name": "stdout",
     "output_type": "stream",
     "text": [
      "Epoch 25: train_acc_0.1623_train_loss_2.9673_val_acc_0.1654_val_loss_2.9739 epoch time 11.5673 seconds\n",
      "total time5.0 : 0.7828187942504883\n"
     ]
    },
    {
     "name": "stderr",
     "output_type": "stream",
     "text": [
      "loss: 2.9492, accuracy: 0.1500: 100%|██████████| 1000/1000 [00:10<00:00, 98.22it/s]\n",
      "loss: 3.1124, accuracy: 0.1300: 100%|██████████| 158/158 [00:01<00:00, 156.71it/s]\n",
      "loss: 2.9436, accuracy: 0.1700:   2%|▏         | 19/1000 [00:00<00:09, 102.13it/s]"
     ]
    },
    {
     "name": "stdout",
     "output_type": "stream",
     "text": [
      "Epoch 26: train_acc_0.1624_train_loss_2.9635_val_acc_0.1639_val_loss_2.9752 epoch time 11.5855 seconds\n",
      "total time5.0 : 12.368347883224487\n"
     ]
    },
    {
     "name": "stderr",
     "output_type": "stream",
     "text": [
      "loss: 2.8239, accuracy: 0.2000: 100%|██████████| 1000/1000 [00:10<00:00, 96.97it/s]\n",
      "loss: 2.9950, accuracy: 0.2300: 100%|██████████| 158/158 [00:01<00:00, 157.03it/s]\n",
      "loss: 3.1011, accuracy: 0.1900:   2%|▏         | 19/1000 [00:00<00:09, 101.83it/s]"
     ]
    },
    {
     "name": "stdout",
     "output_type": "stream",
     "text": [
      "Epoch 27: train_acc_0.1631_train_loss_2.9605_val_acc_0.1623_val_loss_2.9723 epoch time 11.4539 seconds\n",
      "total time5.0 : 23.822219133377075\n"
     ]
    },
    {
     "name": "stderr",
     "output_type": "stream",
     "text": [
      "loss: 3.1047, accuracy: 0.1000: 100%|██████████| 1000/1000 [00:10<00:00, 95.04it/s]\n",
      "loss: 3.0075, accuracy: 0.1200: 100%|██████████| 158/158 [00:00<00:00, 169.02it/s]\n",
      "loss: 3.0309, accuracy: 0.1400:   2%|▏         | 19/1000 [00:00<00:09, 102.04it/s]"
     ]
    },
    {
     "name": "stdout",
     "output_type": "stream",
     "text": [
      "Epoch 28: train_acc_0.1643_train_loss_2.9572_val_acc_0.1601_val_loss_2.9871 epoch time 11.6304 seconds\n",
      "total time5.0 : 35.4526002407074\n"
     ]
    },
    {
     "name": "stderr",
     "output_type": "stream",
     "text": [
      "loss: 2.9796, accuracy: 0.1800: 100%|██████████| 1000/1000 [00:10<00:00, 96.94it/s]\n",
      "loss: 3.1979, accuracy: 0.1300: 100%|██████████| 158/158 [00:01<00:00, 156.74it/s]\n",
      "loss: 3.0687, accuracy: 0.1000:   2%|▏         | 19/1000 [00:00<00:09, 100.48it/s]"
     ]
    },
    {
     "name": "stdout",
     "output_type": "stream",
     "text": [
      "Epoch 29: train_acc_0.1661_train_loss_2.9545_val_acc_0.1628_val_loss_2.9694 epoch time 11.4600 seconds\n",
      "total time5.0 : 46.912593364715576\n"
     ]
    },
    {
     "name": "stderr",
     "output_type": "stream",
     "text": [
      "loss: 2.8861, accuracy: 0.2000: 100%|██████████| 1000/1000 [00:10<00:00, 95.88it/s]\n",
      "loss: 3.1327, accuracy: 0.1400: 100%|██████████| 158/158 [00:01<00:00, 155.18it/s]\n",
      "loss: 2.7625, accuracy: 0.1600:   2%|▏         | 19/1000 [00:00<00:09, 99.87it/s]"
     ]
    },
    {
     "name": "stdout",
     "output_type": "stream",
     "text": [
      "Epoch 30: train_acc_0.1658_train_loss_2.9508_val_acc_0.1611_val_loss_2.9663 epoch time 11.5881 seconds\n",
      "total time5.0 : 58.500649213790894\n"
     ]
    },
    {
     "name": "stderr",
     "output_type": "stream",
     "text": [
      "loss: 2.9842, accuracy: 0.1400: 100%|██████████| 1000/1000 [00:10<00:00, 95.49it/s]\n",
      "loss: 3.0356, accuracy: 0.1500: 100%|██████████| 158/158 [00:01<00:00, 152.55it/s]\n",
      "loss: 3.2646, accuracy: 0.0900:   2%|▏         | 18/1000 [00:00<00:10, 97.18it/s]"
     ]
    },
    {
     "name": "stdout",
     "output_type": "stream",
     "text": [
      "Epoch 31: train_acc_0.1658_train_loss_2.9496_val_acc_0.1647_val_loss_2.9643 epoch time 11.6495 seconds\n",
      "total time6.0 : 10.150107860565186\n"
     ]
    },
    {
     "name": "stderr",
     "output_type": "stream",
     "text": [
      "loss: 2.9550, accuracy: 0.1800: 100%|██████████| 1000/1000 [00:10<00:00, 94.88it/s]\n",
      "loss: 2.7211, accuracy: 0.1900: 100%|██████████| 158/158 [00:01<00:00, 154.39it/s]\n",
      "loss: 3.0969, accuracy: 0.1100:   2%|▏         | 19/1000 [00:00<00:09, 99.32it/s]"
     ]
    },
    {
     "name": "stdout",
     "output_type": "stream",
     "text": [
      "Epoch 32: train_acc_0.1661_train_loss_2.9475_val_acc_0.1642_val_loss_2.9719 epoch time 11.7039 seconds\n",
      "total time6.0 : 21.85401177406311\n"
     ]
    },
    {
     "name": "stderr",
     "output_type": "stream",
     "text": [
      "loss: 3.1444, accuracy: 0.1000: 100%|██████████| 1000/1000 [00:10<00:00, 95.66it/s]\n",
      "loss: 2.9397, accuracy: 0.1800: 100%|██████████| 158/158 [00:01<00:00, 152.82it/s]\n",
      "loss: 2.9432, accuracy: 0.1800:   2%|▏         | 18/1000 [00:00<00:10, 98.06it/s]"
     ]
    },
    {
     "name": "stdout",
     "output_type": "stream",
     "text": [
      "Epoch 33: train_acc_0.1673_train_loss_2.9447_val_acc_0.1630_val_loss_2.9822 epoch time 11.6282 seconds\n",
      "total time6.0 : 33.48222756385803\n"
     ]
    },
    {
     "name": "stderr",
     "output_type": "stream",
     "text": [
      "loss: 3.0653, accuracy: 0.1400: 100%|██████████| 1000/1000 [00:10<00:00, 95.52it/s]\n",
      "loss: 2.6530, accuracy: 0.2000: 100%|██████████| 158/158 [00:01<00:00, 155.92it/s]\n",
      "loss: 2.9794, accuracy: 0.1200:   2%|▏         | 19/1000 [00:00<00:09, 101.08it/s]"
     ]
    },
    {
     "name": "stdout",
     "output_type": "stream",
     "text": [
      "Epoch 34: train_acc_0.1667_train_loss_2.9425_val_acc_0.1666_val_loss_2.9562 epoch time 11.6196 seconds\n",
      "total time6.0 : 45.10187220573425\n"
     ]
    },
    {
     "name": "stderr",
     "output_type": "stream",
     "text": [
      "loss: 2.9879, accuracy: 0.1400: 100%|██████████| 1000/1000 [00:10<00:00, 96.10it/s]\n",
      "loss: 2.8512, accuracy: 0.1900: 100%|██████████| 158/158 [00:01<00:00, 152.58it/s]\n",
      "loss: 2.9628, accuracy: 0.1900:   2%|▏         | 18/1000 [00:00<00:09, 98.27it/s]"
     ]
    },
    {
     "name": "stdout",
     "output_type": "stream",
     "text": [
      "Epoch 35: train_acc_0.1669_train_loss_2.9397_val_acc_0.1673_val_loss_2.9595 epoch time 11.5825 seconds\n",
      "total time6.0 : 56.684398889541626\n"
     ]
    },
    {
     "name": "stderr",
     "output_type": "stream",
     "text": [
      "loss: 3.0176, accuracy: 0.2000: 100%|██████████| 1000/1000 [00:10<00:00, 96.07it/s]\n",
      "loss: 3.0566, accuracy: 0.1300: 100%|██████████| 158/158 [00:01<00:00, 157.52it/s]\n",
      "loss: 2.9197, accuracy: 0.1900:   2%|▏         | 19/1000 [00:00<00:09, 102.44it/s]"
     ]
    },
    {
     "name": "stdout",
     "output_type": "stream",
     "text": [
      "Epoch 36: train_acc_0.1674_train_loss_2.9374_val_acc_0.1651_val_loss_2.9623 epoch time 11.5476 seconds\n",
      "total time7.0 : 8.232022285461426\n"
     ]
    },
    {
     "name": "stderr",
     "output_type": "stream",
     "text": [
      "loss: 3.0554, accuracy: 0.1300: 100%|██████████| 1000/1000 [00:10<00:00, 96.07it/s]\n",
      "loss: 2.9803, accuracy: 0.1100: 100%|██████████| 158/158 [00:01<00:00, 152.28it/s]\n",
      "loss: 2.9164, accuracy: 0.1900:   2%|▏         | 19/1000 [00:00<00:09, 102.45it/s]"
     ]
    },
    {
     "name": "stdout",
     "output_type": "stream",
     "text": [
      "Epoch 37: train_acc_0.1698_train_loss_2.9352_val_acc_0.1646_val_loss_2.9726 epoch time 11.5830 seconds\n",
      "total time7.0 : 19.81497359275818\n"
     ]
    },
    {
     "name": "stderr",
     "output_type": "stream",
     "text": [
      "loss: 2.8616, accuracy: 0.1600: 100%|██████████| 1000/1000 [00:10<00:00, 96.07it/s]\n",
      "loss: 2.9722, accuracy: 0.1700: 100%|██████████| 158/158 [00:01<00:00, 155.95it/s]\n",
      "loss: 3.0259, accuracy: 0.1900:   2%|▏         | 19/1000 [00:00<00:09, 101.01it/s]"
     ]
    },
    {
     "name": "stdout",
     "output_type": "stream",
     "text": [
      "Epoch 38: train_acc_0.1687_train_loss_2.9347_val_acc_0.1627_val_loss_2.9575 epoch time 11.5584 seconds\n",
      "total time7.0 : 31.373414039611816\n"
     ]
    },
    {
     "name": "stderr",
     "output_type": "stream",
     "text": [
      "loss: 3.0752, accuracy: 0.0800: 100%|██████████| 1000/1000 [00:10<00:00, 95.61it/s]\n",
      "loss: 2.9416, accuracy: 0.1500: 100%|██████████| 158/158 [00:01<00:00, 154.59it/s]\n",
      "loss: 2.8572, accuracy: 0.2100:   2%|▏         | 18/1000 [00:00<00:09, 99.48it/s]"
     ]
    },
    {
     "name": "stdout",
     "output_type": "stream",
     "text": [
      "Epoch 39: train_acc_0.1695_train_loss_2.9309_val_acc_0.1668_val_loss_2.9538 epoch time 11.6185 seconds\n",
      "total time7.0 : 42.991923093795776\n"
     ]
    },
    {
     "name": "stderr",
     "output_type": "stream",
     "text": [
      "loss: 2.9446, accuracy: 0.1500: 100%|██████████| 1000/1000 [00:10<00:00, 95.36it/s]\n",
      "loss: 3.0428, accuracy: 0.1900: 100%|██████████| 158/158 [00:01<00:00, 153.84it/s]\n",
      "loss: 2.8849, accuracy: 0.1900:   2%|▏         | 19/1000 [00:00<00:09, 102.21it/s]"
     ]
    },
    {
     "name": "stdout",
     "output_type": "stream",
     "text": [
      "Epoch 40: train_acc_0.1700_train_loss_2.9287_val_acc_0.1644_val_loss_2.9598 epoch time 11.6533 seconds\n",
      "total time7.0 : 54.64525771141052\n"
     ]
    },
    {
     "name": "stderr",
     "output_type": "stream",
     "text": [
      "loss: 2.8293, accuracy: 0.2500: 100%|██████████| 1000/1000 [00:10<00:00, 96.25it/s]\n",
      "loss: 2.9627, accuracy: 0.1700: 100%|██████████| 158/158 [00:01<00:00, 153.32it/s]\n",
      "loss: 2.5996, accuracy: 0.2300:   2%|▏         | 19/1000 [00:00<00:09, 99.84it/s]"
     ]
    },
    {
     "name": "stdout",
     "output_type": "stream",
     "text": [
      "Epoch 41: train_acc_0.1702_train_loss_2.9275_val_acc_0.1657_val_loss_2.9532 epoch time 11.5571 seconds\n",
      "total time8.0 : 6.202355146408081\n"
     ]
    },
    {
     "name": "stderr",
     "output_type": "stream",
     "text": [
      "loss: 2.9672, accuracy: 0.1400: 100%|██████████| 1000/1000 [00:10<00:00, 95.18it/s]\n",
      "loss: 2.8766, accuracy: 0.1500: 100%|██████████| 158/158 [00:01<00:00, 152.66it/s]\n",
      "loss: 2.7365, accuracy: 0.2500:   2%|▏         | 19/1000 [00:00<00:09, 102.65it/s]"
     ]
    },
    {
     "name": "stdout",
     "output_type": "stream",
     "text": [
      "Epoch 42: train_acc_0.1695_train_loss_2.9255_val_acc_0.1645_val_loss_2.9557 epoch time 11.6812 seconds\n",
      "total time8.0 : 17.883559226989746\n"
     ]
    },
    {
     "name": "stderr",
     "output_type": "stream",
     "text": [
      "loss: 2.9289, accuracy: 0.2200: 100%|██████████| 1000/1000 [00:10<00:00, 95.73it/s]\n",
      "loss: 2.9189, accuracy: 0.2200: 100%|██████████| 158/158 [00:01<00:00, 154.10it/s]\n",
      "loss: 2.8138, accuracy: 0.1600:   2%|▏         | 19/1000 [00:00<00:09, 100.04it/s]"
     ]
    },
    {
     "name": "stdout",
     "output_type": "stream",
     "text": [
      "Epoch 43: train_acc_0.1706_train_loss_2.9233_val_acc_0.1639_val_loss_2.9516 epoch time 11.6123 seconds\n",
      "total time8.0 : 29.49581289291382\n"
     ]
    },
    {
     "name": "stderr",
     "output_type": "stream",
     "text": [
      "loss: 2.9207, accuracy: 0.1500: 100%|██████████| 1000/1000 [00:10<00:00, 94.83it/s]\n",
      "loss: 2.9644, accuracy: 0.1500: 100%|██████████| 158/158 [00:01<00:00, 154.69it/s]\n",
      "loss: 2.8739, accuracy: 0.2300:   2%|▏         | 18/1000 [00:00<00:09, 99.35it/s]"
     ]
    },
    {
     "name": "stdout",
     "output_type": "stream",
     "text": [
      "Epoch 44: train_acc_0.1703_train_loss_2.9222_val_acc_0.1663_val_loss_2.9439 epoch time 11.7042 seconds\n",
      "total time8.0 : 41.20004081726074\n"
     ]
    },
    {
     "name": "stderr",
     "output_type": "stream",
     "text": [
      "loss: 2.8953, accuracy: 0.1400: 100%|██████████| 1000/1000 [00:10<00:00, 96.43it/s]\n",
      "loss: 3.0445, accuracy: 0.1800: 100%|██████████| 158/158 [00:01<00:00, 153.57it/s]\n",
      "loss: 3.0695, accuracy: 0.1100:   2%|▏         | 19/1000 [00:00<00:09, 100.66it/s]"
     ]
    },
    {
     "name": "stdout",
     "output_type": "stream",
     "text": [
      "Epoch 45: train_acc_0.1715_train_loss_2.9199_val_acc_0.1666_val_loss_2.9534 epoch time 11.5392 seconds\n",
      "total time8.0 : 52.739261865615845\n"
     ]
    },
    {
     "name": "stderr",
     "output_type": "stream",
     "text": [
      "loss: 2.9009, accuracy: 0.1500: 100%|██████████| 1000/1000 [00:10<00:00, 95.49it/s]\n",
      "loss: 3.0405, accuracy: 0.1600: 100%|██████████| 158/158 [00:01<00:00, 155.94it/s]\n",
      "loss: 2.9067, accuracy: 0.1300:   2%|▏         | 19/1000 [00:00<00:09, 101.98it/s]"
     ]
    },
    {
     "name": "stdout",
     "output_type": "stream",
     "text": [
      "Epoch 46: train_acc_0.1712_train_loss_2.9182_val_acc_0.1681_val_loss_2.9412 epoch time 11.6201 seconds\n",
      "total time9.0 : 4.3593244552612305\n"
     ]
    },
    {
     "name": "stderr",
     "output_type": "stream",
     "text": [
      "loss: 2.8287, accuracy: 0.1900: 100%|██████████| 1000/1000 [00:10<00:00, 95.97it/s]\n",
      "loss: 2.9929, accuracy: 0.1700: 100%|██████████| 158/158 [00:01<00:00, 152.81it/s]\n",
      "loss: 2.7470, accuracy: 0.2200:   2%|▏         | 19/1000 [00:00<00:09, 99.90it/s]"
     ]
    },
    {
     "name": "stdout",
     "output_type": "stream",
     "text": [
      "Epoch 47: train_acc_0.1720_train_loss_2.9174_val_acc_0.1659_val_loss_2.9460 epoch time 11.5954 seconds\n",
      "total time9.0 : 15.954704284667969\n"
     ]
    },
    {
     "name": "stderr",
     "output_type": "stream",
     "text": [
      "loss: 2.7987, accuracy: 0.2100: 100%|██████████| 1000/1000 [00:10<00:00, 94.75it/s]\n",
      "loss: 3.0385, accuracy: 0.1100: 100%|██████████| 158/158 [00:01<00:00, 153.75it/s]\n",
      "loss: 2.8495, accuracy: 0.2300:   2%|▏         | 19/1000 [00:00<00:09, 99.24it/s]"
     ]
    },
    {
     "name": "stdout",
     "output_type": "stream",
     "text": [
      "Epoch 48: train_acc_0.1704_train_loss_2.9159_val_acc_0.1677_val_loss_2.9468 epoch time 11.7184 seconds\n",
      "total time9.0 : 27.67307686805725\n"
     ]
    },
    {
     "name": "stderr",
     "output_type": "stream",
     "text": [
      "loss: 2.9116, accuracy: 0.1400: 100%|██████████| 1000/1000 [00:10<00:00, 96.27it/s]\n",
      "loss: 2.9854, accuracy: 0.1100: 100%|██████████| 158/158 [00:01<00:00, 153.80it/s]\n",
      "loss: 2.7528, accuracy: 0.2000:   2%|▏         | 19/1000 [00:00<00:09, 101.92it/s]"
     ]
    },
    {
     "name": "stdout",
     "output_type": "stream",
     "text": [
      "Epoch 49: train_acc_0.1714_train_loss_2.9129_val_acc_0.1660_val_loss_2.9546 epoch time 11.5532 seconds\n",
      "total time9.0 : 39.22627067565918\n"
     ]
    },
    {
     "name": "stderr",
     "output_type": "stream",
     "text": [
      "loss: 3.0228, accuracy: 0.1500: 100%|██████████| 1000/1000 [00:10<00:00, 95.41it/s]\n",
      "loss: 2.8427, accuracy: 0.1700: 100%|██████████| 158/158 [00:00<00:00, 161.27it/s]\n",
      "loss: 2.9037, accuracy: 0.2000:   2%|▏         | 20/1000 [00:00<00:09, 103.68it/s]"
     ]
    },
    {
     "name": "stdout",
     "output_type": "stream",
     "text": [
      "Epoch 50: train_acc_0.1731_train_loss_2.9118_val_acc_0.1683_val_loss_2.9479 epoch time 11.5980 seconds\n",
      "total time9.0 : 50.82427930831909\n"
     ]
    },
    {
     "name": "stderr",
     "output_type": "stream",
     "text": [
      "loss: 3.0205, accuracy: 0.1700: 100%|██████████| 1000/1000 [00:10<00:00, 96.38it/s]\n",
      "loss: 3.0053, accuracy: 0.1500: 100%|██████████| 158/158 [00:01<00:00, 155.45it/s]\n",
      "loss: 2.9636, accuracy: 0.1900:   2%|▏         | 19/1000 [00:00<00:09, 99.13it/s]"
     ]
    },
    {
     "name": "stdout",
     "output_type": "stream",
     "text": [
      "Epoch 51: train_acc_0.1739_train_loss_2.9119_val_acc_0.1639_val_loss_2.9491 epoch time 11.5304 seconds\n",
      "total time10.0 : 2.354707717895508\n"
     ]
    },
    {
     "name": "stderr",
     "output_type": "stream",
     "text": [
      "loss: 3.0702, accuracy: 0.1600: 100%|██████████| 1000/1000 [00:10<00:00, 95.82it/s]\n",
      "loss: 2.9886, accuracy: 0.1700: 100%|██████████| 158/158 [00:01<00:00, 155.55it/s]\n",
      "loss: 2.7854, accuracy: 0.1700:   2%|▏         | 19/1000 [00:00<00:09, 100.50it/s]"
     ]
    },
    {
     "name": "stdout",
     "output_type": "stream",
     "text": [
      "Epoch 52: train_acc_0.1731_train_loss_2.9099_val_acc_0.1680_val_loss_2.9452 epoch time 11.5914 seconds\n",
      "total time10.0 : 13.946063756942749\n"
     ]
    },
    {
     "name": "stderr",
     "output_type": "stream",
     "text": [
      "loss: 2.9878, accuracy: 0.2200: 100%|██████████| 1000/1000 [00:10<00:00, 96.59it/s]\n",
      "loss: 3.0473, accuracy: 0.2100: 100%|██████████| 158/158 [00:01<00:00, 156.14it/s]\n",
      "loss: 2.9934, accuracy: 0.2000:   2%|▏         | 19/1000 [00:00<00:09, 99.58it/s]"
     ]
    },
    {
     "name": "stdout",
     "output_type": "stream",
     "text": [
      "Epoch 53: train_acc_0.1720_train_loss_2.9091_val_acc_0.1675_val_loss_2.9592 epoch time 11.5000 seconds\n",
      "total time10.0 : 25.446099519729614\n"
     ]
    },
    {
     "name": "stderr",
     "output_type": "stream",
     "text": [
      "loss: 2.6453, accuracy: 0.2800: 100%|██████████| 1000/1000 [00:10<00:00, 96.31it/s]\n",
      "loss: 2.9447, accuracy: 0.1600: 100%|██████████| 158/158 [00:01<00:00, 153.97it/s]\n",
      "loss: 2.7961, accuracy: 0.1600:   2%|▏         | 19/1000 [00:00<00:09, 101.35it/s]"
     ]
    },
    {
     "name": "stdout",
     "output_type": "stream",
     "text": [
      "Epoch 54: train_acc_0.1733_train_loss_2.9080_val_acc_0.1664_val_loss_2.9506 epoch time 11.5457 seconds\n",
      "total time10.0 : 36.99177432060242\n"
     ]
    },
    {
     "name": "stderr",
     "output_type": "stream",
     "text": [
      "loss: 2.9092, accuracy: 0.1600: 100%|██████████| 1000/1000 [00:10<00:00, 96.42it/s]\n",
      "loss: 2.8103, accuracy: 0.2300: 100%|██████████| 158/158 [00:01<00:00, 157.97it/s]\n",
      "loss: 3.0000, accuracy: 0.1600:   2%|▏         | 19/1000 [00:00<00:09, 98.74it/s]"
     ]
    },
    {
     "name": "stdout",
     "output_type": "stream",
     "text": [
      "Epoch 55: train_acc_0.1741_train_loss_2.9059_val_acc_0.1678_val_loss_2.9461 epoch time 11.5059 seconds\n",
      "total time10.0 : 48.49763202667236\n"
     ]
    },
    {
     "name": "stderr",
     "output_type": "stream",
     "text": [
      "loss: 2.9882, accuracy: 0.1900: 100%|██████████| 1000/1000 [00:10<00:00, 95.52it/s]\n",
      "loss: 2.8321, accuracy: 0.1700: 100%|██████████| 158/158 [00:01<00:00, 155.06it/s]\n",
      "loss: 2.8435, accuracy: 0.1300:   2%|▏         | 19/1000 [00:00<00:09, 102.19it/s]"
     ]
    },
    {
     "name": "stdout",
     "output_type": "stream",
     "text": [
      "Epoch 56: train_acc_0.1740_train_loss_2.9053_val_acc_0.1674_val_loss_2.9493 epoch time 11.6239 seconds\n",
      "total time11.0 : 0.12154102325439453\n"
     ]
    },
    {
     "name": "stderr",
     "output_type": "stream",
     "text": [
      "loss: 2.9320, accuracy: 0.2000: 100%|██████████| 1000/1000 [00:10<00:00, 95.95it/s]\n",
      "loss: 3.0284, accuracy: 0.1900: 100%|██████████| 158/158 [00:01<00:00, 157.67it/s]\n",
      "loss: 2.8007, accuracy: 0.1900:   2%|▏         | 19/1000 [00:00<00:09, 100.17it/s]"
     ]
    },
    {
     "name": "stdout",
     "output_type": "stream",
     "text": [
      "Epoch 57: train_acc_0.1733_train_loss_2.9039_val_acc_0.1675_val_loss_2.9453 epoch time 11.5623 seconds\n",
      "total time11.0 : 11.683890104293823\n"
     ]
    },
    {
     "name": "stderr",
     "output_type": "stream",
     "text": [
      "loss: 3.0042, accuracy: 0.1600: 100%|██████████| 1000/1000 [00:10<00:00, 95.54it/s]\n",
      "loss: 2.8574, accuracy: 0.1900: 100%|██████████| 158/158 [00:01<00:00, 155.05it/s]\n",
      "loss: 3.0458, accuracy: 0.1700:   2%|▏         | 19/1000 [00:00<00:09, 100.04it/s]"
     ]
    },
    {
     "name": "stdout",
     "output_type": "stream",
     "text": [
      "Epoch 58: train_acc_0.1751_train_loss_2.9036_val_acc_0.1635_val_loss_2.9437 epoch time 11.6252 seconds\n",
      "total time11.0 : 23.30909490585327\n"
     ]
    },
    {
     "name": "stderr",
     "output_type": "stream",
     "text": [
      "loss: 2.8119, accuracy: 0.1800: 100%|██████████| 1000/1000 [00:10<00:00, 100.14it/s]\n",
      "loss: 2.8567, accuracy: 0.1800: 100%|██████████| 158/158 [00:00<00:00, 159.35it/s]\n",
      "loss: 2.8744, accuracy: 0.1700:   2%|▏         | 19/1000 [00:00<00:09, 101.31it/s]"
     ]
    },
    {
     "name": "stdout",
     "output_type": "stream",
     "text": [
      "Epoch 59: train_acc_0.1740_train_loss_2.9016_val_acc_0.1626_val_loss_2.9524 epoch time 11.6558 seconds\n",
      "total time11.0 : 34.96484851837158\n"
     ]
    },
    {
     "name": "stderr",
     "output_type": "stream",
     "text": [
      "loss: 3.0275, accuracy: 0.1800: 100%|██████████| 1000/1000 [00:10<00:00, 96.22it/s]\n",
      "loss: 3.0054, accuracy: 0.0800: 100%|██████████| 158/158 [00:00<00:00, 159.08it/s]\n",
      "loss: 2.8408, accuracy: 0.1700:   2%|▏         | 19/1000 [00:00<00:09, 100.36it/s]"
     ]
    },
    {
     "name": "stdout",
     "output_type": "stream",
     "text": [
      "Epoch 60: train_acc_0.1755_train_loss_2.8990_val_acc_0.1675_val_loss_2.9394 epoch time 11.5232 seconds\n",
      "total time11.0 : 46.48803353309631\n"
     ]
    },
    {
     "name": "stderr",
     "output_type": "stream",
     "text": [
      "loss: 2.8581, accuracy: 0.1800: 100%|██████████| 1000/1000 [00:10<00:00, 96.08it/s]\n",
      "loss: 2.7888, accuracy: 0.1300: 100%|██████████| 158/158 [00:01<00:00, 153.73it/s]\n",
      "loss: 2.8288, accuracy: 0.1800:   2%|▏         | 19/1000 [00:00<00:09, 99.01it/s]"
     ]
    },
    {
     "name": "stdout",
     "output_type": "stream",
     "text": [
      "Epoch 61: train_acc_0.1764_train_loss_2.8995_val_acc_0.1646_val_loss_2.9530 epoch time 11.5754 seconds\n",
      "total time11.0 : 58.06342887878418\n"
     ]
    },
    {
     "name": "stderr",
     "output_type": "stream",
     "text": [
      "loss: 2.8349, accuracy: 0.1600: 100%|██████████| 1000/1000 [00:10<00:00, 94.69it/s]\n",
      "loss: 2.9507, accuracy: 0.1800: 100%|██████████| 158/158 [00:01<00:00, 153.83it/s]\n",
      "loss: 2.8240, accuracy: 0.2200:   2%|▏         | 19/1000 [00:00<00:09, 104.54it/s]"
     ]
    },
    {
     "name": "stdout",
     "output_type": "stream",
     "text": [
      "Epoch 62: train_acc_0.1760_train_loss_2.8977_val_acc_0.1661_val_loss_2.9472 epoch time 11.7274 seconds\n",
      "total time12.0 : 9.79079294204712\n"
     ]
    },
    {
     "name": "stderr",
     "output_type": "stream",
     "text": [
      "loss: 2.8363, accuracy: 0.1800: 100%|██████████| 1000/1000 [00:10<00:00, 96.04it/s]\n",
      "loss: 2.8266, accuracy: 0.2000: 100%|██████████| 158/158 [00:01<00:00, 156.55it/s]\n",
      "loss: 2.8737, accuracy: 0.1800:   2%|▏         | 18/1000 [00:00<00:09, 100.81it/s]"
     ]
    },
    {
     "name": "stdout",
     "output_type": "stream",
     "text": [
      "Epoch 63: train_acc_0.1757_train_loss_2.8987_val_acc_0.1676_val_loss_2.9417 epoch time 11.5609 seconds\n",
      "total time12.0 : 21.35169768333435\n"
     ]
    },
    {
     "name": "stderr",
     "output_type": "stream",
     "text": [
      "loss: 3.0146, accuracy: 0.1800: 100%|██████████| 1000/1000 [00:10<00:00, 94.80it/s]\n",
      "loss: 2.9917, accuracy: 0.1900: 100%|██████████| 158/158 [00:01<00:00, 152.95it/s]\n",
      "loss: 2.7311, accuracy: 0.2000:   2%|▏         | 19/1000 [00:00<00:09, 98.80it/s]"
     ]
    },
    {
     "name": "stdout",
     "output_type": "stream",
     "text": [
      "Epoch 64: train_acc_0.1761_train_loss_2.8970_val_acc_0.1663_val_loss_2.9446 epoch time 11.7218 seconds\n",
      "total time12.0 : 33.0735125541687\n"
     ]
    },
    {
     "name": "stderr",
     "output_type": "stream",
     "text": [
      "loss: 2.8522, accuracy: 0.1700: 100%|██████████| 1000/1000 [00:10<00:00, 95.51it/s]\n",
      "loss: 2.9560, accuracy: 0.1600: 100%|██████████| 158/158 [00:01<00:00, 152.16it/s]\n",
      "loss: 2.9991, accuracy: 0.1000:   2%|▏         | 19/1000 [00:00<00:09, 101.58it/s]"
     ]
    },
    {
     "name": "stdout",
     "output_type": "stream",
     "text": [
      "Epoch 65: train_acc_0.1760_train_loss_2.8947_val_acc_0.1646_val_loss_2.9476 epoch time 11.6458 seconds\n",
      "total time12.0 : 44.71926832199097\n"
     ]
    },
    {
     "name": "stderr",
     "output_type": "stream",
     "text": [
      "loss: 2.9376, accuracy: 0.0900: 100%|██████████| 1000/1000 [00:10<00:00, 95.16it/s]\n",
      "loss: 2.9229, accuracy: 0.1900: 100%|██████████| 158/158 [00:01<00:00, 156.94it/s]\n",
      "loss: 2.6494, accuracy: 0.2600:   2%|▏         | 18/1000 [00:00<00:09, 99.72it/s]"
     ]
    },
    {
     "name": "stdout",
     "output_type": "stream",
     "text": [
      "Epoch 66: train_acc_0.1758_train_loss_2.8939_val_acc_0.1672_val_loss_2.9432 epoch time 11.6568 seconds\n",
      "total time12.0 : 56.37608814239502\n"
     ]
    },
    {
     "name": "stderr",
     "output_type": "stream",
     "text": [
      "loss: 2.9694, accuracy: 0.1300: 100%|██████████| 1000/1000 [00:10<00:00, 99.71it/s]\n",
      "loss: 2.8611, accuracy: 0.2000: 100%|██████████| 158/158 [00:01<00:00, 154.07it/s]\n",
      "loss: 2.8885, accuracy: 0.1700:   2%|▏         | 19/1000 [00:00<00:09, 101.62it/s]"
     ]
    },
    {
     "name": "stdout",
     "output_type": "stream",
     "text": [
      "Epoch 67: train_acc_0.1767_train_loss_2.8930_val_acc_0.1659_val_loss_2.9433 epoch time 11.6061 seconds\n",
      "total time13.0 : 7.982165575027466\n"
     ]
    },
    {
     "name": "stderr",
     "output_type": "stream",
     "text": [
      "loss: 3.0403, accuracy: 0.1100: 100%|██████████| 1000/1000 [00:10<00:00, 97.74it/s]\n",
      "loss: 3.0012, accuracy: 0.1900: 100%|██████████| 158/158 [00:01<00:00, 152.88it/s]\n",
      "loss: 2.8271, accuracy: 0.1500:   2%|▏         | 19/1000 [00:00<00:09, 100.73it/s]"
     ]
    },
    {
     "name": "stdout",
     "output_type": "stream",
     "text": [
      "Epoch 68: train_acc_0.1759_train_loss_2.8918_val_acc_0.1651_val_loss_2.9521 epoch time 11.6594 seconds\n",
      "total time13.0 : 19.64153289794922\n"
     ]
    },
    {
     "name": "stderr",
     "output_type": "stream",
     "text": [
      "loss: 2.7685, accuracy: 0.1800: 100%|██████████| 1000/1000 [00:10<00:00, 95.93it/s]\n",
      "loss: 2.8212, accuracy: 0.1500: 100%|██████████| 158/158 [00:00<00:00, 159.25it/s]\n",
      "loss: 2.8315, accuracy: 0.1500:   2%|▏         | 19/1000 [00:00<00:09, 100.90it/s]"
     ]
    },
    {
     "name": "stdout",
     "output_type": "stream",
     "text": [
      "Epoch 69: train_acc_0.1767_train_loss_2.8913_val_acc_0.1653_val_loss_2.9479 epoch time 11.5535 seconds\n",
      "total time13.0 : 31.195037603378296\n"
     ]
    },
    {
     "name": "stderr",
     "output_type": "stream",
     "text": [
      "loss: 2.8575, accuracy: 0.2000: 100%|██████████| 1000/1000 [00:10<00:00, 96.82it/s] \n",
      "loss: 3.1682, accuracy: 0.1300: 100%|██████████| 158/158 [00:00<00:00, 158.58it/s]\n",
      "loss: 2.9248, accuracy: 0.1800:   2%|▏         | 19/1000 [00:00<00:09, 101.21it/s]"
     ]
    },
    {
     "name": "stdout",
     "output_type": "stream",
     "text": [
      "Epoch 70: train_acc_0.1774_train_loss_2.8907_val_acc_0.1673_val_loss_2.9512 epoch time 11.4627 seconds\n",
      "total time13.0 : 42.65774726867676\n"
     ]
    },
    {
     "name": "stderr",
     "output_type": "stream",
     "text": [
      "loss: 2.6433, accuracy: 0.2200: 100%|██████████| 1000/1000 [00:10<00:00, 96.14it/s]\n",
      "loss: 2.8743, accuracy: 0.1800: 100%|██████████| 158/158 [00:01<00:00, 152.60it/s]\n",
      "loss: 2.9119, accuracy: 0.1500:   2%|▏         | 19/1000 [00:00<00:09, 101.84it/s]"
     ]
    },
    {
     "name": "stdout",
     "output_type": "stream",
     "text": [
      "Epoch 71: train_acc_0.1780_train_loss_2.8894_val_acc_0.1677_val_loss_2.9371 epoch time 11.5780 seconds\n",
      "total time13.0 : 54.235777854919434\n"
     ]
    },
    {
     "name": "stderr",
     "output_type": "stream",
     "text": [
      "loss: 2.8535, accuracy: 0.2600: 100%|██████████| 1000/1000 [00:10<00:00, 95.13it/s]\n",
      "loss: 2.9193, accuracy: 0.1700: 100%|██████████| 158/158 [00:01<00:00, 156.17it/s]\n",
      "loss: 2.8036, accuracy: 0.2100:   2%|▏         | 19/1000 [00:00<00:09, 102.53it/s]"
     ]
    },
    {
     "name": "stdout",
     "output_type": "stream",
     "text": [
      "Epoch 72: train_acc_0.1773_train_loss_2.8877_val_acc_0.1708_val_loss_2.9436 epoch time 11.6589 seconds\n",
      "total time14.0 : 5.89465594291687\n"
     ]
    },
    {
     "name": "stderr",
     "output_type": "stream",
     "text": [
      "loss: 2.8613, accuracy: 0.1200: 100%|██████████| 1000/1000 [00:10<00:00, 96.80it/s]\n",
      "loss: 2.9311, accuracy: 0.1500: 100%|██████████| 158/158 [00:00<00:00, 159.13it/s]\n",
      "loss: 3.1383, accuracy: 0.1600:   2%|▏         | 19/1000 [00:00<00:09, 101.40it/s]"
     ]
    },
    {
     "name": "stdout",
     "output_type": "stream",
     "text": [
      "Epoch 73: train_acc_0.1785_train_loss_2.8869_val_acc_0.1680_val_loss_2.9400 epoch time 11.4631 seconds\n",
      "total time14.0 : 17.357783555984497\n"
     ]
    },
    {
     "name": "stderr",
     "output_type": "stream",
     "text": [
      "loss: 2.8626, accuracy: 0.2600: 100%|██████████| 1000/1000 [00:10<00:00, 95.86it/s]\n",
      "loss: 2.9041, accuracy: 0.1800: 100%|██████████| 158/158 [00:01<00:00, 153.82it/s]\n",
      "loss: 2.8920, accuracy: 0.1900:   2%|▏         | 19/1000 [00:00<00:09, 100.09it/s]"
     ]
    },
    {
     "name": "stdout",
     "output_type": "stream",
     "text": [
      "Epoch 74: train_acc_0.1805_train_loss_2.8867_val_acc_0.1682_val_loss_2.9482 epoch time 11.5940 seconds\n",
      "total time14.0 : 28.951783180236816\n"
     ]
    },
    {
     "name": "stderr",
     "output_type": "stream",
     "text": [
      "loss: 2.7510, accuracy: 0.1800: 100%|██████████| 1000/1000 [00:10<00:00, 98.88it/s]\n",
      "loss: 2.7921, accuracy: 0.1600: 100%|██████████| 158/158 [00:01<00:00, 155.72it/s]\n",
      "loss: 2.9477, accuracy: 0.1600:   2%|▏         | 19/1000 [00:00<00:09, 102.09it/s]"
     ]
    },
    {
     "name": "stdout",
     "output_type": "stream",
     "text": [
      "Epoch 75: train_acc_0.1778_train_loss_2.8862_val_acc_0.1673_val_loss_2.9425 epoch time 11.5125 seconds\n",
      "total time14.0 : 40.464324951171875\n"
     ]
    },
    {
     "name": "stderr",
     "output_type": "stream",
     "text": [
      "loss: 2.9525, accuracy: 0.1900: 100%|██████████| 1000/1000 [00:10<00:00, 96.28it/s]\n",
      "loss: 3.0249, accuracy: 0.1400: 100%|██████████| 158/158 [00:01<00:00, 156.92it/s]\n",
      "loss: 2.9128, accuracy: 0.2500:   2%|▏         | 18/1000 [00:00<00:10, 97.73it/s]"
     ]
    },
    {
     "name": "stdout",
     "output_type": "stream",
     "text": [
      "Epoch 76: train_acc_0.1780_train_loss_2.8842_val_acc_0.1704_val_loss_2.9408 epoch time 11.5353 seconds\n",
      "total time14.0 : 51.999577045440674\n"
     ]
    },
    {
     "name": "stderr",
     "output_type": "stream",
     "text": [
      "loss: 2.8865, accuracy: 0.1300: 100%|██████████| 1000/1000 [00:10<00:00, 98.58it/s]\n",
      "loss: 2.8275, accuracy: 0.1800: 100%|██████████| 158/158 [00:01<00:00, 152.31it/s]\n",
      "loss: 2.7399, accuracy: 0.1900:   2%|▏         | 19/1000 [00:00<00:09, 99.17it/s]"
     ]
    },
    {
     "name": "stdout",
     "output_type": "stream",
     "text": [
      "Epoch 77: train_acc_0.1780_train_loss_2.8843_val_acc_0.1675_val_loss_2.9408 epoch time 11.5700 seconds\n",
      "total time15.0 : 3.5695924758911133\n"
     ]
    },
    {
     "name": "stderr",
     "output_type": "stream",
     "text": [
      "loss: 2.9484, accuracy: 0.2000: 100%|██████████| 1000/1000 [00:10<00:00, 95.34it/s]\n",
      "loss: 3.0318, accuracy: 0.1500: 100%|██████████| 158/158 [00:01<00:00, 152.63it/s]\n",
      "loss: 2.8355, accuracy: 0.2200:   2%|▏         | 19/1000 [00:00<00:09, 102.43it/s]"
     ]
    },
    {
     "name": "stdout",
     "output_type": "stream",
     "text": [
      "Epoch 78: train_acc_0.1795_train_loss_2.8836_val_acc_0.1708_val_loss_2.9389 epoch time 11.6616 seconds\n",
      "total time15.0 : 15.231216669082642\n"
     ]
    },
    {
     "name": "stderr",
     "output_type": "stream",
     "text": [
      "loss: 2.9557, accuracy: 0.1700: 100%|██████████| 1000/1000 [00:10<00:00, 95.80it/s]\n",
      "loss: 2.7525, accuracy: 0.2400: 100%|██████████| 158/158 [00:01<00:00, 152.93it/s]\n",
      "loss: 2.9538, accuracy: 0.1400:   2%|▏         | 18/1000 [00:00<00:09, 98.72it/s]"
     ]
    },
    {
     "name": "stdout",
     "output_type": "stream",
     "text": [
      "Epoch 79: train_acc_0.1793_train_loss_2.8823_val_acc_0.1703_val_loss_2.9456 epoch time 11.6134 seconds\n",
      "total time15.0 : 26.84463357925415\n"
     ]
    },
    {
     "name": "stderr",
     "output_type": "stream",
     "text": [
      "loss: 2.8231, accuracy: 0.1300: 100%|██████████| 1000/1000 [00:10<00:00, 96.03it/s]\n",
      "loss: 2.9794, accuracy: 0.1800: 100%|██████████| 158/158 [00:01<00:00, 154.60it/s]\n",
      "loss: 2.9511, accuracy: 0.1900:   2%|▏         | 19/1000 [00:00<00:09, 103.39it/s]"
     ]
    },
    {
     "name": "stdout",
     "output_type": "stream",
     "text": [
      "Epoch 80: train_acc_0.1797_train_loss_2.8811_val_acc_0.1675_val_loss_2.9440 epoch time 11.5770 seconds\n",
      "total time15.0 : 38.421605825424194\n"
     ]
    },
    {
     "name": "stderr",
     "output_type": "stream",
     "text": [
      "loss: 2.7743, accuracy: 0.2000: 100%|██████████| 1000/1000 [00:10<00:00, 96.06it/s]\n",
      "loss: 2.7168, accuracy: 0.1600: 100%|██████████| 158/158 [00:01<00:00, 156.52it/s]\n",
      "loss: 2.8081, accuracy: 0.2000:   2%|▏         | 19/1000 [00:00<00:09, 100.35it/s]"
     ]
    },
    {
     "name": "stdout",
     "output_type": "stream",
     "text": [
      "Epoch 81: train_acc_0.1802_train_loss_2.8808_val_acc_0.1699_val_loss_2.9371 epoch time 11.5558 seconds\n",
      "total time15.0 : 49.97740030288696\n"
     ]
    },
    {
     "name": "stderr",
     "output_type": "stream",
     "text": [
      "loss: 2.9695, accuracy: 0.1200: 100%|██████████| 1000/1000 [00:10<00:00, 96.15it/s]\n",
      "loss: 2.8215, accuracy: 0.1300: 100%|██████████| 158/158 [00:01<00:00, 157.47it/s]\n",
      "loss: 2.8910, accuracy: 0.1800:   2%|▏         | 19/1000 [00:00<00:09, 103.87it/s]"
     ]
    },
    {
     "name": "stdout",
     "output_type": "stream",
     "text": [
      "Epoch 82: train_acc_0.1796_train_loss_2.8803_val_acc_0.1710_val_loss_2.9437 epoch time 11.5394 seconds\n",
      "total time16.0 : 1.516817569732666\n"
     ]
    },
    {
     "name": "stderr",
     "output_type": "stream",
     "text": [
      "loss: 2.9143, accuracy: 0.1800: 100%|██████████| 1000/1000 [00:10<00:00, 95.92it/s]\n",
      "loss: 2.6435, accuracy: 0.1800: 100%|██████████| 158/158 [00:00<00:00, 159.91it/s]\n",
      "loss: 2.9158, accuracy: 0.1800:   2%|▏         | 19/1000 [00:00<00:09, 101.51it/s]"
     ]
    },
    {
     "name": "stdout",
     "output_type": "stream",
     "text": [
      "Epoch 83: train_acc_0.1801_train_loss_2.8788_val_acc_0.1655_val_loss_2.9461 epoch time 11.5509 seconds\n",
      "total time16.0 : 13.067698955535889\n"
     ]
    },
    {
     "name": "stderr",
     "output_type": "stream",
     "text": [
      "loss: 2.9129, accuracy: 0.1900: 100%|██████████| 1000/1000 [00:10<00:00, 96.24it/s]\n",
      "loss: 2.9177, accuracy: 0.1400: 100%|██████████| 158/158 [00:01<00:00, 154.52it/s]\n",
      "loss: 3.1544, accuracy: 0.1400:   2%|▏         | 19/1000 [00:00<00:09, 101.97it/s]"
     ]
    },
    {
     "name": "stdout",
     "output_type": "stream",
     "text": [
      "Epoch 84: train_acc_0.1799_train_loss_2.8776_val_acc_0.1662_val_loss_2.9392 epoch time 11.5489 seconds\n",
      "total time16.0 : 24.616642236709595\n"
     ]
    },
    {
     "name": "stderr",
     "output_type": "stream",
     "text": [
      "loss: 3.1455, accuracy: 0.0700: 100%|██████████| 1000/1000 [00:10<00:00, 96.29it/s]\n",
      "loss: 3.0751, accuracy: 0.1500: 100%|██████████| 158/158 [00:01<00:00, 151.59it/s]\n",
      "loss: 2.8749, accuracy: 0.1700:   2%|▏         | 18/1000 [00:00<00:10, 98.19it/s]"
     ]
    },
    {
     "name": "stdout",
     "output_type": "stream",
     "text": [
      "Epoch 85: train_acc_0.1805_train_loss_2.8762_val_acc_0.1673_val_loss_2.9444 epoch time 11.5681 seconds\n",
      "total time16.0 : 36.18470525741577\n"
     ]
    },
    {
     "name": "stderr",
     "output_type": "stream",
     "text": [
      "loss: 2.8183, accuracy: 0.2100: 100%|██████████| 1000/1000 [00:10<00:00, 95.43it/s]\n",
      "loss: 2.8549, accuracy: 0.1700: 100%|██████████| 158/158 [00:01<00:00, 153.99it/s]\n",
      "loss: 2.6161, accuracy: 0.2800:   2%|▏         | 19/1000 [00:00<00:09, 104.68it/s]"
     ]
    },
    {
     "name": "stdout",
     "output_type": "stream",
     "text": [
      "Epoch 86: train_acc_0.1804_train_loss_2.8756_val_acc_0.1678_val_loss_2.9402 epoch time 11.6463 seconds\n",
      "total time16.0 : 47.830976247787476\n"
     ]
    },
    {
     "name": "stderr",
     "output_type": "stream",
     "text": [
      "loss: 2.8375, accuracy: 0.1800: 100%|██████████| 1000/1000 [00:10<00:00, 96.07it/s]\n",
      "loss: 3.1734, accuracy: 0.1300: 100%|██████████| 158/158 [00:01<00:00, 156.34it/s]\n",
      "loss: 2.9440, accuracy: 0.1900:   2%|▏         | 19/1000 [00:00<00:09, 102.02it/s]"
     ]
    },
    {
     "name": "stdout",
     "output_type": "stream",
     "text": [
      "Epoch 87: train_acc_0.1801_train_loss_2.8759_val_acc_0.1684_val_loss_2.9422 epoch time 11.5568 seconds\n",
      "total time16.0 : 59.38779354095459\n"
     ]
    },
    {
     "name": "stderr",
     "output_type": "stream",
     "text": [
      "loss: 3.0454, accuracy: 0.1600: 100%|██████████| 1000/1000 [00:10<00:00, 99.30it/s]\n",
      "loss: 3.1430, accuracy: 0.1200: 100%|██████████| 158/158 [00:01<00:00, 157.49it/s]\n",
      "loss: 2.8663, accuracy: 0.1800:   2%|▏         | 19/1000 [00:00<00:09, 102.17it/s]"
     ]
    },
    {
     "name": "stdout",
     "output_type": "stream",
     "text": [
      "Epoch 88: train_acc_0.1808_train_loss_2.8750_val_acc_0.1682_val_loss_2.9365 epoch time 11.6357 seconds\n",
      "total time17.0 : 11.023443937301636\n"
     ]
    },
    {
     "name": "stderr",
     "output_type": "stream",
     "text": [
      "loss: 2.9835, accuracy: 0.0900: 100%|██████████| 1000/1000 [00:10<00:00, 96.26it/s]\n",
      "loss: 2.9821, accuracy: 0.1900: 100%|██████████| 158/158 [00:01<00:00, 154.90it/s]\n",
      "loss: 3.0214, accuracy: 0.1500:   2%|▏         | 19/1000 [00:00<00:09, 99.78it/s]"
     ]
    },
    {
     "name": "stdout",
     "output_type": "stream",
     "text": [
      "Epoch 89: train_acc_0.1806_train_loss_2.8743_val_acc_0.1684_val_loss_2.9426 epoch time 11.5496 seconds\n",
      "total time17.0 : 22.573040008544922\n"
     ]
    },
    {
     "name": "stderr",
     "output_type": "stream",
     "text": [
      "loss: 2.9905, accuracy: 0.1700: 100%|██████████| 1000/1000 [00:10<00:00, 94.82it/s]\n",
      "loss: 3.0066, accuracy: 0.1300: 100%|██████████| 158/158 [00:00<00:00, 158.98it/s]\n",
      "loss: 2.8850, accuracy: 0.1900:   2%|▏         | 19/1000 [00:00<00:09, 100.50it/s]"
     ]
    },
    {
     "name": "stdout",
     "output_type": "stream",
     "text": [
      "Epoch 90: train_acc_0.1813_train_loss_2.8738_val_acc_0.1679_val_loss_2.9420 epoch time 11.7454 seconds\n",
      "total time17.0 : 34.31844663619995\n"
     ]
    },
    {
     "name": "stderr",
     "output_type": "stream",
     "text": [
      "loss: 2.8564, accuracy: 0.1600: 100%|██████████| 1000/1000 [00:10<00:00, 95.86it/s]\n",
      "loss: 2.8978, accuracy: 0.1800: 100%|██████████| 158/158 [00:01<00:00, 153.57it/s]\n",
      "loss: 2.8468, accuracy: 0.2100:   2%|▏         | 19/1000 [00:00<00:09, 98.54it/s]"
     ]
    },
    {
     "name": "stdout",
     "output_type": "stream",
     "text": [
      "Epoch 91: train_acc_0.1808_train_loss_2.8740_val_acc_0.1675_val_loss_2.9468 epoch time 11.6027 seconds\n",
      "total time17.0 : 45.92113184928894\n"
     ]
    },
    {
     "name": "stderr",
     "output_type": "stream",
     "text": [
      "loss: 2.9692, accuracy: 0.1400: 100%|██████████| 1000/1000 [00:10<00:00, 94.69it/s]\n",
      "loss: 2.8737, accuracy: 0.2300: 100%|██████████| 158/158 [00:01<00:00, 152.69it/s]\n",
      "loss: 2.8870, accuracy: 0.2100:   2%|▏         | 19/1000 [00:00<00:09, 99.93it/s]"
     ]
    },
    {
     "name": "stdout",
     "output_type": "stream",
     "text": [
      "Epoch 92: train_acc_0.1806_train_loss_2.8722_val_acc_0.1719_val_loss_2.9383 epoch time 11.7310 seconds\n",
      "total time17.0 : 57.652093172073364\n"
     ]
    },
    {
     "name": "stderr",
     "output_type": "stream",
     "text": [
      "loss: 2.7883, accuracy: 0.2000: 100%|██████████| 1000/1000 [00:10<00:00, 95.92it/s]\n",
      "loss: 2.9394, accuracy: 0.1500: 100%|██████████| 158/158 [00:01<00:00, 151.93it/s]\n",
      "loss: 2.9125, accuracy: 0.1800:   2%|▏         | 19/1000 [00:00<00:09, 99.44it/s]"
     ]
    },
    {
     "name": "stdout",
     "output_type": "stream",
     "text": [
      "Epoch 93: train_acc_0.1820_train_loss_2.8718_val_acc_0.1703_val_loss_2.9387 epoch time 11.6035 seconds\n",
      "total time18.0 : 9.255582571029663\n"
     ]
    },
    {
     "name": "stderr",
     "output_type": "stream",
     "text": [
      "loss: 3.0952, accuracy: 0.1500: 100%|██████████| 1000/1000 [00:10<00:00, 95.33it/s]\n",
      "loss: 2.9700, accuracy: 0.1600: 100%|██████████| 158/158 [00:01<00:00, 153.35it/s]\n",
      "loss: 2.8882, accuracy: 0.2200:   2%|▏         | 19/1000 [00:00<00:09, 104.41it/s]"
     ]
    },
    {
     "name": "stdout",
     "output_type": "stream",
     "text": [
      "Epoch 94: train_acc_0.1805_train_loss_2.8722_val_acc_0.1698_val_loss_2.9372 epoch time 11.6597 seconds\n",
      "total time18.0 : 20.91524386405945\n"
     ]
    },
    {
     "name": "stderr",
     "output_type": "stream",
     "text": [
      "loss: 2.6956, accuracy: 0.1800: 100%|██████████| 1000/1000 [00:10<00:00, 96.21it/s]\n",
      "loss: 2.8460, accuracy: 0.1800: 100%|██████████| 158/158 [00:01<00:00, 154.60it/s]\n",
      "loss: 2.8501, accuracy: 0.1900:   2%|▏         | 19/1000 [00:00<00:09, 99.56it/s]"
     ]
    },
    {
     "name": "stdout",
     "output_type": "stream",
     "text": [
      "Epoch 95: train_acc_0.1818_train_loss_2.8708_val_acc_0.1704_val_loss_2.9378 epoch time 11.5557 seconds\n",
      "total time18.0 : 32.470932960510254\n"
     ]
    },
    {
     "name": "stderr",
     "output_type": "stream",
     "text": [
      "loss: 2.8655, accuracy: 0.2100: 100%|██████████| 1000/1000 [00:10<00:00, 98.22it/s]\n",
      "loss: 3.1542, accuracy: 0.1200: 100%|██████████| 158/158 [00:01<00:00, 153.56it/s]\n",
      "loss: 2.9131, accuracy: 0.1600:   2%|▏         | 19/1000 [00:00<00:09, 101.45it/s]"
     ]
    },
    {
     "name": "stdout",
     "output_type": "stream",
     "text": [
      "Epoch 96: train_acc_0.1797_train_loss_2.8704_val_acc_0.1705_val_loss_2.9440 epoch time 11.5976 seconds\n",
      "total time18.0 : 44.068496227264404\n"
     ]
    },
    {
     "name": "stderr",
     "output_type": "stream",
     "text": [
      "loss: 2.5715, accuracy: 0.3100: 100%|██████████| 1000/1000 [00:10<00:00, 96.10it/s]\n",
      "loss: 2.9405, accuracy: 0.1800: 100%|██████████| 158/158 [00:01<00:00, 154.67it/s]\n",
      "loss: 2.8295, accuracy: 0.1800:   2%|▏         | 19/1000 [00:00<00:09, 99.88it/s]"
     ]
    },
    {
     "name": "stdout",
     "output_type": "stream",
     "text": [
      "Epoch 97: train_acc_0.1821_train_loss_2.8695_val_acc_0.1675_val_loss_2.9358 epoch time 11.5653 seconds\n",
      "total time18.0 : 55.63382363319397\n"
     ]
    },
    {
     "name": "stderr",
     "output_type": "stream",
     "text": [
      "loss: 2.7830, accuracy: 0.1000: 100%|██████████| 1000/1000 [00:10<00:00, 96.08it/s]\n",
      "loss: 2.9617, accuracy: 0.1600: 100%|██████████| 158/158 [00:01<00:00, 156.62it/s]\n",
      "loss: 2.8752, accuracy: 0.2000:   2%|▏         | 19/1000 [00:00<00:09, 99.22it/s]"
     ]
    },
    {
     "name": "stdout",
     "output_type": "stream",
     "text": [
      "Epoch 98: train_acc_0.1822_train_loss_2.8686_val_acc_0.1707_val_loss_2.9499 epoch time 11.5556 seconds\n",
      "total time19.0 : 7.189469337463379\n"
     ]
    },
    {
     "name": "stderr",
     "output_type": "stream",
     "text": [
      "loss: 2.9774, accuracy: 0.2100: 100%|██████████| 1000/1000 [00:10<00:00, 96.51it/s]\n",
      "loss: 2.9013, accuracy: 0.1900: 100%|██████████| 158/158 [00:01<00:00, 156.87it/s]\n",
      "loss: 2.8632, accuracy: 0.2200:  21%|██        | 33/158 [00:00<00:00, 172.18it/s]"
     ]
    },
    {
     "name": "stdout",
     "output_type": "stream",
     "text": [
      "Epoch 99: train_acc_0.1822_train_loss_2.8681_val_acc_0.1658_val_loss_2.9418 epoch time 11.5040 seconds\n",
      "total time19.0 : 18.693445920944214\n",
      "Generating test set evaluation metrics\n"
     ]
    },
    {
     "name": "stderr",
     "output_type": "stream",
     "text": [
      "loss: 2.8954, accuracy: 0.2100: 100%|██████████| 158/158 [00:01<00:00, 157.73it/s]\n"
     ]
    },
    {
     "name": "stdout",
     "output_type": "stream",
     "text": [
      "finish\n"
     ]
    },
    {
     "data": {
      "image/png": "[encoded data removed]",
      "text/plain": [
       "<Figure size 576x288 with 1 Axes>"
      ]
     },
     "metadata": {
      "needs_background": "light"
     },
     "output_type": "display_data"
    },
    {
     "data": {
      "image/png": "[encoded data removed]",
      "text/plain": [
       "<Figure size 576x288 with 1 Axes>"
      ]
     },
     "metadata": {
      "needs_background": "light"
     },
     "output_type": "display_data"
    }
   ],
   "source": [
    "batch_size = 100\n",
    "image_num_channels = 1\n",
    "image_height = 28\n",
    "image_width = 28\n",
    "dim_reduction_idx = [2,2,2]\n",
    "strides = [2,3,4]\n",
    "dim_reduction_type = ['strided_convolution', 'dilated_convolution', 'max_pooling', 'avg_pooling']\n",
    "num_filters = 64\n",
    "num_layers = 4\n",
    "experiment_name = []\n",
    "for stride in strides:\n",
    "    experiment_name.append(\"strided_convolution_maxpooling_{}\".format(stride))\n",
    "num_epochs = 100\n",
    "weight_decay_coefficient = 1e-05\n",
    "seed = 9112018\n",
    "use_gpu = True\n",
    "\n",
    "rng = np.random.RandomState(seed=seed)\n",
    "train_data = data_providers.EMNISTDataProvider('train', batch_size=batch_size, rng=rng)\n",
    "val_data = data_providers.EMNISTDataProvider('valid', batch_size=batch_size, rng=rng)\n",
    "test_data = data_providers.EMNISTDataProvider('test', batch_size=batch_size, rng=rng)\n",
    "\n",
    "for reduction_idx,experiment,stride in zip(dim_reduction_idx,experiment_name,strides):\n",
    "    \n",
    "    custom_conv_net = ConvolutionalNetwork(\n",
    "        input_shape=(batch_size, image_num_channels, image_height, image_width),\n",
    "        dim_reduction_type=dim_reduction_type[reduction_idx],\n",
    "        num_output_classes=47, num_filters=num_filters, num_layers=num_layers, use_bias=True,stride=stride)\n",
    "\n",
    "    conv_experiment = ExperimentBuilder(network_model=custom_conv_net,\n",
    "                                    experiment_name=experiment,\n",
    "                                    num_epochs=num_epochs,\n",
    "                                    weight_decay_coefficient=weight_decay_coefficient,\n",
    "                                    use_gpu=use_gpu,\n",
    "                                    train_data=train_data, val_data=val_data, test_data=test_data)\n",
    "    print(custom_conv_net)\n",
    "    total_losses = conv_experiment.run_experiment()\n",
    "    print('finish')\n",
    "    plot_stats_in_graph(total_losses[0])"
   ]
  },
  {
   "cell_type": "code",
   "execution_count": null,
   "metadata": {},
   "outputs": [],
   "source": []
  }
 ],
 "metadata": {
  "kernelspec": {
   "display_name": "Python 3",
   "language": "python",
   "name": "python3"
  },
  "language_info": {
   "codemirror_mode": {
    "name": "ipython",
    "version": 3
   },
   "file_extension": ".py",
   "mimetype": "text/x-python",
   "name": "python",
   "nbconvert_exporter": "python",
   "pygments_lexer": "ipython3",
   "version": "3.7.0"
  }
 },
 "nbformat": 4,
 "nbformat_minor": 2
}
